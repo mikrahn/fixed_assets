{
 "cells": [
  {
   "cell_type": "code",
   "execution_count": 2,
   "metadata": {},
   "outputs": [],
   "source": [
    "import pandas as pd\n",
    "import numpy as np\n",
    "pd.set_option(\"display.expand_frame_repr\", False)\n",
    "pd.set_option(\"display.max_row\", 500)\n",
    "pd.set_option('display.max.columns', None)\n",
    "pd.set_option('display.precision', 2)\n",
    "pd.options.display.float_format = '${:,.2f}'.format\n",
    "from datetime import date, time, datetime, timedelta\n",
    "import dateutil\n",
    "from dateutil.relativedelta import relativedelta\n",
    "\n",
    "import matplotlib.pyplot as plt"
   ]
  },
  {
   "cell_type": "markdown",
   "metadata": {},
   "source": [
    "## Nyack CBIZ report import / cleanup"
   ]
  },
  {
   "cell_type": "code",
   "execution_count": 3,
   "metadata": {},
   "outputs": [],
   "source": [
    "nyack_cbiz_report = pd.read_csv(r\"C:\\Users\\Michael\\OneDrive\\Documents\\Work\\conversion\\SIT3\\sit3_environment\\fixed_assets\\source_files_2021\\nyack\\Montefiore Nyack Hospital-Revalued 2021 Masterfile_D.csv\",\n",
    "                         \n",
    "                          usecols=['Asset Display Id', 'Asset Activity Code', 'Asset Tag Number',\n",
    "                                   'Account', 'Asset Class', 'Department Number',\n",
    "                                   'Department', 'Site Name', 'Building Name', 'Quantity', 'Asset Description',\n",
    "                                    'Acquisition Date','Historical Cost', 'Life Months', 'Period Depreciation',\n",
    "                                   'Accumulated Depreciation', 'Net Book Value'], )\n",
    "\n"
   ]
  },
  {
   "cell_type": "code",
   "execution_count": 8,
   "metadata": {},
   "outputs": [
    {
     "name": "stdout",
     "output_type": "stream",
     "text": [
      "<class 'pandas.core.frame.DataFrame'>\n",
      "RangeIndex: 17301 entries, 0 to 17300\n",
      "Data columns (total 17 columns):\n",
      " #   Column                    Non-Null Count  Dtype  \n",
      "---  ------                    --------------  -----  \n",
      " 0   Asset Display Id          17301 non-null  int64  \n",
      " 1   Asset Activity Code       17301 non-null  object \n",
      " 2   Asset Tag Number          17301 non-null  object \n",
      " 3   Account                   17301 non-null  object \n",
      " 4   Asset Class               17301 non-null  object \n",
      " 5   Department Number         17279 non-null  float64\n",
      " 6   Department                17279 non-null  object \n",
      " 7   Site Name                 17301 non-null  object \n",
      " 8   Building Name             17301 non-null  object \n",
      " 9   Quantity                  17301 non-null  int64  \n",
      " 10  Asset Description         17299 non-null  object \n",
      " 11  Acquisition Date          17301 non-null  object \n",
      " 12  Historical Cost           17301 non-null  object \n",
      " 13  Life Months               17046 non-null  float64\n",
      " 14  Period Depreciation       17301 non-null  object \n",
      " 15  Accumulated Depreciation  17301 non-null  object \n",
      " 16  Net Book Value            17301 non-null  object \n",
      "dtypes: float64(2), int64(2), object(13)\n",
      "memory usage: 2.2+ MB\n"
     ]
    }
   ],
   "source": [
    "nyack_cbiz_report.info()"
   ]
  },
  {
   "cell_type": "code",
   "execution_count": 9,
   "metadata": {},
   "outputs": [
    {
     "data": {
      "text/plain": [
       "301"
      ]
     },
     "execution_count": 9,
     "metadata": {},
     "output_type": "execute_result"
    }
   ],
   "source": [
    "# sum all the missing values in the df by applying df.isnull() and passing the\n",
    "# resulting boolean series into np.count_nonzero() method\n",
    "np.count_nonzero(nyack_cbiz_report.isnull())"
   ]
  },
  {
   "cell_type": "code",
   "execution_count": 10,
   "metadata": {},
   "outputs": [
    {
     "data": {
      "text/plain": [
       "Asset Display Id                                              14382\n",
       "Asset Activity Code                                          Active\n",
       "Asset Tag Number                                           21414382\n",
       "Account                                              MAJOR MOVEABLE\n",
       "Asset Class                                       MEDICAL EQUIPMENT\n",
       "Department Number                                     $1,500,684.00\n",
       "Department                                     BREAST CANCER CENTER\n",
       "Site Name                                            NYACK HOSPITAL\n",
       "Building Name                                        NYACK HOSPITAL\n",
       "Quantity                                                          1\n",
       "Asset Description           INVIVO CANCELLATION    / VOUCHER CREDIT\n",
       "Acquisition Date                                           8/1/2014\n",
       "Historical Cost                                          -79,000.00\n",
       "Life Months                                                  $72.00\n",
       "Period Depreciation                                            0.00\n",
       "Accumulated Depreciation                                 -79,000.00\n",
       "Net Book Value                                                 0.00\n",
       "Name: 14374, dtype: object"
      ]
     },
     "execution_count": 10,
     "metadata": {},
     "output_type": "execute_result"
    }
   ],
   "source": [
    "nyack_cbiz_report.iloc[14374]"
   ]
  },
  {
   "cell_type": "code",
   "execution_count": 11,
   "metadata": {},
   "outputs": [
    {
     "data": {
      "text/plain": [
       "Asset Display Id              0\n",
       "Asset Activity Code           0\n",
       "Asset Tag Number              0\n",
       "Account                       0\n",
       "Asset Class                   0\n",
       "Department Number            22\n",
       "Department                   22\n",
       "Site Name                     0\n",
       "Building Name                 0\n",
       "Quantity                      0\n",
       "Asset Description             2\n",
       "Acquisition Date              0\n",
       "Historical Cost               0\n",
       "Life Months                 255\n",
       "Period Depreciation           0\n",
       "Accumulated Depreciation      0\n",
       "Net Book Value                0\n",
       "dtype: int64"
      ]
     },
     "execution_count": 11,
     "metadata": {},
     "output_type": "execute_result"
    }
   ],
   "source": [
    "# calculate the missing fields by column\n",
    "num_rows = nyack_cbiz_report.shape[0]\n",
    "num_missing = num_rows - nyack_cbiz_report.count()\n",
    "num_missing"
   ]
  },
  {
   "cell_type": "code",
   "execution_count": 8,
   "metadata": {},
   "outputs": [],
   "source": [
    "# mmc_tb = pd.read_csv(r'C:\\Users\\Michael\\OneDrive\\Documents\\Work\\conversion\\august_2021\\sap_tb_2020.csv')"
   ]
  },
  {
   "cell_type": "code",
   "execution_count": 9,
   "metadata": {},
   "outputs": [
    {
     "name": "stdout",
     "output_type": "stream",
     "text": [
      "<class 'pandas.core.frame.DataFrame'>\n",
      "RangeIndex: 16423 entries, 0 to 16422\n",
      "Data columns (total 17 columns):\n",
      " #   Column                    Non-Null Count  Dtype  \n",
      "---  ------                    --------------  -----  \n",
      " 0   Asset Display Id          16423 non-null  int64  \n",
      " 1   Asset Activity Code       16423 non-null  object \n",
      " 2   Asset Tag Number          16423 non-null  object \n",
      " 3   Account                   16423 non-null  object \n",
      " 4   Asset Class               16423 non-null  object \n",
      " 5   Department Number         15262 non-null  object \n",
      " 6   Department                14880 non-null  object \n",
      " 7   Site Name                 16423 non-null  object \n",
      " 8   Building Name             16417 non-null  object \n",
      " 9   Quantity                  16423 non-null  int64  \n",
      " 10  Asset Description         16421 non-null  object \n",
      " 11  Acquisition Date          16423 non-null  object \n",
      " 12  Historical Cost           16423 non-null  object \n",
      " 13  Life Months               16168 non-null  float64\n",
      " 14  Period Depreciation       16423 non-null  object \n",
      " 15  Accumulated Depreciation  16423 non-null  object \n",
      " 16  Net Book Value            16423 non-null  object \n",
      "dtypes: float64(1), int64(2), object(14)\n",
      "memory usage: 2.1+ MB\n"
     ]
    }
   ],
   "source": [
    "nyack_cbiz_report.info()"
   ]
  },
  {
   "cell_type": "code",
   "execution_count": 12,
   "metadata": {},
   "outputs": [
    {
     "data": {
      "text/plain": [
       "Index(['Asset Display Id', 'Asset Activity Code', 'Asset Tag Number',\n",
       "       'Account', 'Asset Class', 'Department Number', 'Department',\n",
       "       'Site Name', 'Building Name', 'Quantity', 'Asset Description',\n",
       "       'Acquisition Date', 'Historical Cost', 'Life Months',\n",
       "       'Period Depreciation', 'Accumulated Depreciation', 'Net Book Value'],\n",
       "      dtype='object')"
      ]
     },
     "execution_count": 12,
     "metadata": {},
     "output_type": "execute_result"
    }
   ],
   "source": [
    "nyack_cbiz_report.columns"
   ]
  },
  {
   "cell_type": "code",
   "execution_count": 13,
   "metadata": {},
   "outputs": [],
   "source": [
    "nyack_cbiz_report['Life Months'] = nyack_cbiz_report['Life Months'].fillna(0)"
   ]
  },
  {
   "cell_type": "code",
   "execution_count": 14,
   "metadata": {},
   "outputs": [
    {
     "data": {
      "text/html": [
       "<div>\n",
       "<style scoped>\n",
       "    .dataframe tbody tr th:only-of-type {\n",
       "        vertical-align: middle;\n",
       "    }\n",
       "\n",
       "    .dataframe tbody tr th {\n",
       "        vertical-align: top;\n",
       "    }\n",
       "\n",
       "    .dataframe thead th {\n",
       "        text-align: right;\n",
       "    }\n",
       "</style>\n",
       "<table border=\"1\" class=\"dataframe\">\n",
       "  <thead>\n",
       "    <tr style=\"text-align: right;\">\n",
       "      <th></th>\n",
       "      <th>Asset Display Id</th>\n",
       "      <th>Asset Activity Code</th>\n",
       "      <th>Asset Tag Number</th>\n",
       "      <th>Account</th>\n",
       "      <th>Asset Class</th>\n",
       "      <th>Department Number</th>\n",
       "      <th>Department</th>\n",
       "      <th>Site Name</th>\n",
       "      <th>Building Name</th>\n",
       "      <th>Quantity</th>\n",
       "      <th>Asset Description</th>\n",
       "      <th>Acquisition Date</th>\n",
       "      <th>Historical Cost</th>\n",
       "      <th>Life Months</th>\n",
       "      <th>Period Depreciation</th>\n",
       "      <th>Accumulated Depreciation</th>\n",
       "      <th>Net Book Value</th>\n",
       "    </tr>\n",
       "  </thead>\n",
       "  <tbody>\n",
       "  </tbody>\n",
       "</table>\n",
       "</div>"
      ],
      "text/plain": [
       "Empty DataFrame\n",
       "Columns: [Asset Display Id, Asset Activity Code, Asset Tag Number, Account, Asset Class, Department Number, Department, Site Name, Building Name, Quantity, Asset Description, Acquisition Date, Historical Cost, Life Months, Period Depreciation, Accumulated Depreciation, Net Book Value]\n",
       "Index: []"
      ]
     },
     "execution_count": 14,
     "metadata": {},
     "output_type": "execute_result"
    }
   ],
   "source": [
    "nyack_cbiz_report[nyack_cbiz_report['Life Months'].isnull()]"
   ]
  },
  {
   "cell_type": "code",
   "execution_count": 15,
   "metadata": {},
   "outputs": [],
   "source": [
    "nyack_cbiz_report['Life Months'] = nyack_cbiz_report['Life Months'].astype('int32')"
   ]
  },
  {
   "cell_type": "code",
   "execution_count": 16,
   "metadata": {},
   "outputs": [],
   "source": [
    "nyack_cbiz_report['Acquisition Date'] = pd.to_datetime(nyack_cbiz_report['Acquisition Date'])\n",
    "\n"
   ]
  },
  {
   "cell_type": "code",
   "execution_count": 17,
   "metadata": {},
   "outputs": [
    {
     "data": {
      "text/html": [
       "<div>\n",
       "<style scoped>\n",
       "    .dataframe tbody tr th:only-of-type {\n",
       "        vertical-align: middle;\n",
       "    }\n",
       "\n",
       "    .dataframe tbody tr th {\n",
       "        vertical-align: top;\n",
       "    }\n",
       "\n",
       "    .dataframe thead th {\n",
       "        text-align: right;\n",
       "    }\n",
       "</style>\n",
       "<table border=\"1\" class=\"dataframe\">\n",
       "  <thead>\n",
       "    <tr style=\"text-align: right;\">\n",
       "      <th></th>\n",
       "      <th>Asset Display Id</th>\n",
       "      <th>Asset Activity Code</th>\n",
       "      <th>Asset Tag Number</th>\n",
       "      <th>Account</th>\n",
       "      <th>Asset Class</th>\n",
       "      <th>Department Number</th>\n",
       "      <th>Department</th>\n",
       "      <th>Site Name</th>\n",
       "      <th>Building Name</th>\n",
       "      <th>Quantity</th>\n",
       "      <th>Asset Description</th>\n",
       "      <th>Acquisition Date</th>\n",
       "      <th>Historical Cost</th>\n",
       "      <th>Life Months</th>\n",
       "      <th>Period Depreciation</th>\n",
       "      <th>Accumulated Depreciation</th>\n",
       "      <th>Net Book Value</th>\n",
       "    </tr>\n",
       "  </thead>\n",
       "  <tbody>\n",
       "  </tbody>\n",
       "</table>\n",
       "</div>"
      ],
      "text/plain": [
       "Empty DataFrame\n",
       "Columns: [Asset Display Id, Asset Activity Code, Asset Tag Number, Account, Asset Class, Department Number, Department, Site Name, Building Name, Quantity, Asset Description, Acquisition Date, Historical Cost, Life Months, Period Depreciation, Accumulated Depreciation, Net Book Value]\n",
       "Index: []"
      ]
     },
     "execution_count": 17,
     "metadata": {},
     "output_type": "execute_result"
    }
   ],
   "source": [
    "nyack_cbiz_report[nyack_cbiz_report['Historical Cost'].str.contains('NaN')]"
   ]
  },
  {
   "cell_type": "code",
   "execution_count": 16,
   "metadata": {},
   "outputs": [],
   "source": [
    "# nyack_cbiz_report['Historical Cost'] = nyack_cbiz_report['Historical Cost'].astype('str')"
   ]
  },
  {
   "cell_type": "code",
   "execution_count": 17,
   "metadata": {},
   "outputs": [],
   "source": [
    "# nyack_cbiz_report['Period Depreciation'] = nyack_cbiz_report['Period Depreciation'].astype('str')"
   ]
  },
  {
   "cell_type": "code",
   "execution_count": 18,
   "metadata": {},
   "outputs": [],
   "source": [
    "def ser_to_float(ser):\n",
    "    ser = ser.str.strip()\n",
    "#     ser = ser.apply(lambda x: x.replace(' - ', ''))\n",
    "#     ser = ser.apply(lambda x: x.replace('-', ''))\n",
    "    ser = ser.apply(lambda x: x.replace(',', ''))\n",
    "#     ser = ser.apply(lambda x: x.replace('-', ''))\n",
    "    ser = ser.apply(lambda x: x.replace(' ', ''))\n",
    "    ser = ser.apply(lambda x: x.replace('(', ''))\n",
    "    ser = ser.apply(lambda x: x.replace(')', ''))\n",
    "    ser = ser.apply(lambda x: x.replace('Nan', ''))\n",
    "    ser = ser.astype(float)\n",
    "    return ser\n",
    "\n",
    "\n",
    "    "
   ]
  },
  {
   "cell_type": "code",
   "execution_count": 19,
   "metadata": {},
   "outputs": [],
   "source": [
    "nyack_cbiz_report['Historical Cost'] = ser_to_float(nyack_cbiz_report['Historical Cost'])\n",
    "nyack_cbiz_report['Period Depreciation'] = ser_to_float(nyack_cbiz_report['Period Depreciation'])\n",
    "nyack_cbiz_report['Accumulated Depreciation'] = ser_to_float(nyack_cbiz_report['Accumulated Depreciation'])\n",
    "nyack_cbiz_report['Net Book Value'] = ser_to_float(nyack_cbiz_report['Net Book Value'])"
   ]
  },
  {
   "cell_type": "code",
   "execution_count": 20,
   "metadata": {},
   "outputs": [
    {
     "name": "stdout",
     "output_type": "stream",
     "text": [
      "<class 'pandas.core.frame.DataFrame'>\n",
      "RangeIndex: 17301 entries, 0 to 17300\n",
      "Data columns (total 17 columns):\n",
      " #   Column                    Non-Null Count  Dtype         \n",
      "---  ------                    --------------  -----         \n",
      " 0   Asset Display Id          17301 non-null  int64         \n",
      " 1   Asset Activity Code       17301 non-null  object        \n",
      " 2   Asset Tag Number          17301 non-null  object        \n",
      " 3   Account                   17301 non-null  object        \n",
      " 4   Asset Class               17301 non-null  object        \n",
      " 5   Department Number         17279 non-null  float64       \n",
      " 6   Department                17279 non-null  object        \n",
      " 7   Site Name                 17301 non-null  object        \n",
      " 8   Building Name             17301 non-null  object        \n",
      " 9   Quantity                  17301 non-null  int64         \n",
      " 10  Asset Description         17299 non-null  object        \n",
      " 11  Acquisition Date          17301 non-null  datetime64[ns]\n",
      " 12  Historical Cost           17301 non-null  float64       \n",
      " 13  Life Months               17301 non-null  int32         \n",
      " 14  Period Depreciation       17301 non-null  float64       \n",
      " 15  Accumulated Depreciation  17301 non-null  float64       \n",
      " 16  Net Book Value            17301 non-null  float64       \n",
      "dtypes: datetime64[ns](1), float64(5), int32(1), int64(2), object(8)\n",
      "memory usage: 2.2+ MB\n"
     ]
    }
   ],
   "source": [
    "nyack_cbiz_report.info()"
   ]
  },
  {
   "cell_type": "code",
   "execution_count": 21,
   "metadata": {},
   "outputs": [
    {
     "data": {
      "text/html": [
       "<div>\n",
       "<style scoped>\n",
       "    .dataframe tbody tr th:only-of-type {\n",
       "        vertical-align: middle;\n",
       "    }\n",
       "\n",
       "    .dataframe tbody tr th {\n",
       "        vertical-align: top;\n",
       "    }\n",
       "\n",
       "    .dataframe thead th {\n",
       "        text-align: right;\n",
       "    }\n",
       "</style>\n",
       "<table border=\"1\" class=\"dataframe\">\n",
       "  <thead>\n",
       "    <tr style=\"text-align: right;\">\n",
       "      <th></th>\n",
       "      <th>Asset Display Id</th>\n",
       "      <th>Asset Activity Code</th>\n",
       "      <th>Asset Tag Number</th>\n",
       "      <th>Account</th>\n",
       "      <th>Asset Class</th>\n",
       "      <th>Department Number</th>\n",
       "      <th>Department</th>\n",
       "      <th>Site Name</th>\n",
       "      <th>Building Name</th>\n",
       "      <th>Quantity</th>\n",
       "      <th>Asset Description</th>\n",
       "      <th>Acquisition Date</th>\n",
       "      <th>Historical Cost</th>\n",
       "      <th>Life Months</th>\n",
       "      <th>Period Depreciation</th>\n",
       "      <th>Accumulated Depreciation</th>\n",
       "      <th>Net Book Value</th>\n",
       "    </tr>\n",
       "  </thead>\n",
       "  <tbody>\n",
       "    <tr>\n",
       "      <th>17296</th>\n",
       "      <td>21758</td>\n",
       "      <td>New</td>\n",
       "      <td>20211278</td>\n",
       "      <td>CAPITAL - MEDICAL VILLAGE EQUIPMENT</td>\n",
       "      <td>MEDICAL EQUIPMENT</td>\n",
       "      <td>$1,500,684.00</td>\n",
       "      <td>BREAST CANCER CENTER</td>\n",
       "      <td>NYACK HOSPITAL</td>\n",
       "      <td>NYACK HOSPITAL</td>\n",
       "      <td>1</td>\n",
       "      <td>WARMING CABINETS-50% DEPOSIT</td>\n",
       "      <td>2020-06-01</td>\n",
       "      <td>$38,476.26</td>\n",
       "      <td>240</td>\n",
       "      <td>$1,923.81</td>\n",
       "      <td>$2,885.72</td>\n",
       "      <td>$35,590.54</td>\n",
       "    </tr>\n",
       "    <tr>\n",
       "      <th>17297</th>\n",
       "      <td>21759</td>\n",
       "      <td>New</td>\n",
       "      <td>20211279</td>\n",
       "      <td>CAPITAL - MEDICAL VILLAGE CONSTRUCTION</td>\n",
       "      <td>BUILDINGS</td>\n",
       "      <td>$1,500,570.00</td>\n",
       "      <td>EMERGENCY DEPT GENERAL</td>\n",
       "      <td>NYACK HOSPITAL</td>\n",
       "      <td>NYACK HOSPITAL</td>\n",
       "      <td>1</td>\n",
       "      <td>DAMAGE  WAIVER - 4X4 RENTAL BOOTH - PER MONTH\\...</td>\n",
       "      <td>2020-06-01</td>\n",
       "      <td>$8.00</td>\n",
       "      <td>60</td>\n",
       "      <td>$1.60</td>\n",
       "      <td>$2.40</td>\n",
       "      <td>$5.60</td>\n",
       "    </tr>\n",
       "    <tr>\n",
       "      <th>17298</th>\n",
       "      <td>21760</td>\n",
       "      <td>New</td>\n",
       "      <td>20211280</td>\n",
       "      <td>CAPITAL - OTHER COMPUTER EQUIPMENT</td>\n",
       "      <td>COMPUTER EQUIPMENT</td>\n",
       "      <td>$1,500,017.00</td>\n",
       "      <td>TECHNOLOGY SERVICES</td>\n",
       "      <td>NYACK HOSPITAL</td>\n",
       "      <td>NYACK HOSPITAL</td>\n",
       "      <td>1</td>\n",
       "      <td>INV# 0071983  TRAVEL EXPENSES</td>\n",
       "      <td>2020-06-01</td>\n",
       "      <td>$7,000.00</td>\n",
       "      <td>48</td>\n",
       "      <td>$1,750.00</td>\n",
       "      <td>$2,625.00</td>\n",
       "      <td>$4,375.00</td>\n",
       "    </tr>\n",
       "    <tr>\n",
       "      <th>17299</th>\n",
       "      <td>21761</td>\n",
       "      <td>New</td>\n",
       "      <td>20211281</td>\n",
       "      <td>CAPITAL - OTHER COMPUTER EQUIPMENT</td>\n",
       "      <td>COMPUTER EQUIPMENT</td>\n",
       "      <td>$1,500,017.00</td>\n",
       "      <td>TECHNOLOGY SERVICES</td>\n",
       "      <td>NYACK HOSPITAL</td>\n",
       "      <td>NYACK HOSPITAL</td>\n",
       "      <td>1</td>\n",
       "      <td>INV# 0071983 TRAVEL EXPENSES</td>\n",
       "      <td>2020-06-01</td>\n",
       "      <td>$14,000.00</td>\n",
       "      <td>48</td>\n",
       "      <td>$3,500.00</td>\n",
       "      <td>$5,250.00</td>\n",
       "      <td>$8,750.00</td>\n",
       "    </tr>\n",
       "    <tr>\n",
       "      <th>17300</th>\n",
       "      <td>21762</td>\n",
       "      <td>New</td>\n",
       "      <td>20211282</td>\n",
       "      <td>CAPITAL - OTHER COMPUTER EQUIPMENT</td>\n",
       "      <td>COMPUTER EQUIPMENT</td>\n",
       "      <td>$1,500,017.00</td>\n",
       "      <td>TECHNOLOGY SERVICES</td>\n",
       "      <td>NYACK HOSPITAL</td>\n",
       "      <td>NYACK HOSPITAL</td>\n",
       "      <td>1</td>\n",
       "      <td>INV# 7002015000  MEDICATION RECONCILIATION</td>\n",
       "      <td>2020-06-01</td>\n",
       "      <td>$240.00</td>\n",
       "      <td>48</td>\n",
       "      <td>$60.00</td>\n",
       "      <td>$90.00</td>\n",
       "      <td>$150.00</td>\n",
       "    </tr>\n",
       "  </tbody>\n",
       "</table>\n",
       "</div>"
      ],
      "text/plain": [
       "       Asset Display Id Asset Activity Code Asset Tag Number                                 Account         Asset Class  Department Number              Department       Site Name   Building Name  Quantity                                  Asset Description Acquisition Date  Historical Cost  Life Months  Period Depreciation  Accumulated Depreciation  Net Book Value\n",
       "17296             21758                 New         20211278     CAPITAL - MEDICAL VILLAGE EQUIPMENT   MEDICAL EQUIPMENT      $1,500,684.00    BREAST CANCER CENTER  NYACK HOSPITAL  NYACK HOSPITAL         1                       WARMING CABINETS-50% DEPOSIT       2020-06-01       $38,476.26          240            $1,923.81                 $2,885.72      $35,590.54\n",
       "17297             21759                 New         20211279  CAPITAL - MEDICAL VILLAGE CONSTRUCTION           BUILDINGS      $1,500,570.00  EMERGENCY DEPT GENERAL  NYACK HOSPITAL  NYACK HOSPITAL         1  DAMAGE  WAIVER - 4X4 RENTAL BOOTH - PER MONTH\\...       2020-06-01            $8.00           60                $1.60                     $2.40           $5.60\n",
       "17298             21760                 New         20211280      CAPITAL - OTHER COMPUTER EQUIPMENT  COMPUTER EQUIPMENT      $1,500,017.00     TECHNOLOGY SERVICES  NYACK HOSPITAL  NYACK HOSPITAL         1                      INV# 0071983  TRAVEL EXPENSES       2020-06-01        $7,000.00           48            $1,750.00                 $2,625.00       $4,375.00\n",
       "17299             21761                 New         20211281      CAPITAL - OTHER COMPUTER EQUIPMENT  COMPUTER EQUIPMENT      $1,500,017.00     TECHNOLOGY SERVICES  NYACK HOSPITAL  NYACK HOSPITAL         1                       INV# 0071983 TRAVEL EXPENSES       2020-06-01       $14,000.00           48            $3,500.00                 $5,250.00       $8,750.00\n",
       "17300             21762                 New         20211282      CAPITAL - OTHER COMPUTER EQUIPMENT  COMPUTER EQUIPMENT      $1,500,017.00     TECHNOLOGY SERVICES  NYACK HOSPITAL  NYACK HOSPITAL         1         INV# 7002015000  MEDICATION RECONCILIATION       2020-06-01          $240.00           48               $60.00                    $90.00         $150.00"
      ]
     },
     "execution_count": 21,
     "metadata": {},
     "output_type": "execute_result"
    }
   ],
   "source": [
    "nyack_cbiz_report.tail()"
   ]
  },
  {
   "cell_type": "code",
   "execution_count": 22,
   "metadata": {},
   "outputs": [
    {
     "data": {
      "text/plain": [
       "Historical Cost            $172,236,795.28\n",
       "Accumulated Depreciation    $63,291,098.44\n",
       "Net Book Value             $108,945,696.84\n",
       "dtype: float64"
      ]
     },
     "execution_count": 22,
     "metadata": {},
     "output_type": "execute_result"
    }
   ],
   "source": [
    "nyack_cbiz_report[['Historical Cost', 'Accumulated Depreciation', 'Net Book Value']].sum()"
   ]
  },
  {
   "cell_type": "markdown",
   "metadata": {},
   "source": [
    "### Nyack asset book"
   ]
  },
  {
   "cell_type": "code",
   "execution_count": 23,
   "metadata": {},
   "outputs": [],
   "source": [
    "# Load the member entity asset_book transformation file\n",
    "me_load_asset_book = pd.read_csv(r'C:\\Users\\mikra\\OneDrive\\Documents\\Work\\conversion\\SIT3\\november_AX2\\fixed_assets\\Entity_Asset_Book_Import.csv',\n",
    "                                usecols=['FinanceEnterpriseGroup', 'AssetImport', 'Book', 'RunGroup', 'Active', 'Life',\n",
    "                                         'LifeRemaining', 'Basis', 'Method', 'InServiceDate', 'Convention',\n",
    "                                         'YearToDateDepreciation', 'LifeToDateDepreciation'])"
   ]
  },
  {
   "cell_type": "code",
   "execution_count": 24,
   "metadata": {},
   "outputs": [],
   "source": [
    "# me_load_asset_item = pd.read_csv(r'C:\\Users\\mikra\\OneDrive\\Documents\\Work\\conversion\\SIT3\\november_AX2\\fixed_assets\\Entity_Asset_Item_Import.csv')"
   ]
  },
  {
   "cell_type": "code",
   "execution_count": 25,
   "metadata": {},
   "outputs": [],
   "source": [
    "\n",
    "me_load_asset_book_groups = me_load_asset_book.groupby('RunGroup')"
   ]
  },
  {
   "cell_type": "code",
   "execution_count": 26,
   "metadata": {},
   "outputs": [],
   "source": [
    "nyack_load_asset_book = me_load_asset_book_groups.get_group('NYK_ASSET')"
   ]
  },
  {
   "cell_type": "code",
   "execution_count": 27,
   "metadata": {},
   "outputs": [
    {
     "name": "stdout",
     "output_type": "stream",
     "text": [
      "<class 'pandas.core.frame.DataFrame'>\n",
      "Int64Index: 10949 entries, 94085 to 105033\n",
      "Data columns (total 13 columns):\n",
      " #   Column                  Non-Null Count  Dtype  \n",
      "---  ------                  --------------  -----  \n",
      " 0   FinanceEnterpriseGroup  10949 non-null  int64  \n",
      " 1   AssetImport             10949 non-null  object \n",
      " 2   Book                    10949 non-null  object \n",
      " 3   RunGroup                10949 non-null  object \n",
      " 4   Active                  10949 non-null  bool   \n",
      " 5   Life                    10949 non-null  int64  \n",
      " 6   LifeRemaining           10949 non-null  int64  \n",
      " 7   Basis                   10949 non-null  float64\n",
      " 8   Method                  10491 non-null  object \n",
      " 9   InServiceDate           10949 non-null  int64  \n",
      " 10  Convention              10949 non-null  object \n",
      " 11  YearToDateDepreciation  0 non-null      float64\n",
      " 12  LifeToDateDepreciation  10949 non-null  float64\n",
      "dtypes: bool(1), float64(3), int64(4), object(5)\n",
      "memory usage: 1.1+ MB\n"
     ]
    }
   ],
   "source": [
    "nyack_load_asset_book.info()"
   ]
  },
  {
   "cell_type": "code",
   "execution_count": 28,
   "metadata": {},
   "outputs": [
    {
     "data": {
      "text/plain": [
       "array(['GL'], dtype=object)"
      ]
     },
     "execution_count": 28,
     "metadata": {},
     "output_type": "execute_result"
    }
   ],
   "source": [
    "nyack_load_asset_book['Book'].unique()"
   ]
  },
  {
   "cell_type": "code",
   "execution_count": 29,
   "metadata": {},
   "outputs": [
    {
     "data": {
      "text/plain": [
       "array(['NYK_ASSET'], dtype=object)"
      ]
     },
     "execution_count": 29,
     "metadata": {},
     "output_type": "execute_result"
    }
   ],
   "source": [
    "nyack_load_asset_book['RunGroup'].unique()"
   ]
  },
  {
   "cell_type": "code",
   "execution_count": 30,
   "metadata": {},
   "outputs": [
    {
     "data": {
      "text/html": [
       "<div>\n",
       "<style scoped>\n",
       "    .dataframe tbody tr th:only-of-type {\n",
       "        vertical-align: middle;\n",
       "    }\n",
       "\n",
       "    .dataframe tbody tr th {\n",
       "        vertical-align: top;\n",
       "    }\n",
       "\n",
       "    .dataframe thead th {\n",
       "        text-align: right;\n",
       "    }\n",
       "</style>\n",
       "<table border=\"1\" class=\"dataframe\">\n",
       "  <thead>\n",
       "    <tr style=\"text-align: right;\">\n",
       "      <th></th>\n",
       "      <th>FinanceEnterpriseGroup</th>\n",
       "      <th>AssetImport</th>\n",
       "      <th>Book</th>\n",
       "      <th>RunGroup</th>\n",
       "      <th>Active</th>\n",
       "      <th>Life</th>\n",
       "      <th>LifeRemaining</th>\n",
       "      <th>Basis</th>\n",
       "      <th>Method</th>\n",
       "      <th>InServiceDate</th>\n",
       "      <th>Convention</th>\n",
       "      <th>YearToDateDepreciation</th>\n",
       "      <th>LifeToDateDepreciation</th>\n",
       "    </tr>\n",
       "  </thead>\n",
       "  <tbody>\n",
       "  </tbody>\n",
       "</table>\n",
       "</div>"
      ],
      "text/plain": [
       "Empty DataFrame\n",
       "Columns: [FinanceEnterpriseGroup, AssetImport, Book, RunGroup, Active, Life, LifeRemaining, Basis, Method, InServiceDate, Convention, YearToDateDepreciation, LifeToDateDepreciation]\n",
       "Index: []"
      ]
     },
     "execution_count": 30,
     "metadata": {},
     "output_type": "execute_result"
    }
   ],
   "source": [
    "# nyack_load_asset_book['Life'] = nyack_load_asset_book['Life'].fillna(0)\n",
    "nyack_load_asset_book[nyack_load_asset_book['Life'].isnull()]"
   ]
  },
  {
   "cell_type": "code",
   "execution_count": 31,
   "metadata": {},
   "outputs": [
    {
     "data": {
      "text/html": [
       "<div>\n",
       "<style scoped>\n",
       "    .dataframe tbody tr th:only-of-type {\n",
       "        vertical-align: middle;\n",
       "    }\n",
       "\n",
       "    .dataframe tbody tr th {\n",
       "        vertical-align: top;\n",
       "    }\n",
       "\n",
       "    .dataframe thead th {\n",
       "        text-align: right;\n",
       "    }\n",
       "</style>\n",
       "<table border=\"1\" class=\"dataframe\">\n",
       "  <thead>\n",
       "    <tr style=\"text-align: right;\">\n",
       "      <th></th>\n",
       "      <th>FinanceEnterpriseGroup</th>\n",
       "      <th>AssetImport</th>\n",
       "      <th>Book</th>\n",
       "      <th>RunGroup</th>\n",
       "      <th>Active</th>\n",
       "      <th>Life</th>\n",
       "      <th>LifeRemaining</th>\n",
       "      <th>Basis</th>\n",
       "      <th>Method</th>\n",
       "      <th>InServiceDate</th>\n",
       "      <th>Convention</th>\n",
       "      <th>YearToDateDepreciation</th>\n",
       "      <th>LifeToDateDepreciation</th>\n",
       "    </tr>\n",
       "  </thead>\n",
       "  <tbody>\n",
       "  </tbody>\n",
       "</table>\n",
       "</div>"
      ],
      "text/plain": [
       "Empty DataFrame\n",
       "Columns: [FinanceEnterpriseGroup, AssetImport, Book, RunGroup, Active, Life, LifeRemaining, Basis, Method, InServiceDate, Convention, YearToDateDepreciation, LifeToDateDepreciation]\n",
       "Index: []"
      ]
     },
     "execution_count": 31,
     "metadata": {},
     "output_type": "execute_result"
    }
   ],
   "source": [
    "# nyack_load_asset_book['LifeRemaining'] = nyack_load_asset_book['LifeRemaining'].fillna(0)\n",
    "nyack_load_asset_book[nyack_load_asset_book['LifeRemaining'].isnull()]"
   ]
  },
  {
   "cell_type": "code",
   "execution_count": 32,
   "metadata": {},
   "outputs": [
    {
     "name": "stderr",
     "output_type": "stream",
     "text": [
      "<ipython-input-32-556655e4aff6>:1: SettingWithCopyWarning: \n",
      "A value is trying to be set on a copy of a slice from a DataFrame.\n",
      "Try using .loc[row_indexer,col_indexer] = value instead\n",
      "\n",
      "See the caveats in the documentation: https://pandas.pydata.org/pandas-docs/stable/user_guide/indexing.html#returning-a-view-versus-a-copy\n",
      "  nyack_load_asset_book['Life'] = nyack_load_asset_book['Life'].astype('int')\n",
      "<ipython-input-32-556655e4aff6>:2: SettingWithCopyWarning: \n",
      "A value is trying to be set on a copy of a slice from a DataFrame.\n",
      "Try using .loc[row_indexer,col_indexer] = value instead\n",
      "\n",
      "See the caveats in the documentation: https://pandas.pydata.org/pandas-docs/stable/user_guide/indexing.html#returning-a-view-versus-a-copy\n",
      "  nyack_load_asset_book['LifeRemaining'] = nyack_load_asset_book['LifeRemaining'].astype('int')\n"
     ]
    }
   ],
   "source": [
    "nyack_load_asset_book['Life'] = nyack_load_asset_book['Life'].astype('int')\n",
    "nyack_load_asset_book['LifeRemaining'] = nyack_load_asset_book['LifeRemaining'].astype('int')"
   ]
  },
  {
   "cell_type": "code",
   "execution_count": 33,
   "metadata": {},
   "outputs": [
    {
     "name": "stderr",
     "output_type": "stream",
     "text": [
      "<ipython-input-33-6003adef4b7c>:1: SettingWithCopyWarning: \n",
      "A value is trying to be set on a copy of a slice from a DataFrame.\n",
      "Try using .loc[row_indexer,col_indexer] = value instead\n",
      "\n",
      "See the caveats in the documentation: https://pandas.pydata.org/pandas-docs/stable/user_guide/indexing.html#returning-a-view-versus-a-copy\n",
      "  nyack_load_asset_book['cbiz_index'] = nyack_load_asset_book['AssetImport'].apply(lambda x: int(x.split('_')[1]))\n"
     ]
    }
   ],
   "source": [
    "nyack_load_asset_book['cbiz_index'] = nyack_load_asset_book['AssetImport'].apply(lambda x: int(x.split('_')[1]))"
   ]
  },
  {
   "cell_type": "code",
   "execution_count": 34,
   "metadata": {},
   "outputs": [
    {
     "name": "stderr",
     "output_type": "stream",
     "text": [
      "<ipython-input-34-3f91ab87f037>:1: SettingWithCopyWarning: \n",
      "A value is trying to be set on a copy of a slice from a DataFrame.\n",
      "Try using .loc[row_indexer,col_indexer] = value instead\n",
      "\n",
      "See the caveats in the documentation: https://pandas.pydata.org/pandas-docs/stable/user_guide/indexing.html#returning-a-view-versus-a-copy\n",
      "  nyack_load_asset_book['cbiz_index'] = nyack_load_asset_book['cbiz_index'].astype('int')\n"
     ]
    }
   ],
   "source": [
    "nyack_load_asset_book['cbiz_index'] = nyack_load_asset_book['cbiz_index'].astype('int')"
   ]
  },
  {
   "cell_type": "code",
   "execution_count": 35,
   "metadata": {},
   "outputs": [
    {
     "data": {
      "text/html": [
       "<div>\n",
       "<style scoped>\n",
       "    .dataframe tbody tr th:only-of-type {\n",
       "        vertical-align: middle;\n",
       "    }\n",
       "\n",
       "    .dataframe tbody tr th {\n",
       "        vertical-align: top;\n",
       "    }\n",
       "\n",
       "    .dataframe thead th {\n",
       "        text-align: right;\n",
       "    }\n",
       "</style>\n",
       "<table border=\"1\" class=\"dataframe\">\n",
       "  <thead>\n",
       "    <tr style=\"text-align: right;\">\n",
       "      <th></th>\n",
       "      <th>FinanceEnterpriseGroup</th>\n",
       "      <th>AssetImport</th>\n",
       "      <th>Book</th>\n",
       "      <th>RunGroup</th>\n",
       "      <th>Active</th>\n",
       "      <th>Life</th>\n",
       "      <th>LifeRemaining</th>\n",
       "      <th>Basis</th>\n",
       "      <th>Method</th>\n",
       "      <th>InServiceDate</th>\n",
       "      <th>Convention</th>\n",
       "      <th>YearToDateDepreciation</th>\n",
       "      <th>LifeToDateDepreciation</th>\n",
       "      <th>cbiz_index</th>\n",
       "    </tr>\n",
       "  </thead>\n",
       "  <tbody>\n",
       "    <tr>\n",
       "      <th>105029</th>\n",
       "      <td>1</td>\n",
       "      <td>NYK_20476</td>\n",
       "      <td>GL</td>\n",
       "      <td>NYK_ASSET</td>\n",
       "      <td>True</td>\n",
       "      <td>84</td>\n",
       "      <td>72</td>\n",
       "      <td>$234,738.04</td>\n",
       "      <td>SL</td>\n",
       "      <td>20200108</td>\n",
       "      <td>HY</td>\n",
       "      <td>NaN</td>\n",
       "      <td>$16,767.00</td>\n",
       "      <td>20476</td>\n",
       "    </tr>\n",
       "    <tr>\n",
       "      <th>105030</th>\n",
       "      <td>1</td>\n",
       "      <td>NYK_20477</td>\n",
       "      <td>GL</td>\n",
       "      <td>NYK_ASSET</td>\n",
       "      <td>True</td>\n",
       "      <td>84</td>\n",
       "      <td>72</td>\n",
       "      <td>$39,000.00</td>\n",
       "      <td>SL</td>\n",
       "      <td>20200114</td>\n",
       "      <td>HY</td>\n",
       "      <td>NaN</td>\n",
       "      <td>$2,785.71</td>\n",
       "      <td>20477</td>\n",
       "    </tr>\n",
       "    <tr>\n",
       "      <th>105031</th>\n",
       "      <td>1</td>\n",
       "      <td>NYK_20478</td>\n",
       "      <td>GL</td>\n",
       "      <td>NYK_ASSET</td>\n",
       "      <td>True</td>\n",
       "      <td>84</td>\n",
       "      <td>78</td>\n",
       "      <td>$91,000.00</td>\n",
       "      <td>SL</td>\n",
       "      <td>20200701</td>\n",
       "      <td>HY</td>\n",
       "      <td>NaN</td>\n",
       "      <td>$6,500.00</td>\n",
       "      <td>20478</td>\n",
       "    </tr>\n",
       "    <tr>\n",
       "      <th>105032</th>\n",
       "      <td>1</td>\n",
       "      <td>NYK_20479</td>\n",
       "      <td>GL</td>\n",
       "      <td>NYK_ASSET</td>\n",
       "      <td>True</td>\n",
       "      <td>60</td>\n",
       "      <td>47</td>\n",
       "      <td>$116,640.40</td>\n",
       "      <td>SL</td>\n",
       "      <td>20191201</td>\n",
       "      <td>HY</td>\n",
       "      <td>NaN</td>\n",
       "      <td>$34,992.12</td>\n",
       "      <td>20479</td>\n",
       "    </tr>\n",
       "    <tr>\n",
       "      <th>105033</th>\n",
       "      <td>1</td>\n",
       "      <td>NYK_20480</td>\n",
       "      <td>GL</td>\n",
       "      <td>NYK_ASSET</td>\n",
       "      <td>True</td>\n",
       "      <td>240</td>\n",
       "      <td>227</td>\n",
       "      <td>$231,830.00</td>\n",
       "      <td>SL</td>\n",
       "      <td>20191201</td>\n",
       "      <td>HY</td>\n",
       "      <td>NaN</td>\n",
       "      <td>$17,387.25</td>\n",
       "      <td>20480</td>\n",
       "    </tr>\n",
       "  </tbody>\n",
       "</table>\n",
       "</div>"
      ],
      "text/plain": [
       "        FinanceEnterpriseGroup AssetImport Book   RunGroup  Active  Life  LifeRemaining       Basis Method  InServiceDate Convention  YearToDateDepreciation  LifeToDateDepreciation  cbiz_index\n",
       "105029                       1   NYK_20476   GL  NYK_ASSET    True    84             72 $234,738.04     SL       20200108         HY                     NaN              $16,767.00       20476\n",
       "105030                       1   NYK_20477   GL  NYK_ASSET    True    84             72  $39,000.00     SL       20200114         HY                     NaN               $2,785.71       20477\n",
       "105031                       1   NYK_20478   GL  NYK_ASSET    True    84             78  $91,000.00     SL       20200701         HY                     NaN               $6,500.00       20478\n",
       "105032                       1   NYK_20479   GL  NYK_ASSET    True    60             47 $116,640.40     SL       20191201         HY                     NaN              $34,992.12       20479\n",
       "105033                       1   NYK_20480   GL  NYK_ASSET    True   240            227 $231,830.00     SL       20191201         HY                     NaN              $17,387.25       20480"
      ]
     },
     "execution_count": 35,
     "metadata": {},
     "output_type": "execute_result"
    }
   ],
   "source": [
    "nyack_load_asset_book.tail()"
   ]
  },
  {
   "cell_type": "code",
   "execution_count": 36,
   "metadata": {},
   "outputs": [
    {
     "name": "stderr",
     "output_type": "stream",
     "text": [
      "<ipython-input-36-ee7ebc1c57af>:1: SettingWithCopyWarning: \n",
      "A value is trying to be set on a copy of a slice from a DataFrame.\n",
      "Try using .loc[row_indexer,col_indexer] = value instead\n",
      "\n",
      "See the caveats in the documentation: https://pandas.pydata.org/pandas-docs/stable/user_guide/indexing.html#returning-a-view-versus-a-copy\n",
      "  nyack_load_asset_book['InServiceDate'] = nyack_load_asset_book['InServiceDate'].astype('str')\n"
     ]
    }
   ],
   "source": [
    "nyack_load_asset_book['InServiceDate'] = nyack_load_asset_book['InServiceDate'].astype('str')"
   ]
  },
  {
   "cell_type": "code",
   "execution_count": 37,
   "metadata": {},
   "outputs": [
    {
     "name": "stderr",
     "output_type": "stream",
     "text": [
      "<ipython-input-37-c18860c2a496>:3: SettingWithCopyWarning: \n",
      "A value is trying to be set on a copy of a slice from a DataFrame.\n",
      "Try using .loc[row_indexer,col_indexer] = value instead\n",
      "\n",
      "See the caveats in the documentation: https://pandas.pydata.org/pandas-docs/stable/user_guide/indexing.html#returning-a-view-versus-a-copy\n",
      "  nyack_load_asset_book['InServiceDate_dt'] = pd.to_datetime(nyack_load_asset_book['InServiceDate'])\n"
     ]
    }
   ],
   "source": [
    "# create a new column in me_load_asset_book that contains the 'InServiceDate' elements to datetime objects\n",
    "\n",
    "nyack_load_asset_book['InServiceDate_dt'] = pd.to_datetime(nyack_load_asset_book['InServiceDate'])\n"
   ]
  },
  {
   "cell_type": "code",
   "execution_count": 38,
   "metadata": {},
   "outputs": [
    {
     "data": {
      "text/plain": [
       "142561523.94"
      ]
     },
     "execution_count": 38,
     "metadata": {},
     "output_type": "execute_result"
    }
   ],
   "source": [
    "nyack_load_asset_book.Basis.sum()"
   ]
  },
  {
   "cell_type": "code",
   "execution_count": 39,
   "metadata": {},
   "outputs": [
    {
     "data": {
      "text/html": [
       "<div>\n",
       "<style scoped>\n",
       "    .dataframe tbody tr th:only-of-type {\n",
       "        vertical-align: middle;\n",
       "    }\n",
       "\n",
       "    .dataframe tbody tr th {\n",
       "        vertical-align: top;\n",
       "    }\n",
       "\n",
       "    .dataframe thead th {\n",
       "        text-align: right;\n",
       "    }\n",
       "</style>\n",
       "<table border=\"1\" class=\"dataframe\">\n",
       "  <thead>\n",
       "    <tr style=\"text-align: right;\">\n",
       "      <th></th>\n",
       "      <th>FinanceEnterpriseGroup</th>\n",
       "      <th>AssetImport</th>\n",
       "      <th>Book</th>\n",
       "      <th>RunGroup</th>\n",
       "      <th>Active</th>\n",
       "      <th>Life</th>\n",
       "      <th>LifeRemaining</th>\n",
       "      <th>Basis</th>\n",
       "      <th>Method</th>\n",
       "      <th>InServiceDate</th>\n",
       "      <th>Convention</th>\n",
       "      <th>YearToDateDepreciation</th>\n",
       "      <th>LifeToDateDepreciation</th>\n",
       "      <th>cbiz_index</th>\n",
       "      <th>InServiceDate_dt</th>\n",
       "    </tr>\n",
       "  </thead>\n",
       "  <tbody>\n",
       "    <tr>\n",
       "      <th>94085</th>\n",
       "      <td>1</td>\n",
       "      <td>NYK_87</td>\n",
       "      <td>GL</td>\n",
       "      <td>NYK_ASSET</td>\n",
       "      <td>True</td>\n",
       "      <td>12</td>\n",
       "      <td>0</td>\n",
       "      <td>$10.00</td>\n",
       "      <td>SL</td>\n",
       "      <td>20140801</td>\n",
       "      <td>HY</td>\n",
       "      <td>NaN</td>\n",
       "      <td>$10.00</td>\n",
       "      <td>87</td>\n",
       "      <td>2014-08-01</td>\n",
       "    </tr>\n",
       "    <tr>\n",
       "      <th>94086</th>\n",
       "      <td>1</td>\n",
       "      <td>NYK_88</td>\n",
       "      <td>GL</td>\n",
       "      <td>NYK_ASSET</td>\n",
       "      <td>True</td>\n",
       "      <td>12</td>\n",
       "      <td>0</td>\n",
       "      <td>$10.00</td>\n",
       "      <td>SL</td>\n",
       "      <td>20140801</td>\n",
       "      <td>HY</td>\n",
       "      <td>NaN</td>\n",
       "      <td>$10.00</td>\n",
       "      <td>88</td>\n",
       "      <td>2014-08-01</td>\n",
       "    </tr>\n",
       "    <tr>\n",
       "      <th>94087</th>\n",
       "      <td>1</td>\n",
       "      <td>NYK_89</td>\n",
       "      <td>GL</td>\n",
       "      <td>NYK_ASSET</td>\n",
       "      <td>True</td>\n",
       "      <td>12</td>\n",
       "      <td>0</td>\n",
       "      <td>$20.00</td>\n",
       "      <td>SL</td>\n",
       "      <td>20140801</td>\n",
       "      <td>HY</td>\n",
       "      <td>NaN</td>\n",
       "      <td>$20.00</td>\n",
       "      <td>89</td>\n",
       "      <td>2014-08-01</td>\n",
       "    </tr>\n",
       "    <tr>\n",
       "      <th>94088</th>\n",
       "      <td>1</td>\n",
       "      <td>NYK_90</td>\n",
       "      <td>GL</td>\n",
       "      <td>NYK_ASSET</td>\n",
       "      <td>True</td>\n",
       "      <td>12</td>\n",
       "      <td>0</td>\n",
       "      <td>$20.00</td>\n",
       "      <td>SL</td>\n",
       "      <td>20140801</td>\n",
       "      <td>HY</td>\n",
       "      <td>NaN</td>\n",
       "      <td>$20.00</td>\n",
       "      <td>90</td>\n",
       "      <td>2014-08-01</td>\n",
       "    </tr>\n",
       "    <tr>\n",
       "      <th>94089</th>\n",
       "      <td>1</td>\n",
       "      <td>NYK_91</td>\n",
       "      <td>GL</td>\n",
       "      <td>NYK_ASSET</td>\n",
       "      <td>True</td>\n",
       "      <td>12</td>\n",
       "      <td>0</td>\n",
       "      <td>$20.00</td>\n",
       "      <td>SL</td>\n",
       "      <td>20140801</td>\n",
       "      <td>HY</td>\n",
       "      <td>NaN</td>\n",
       "      <td>$20.00</td>\n",
       "      <td>91</td>\n",
       "      <td>2014-08-01</td>\n",
       "    </tr>\n",
       "  </tbody>\n",
       "</table>\n",
       "</div>"
      ],
      "text/plain": [
       "       FinanceEnterpriseGroup AssetImport Book   RunGroup  Active  Life  LifeRemaining  Basis Method InServiceDate Convention  YearToDateDepreciation  LifeToDateDepreciation  cbiz_index InServiceDate_dt\n",
       "94085                       1      NYK_87   GL  NYK_ASSET    True    12              0 $10.00     SL      20140801         HY                     NaN                  $10.00          87       2014-08-01\n",
       "94086                       1      NYK_88   GL  NYK_ASSET    True    12              0 $10.00     SL      20140801         HY                     NaN                  $10.00          88       2014-08-01\n",
       "94087                       1      NYK_89   GL  NYK_ASSET    True    12              0 $20.00     SL      20140801         HY                     NaN                  $20.00          89       2014-08-01\n",
       "94088                       1      NYK_90   GL  NYK_ASSET    True    12              0 $20.00     SL      20140801         HY                     NaN                  $20.00          90       2014-08-01\n",
       "94089                       1      NYK_91   GL  NYK_ASSET    True    12              0 $20.00     SL      20140801         HY                     NaN                  $20.00          91       2014-08-01"
      ]
     },
     "execution_count": 39,
     "metadata": {},
     "output_type": "execute_result"
    }
   ],
   "source": [
    "nyack_load_asset_book.head()"
   ]
  },
  {
   "cell_type": "code",
   "execution_count": 40,
   "metadata": {},
   "outputs": [
    {
     "name": "stdout",
     "output_type": "stream",
     "text": [
      "<class 'pandas.core.frame.DataFrame'>\n",
      "Int64Index: 10949 entries, 94085 to 105033\n",
      "Data columns (total 15 columns):\n",
      " #   Column                  Non-Null Count  Dtype         \n",
      "---  ------                  --------------  -----         \n",
      " 0   FinanceEnterpriseGroup  10949 non-null  int64         \n",
      " 1   AssetImport             10949 non-null  object        \n",
      " 2   Book                    10949 non-null  object        \n",
      " 3   RunGroup                10949 non-null  object        \n",
      " 4   Active                  10949 non-null  bool          \n",
      " 5   Life                    10949 non-null  int32         \n",
      " 6   LifeRemaining           10949 non-null  int32         \n",
      " 7   Basis                   10949 non-null  float64       \n",
      " 8   Method                  10491 non-null  object        \n",
      " 9   InServiceDate           10949 non-null  object        \n",
      " 10  Convention              10949 non-null  object        \n",
      " 11  YearToDateDepreciation  0 non-null      float64       \n",
      " 12  LifeToDateDepreciation  10949 non-null  float64       \n",
      " 13  cbiz_index              10949 non-null  int32         \n",
      " 14  InServiceDate_dt        10949 non-null  datetime64[ns]\n",
      "dtypes: bool(1), datetime64[ns](1), float64(3), int32(3), int64(1), object(6)\n",
      "memory usage: 1.1+ MB\n"
     ]
    }
   ],
   "source": [
    "nyack_load_asset_book.info()"
   ]
  },
  {
   "cell_type": "code",
   "execution_count": null,
   "metadata": {},
   "outputs": [],
   "source": []
  },
  {
   "cell_type": "markdown",
   "metadata": {},
   "source": [
    "### nyack assets file load"
   ]
  },
  {
   "cell_type": "code",
   "execution_count": 41,
   "metadata": {},
   "outputs": [
    {
     "name": "stderr",
     "output_type": "stream",
     "text": [
      "C:\\Users\\mikra\\anaconda3\\lib\\site-packages\\IPython\\core\\interactiveshell.py:3165: DtypeWarning: Columns (12) have mixed types.Specify dtype option on import or set low_memory=False.\n",
      "  has_raised = await self.run_ast_nodes(code_ast.body, cell_name,\n"
     ]
    }
   ],
   "source": [
    "me_load_asset = pd.read_csv(r'C:\\Users\\mikra\\OneDrive\\Documents\\Work\\conversion\\SIT3\\november_AX2\\fixed_assets\\Entity_Asset_Import.csv',\n",
    "                           usecols=['FinanceEnterpriseGroup', 'AssetImport', 'RunGroup','Description', 'Classification',\n",
    "                                   'TagNumber','AssetGroup', 'AssetCategory', 'Reference2',\n",
    "                                   'Company','AssetType.Type','AssetAccountingUnitGroup','AssetAccountGroup',])"
   ]
  },
  {
   "cell_type": "code",
   "execution_count": 42,
   "metadata": {},
   "outputs": [
    {
     "data": {
      "text/plain": [
       "Index(['FinanceEnterpriseGroup', 'AssetImport', 'RunGroup', 'Description',\n",
       "       'Classification', 'TagNumber', 'AssetGroup', 'AssetCategory',\n",
       "       'Reference2', 'Company', 'AssetType.Type', 'AssetAccountingUnitGroup',\n",
       "       'AssetAccountGroup'],\n",
       "      dtype='object')"
      ]
     },
     "execution_count": 42,
     "metadata": {},
     "output_type": "execute_result"
    }
   ],
   "source": [
    "me_load_asset.columns"
   ]
  },
  {
   "cell_type": "code",
   "execution_count": 43,
   "metadata": {
    "scrolled": true
   },
   "outputs": [
    {
     "name": "stdout",
     "output_type": "stream",
     "text": [
      "<class 'pandas.core.frame.DataFrame'>\n",
      "RangeIndex: 105034 entries, 0 to 105033\n",
      "Data columns (total 13 columns):\n",
      " #   Column                    Non-Null Count   Dtype \n",
      "---  ------                    --------------   ----- \n",
      " 0   FinanceEnterpriseGroup    105034 non-null  int64 \n",
      " 1   AssetImport               105034 non-null  object\n",
      " 2   RunGroup                  105034 non-null  object\n",
      " 3   Description               105032 non-null  object\n",
      " 4   Classification            105034 non-null  object\n",
      " 5   TagNumber                 95502 non-null   object\n",
      " 6   AssetGroup                105034 non-null  object\n",
      " 7   AssetCategory             105034 non-null  object\n",
      " 8   Reference2                104494 non-null  object\n",
      " 9   Company                   105034 non-null  int64 \n",
      " 10  AssetType.Type            105034 non-null  object\n",
      " 11  AssetAccountingUnitGroup  105034 non-null  int64 \n",
      " 12  AssetAccountGroup         105034 non-null  object\n",
      "dtypes: int64(3), object(10)\n",
      "memory usage: 10.4+ MB\n"
     ]
    }
   ],
   "source": [
    "me_load_asset.info()"
   ]
  },
  {
   "cell_type": "code",
   "execution_count": 44,
   "metadata": {},
   "outputs": [
    {
     "data": {
      "text/plain": [
       "array(['BURK_REHAB_ASSET', 'WPH_ASSET', 'SLH_ASSET', 'BURKE_COVID_ASSET',\n",
       "       'BURKE_FOUNDATION_ASSET', 'NYK_ASSET'], dtype=object)"
      ]
     },
     "execution_count": 44,
     "metadata": {},
     "output_type": "execute_result"
    }
   ],
   "source": [
    "me_load_asset['RunGroup'].unique()"
   ]
  },
  {
   "cell_type": "code",
   "execution_count": 45,
   "metadata": {},
   "outputs": [],
   "source": [
    "me_load_asset_groups = me_load_asset.groupby('RunGroup')"
   ]
  },
  {
   "cell_type": "code",
   "execution_count": 46,
   "metadata": {},
   "outputs": [],
   "source": [
    "nyack_asset_load = me_load_asset_groups.get_group('NYK_ASSET')"
   ]
  },
  {
   "cell_type": "code",
   "execution_count": null,
   "metadata": {},
   "outputs": [],
   "source": []
  },
  {
   "cell_type": "code",
   "execution_count": null,
   "metadata": {},
   "outputs": [],
   "source": []
  },
  {
   "cell_type": "code",
   "execution_count": 47,
   "metadata": {},
   "outputs": [],
   "source": [
    "# nyack_asset_load = pd.read_csv(r\"C:\\Users\\mikra\\OneDrive\\Documents\\Work\\conversion\\oct_2021_ax2\\fixed_assets\\nyack\\NYK_AssetImport_Load.csv\",\n",
    "#                             usecols=(['FinanceEnterpriseGroup', 'AssetImport', 'Description',\n",
    "#        'Classification', 'TagNumber', 'AssetGroup', 'AssetCategory',\n",
    "#        'Reference2', 'Company', 'Currency', 'AssetLocation',\n",
    "#        'AssetAccountingUnitGroup', 'AssetAccountGroup']))"
   ]
  },
  {
   "cell_type": "code",
   "execution_count": null,
   "metadata": {},
   "outputs": [],
   "source": []
  },
  {
   "cell_type": "code",
   "execution_count": 48,
   "metadata": {},
   "outputs": [
    {
     "data": {
      "text/plain": [
       "Index(['FinanceEnterpriseGroup', 'AssetImport', 'RunGroup', 'Description',\n",
       "       'Classification', 'TagNumber', 'AssetGroup', 'AssetCategory',\n",
       "       'Reference2', 'Company', 'AssetType.Type', 'AssetAccountingUnitGroup',\n",
       "       'AssetAccountGroup'],\n",
       "      dtype='object')"
      ]
     },
     "execution_count": 48,
     "metadata": {},
     "output_type": "execute_result"
    }
   ],
   "source": [
    "nyack_asset_load.columns"
   ]
  },
  {
   "cell_type": "code",
   "execution_count": 49,
   "metadata": {},
   "outputs": [
    {
     "name": "stdout",
     "output_type": "stream",
     "text": [
      "<class 'pandas.core.frame.DataFrame'>\n",
      "Int64Index: 10949 entries, 94085 to 105033\n",
      "Data columns (total 13 columns):\n",
      " #   Column                    Non-Null Count  Dtype \n",
      "---  ------                    --------------  ----- \n",
      " 0   FinanceEnterpriseGroup    10949 non-null  int64 \n",
      " 1   AssetImport               10949 non-null  object\n",
      " 2   RunGroup                  10949 non-null  object\n",
      " 3   Description               10947 non-null  object\n",
      " 4   Classification            10949 non-null  object\n",
      " 5   TagNumber                 10949 non-null  object\n",
      " 6   AssetGroup                10949 non-null  object\n",
      " 7   AssetCategory             10949 non-null  object\n",
      " 8   Reference2                10409 non-null  object\n",
      " 9   Company                   10949 non-null  int64 \n",
      " 10  AssetType.Type            10949 non-null  object\n",
      " 11  AssetAccountingUnitGroup  10949 non-null  int64 \n",
      " 12  AssetAccountGroup         10949 non-null  object\n",
      "dtypes: int64(3), object(10)\n",
      "memory usage: 1.2+ MB\n"
     ]
    }
   ],
   "source": [
    "nyack_asset_load.info()"
   ]
  },
  {
   "cell_type": "code",
   "execution_count": 50,
   "metadata": {},
   "outputs": [
    {
     "data": {
      "text/plain": [
       "10949"
      ]
     },
     "execution_count": 50,
     "metadata": {},
     "output_type": "execute_result"
    }
   ],
   "source": [
    "nyack_asset_load['AssetImport'].nunique()"
   ]
  },
  {
   "cell_type": "code",
   "execution_count": 51,
   "metadata": {},
   "outputs": [
    {
     "name": "stderr",
     "output_type": "stream",
     "text": [
      "<ipython-input-51-f3fd18f8f22d>:1: SettingWithCopyWarning: \n",
      "A value is trying to be set on a copy of a slice from a DataFrame.\n",
      "Try using .loc[row_indexer,col_indexer] = value instead\n",
      "\n",
      "See the caveats in the documentation: https://pandas.pydata.org/pandas-docs/stable/user_guide/indexing.html#returning-a-view-versus-a-copy\n",
      "  nyack_asset_load['cbiz_index'] = nyack_asset_load['AssetImport'].apply(lambda x: int(x.split('_')[1]))\n"
     ]
    }
   ],
   "source": [
    "nyack_asset_load['cbiz_index'] = nyack_asset_load['AssetImport'].apply(lambda x: int(x.split('_')[1]))\n",
    "# nyack_asset_load['cbiz_asset_ids'] = nyack_asset_load['AssetImport'].apply(lambda x: (x.split('_')[1]))"
   ]
  },
  {
   "cell_type": "code",
   "execution_count": 52,
   "metadata": {},
   "outputs": [
    {
     "data": {
      "text/plain": [
       "array([2300], dtype=int64)"
      ]
     },
     "execution_count": 52,
     "metadata": {},
     "output_type": "execute_result"
    }
   ],
   "source": [
    "nyack_asset_load['Company'].unique()"
   ]
  },
  {
   "cell_type": "code",
   "execution_count": 53,
   "metadata": {},
   "outputs": [
    {
     "data": {
      "text/html": [
       "<div>\n",
       "<style scoped>\n",
       "    .dataframe tbody tr th:only-of-type {\n",
       "        vertical-align: middle;\n",
       "    }\n",
       "\n",
       "    .dataframe tbody tr th {\n",
       "        vertical-align: top;\n",
       "    }\n",
       "\n",
       "    .dataframe thead th {\n",
       "        text-align: right;\n",
       "    }\n",
       "</style>\n",
       "<table border=\"1\" class=\"dataframe\">\n",
       "  <thead>\n",
       "    <tr style=\"text-align: right;\">\n",
       "      <th></th>\n",
       "      <th>FinanceEnterpriseGroup</th>\n",
       "      <th>AssetImport</th>\n",
       "      <th>RunGroup</th>\n",
       "      <th>Description</th>\n",
       "      <th>Classification</th>\n",
       "      <th>TagNumber</th>\n",
       "      <th>AssetGroup</th>\n",
       "      <th>AssetCategory</th>\n",
       "      <th>Reference2</th>\n",
       "      <th>Company</th>\n",
       "      <th>AssetType.Type</th>\n",
       "      <th>AssetAccountingUnitGroup</th>\n",
       "      <th>AssetAccountGroup</th>\n",
       "      <th>cbiz_index</th>\n",
       "    </tr>\n",
       "  </thead>\n",
       "  <tbody>\n",
       "    <tr>\n",
       "      <th>94085</th>\n",
       "      <td>1</td>\n",
       "      <td>NYK_1</td>\n",
       "      <td>NYK_ASSET</td>\n",
       "      <td>COMPUTER UPGRADE 64MB TO 128MB</td>\n",
       "      <td>P</td>\n",
       "      <td>1248</td>\n",
       "      <td>CONVERSION</td>\n",
       "      <td>D</td>\n",
       "      <td>LTHHC</td>\n",
       "      <td>2300</td>\n",
       "      <td>MAJ_MOV</td>\n",
       "      <td>1</td>\n",
       "      <td>CIP</td>\n",
       "      <td>1</td>\n",
       "    </tr>\n",
       "    <tr>\n",
       "      <th>94086</th>\n",
       "      <td>1</td>\n",
       "      <td>NYK_10</td>\n",
       "      <td>NYK_ASSET</td>\n",
       "      <td>CRYO THERM 3</td>\n",
       "      <td>P</td>\n",
       "      <td>00029</td>\n",
       "      <td>CONVERSION</td>\n",
       "      <td>D</td>\n",
       "      <td>BLOOD BANK</td>\n",
       "      <td>2300</td>\n",
       "      <td>MED_EQUIP</td>\n",
       "      <td>1</td>\n",
       "      <td>CIP</td>\n",
       "      <td>10</td>\n",
       "    </tr>\n",
       "    <tr>\n",
       "      <th>94087</th>\n",
       "      <td>1</td>\n",
       "      <td>NYK_100</td>\n",
       "      <td>NYK_ASSET</td>\n",
       "      <td>CHAIR ARM SWIVEL MTL UPH</td>\n",
       "      <td>P</td>\n",
       "      <td>00231</td>\n",
       "      <td>CONVERSION</td>\n",
       "      <td>D</td>\n",
       "      <td>LABORATORY</td>\n",
       "      <td>2300</td>\n",
       "      <td>MAJ_MOV</td>\n",
       "      <td>1</td>\n",
       "      <td>CIP</td>\n",
       "      <td>100</td>\n",
       "    </tr>\n",
       "    <tr>\n",
       "      <th>94088</th>\n",
       "      <td>1</td>\n",
       "      <td>NYK_10000</td>\n",
       "      <td>NYK_ASSET</td>\n",
       "      <td>INFUSION SYS AUTOMATED PRESSURE</td>\n",
       "      <td>P</td>\n",
       "      <td>96000165</td>\n",
       "      <td>CONVERSION</td>\n",
       "      <td>D</td>\n",
       "      <td>OPERATING ROOM</td>\n",
       "      <td>2300</td>\n",
       "      <td>MED_EQUIP</td>\n",
       "      <td>1</td>\n",
       "      <td>CIP</td>\n",
       "      <td>10000</td>\n",
       "    </tr>\n",
       "    <tr>\n",
       "      <th>94089</th>\n",
       "      <td>1</td>\n",
       "      <td>NYK_10001</td>\n",
       "      <td>NYK_ASSET</td>\n",
       "      <td>COST ACCTG</td>\n",
       "      <td>P</td>\n",
       "      <td>96000166</td>\n",
       "      <td>CONVERSION</td>\n",
       "      <td>D</td>\n",
       "      <td>ACCOUNTING</td>\n",
       "      <td>2300</td>\n",
       "      <td>MAJ_MOV</td>\n",
       "      <td>1</td>\n",
       "      <td>CIP</td>\n",
       "      <td>10001</td>\n",
       "    </tr>\n",
       "    <tr>\n",
       "      <th>...</th>\n",
       "      <td>...</td>\n",
       "      <td>...</td>\n",
       "      <td>...</td>\n",
       "      <td>...</td>\n",
       "      <td>...</td>\n",
       "      <td>...</td>\n",
       "      <td>...</td>\n",
       "      <td>...</td>\n",
       "      <td>...</td>\n",
       "      <td>...</td>\n",
       "      <td>...</td>\n",
       "      <td>...</td>\n",
       "      <td>...</td>\n",
       "      <td>...</td>\n",
       "    </tr>\n",
       "    <tr>\n",
       "      <th>105029</th>\n",
       "      <td>1</td>\n",
       "      <td>NYK_9995</td>\n",
       "      <td>NYK_ASSET</td>\n",
       "      <td>SOFTWARE H/C INFO SYS</td>\n",
       "      <td>P</td>\n",
       "      <td>96000160</td>\n",
       "      <td>CONVERSION</td>\n",
       "      <td>D</td>\n",
       "      <td>LTHHC</td>\n",
       "      <td>2300</td>\n",
       "      <td>SFTWRE</td>\n",
       "      <td>1</td>\n",
       "      <td>CIP</td>\n",
       "      <td>9995</td>\n",
       "    </tr>\n",
       "    <tr>\n",
       "      <th>105030</th>\n",
       "      <td>1</td>\n",
       "      <td>NYK_9996</td>\n",
       "      <td>NYK_ASSET</td>\n",
       "      <td>PUMP CHEMICAL W/ACC</td>\n",
       "      <td>P</td>\n",
       "      <td>96000161</td>\n",
       "      <td>CONVERSION</td>\n",
       "      <td>D</td>\n",
       "      <td>MAINTENANCE</td>\n",
       "      <td>2300</td>\n",
       "      <td>MED_EQUIP</td>\n",
       "      <td>1</td>\n",
       "      <td>CIP</td>\n",
       "      <td>9996</td>\n",
       "    </tr>\n",
       "    <tr>\n",
       "      <th>105031</th>\n",
       "      <td>1</td>\n",
       "      <td>NYK_9997</td>\n",
       "      <td>NYK_ASSET</td>\n",
       "      <td>PROCESSOR SYS I</td>\n",
       "      <td>P</td>\n",
       "      <td>96000162</td>\n",
       "      <td>CONVERSION</td>\n",
       "      <td>D</td>\n",
       "      <td>OPERATING ROOM</td>\n",
       "      <td>2300</td>\n",
       "      <td>MED_EQUIP</td>\n",
       "      <td>1</td>\n",
       "      <td>CIP</td>\n",
       "      <td>9997</td>\n",
       "    </tr>\n",
       "    <tr>\n",
       "      <th>105032</th>\n",
       "      <td>1</td>\n",
       "      <td>NYK_9998</td>\n",
       "      <td>NYK_ASSET</td>\n",
       "      <td>CABINETS BLUE PRINT</td>\n",
       "      <td>P</td>\n",
       "      <td>96000163</td>\n",
       "      <td>CONVERSION</td>\n",
       "      <td>D</td>\n",
       "      <td>MAINTENANCE</td>\n",
       "      <td>2300</td>\n",
       "      <td>MAJ_MOV</td>\n",
       "      <td>1</td>\n",
       "      <td>CIP</td>\n",
       "      <td>9998</td>\n",
       "    </tr>\n",
       "    <tr>\n",
       "      <th>105033</th>\n",
       "      <td>1</td>\n",
       "      <td>NYK_9999</td>\n",
       "      <td>NYK_ASSET</td>\n",
       "      <td>STOOLS PNEUMATIC</td>\n",
       "      <td>P</td>\n",
       "      <td>96000164</td>\n",
       "      <td>CONVERSION</td>\n",
       "      <td>D</td>\n",
       "      <td>EMERGENCY ROOM</td>\n",
       "      <td>2300</td>\n",
       "      <td>MAJ_MOV</td>\n",
       "      <td>1</td>\n",
       "      <td>CIP</td>\n",
       "      <td>9999</td>\n",
       "    </tr>\n",
       "  </tbody>\n",
       "</table>\n",
       "<p>10949 rows × 14 columns</p>\n",
       "</div>"
      ],
      "text/plain": [
       "        FinanceEnterpriseGroup AssetImport   RunGroup                      Description Classification TagNumber  AssetGroup AssetCategory      Reference2  Company AssetType.Type  AssetAccountingUnitGroup AssetAccountGroup  cbiz_index\n",
       "94085                        1       NYK_1  NYK_ASSET   COMPUTER UPGRADE 64MB TO 128MB              P      1248  CONVERSION             D           LTHHC     2300        MAJ_MOV                         1               CIP           1\n",
       "94086                        1      NYK_10  NYK_ASSET                     CRYO THERM 3              P     00029  CONVERSION             D      BLOOD BANK     2300      MED_EQUIP                         1               CIP          10\n",
       "94087                        1     NYK_100  NYK_ASSET         CHAIR ARM SWIVEL MTL UPH              P     00231  CONVERSION             D      LABORATORY     2300        MAJ_MOV                         1               CIP         100\n",
       "94088                        1   NYK_10000  NYK_ASSET  INFUSION SYS AUTOMATED PRESSURE              P  96000165  CONVERSION             D  OPERATING ROOM     2300      MED_EQUIP                         1               CIP       10000\n",
       "94089                        1   NYK_10001  NYK_ASSET                       COST ACCTG              P  96000166  CONVERSION             D      ACCOUNTING     2300        MAJ_MOV                         1               CIP       10001\n",
       "...                        ...         ...        ...                              ...            ...       ...         ...           ...             ...      ...            ...                       ...               ...         ...\n",
       "105029                       1    NYK_9995  NYK_ASSET            SOFTWARE H/C INFO SYS              P  96000160  CONVERSION             D           LTHHC     2300         SFTWRE                         1               CIP        9995\n",
       "105030                       1    NYK_9996  NYK_ASSET              PUMP CHEMICAL W/ACC              P  96000161  CONVERSION             D     MAINTENANCE     2300      MED_EQUIP                         1               CIP        9996\n",
       "105031                       1    NYK_9997  NYK_ASSET                  PROCESSOR SYS I              P  96000162  CONVERSION             D  OPERATING ROOM     2300      MED_EQUIP                         1               CIP        9997\n",
       "105032                       1    NYK_9998  NYK_ASSET              CABINETS BLUE PRINT              P  96000163  CONVERSION             D     MAINTENANCE     2300        MAJ_MOV                         1               CIP        9998\n",
       "105033                       1    NYK_9999  NYK_ASSET                 STOOLS PNEUMATIC              P  96000164  CONVERSION             D  EMERGENCY ROOM     2300        MAJ_MOV                         1               CIP        9999\n",
       "\n",
       "[10949 rows x 14 columns]"
      ]
     },
     "execution_count": 53,
     "metadata": {},
     "output_type": "execute_result"
    }
   ],
   "source": [
    "nyack_asset_load"
   ]
  },
  {
   "cell_type": "code",
   "execution_count": 54,
   "metadata": {},
   "outputs": [
    {
     "data": {
      "text/plain": [
       "Index(['Asset Display Id', 'Asset Activity Code', 'Asset Tag Number',\n",
       "       'Account', 'Asset Class', 'Department Number', 'Department',\n",
       "       'Site Name', 'Building Name', 'Quantity', 'Asset Description',\n",
       "       'Acquisition Date', 'Historical Cost', 'Life Months',\n",
       "       'Period Depreciation', 'Accumulated Depreciation', 'Net Book Value'],\n",
       "      dtype='object')"
      ]
     },
     "execution_count": 54,
     "metadata": {},
     "output_type": "execute_result"
    }
   ],
   "source": [
    "nyack_cbiz_report.columns"
   ]
  },
  {
   "cell_type": "code",
   "execution_count": 55,
   "metadata": {},
   "outputs": [
    {
     "name": "stdout",
     "output_type": "stream",
     "text": [
      "<class 'pandas.core.frame.DataFrame'>\n",
      "RangeIndex: 16423 entries, 0 to 16422\n",
      "Data columns (total 17 columns):\n",
      " #   Column                    Non-Null Count  Dtype         \n",
      "---  ------                    --------------  -----         \n",
      " 0   Asset Display Id          16423 non-null  int64         \n",
      " 1   Asset Activity Code       16423 non-null  object        \n",
      " 2   Asset Tag Number          16423 non-null  object        \n",
      " 3   Account                   16423 non-null  object        \n",
      " 4   Asset Class               16423 non-null  object        \n",
      " 5   Department Number         15262 non-null  object        \n",
      " 6   Department                14880 non-null  object        \n",
      " 7   Site Name                 16423 non-null  object        \n",
      " 8   Building Name             16417 non-null  object        \n",
      " 9   Quantity                  16423 non-null  int64         \n",
      " 10  Asset Description         16421 non-null  object        \n",
      " 11  Acquisition Date          16423 non-null  datetime64[ns]\n",
      " 12  Historical Cost           16423 non-null  float64       \n",
      " 13  Life Months               16423 non-null  int32         \n",
      " 14  Period Depreciation       16423 non-null  float64       \n",
      " 15  Accumulated Depreciation  16423 non-null  float64       \n",
      " 16  Net Book Value            16423 non-null  float64       \n",
      "dtypes: datetime64[ns](1), float64(4), int32(1), int64(2), object(9)\n",
      "memory usage: 2.1+ MB\n"
     ]
    }
   ],
   "source": [
    "nyack_cbiz_report.info()"
   ]
  },
  {
   "cell_type": "code",
   "execution_count": 56,
   "metadata": {},
   "outputs": [
    {
     "name": "stdout",
     "output_type": "stream",
     "text": [
      "<class 'pandas.core.frame.DataFrame'>\n",
      "Int64Index: 10949 entries, 94085 to 105033\n",
      "Data columns (total 14 columns):\n",
      " #   Column                    Non-Null Count  Dtype \n",
      "---  ------                    --------------  ----- \n",
      " 0   FinanceEnterpriseGroup    10949 non-null  int64 \n",
      " 1   AssetImport               10949 non-null  object\n",
      " 2   RunGroup                  10949 non-null  object\n",
      " 3   Description               10947 non-null  object\n",
      " 4   Classification            10949 non-null  object\n",
      " 5   TagNumber                 10949 non-null  object\n",
      " 6   AssetGroup                10949 non-null  object\n",
      " 7   AssetCategory             10949 non-null  object\n",
      " 8   Reference2                10409 non-null  object\n",
      " 9   Company                   10949 non-null  int64 \n",
      " 10  AssetType.Type            10949 non-null  object\n",
      " 11  AssetAccountingUnitGroup  10949 non-null  int64 \n",
      " 12  AssetAccountGroup         10949 non-null  object\n",
      " 13  cbiz_index                10949 non-null  int64 \n",
      "dtypes: int64(4), object(10)\n",
      "memory usage: 1.3+ MB\n"
     ]
    }
   ],
   "source": [
    "nyack_asset_load.info()"
   ]
  },
  {
   "cell_type": "code",
   "execution_count": 57,
   "metadata": {},
   "outputs": [
    {
     "name": "stdout",
     "output_type": "stream",
     "text": [
      "<class 'pandas.core.frame.DataFrame'>\n",
      "Int64Index: 10949 entries, 94085 to 105033\n",
      "Data columns (total 15 columns):\n",
      " #   Column                  Non-Null Count  Dtype         \n",
      "---  ------                  --------------  -----         \n",
      " 0   FinanceEnterpriseGroup  10949 non-null  int64         \n",
      " 1   AssetImport             10949 non-null  object        \n",
      " 2   Book                    10949 non-null  object        \n",
      " 3   RunGroup                10949 non-null  object        \n",
      " 4   Active                  10949 non-null  bool          \n",
      " 5   Life                    10949 non-null  int32         \n",
      " 6   LifeRemaining           10949 non-null  int32         \n",
      " 7   Basis                   10949 non-null  float64       \n",
      " 8   Method                  10491 non-null  object        \n",
      " 9   InServiceDate           10949 non-null  object        \n",
      " 10  Convention              10949 non-null  object        \n",
      " 11  YearToDateDepreciation  0 non-null      float64       \n",
      " 12  LifeToDateDepreciation  10949 non-null  float64       \n",
      " 13  cbiz_index              10949 non-null  int32         \n",
      " 14  InServiceDate_dt        10949 non-null  datetime64[ns]\n",
      "dtypes: bool(1), datetime64[ns](1), float64(3), int32(3), int64(1), object(6)\n",
      "memory usage: 1.1+ MB\n"
     ]
    }
   ],
   "source": [
    "nyack_load_asset_book.info()"
   ]
  },
  {
   "cell_type": "markdown",
   "metadata": {},
   "source": [
    "\n",
    "#### Need to tie these numbers back to the Infor trial balances"
   ]
  },
  {
   "cell_type": "code",
   "execution_count": 58,
   "metadata": {},
   "outputs": [
    {
     "data": {
      "text/plain": [
       "Historical Cost            $142,561,523.94\n",
       "Accumulated Depreciation    $50,731,522.47\n",
       "Net Book Value              $91,830,001.47\n",
       "dtype: float64"
      ]
     },
     "execution_count": 58,
     "metadata": {},
     "output_type": "execute_result"
    }
   ],
   "source": [
    "cbiz_2300_merge = nyack_asset_load.merge(nyack_cbiz_report,how='inner',\n",
    "left_on='cbiz_index', right_on='Asset Display Id')\n",
    "\n",
    "cbiz_2300_merge[['Historical Cost', 'Accumulated Depreciation', 'Net Book Value']].sum()"
   ]
  },
  {
   "cell_type": "code",
   "execution_count": 59,
   "metadata": {},
   "outputs": [
    {
     "name": "stdout",
     "output_type": "stream",
     "text": [
      "<class 'pandas.core.frame.DataFrame'>\n",
      "Int64Index: 10949 entries, 0 to 10948\n",
      "Data columns (total 31 columns):\n",
      " #   Column                    Non-Null Count  Dtype         \n",
      "---  ------                    --------------  -----         \n",
      " 0   FinanceEnterpriseGroup    10949 non-null  int64         \n",
      " 1   AssetImport               10949 non-null  object        \n",
      " 2   RunGroup                  10949 non-null  object        \n",
      " 3   Description               10947 non-null  object        \n",
      " 4   Classification            10949 non-null  object        \n",
      " 5   TagNumber                 10949 non-null  object        \n",
      " 6   AssetGroup                10949 non-null  object        \n",
      " 7   AssetCategory             10949 non-null  object        \n",
      " 8   Reference2                10409 non-null  object        \n",
      " 9   Company                   10949 non-null  int64         \n",
      " 10  AssetType.Type            10949 non-null  object        \n",
      " 11  AssetAccountingUnitGroup  10949 non-null  int64         \n",
      " 12  AssetAccountGroup         10949 non-null  object        \n",
      " 13  cbiz_index                10949 non-null  int64         \n",
      " 14  Asset Display Id          10949 non-null  int64         \n",
      " 15  Asset Activity Code       10949 non-null  object        \n",
      " 16  Asset Tag Number          10949 non-null  object        \n",
      " 17  Account                   10949 non-null  object        \n",
      " 18  Asset Class               10949 non-null  object        \n",
      " 19  Department Number         10791 non-null  object        \n",
      " 20  Department                10409 non-null  object        \n",
      " 21  Site Name                 10949 non-null  object        \n",
      " 22  Building Name             10943 non-null  object        \n",
      " 23  Quantity                  10949 non-null  int64         \n",
      " 24  Asset Description         10947 non-null  object        \n",
      " 25  Acquisition Date          10949 non-null  datetime64[ns]\n",
      " 26  Historical Cost           10949 non-null  float64       \n",
      " 27  Life Months               10949 non-null  int32         \n",
      " 28  Period Depreciation       10949 non-null  float64       \n",
      " 29  Accumulated Depreciation  10949 non-null  float64       \n",
      " 30  Net Book Value            10949 non-null  float64       \n",
      "dtypes: datetime64[ns](1), float64(4), int32(1), int64(6), object(19)\n",
      "memory usage: 2.6+ MB\n"
     ]
    }
   ],
   "source": [
    "cbiz_2300_merge.info()"
   ]
  },
  {
   "cell_type": "code",
   "execution_count": 60,
   "metadata": {},
   "outputs": [
    {
     "data": {
      "text/plain": [
       "Historical Cost            $142,561,523.94\n",
       "Basis                      $142,561,523.94\n",
       "Accumulated Depreciation    $50,731,522.47\n",
       "LifeToDateDepreciation      $50,731,522.47\n",
       "Net Book Value              $91,830,001.47\n",
       "dtype: float64"
      ]
     },
     "execution_count": 60,
     "metadata": {},
     "output_type": "execute_result"
    }
   ],
   "source": [
    "cbiz_asset_and_book_2300_merge = cbiz_2300_merge.merge(nyack_load_asset_book, how='inner',\n",
    "                                 left_on='cbiz_index', right_on='cbiz_index').set_index('cbiz_index').\\\n",
    "                                 drop(['FinanceEnterpriseGroup_x', 'AssetImport_y', \n",
    "                                 'Classification',  'TagNumber', 'AssetGroup',\n",
    "                                 'AssetAccountingUnitGroup', 'AssetAccountGroup', 'Active', 'Reference2',\n",
    "                                 'AssetAccountingUnitGroup', 'FinanceEnterpriseGroup_y'], \n",
    "                                 axis=1)\n",
    "\n",
    "cbiz_asset_and_book_2300_merge[['Historical Cost', 'Basis', 'Accumulated Depreciation', \n",
    "                                'LifeToDateDepreciation','Net Book Value']].sum()"
   ]
  },
  {
   "cell_type": "code",
   "execution_count": null,
   "metadata": {},
   "outputs": [],
   "source": [
    "# nyack_cost_basis_diff = cbiz_asset_and_book_2300_merge[cbiz_asset_and_book_2300_merge['Historical Cost'] != cbiz_asset_and_book_2300_merge['Basis']]\n",
    "# (nyack_cost_basis_diff['Historical Cost'] - nyack_cost_basis_diff['Basis']).sum()"
   ]
  },
  {
   "cell_type": "code",
   "execution_count": null,
   "metadata": {},
   "outputs": [],
   "source": [
    "# nyack_cost_basis_diff"
   ]
  },
  {
   "cell_type": "code",
   "execution_count": null,
   "metadata": {},
   "outputs": [],
   "source": [
    "# (nyack_cost_basis_diff['Historical Cost'] - nyack_cost_basis_diff['Basis']).sum()"
   ]
  },
  {
   "cell_type": "code",
   "execution_count": null,
   "metadata": {},
   "outputs": [],
   "source": [
    "# (nyack_cost_basis_diff['Accumulated Depreciation'] - nyack_cost_basis_diff['LifeToDateDepreciation']).sum()"
   ]
  },
  {
   "cell_type": "code",
   "execution_count": null,
   "metadata": {},
   "outputs": [],
   "source": [
    "cbiz_asset_and_book_2300_merge.tail()"
   ]
  },
  {
   "cell_type": "code",
   "execution_count": null,
   "metadata": {},
   "outputs": [],
   "source": [
    "cbiz_asset_and_book_2300_merge.shape"
   ]
  },
  {
   "cell_type": "code",
   "execution_count": null,
   "metadata": {},
   "outputs": [],
   "source": [
    "cbiz_asset_and_book_2300_merge['AssetCategory'].value_counts()"
   ]
  },
  {
   "cell_type": "markdown",
   "metadata": {},
   "source": [
    "### Nyack Asset Visualizations"
   ]
  },
  {
   "cell_type": "code",
   "execution_count": null,
   "metadata": {},
   "outputs": [],
   "source": [
    "cbiz_asset_and_book_2300_merge.columns"
   ]
  },
  {
   "cell_type": "code",
   "execution_count": null,
   "metadata": {},
   "outputs": [],
   "source": [
    "cbiz_asset_and_book_2300_merge.info()"
   ]
  },
  {
   "cell_type": "code",
   "execution_count": null,
   "metadata": {},
   "outputs": [],
   "source": [
    "cbiz_asset_and_book_2300_merge['Asset Class'].unique()"
   ]
  },
  {
   "cell_type": "code",
   "execution_count": null,
   "metadata": {},
   "outputs": [],
   "source": [
    "nyack_asset_class_groups = cbiz_asset_and_book_2300_merge.groupby('Asset Class')"
   ]
  },
  {
   "cell_type": "code",
   "execution_count": null,
   "metadata": {},
   "outputs": [],
   "source": [
    "nyack_medical_equipment = nyack_asset_class_groups.get_group('MEDICAL EQUIPMENT')"
   ]
  },
  {
   "cell_type": "code",
   "execution_count": null,
   "metadata": {},
   "outputs": [],
   "source": [
    "# group the medical equipment asset group by inservice date and sum the historical cost by year\n",
    "nyack_medical_equipment.groupby(pd.Grouper(key='InServiceDate_dt', axis=0, freq='Y'))['Historical Cost'].sum()"
   ]
  },
  {
   "cell_type": "code",
   "execution_count": null,
   "metadata": {},
   "outputs": [],
   "source": []
  },
  {
   "cell_type": "markdown",
   "metadata": {},
   "source": [
    "### Load the FSM asset register for all companies"
   ]
  },
  {
   "cell_type": "code",
   "execution_count": null,
   "metadata": {},
   "outputs": [],
   "source": [
    "asset_download_all_entities = pd.read_csv(r\"C:\\Users\\mikra\\OneDrive\\Documents\\Work\\conversion\\SIT3\\november_AX2\\fixed_assets\\Asset Download All Entities 113021.csv\")"
   ]
  },
  {
   "cell_type": "code",
   "execution_count": null,
   "metadata": {},
   "outputs": [],
   "source": [
    "# asset_download_all_entities.info()"
   ]
  },
  {
   "cell_type": "code",
   "execution_count": null,
   "metadata": {},
   "outputs": [],
   "source": [
    "# look for NaN values in the company column\n",
    "\n",
    "asset_download_all_entities[asset_download_all_entities['Company'].isna()]\n"
   ]
  },
  {
   "cell_type": "code",
   "execution_count": null,
   "metadata": {},
   "outputs": [],
   "source": [
    "# replace 'NaN' in company column for a record\n",
    "\n",
    "# asset_download_all_entities.loc[126381, 'Company'] = ''"
   ]
  },
  {
   "cell_type": "code",
   "execution_count": null,
   "metadata": {},
   "outputs": [],
   "source": [
    "# cast the company column as a string and strip out the excess digits\n",
    "\n",
    "asset_download_all_entities['Company'] = asset_download_all_entities['Company'].astype('str').apply(lambda x: x[:4])"
   ]
  },
  {
   "cell_type": "code",
   "execution_count": null,
   "metadata": {},
   "outputs": [],
   "source": [
    "# group the FSM asset register by company\n",
    "\n",
    "fsm_asset_register_groupby_company = asset_download_all_entities.groupby('Company')\n"
   ]
  },
  {
   "cell_type": "code",
   "execution_count": null,
   "metadata": {
    "scrolled": true
   },
   "outputs": [],
   "source": [
    "# look at the asset register company groups keys\n",
    "\n",
    "fsm_asset_register_groupby_company.groups.keys()"
   ]
  },
  {
   "cell_type": "markdown",
   "metadata": {},
   "source": [
    "### Find Nyack 2300 records that are missing from the FSM asset register"
   ]
  },
  {
   "cell_type": "code",
   "execution_count": null,
   "metadata": {},
   "outputs": [],
   "source": [
    "assets_group_2300 = fsm_asset_register_groupby_company.get_group('2300')"
   ]
  },
  {
   "cell_type": "code",
   "execution_count": null,
   "metadata": {},
   "outputs": [],
   "source": [
    "assets_group_2300.columns"
   ]
  },
  {
   "cell_type": "code",
   "execution_count": null,
   "metadata": {},
   "outputs": [],
   "source": [
    "cbiz_asset_and_book_2300_merge.columns"
   ]
  },
  {
   "cell_type": "code",
   "execution_count": null,
   "metadata": {},
   "outputs": [],
   "source": [
    "cbiz_asset_and_book_2300_merge['AssetImport_x'] = cbiz_asset_and_book_2300_merge['AssetImport_x'].apply(lambda x: x.strip())\n",
    "assets_group_2300['Reference1'] = assets_group_2300['Reference1'].apply(lambda x: x.strip())"
   ]
  },
  {
   "cell_type": "code",
   "execution_count": null,
   "metadata": {},
   "outputs": [],
   "source": [
    "assets_group_2300.head()"
   ]
  },
  {
   "cell_type": "code",
   "execution_count": null,
   "metadata": {},
   "outputs": [],
   "source": [
    "assets_group_2300[['ItemTotalBaseCost', 'ItemTotalTransactionCost', 'TotalItemsBaseCost',\n",
    "                   'PostingBookBasis','PostingBookBookValue', 'TotalAccumulatedDepreciation', ]].sum()"
   ]
  },
  {
   "cell_type": "code",
   "execution_count": null,
   "metadata": {},
   "outputs": [],
   "source": [
    "assets_group_2300.info()"
   ]
  },
  {
   "cell_type": "code",
   "execution_count": null,
   "metadata": {},
   "outputs": [],
   "source": [
    "assets_group_2300['Reference1'] = assets_group_2300['Reference1'].apply(lambda x: x.strip())"
   ]
  },
  {
   "cell_type": "code",
   "execution_count": null,
   "metadata": {},
   "outputs": [],
   "source": [
    "# assets_group_2300['ItemTotalBaseCost'] = assets_group_2300['ItemTotalBaseCost'].apply(lambda x: float(x))"
   ]
  },
  {
   "cell_type": "code",
   "execution_count": null,
   "metadata": {},
   "outputs": [],
   "source": [
    "assets_group_2300.head()"
   ]
  },
  {
   "cell_type": "code",
   "execution_count": null,
   "metadata": {},
   "outputs": [],
   "source": [
    "assets_group_2300.info()"
   ]
  },
  {
   "cell_type": "code",
   "execution_count": null,
   "metadata": {},
   "outputs": [],
   "source": [
    "# add ther merge index column to the company asset group\n",
    "\n",
    "assets_group_2300['merge_index'] = assets_group_2300['Reference1'].apply(lambda x: int(x.split('_')[1]))"
   ]
  },
  {
   "cell_type": "code",
   "execution_count": null,
   "metadata": {},
   "outputs": [],
   "source": [
    "assets_group_2300 = assets_group_2300.set_index('merge_index')"
   ]
  },
  {
   "cell_type": "code",
   "execution_count": null,
   "metadata": {},
   "outputs": [],
   "source": [
    "assets_group_2300['cbiz_index'] = assets_group_2300['Reference1'].apply(lambda x: int(x.split('_')[1]))"
   ]
  },
  {
   "cell_type": "code",
   "execution_count": null,
   "metadata": {},
   "outputs": [],
   "source": [
    "cbiz_asset_and_book_2300_merge = cbiz_asset_and_book_2300_merge.sort_index()"
   ]
  },
  {
   "cell_type": "code",
   "execution_count": null,
   "metadata": {},
   "outputs": [],
   "source": [
    "cbiz_asset_and_book_2300_merge.index"
   ]
  },
  {
   "cell_type": "code",
   "execution_count": null,
   "metadata": {},
   "outputs": [],
   "source": [
    "assets_group_2300.index"
   ]
  },
  {
   "cell_type": "code",
   "execution_count": null,
   "metadata": {},
   "outputs": [],
   "source": [
    "assets_group_2300"
   ]
  },
  {
   "cell_type": "code",
   "execution_count": null,
   "metadata": {
    "scrolled": true
   },
   "outputs": [],
   "source": [
    "# isin() method returns a boolean array\n",
    "# cbiz_asset_and_book_2300_merge.index.isin(assets_group_2300.index)"
   ]
  },
  {
   "cell_type": "code",
   "execution_count": null,
   "metadata": {},
   "outputs": [],
   "source": [
    "# uset the boolean array as a filter in the df returns a df with matching index where array is True\n",
    "\n",
    "cbiz_infor_2300_matched = cbiz_asset_and_book_2300_merge[cbiz_asset_and_book_2300_merge.index.isin(assets_group_2300.index)]"
   ]
  },
  {
   "cell_type": "code",
   "execution_count": null,
   "metadata": {
    "scrolled": true
   },
   "outputs": [],
   "source": [
    "# use the '~' with .isin method to get notin results in the returned df\n",
    "\n",
    "missing_assets_2300 = cbiz_asset_and_book_2300_merge[~cbiz_asset_and_book_2300_merge.index.isin(assets_group_2300.index)]\n",
    "missing_assets_2300"
   ]
  },
  {
   "cell_type": "code",
   "execution_count": null,
   "metadata": {},
   "outputs": [],
   "source": [
    "missing_assets_2300.columns"
   ]
  },
  {
   "cell_type": "code",
   "execution_count": null,
   "metadata": {},
   "outputs": [],
   "source": [
    "missing_2300__records_acquired_value = missing_assets_2300['Historical Cost'].sum()"
   ]
  },
  {
   "cell_type": "code",
   "execution_count": null,
   "metadata": {},
   "outputs": [],
   "source": [
    "# assets_group_2300.info()"
   ]
  },
  {
   "cell_type": "code",
   "execution_count": null,
   "metadata": {},
   "outputs": [],
   "source": [
    "asset_register_2300_cost = assets_group_2300['PostingBookBasis'].apply(lambda x: float(x)).sum()"
   ]
  },
  {
   "cell_type": "code",
   "execution_count": null,
   "metadata": {},
   "outputs": [],
   "source": [
    "# comparing sum of missing records and total of records in FSM asset register indicates\n",
    "# that there is still missing cost; next step is to explore the cost column of the matched\n",
    "# records to see if there are differences in the asset register and the cbiz_load merged file\n",
    "\n",
    "sum_asset_register_and_missing_records_cost = asset_register_2300_cost + missing_2300__records_acquired_value\n",
    "sum_asset_register_and_missing_records_cost"
   ]
  },
  {
   "cell_type": "code",
   "execution_count": null,
   "metadata": {},
   "outputs": [],
   "source": [
    "cbiz_asset_and_book_2300_merge.columns"
   ]
  },
  {
   "cell_type": "code",
   "execution_count": null,
   "metadata": {},
   "outputs": [],
   "source": [
    "cbiz_asset_and_book_2300_merge[['Historical Cost', 'Basis', 'Accumulated Depreciation', 'Net Book Value']].sum()"
   ]
  },
  {
   "cell_type": "code",
   "execution_count": null,
   "metadata": {},
   "outputs": [],
   "source": [
    "# assets_group_2300.info()"
   ]
  },
  {
   "cell_type": "code",
   "execution_count": null,
   "metadata": {},
   "outputs": [],
   "source": [
    "# create a df from fsm asset group that contains the fsm assigned asset number\n",
    "\n",
    "fsm_asset_number = assets_group_2300[['Asset', 'cbiz_index']]\n",
    "fsm_asset_number"
   ]
  },
  {
   "cell_type": "markdown",
   "metadata": {},
   "source": [
    "### Calculate company Nyack 2300 depreciation expense for fiscal 2021 and compare to CBIZ projections"
   ]
  },
  {
   "cell_type": "code",
   "execution_count": null,
   "metadata": {},
   "outputs": [],
   "source": [
    "fsm_depreciation = pd.read_csv(r\"C:\\Users\\mikra\\OneDrive\\Documents\\Work\\conversion\\SIT3\\november_AX2\\fixed_assets\\Depreciation By Asset.csv\",\n",
    "                              usecols=['Asset', 'CurrentPeriodDepreciation'])"
   ]
  },
  {
   "cell_type": "code",
   "execution_count": null,
   "metadata": {},
   "outputs": [],
   "source": [
    "fsm_depreciation.columns"
   ]
  },
  {
   "cell_type": "code",
   "execution_count": null,
   "metadata": {},
   "outputs": [],
   "source": [
    "cbiz_asset_and_book_2300_merge.head()"
   ]
  },
  {
   "cell_type": "code",
   "execution_count": null,
   "metadata": {},
   "outputs": [],
   "source": [
    "cbiz_asset_and_book_2300_merge.info()"
   ]
  },
  {
   "cell_type": "code",
   "execution_count": null,
   "metadata": {},
   "outputs": [],
   "source": [
    "cbiz_asset_and_book_2300_merge.columns"
   ]
  },
  {
   "cell_type": "code",
   "execution_count": null,
   "metadata": {},
   "outputs": [],
   "source": [
    "df_depreciation_calc_2300 = cbiz_asset_and_book_2300_merge[[\n",
    "    'AssetImport_x',  'Asset Display Id', 'Description', 'InServiceDate_dt',\n",
    "    'Historical Cost', 'Life', 'Period Depreciation',\n",
    "    'Accumulated Depreciation', 'Net Book Value', 'LifeRemaining', 'Basis',\n",
    "     'Convention','LifeToDateDepreciation',\n",
    "]]"
   ]
  },
  {
   "cell_type": "code",
   "execution_count": null,
   "metadata": {},
   "outputs": [],
   "source": [
    "df_depreciation_calc_2300.tail(5)"
   ]
  },
  {
   "cell_type": "code",
   "execution_count": null,
   "metadata": {},
   "outputs": [],
   "source": [
    "df_depreciation_calc_2300['Life'].unique()"
   ]
  },
  {
   "cell_type": "code",
   "execution_count": null,
   "metadata": {},
   "outputs": [],
   "source": [
    "# data team question can we use dummy description\n",
    "df_depreciation_calc_2300[df_depreciation_calc_2300['Description'].isnull()]"
   ]
  },
  {
   "cell_type": "code",
   "execution_count": null,
   "metadata": {},
   "outputs": [],
   "source": [
    "# df_depreciation_calc_2300['full_dep_yr'].unique()"
   ]
  },
  {
   "cell_type": "code",
   "execution_count": null,
   "metadata": {},
   "outputs": [],
   "source": [
    "df_depreciation_calc_2300.info()"
   ]
  },
  {
   "cell_type": "code",
   "execution_count": null,
   "metadata": {},
   "outputs": [],
   "source": [
    "# df_depreciation_calc_2300.loc[49631]['InServiceDate_dt'] +\\\n",
    "# relativedelta(years=df_depreciation_calc_2300.loc[49631]['life_years'])"
   ]
  },
  {
   "cell_type": "code",
   "execution_count": null,
   "metadata": {},
   "outputs": [],
   "source": [
    "df_depreciation_calc_2300['Life_years'] = df_depreciation_calc_2300['Life'] / 12\n",
    "df_depreciation_calc_2300['Life_years'] = df_depreciation_calc_2300['Life_years'].astype('int')"
   ]
  },
  {
   "cell_type": "code",
   "execution_count": null,
   "metadata": {},
   "outputs": [],
   "source": [
    "df_depreciation_calc_2300['full_dep_yr'] =  df_depreciation_calc_2300['Life_years']\\\n",
    ".apply(lambda x: dateutil.relativedelta.relativedelta(years=x))"
   ]
  },
  {
   "cell_type": "code",
   "execution_count": null,
   "metadata": {},
   "outputs": [],
   "source": [
    "df_depreciation_calc_2300['full_dep_yr_2'] = df_depreciation_calc_2300['InServiceDate_dt'] +\\\n",
    "df_depreciation_calc_2300['full_dep_yr']"
   ]
  },
  {
   "cell_type": "code",
   "execution_count": null,
   "metadata": {},
   "outputs": [],
   "source": [
    "df_depreciation_calc_2300 = df_depreciation_calc_2300.merge(fsm_asset_number, how='left',\n",
    "                                            left_on='Asset Display Id', right_on=\"cbiz_index\")"
   ]
  },
  {
   "cell_type": "code",
   "execution_count": null,
   "metadata": {},
   "outputs": [],
   "source": [
    "df_depreciation_calc_2300.set_index('Asset Display Id', inplace=True)"
   ]
  },
  {
   "cell_type": "code",
   "execution_count": null,
   "metadata": {},
   "outputs": [],
   "source": [
    "df_depreciation_calc_2300['Life_years'].unique()"
   ]
  },
  {
   "cell_type": "code",
   "execution_count": null,
   "metadata": {
    "scrolled": false
   },
   "outputs": [],
   "source": [
    "df_depreciation_calc_2300.tail(5)"
   ]
  },
  {
   "cell_type": "code",
   "execution_count": null,
   "metadata": {},
   "outputs": [],
   "source": [
    "# test_df = df_depreciation_calc_3080.loc[[38285, 39094, 39860, 48386, 49631 ]]\n",
    "# test_df.loc[48386, 'life_years'] = 2\n",
    "# test_df.loc[48386, 'full_dep_yr_2'] = pd.datetime(2020, 7, 1)\n",
    "# test_df"
   ]
  },
  {
   "cell_type": "code",
   "execution_count": null,
   "metadata": {},
   "outputs": [],
   "source": [
    "balance_sheet_date = datetime(2020, 12, 31)\n",
    "balance_sheet_date_2021 = datetime(2021, 12, 31)"
   ]
  },
  {
   "cell_type": "code",
   "execution_count": null,
   "metadata": {},
   "outputs": [],
   "source": [
    "df_depreciation_calc_2300.columns"
   ]
  },
  {
   "cell_type": "code",
   "execution_count": null,
   "metadata": {},
   "outputs": [],
   "source": [
    "df_depreciation_calc_2300.info()"
   ]
  },
  {
   "cell_type": "code",
   "execution_count": null,
   "metadata": {},
   "outputs": [],
   "source": [
    "def dep_calc_2020(row):\n",
    "    \"\"\"\n",
    "    This function takes a dataframe row as a parameter and\n",
    "    calculates the straight line method depreciation using a half year convention.\n",
    "    It adds a column for the 2020 calculated depreciation to the dataframe\n",
    "    \"\"\"\n",
    "          \n",
    "    if row['Life_years'] < 1:\n",
    "        row['dep_exp_2020'] = 0\n",
    "        \n",
    "       \n",
    "    elif row['InServiceDate_dt'].year == balance_sheet_date.year:\n",
    "       \n",
    "        row['dep_exp_2020'] = row['Historical Cost']\\\n",
    "        / row['Life_years'] * .5\n",
    "    \n",
    "    elif row['full_dep_yr_2'].year == balance_sheet_date.year:\n",
    "        row['dep_exp_2020'] = row['Historical Cost']\\\n",
    "        / row['Life_years'] * .5\n",
    "      \n",
    "    elif (row['full_dep_yr_2'].year > balance_sheet_date.year) &\\\n",
    "    (row['InServiceDate_dt'].year < balance_sheet_date.year):\n",
    "        \n",
    "        row['dep_exp_2020'] = row['Historical Cost'] / row['Life_years']\n",
    "         \n",
    "    else:\n",
    "        row['dep_exp_2020'] = 0\n",
    "    \n",
    "    return row"
   ]
  },
  {
   "cell_type": "code",
   "execution_count": null,
   "metadata": {},
   "outputs": [],
   "source": [
    "def dep_calc_2021(row):\n",
    "    \n",
    "    \"\"\"\n",
    "    This function takes a dataframe row as a parameter and\n",
    "    calculates the straight line method depreciation using a half year convention.\n",
    "    It adds a column for the 2021 calculated depreciation to the dataframe\n",
    "    \"\"\"\n",
    "          \n",
    " \n",
    "    if row['Life_years'] < 1 :\n",
    "        row['dep_exp_2021'] = 0\n",
    "        \n",
    "    elif row['InServiceDate_dt'].year == balance_sheet_date_2021.year:\n",
    "       \n",
    "        row['dep_exp_2021'] = row['Historical Cost']\\\n",
    "        / row['Life_years'] * .5\n",
    "    \n",
    "    elif row['full_dep_yr_2'].year == balance_sheet_date_2021.year:\n",
    "        row['dep_exp_2021'] = row['Historical Cost']\\\n",
    "        / row['Life_years'] * .5\n",
    "      \n",
    "    elif (row['full_dep_yr_2'].year > balance_sheet_date_2021.year) &\\\n",
    "    (row['InServiceDate_dt'].year < balance_sheet_date_2021.year):\n",
    "        \n",
    "        row['dep_exp_2021'] = row['Historical Cost'] / row['Life_years']\n",
    "         \n",
    "    else:\n",
    "        row['dep_exp_2021'] = 0\n",
    "    \n",
    "    return row\n",
    "    "
   ]
  },
  {
   "cell_type": "code",
   "execution_count": null,
   "metadata": {},
   "outputs": [],
   "source": [
    "# add a column for 2020 depreciation\n",
    "df_depreciation_calc_2300 = df_depreciation_calc_2300.apply(dep_calc_2020, axis=1)"
   ]
  },
  {
   "cell_type": "code",
   "execution_count": null,
   "metadata": {},
   "outputs": [],
   "source": [
    "# compare calculated 2020 depreciation with Current YTD depreciation column (from cbiz)\n",
    "df_depreciation_calc_2300[['Period Depreciation', 'dep_exp_2020' ]].sum()"
   ]
  },
  {
   "cell_type": "code",
   "execution_count": null,
   "metadata": {},
   "outputs": [],
   "source": []
  },
  {
   "cell_type": "code",
   "execution_count": null,
   "metadata": {},
   "outputs": [],
   "source": [
    "# calculate 2021 depreciation and add column to df\n",
    "df_depreciation_calc_2300 = df_depreciation_calc_2300.apply(dep_calc_2021, axis=1)"
   ]
  },
  {
   "cell_type": "code",
   "execution_count": null,
   "metadata": {},
   "outputs": [],
   "source": [
    "df_depreciation_calc_2300.columns"
   ]
  },
  {
   "cell_type": "code",
   "execution_count": null,
   "metadata": {},
   "outputs": [],
   "source": [
    "df_depreciation_calc_2300[['Period Depreciation', 'dep_exp_2020', 'dep_exp_2021' ]].sum()"
   ]
  },
  {
   "cell_type": "code",
   "execution_count": null,
   "metadata": {},
   "outputs": [],
   "source": [
    "# filter the df for columns that have a different cbiz depreciation expense and calculated depreciation expense\n",
    "df_depreciation_calc_2300[(df_depreciation_calc_2300['Period Depreciation'] != df_depreciation_calc_2300['dep_exp_2020'])]  "
   ]
  },
  {
   "cell_type": "code",
   "execution_count": null,
   "metadata": {},
   "outputs": [],
   "source": [
    "df_depreciation_calc_2300[abs(df_depreciation_calc_2300['Period Depreciation'] - df_depreciation_calc_2300['dep_exp_2020']) > 100]"
   ]
  },
  {
   "cell_type": "code",
   "execution_count": null,
   "metadata": {},
   "outputs": [],
   "source": [
    "# filter the df for columns that have a different depreciation expense for 2020 and 2021\n",
    "df_depreciation_calc_2300[df_depreciation_calc_2300['dep_exp_2020'] != df_depreciation_calc_2300['dep_exp_2021' ]]\n"
   ]
  },
  {
   "cell_type": "code",
   "execution_count": null,
   "metadata": {},
   "outputs": [],
   "source": [
    "# populate a column with 2020 YTD depreciation expense through November 2021\n",
    "\n",
    "df_depreciation_calc_2300['depr_ytd_oct'] = df_depreciation_calc_2300['dep_exp_2021'] * (10/12)"
   ]
  },
  {
   "cell_type": "code",
   "execution_count": null,
   "metadata": {},
   "outputs": [],
   "source": [
    "df_depreciation_calc_2300[['Period Depreciation', 'dep_exp_2020', 'dep_exp_2021', 'depr_ytd_oct' ]].sum()"
   ]
  },
  {
   "cell_type": "code",
   "execution_count": null,
   "metadata": {},
   "outputs": [],
   "source": [
    "# cbiz_asset_and_book_2300_merge = cbiz_asset_and_book_3080_merge.merge(fsm_asset_number, how='left',\n",
    "#                                             left_on='Asset ID', right_on=\"cbiz_index\")"
   ]
  },
  {
   "cell_type": "code",
   "execution_count": null,
   "metadata": {},
   "outputs": [],
   "source": [
    "# cbiz_asset_and_book_3080_merge[' Acquired Value* '].sum()"
   ]
  },
  {
   "cell_type": "code",
   "execution_count": null,
   "metadata": {},
   "outputs": [],
   "source": [
    "# df_depreciation_calc_3080[' Acquired Value* '].sum()"
   ]
  },
  {
   "cell_type": "code",
   "execution_count": null,
   "metadata": {},
   "outputs": [],
   "source": [
    "# df_depreciation_calc_2300 = df_depreciation_calc_3080.merge(fsm_asset_number, how='left',\n",
    "#                                             left_on='Asset ID', right_on=\"cbiz_index\")"
   ]
  },
  {
   "cell_type": "code",
   "execution_count": null,
   "metadata": {},
   "outputs": [],
   "source": [
    "df_depreciation_calc_2300.head()"
   ]
  },
  {
   "cell_type": "code",
   "execution_count": null,
   "metadata": {},
   "outputs": [],
   "source": [
    "df_depreciation_calc_2300.info()"
   ]
  },
  {
   "cell_type": "code",
   "execution_count": null,
   "metadata": {},
   "outputs": [],
   "source": [
    "df_depreciation_calc_2300.columns"
   ]
  },
  {
   "cell_type": "code",
   "execution_count": null,
   "metadata": {},
   "outputs": [],
   "source": [
    "df_depreciation_calc_2300.head()"
   ]
  },
  {
   "cell_type": "code",
   "execution_count": null,
   "metadata": {},
   "outputs": [],
   "source": [
    "df_depreciation_calc_2300 = df_depreciation_calc_2300[['AssetImport_x', 'Description', 'InServiceDate_dt',\n",
    "       'Historical Cost',  'Basis',  'Period Depreciation', 'LifeToDateDepreciation',\n",
    "       'Net Book Value', 'Life_years','full_dep_yr_2', 'LifeRemaining', 'dep_exp_2020', 'dep_exp_2021', 'depr_ytd_oct', 'Asset' ]]\n",
    "\n",
    "df_depreciation_calc_2300 = df_depreciation_calc_2300.merge(fsm_depreciation, how='left',\n",
    "                                                           left_on='Asset', right_on='Asset')\n",
    "\n",
    "df_depreciation_calc_2300 = df_depreciation_calc_2300[['AssetImport_x', 'Asset','Description', 'InServiceDate_dt',\n",
    "       'Historical Cost',  'Basis', 'Period Depreciation', 'LifeToDateDepreciation',\n",
    "       'Net Book Value', 'Life_years','full_dep_yr_2', 'LifeRemaining', 'dep_exp_2020', 'dep_exp_2021', 'depr_ytd_oct', 'CurrentPeriodDepreciation'  ]]"
   ]
  },
  {
   "cell_type": "code",
   "execution_count": null,
   "metadata": {},
   "outputs": [],
   "source": [
    "df_depreciation_calc_2300.tail()"
   ]
  },
  {
   "cell_type": "code",
   "execution_count": null,
   "metadata": {},
   "outputs": [],
   "source": [
    "# df_depreciation_calc_2300.to_csv(\n",
    "#     r'C:\\Users\\mikra\\OneDrive\\Documents\\Work\\conversion\\SIT3\\november_AX2\\fixed_assets\\nyack\\output_2300\\sit3_depreciation_2300.csv'\n",
    "# )"
   ]
  },
  {
   "cell_type": "code",
   "execution_count": null,
   "metadata": {},
   "outputs": [],
   "source": []
  }
 ],
 "metadata": {
  "kernelspec": {
   "display_name": "Python 3",
   "language": "python",
   "name": "python3"
  },
  "language_info": {
   "codemirror_mode": {
    "name": "ipython",
    "version": 3
   },
   "file_extension": ".py",
   "mimetype": "text/x-python",
   "name": "python",
   "nbconvert_exporter": "python",
   "pygments_lexer": "ipython3",
   "version": "3.8.5"
  }
 },
 "nbformat": 4,
 "nbformat_minor": 4
}

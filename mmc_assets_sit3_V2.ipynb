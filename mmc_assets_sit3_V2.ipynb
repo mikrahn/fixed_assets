{
 "cells": [
  {
   "cell_type": "code",
   "execution_count": 1,
   "metadata": {},
   "outputs": [],
   "source": [
    "import pandas as pd\n",
    "import numpy as np\n",
    "pd.set_option(\"display.expand_frame_repr\", False)\n",
    "pd.set_option(\"display.max_row\", 500)\n",
    "pd.set_option('display.max.columns', None)\n",
    "pd.set_option('display.precision', 2)\n",
    "pd.options.display.float_format = '${:,.2f}'.format\n",
    "from datetime import date, time, datetime, timedelta\n",
    "import dateutil\n",
    "from dateutil.relativedelta import relativedelta"
   ]
  },
  {
   "cell_type": "markdown",
   "metadata": {},
   "source": [
    "## MMC CBIZ report import / cleanup"
   ]
  },
  {
   "cell_type": "code",
   "execution_count": 322,
   "metadata": {},
   "outputs": [],
   "source": [
    "mmc_cbiz_report = pd.read_csv(r'C:\\Users\\Michael\\OneDrive\\Documents\\Work\\conversion\\SIT3\\sit3_environment\\fixed_assets\\source_files_2021\\mmc\\Montefiore Medical Center_FY21_Asset List v1.3 (3).csv',\n",
    "                              \n",
    "                             \n",
    "                         \n",
    "                         usecols=['Sys No', 'Asset ID', 'Status', 'Location Desc', 'Prev', \n",
    "                                  'Account Desc.', 'Quantity', 'Acquisition Date', ' Acquired Value* ',\n",
    "                                 'Equip', 'Method_1', 'In Svc Date*',\n",
    "                                 'Est Life*', ' Current YTD* ', ' Current Accum* ', ' NBV* ',\n",
    "                                 'Depr Method*', 'Method_2', 'In Svc Date*.1', 'Est Life*.1',\n",
    "                                 ' Current YTD* .1', ' Current Accum* .1', ' NBV* .1', 'Depr Method*.1'],\n",
    "                             )\n",
    "\n"
   ]
  },
  {
   "cell_type": "code",
   "execution_count": 323,
   "metadata": {},
   "outputs": [
    {
     "data": {
      "text/plain": [
       "Index(['Sys No', 'Asset ID', 'Status', 'Prev', 'Location Desc',\n",
       "       'Account Desc.', 'Quantity', 'Acquisition Date', ' Acquired Value* ',\n",
       "       'Equip', 'Method_1', 'In Svc Date*', 'Est Life*', ' Current YTD* ',\n",
       "       ' Current Accum* ', ' NBV* ', 'Depr Method*', 'Method_2',\n",
       "       'In Svc Date*.1', 'Est Life*.1', ' Current YTD* .1',\n",
       "       ' Current Accum* .1', ' NBV* .1', 'Depr Method*.1'],\n",
       "      dtype='object')"
      ]
     },
     "execution_count": 323,
     "metadata": {},
     "output_type": "execute_result"
    }
   ],
   "source": [
    "mmc_cbiz_report.columns"
   ]
  },
  {
   "cell_type": "code",
   "execution_count": 324,
   "metadata": {},
   "outputs": [],
   "source": [
    "# sum all the missing values in the df by applying df.isnull() and passing the\n",
    "# resulting boolean series into np.count_nonzero() method\n",
    "# np.count_nonzero(mmc_cbiz_report.isnull())"
   ]
  },
  {
   "cell_type": "code",
   "execution_count": null,
   "metadata": {},
   "outputs": [],
   "source": []
  },
  {
   "cell_type": "code",
   "execution_count": 325,
   "metadata": {},
   "outputs": [],
   "source": [
    "# calculate the missing fields by column\n",
    "# num_rows = mmc_cbiz_report.shape[0]\n",
    "# num_missing = num_rows - mmc_cbiz_report.count()\n",
    "# num_missing"
   ]
  },
  {
   "cell_type": "code",
   "execution_count": 326,
   "metadata": {},
   "outputs": [],
   "source": [
    "# mmc_tb = pd.read_csv(r'C:\\Users\\Michael\\OneDrive\\Documents\\Work\\conversion\\august_2021\\sap_tb_2020.csv')"
   ]
  },
  {
   "cell_type": "code",
   "execution_count": 327,
   "metadata": {},
   "outputs": [
    {
     "name": "stdout",
     "output_type": "stream",
     "text": [
      "<class 'pandas.core.frame.DataFrame'>\n",
      "RangeIndex: 29264 entries, 0 to 29263\n",
      "Data columns (total 24 columns):\n",
      " #   Column              Non-Null Count  Dtype  \n",
      "---  ------              --------------  -----  \n",
      " 0   Sys No              29264 non-null  int64  \n",
      " 1   Asset ID            29264 non-null  int64  \n",
      " 2   Status              29264 non-null  object \n",
      " 3   Prev                27327 non-null  float64\n",
      " 4   Location Desc       29264 non-null  object \n",
      " 5   Account Desc.       29262 non-null  object \n",
      " 6   Quantity            29264 non-null  int64  \n",
      " 7   Acquisition Date    29264 non-null  object \n",
      " 8    Acquired Value*    29264 non-null  object \n",
      " 9   Equip               26173 non-null  object \n",
      " 10  Method_1            28332 non-null  float64\n",
      " 11  In Svc Date*        29264 non-null  object \n",
      " 12  Est Life*           29264 non-null  object \n",
      " 13   Current YTD*       29264 non-null  object \n",
      " 14   Current Accum*     29264 non-null  object \n",
      " 15   NBV*               29264 non-null  object \n",
      " 16  Depr Method*        29264 non-null  object \n",
      " 17  Method_2            27327 non-null  float64\n",
      " 18  In Svc Date*.1      29264 non-null  object \n",
      " 19  Est Life*.1         29264 non-null  object \n",
      " 20   Current YTD* .1    29264 non-null  object \n",
      " 21   Current Accum* .1  29264 non-null  object \n",
      " 22   NBV* .1            29264 non-null  object \n",
      " 23  Depr Method*.1      29264 non-null  object \n",
      "dtypes: float64(3), int64(3), object(18)\n",
      "memory usage: 5.4+ MB\n"
     ]
    }
   ],
   "source": [
    "mmc_cbiz_report.info()"
   ]
  },
  {
   "cell_type": "code",
   "execution_count": 328,
   "metadata": {},
   "outputs": [],
   "source": [
    "\n",
    "mmc_cbiz_report['Asset ID'] = mmc_cbiz_report['Asset ID'].astype('int32')\n",
    "mmc_cbiz_report['Quantity'] = mmc_cbiz_report['Quantity'].astype('int32')\n"
   ]
  },
  {
   "cell_type": "code",
   "execution_count": 329,
   "metadata": {},
   "outputs": [],
   "source": [
    "# mmc_cbiz_report.loc[28782] = mmc_cbiz_report.loc[28782].fillna(0)\n",
    "# mmc_cbiz_report.loc[28782, 'Est Life*.1'] = ' '\n",
    "# mmc_cbiz_report.loc[28782, ['Est Life*', 'life_years']] = 'NaN'\n"
   ]
  },
  {
   "cell_type": "code",
   "execution_count": 330,
   "metadata": {},
   "outputs": [],
   "source": [
    "mmc_cbiz_report['Depr Method*'] = mmc_cbiz_report['Depr Method*'].astype('category')\n",
    "mmc_cbiz_report['Depr Method*.1'] = mmc_cbiz_report['Depr Method*.1'].astype('category')\n",
    "mmc_cbiz_report['Method_1'] = mmc_cbiz_report['Method_1'].astype('category')\n",
    "mmc_cbiz_report['Method_2'] = mmc_cbiz_report['Method_1'].astype('category')"
   ]
  },
  {
   "cell_type": "code",
   "execution_count": 331,
   "metadata": {},
   "outputs": [],
   "source": [
    "mmc_cbiz_report[' Current YTD* '].fillna('-', inplace=True)\n",
    "mmc_cbiz_report[' Current Accum* '].fillna('-', inplace=True)\n",
    "mmc_cbiz_report[' NBV* '].fillna('-', inplace=True)\n",
    "mmc_cbiz_report[' Current YTD* .1'].fillna('-', inplace=True)\n",
    "mmc_cbiz_report[' Current Accum* .1'].fillna('-', inplace=True)\n",
    "mmc_cbiz_report[' NBV* .1'].fillna('-', inplace=True)\n",
    "mmc_cbiz_report[' Acquired Value* '].fillna('-', inplace=True)"
   ]
  },
  {
   "cell_type": "code",
   "execution_count": 332,
   "metadata": {},
   "outputs": [],
   "source": [
    "def ser_to_float(ser):\n",
    "    ser = ser.str.strip()\n",
    "    ser = ser.apply(lambda x: x.replace(' - ', 'NaN'))\n",
    "    ser = ser.apply(lambda x: x.replace('-', 'NaN'))\n",
    "    ser = ser.apply(lambda x: x.replace(',', ''))\n",
    "    ser = ser.apply(lambda x: x.replace('-', 'Nan'))\n",
    "    ser = ser.apply(lambda x: x.replace(' ', ''))\n",
    "    ser = ser.apply(lambda x: x.replace('(', ''))\n",
    "    ser = ser.apply(lambda x: x.replace(')', ''))\n",
    "    ser = ser.astype(float)\n",
    "    return ser\n",
    "\n",
    "\n",
    "    "
   ]
  },
  {
   "cell_type": "code",
   "execution_count": 333,
   "metadata": {},
   "outputs": [
    {
     "name": "stdout",
     "output_type": "stream",
     "text": [
      "<class 'pandas.core.frame.DataFrame'>\n",
      "RangeIndex: 29264 entries, 0 to 29263\n",
      "Data columns (total 24 columns):\n",
      " #   Column              Non-Null Count  Dtype   \n",
      "---  ------              --------------  -----   \n",
      " 0   Sys No              29264 non-null  int64   \n",
      " 1   Asset ID            29264 non-null  int32   \n",
      " 2   Status              29264 non-null  object  \n",
      " 3   Prev                27327 non-null  float64 \n",
      " 4   Location Desc       29264 non-null  object  \n",
      " 5   Account Desc.       29262 non-null  object  \n",
      " 6   Quantity            29264 non-null  int32   \n",
      " 7   Acquisition Date    29264 non-null  object  \n",
      " 8    Acquired Value*    29264 non-null  object  \n",
      " 9   Equip               26173 non-null  object  \n",
      " 10  Method_1            28332 non-null  category\n",
      " 11  In Svc Date*        29264 non-null  object  \n",
      " 12  Est Life*           29264 non-null  object  \n",
      " 13   Current YTD*       29264 non-null  object  \n",
      " 14   Current Accum*     29264 non-null  object  \n",
      " 15   NBV*               29264 non-null  object  \n",
      " 16  Depr Method*        29264 non-null  category\n",
      " 17  Method_2            28332 non-null  category\n",
      " 18  In Svc Date*.1      29264 non-null  object  \n",
      " 19  Est Life*.1         29264 non-null  object  \n",
      " 20   Current YTD* .1    29264 non-null  object  \n",
      " 21   Current Accum* .1  29264 non-null  object  \n",
      " 22   NBV* .1            29264 non-null  object  \n",
      " 23  Depr Method*.1      29264 non-null  category\n",
      "dtypes: category(4), float64(1), int32(2), int64(1), object(16)\n",
      "memory usage: 4.4+ MB\n"
     ]
    }
   ],
   "source": [
    "mmc_cbiz_report.info()"
   ]
  },
  {
   "cell_type": "code",
   "execution_count": 334,
   "metadata": {},
   "outputs": [
    {
     "data": {
      "text/plain": [
       "Index(['Sys No', 'Asset ID', 'Status', 'Prev', 'Location Desc',\n",
       "       'Account Desc.', 'Quantity', 'Acquisition Date', ' Acquired Value* ',\n",
       "       'Equip', 'Method_1', 'In Svc Date*', 'Est Life*', ' Current YTD* ',\n",
       "       ' Current Accum* ', ' NBV* ', 'Depr Method*', 'Method_2',\n",
       "       'In Svc Date*.1', 'Est Life*.1', ' Current YTD* .1',\n",
       "       ' Current Accum* .1', ' NBV* .1', 'Depr Method*.1'],\n",
       "      dtype='object')"
      ]
     },
     "execution_count": 334,
     "metadata": {},
     "output_type": "execute_result"
    }
   ],
   "source": [
    "mmc_cbiz_report.columns"
   ]
  },
  {
   "cell_type": "code",
   "execution_count": 335,
   "metadata": {},
   "outputs": [],
   "source": [
    "mmc_cbiz_report[' Current YTD* '] = ser_to_float(mmc_cbiz_report[' Current YTD* '])\n",
    "mmc_cbiz_report[' Current Accum* '] = ser_to_float(mmc_cbiz_report[' Current Accum* '])\n",
    "mmc_cbiz_report[' NBV* '] = ser_to_float(mmc_cbiz_report[' NBV* '])\n",
    "mmc_cbiz_report[' Acquired Value* '] = ser_to_float(mmc_cbiz_report[' Acquired Value* '])\n",
    "mmc_cbiz_report[' Current YTD* .1'] = ser_to_float(mmc_cbiz_report[' Current YTD* .1'])\n",
    "mmc_cbiz_report[' Current Accum* .1'] = ser_to_float(mmc_cbiz_report[' Current Accum* .1'])\n",
    "mmc_cbiz_report[' NBV* .1'] = ser_to_float(mmc_cbiz_report[' NBV* .1'])"
   ]
  },
  {
   "cell_type": "code",
   "execution_count": 336,
   "metadata": {},
   "outputs": [
    {
     "name": "stdout",
     "output_type": "stream",
     "text": [
      "<class 'pandas.core.frame.DataFrame'>\n",
      "RangeIndex: 29264 entries, 0 to 29263\n",
      "Data columns (total 24 columns):\n",
      " #   Column              Non-Null Count  Dtype   \n",
      "---  ------              --------------  -----   \n",
      " 0   Sys No              29264 non-null  int64   \n",
      " 1   Asset ID            29264 non-null  int32   \n",
      " 2   Status              29264 non-null  object  \n",
      " 3   Prev                27327 non-null  float64 \n",
      " 4   Location Desc       29264 non-null  object  \n",
      " 5   Account Desc.       29262 non-null  object  \n",
      " 6   Quantity            29264 non-null  int32   \n",
      " 7   Acquisition Date    29264 non-null  object  \n",
      " 8    Acquired Value*    28758 non-null  float64 \n",
      " 9   Equip               26173 non-null  object  \n",
      " 10  Method_1            28332 non-null  category\n",
      " 11  In Svc Date*        29264 non-null  object  \n",
      " 12  Est Life*           29264 non-null  object  \n",
      " 13   Current YTD*       6919 non-null   float64 \n",
      " 14   Current Accum*     28721 non-null  float64 \n",
      " 15   NBV*               6464 non-null   float64 \n",
      " 16  Depr Method*        29264 non-null  category\n",
      " 17  Method_2            28332 non-null  category\n",
      " 18  In Svc Date*.1      29264 non-null  object  \n",
      " 19  Est Life*.1         29264 non-null  object  \n",
      " 20   Current YTD* .1    6919 non-null   float64 \n",
      " 21   Current Accum* .1  28721 non-null  float64 \n",
      " 22   NBV* .1            6386 non-null   float64 \n",
      " 23  Depr Method*.1      29264 non-null  category\n",
      "dtypes: category(4), float64(8), int32(2), int64(1), object(9)\n",
      "memory usage: 4.4+ MB\n"
     ]
    }
   ],
   "source": [
    "mmc_cbiz_report.info()"
   ]
  },
  {
   "cell_type": "code",
   "execution_count": 337,
   "metadata": {},
   "outputs": [
    {
     "data": {
      "text/plain": [
       "array(['00 yrs 00 mos', '10 yrs 00 mos', '15 yrs 00 mos', '05 yrs 00 mos',\n",
       "       '14 yrs 00 mos', '20 yrs 00 mos', '08 yrs 00 mos', '21 yrs 00 mos',\n",
       "       '22 yrs 00 mos', '13 yrs 00 mos', '07 yrs 00 mos', '11 yrs 00 mos',\n",
       "       '29 yrs 00 mos', '19 yrs 00 mos', '18 yrs 00 mos', '16 yrs 00 mos',\n",
       "       '03 yrs 00 mos', '09 yrs 00 mos', '24 yrs 00 mos', '23 yrs 00 mos',\n",
       "       '33 yrs 00 mos', '32 yrs 00 mos', '17 yrs 00 mos', '12 yrs 00 mos',\n",
       "       '40 yrs 00 mos', '06 yrs 00 mos', '04 yrs 00 mos', '25 yrs 00 mos',\n",
       "       '27 yrs 00 mos', '30 yrs 00 mos', '44 yrs 00 mos', '35 yrs 00 mos',\n",
       "       '26 yrs 00 mos', '28 yrs 00 mos', '36 yrs 00 mos', '37 yrs 00 mos',\n",
       "       '45 yrs 00 mos', '39 yrs 00 mos', '11 yrs 09 mos', '95 yrs 00 mos'],\n",
       "      dtype=object)"
      ]
     },
     "execution_count": 337,
     "metadata": {},
     "output_type": "execute_result"
    }
   ],
   "source": [
    "mmc_cbiz_report['Est Life*.1'].unique()"
   ]
  },
  {
   "cell_type": "code",
   "execution_count": 338,
   "metadata": {},
   "outputs": [],
   "source": [
    "# mmc_cbiz_report['Est Life*.1'] = mmc_cbiz_report['Est Life*.1'].apply(lambda x: x.replace(' - ', 'NaN'))\n",
    "# mmc_cbiz_report['Est Life*.1'] = mmc_cbiz_report['Est Life*.1'].apply(lambda x: x.replace(',', ''))\n",
    "# mmc_cbiz_report['Est Life*.1'] = mmc_cbiz_report['Est Life*.1'].apply(lambda x: x.replace('-', 'Nan'))\n",
    "# mmc_cbiz_report['Est Life*.1'] = mmc_cbiz_report['Est Life*.1'].apply(lambda x: x.replace(' ', ''))"
   ]
  },
  {
   "cell_type": "code",
   "execution_count": 339,
   "metadata": {},
   "outputs": [],
   "source": [
    "mmc_cbiz_report['Acquisition Date'] = pd.to_datetime(mmc_cbiz_report['Acquisition Date'])\n",
    "mmc_cbiz_report['In Svc Date*'] = pd.to_datetime(mmc_cbiz_report['In Svc Date*'])\n",
    "mmc_cbiz_report['In Svc Date*.1'] = pd.to_datetime(mmc_cbiz_report['In Svc Date*.1'])\n"
   ]
  },
  {
   "cell_type": "code",
   "execution_count": 340,
   "metadata": {},
   "outputs": [],
   "source": [
    "mmc_cbiz_report[['Sys No', 'Asset ID', 'Prev']] = mmc_cbiz_report[['Sys No', 'Asset ID', 'Prev']].astype(str)"
   ]
  },
  {
   "cell_type": "code",
   "execution_count": 341,
   "metadata": {},
   "outputs": [],
   "source": [
    "# mmc_cbiz_report.loc[28782, ['Est Life*', 'life_years']] = 'NaN'"
   ]
  },
  {
   "cell_type": "code",
   "execution_count": 342,
   "metadata": {},
   "outputs": [],
   "source": [
    "mmc_cbiz_report['life_years'] = mmc_cbiz_report['Est Life*'].apply(lambda x: x[:3])\n",
    "mmc_cbiz_report['life_years'] = mmc_cbiz_report['life_years'].astype(float)\n",
    "\n",
    "mmc_cbiz_report['life_years'] = mmc_cbiz_report['life_years'].astype('int32')"
   ]
  },
  {
   "cell_type": "code",
   "execution_count": 343,
   "metadata": {},
   "outputs": [
    {
     "data": {
      "text/plain": [
       "array([ 0, 10, 15,  5, 14, 20,  8, 21, 22, 13,  7, 11, 29, 19, 18, 16,  3,\n",
       "        9, 24, 23, 33, 32, 17, 12, 40,  6,  4, 25, 27, 30, 44, 35, 26, 28,\n",
       "       36, 37, 45, 39, 95])"
      ]
     },
     "execution_count": 343,
     "metadata": {},
     "output_type": "execute_result"
    }
   ],
   "source": [
    "mmc_cbiz_report['life_years'].unique()"
   ]
  },
  {
   "cell_type": "code",
   "execution_count": 344,
   "metadata": {
    "scrolled": true
   },
   "outputs": [
    {
     "data": {
      "text/plain": [
       "array(['00 yrs 00 mos', '10 yrs 00 mos', '15 yrs 00 mos', '05 yrs 00 mos',\n",
       "       '14 yrs 00 mos', '20 yrs 00 mos', '08 yrs 00 mos', '21 yrs 00 mos',\n",
       "       '22 yrs 00 mos', '13 yrs 00 mos', '07 yrs 00 mos', '11 yrs 00 mos',\n",
       "       '29 yrs 00 mos', '19 yrs 00 mos', '18 yrs 00 mos', '16 yrs 00 mos',\n",
       "       '03 yrs 00 mos', '09 yrs 00 mos', '24 yrs 00 mos', '23 yrs 00 mos',\n",
       "       '33 yrs 00 mos', '32 yrs 00 mos', '17 yrs 00 mos', '12 yrs 00 mos',\n",
       "       '40 yrs 00 mos', '06 yrs 00 mos', '04 yrs 00 mos', '25 yrs 00 mos',\n",
       "       '27 yrs 00 mos', '30 yrs 00 mos', '44 yrs 00 mos', '35 yrs 00 mos',\n",
       "       '26 yrs 00 mos', '28 yrs 00 mos', '36 yrs 00 mos', '37 yrs 00 mos',\n",
       "       '45 yrs 00 mos', '39 yrs 00 mos', '11 yrs 09 mos', '95 yrs 00 mos'],\n",
       "      dtype=object)"
      ]
     },
     "execution_count": 344,
     "metadata": {},
     "output_type": "execute_result"
    }
   ],
   "source": [
    "mmc_cbiz_report['Est Life*.1'].unique()"
   ]
  },
  {
   "cell_type": "code",
   "execution_count": 345,
   "metadata": {},
   "outputs": [],
   "source": [
    "# mmc_cbiz_report['life_years_2'] = mmc_cbiz_report['Est Life*.1'].apply(lambda x: x.replace(' - ', 'NaN'))\n",
    "# mmc_cbiz_report['life_years_2'] = mmc_cbiz_report['Est Life*.1'].apply(lambda x: x.replace(',', ''))\n",
    "# mmc_cbiz_report['life_years_2'] = mmc_cbiz_report['Est Life*.1'].apply(lambda x: x.replace('-', 'Nan'))\n",
    "# mmc_cbiz_report['life_years_2'] = mmc_cbiz_report['Est Life*.1'].apply(lambda x: x.replace(' ', ''))\n",
    "mmc_cbiz_report['life_years_2'] = mmc_cbiz_report['Est Life*.1'].apply(lambda x: x[:2])\n",
    "# mmc_cbiz_report['life_years_2'].replace('', 0, inplace=True)\n",
    "mmc_cbiz_report['life_years_2'] = mmc_cbiz_report['life_years_2'].astype('int32')"
   ]
  },
  {
   "cell_type": "code",
   "execution_count": 346,
   "metadata": {},
   "outputs": [
    {
     "data": {
      "text/plain": [
       "array([ 0, 10, 15,  5, 14, 20,  8, 21, 22, 13,  7, 11, 29, 19, 18, 16,  3,\n",
       "        9, 24, 23, 33, 32, 17, 12, 40,  6,  4, 25, 27, 30, 44, 35, 26, 28,\n",
       "       36, 37, 45, 39, 95])"
      ]
     },
     "execution_count": 346,
     "metadata": {},
     "output_type": "execute_result"
    }
   ],
   "source": [
    "mmc_cbiz_report['life_years_2'].unique()"
   ]
  },
  {
   "cell_type": "code",
   "execution_count": 347,
   "metadata": {},
   "outputs": [
    {
     "name": "stdout",
     "output_type": "stream",
     "text": [
      "<class 'pandas.core.frame.DataFrame'>\n",
      "RangeIndex: 29264 entries, 0 to 29263\n",
      "Data columns (total 26 columns):\n",
      " #   Column              Non-Null Count  Dtype         \n",
      "---  ------              --------------  -----         \n",
      " 0   Sys No              29264 non-null  object        \n",
      " 1   Asset ID            29264 non-null  object        \n",
      " 2   Status              29264 non-null  object        \n",
      " 3   Prev                29264 non-null  object        \n",
      " 4   Location Desc       29264 non-null  object        \n",
      " 5   Account Desc.       29262 non-null  object        \n",
      " 6   Quantity            29264 non-null  int32         \n",
      " 7   Acquisition Date    29264 non-null  datetime64[ns]\n",
      " 8    Acquired Value*    28758 non-null  float64       \n",
      " 9   Equip               26173 non-null  object        \n",
      " 10  Method_1            28332 non-null  category      \n",
      " 11  In Svc Date*        29264 non-null  datetime64[ns]\n",
      " 12  Est Life*           29264 non-null  object        \n",
      " 13   Current YTD*       6919 non-null   float64       \n",
      " 14   Current Accum*     28721 non-null  float64       \n",
      " 15   NBV*               6464 non-null   float64       \n",
      " 16  Depr Method*        29264 non-null  category      \n",
      " 17  Method_2            28332 non-null  category      \n",
      " 18  In Svc Date*.1      29264 non-null  datetime64[ns]\n",
      " 19  Est Life*.1         29264 non-null  object        \n",
      " 20   Current YTD* .1    6919 non-null   float64       \n",
      " 21   Current Accum* .1  28721 non-null  float64       \n",
      " 22   NBV* .1            6386 non-null   float64       \n",
      " 23  Depr Method*.1      29264 non-null  category      \n",
      " 24  life_years          29264 non-null  int32         \n",
      " 25  life_years_2        29264 non-null  int32         \n",
      "dtypes: category(4), datetime64[ns](3), float64(7), int32(3), object(9)\n",
      "memory usage: 4.7+ MB\n"
     ]
    }
   ],
   "source": [
    "mmc_cbiz_report.info()"
   ]
  },
  {
   "cell_type": "code",
   "execution_count": 348,
   "metadata": {},
   "outputs": [
    {
     "data": {
      "text/plain": [
       "Index(['Sys No', 'Asset ID', 'Status', 'Prev', 'Location Desc',\n",
       "       'Account Desc.', 'Quantity', 'Acquisition Date', ' Acquired Value* ',\n",
       "       'Equip', 'Method_1', 'In Svc Date*', 'Est Life*', ' Current YTD* ',\n",
       "       ' Current Accum* ', ' NBV* ', 'Depr Method*', 'Method_2',\n",
       "       'In Svc Date*.1', 'Est Life*.1', ' Current YTD* .1',\n",
       "       ' Current Accum* .1', ' NBV* .1', 'Depr Method*.1', 'life_years',\n",
       "       'life_years_2'],\n",
       "      dtype='object')"
      ]
     },
     "execution_count": 348,
     "metadata": {},
     "output_type": "execute_result"
    }
   ],
   "source": [
    "mmc_cbiz_report.columns"
   ]
  },
  {
   "cell_type": "code",
   "execution_count": 349,
   "metadata": {},
   "outputs": [
    {
     "data": {
      "text/plain": [
       "152866429.0"
      ]
     },
     "execution_count": 349,
     "metadata": {},
     "output_type": "execute_result"
    }
   ],
   "source": [
    "mmc_cbiz_report[' Current YTD* '].sum()"
   ]
  },
  {
   "cell_type": "code",
   "execution_count": 350,
   "metadata": {},
   "outputs": [
    {
     "data": {
      "text/plain": [
       "array([ 0, 10, 15,  5, 14, 20,  8, 21, 22, 13,  7, 11, 29, 19, 18, 16,  3,\n",
       "        9, 24, 23, 33, 32, 17, 12, 40,  6,  4, 25, 27, 30, 44, 35, 26, 28,\n",
       "       36, 37, 45, 39, 95])"
      ]
     },
     "execution_count": 350,
     "metadata": {},
     "output_type": "execute_result"
    }
   ],
   "source": [
    "mmc_cbiz_report['life_years_2'].unique()"
   ]
  },
  {
   "cell_type": "code",
   "execution_count": 351,
   "metadata": {},
   "outputs": [],
   "source": [
    "# mmc_cbiz_report.info()"
   ]
  },
  {
   "cell_type": "code",
   "execution_count": 352,
   "metadata": {},
   "outputs": [
    {
     "data": {
      "text/plain": [
       "life_years      302408\n",
       "life_years_2    302395\n",
       "dtype: int64"
      ]
     },
     "execution_count": 352,
     "metadata": {},
     "output_type": "execute_result"
    }
   ],
   "source": [
    "mmc_cbiz_report[['life_years','life_years_2']].sum()"
   ]
  },
  {
   "cell_type": "code",
   "execution_count": 353,
   "metadata": {
    "scrolled": true
   },
   "outputs": [
    {
     "data": {
      "text/html": [
       "<div>\n",
       "<style scoped>\n",
       "    .dataframe tbody tr th:only-of-type {\n",
       "        vertical-align: middle;\n",
       "    }\n",
       "\n",
       "    .dataframe tbody tr th {\n",
       "        vertical-align: top;\n",
       "    }\n",
       "\n",
       "    .dataframe thead th {\n",
       "        text-align: right;\n",
       "    }\n",
       "</style>\n",
       "<table border=\"1\" class=\"dataframe\">\n",
       "  <thead>\n",
       "    <tr style=\"text-align: right;\">\n",
       "      <th></th>\n",
       "      <th>Sys No</th>\n",
       "      <th>Asset ID</th>\n",
       "      <th>Status</th>\n",
       "      <th>Prev</th>\n",
       "      <th>Location Desc</th>\n",
       "      <th>Account Desc.</th>\n",
       "      <th>Quantity</th>\n",
       "      <th>Acquisition Date</th>\n",
       "      <th>Acquired Value*</th>\n",
       "      <th>Equip</th>\n",
       "      <th>Method_1</th>\n",
       "      <th>In Svc Date*</th>\n",
       "      <th>Est Life*</th>\n",
       "      <th>Current YTD*</th>\n",
       "      <th>Current Accum*</th>\n",
       "      <th>NBV*</th>\n",
       "      <th>Depr Method*</th>\n",
       "      <th>Method_2</th>\n",
       "      <th>In Svc Date*.1</th>\n",
       "      <th>Est Life*.1</th>\n",
       "      <th>Current YTD* .1</th>\n",
       "      <th>Current Accum* .1</th>\n",
       "      <th>NBV* .1</th>\n",
       "      <th>Depr Method*.1</th>\n",
       "      <th>life_years</th>\n",
       "      <th>life_years_2</th>\n",
       "    </tr>\n",
       "  </thead>\n",
       "  <tbody>\n",
       "    <tr>\n",
       "      <th>24212</th>\n",
       "      <td>24213</td>\n",
       "      <td>45566</td>\n",
       "      <td>Active</td>\n",
       "      <td>162.0</td>\n",
       "      <td>MMC</td>\n",
       "      <td>215-BUILDINGS-NEW CAPITAL</td>\n",
       "      <td>1</td>\n",
       "      <td>2014-10-01</td>\n",
       "      <td>$5,580,423.00</td>\n",
       "      <td>NB</td>\n",
       "      <td>$0.00</td>\n",
       "      <td>2014-12-01</td>\n",
       "      <td>25 yrs 00 mos</td>\n",
       "      <td>$223,217.00</td>\n",
       "      <td>$1,581,120.00</td>\n",
       "      <td>$3,999,303.00</td>\n",
       "      <td>SH</td>\n",
       "      <td>$0.00</td>\n",
       "      <td>2014-10-01</td>\n",
       "      <td>16 yrs 00 mos</td>\n",
       "      <td>$310,971.00</td>\n",
       "      <td>$3,403,624.00</td>\n",
       "      <td>$2,176,799.00</td>\n",
       "      <td>DH200</td>\n",
       "      <td>25</td>\n",
       "      <td>16</td>\n",
       "    </tr>\n",
       "    <tr>\n",
       "      <th>24213</th>\n",
       "      <td>24214</td>\n",
       "      <td>45567</td>\n",
       "      <td>Active</td>\n",
       "      <td>163.0</td>\n",
       "      <td>MMC</td>\n",
       "      <td>215-BUILDINGS-NEW CAPITAL</td>\n",
       "      <td>1</td>\n",
       "      <td>2014-10-01</td>\n",
       "      <td>$8,215,183.00</td>\n",
       "      <td>NB</td>\n",
       "      <td>$0.00</td>\n",
       "      <td>2014-12-01</td>\n",
       "      <td>20 yrs 00 mos</td>\n",
       "      <td>$410,759.00</td>\n",
       "      <td>$2,909,543.00</td>\n",
       "      <td>$5,305,640.00</td>\n",
       "      <td>SH</td>\n",
       "      <td>$0.00</td>\n",
       "      <td>2014-10-01</td>\n",
       "      <td>16 yrs 00 mos</td>\n",
       "      <td>$457,026.00</td>\n",
       "      <td>$5,015,999.00</td>\n",
       "      <td>$3,199,184.00</td>\n",
       "      <td>DH200</td>\n",
       "      <td>20</td>\n",
       "      <td>16</td>\n",
       "    </tr>\n",
       "  </tbody>\n",
       "</table>\n",
       "</div>"
      ],
      "text/plain": [
       "      Sys No Asset ID  Status   Prev Location Desc              Account Desc.  Quantity Acquisition Date   Acquired Value*  Equip Method_1 In Svc Date*      Est Life*   Current YTD*    Current Accum*          NBV*  Depr Method* Method_2 In Svc Date*.1    Est Life*.1   Current YTD* .1   Current Accum* .1       NBV* .1 Depr Method*.1  life_years  life_years_2\n",
       "24212  24213    45566  Active  162.0           MMC  215-BUILDINGS-NEW CAPITAL         1       2014-10-01      $5,580,423.00    NB    $0.00   2014-12-01  25 yrs 00 mos     $223,217.00     $1,581,120.00 $3,999,303.00           SH    $0.00     2014-10-01  16 yrs 00 mos       $310,971.00       $3,403,624.00 $2,176,799.00          DH200          25            16\n",
       "24213  24214    45567  Active  163.0           MMC  215-BUILDINGS-NEW CAPITAL         1       2014-10-01      $8,215,183.00    NB    $0.00   2014-12-01  20 yrs 00 mos     $410,759.00     $2,909,543.00 $5,305,640.00           SH    $0.00     2014-10-01  16 yrs 00 mos       $457,026.00       $5,015,999.00 $3,199,184.00          DH200          20            16"
      ]
     },
     "execution_count": 353,
     "metadata": {},
     "output_type": "execute_result"
    }
   ],
   "source": [
    "mmc_cbiz_report[mmc_cbiz_report['life_years'] != mmc_cbiz_report['life_years_2']]"
   ]
  },
  {
   "cell_type": "markdown",
   "metadata": {},
   "source": [
    "## WOA CBIZ report import / cleanup"
   ]
  },
  {
   "cell_type": "code",
   "execution_count": 354,
   "metadata": {},
   "outputs": [],
   "source": [
    "woa_cbiz_report = pd.read_csv(r'C:\\Users\\Michael\\OneDrive\\Documents\\Work\\conversion\\SIT3\\sit3_environment\\fixed_assets\\source_files_2021\\mmc\\Montefiore Health System_Westchester Operation_Active Assets_FY21.csv')\n",
    "                         \n"
   ]
  },
  {
   "cell_type": "code",
   "execution_count": 355,
   "metadata": {},
   "outputs": [
    {
     "name": "stdout",
     "output_type": "stream",
     "text": [
      "<class 'pandas.core.frame.DataFrame'>\n",
      "RangeIndex: 1383 entries, 0 to 1382\n",
      "Data columns (total 26 columns):\n",
      " #   Column             Non-Null Count  Dtype  \n",
      "---  ------             --------------  -----  \n",
      " 0   Sys No             1383 non-null   int64  \n",
      " 1   Asset ID           1383 non-null   int64  \n",
      " 2   Status             1383 non-null   object \n",
      " 3   Location Descr     1383 non-null   object \n",
      " 4   Account Descr      1383 non-null   object \n",
      " 5   Department Descr   1363 non-null   object \n",
      " 6   Building Descr     1227 non-null   object \n",
      " 7   Floor              747 non-null    object \n",
      " 8   Quantity           1383 non-null   int64  \n",
      " 9   Description        1383 non-null   object \n",
      " 10  Manufacturer       1132 non-null   object \n",
      " 11  Model              739 non-null    object \n",
      " 12  Serial Number      753 non-null    float64\n",
      " 13  Src_Code           1383 non-null   object \n",
      " 14  Tag_1              68 non-null     object \n",
      " 15  Acquisition Date   1383 non-null   object \n",
      " 16   Acquired Value*   1383 non-null   object \n",
      " 17  Opt_3              341 non-null    object \n",
      " 18  Opt_4              1062 non-null   object \n",
      " 19  Method_1           1314 non-null   float64\n",
      " 20  In Svc Date*       1383 non-null   object \n",
      " 21  Est Life*          1383 non-null   object \n",
      " 22   Current YTD*      1383 non-null   object \n",
      " 23   Current Accum*    1383 non-null   object \n",
      " 24   NBV*              1383 non-null   object \n",
      " 25  Depr Method*       1383 non-null   object \n",
      "dtypes: float64(2), int64(3), object(21)\n",
      "memory usage: 281.0+ KB\n"
     ]
    }
   ],
   "source": [
    "woa_cbiz_report.info()"
   ]
  },
  {
   "cell_type": "code",
   "execution_count": 356,
   "metadata": {},
   "outputs": [],
   "source": [
    "# woa_num_rows = woa_cbiz_report.shape[0]\n",
    "# woa_num_missing = woa_num_rows - woa_cbiz_report.count()\n",
    "# woa_num_missing"
   ]
  },
  {
   "cell_type": "code",
   "execution_count": 357,
   "metadata": {},
   "outputs": [],
   "source": [
    "# woa_cbiz_report.iloc[1308] = woa_cbiz_report.iloc[1308].fillna(0)"
   ]
  },
  {
   "cell_type": "code",
   "execution_count": 358,
   "metadata": {},
   "outputs": [],
   "source": [
    "woa_cbiz_report['Quantity'] = woa_cbiz_report['Quantity'].astype('int')\n",
    "woa_cbiz_report['Asset ID'] = woa_cbiz_report['Asset ID'].astype('int')\n",
    "woa_cbiz_report['Serial Number'] = woa_cbiz_report['Serial Number'].astype('str')\n",
    "woa_cbiz_report['Acquisition Date'] = pd.to_datetime(woa_cbiz_report['Acquisition Date'])\n",
    "woa_cbiz_report['In Svc Date*'] = pd.to_datetime(woa_cbiz_report['In Svc Date*'])"
   ]
  },
  {
   "cell_type": "code",
   "execution_count": 359,
   "metadata": {},
   "outputs": [],
   "source": [
    "woa_cbiz_report[' Acquired Value* '] = ser_to_float(woa_cbiz_report[' Acquired Value* '])\n",
    "woa_cbiz_report[' Current YTD* '] = ser_to_float(woa_cbiz_report[' Current YTD* '])\n",
    "woa_cbiz_report[' Current Accum* '] = ser_to_float(woa_cbiz_report[' Current Accum* '])\n",
    "woa_cbiz_report[' NBV* '] = ser_to_float(woa_cbiz_report[' NBV* '])"
   ]
  },
  {
   "cell_type": "code",
   "execution_count": 360,
   "metadata": {},
   "outputs": [],
   "source": [
    "# woa_cbiz_report.loc[1308, 'Est Life*'] = 'NaN'\n",
    "woa_cbiz_report['Est Life*'] = woa_cbiz_report['Est Life*'].apply(lambda x: x.replace(' - ', 'NaN'))\n",
    "woa_cbiz_report['Est Life*'] = woa_cbiz_report['Est Life*'].apply(lambda x: x.replace(',', ''))\n",
    "woa_cbiz_report['Est Life*'] = woa_cbiz_report['Est Life*'].apply(lambda x: x.replace('-', 'Nan'))\n",
    "woa_cbiz_report['Est Life*'] = woa_cbiz_report['Est Life*'].apply(lambda x: x.replace(' ', ''))"
   ]
  },
  {
   "cell_type": "code",
   "execution_count": 361,
   "metadata": {},
   "outputs": [],
   "source": [
    "woa_cbiz_report['life_years'] = woa_cbiz_report['Est Life*'].apply(lambda x: x[:2])\n",
    "# woa_cbiz_report.loc[1308, 'life_years'] = 0\n",
    "woa_cbiz_report['life_years'] = woa_cbiz_report['life_years'].astype('int')"
   ]
  },
  {
   "cell_type": "code",
   "execution_count": 362,
   "metadata": {},
   "outputs": [],
   "source": [
    "woa_cbiz_report['Depr Method*'] = woa_cbiz_report['Depr Method*'].astype('category')\n",
    "woa_cbiz_report['Method_1'] = woa_cbiz_report['Method_1'].astype('category')"
   ]
  },
  {
   "cell_type": "code",
   "execution_count": 363,
   "metadata": {},
   "outputs": [
    {
     "name": "stdout",
     "output_type": "stream",
     "text": [
      "<class 'pandas.core.frame.DataFrame'>\n",
      "RangeIndex: 1383 entries, 0 to 1382\n",
      "Data columns (total 27 columns):\n",
      " #   Column             Non-Null Count  Dtype         \n",
      "---  ------             --------------  -----         \n",
      " 0   Sys No             1383 non-null   int64         \n",
      " 1   Asset ID           1383 non-null   int32         \n",
      " 2   Status             1383 non-null   object        \n",
      " 3   Location Descr     1383 non-null   object        \n",
      " 4   Account Descr      1383 non-null   object        \n",
      " 5   Department Descr   1363 non-null   object        \n",
      " 6   Building Descr     1227 non-null   object        \n",
      " 7   Floor              747 non-null    object        \n",
      " 8   Quantity           1383 non-null   int32         \n",
      " 9   Description        1383 non-null   object        \n",
      " 10  Manufacturer       1132 non-null   object        \n",
      " 11  Model              739 non-null    object        \n",
      " 12  Serial Number      1383 non-null   object        \n",
      " 13  Src_Code           1383 non-null   object        \n",
      " 14  Tag_1              68 non-null     object        \n",
      " 15  Acquisition Date   1383 non-null   datetime64[ns]\n",
      " 16   Acquired Value*   1383 non-null   float64       \n",
      " 17  Opt_3              341 non-null    object        \n",
      " 18  Opt_4              1062 non-null   object        \n",
      " 19  Method_1           1314 non-null   category      \n",
      " 20  In Svc Date*       1383 non-null   datetime64[ns]\n",
      " 21  Est Life*          1383 non-null   object        \n",
      " 22   Current YTD*      591 non-null    float64       \n",
      " 23   Current Accum*    1380 non-null   float64       \n",
      " 24   NBV*              566 non-null    float64       \n",
      " 25  Depr Method*       1383 non-null   category      \n",
      " 26  life_years         1383 non-null   int32         \n",
      "dtypes: category(2), datetime64[ns](2), float64(4), int32(3), int64(1), object(15)\n",
      "memory usage: 256.9+ KB\n"
     ]
    }
   ],
   "source": [
    "woa_cbiz_report.info()"
   ]
  },
  {
   "cell_type": "code",
   "execution_count": 34,
   "metadata": {},
   "outputs": [],
   "source": [
    "# woa_cbiz_report.head()"
   ]
  },
  {
   "cell_type": "markdown",
   "metadata": {},
   "source": [
    "### CBIZ 'Other' file import / cleanup"
   ]
  },
  {
   "cell_type": "code",
   "execution_count": 364,
   "metadata": {},
   "outputs": [],
   "source": [
    "other_cbiz_report = pd.read_csv(r'C:\\Users\\Michael\\OneDrive\\Documents\\Work\\conversion\\SIT3\\sit3_environment\\fixed_assets\\source_files_2021\\mmc\\Montefiore Health System-Other_Data File_FY21.csv')"
   ]
  },
  {
   "cell_type": "code",
   "execution_count": 365,
   "metadata": {},
   "outputs": [],
   "source": [
    "# other_cbiz_report.info()"
   ]
  },
  {
   "cell_type": "code",
   "execution_count": 366,
   "metadata": {},
   "outputs": [],
   "source": [
    "# other_num_rows = other_cbiz_report.shape[0]\n",
    "# other_num_missing = other_num_rows - other_cbiz_report.count()\n",
    "# other_num_missing"
   ]
  },
  {
   "cell_type": "code",
   "execution_count": 367,
   "metadata": {},
   "outputs": [],
   "source": [
    "# other_cbiz_report.iloc[810] = other_cbiz_report.iloc[810].fillna(0)"
   ]
  },
  {
   "cell_type": "code",
   "execution_count": 368,
   "metadata": {},
   "outputs": [],
   "source": [
    "other_cbiz_report['Quantity'] = other_cbiz_report['Quantity'].astype('int')\n",
    "other_cbiz_report['Asset ID'] = other_cbiz_report['Asset ID'].astype('int')\n",
    "other_cbiz_report['Serial Number'] = other_cbiz_report['Serial Number'].astype('str')"
   ]
  },
  {
   "cell_type": "code",
   "execution_count": 369,
   "metadata": {},
   "outputs": [],
   "source": [
    "other_cbiz_report['Acquisition Date'] = pd.to_datetime(other_cbiz_report['Acquisition Date'])\n",
    "other_cbiz_report['In Svc Date*'] = pd.to_datetime(other_cbiz_report['In Svc Date*'])"
   ]
  },
  {
   "cell_type": "code",
   "execution_count": 370,
   "metadata": {},
   "outputs": [],
   "source": [
    "# mmc_cbiz_report[' Current YTD* '].fillna('-', inplace=True)\n",
    "# mmc_cbiz_report[' Current Accum* '].fillna('-', inplace=True)\n",
    "# mmc_cbiz_report[' NBV* '].fillna('-', inplace=True)\n",
    "# mmc_cbiz_report[' Current YTD* .1'].fillna('-', inplace=True)\n",
    "# mmc_cbiz_report[' Current Accum* .1'].fillna('-', inplace=True)\n",
    "# mmc_cbiz_report[' NBV* .1'].fillna('-', inplace=True)\n",
    "# mmc_cbiz_report[' Acquired Value* '].fillna('-', inplace=True)"
   ]
  },
  {
   "cell_type": "code",
   "execution_count": 371,
   "metadata": {},
   "outputs": [],
   "source": [
    "# other_cbiz_report[' Acquired Value* '] = ser_to_float(other_cbiz_report[' Acquired Value* '])"
   ]
  },
  {
   "cell_type": "code",
   "execution_count": 372,
   "metadata": {},
   "outputs": [],
   "source": [
    "other_cbiz_report['Depr Method*'] = other_cbiz_report['Depr Method*'].astype('category')\n",
    "other_cbiz_report['Method_1'] = other_cbiz_report['Method_1'].astype('category')"
   ]
  },
  {
   "cell_type": "code",
   "execution_count": 373,
   "metadata": {},
   "outputs": [],
   "source": [
    "other_cbiz_report[' Current YTD* '] = ser_to_float(other_cbiz_report[' Current YTD* '])"
   ]
  },
  {
   "cell_type": "code",
   "execution_count": 374,
   "metadata": {},
   "outputs": [],
   "source": [
    "other_cbiz_report['Est Life*'] =other_cbiz_report['Est Life*'].apply(lambda x: x.replace(' - ', 'NaN'))\n",
    "other_cbiz_report['Est Life*'] = other_cbiz_report['Est Life*'].apply(lambda x: x.replace(',', ''))\n",
    "other_cbiz_report['Est Life*'] = other_cbiz_report['Est Life*'].apply(lambda x: x.replace('-', 'Nan'))\n",
    "other_cbiz_report['Est Life*'] = other_cbiz_report['Est Life*'].apply(lambda x: x.replace(' ', ''))"
   ]
  },
  {
   "cell_type": "code",
   "execution_count": 375,
   "metadata": {},
   "outputs": [],
   "source": [
    "other_cbiz_report['life_years'] = other_cbiz_report['Est Life*'].apply(lambda x: x[:2])\n",
    "other_cbiz_report.loc[810, 'life_years'] = 0\n",
    "other_cbiz_report['life_years'] = other_cbiz_report['life_years'].astype('int')"
   ]
  },
  {
   "cell_type": "code",
   "execution_count": 376,
   "metadata": {},
   "outputs": [
    {
     "data": {
      "text/html": [
       "<div>\n",
       "<style scoped>\n",
       "    .dataframe tbody tr th:only-of-type {\n",
       "        vertical-align: middle;\n",
       "    }\n",
       "\n",
       "    .dataframe tbody tr th {\n",
       "        vertical-align: top;\n",
       "    }\n",
       "\n",
       "    .dataframe thead th {\n",
       "        text-align: right;\n",
       "    }\n",
       "</style>\n",
       "<table border=\"1\" class=\"dataframe\">\n",
       "  <thead>\n",
       "    <tr style=\"text-align: right;\">\n",
       "      <th></th>\n",
       "      <th>Sys No</th>\n",
       "      <th>Asset ID</th>\n",
       "      <th>Status</th>\n",
       "      <th>Location Descr</th>\n",
       "      <th>Account Descr</th>\n",
       "      <th>Department Descr</th>\n",
       "      <th>Building Descr</th>\n",
       "      <th>Floor</th>\n",
       "      <th>Quantity</th>\n",
       "      <th>Description</th>\n",
       "      <th>Manufacturer</th>\n",
       "      <th>Model</th>\n",
       "      <th>Serial Number</th>\n",
       "      <th>Src_Code</th>\n",
       "      <th>Tag_1</th>\n",
       "      <th>Acquisition Date</th>\n",
       "      <th>Acquired Value*</th>\n",
       "      <th>Opt_3</th>\n",
       "      <th>Opt_4</th>\n",
       "      <th>Method_1</th>\n",
       "      <th>In Svc Date*</th>\n",
       "      <th>Est Life*</th>\n",
       "      <th>Current YTD*</th>\n",
       "      <th>Current Accum*</th>\n",
       "      <th>NBV*</th>\n",
       "      <th>Depr Method*</th>\n",
       "      <th>life_years</th>\n",
       "    </tr>\n",
       "  </thead>\n",
       "  <tbody>\n",
       "  </tbody>\n",
       "</table>\n",
       "</div>"
      ],
      "text/plain": [
       "Empty DataFrame\n",
       "Columns: [Sys No, Asset ID, Status, Location Descr, Account Descr, Department Descr, Building Descr, Floor, Quantity, Description, Manufacturer, Model, Serial Number, Src_Code, Tag_1, Acquisition Date,  Acquired Value* , Opt_3, Opt_4, Method_1, In Svc Date*, Est Life*,  Current YTD* ,  Current Accum* ,  NBV* , Depr Method*, life_years]\n",
       "Index: []"
      ]
     },
     "execution_count": 376,
     "metadata": {},
     "output_type": "execute_result"
    }
   ],
   "source": [
    "other_cbiz_report[other_cbiz_report[' Current Accum* '] == 'NaN']"
   ]
  },
  {
   "cell_type": "code",
   "execution_count": 377,
   "metadata": {},
   "outputs": [],
   "source": [
    "# other_cbiz_report[' Current Accum* '] = ser_to_float(other_cbiz_report[' Current Accum* '])"
   ]
  },
  {
   "cell_type": "code",
   "execution_count": 378,
   "metadata": {},
   "outputs": [],
   "source": [
    "other_cbiz_report[' NBV* '] = ser_to_float(other_cbiz_report[' NBV* '])"
   ]
  },
  {
   "cell_type": "code",
   "execution_count": 379,
   "metadata": {},
   "outputs": [
    {
     "data": {
      "text/plain": [
       "Index(['Sys No', 'Asset ID', 'Status', 'Location Descr', 'Account Descr',\n",
       "       'Department Descr', 'Building Descr', 'Floor', 'Quantity',\n",
       "       'Description', 'Manufacturer', 'Model', 'Serial Number', 'Src_Code',\n",
       "       'Tag_1', 'Acquisition Date', ' Acquired Value* ', 'Opt_3', 'Opt_4',\n",
       "       'Method_1', 'In Svc Date*', 'Est Life*', ' Current YTD* ',\n",
       "       ' Current Accum* ', ' NBV* ', 'Depr Method*', 'life_years'],\n",
       "      dtype='object')"
      ]
     },
     "execution_count": 379,
     "metadata": {},
     "output_type": "execute_result"
    }
   ],
   "source": [
    "other_cbiz_report.columns"
   ]
  },
  {
   "cell_type": "code",
   "execution_count": 380,
   "metadata": {},
   "outputs": [
    {
     "name": "stdout",
     "output_type": "stream",
     "text": [
      "<class 'pandas.core.frame.DataFrame'>\n",
      "RangeIndex: 822 entries, 0 to 821\n",
      "Data columns (total 27 columns):\n",
      " #   Column             Non-Null Count  Dtype         \n",
      "---  ------             --------------  -----         \n",
      " 0   Sys No             822 non-null    int64         \n",
      " 1   Asset ID           822 non-null    int32         \n",
      " 2   Status             822 non-null    object        \n",
      " 3   Location Descr     822 non-null    object        \n",
      " 4   Account Descr      822 non-null    object        \n",
      " 5   Department Descr   27 non-null     object        \n",
      " 6   Building Descr     252 non-null    object        \n",
      " 7   Floor              0 non-null      float64       \n",
      " 8   Quantity           822 non-null    int32         \n",
      " 9   Description        822 non-null    object        \n",
      " 10  Manufacturer       1 non-null      object        \n",
      " 11  Model              0 non-null      float64       \n",
      " 12  Serial Number      822 non-null    object        \n",
      " 13  Src_Code           822 non-null    object        \n",
      " 14  Tag_1              1 non-null      object        \n",
      " 15  Acquisition Date   822 non-null    datetime64[ns]\n",
      " 16   Acquired Value*   822 non-null    float64       \n",
      " 17  Opt_3              0 non-null      float64       \n",
      " 18  Opt_4              0 non-null      float64       \n",
      " 19  Method_1           811 non-null    category      \n",
      " 20  In Svc Date*       822 non-null    datetime64[ns]\n",
      " 21  Est Life*          822 non-null    object        \n",
      " 22   Current YTD*      263 non-null    float64       \n",
      " 23   Current Accum*    822 non-null    float64       \n",
      " 24   NBV*              517 non-null    float64       \n",
      " 25  Depr Method*       822 non-null    category      \n",
      " 26  life_years         822 non-null    int32         \n",
      "dtypes: category(2), datetime64[ns](2), float64(8), int32(3), int64(1), object(11)\n",
      "memory usage: 152.8+ KB\n"
     ]
    }
   ],
   "source": [
    "other_cbiz_report.info()"
   ]
  },
  {
   "cell_type": "code",
   "execution_count": 321,
   "metadata": {},
   "outputs": [],
   "source": [
    "# other_cbiz_report.tail()"
   ]
  },
  {
   "cell_type": "markdown",
   "metadata": {},
   "source": [
    "### CBIZ MMC File Exploration"
   ]
  },
  {
   "cell_type": "code",
   "execution_count": 53,
   "metadata": {
    "scrolled": true
   },
   "outputs": [],
   "source": [
    "# mmc_cbiz_report.info()"
   ]
  },
  {
   "cell_type": "code",
   "execution_count": 54,
   "metadata": {},
   "outputs": [],
   "source": [
    "# mmc_cbiz_report.columns"
   ]
  },
  {
   "cell_type": "code",
   "execution_count": 55,
   "metadata": {},
   "outputs": [],
   "source": [
    "# mmc_cbiz_report[' Acquired Value* '].sum()"
   ]
  },
  {
   "cell_type": "code",
   "execution_count": 56,
   "metadata": {},
   "outputs": [],
   "source": [
    "# mmc_cbiz_report['Method_1'].unique()"
   ]
  },
  {
   "cell_type": "code",
   "execution_count": 57,
   "metadata": {},
   "outputs": [],
   "source": [
    "# mmc_cbiz_report['Depr Method*'].unique()"
   ]
  },
  {
   "cell_type": "code",
   "execution_count": 58,
   "metadata": {},
   "outputs": [],
   "source": [
    "# mmc_cbiz_report['Depr Method*'].value_counts()"
   ]
  },
  {
   "cell_type": "code",
   "execution_count": 59,
   "metadata": {},
   "outputs": [],
   "source": [
    "# mmc_cbiz_report[mmc_cbiz_report['Depr Method*'] == 'NO']['Account Desc.'].unique()"
   ]
  },
  {
   "cell_type": "code",
   "execution_count": 60,
   "metadata": {},
   "outputs": [],
   "source": [
    "# mmc_cbiz_report.head()"
   ]
  },
  {
   "cell_type": "code",
   "execution_count": 61,
   "metadata": {},
   "outputs": [],
   "source": [
    "# mmc_cbiz_report[[' Acquired Value* ', ' Current Accum* ', ' NBV* ', ' Current Accum* .1', ' NBV* .1']].sum()"
   ]
  },
  {
   "cell_type": "code",
   "execution_count": 62,
   "metadata": {},
   "outputs": [],
   "source": [
    "# mmc_cbiz_report['Location Desc'].unique()"
   ]
  },
  {
   "cell_type": "code",
   "execution_count": 63,
   "metadata": {},
   "outputs": [],
   "source": [
    "# mmc_cbiz_report_by_location_desc = mmc_cbiz_report.groupby('Location Desc')[[\n",
    "#                                                                         ' Acquired Value* ',' Current Accum* ', ' NBV* ',\n",
    "#                                                                          ]].sum()\n",
    "\n",
    "# mmc_cbiz_report_by_location_desc"
   ]
  },
  {
   "cell_type": "code",
   "execution_count": 64,
   "metadata": {},
   "outputs": [],
   "source": [
    "# mmc_cbiz_report['Account Desc.'].unique()"
   ]
  },
  {
   "cell_type": "code",
   "execution_count": 65,
   "metadata": {},
   "outputs": [],
   "source": [
    "# mmc_cbiz_report.groupby('Account Desc.')[[' Acquired Value* ',' Current Accum* ', ' NBV* ',]].sum()"
   ]
  },
  {
   "cell_type": "code",
   "execution_count": 66,
   "metadata": {},
   "outputs": [],
   "source": [
    "# mmc_cbiz_report['Depr Method*'].unique()"
   ]
  },
  {
   "cell_type": "code",
   "execution_count": 67,
   "metadata": {},
   "outputs": [],
   "source": [
    "# mmc_cbiz_report.groupby('Depr Method*')[[' Acquired Value* ',' Current Accum* ', ' NBV* ',]].sum()"
   ]
  },
  {
   "cell_type": "code",
   "execution_count": 68,
   "metadata": {},
   "outputs": [],
   "source": [
    "# mmc_cbiz_report[[' Acquired Value* ', ' Current Accum* ', ' NBV* ']].sum()"
   ]
  },
  {
   "cell_type": "code",
   "execution_count": 69,
   "metadata": {},
   "outputs": [],
   "source": [
    "# mmc_cbiz_report['Method_1'].unique()"
   ]
  },
  {
   "cell_type": "code",
   "execution_count": 70,
   "metadata": {},
   "outputs": [],
   "source": [
    "# mmc_cbiz_report['Method_2'].unique()"
   ]
  },
  {
   "cell_type": "markdown",
   "metadata": {},
   "source": [
    "### MMC asset book"
   ]
  },
  {
   "cell_type": "code",
   "execution_count": 71,
   "metadata": {},
   "outputs": [],
   "source": [
    "mmc_load_asset_book = pd.read_csv(r'C:\\Users\\mikra\\OneDrive\\Documents\\Work\\conversion\\SIT3\\november_AX2\\fixed_assets\\mmc\\MMC_AssetBookImport.csv',\n",
    "                                 usecols=(['FinanceEnterpriseGroup', 'AssetImport', 'Book', 'RunGroup',\n",
    "                                          'Active', 'Life', 'LifeRemaining', 'Basis', 'Method', 'InServiceDate', \n",
    "                                           'YearPlacedInService', 'Convention','LifeToDateDepreciation',\n",
    "                                           'LifeToDateDepreciation',\n",
    "                                          ]))\n",
    "                             "
   ]
  },
  {
   "cell_type": "code",
   "execution_count": 72,
   "metadata": {},
   "outputs": [],
   "source": [
    "# mmc_load_asset_book.info()"
   ]
  },
  {
   "cell_type": "code",
   "execution_count": 73,
   "metadata": {},
   "outputs": [],
   "source": [
    "mmc_load_asset_book['cbiz_index'] = mmc_load_asset_book['AssetImport'].apply(lambda x: int(x.split('_')[1]))\n",
    "mmc_load_asset_book['cbiz_asset_ids'] = mmc_load_asset_book['AssetImport'].apply(lambda x: (x.split('_')[1]))"
   ]
  },
  {
   "cell_type": "code",
   "execution_count": 74,
   "metadata": {},
   "outputs": [],
   "source": [
    "mmc_gl_book_filter = (mmc_load_asset_book['Book'] == 'GL') & (mmc_load_asset_book['RunGroup'] == 'MMC_ASSET')\n",
    "mmc_gl_book_df = mmc_load_asset_book[mmc_gl_book_filter]\n",
    "# mmc_gl_book_df.info()"
   ]
  },
  {
   "cell_type": "code",
   "execution_count": 75,
   "metadata": {},
   "outputs": [],
   "source": [
    "woa_gl_book_filter = (mmc_load_asset_book['Book'] == 'GL') & (mmc_load_asset_book['RunGroup'] == 'WOA_ASSET')\n",
    "woa_gl_book_df = mmc_load_asset_book[woa_gl_book_filter]\n",
    "# woa_gl_book_df.info()"
   ]
  },
  {
   "cell_type": "code",
   "execution_count": 76,
   "metadata": {},
   "outputs": [],
   "source": [
    "oth_gl_book_filter = (mmc_load_asset_book['Book'] == 'GL') & (mmc_load_asset_book['RunGroup'] == 'OTH_ASSET')\n",
    "oth_gl_book_df = mmc_load_asset_book[oth_gl_book_filter]\n",
    "# oth_gl_book_df.info()"
   ]
  },
  {
   "cell_type": "code",
   "execution_count": 77,
   "metadata": {},
   "outputs": [],
   "source": [
    "# mmc_load_asset_book[oth_gl_book_filter]"
   ]
  },
  {
   "cell_type": "code",
   "execution_count": 78,
   "metadata": {},
   "outputs": [],
   "source": [
    "# mmc_gl_book_df.RunGroup.unique()"
   ]
  },
  {
   "cell_type": "code",
   "execution_count": 79,
   "metadata": {
    "scrolled": true
   },
   "outputs": [],
   "source": [
    "# mmc_load_asset_book[mmc_load_asset_book['AssetImport'] == 'OTH_534']"
   ]
  },
  {
   "cell_type": "code",
   "execution_count": 80,
   "metadata": {},
   "outputs": [],
   "source": [
    "# create a new column in me_load_asset_book that contains the 'InServiceDate' elements to datetime objects\n",
    "mmc_load_asset_book['InServiceDate_dt'] = pd.to_datetime(mmc_load_asset_book['InServiceDate'])\n"
   ]
  },
  {
   "cell_type": "code",
   "execution_count": 81,
   "metadata": {},
   "outputs": [],
   "source": [
    "# mmc_load_asset_book.Book.unique()"
   ]
  },
  {
   "cell_type": "code",
   "execution_count": 82,
   "metadata": {},
   "outputs": [],
   "source": [
    "book_groupby = mmc_load_asset_book.groupby('Book')['Basis'].sum()\n",
    "# book_groupby"
   ]
  },
  {
   "cell_type": "code",
   "execution_count": 83,
   "metadata": {},
   "outputs": [],
   "source": [
    "# the asset_book file contains two books and a group of assets where the method is 'nan'\n",
    "# mmc_load_asset_book.Method.unique()"
   ]
  },
  {
   "cell_type": "code",
   "execution_count": 84,
   "metadata": {},
   "outputs": [],
   "source": [
    "# mmc_load_asset_book.Method.value_counts(dropna=False)"
   ]
  },
  {
   "cell_type": "code",
   "execution_count": 85,
   "metadata": {},
   "outputs": [],
   "source": [
    "# Basis per the asset_book load file by depreciation method\n",
    "# SL method and Nan tie to the G/L Book above\n",
    "book_method_groupby = mmc_load_asset_book.groupby(['RunGroup', 'Book', 'Method'], dropna=False)['Basis'].sum()\n",
    "# book_method_groupby"
   ]
  },
  {
   "cell_type": "code",
   "execution_count": 86,
   "metadata": {},
   "outputs": [],
   "source": [
    "asset_load_book_method_isna = mmc_load_asset_book['Method'].isna()"
   ]
  },
  {
   "cell_type": "code",
   "execution_count": 87,
   "metadata": {},
   "outputs": [],
   "source": [
    "method_na_basis = mmc_load_asset_book[asset_load_book_method_isna]['Basis'].sum()\n",
    "# method_na_basis"
   ]
  },
  {
   "cell_type": "code",
   "execution_count": 88,
   "metadata": {},
   "outputs": [],
   "source": [
    "# mmc_load_asset_book[asset_load_book_method_isna]\n"
   ]
  },
  {
   "cell_type": "code",
   "execution_count": 89,
   "metadata": {},
   "outputs": [
    {
     "data": {
      "text/plain": [
       "7218433661.0199995"
      ]
     },
     "execution_count": 89,
     "metadata": {},
     "output_type": "execute_result"
    }
   ],
   "source": [
    "# the sum of the basis of the records having a depreciation method and the records with no method\n",
    "# ties to sum of basis per the asset_book load file (cel 325)\n",
    "\n",
    "book_method_groupby.sum() + method_na_basis"
   ]
  },
  {
   "cell_type": "code",
   "execution_count": 90,
   "metadata": {},
   "outputs": [],
   "source": [
    "# the asset_book load file has 3 run groups in it\n",
    "# mmc_load_asset_book['RunGroup'].unique()"
   ]
  },
  {
   "cell_type": "code",
   "execution_count": 91,
   "metadata": {},
   "outputs": [],
   "source": [
    "# mmc_load_asset_book['RunGroup'].value_counts()"
   ]
  },
  {
   "cell_type": "code",
   "execution_count": 92,
   "metadata": {},
   "outputs": [],
   "source": [
    "mmc_load_assets_by_rungroup_and_method = mmc_load_asset_book.groupby(['RunGroup', 'Method'])['Basis'].sum()\n",
    "# mmc_load_assets_by_rungroup_and_method"
   ]
  },
  {
   "cell_type": "code",
   "execution_count": 93,
   "metadata": {},
   "outputs": [],
   "source": [
    "# mmc_load_asset_book.groupby(['RunGroup', 'Method']).agg({'Basis':'sum', 'AssetImport': 'count'},)"
   ]
  },
  {
   "cell_type": "code",
   "execution_count": 94,
   "metadata": {},
   "outputs": [],
   "source": [
    "# mmc_load_asset_book['AssetImport'].count()"
   ]
  },
  {
   "cell_type": "code",
   "execution_count": 95,
   "metadata": {},
   "outputs": [],
   "source": [
    "# mmc_load_asset_book.shape"
   ]
  },
  {
   "cell_type": "code",
   "execution_count": 96,
   "metadata": {},
   "outputs": [],
   "source": [
    "# there are 28232 records in the asset_book load file with method of SL\n",
    "# and RunGroup of 'MMC_ASSET' while there are 30893 \n",
    "# records in the asset_load and asset_item_load files which contain woa and other assets\n",
    "\n",
    "# mmc_load_asset_book[(mmc_load_asset_book['Method'] == 'SL') &\n",
    "#                    (mmc_load_asset_book['RunGroup'] == 'MMC_ASSET')].count()"
   ]
  },
  {
   "cell_type": "code",
   "execution_count": 97,
   "metadata": {},
   "outputs": [],
   "source": [
    "# there are 28,783 MMC records in the CBIZ report\n",
    "# ties to number of rows in the CBIZ Montefiore Medical Center_FY20_Asset list_rev2.csv file\n",
    "# the bulk of the difference should be the records with missing (NaN) method\n",
    "\n",
    "\n",
    "# mmc_cbiz_report.shape"
   ]
  },
  {
   "cell_type": "markdown",
   "metadata": {},
   "source": [
    "### mmc assets file load"
   ]
  },
  {
   "cell_type": "code",
   "execution_count": 98,
   "metadata": {},
   "outputs": [],
   "source": [
    "mmc_asset_load = pd.read_csv(r'C:\\Users\\mikra\\OneDrive\\Documents\\Work\\conversion\\SIT3\\november_AX2\\fixed_assets\\mmc\\MMC_AssetImport_Load.csv',\n",
    "                            usecols=(['FinanceEnterpriseGroup', 'AssetImport', 'Description',\n",
    "       'Classification', 'TagNumber', 'AssetGroup', 'AssetCategory',\n",
    "       'Reference2', 'Company', 'Currency', 'AssetLocation',\n",
    "       'AssetAccountingUnitGroup', 'AssetAccountGroup']))"
   ]
  },
  {
   "cell_type": "code",
   "execution_count": 99,
   "metadata": {},
   "outputs": [],
   "source": [
    "# mmc_asset_load.columns"
   ]
  },
  {
   "cell_type": "code",
   "execution_count": 100,
   "metadata": {},
   "outputs": [],
   "source": [
    "# mmc_asset_load.info()"
   ]
  },
  {
   "cell_type": "code",
   "execution_count": 101,
   "metadata": {},
   "outputs": [
    {
     "data": {
      "text/plain": [
       "30387"
      ]
     },
     "execution_count": 101,
     "metadata": {},
     "output_type": "execute_result"
    }
   ],
   "source": [
    "mmc_asset_load['AssetImport'].nunique()"
   ]
  },
  {
   "cell_type": "code",
   "execution_count": 102,
   "metadata": {},
   "outputs": [],
   "source": [
    "mmc_asset_load['cbiz_index'] = mmc_asset_load['AssetImport'].apply(lambda x: int(x.split('_')[1]))\n",
    "mmc_asset_load['cbiz_asset_ids'] = mmc_asset_load['AssetImport'].apply(lambda x: (x.split('_')[1]))"
   ]
  },
  {
   "cell_type": "code",
   "execution_count": 103,
   "metadata": {},
   "outputs": [
    {
     "data": {
      "text/plain": [
       "array([3000, 3010, 3080, 2100, 3020, 2000, 3060, 3090, 2010, 2020, 2040,\n",
       "       2030, 2060, 2050], dtype=int64)"
      ]
     },
     "execution_count": 103,
     "metadata": {},
     "output_type": "execute_result"
    }
   ],
   "source": [
    "mmc_asset_load['Company'].unique()"
   ]
  },
  {
   "cell_type": "code",
   "execution_count": 104,
   "metadata": {},
   "outputs": [],
   "source": [
    "# mmc_asset_load_by_company = mmc_asset_load.groupby('Company')\n",
    "# mmc_asset_load_by_company.get_group(3020)"
   ]
  },
  {
   "cell_type": "code",
   "execution_count": 105,
   "metadata": {},
   "outputs": [],
   "source": [
    "mhs_2000_assets = mmc_asset_load[mmc_asset_load['Company'] == 2000]\n",
    "mnr_2010_assets = mmc_asset_load[mmc_asset_load['Company'] == 2010]\n",
    "mmv_2020_assets = mmc_asset_load[mmc_asset_load['Company'] == 2020]\n",
    "sec_2030_assets = mmc_asset_load[mmc_asset_load['Company'] == 2030]\n",
    "mss_holdings_2040_assets = mmc_asset_load[mmc_asset_load['Company'] == 2040]\n",
    "mvh_holdings_2050_assets = mmc_asset_load[mmc_asset_load['Company'] == 2050]\n",
    "mva_holdings_2060_assets = mmc_asset_load[mmc_asset_load['Company'] == 2060]\n",
    "uba_2100_assets = mmc_asset_load[mmc_asset_load['Company'] == 2100]\n",
    "mmc_3000_assets = mmc_asset_load[mmc_asset_load['Company'] == 3000]\n",
    "cmo_3010_assets = mmc_asset_load[mmc_asset_load['Company'] == 3010]\n",
    "hou1_3020_assets = mmc_asset_load[mmc_asset_load['Company'] == 3020]\n",
    "mhvc_3060_assets = mmc_asset_load[mmc_asset_load['Company'] == 3060]\n",
    "mmc_corp_3080_assets = mmc_asset_load[mmc_asset_load['Company'] == 3080]\n",
    "mosholu_3090_assets = mmc_asset_load[mmc_asset_load['Company'] == 3090]"
   ]
  },
  {
   "cell_type": "code",
   "execution_count": 106,
   "metadata": {},
   "outputs": [
    {
     "data": {
      "text/html": [
       "<div>\n",
       "<style scoped>\n",
       "    .dataframe tbody tr th:only-of-type {\n",
       "        vertical-align: middle;\n",
       "    }\n",
       "\n",
       "    .dataframe tbody tr th {\n",
       "        vertical-align: top;\n",
       "    }\n",
       "\n",
       "    .dataframe thead th {\n",
       "        text-align: right;\n",
       "    }\n",
       "</style>\n",
       "<table border=\"1\" class=\"dataframe\">\n",
       "  <thead>\n",
       "    <tr style=\"text-align: right;\">\n",
       "      <th></th>\n",
       "      <th>FinanceEnterpriseGroup</th>\n",
       "      <th>AssetImport</th>\n",
       "      <th>Description</th>\n",
       "      <th>Classification</th>\n",
       "      <th>TagNumber</th>\n",
       "      <th>AssetGroup</th>\n",
       "      <th>AssetCategory</th>\n",
       "      <th>Reference2</th>\n",
       "      <th>Company</th>\n",
       "      <th>Currency</th>\n",
       "      <th>AssetLocation</th>\n",
       "      <th>AssetAccountingUnitGroup</th>\n",
       "      <th>AssetAccountGroup</th>\n",
       "      <th>cbiz_index</th>\n",
       "      <th>cbiz_asset_ids</th>\n",
       "    </tr>\n",
       "  </thead>\n",
       "  <tbody>\n",
       "    <tr>\n",
       "      <th>4815</th>\n",
       "      <td>1</td>\n",
       "      <td>MMC_43159</td>\n",
       "      <td>5110923 UBA 148TH ST NEW DEVICES</td>\n",
       "      <td>P</td>\n",
       "      <td>NaN</td>\n",
       "      <td>Conversion</td>\n",
       "      <td>D</td>\n",
       "      <td>10I</td>\n",
       "      <td>2100</td>\n",
       "      <td>USD</td>\n",
       "      <td>NaN</td>\n",
       "      <td>1</td>\n",
       "      <td>CIP</td>\n",
       "      <td>43159</td>\n",
       "      <td>43159</td>\n",
       "    </tr>\n",
       "    <tr>\n",
       "      <th>25685</th>\n",
       "      <td>1</td>\n",
       "      <td>MMC_46963</td>\n",
       "      <td>5113126 UBA AREA A AND AREA B (OPTION</td>\n",
       "      <td>P</td>\n",
       "      <td>NaN</td>\n",
       "      <td>Conversion</td>\n",
       "      <td>D</td>\n",
       "      <td>15I</td>\n",
       "      <td>2100</td>\n",
       "      <td>USD</td>\n",
       "      <td>387B</td>\n",
       "      <td>1</td>\n",
       "      <td>CIP</td>\n",
       "      <td>46963</td>\n",
       "      <td>46963</td>\n",
       "    </tr>\n",
       "    <tr>\n",
       "      <th>25686</th>\n",
       "      <td>1</td>\n",
       "      <td>MMC_46964</td>\n",
       "      <td>5115117 UBA-EXECUTIVE OFFICE RENOVATION</td>\n",
       "      <td>P</td>\n",
       "      <td>NaN</td>\n",
       "      <td>Conversion</td>\n",
       "      <td>D</td>\n",
       "      <td>15I</td>\n",
       "      <td>2100</td>\n",
       "      <td>USD</td>\n",
       "      <td>416B</td>\n",
       "      <td>1</td>\n",
       "      <td>CIP</td>\n",
       "      <td>46964</td>\n",
       "      <td>46964</td>\n",
       "    </tr>\n",
       "  </tbody>\n",
       "</table>\n",
       "</div>"
      ],
      "text/plain": [
       "       FinanceEnterpriseGroup AssetImport                              Description Classification TagNumber  AssetGroup AssetCategory Reference2  Company Currency AssetLocation  AssetAccountingUnitGroup AssetAccountGroup  cbiz_index cbiz_asset_ids\n",
       "4815                        1   MMC_43159         5110923 UBA 148TH ST NEW DEVICES              P       NaN  Conversion             D        10I     2100      USD           NaN                         1               CIP       43159          43159\n",
       "25685                       1   MMC_46963    5113126 UBA AREA A AND AREA B (OPTION              P       NaN  Conversion             D        15I     2100      USD          387B                         1               CIP       46963          46963\n",
       "25686                       1   MMC_46964  5115117 UBA-EXECUTIVE OFFICE RENOVATION              P       NaN  Conversion             D        15I     2100      USD          416B                         1               CIP       46964          46964"
      ]
     },
     "execution_count": 106,
     "metadata": {},
     "output_type": "execute_result"
    }
   ],
   "source": [
    "uba_2100_assets"
   ]
  },
  {
   "cell_type": "code",
   "execution_count": 107,
   "metadata": {},
   "outputs": [],
   "source": [
    "# mmc_3000_assets.columns"
   ]
  },
  {
   "cell_type": "code",
   "execution_count": 108,
   "metadata": {},
   "outputs": [],
   "source": [
    "# mmc_cbiz_report.columns"
   ]
  },
  {
   "cell_type": "code",
   "execution_count": 109,
   "metadata": {},
   "outputs": [],
   "source": [
    "# mmc_cbiz_report.info()"
   ]
  },
  {
   "cell_type": "code",
   "execution_count": 110,
   "metadata": {},
   "outputs": [],
   "source": [
    "# mmc_3000_assets.columns"
   ]
  },
  {
   "cell_type": "code",
   "execution_count": 111,
   "metadata": {},
   "outputs": [],
   "source": [
    "# cmo_3010_assets.columns"
   ]
  },
  {
   "cell_type": "code",
   "execution_count": 112,
   "metadata": {},
   "outputs": [],
   "source": [
    "# mmc_cbiz_report.columns"
   ]
  },
  {
   "cell_type": "markdown",
   "metadata": {},
   "source": [
    "### These values tie to the 12/31/2020 audit reconciliation\n",
    "#### Need to tie these numbers back to the Infor trial balances"
   ]
  },
  {
   "cell_type": "code",
   "execution_count": 113,
   "metadata": {},
   "outputs": [
    {
     "data": {
      "text/plain": [
       " Acquired Value*    $3,417,017,186.00\n",
       " Current Accum*     $2,370,440,614.00\n",
       " NBV*               $1,046,576,745.00\n",
       "dtype: float64"
      ]
     },
     "execution_count": 113,
     "metadata": {},
     "output_type": "execute_result"
    }
   ],
   "source": [
    "cbiz_3000_merge = mmc_3000_assets.merge(mmc_cbiz_report,how='inner',\n",
    "left_on='cbiz_asset_ids', right_on='Asset ID').set_index('cbiz_index')\n",
    "\n",
    "cbiz_3000_merge[[' Acquired Value* ', ' Current Accum* ', ' NBV* ']].sum()"
   ]
  },
  {
   "cell_type": "code",
   "execution_count": 114,
   "metadata": {},
   "outputs": [
    {
     "data": {
      "text/plain": [
       " Acquired Value*    $3,417,017,186.00\n",
       " Current Accum*     $2,370,440,614.00\n",
       " NBV*               $1,046,576,745.00\n",
       "dtype: float64"
      ]
     },
     "execution_count": 114,
     "metadata": {},
     "output_type": "execute_result"
    }
   ],
   "source": [
    "cbiz_asset_and_book_3000_merge = cbiz_3000_merge.merge(mmc_gl_book_df, how='inner',\n",
    "                                 left_on='cbiz_index', right_on='cbiz_index').set_index('cbiz_index').\\\n",
    "                                 drop(['FinanceEnterpriseGroup_x', 'AssetImport_y', 'cbiz_asset_ids_x',\n",
    "                                 'cbiz_asset_ids_y', 'Classification', 'Currency', 'Sys No', 'TagNumber', 'AssetGroup',\n",
    "                                 'AssetAccountingUnitGroup', 'AssetAccountGroup', 'Active', 'Reference2',\n",
    "                                 'Prev', 'Status', 'AssetAccountingUnitGroup', 'FinanceEnterpriseGroup_y'], \n",
    "                                 axis=1)\n",
    "\n",
    "cbiz_asset_and_book_3000_merge[[' Acquired Value* ',  ' Current Accum* ', ' NBV* ']].sum()"
   ]
  },
  {
   "cell_type": "code",
   "execution_count": 115,
   "metadata": {},
   "outputs": [],
   "source": [
    "# cbiz_asset_and_book_3000_merge.head()"
   ]
  },
  {
   "cell_type": "code",
   "execution_count": 116,
   "metadata": {},
   "outputs": [],
   "source": [
    "# mmc_cbiz_report.columns"
   ]
  },
  {
   "cell_type": "code",
   "execution_count": 117,
   "metadata": {},
   "outputs": [],
   "source": [
    "# view all the 3000 assets merged with the cbiz file\n",
    "# cbiz_3000_merge"
   ]
  },
  {
   "cell_type": "code",
   "execution_count": 118,
   "metadata": {},
   "outputs": [
    {
     "data": {
      "text/plain": [
       " Acquired Value*    $30,767,684.00\n",
       " Current Accum*     $27,515,315.00\n",
       " NBV*                $3,252,369.00\n",
       "dtype: float64"
      ]
     },
     "execution_count": 118,
     "metadata": {},
     "output_type": "execute_result"
    }
   ],
   "source": [
    "cbiz_3010_merge = cmo_3010_assets.merge(mmc_cbiz_report,how='inner',\n",
    "left_on=\"cbiz_asset_ids\", right_on='Asset ID')\n",
    "\n",
    "cbiz_3010_merge[[' Acquired Value* ', ' Current Accum* ',  ' NBV* ']].sum()"
   ]
  },
  {
   "cell_type": "code",
   "execution_count": 119,
   "metadata": {},
   "outputs": [
    {
     "data": {
      "text/plain": [
       " Acquired Value*    $30,767,684.00\n",
       "Basis               $30,767,685.74\n",
       " Current Accum*     $27,515,315.00\n",
       " NBV*                $3,252,369.00\n",
       "dtype: float64"
      ]
     },
     "execution_count": 119,
     "metadata": {},
     "output_type": "execute_result"
    }
   ],
   "source": [
    "cbiz_asset_and_book_3010_merge = cbiz_3010_merge.merge(mmc_gl_book_df, how='inner',\n",
    "                                                      left_on='cbiz_index', right_on='cbiz_index').set_index('cbiz_index').\\\n",
    "                                 drop(['FinanceEnterpriseGroup_x', 'AssetImport_y', 'cbiz_asset_ids_x',\n",
    "                                 'cbiz_asset_ids_y', 'Classification', 'Currency', 'Sys No', 'TagNumber', 'AssetGroup',\n",
    "                                 'AssetAccountingUnitGroup', 'AssetAccountGroup', 'Active', 'Reference2',\n",
    "                                 'Prev', 'Status', 'AssetAccountingUnitGroup', 'FinanceEnterpriseGroup_y'], \n",
    "                                 axis=1)\n",
    "\n",
    "cbiz_asset_and_book_3010_merge[[' Acquired Value* ', 'Basis', ' Current Accum* ', ' NBV* ']].sum()"
   ]
  },
  {
   "cell_type": "code",
   "execution_count": 120,
   "metadata": {},
   "outputs": [
    {
     "data": {
      "text/plain": [
       " Acquired Value*    $118,736,253.00\n",
       " Current Accum*      $34,838,153.00\n",
       " NBV*                $83,898,104.00\n",
       "dtype: float64"
      ]
     },
     "execution_count": 120,
     "metadata": {},
     "output_type": "execute_result"
    }
   ],
   "source": [
    "cbiz_3080_merge = mmc_corp_3080_assets.merge(mmc_cbiz_report,how='inner',\n",
    "left_on=\"cbiz_asset_ids\", right_on='Asset ID')\n",
    "\n",
    "cbiz_3080_merge[[' Acquired Value* ', ' Current Accum* ',  ' NBV* ', ]].sum()"
   ]
  },
  {
   "cell_type": "code",
   "execution_count": 121,
   "metadata": {},
   "outputs": [
    {
     "data": {
      "text/plain": [
       " Acquired Value*    $118,736,253.00\n",
       "Basis               $118,736,252.21\n",
       " Current Accum*      $34,838,153.00\n",
       " NBV*                $83,898,104.00\n",
       "dtype: float64"
      ]
     },
     "execution_count": 121,
     "metadata": {},
     "output_type": "execute_result"
    }
   ],
   "source": [
    "\n",
    "cbiz_asset_and_book_3080_merge = cbiz_3080_merge.merge(mmc_gl_book_df, how='inner',\n",
    "                                                      left_on='cbiz_index', right_on='cbiz_index').set_index('cbiz_index').\\\n",
    "                                 drop(['FinanceEnterpriseGroup_x', 'AssetImport_y', 'cbiz_asset_ids_x',\n",
    "                                 'cbiz_asset_ids_y', 'Classification', 'Currency', 'Sys No', 'TagNumber', 'AssetGroup',\n",
    "                                 'AssetAccountingUnitGroup', 'AssetAccountGroup', 'Active', 'Reference2',\n",
    "                                 'Prev', 'Status', 'AssetAccountingUnitGroup', 'FinanceEnterpriseGroup_y'], \n",
    "                                 axis=1)\n",
    "\n",
    "cbiz_asset_and_book_3080_merge[[' Acquired Value* ', 'Basis', ' Current Accum* ', ' NBV* ']].sum()"
   ]
  },
  {
   "cell_type": "code",
   "execution_count": 122,
   "metadata": {},
   "outputs": [
    {
     "data": {
      "text/plain": [
       " Acquired Value*    $8,201,691.61\n",
       " Current Accum*     $6,345,633.36\n",
       " NBV*               $1,856,058.25\n",
       "dtype: float64"
      ]
     },
     "execution_count": 122,
     "metadata": {},
     "output_type": "execute_result"
    }
   ],
   "source": [
    "cbiz_3020_merge = hou1_3020_assets.merge(other_cbiz_report,how='inner',\n",
    "left_on=\"cbiz_index\", right_on='Asset ID')\n",
    "\n",
    "cbiz_3020_merge[[' Acquired Value* ', ' Current Accum* ', ' NBV* ', ]].sum()"
   ]
  },
  {
   "cell_type": "code",
   "execution_count": 123,
   "metadata": {},
   "outputs": [
    {
     "data": {
      "text/plain": [
       " Acquired Value*     $8,201,691.61\n",
       "Basis               $42,509,653.00\n",
       " Current Accum*      $6,345,633.36\n",
       " NBV*                $1,856,058.25\n",
       "dtype: float64"
      ]
     },
     "execution_count": 123,
     "metadata": {},
     "output_type": "execute_result"
    }
   ],
   "source": [
    "cbiz_asset_and_book_3020_merge = cbiz_3020_merge.merge(woa_gl_book_df, how='inner',\n",
    "                                                      left_on='cbiz_index', right_on='cbiz_index').set_index('cbiz_index').\\\n",
    "                                 drop(['FinanceEnterpriseGroup_x', 'AssetImport_y', 'cbiz_asset_ids_x',\n",
    "                                 'cbiz_asset_ids_y', 'Classification', 'Currency', 'Sys No', 'TagNumber', 'AssetGroup',\n",
    "                                 'AssetAccountingUnitGroup', 'AssetAccountGroup', 'Active', 'Reference2',\n",
    "                                 'Status', 'AssetAccountingUnitGroup', 'FinanceEnterpriseGroup_y'], \n",
    "                                 axis=1)\n",
    "\n",
    "cbiz_asset_and_book_3020_merge[[' Acquired Value* ', 'Basis', ' Current Accum* ', ' NBV* ']].sum()"
   ]
  },
  {
   "cell_type": "code",
   "execution_count": 124,
   "metadata": {},
   "outputs": [
    {
     "data": {
      "text/plain": [
       " Acquired Value*    $7,710,311.00\n",
       " Current Accum*     $3,298,307.96\n",
       " NBV*               $4,412,003.04\n",
       "dtype: float64"
      ]
     },
     "execution_count": 124,
     "metadata": {},
     "output_type": "execute_result"
    }
   ],
   "source": [
    "cbiz_3090_merge = mosholu_3090_assets.merge(other_cbiz_report,how='inner',\n",
    "left_on=\"cbiz_index\", right_on='Asset ID').set_index('cbiz_index')\n",
    "\n",
    "cbiz_3090_merge[[' Acquired Value* ', ' Current Accum* ', ' NBV* ',]].sum()"
   ]
  },
  {
   "cell_type": "code",
   "execution_count": 125,
   "metadata": {},
   "outputs": [
    {
     "data": {
      "text/plain": [
       " Acquired Value*     $7,710,311.00\n",
       "Basis               $27,142,693.00\n",
       " Current Accum*      $3,298,307.96\n",
       " NBV*                $4,412,003.04\n",
       "dtype: float64"
      ]
     },
     "execution_count": 125,
     "metadata": {},
     "output_type": "execute_result"
    }
   ],
   "source": [
    "cbiz_asset_and_book_3090_merge = cbiz_3090_merge.merge(woa_gl_book_df, how='inner',\n",
    "                                                      left_on='cbiz_index', right_on='cbiz_index').set_index('cbiz_index').\\\n",
    "                                 drop(['FinanceEnterpriseGroup_x', 'AssetImport_y', 'cbiz_asset_ids_x',\n",
    "                                 'cbiz_asset_ids_y', 'Classification', 'Currency', 'Sys No', 'TagNumber', 'AssetGroup',\n",
    "                                 'AssetAccountingUnitGroup', 'AssetAccountGroup', 'Active', 'Reference2',\n",
    "                                 'Status', 'AssetAccountingUnitGroup', 'FinanceEnterpriseGroup_y'], \n",
    "                                 axis=1)\n",
    "\n",
    "cbiz_asset_and_book_3090_merge[[' Acquired Value* ', 'Basis', ' Current Accum* ', ' NBV* ']].sum()"
   ]
  },
  {
   "cell_type": "code",
   "execution_count": 126,
   "metadata": {},
   "outputs": [
    {
     "data": {
      "text/plain": [
       " Acquired Value*    $23,840.65\n",
       " Current Accum*      $6,401.74\n",
       " NBV*               $17,438.91\n",
       "dtype: float64"
      ]
     },
     "execution_count": 126,
     "metadata": {},
     "output_type": "execute_result"
    }
   ],
   "source": [
    "cbiz_3060_merge = mhvc_3060_assets.merge(other_cbiz_report,how='inner',\n",
    "left_on=\"cbiz_index\", right_on='Asset ID')\n",
    "\n",
    "cbiz_3060_merge[[' Acquired Value* ', ' Current Accum* ', ' NBV* ', ]].sum()"
   ]
  },
  {
   "cell_type": "code",
   "execution_count": 127,
   "metadata": {},
   "outputs": [
    {
     "data": {
      "text/plain": [
       " Acquired Value*    $23,840.65\n",
       "Basis                $2,250.00\n",
       " Current Accum*      $6,401.74\n",
       " NBV*               $17,438.91\n",
       "dtype: float64"
      ]
     },
     "execution_count": 127,
     "metadata": {},
     "output_type": "execute_result"
    }
   ],
   "source": [
    "cbiz_asset_and_book_3060_merge = cbiz_3060_merge.merge(woa_gl_book_df, how='inner',\n",
    "                                                      left_on='cbiz_index', right_on='cbiz_index').set_index('cbiz_index').\\\n",
    "                                 drop(['FinanceEnterpriseGroup_x', 'AssetImport_y', 'cbiz_asset_ids_x',\n",
    "                                 'cbiz_asset_ids_y', 'Classification', 'Currency', 'Sys No', 'TagNumber', 'AssetGroup',\n",
    "                                 'AssetAccountingUnitGroup', 'AssetAccountGroup', 'Active', 'Reference2',\n",
    "                                 'Status', 'AssetAccountingUnitGroup', 'FinanceEnterpriseGroup_y'], \n",
    "                                 axis=1)\n",
    "\n",
    "cbiz_asset_and_book_3060_merge[[' Acquired Value* ', 'Basis', ' Current Accum* ', ' NBV* ']].sum()"
   ]
  },
  {
   "cell_type": "code",
   "execution_count": 128,
   "metadata": {},
   "outputs": [
    {
     "data": {
      "text/plain": [
       " Acquired Value*    $1,008,190.08\n",
       " Current Accum*       $105,692.20\n",
       " NBV*                 $902,497.88\n",
       "dtype: float64"
      ]
     },
     "execution_count": 128,
     "metadata": {},
     "output_type": "execute_result"
    }
   ],
   "source": [
    "cbiz_2000_merge = mhs_2000_assets.merge(other_cbiz_report,how='inner',\n",
    "left_on=\"cbiz_index\", right_on='Asset ID')\n",
    "\n",
    "cbiz_2000_merge[[' Acquired Value* ', ' Current Accum* ', ' NBV* ', ]].sum()"
   ]
  },
  {
   "cell_type": "code",
   "execution_count": 129,
   "metadata": {},
   "outputs": [
    {
     "data": {
      "text/plain": [
       " Acquired Value*    $1,008,190.08\n",
       "Basis               $1,008,190.08\n",
       " Current Accum*       $105,692.20\n",
       " NBV*                 $902,497.88\n",
       "dtype: float64"
      ]
     },
     "execution_count": 129,
     "metadata": {},
     "output_type": "execute_result"
    }
   ],
   "source": [
    "cbiz_asset_and_book_2000_merge = cbiz_2000_merge.merge(oth_gl_book_df, how='inner',\n",
    "                                                      left_on='cbiz_index', right_on='cbiz_index').set_index('cbiz_index').\\\n",
    "                                 drop(['FinanceEnterpriseGroup_x', 'AssetImport_y', 'cbiz_asset_ids_x',\n",
    "                                 'cbiz_asset_ids_y', 'Classification', 'Currency', 'Sys No', 'TagNumber', 'AssetGroup',\n",
    "                                 'AssetAccountingUnitGroup', 'AssetAccountGroup', 'Active', 'Reference2',\n",
    "                                 'Status', 'AssetAccountingUnitGroup', 'FinanceEnterpriseGroup_y'], \n",
    "                                 axis=1)\n",
    "\n",
    "cbiz_asset_and_book_2000_merge[[' Acquired Value* ', 'Basis', ' Current Accum* ', ' NBV* ']].sum()"
   ]
  },
  {
   "cell_type": "code",
   "execution_count": 130,
   "metadata": {},
   "outputs": [
    {
     "data": {
      "text/plain": [
       " Acquired Value*    $61,384,280.00\n",
       " Current Accum*     $21,131,212.00\n",
       " NBV*               $40,253,077.00\n",
       "dtype: float64"
      ]
     },
     "execution_count": 130,
     "metadata": {},
     "output_type": "execute_result"
    }
   ],
   "source": [
    "cbiz_2010_merge = mnr_2010_assets.merge(woa_cbiz_report,how='inner',\n",
    "left_on=\"cbiz_index\", right_on='Asset ID')\n",
    "\n",
    "cbiz_2010_merge[[' Acquired Value* ', ' Current Accum* ', ' NBV* ', ]].sum()"
   ]
  },
  {
   "cell_type": "code",
   "execution_count": 131,
   "metadata": {},
   "outputs": [
    {
     "data": {
      "text/plain": [
       " Acquired Value*    $61,384,280.00\n",
       "Basis               $61,384,279.97\n",
       " Current Accum*     $21,131,212.00\n",
       " NBV*               $40,253,077.00\n",
       "dtype: float64"
      ]
     },
     "execution_count": 131,
     "metadata": {},
     "output_type": "execute_result"
    }
   ],
   "source": [
    "cbiz_asset_and_book_2010_merge = cbiz_2010_merge.merge(woa_gl_book_df, how='inner',\n",
    "                                                      left_on='cbiz_index', right_on='cbiz_index').set_index('cbiz_index').\\\n",
    "                                 drop(['FinanceEnterpriseGroup_x', 'AssetImport_y', 'cbiz_asset_ids_x',\n",
    "                                 'cbiz_asset_ids_y', 'Classification', 'Currency', 'Sys No', 'TagNumber', 'AssetGroup',\n",
    "                                 'AssetAccountingUnitGroup', 'AssetAccountGroup', 'Active', 'Reference2',\n",
    "                                 'Status', 'AssetAccountingUnitGroup', 'FinanceEnterpriseGroup_y'], \n",
    "                                 axis=1)\n",
    "\n",
    "cbiz_asset_and_book_2010_merge[[' Acquired Value* ', 'Basis', ' Current Accum* ', ' NBV* ']].sum()"
   ]
  },
  {
   "cell_type": "code",
   "execution_count": 132,
   "metadata": {},
   "outputs": [
    {
     "data": {
      "text/plain": [
       " Acquired Value*    $38,110,000.00\n",
       " Current Accum*      $9,872,083.00\n",
       " NBV*               $28,237,917.00\n",
       "dtype: float64"
      ]
     },
     "execution_count": 132,
     "metadata": {},
     "output_type": "execute_result"
    }
   ],
   "source": [
    "cbiz_2040_merge = mss_holdings_2040_assets.merge(woa_cbiz_report,how='inner',\n",
    "left_on=\"cbiz_index\", right_on='Asset ID')\n",
    "\n",
    "cbiz_2040_merge[[' Acquired Value* ', ' Current Accum* ', ' NBV* ', ]].sum()"
   ]
  },
  {
   "cell_type": "code",
   "execution_count": 133,
   "metadata": {},
   "outputs": [
    {
     "data": {
      "text/plain": [
       " Acquired Value*    $38,110,000.00\n",
       "Basis               $38,110,000.00\n",
       " Current Accum*      $9,872,083.00\n",
       " NBV*               $28,237,917.00\n",
       "dtype: float64"
      ]
     },
     "execution_count": 133,
     "metadata": {},
     "output_type": "execute_result"
    }
   ],
   "source": [
    "cbiz_asset_and_book_2040_merge = cbiz_2040_merge.merge(woa_gl_book_df, how='inner',\n",
    "                                                      left_on='cbiz_index', right_on='cbiz_index').set_index('cbiz_index').\\\n",
    "                                 drop(['FinanceEnterpriseGroup_x', 'AssetImport_y', 'cbiz_asset_ids_x',\n",
    "                                 'cbiz_asset_ids_y', 'Classification', 'Currency', 'Sys No', 'TagNumber', 'AssetGroup',\n",
    "                                 'AssetAccountingUnitGroup', 'AssetAccountGroup', 'Active', 'Reference2',\n",
    "                                 'Status', 'AssetAccountingUnitGroup', 'FinanceEnterpriseGroup_y'], \n",
    "                                 axis=1)\n",
    "\n",
    "cbiz_asset_and_book_2040_merge[[' Acquired Value* ', 'Basis',  ' Current Accum* ', ' NBV* ']].sum()"
   ]
  },
  {
   "cell_type": "code",
   "execution_count": 134,
   "metadata": {},
   "outputs": [
    {
     "data": {
      "text/plain": [
       " Acquired Value*    $19,764,903.00\n",
       " Current Accum*     $10,486,388.00\n",
       " NBV*                $9,278,519.00\n",
       "dtype: float64"
      ]
     },
     "execution_count": 134,
     "metadata": {},
     "output_type": "execute_result"
    }
   ],
   "source": [
    "cbiz_2020_merge = mmv_2020_assets.merge(woa_cbiz_report,how='inner',\n",
    "left_on=\"cbiz_index\", right_on='Asset ID')\n",
    "\n",
    "cbiz_2020_merge[[' Acquired Value* ', ' Current Accum* ', ' NBV* ', ]].sum()"
   ]
  },
  {
   "cell_type": "code",
   "execution_count": 135,
   "metadata": {},
   "outputs": [
    {
     "data": {
      "text/plain": [
       " Acquired Value*    $19,764,903.00\n",
       "Basis               $19,764,902.67\n",
       " Current Accum*     $10,486,388.00\n",
       " NBV*                $9,278,519.00\n",
       "dtype: float64"
      ]
     },
     "execution_count": 135,
     "metadata": {},
     "output_type": "execute_result"
    }
   ],
   "source": [
    "cbiz_asset_and_book_2020_merge = cbiz_2020_merge.merge(woa_gl_book_df, how='inner',\n",
    "                                                      left_on='cbiz_index', right_on='cbiz_index').set_index('cbiz_index').\\\n",
    "                                 drop(['FinanceEnterpriseGroup_x', 'AssetImport_y', 'cbiz_asset_ids_x',\n",
    "                                 'cbiz_asset_ids_y', 'Classification', 'Currency', 'Sys No', 'TagNumber', 'AssetGroup',\n",
    "                                 'AssetAccountingUnitGroup', 'AssetAccountGroup', 'Active', 'Reference2',\n",
    "                                 'Status', 'AssetAccountingUnitGroup', 'FinanceEnterpriseGroup_y'], \n",
    "                                 axis=1)\n",
    "\n",
    "cbiz_asset_and_book_2020_merge[[' Acquired Value* ', 'Basis', ' Current Accum* ', ' NBV* ']].sum()"
   ]
  },
  {
   "cell_type": "code",
   "execution_count": 136,
   "metadata": {},
   "outputs": [
    {
     "data": {
      "text/plain": [
       " Acquired Value*    $10,411,827.00\n",
       " Current Accum*        $888,512.00\n",
       " NBV*                $9,523,315.00\n",
       "dtype: float64"
      ]
     },
     "execution_count": 136,
     "metadata": {},
     "output_type": "execute_result"
    }
   ],
   "source": [
    "cbiz_2050_merge = mvh_holdings_2050_assets.merge(woa_cbiz_report,how='inner',\n",
    "left_on=\"cbiz_index\", right_on='Asset ID')\n",
    "\n",
    "cbiz_2050_merge[[' Acquired Value* ', ' Current Accum* ', ' NBV* ', ]].sum()"
   ]
  },
  {
   "cell_type": "code",
   "execution_count": 137,
   "metadata": {},
   "outputs": [
    {
     "data": {
      "text/plain": [
       " Acquired Value*    $10,411,827.00\n",
       "Basis               $10,411,827.00\n",
       " Current Accum*        $888,512.00\n",
       " NBV*                $9,523,315.00\n",
       "dtype: float64"
      ]
     },
     "execution_count": 137,
     "metadata": {},
     "output_type": "execute_result"
    }
   ],
   "source": [
    "cbiz_asset_and_book_2050_merge = cbiz_2050_merge.merge(woa_gl_book_df, how='inner',\n",
    "                                                      left_on='cbiz_index', right_on='cbiz_index').set_index('cbiz_index').\\\n",
    "                                 drop(['FinanceEnterpriseGroup_x', 'AssetImport_y', 'cbiz_asset_ids_x',\n",
    "                                 'cbiz_asset_ids_y', 'Classification', 'Currency', 'Sys No', 'TagNumber', 'AssetGroup',\n",
    "                                 'AssetAccountingUnitGroup', 'AssetAccountGroup', 'Active', 'Reference2',\n",
    "                                 'Status', 'AssetAccountingUnitGroup', 'FinanceEnterpriseGroup_y'], \n",
    "                                 axis=1)\n",
    "\n",
    "cbiz_asset_and_book_2050_merge[[' Acquired Value* ', 'Basis', ' Current Accum* ', ' NBV* ']].sum()"
   ]
  },
  {
   "cell_type": "code",
   "execution_count": 138,
   "metadata": {},
   "outputs": [
    {
     "data": {
      "text/plain": [
       " Acquired Value*    $4,854,391.00\n",
       " Current Accum*     $1,906,454.00\n",
       " NBV*               $2,947,938.00\n",
       "dtype: float64"
      ]
     },
     "execution_count": 138,
     "metadata": {},
     "output_type": "execute_result"
    }
   ],
   "source": [
    "cbiz_2030_merge = sec_2030_assets.merge(woa_cbiz_report,how='inner',\n",
    "left_on=\"cbiz_index\", right_on='Asset ID')\n",
    "\n",
    "cbiz_2030_merge[[' Acquired Value* ', ' Current Accum* ', ' NBV* ', ]].sum()"
   ]
  },
  {
   "cell_type": "code",
   "execution_count": 139,
   "metadata": {},
   "outputs": [
    {
     "data": {
      "text/plain": [
       " Acquired Value*    $4,854,391.00\n",
       "Basis               $4,854,390.60\n",
       " Current Accum*     $1,906,454.00\n",
       " NBV*               $2,947,938.00\n",
       "dtype: float64"
      ]
     },
     "execution_count": 139,
     "metadata": {},
     "output_type": "execute_result"
    }
   ],
   "source": [
    "cbiz_asset_and_book_2030_merge = cbiz_2030_merge.merge(woa_gl_book_df, how='inner',\n",
    "                                                      left_on='cbiz_index', right_on='cbiz_index').set_index('cbiz_index').\\\n",
    "                                 drop(['FinanceEnterpriseGroup_x', 'AssetImport_y', 'cbiz_asset_ids_x',\n",
    "                                 'cbiz_asset_ids_y', 'Classification', 'Currency', 'Sys No', 'TagNumber', 'AssetGroup',\n",
    "                                 'AssetAccountingUnitGroup', 'AssetAccountGroup', 'Active', 'Reference2',\n",
    "                                 'Status', 'AssetAccountingUnitGroup', 'FinanceEnterpriseGroup_y'], \n",
    "                                 axis=1)\n",
    "\n",
    "cbiz_asset_and_book_2030_merge[[' Acquired Value* ',  'Basis', ' Current Accum* ', ' NBV* ']].sum()"
   ]
  },
  {
   "cell_type": "code",
   "execution_count": 140,
   "metadata": {},
   "outputs": [
    {
     "data": {
      "text/plain": [
       " Acquired Value*    $5,756,151.00\n",
       " Current Accum*     $1,371,313.00\n",
       " NBV*               $4,384,838.00\n",
       "dtype: float64"
      ]
     },
     "execution_count": 140,
     "metadata": {},
     "output_type": "execute_result"
    }
   ],
   "source": [
    "cbiz_2060_merge = mva_holdings_2060_assets.merge(woa_cbiz_report,how='inner',\n",
    "left_on=\"cbiz_index\", right_on='Asset ID')\n",
    "\n",
    "cbiz_2060_merge[[' Acquired Value* ', ' Current Accum* ', ' NBV* ', ]].sum()"
   ]
  },
  {
   "cell_type": "code",
   "execution_count": 141,
   "metadata": {},
   "outputs": [
    {
     "data": {
      "text/plain": [
       " Acquired Value*    $5,756,151.00\n",
       "Basis               $5,756,151.00\n",
       " Current Accum*     $1,371,313.00\n",
       " NBV*               $4,384,838.00\n",
       "dtype: float64"
      ]
     },
     "execution_count": 141,
     "metadata": {},
     "output_type": "execute_result"
    }
   ],
   "source": [
    "cbiz_asset_and_book_2060_merge = cbiz_2060_merge.merge(woa_gl_book_df, how='inner',\n",
    "                                                      left_on='cbiz_index', right_on='cbiz_index').set_index('cbiz_index').\\\n",
    "                                 drop(['FinanceEnterpriseGroup_x', 'AssetImport_y', 'cbiz_asset_ids_x',\n",
    "                                 'cbiz_asset_ids_y', 'Classification', 'Currency', 'Sys No', 'TagNumber', 'AssetGroup',\n",
    "                                 'AssetAccountingUnitGroup', 'AssetAccountGroup', 'Active', 'Reference2',\n",
    "                                 'Status', 'AssetAccountingUnitGroup', 'FinanceEnterpriseGroup_y'], \n",
    "                                 axis=1)\n",
    "\n",
    "cbiz_asset_and_book_2060_merge[[' Acquired Value* ', 'Basis', ' Current Accum* ', ' NBV* ']].sum()"
   ]
  },
  {
   "cell_type": "code",
   "execution_count": 142,
   "metadata": {},
   "outputs": [],
   "source": [
    "# cbiz_asset_and_book_2060_merge.columns"
   ]
  },
  {
   "cell_type": "code",
   "execution_count": 143,
   "metadata": {},
   "outputs": [
    {
     "data": {
      "text/plain": [
       " Acquired Value*    $174,933.00\n",
       " Current Accum*      $75,146.00\n",
       " NBV*                $99,787.00\n",
       "dtype: float64"
      ]
     },
     "execution_count": 143,
     "metadata": {},
     "output_type": "execute_result"
    }
   ],
   "source": [
    "cbiz_2100_merge = uba_2100_assets.merge(mmc_cbiz_report,how='inner',\n",
    "left_on=\"cbiz_asset_ids\", right_on='Asset ID')\n",
    "\n",
    "cbiz_2100_merge[[' Acquired Value* ', ' Current Accum* ',  ' NBV* ', ]].sum()"
   ]
  },
  {
   "cell_type": "code",
   "execution_count": 144,
   "metadata": {},
   "outputs": [],
   "source": [
    "# cbiz_2100_merge.columns"
   ]
  },
  {
   "cell_type": "code",
   "execution_count": 145,
   "metadata": {},
   "outputs": [
    {
     "data": {
      "text/html": [
       "<div>\n",
       "<style scoped>\n",
       "    .dataframe tbody tr th:only-of-type {\n",
       "        vertical-align: middle;\n",
       "    }\n",
       "\n",
       "    .dataframe tbody tr th {\n",
       "        vertical-align: top;\n",
       "    }\n",
       "\n",
       "    .dataframe thead th {\n",
       "        text-align: right;\n",
       "    }\n",
       "</style>\n",
       "<table border=\"1\" class=\"dataframe\">\n",
       "  <thead>\n",
       "    <tr style=\"text-align: right;\">\n",
       "      <th></th>\n",
       "      <th>Acquired Value*</th>\n",
       "      <th>Basis</th>\n",
       "      <th>Current Accum*</th>\n",
       "      <th>NBV*</th>\n",
       "    </tr>\n",
       "    <tr>\n",
       "      <th>cbiz_index</th>\n",
       "      <th></th>\n",
       "      <th></th>\n",
       "      <th></th>\n",
       "      <th></th>\n",
       "    </tr>\n",
       "  </thead>\n",
       "  <tbody>\n",
       "    <tr>\n",
       "      <th>43159</th>\n",
       "      <td>$17,374.00</td>\n",
       "      <td>$17,374.00</td>\n",
       "      <td>$17,374.00</td>\n",
       "      <td>NaN</td>\n",
       "    </tr>\n",
       "    <tr>\n",
       "      <th>46963</th>\n",
       "      <td>$132,009.00</td>\n",
       "      <td>$132,009.00</td>\n",
       "      <td>$48,404.00</td>\n",
       "      <td>$83,605.00</td>\n",
       "    </tr>\n",
       "    <tr>\n",
       "      <th>46964</th>\n",
       "      <td>$25,550.00</td>\n",
       "      <td>$25,550.00</td>\n",
       "      <td>$9,368.00</td>\n",
       "      <td>$16,182.00</td>\n",
       "    </tr>\n",
       "  </tbody>\n",
       "</table>\n",
       "</div>"
      ],
      "text/plain": [
       "             Acquired Value*        Basis   Current Accum*       NBV* \n",
       "cbiz_index                                                            \n",
       "43159              $17,374.00  $17,374.00        $17,374.00        NaN\n",
       "46963             $132,009.00 $132,009.00        $48,404.00 $83,605.00\n",
       "46964              $25,550.00  $25,550.00         $9,368.00 $16,182.00"
      ]
     },
     "execution_count": 145,
     "metadata": {},
     "output_type": "execute_result"
    }
   ],
   "source": [
    "cbiz_asset_and_book_2100_merge = cbiz_2100_merge.merge(mmc_gl_book_df, how='inner',\n",
    "                                                      left_on='cbiz_index', right_on='cbiz_index').set_index('cbiz_index').\\\n",
    "                                 drop(['FinanceEnterpriseGroup_x', 'AssetImport_y', 'cbiz_asset_ids_x',\n",
    "                                 'cbiz_asset_ids_y', 'Classification', 'Currency', 'TagNumber', 'AssetGroup',\n",
    "                                 'AssetAccountingUnitGroup', 'AssetAccountGroup', 'Active', 'Reference2',\n",
    "                                  'AssetAccountingUnitGroup', 'FinanceEnterpriseGroup_y'], \n",
    "                                 axis=1)\n",
    "\n",
    "cbiz_asset_and_book_2100_merge[[' Acquired Value* ', 'Basis', ' Current Accum* ', ' NBV* ']]"
   ]
  },
  {
   "cell_type": "markdown",
   "metadata": {},
   "source": [
    "### Load the FSM asset register for all companies"
   ]
  },
  {
   "cell_type": "code",
   "execution_count": 146,
   "metadata": {},
   "outputs": [],
   "source": [
    "asset_download_all_entities = pd.read_csv(r\"C:\\Users\\mikra\\OneDrive\\Documents\\Work\\conversion\\SIT3\\november_AX2\\fixed_assets\\Asset Download All Entities 113021.csv\",)"
   ]
  },
  {
   "cell_type": "code",
   "execution_count": 147,
   "metadata": {},
   "outputs": [
    {
     "name": "stdout",
     "output_type": "stream",
     "text": [
      "<class 'pandas.core.frame.DataFrame'>\n",
      "RangeIndex: 135421 entries, 0 to 135420\n",
      "Data columns (total 16 columns):\n",
      " #   Column                        Non-Null Count   Dtype  \n",
      "---  ------                        --------------   -----  \n",
      " 0   FinanceEnterpriseGroup        135421 non-null  int64  \n",
      " 1   Asset                         135421 non-null  int64  \n",
      " 2   Reference1                    135421 non-null  object \n",
      " 3   Description                   135421 non-null  object \n",
      " 4   Company                       135421 non-null  int64  \n",
      " 5   ItemTotalBaseCost             135421 non-null  float64\n",
      " 6   ItemTotalTransactionCost      135421 non-null  float64\n",
      " 7   TotalItemsBaseCost            135421 non-null  float64\n",
      " 8   PostingBookBasis              135421 non-null  float64\n",
      " 9   PostingBookBookValue          135421 non-null  float64\n",
      " 10  TotalAccumulatedDepreciation  135421 non-null  float64\n",
      " 11  DepreciationToAssetCost       135421 non-null  float64\n",
      " 12  AssetBookValue                135421 non-null  float64\n",
      " 13  PostingBookValue              135421 non-null  float64\n",
      " 14  RemainingDepreciation         135421 non-null  float64\n",
      " 15  LTDDepreciationExpense        135421 non-null  int64  \n",
      "dtypes: float64(10), int64(4), object(2)\n",
      "memory usage: 16.5+ MB\n"
     ]
    }
   ],
   "source": [
    "asset_download_all_entities.info()"
   ]
  },
  {
   "cell_type": "code",
   "execution_count": 148,
   "metadata": {},
   "outputs": [
    {
     "data": {
      "text/html": [
       "<div>\n",
       "<style scoped>\n",
       "    .dataframe tbody tr th:only-of-type {\n",
       "        vertical-align: middle;\n",
       "    }\n",
       "\n",
       "    .dataframe tbody tr th {\n",
       "        vertical-align: top;\n",
       "    }\n",
       "\n",
       "    .dataframe thead th {\n",
       "        text-align: right;\n",
       "    }\n",
       "</style>\n",
       "<table border=\"1\" class=\"dataframe\">\n",
       "  <thead>\n",
       "    <tr style=\"text-align: right;\">\n",
       "      <th></th>\n",
       "      <th>FinanceEnterpriseGroup</th>\n",
       "      <th>Asset</th>\n",
       "      <th>Reference1</th>\n",
       "      <th>Description</th>\n",
       "      <th>Company</th>\n",
       "      <th>ItemTotalBaseCost</th>\n",
       "      <th>ItemTotalTransactionCost</th>\n",
       "      <th>TotalItemsBaseCost</th>\n",
       "      <th>PostingBookBasis</th>\n",
       "      <th>PostingBookBookValue</th>\n",
       "      <th>TotalAccumulatedDepreciation</th>\n",
       "      <th>DepreciationToAssetCost</th>\n",
       "      <th>AssetBookValue</th>\n",
       "      <th>PostingBookValue</th>\n",
       "      <th>RemainingDepreciation</th>\n",
       "      <th>LTDDepreciationExpense</th>\n",
       "    </tr>\n",
       "  </thead>\n",
       "  <tbody>\n",
       "  </tbody>\n",
       "</table>\n",
       "</div>"
      ],
      "text/plain": [
       "Empty DataFrame\n",
       "Columns: [FinanceEnterpriseGroup, Asset, Reference1, Description, Company, ItemTotalBaseCost, ItemTotalTransactionCost, TotalItemsBaseCost, PostingBookBasis, PostingBookBookValue, TotalAccumulatedDepreciation, DepreciationToAssetCost, AssetBookValue, PostingBookValue, RemainingDepreciation, LTDDepreciationExpense]\n",
       "Index: []"
      ]
     },
     "execution_count": 148,
     "metadata": {},
     "output_type": "execute_result"
    }
   ],
   "source": [
    "# look for NaN values in the company column\n",
    "asset_download_all_entities[asset_download_all_entities['Company'].isna()]\n"
   ]
  },
  {
   "cell_type": "code",
   "execution_count": 149,
   "metadata": {},
   "outputs": [],
   "source": [
    "# replace 'NaN' in company column for a record\n",
    "# asset_download_all_entities.loc[126381, 'Company'] = ''"
   ]
  },
  {
   "cell_type": "code",
   "execution_count": 150,
   "metadata": {},
   "outputs": [],
   "source": [
    "# cast the company column as a string and strip out the excess digits\n",
    "asset_download_all_entities['Company'] = asset_download_all_entities['Company'].astype('str').apply(lambda x: x[:4])"
   ]
  },
  {
   "cell_type": "code",
   "execution_count": 151,
   "metadata": {},
   "outputs": [],
   "source": [
    "# group the FSM asset register by company\n",
    "fsm_asset_register_groupby_company = asset_download_all_entities.groupby('Company')\n"
   ]
  },
  {
   "cell_type": "code",
   "execution_count": 152,
   "metadata": {
    "scrolled": true
   },
   "outputs": [
    {
     "data": {
      "text/plain": [
       "dict_keys(['2000', '2010', '2020', '2030', '2040', '2050', '2060', '2100', '2200', '2300', '2400', '2600', '3000', '3010', '3020', '3060', '3080', '3090'])"
      ]
     },
     "execution_count": 152,
     "metadata": {},
     "output_type": "execute_result"
    }
   ],
   "source": [
    "# look at the asset register company groups keys\n",
    "fsm_asset_register_groupby_company.groups.keys()"
   ]
  },
  {
   "cell_type": "markdown",
   "metadata": {},
   "source": [
    "### Find 3080 records that are missing from the FSM asset register"
   ]
  },
  {
   "cell_type": "code",
   "execution_count": 153,
   "metadata": {},
   "outputs": [],
   "source": [
    "assets_group_3080 = fsm_asset_register_groupby_company.get_group('3080')"
   ]
  },
  {
   "cell_type": "code",
   "execution_count": 154,
   "metadata": {},
   "outputs": [
    {
     "data": {
      "text/plain": [
       "Index(['FinanceEnterpriseGroup', 'Asset', 'Reference1', 'Description',\n",
       "       'Company', 'ItemTotalBaseCost', 'ItemTotalTransactionCost',\n",
       "       'TotalItemsBaseCost', 'PostingBookBasis', 'PostingBookBookValue',\n",
       "       'TotalAccumulatedDepreciation', 'DepreciationToAssetCost',\n",
       "       'AssetBookValue', 'PostingBookValue', 'RemainingDepreciation',\n",
       "       'LTDDepreciationExpense'],\n",
       "      dtype='object')"
      ]
     },
     "execution_count": 154,
     "metadata": {},
     "output_type": "execute_result"
    }
   ],
   "source": [
    "assets_group_3080.columns"
   ]
  },
  {
   "cell_type": "code",
   "execution_count": 155,
   "metadata": {},
   "outputs": [
    {
     "data": {
      "text/plain": [
       "Index(['AssetImport_x', 'Description', 'AssetCategory', 'Company',\n",
       "       'AssetLocation', 'Asset ID', 'Location Desc', 'Account Desc.',\n",
       "       'Quantity', 'Acquisition Date', ' Acquired Value* ', 'Equip',\n",
       "       'Method_1', 'In Svc Date*', 'Est Life*', ' Current YTD* ',\n",
       "       ' Current Accum* ', ' NBV* ', 'Depr Method*', 'Method_2',\n",
       "       'In Svc Date*.1', 'Est Life*.1', ' Current YTD* .1',\n",
       "       ' Current Accum* .1', ' NBV* .1', 'Depr Method*.1', 'life_years',\n",
       "       'life_years_2', 'Book', 'RunGroup', 'Life', 'LifeRemaining', 'Basis',\n",
       "       'Method', 'InServiceDate', 'YearPlacedInService', 'Convention',\n",
       "       'LifeToDateDepreciation'],\n",
       "      dtype='object')"
      ]
     },
     "execution_count": 155,
     "metadata": {},
     "output_type": "execute_result"
    }
   ],
   "source": [
    "cbiz_asset_and_book_3080_merge.columns"
   ]
  },
  {
   "cell_type": "code",
   "execution_count": 156,
   "metadata": {},
   "outputs": [
    {
     "name": "stdout",
     "output_type": "stream",
     "text": [
      "<class 'pandas.core.frame.DataFrame'>\n",
      "Int64Index: 145 entries, 28120 to 28264\n",
      "Data columns (total 16 columns):\n",
      " #   Column                        Non-Null Count  Dtype  \n",
      "---  ------                        --------------  -----  \n",
      " 0   FinanceEnterpriseGroup        145 non-null    int64  \n",
      " 1   Asset                         145 non-null    int64  \n",
      " 2   Reference1                    145 non-null    object \n",
      " 3   Description                   145 non-null    object \n",
      " 4   Company                       145 non-null    object \n",
      " 5   ItemTotalBaseCost             145 non-null    float64\n",
      " 6   ItemTotalTransactionCost      145 non-null    float64\n",
      " 7   TotalItemsBaseCost            145 non-null    float64\n",
      " 8   PostingBookBasis              145 non-null    float64\n",
      " 9   PostingBookBookValue          145 non-null    float64\n",
      " 10  TotalAccumulatedDepreciation  145 non-null    float64\n",
      " 11  DepreciationToAssetCost       145 non-null    float64\n",
      " 12  AssetBookValue                145 non-null    float64\n",
      " 13  PostingBookValue              145 non-null    float64\n",
      " 14  RemainingDepreciation         145 non-null    float64\n",
      " 15  LTDDepreciationExpense        145 non-null    int64  \n",
      "dtypes: float64(10), int64(3), object(3)\n",
      "memory usage: 19.3+ KB\n"
     ]
    }
   ],
   "source": [
    "assets_group_3080.info()"
   ]
  },
  {
   "cell_type": "code",
   "execution_count": 157,
   "metadata": {},
   "outputs": [
    {
     "data": {
      "text/html": [
       "<div>\n",
       "<style scoped>\n",
       "    .dataframe tbody tr th:only-of-type {\n",
       "        vertical-align: middle;\n",
       "    }\n",
       "\n",
       "    .dataframe tbody tr th {\n",
       "        vertical-align: top;\n",
       "    }\n",
       "\n",
       "    .dataframe thead th {\n",
       "        text-align: right;\n",
       "    }\n",
       "</style>\n",
       "<table border=\"1\" class=\"dataframe\">\n",
       "  <thead>\n",
       "    <tr style=\"text-align: right;\">\n",
       "      <th></th>\n",
       "      <th>FinanceEnterpriseGroup</th>\n",
       "      <th>Asset</th>\n",
       "      <th>Reference1</th>\n",
       "      <th>Description</th>\n",
       "      <th>Company</th>\n",
       "      <th>ItemTotalBaseCost</th>\n",
       "      <th>ItemTotalTransactionCost</th>\n",
       "      <th>TotalItemsBaseCost</th>\n",
       "      <th>PostingBookBasis</th>\n",
       "      <th>PostingBookBookValue</th>\n",
       "      <th>TotalAccumulatedDepreciation</th>\n",
       "      <th>DepreciationToAssetCost</th>\n",
       "      <th>AssetBookValue</th>\n",
       "      <th>PostingBookValue</th>\n",
       "      <th>RemainingDepreciation</th>\n",
       "      <th>LTDDepreciationExpense</th>\n",
       "    </tr>\n",
       "  </thead>\n",
       "  <tbody>\n",
       "    <tr>\n",
       "      <th>28120</th>\n",
       "      <td>1</td>\n",
       "      <td>28122</td>\n",
       "      <td>MMC_38285</td>\n",
       "      <td>1635 POPLAR ACQUISITION</td>\n",
       "      <td>3080</td>\n",
       "      <td>$565,718.00</td>\n",
       "      <td>$565,718.00</td>\n",
       "      <td>$565,718.00</td>\n",
       "      <td>$565,718.00</td>\n",
       "      <td>$565,718.00</td>\n",
       "      <td>$0.00</td>\n",
       "      <td>$0.00</td>\n",
       "      <td>$565,718.00</td>\n",
       "      <td>$565,718.00</td>\n",
       "      <td>$0.00</td>\n",
       "      <td>0</td>\n",
       "    </tr>\n",
       "    <tr>\n",
       "      <th>28121</th>\n",
       "      <td>1</td>\n",
       "      <td>28123</td>\n",
       "      <td>MMC_38286</td>\n",
       "      <td>1516 JARRETT AVE ACQUISITION</td>\n",
       "      <td>3080</td>\n",
       "      <td>$250,480.00</td>\n",
       "      <td>$250,480.00</td>\n",
       "      <td>$250,480.00</td>\n",
       "      <td>$250,480.00</td>\n",
       "      <td>$250,480.00</td>\n",
       "      <td>$0.00</td>\n",
       "      <td>$0.00</td>\n",
       "      <td>$250,480.00</td>\n",
       "      <td>$250,480.00</td>\n",
       "      <td>$0.00</td>\n",
       "      <td>0</td>\n",
       "    </tr>\n",
       "    <tr>\n",
       "      <th>28122</th>\n",
       "      <td>1</td>\n",
       "      <td>28124</td>\n",
       "      <td>MMC_38287</td>\n",
       "      <td>1621-25 EASTCHESTER RD ACQUISITION</td>\n",
       "      <td>3080</td>\n",
       "      <td>$577,647.00</td>\n",
       "      <td>$577,647.00</td>\n",
       "      <td>$577,647.00</td>\n",
       "      <td>$577,647.00</td>\n",
       "      <td>$577,647.00</td>\n",
       "      <td>$0.00</td>\n",
       "      <td>$0.00</td>\n",
       "      <td>$577,647.00</td>\n",
       "      <td>$577,647.00</td>\n",
       "      <td>$0.00</td>\n",
       "      <td>0</td>\n",
       "    </tr>\n",
       "    <tr>\n",
       "      <th>28123</th>\n",
       "      <td>1</td>\n",
       "      <td>28125</td>\n",
       "      <td>MMC_38288</td>\n",
       "      <td>1627 EASTCHESTER RD ACQUISITION</td>\n",
       "      <td>3080</td>\n",
       "      <td>$344,140.00</td>\n",
       "      <td>$344,140.00</td>\n",
       "      <td>$344,140.00</td>\n",
       "      <td>$344,140.00</td>\n",
       "      <td>$344,140.00</td>\n",
       "      <td>$0.00</td>\n",
       "      <td>$0.00</td>\n",
       "      <td>$344,140.00</td>\n",
       "      <td>$344,140.00</td>\n",
       "      <td>$0.00</td>\n",
       "      <td>0</td>\n",
       "    </tr>\n",
       "    <tr>\n",
       "      <th>28124</th>\n",
       "      <td>1</td>\n",
       "      <td>28126</td>\n",
       "      <td>MMC_38289</td>\n",
       "      <td>1627 EASTCHESTER RD ACQUISITION</td>\n",
       "      <td>3080</td>\n",
       "      <td>$160,513.00</td>\n",
       "      <td>$160,513.00</td>\n",
       "      <td>$160,513.00</td>\n",
       "      <td>$160,513.00</td>\n",
       "      <td>$160,513.00</td>\n",
       "      <td>$0.00</td>\n",
       "      <td>$0.00</td>\n",
       "      <td>$160,513.00</td>\n",
       "      <td>$160,513.00</td>\n",
       "      <td>$0.00</td>\n",
       "      <td>0</td>\n",
       "    </tr>\n",
       "  </tbody>\n",
       "</table>\n",
       "</div>"
      ],
      "text/plain": [
       "       FinanceEnterpriseGroup  Asset Reference1                         Description Company  ItemTotalBaseCost  ItemTotalTransactionCost  TotalItemsBaseCost  PostingBookBasis  PostingBookBookValue  TotalAccumulatedDepreciation  DepreciationToAssetCost  AssetBookValue  PostingBookValue  RemainingDepreciation  LTDDepreciationExpense\n",
       "28120                       1  28122  MMC_38285             1635 POPLAR ACQUISITION    3080        $565,718.00               $565,718.00         $565,718.00       $565,718.00           $565,718.00                         $0.00                    $0.00     $565,718.00       $565,718.00                  $0.00                       0\n",
       "28121                       1  28123  MMC_38286        1516 JARRETT AVE ACQUISITION    3080        $250,480.00               $250,480.00         $250,480.00       $250,480.00           $250,480.00                         $0.00                    $0.00     $250,480.00       $250,480.00                  $0.00                       0\n",
       "28122                       1  28124  MMC_38287  1621-25 EASTCHESTER RD ACQUISITION    3080        $577,647.00               $577,647.00         $577,647.00       $577,647.00           $577,647.00                         $0.00                    $0.00     $577,647.00       $577,647.00                  $0.00                       0\n",
       "28123                       1  28125  MMC_38288     1627 EASTCHESTER RD ACQUISITION    3080        $344,140.00               $344,140.00         $344,140.00       $344,140.00           $344,140.00                         $0.00                    $0.00     $344,140.00       $344,140.00                  $0.00                       0\n",
       "28124                       1  28126  MMC_38289     1627 EASTCHESTER RD ACQUISITION    3080        $160,513.00               $160,513.00         $160,513.00       $160,513.00           $160,513.00                         $0.00                    $0.00     $160,513.00       $160,513.00                  $0.00                       0"
      ]
     },
     "execution_count": 157,
     "metadata": {},
     "output_type": "execute_result"
    }
   ],
   "source": [
    "assets_group_3080.head()"
   ]
  },
  {
   "cell_type": "code",
   "execution_count": 158,
   "metadata": {},
   "outputs": [
    {
     "data": {
      "text/html": [
       "<div>\n",
       "<style scoped>\n",
       "    .dataframe tbody tr th:only-of-type {\n",
       "        vertical-align: middle;\n",
       "    }\n",
       "\n",
       "    .dataframe tbody tr th {\n",
       "        vertical-align: top;\n",
       "    }\n",
       "\n",
       "    .dataframe thead th {\n",
       "        text-align: right;\n",
       "    }\n",
       "</style>\n",
       "<table border=\"1\" class=\"dataframe\">\n",
       "  <thead>\n",
       "    <tr style=\"text-align: right;\">\n",
       "      <th></th>\n",
       "      <th>AssetImport_x</th>\n",
       "      <th>Description</th>\n",
       "      <th>AssetCategory</th>\n",
       "      <th>Company</th>\n",
       "      <th>AssetLocation</th>\n",
       "      <th>Asset ID</th>\n",
       "      <th>Location Desc</th>\n",
       "      <th>Account Desc.</th>\n",
       "      <th>Quantity</th>\n",
       "      <th>Acquisition Date</th>\n",
       "      <th>Acquired Value*</th>\n",
       "      <th>Equip</th>\n",
       "      <th>Method_1</th>\n",
       "      <th>In Svc Date*</th>\n",
       "      <th>Est Life*</th>\n",
       "      <th>Current YTD*</th>\n",
       "      <th>Current Accum*</th>\n",
       "      <th>NBV*</th>\n",
       "      <th>Depr Method*</th>\n",
       "      <th>Method_2</th>\n",
       "      <th>In Svc Date*.1</th>\n",
       "      <th>Est Life*.1</th>\n",
       "      <th>Current YTD* .1</th>\n",
       "      <th>Current Accum* .1</th>\n",
       "      <th>NBV* .1</th>\n",
       "      <th>Depr Method*.1</th>\n",
       "      <th>life_years</th>\n",
       "      <th>life_years_2</th>\n",
       "      <th>Book</th>\n",
       "      <th>RunGroup</th>\n",
       "      <th>Life</th>\n",
       "      <th>LifeRemaining</th>\n",
       "      <th>Basis</th>\n",
       "      <th>Method</th>\n",
       "      <th>InServiceDate</th>\n",
       "      <th>YearPlacedInService</th>\n",
       "      <th>Convention</th>\n",
       "      <th>LifeToDateDepreciation</th>\n",
       "    </tr>\n",
       "    <tr>\n",
       "      <th>cbiz_index</th>\n",
       "      <th></th>\n",
       "      <th></th>\n",
       "      <th></th>\n",
       "      <th></th>\n",
       "      <th></th>\n",
       "      <th></th>\n",
       "      <th></th>\n",
       "      <th></th>\n",
       "      <th></th>\n",
       "      <th></th>\n",
       "      <th></th>\n",
       "      <th></th>\n",
       "      <th></th>\n",
       "      <th></th>\n",
       "      <th></th>\n",
       "      <th></th>\n",
       "      <th></th>\n",
       "      <th></th>\n",
       "      <th></th>\n",
       "      <th></th>\n",
       "      <th></th>\n",
       "      <th></th>\n",
       "      <th></th>\n",
       "      <th></th>\n",
       "      <th></th>\n",
       "      <th></th>\n",
       "      <th></th>\n",
       "      <th></th>\n",
       "      <th></th>\n",
       "      <th></th>\n",
       "      <th></th>\n",
       "      <th></th>\n",
       "      <th></th>\n",
       "      <th></th>\n",
       "      <th></th>\n",
       "      <th></th>\n",
       "      <th></th>\n",
       "      <th></th>\n",
       "    </tr>\n",
       "  </thead>\n",
       "  <tbody>\n",
       "    <tr>\n",
       "      <th>48386</th>\n",
       "      <td>MMC_48386</td>\n",
       "      <td>2000304  MOSES GUNHILL MRI 2013</td>\n",
       "      <td>D</td>\n",
       "      <td>3080</td>\n",
       "      <td>NaN</td>\n",
       "      <td>48386</td>\n",
       "      <td>3-MMC CORP</td>\n",
       "      <td>512-MME-CENTERWIDE</td>\n",
       "      <td>1</td>\n",
       "      <td>2018-07-01</td>\n",
       "      <td>$5,012.00</td>\n",
       "      <td>NaN</td>\n",
       "      <td>$0.00</td>\n",
       "      <td>2018-07-01</td>\n",
       "      <td>05 yrs 00 mos</td>\n",
       "      <td>$1,002.00</td>\n",
       "      <td>$2,506.00</td>\n",
       "      <td>$2,506.00</td>\n",
       "      <td>SH</td>\n",
       "      <td>$0.00</td>\n",
       "      <td>2018-07-01</td>\n",
       "      <td>05yrs00mos</td>\n",
       "      <td>$962.00</td>\n",
       "      <td>$3,568.00</td>\n",
       "      <td>$1,444.00</td>\n",
       "      <td>DH200</td>\n",
       "      <td>5</td>\n",
       "      <td>5</td>\n",
       "      <td>GL</td>\n",
       "      <td>MMC_ASSET</td>\n",
       "      <td>60</td>\n",
       "      <td>$30.00</td>\n",
       "      <td>$5,012.00</td>\n",
       "      <td>SL</td>\n",
       "      <td>20180701</td>\n",
       "      <td>NaN</td>\n",
       "      <td>HY</td>\n",
       "      <td>$2,505.80</td>\n",
       "    </tr>\n",
       "    <tr>\n",
       "      <th>48383</th>\n",
       "      <td>MMC_48383</td>\n",
       "      <td>2000304  MOSES GUNHILL MRI 2013</td>\n",
       "      <td>D</td>\n",
       "      <td>3080</td>\n",
       "      <td>050B</td>\n",
       "      <td>48383</td>\n",
       "      <td>3-MMC CORP</td>\n",
       "      <td>215-BUILDINGS-NEW CAPITAL</td>\n",
       "      <td>1</td>\n",
       "      <td>2018-07-01</td>\n",
       "      <td>$36,810.00</td>\n",
       "      <td>NaN</td>\n",
       "      <td>$0.00</td>\n",
       "      <td>2018-07-01</td>\n",
       "      <td>15 yrs 00 mos</td>\n",
       "      <td>$2,454.00</td>\n",
       "      <td>$6,135.00</td>\n",
       "      <td>$30,675.00</td>\n",
       "      <td>SH</td>\n",
       "      <td>$0.00</td>\n",
       "      <td>2018-07-01</td>\n",
       "      <td>15yrs00mos</td>\n",
       "      <td>$3,970.00</td>\n",
       "      <td>$11,005.00</td>\n",
       "      <td>$25,805.00</td>\n",
       "      <td>DH200</td>\n",
       "      <td>15</td>\n",
       "      <td>15</td>\n",
       "      <td>GL</td>\n",
       "      <td>MMC_ASSET</td>\n",
       "      <td>180</td>\n",
       "      <td>$150.00</td>\n",
       "      <td>$36,810.00</td>\n",
       "      <td>SL</td>\n",
       "      <td>20180701</td>\n",
       "      <td>NaN</td>\n",
       "      <td>HY</td>\n",
       "      <td>$6,135.00</td>\n",
       "    </tr>\n",
       "    <tr>\n",
       "      <th>48384</th>\n",
       "      <td>MMC_48384</td>\n",
       "      <td>2000304  MOSES GUNHILL MRI 2013</td>\n",
       "      <td>D</td>\n",
       "      <td>3080</td>\n",
       "      <td>050B</td>\n",
       "      <td>48384</td>\n",
       "      <td>3-MMC CORP</td>\n",
       "      <td>223-NEW CAPITAL</td>\n",
       "      <td>1</td>\n",
       "      <td>2018-07-01</td>\n",
       "      <td>$2,440.00</td>\n",
       "      <td>NaN</td>\n",
       "      <td>$0.00</td>\n",
       "      <td>2018-07-01</td>\n",
       "      <td>15 yrs 00 mos</td>\n",
       "      <td>$163.00</td>\n",
       "      <td>$406.00</td>\n",
       "      <td>$2,034.00</td>\n",
       "      <td>SH</td>\n",
       "      <td>$0.00</td>\n",
       "      <td>2018-07-01</td>\n",
       "      <td>15yrs00mos</td>\n",
       "      <td>$263.00</td>\n",
       "      <td>$730.00</td>\n",
       "      <td>$1,710.00</td>\n",
       "      <td>DH200</td>\n",
       "      <td>15</td>\n",
       "      <td>15</td>\n",
       "      <td>GL</td>\n",
       "      <td>MMC_ASSET</td>\n",
       "      <td>180</td>\n",
       "      <td>$150.00</td>\n",
       "      <td>$2,440.00</td>\n",
       "      <td>SL</td>\n",
       "      <td>20180701</td>\n",
       "      <td>NaN</td>\n",
       "      <td>HY</td>\n",
       "      <td>$406.34</td>\n",
       "    </tr>\n",
       "    <tr>\n",
       "      <th>48385</th>\n",
       "      <td>MMC_48385</td>\n",
       "      <td>2000304  MOSES GUNHILL MRI 2013</td>\n",
       "      <td>D</td>\n",
       "      <td>3080</td>\n",
       "      <td>050B</td>\n",
       "      <td>48385</td>\n",
       "      <td>3-MMC CORP</td>\n",
       "      <td>223-NEW CAPITAL</td>\n",
       "      <td>1</td>\n",
       "      <td>2018-07-01</td>\n",
       "      <td>$5,525.00</td>\n",
       "      <td>NaN</td>\n",
       "      <td>$0.00</td>\n",
       "      <td>2018-07-01</td>\n",
       "      <td>15 yrs 00 mos</td>\n",
       "      <td>$368.00</td>\n",
       "      <td>$921.00</td>\n",
       "      <td>$4,604.00</td>\n",
       "      <td>SH</td>\n",
       "      <td>$0.00</td>\n",
       "      <td>2018-07-01</td>\n",
       "      <td>15yrs00mos</td>\n",
       "      <td>$596.00</td>\n",
       "      <td>$1,652.00</td>\n",
       "      <td>$3,873.00</td>\n",
       "      <td>DH200</td>\n",
       "      <td>15</td>\n",
       "      <td>15</td>\n",
       "      <td>GL</td>\n",
       "      <td>MMC_ASSET</td>\n",
       "      <td>180</td>\n",
       "      <td>$150.00</td>\n",
       "      <td>$5,525.00</td>\n",
       "      <td>SL</td>\n",
       "      <td>20180701</td>\n",
       "      <td>NaN</td>\n",
       "      <td>HY</td>\n",
       "      <td>$920.66</td>\n",
       "    </tr>\n",
       "    <tr>\n",
       "      <th>48067</th>\n",
       "      <td>MMC_48067</td>\n",
       "      <td>CART FREIGHT</td>\n",
       "      <td>D</td>\n",
       "      <td>3080</td>\n",
       "      <td>NaN</td>\n",
       "      <td>48067</td>\n",
       "      <td>3-MMC CORP</td>\n",
       "      <td>512-MME-CENTERWIDE</td>\n",
       "      <td>1</td>\n",
       "      <td>2017-07-01</td>\n",
       "      <td>$35,878.00</td>\n",
       "      <td>NaN</td>\n",
       "      <td>$0.00</td>\n",
       "      <td>2017-07-01</td>\n",
       "      <td>10 yrs 00 mos</td>\n",
       "      <td>$3,588.00</td>\n",
       "      <td>$12,558.00</td>\n",
       "      <td>$23,320.00</td>\n",
       "      <td>SH</td>\n",
       "      <td>$0.00</td>\n",
       "      <td>2017-07-01</td>\n",
       "      <td>10yrs00mos</td>\n",
       "      <td>$4,133.00</td>\n",
       "      <td>$19,346.00</td>\n",
       "      <td>$16,532.00</td>\n",
       "      <td>DH200</td>\n",
       "      <td>10</td>\n",
       "      <td>10</td>\n",
       "      <td>GL</td>\n",
       "      <td>MMC_ASSET</td>\n",
       "      <td>120</td>\n",
       "      <td>$78.00</td>\n",
       "      <td>$35,878.00</td>\n",
       "      <td>SL</td>\n",
       "      <td>20170701</td>\n",
       "      <td>NaN</td>\n",
       "      <td>HY</td>\n",
       "      <td>$12,557.60</td>\n",
       "    </tr>\n",
       "  </tbody>\n",
       "</table>\n",
       "</div>"
      ],
      "text/plain": [
       "           AssetImport_x                      Description AssetCategory  Company AssetLocation Asset ID Location Desc              Account Desc.  Quantity Acquisition Date   Acquired Value*  Equip Method_1 In Svc Date*      Est Life*   Current YTD*    Current Accum*       NBV*  Depr Method* Method_2 In Svc Date*.1 Est Life*.1   Current YTD* .1   Current Accum* .1    NBV* .1 Depr Method*.1  life_years  life_years_2 Book   RunGroup  Life  LifeRemaining      Basis Method  InServiceDate  YearPlacedInService Convention  LifeToDateDepreciation\n",
       "cbiz_index                                                                                                                                                                                                                                                                                                                                                                                                                                                                                                                                                     \n",
       "48386          MMC_48386  2000304  MOSES GUNHILL MRI 2013             D     3080           NaN    48386    3-MMC CORP         512-MME-CENTERWIDE         1       2018-07-01          $5,012.00   NaN    $0.00   2018-07-01  05 yrs 00 mos       $1,002.00         $2,506.00  $2,506.00           SH    $0.00     2018-07-01  05yrs00mos           $962.00           $3,568.00  $1,444.00          DH200           5             5   GL  MMC_ASSET    60         $30.00  $5,012.00     SL       20180701                  NaN         HY               $2,505.80\n",
       "48383          MMC_48383  2000304  MOSES GUNHILL MRI 2013             D     3080          050B    48383    3-MMC CORP  215-BUILDINGS-NEW CAPITAL         1       2018-07-01         $36,810.00   NaN    $0.00   2018-07-01  15 yrs 00 mos       $2,454.00         $6,135.00 $30,675.00           SH    $0.00     2018-07-01  15yrs00mos         $3,970.00          $11,005.00 $25,805.00          DH200          15            15   GL  MMC_ASSET   180        $150.00 $36,810.00     SL       20180701                  NaN         HY               $6,135.00\n",
       "48384          MMC_48384  2000304  MOSES GUNHILL MRI 2013             D     3080          050B    48384    3-MMC CORP            223-NEW CAPITAL         1       2018-07-01          $2,440.00   NaN    $0.00   2018-07-01  15 yrs 00 mos         $163.00           $406.00  $2,034.00           SH    $0.00     2018-07-01  15yrs00mos           $263.00             $730.00  $1,710.00          DH200          15            15   GL  MMC_ASSET   180        $150.00  $2,440.00     SL       20180701                  NaN         HY                 $406.34\n",
       "48385          MMC_48385  2000304  MOSES GUNHILL MRI 2013             D     3080          050B    48385    3-MMC CORP            223-NEW CAPITAL         1       2018-07-01          $5,525.00   NaN    $0.00   2018-07-01  15 yrs 00 mos         $368.00           $921.00  $4,604.00           SH    $0.00     2018-07-01  15yrs00mos           $596.00           $1,652.00  $3,873.00          DH200          15            15   GL  MMC_ASSET   180        $150.00  $5,525.00     SL       20180701                  NaN         HY                 $920.66\n",
       "48067          MMC_48067                     CART FREIGHT             D     3080           NaN    48067    3-MMC CORP         512-MME-CENTERWIDE         1       2017-07-01         $35,878.00   NaN    $0.00   2017-07-01  10 yrs 00 mos       $3,588.00        $12,558.00 $23,320.00           SH    $0.00     2017-07-01  10yrs00mos         $4,133.00          $19,346.00 $16,532.00          DH200          10            10   GL  MMC_ASSET   120         $78.00 $35,878.00     SL       20170701                  NaN         HY              $12,557.60"
      ]
     },
     "execution_count": 158,
     "metadata": {},
     "output_type": "execute_result"
    }
   ],
   "source": [
    "cbiz_asset_and_book_3080_merge.head()"
   ]
  },
  {
   "cell_type": "code",
   "execution_count": 159,
   "metadata": {},
   "outputs": [],
   "source": [
    "# cbiz_asset_and_book_3080_merge['AssetImport_x'] = cbiz_asset_and_book_3080_merge['AssetImport_x'].apply(lambda x: x.strip())\n",
    "# assets_group_3080['Reference1'] = assets_group_3080['Reference1'].apply(lambda x: x.strip())"
   ]
  },
  {
   "cell_type": "code",
   "execution_count": 160,
   "metadata": {},
   "outputs": [],
   "source": [
    "# assets_group_3080.head()"
   ]
  },
  {
   "cell_type": "code",
   "execution_count": 161,
   "metadata": {},
   "outputs": [
    {
     "data": {
      "text/plain": [
       "ItemTotalBaseCost              $118,727,390.78\n",
       "ItemTotalTransactionCost       $118,727,390.78\n",
       "TotalItemsBaseCost             $118,727,390.78\n",
       "PostingBookBasis               $118,736,252.21\n",
       "PostingBookBookValue            $83,898,101.12\n",
       "TotalAccumulatedDepreciation    $34,838,151.09\n",
       "dtype: float64"
      ]
     },
     "execution_count": 161,
     "metadata": {},
     "output_type": "execute_result"
    }
   ],
   "source": [
    "assets_group_3080[['ItemTotalBaseCost', 'ItemTotalTransactionCost', 'TotalItemsBaseCost',\n",
    "                   'PostingBookBasis','PostingBookBookValue', 'TotalAccumulatedDepreciation', ]].sum()"
   ]
  },
  {
   "cell_type": "code",
   "execution_count": 162,
   "metadata": {},
   "outputs": [],
   "source": [
    "# asset_download_3080['Reference1'] = asset_download_3080['Reference1'].apply(lambda x: x.strip())"
   ]
  },
  {
   "cell_type": "code",
   "execution_count": 163,
   "metadata": {},
   "outputs": [],
   "source": [
    "# asset_download_3080['ItemTotalBaseCost'] = asset_download_3080['ItemTotalBaseCost'].apply(lambda x: float(x))"
   ]
  },
  {
   "cell_type": "code",
   "execution_count": 164,
   "metadata": {},
   "outputs": [],
   "source": [
    "# asset_download_3080.head()"
   ]
  },
  {
   "cell_type": "code",
   "execution_count": 165,
   "metadata": {},
   "outputs": [],
   "source": [
    "# asset_download_3080.info()"
   ]
  },
  {
   "cell_type": "code",
   "execution_count": 166,
   "metadata": {},
   "outputs": [
    {
     "name": "stderr",
     "output_type": "stream",
     "text": [
      "<ipython-input-166-bd43fc3cbe47>:2: SettingWithCopyWarning: \n",
      "A value is trying to be set on a copy of a slice from a DataFrame.\n",
      "Try using .loc[row_indexer,col_indexer] = value instead\n",
      "\n",
      "See the caveats in the documentation: https://pandas.pydata.org/pandas-docs/stable/user_guide/indexing.html#returning-a-view-versus-a-copy\n",
      "  assets_group_3080['merge_index'] = assets_group_3080['Reference1'].apply(lambda x: int(x.split('_')[1]))\n"
     ]
    }
   ],
   "source": [
    "# add ther merge index column to the company asset group\n",
    "assets_group_3080['merge_index'] = assets_group_3080['Reference1'].apply(lambda x: int(x.split('_')[1]))"
   ]
  },
  {
   "cell_type": "code",
   "execution_count": null,
   "metadata": {},
   "outputs": [],
   "source": []
  },
  {
   "cell_type": "code",
   "execution_count": 167,
   "metadata": {},
   "outputs": [],
   "source": [
    "assets_group_3080 = assets_group_3080.set_index('merge_index')"
   ]
  },
  {
   "cell_type": "code",
   "execution_count": 168,
   "metadata": {},
   "outputs": [],
   "source": [
    "assets_group_3080['cbiz_index'] = assets_group_3080['Reference1'].apply(lambda x: int(x.split('_')[1]))"
   ]
  },
  {
   "cell_type": "code",
   "execution_count": 169,
   "metadata": {},
   "outputs": [],
   "source": [
    "cbiz_asset_and_book_3080_merge = cbiz_asset_and_book_3080_merge.sort_index()"
   ]
  },
  {
   "cell_type": "code",
   "execution_count": 170,
   "metadata": {},
   "outputs": [
    {
     "data": {
      "text/plain": [
       "Int64Index([38285, 38286, 38287, 38288, 38289, 38290, 38291, 38292, 38293,\n",
       "            38294,\n",
       "            ...\n",
       "            49622, 49623, 49624, 49625, 49626, 49627, 49628, 49629, 49630,\n",
       "            49631],\n",
       "           dtype='int64', name='cbiz_index', length=145)"
      ]
     },
     "execution_count": 170,
     "metadata": {},
     "output_type": "execute_result"
    }
   ],
   "source": [
    "cbiz_asset_and_book_3080_merge.index"
   ]
  },
  {
   "cell_type": "code",
   "execution_count": 171,
   "metadata": {},
   "outputs": [
    {
     "data": {
      "text/plain": [
       "Int64Index([38285, 38286, 38287, 38288, 38289, 38290, 38291, 38292, 38293,\n",
       "            38294,\n",
       "            ...\n",
       "            49622, 49623, 49624, 49625, 49626, 49627, 49628, 49629, 49630,\n",
       "            49631],\n",
       "           dtype='int64', name='merge_index', length=145)"
      ]
     },
     "execution_count": 171,
     "metadata": {},
     "output_type": "execute_result"
    }
   ],
   "source": [
    "assets_group_3080.index"
   ]
  },
  {
   "cell_type": "code",
   "execution_count": 172,
   "metadata": {},
   "outputs": [],
   "source": [
    "# assets_group_3080"
   ]
  },
  {
   "cell_type": "code",
   "execution_count": 173,
   "metadata": {
    "scrolled": true
   },
   "outputs": [],
   "source": [
    "# isin() method returns a boolean array\n",
    "# cbiz_asset_and_book_3080_merge.index.isin(assets_group_3080.index)"
   ]
  },
  {
   "cell_type": "code",
   "execution_count": 174,
   "metadata": {},
   "outputs": [],
   "source": [
    "# uset the boolean array as a filter in the df returns a df with matching index where array is True\n",
    "cbiz_infor_3080_matched = cbiz_asset_and_book_3080_merge[cbiz_asset_and_book_3080_merge.index.isin(assets_group_3080.index)]"
   ]
  },
  {
   "cell_type": "code",
   "execution_count": 175,
   "metadata": {
    "scrolled": true
   },
   "outputs": [],
   "source": [
    "# use the '~' with .isin method to get notin results in the returned df\n",
    "missing_assets_3080 = cbiz_asset_and_book_3080_merge[~cbiz_asset_and_book_3080_merge.index.isin(assets_group_3080.index)]\n",
    "# missing_assets_3080"
   ]
  },
  {
   "cell_type": "code",
   "execution_count": 176,
   "metadata": {},
   "outputs": [
    {
     "data": {
      "text/plain": [
       "0.0"
      ]
     },
     "execution_count": 176,
     "metadata": {},
     "output_type": "execute_result"
    }
   ],
   "source": [
    "missing_3080__records_acquired_value = missing_assets_3080[' Acquired Value* '].sum()\n",
    "missing_3080__records_acquired_value"
   ]
  },
  {
   "cell_type": "code",
   "execution_count": 177,
   "metadata": {},
   "outputs": [],
   "source": [
    "# assets_group_3080.info()"
   ]
  },
  {
   "cell_type": "code",
   "execution_count": 178,
   "metadata": {},
   "outputs": [],
   "source": [
    "asset_register_3080_cost = assets_group_3080['ItemTotalBaseCost'].apply(lambda x: float(x)).sum()"
   ]
  },
  {
   "cell_type": "code",
   "execution_count": 179,
   "metadata": {},
   "outputs": [
    {
     "data": {
      "text/plain": [
       "118727390.78"
      ]
     },
     "execution_count": 179,
     "metadata": {},
     "output_type": "execute_result"
    }
   ],
   "source": [
    "# comparing sum of missing records and total of records in FSM asset register indicates\n",
    "# that there is still missing cost; next step is to explore the cost column of the matched\n",
    "# records to see if there are differences in the asset register and the cbiz_load merged file\n",
    "sum_asset_register_and_missing_records_cost = asset_register_3080_cost + missing_3080__records_acquired_value\n",
    "sum_asset_register_and_missing_records_cost"
   ]
  },
  {
   "cell_type": "code",
   "execution_count": 180,
   "metadata": {},
   "outputs": [
    {
     "data": {
      "text/plain": [
       " Acquired Value*    $118,736,253.00\n",
       "Basis               $118,736,252.21\n",
       " Current Accum*      $34,838,153.00\n",
       " NBV*                $83,898,104.00\n",
       "dtype: float64"
      ]
     },
     "execution_count": 180,
     "metadata": {},
     "output_type": "execute_result"
    }
   ],
   "source": [
    "cbiz_asset_and_book_3080_merge[[' Acquired Value* ', 'Basis', ' Current Accum* ', ' NBV* ']].sum()"
   ]
  },
  {
   "cell_type": "code",
   "execution_count": 181,
   "metadata": {},
   "outputs": [],
   "source": [
    "# assets_group_3080.info()"
   ]
  },
  {
   "cell_type": "code",
   "execution_count": 182,
   "metadata": {},
   "outputs": [
    {
     "data": {
      "text/html": [
       "<div>\n",
       "<style scoped>\n",
       "    .dataframe tbody tr th:only-of-type {\n",
       "        vertical-align: middle;\n",
       "    }\n",
       "\n",
       "    .dataframe tbody tr th {\n",
       "        vertical-align: top;\n",
       "    }\n",
       "\n",
       "    .dataframe thead th {\n",
       "        text-align: right;\n",
       "    }\n",
       "</style>\n",
       "<table border=\"1\" class=\"dataframe\">\n",
       "  <thead>\n",
       "    <tr style=\"text-align: right;\">\n",
       "      <th></th>\n",
       "      <th>Asset</th>\n",
       "      <th>cbiz_index</th>\n",
       "    </tr>\n",
       "    <tr>\n",
       "      <th>merge_index</th>\n",
       "      <th></th>\n",
       "      <th></th>\n",
       "    </tr>\n",
       "  </thead>\n",
       "  <tbody>\n",
       "    <tr>\n",
       "      <th>38285</th>\n",
       "      <td>28122</td>\n",
       "      <td>38285</td>\n",
       "    </tr>\n",
       "    <tr>\n",
       "      <th>38286</th>\n",
       "      <td>28123</td>\n",
       "      <td>38286</td>\n",
       "    </tr>\n",
       "    <tr>\n",
       "      <th>38287</th>\n",
       "      <td>28124</td>\n",
       "      <td>38287</td>\n",
       "    </tr>\n",
       "    <tr>\n",
       "      <th>38288</th>\n",
       "      <td>28125</td>\n",
       "      <td>38288</td>\n",
       "    </tr>\n",
       "    <tr>\n",
       "      <th>38289</th>\n",
       "      <td>28126</td>\n",
       "      <td>38289</td>\n",
       "    </tr>\n",
       "    <tr>\n",
       "      <th>38290</th>\n",
       "      <td>28127</td>\n",
       "      <td>38290</td>\n",
       "    </tr>\n",
       "    <tr>\n",
       "      <th>38291</th>\n",
       "      <td>28128</td>\n",
       "      <td>38291</td>\n",
       "    </tr>\n",
       "    <tr>\n",
       "      <th>38292</th>\n",
       "      <td>28129</td>\n",
       "      <td>38292</td>\n",
       "    </tr>\n",
       "    <tr>\n",
       "      <th>38293</th>\n",
       "      <td>28130</td>\n",
       "      <td>38293</td>\n",
       "    </tr>\n",
       "    <tr>\n",
       "      <th>38294</th>\n",
       "      <td>28131</td>\n",
       "      <td>38294</td>\n",
       "    </tr>\n",
       "    <tr>\n",
       "      <th>38295</th>\n",
       "      <td>28132</td>\n",
       "      <td>38295</td>\n",
       "    </tr>\n",
       "    <tr>\n",
       "      <th>38296</th>\n",
       "      <td>28133</td>\n",
       "      <td>38296</td>\n",
       "    </tr>\n",
       "    <tr>\n",
       "      <th>38297</th>\n",
       "      <td>28134</td>\n",
       "      <td>38297</td>\n",
       "    </tr>\n",
       "    <tr>\n",
       "      <th>38298</th>\n",
       "      <td>28135</td>\n",
       "      <td>38298</td>\n",
       "    </tr>\n",
       "    <tr>\n",
       "      <th>39052</th>\n",
       "      <td>28136</td>\n",
       "      <td>39052</td>\n",
       "    </tr>\n",
       "    <tr>\n",
       "      <th>39053</th>\n",
       "      <td>28137</td>\n",
       "      <td>39053</td>\n",
       "    </tr>\n",
       "    <tr>\n",
       "      <th>39054</th>\n",
       "      <td>28138</td>\n",
       "      <td>39054</td>\n",
       "    </tr>\n",
       "    <tr>\n",
       "      <th>39085</th>\n",
       "      <td>28139</td>\n",
       "      <td>39085</td>\n",
       "    </tr>\n",
       "    <tr>\n",
       "      <th>39086</th>\n",
       "      <td>28140</td>\n",
       "      <td>39086</td>\n",
       "    </tr>\n",
       "    <tr>\n",
       "      <th>39087</th>\n",
       "      <td>28141</td>\n",
       "      <td>39087</td>\n",
       "    </tr>\n",
       "    <tr>\n",
       "      <th>39088</th>\n",
       "      <td>28142</td>\n",
       "      <td>39088</td>\n",
       "    </tr>\n",
       "    <tr>\n",
       "      <th>39089</th>\n",
       "      <td>28143</td>\n",
       "      <td>39089</td>\n",
       "    </tr>\n",
       "    <tr>\n",
       "      <th>39090</th>\n",
       "      <td>28144</td>\n",
       "      <td>39090</td>\n",
       "    </tr>\n",
       "    <tr>\n",
       "      <th>39091</th>\n",
       "      <td>28145</td>\n",
       "      <td>39091</td>\n",
       "    </tr>\n",
       "    <tr>\n",
       "      <th>39092</th>\n",
       "      <td>28146</td>\n",
       "      <td>39092</td>\n",
       "    </tr>\n",
       "    <tr>\n",
       "      <th>39094</th>\n",
       "      <td>28147</td>\n",
       "      <td>39094</td>\n",
       "    </tr>\n",
       "    <tr>\n",
       "      <th>39857</th>\n",
       "      <td>28148</td>\n",
       "      <td>39857</td>\n",
       "    </tr>\n",
       "    <tr>\n",
       "      <th>39858</th>\n",
       "      <td>28149</td>\n",
       "      <td>39858</td>\n",
       "    </tr>\n",
       "    <tr>\n",
       "      <th>39859</th>\n",
       "      <td>28150</td>\n",
       "      <td>39859</td>\n",
       "    </tr>\n",
       "    <tr>\n",
       "      <th>39860</th>\n",
       "      <td>28151</td>\n",
       "      <td>39860</td>\n",
       "    </tr>\n",
       "    <tr>\n",
       "      <th>39861</th>\n",
       "      <td>28152</td>\n",
       "      <td>39861</td>\n",
       "    </tr>\n",
       "    <tr>\n",
       "      <th>39862</th>\n",
       "      <td>28153</td>\n",
       "      <td>39862</td>\n",
       "    </tr>\n",
       "    <tr>\n",
       "      <th>39863</th>\n",
       "      <td>28154</td>\n",
       "      <td>39863</td>\n",
       "    </tr>\n",
       "    <tr>\n",
       "      <th>39864</th>\n",
       "      <td>28155</td>\n",
       "      <td>39864</td>\n",
       "    </tr>\n",
       "    <tr>\n",
       "      <th>41268</th>\n",
       "      <td>28156</td>\n",
       "      <td>41268</td>\n",
       "    </tr>\n",
       "    <tr>\n",
       "      <th>41333</th>\n",
       "      <td>28157</td>\n",
       "      <td>41333</td>\n",
       "    </tr>\n",
       "    <tr>\n",
       "      <th>41334</th>\n",
       "      <td>28158</td>\n",
       "      <td>41334</td>\n",
       "    </tr>\n",
       "    <tr>\n",
       "      <th>42127</th>\n",
       "      <td>28159</td>\n",
       "      <td>42127</td>\n",
       "    </tr>\n",
       "    <tr>\n",
       "      <th>42128</th>\n",
       "      <td>28160</td>\n",
       "      <td>42128</td>\n",
       "    </tr>\n",
       "    <tr>\n",
       "      <th>42134</th>\n",
       "      <td>28161</td>\n",
       "      <td>42134</td>\n",
       "    </tr>\n",
       "    <tr>\n",
       "      <th>43080</th>\n",
       "      <td>28162</td>\n",
       "      <td>43080</td>\n",
       "    </tr>\n",
       "    <tr>\n",
       "      <th>43081</th>\n",
       "      <td>28163</td>\n",
       "      <td>43081</td>\n",
       "    </tr>\n",
       "    <tr>\n",
       "      <th>43162</th>\n",
       "      <td>28164</td>\n",
       "      <td>43162</td>\n",
       "    </tr>\n",
       "    <tr>\n",
       "      <th>43163</th>\n",
       "      <td>28165</td>\n",
       "      <td>43163</td>\n",
       "    </tr>\n",
       "    <tr>\n",
       "      <th>43164</th>\n",
       "      <td>28166</td>\n",
       "      <td>43164</td>\n",
       "    </tr>\n",
       "    <tr>\n",
       "      <th>43165</th>\n",
       "      <td>28167</td>\n",
       "      <td>43165</td>\n",
       "    </tr>\n",
       "    <tr>\n",
       "      <th>43166</th>\n",
       "      <td>28168</td>\n",
       "      <td>43166</td>\n",
       "    </tr>\n",
       "    <tr>\n",
       "      <th>43167</th>\n",
       "      <td>28169</td>\n",
       "      <td>43167</td>\n",
       "    </tr>\n",
       "    <tr>\n",
       "      <th>43168</th>\n",
       "      <td>28170</td>\n",
       "      <td>43168</td>\n",
       "    </tr>\n",
       "    <tr>\n",
       "      <th>43826</th>\n",
       "      <td>28171</td>\n",
       "      <td>43826</td>\n",
       "    </tr>\n",
       "    <tr>\n",
       "      <th>43856</th>\n",
       "      <td>28172</td>\n",
       "      <td>43856</td>\n",
       "    </tr>\n",
       "    <tr>\n",
       "      <th>43857</th>\n",
       "      <td>28173</td>\n",
       "      <td>43857</td>\n",
       "    </tr>\n",
       "    <tr>\n",
       "      <th>43858</th>\n",
       "      <td>28174</td>\n",
       "      <td>43858</td>\n",
       "    </tr>\n",
       "    <tr>\n",
       "      <th>44629</th>\n",
       "      <td>28175</td>\n",
       "      <td>44629</td>\n",
       "    </tr>\n",
       "    <tr>\n",
       "      <th>44630</th>\n",
       "      <td>28176</td>\n",
       "      <td>44630</td>\n",
       "    </tr>\n",
       "    <tr>\n",
       "      <th>44631</th>\n",
       "      <td>28177</td>\n",
       "      <td>44631</td>\n",
       "    </tr>\n",
       "    <tr>\n",
       "      <th>44632</th>\n",
       "      <td>28178</td>\n",
       "      <td>44632</td>\n",
       "    </tr>\n",
       "    <tr>\n",
       "      <th>44658</th>\n",
       "      <td>28179</td>\n",
       "      <td>44658</td>\n",
       "    </tr>\n",
       "    <tr>\n",
       "      <th>44659</th>\n",
       "      <td>28180</td>\n",
       "      <td>44659</td>\n",
       "    </tr>\n",
       "    <tr>\n",
       "      <th>44660</th>\n",
       "      <td>28181</td>\n",
       "      <td>44660</td>\n",
       "    </tr>\n",
       "    <tr>\n",
       "      <th>45371</th>\n",
       "      <td>28182</td>\n",
       "      <td>45371</td>\n",
       "    </tr>\n",
       "    <tr>\n",
       "      <th>45373</th>\n",
       "      <td>28183</td>\n",
       "      <td>45373</td>\n",
       "    </tr>\n",
       "    <tr>\n",
       "      <th>45374</th>\n",
       "      <td>28184</td>\n",
       "      <td>45374</td>\n",
       "    </tr>\n",
       "    <tr>\n",
       "      <th>45443</th>\n",
       "      <td>28185</td>\n",
       "      <td>45443</td>\n",
       "    </tr>\n",
       "    <tr>\n",
       "      <th>45444</th>\n",
       "      <td>28186</td>\n",
       "      <td>45444</td>\n",
       "    </tr>\n",
       "    <tr>\n",
       "      <th>45445</th>\n",
       "      <td>28187</td>\n",
       "      <td>45445</td>\n",
       "    </tr>\n",
       "    <tr>\n",
       "      <th>45446</th>\n",
       "      <td>28188</td>\n",
       "      <td>45446</td>\n",
       "    </tr>\n",
       "    <tr>\n",
       "      <th>45447</th>\n",
       "      <td>28189</td>\n",
       "      <td>45447</td>\n",
       "    </tr>\n",
       "    <tr>\n",
       "      <th>45448</th>\n",
       "      <td>28190</td>\n",
       "      <td>45448</td>\n",
       "    </tr>\n",
       "    <tr>\n",
       "      <th>46053</th>\n",
       "      <td>28191</td>\n",
       "      <td>46053</td>\n",
       "    </tr>\n",
       "    <tr>\n",
       "      <th>46054</th>\n",
       "      <td>28192</td>\n",
       "      <td>46054</td>\n",
       "    </tr>\n",
       "    <tr>\n",
       "      <th>46742</th>\n",
       "      <td>28193</td>\n",
       "      <td>46742</td>\n",
       "    </tr>\n",
       "    <tr>\n",
       "      <th>46743</th>\n",
       "      <td>28194</td>\n",
       "      <td>46743</td>\n",
       "    </tr>\n",
       "    <tr>\n",
       "      <th>46744</th>\n",
       "      <td>28195</td>\n",
       "      <td>46744</td>\n",
       "    </tr>\n",
       "    <tr>\n",
       "      <th>46745</th>\n",
       "      <td>28196</td>\n",
       "      <td>46745</td>\n",
       "    </tr>\n",
       "    <tr>\n",
       "      <th>46746</th>\n",
       "      <td>28197</td>\n",
       "      <td>46746</td>\n",
       "    </tr>\n",
       "    <tr>\n",
       "      <th>46747</th>\n",
       "      <td>28198</td>\n",
       "      <td>46747</td>\n",
       "    </tr>\n",
       "    <tr>\n",
       "      <th>46748</th>\n",
       "      <td>28199</td>\n",
       "      <td>46748</td>\n",
       "    </tr>\n",
       "    <tr>\n",
       "      <th>47396</th>\n",
       "      <td>28200</td>\n",
       "      <td>47396</td>\n",
       "    </tr>\n",
       "    <tr>\n",
       "      <th>47397</th>\n",
       "      <td>28201</td>\n",
       "      <td>47397</td>\n",
       "    </tr>\n",
       "    <tr>\n",
       "      <th>47398</th>\n",
       "      <td>28202</td>\n",
       "      <td>47398</td>\n",
       "    </tr>\n",
       "    <tr>\n",
       "      <th>48041</th>\n",
       "      <td>28203</td>\n",
       "      <td>48041</td>\n",
       "    </tr>\n",
       "    <tr>\n",
       "      <th>48042</th>\n",
       "      <td>28204</td>\n",
       "      <td>48042</td>\n",
       "    </tr>\n",
       "    <tr>\n",
       "      <th>48043</th>\n",
       "      <td>28205</td>\n",
       "      <td>48043</td>\n",
       "    </tr>\n",
       "    <tr>\n",
       "      <th>48044</th>\n",
       "      <td>28206</td>\n",
       "      <td>48044</td>\n",
       "    </tr>\n",
       "    <tr>\n",
       "      <th>48045</th>\n",
       "      <td>28207</td>\n",
       "      <td>48045</td>\n",
       "    </tr>\n",
       "    <tr>\n",
       "      <th>48046</th>\n",
       "      <td>28208</td>\n",
       "      <td>48046</td>\n",
       "    </tr>\n",
       "    <tr>\n",
       "      <th>48047</th>\n",
       "      <td>28209</td>\n",
       "      <td>48047</td>\n",
       "    </tr>\n",
       "    <tr>\n",
       "      <th>48048</th>\n",
       "      <td>28210</td>\n",
       "      <td>48048</td>\n",
       "    </tr>\n",
       "    <tr>\n",
       "      <th>48049</th>\n",
       "      <td>28211</td>\n",
       "      <td>48049</td>\n",
       "    </tr>\n",
       "    <tr>\n",
       "      <th>48050</th>\n",
       "      <td>28212</td>\n",
       "      <td>48050</td>\n",
       "    </tr>\n",
       "    <tr>\n",
       "      <th>48051</th>\n",
       "      <td>28213</td>\n",
       "      <td>48051</td>\n",
       "    </tr>\n",
       "    <tr>\n",
       "      <th>48052</th>\n",
       "      <td>28214</td>\n",
       "      <td>48052</td>\n",
       "    </tr>\n",
       "    <tr>\n",
       "      <th>48053</th>\n",
       "      <td>28215</td>\n",
       "      <td>48053</td>\n",
       "    </tr>\n",
       "    <tr>\n",
       "      <th>48054</th>\n",
       "      <td>28216</td>\n",
       "      <td>48054</td>\n",
       "    </tr>\n",
       "    <tr>\n",
       "      <th>48055</th>\n",
       "      <td>28217</td>\n",
       "      <td>48055</td>\n",
       "    </tr>\n",
       "    <tr>\n",
       "      <th>48056</th>\n",
       "      <td>28218</td>\n",
       "      <td>48056</td>\n",
       "    </tr>\n",
       "    <tr>\n",
       "      <th>48057</th>\n",
       "      <td>28219</td>\n",
       "      <td>48057</td>\n",
       "    </tr>\n",
       "    <tr>\n",
       "      <th>48058</th>\n",
       "      <td>28220</td>\n",
       "      <td>48058</td>\n",
       "    </tr>\n",
       "    <tr>\n",
       "      <th>48059</th>\n",
       "      <td>28221</td>\n",
       "      <td>48059</td>\n",
       "    </tr>\n",
       "    <tr>\n",
       "      <th>48060</th>\n",
       "      <td>28222</td>\n",
       "      <td>48060</td>\n",
       "    </tr>\n",
       "    <tr>\n",
       "      <th>48061</th>\n",
       "      <td>28223</td>\n",
       "      <td>48061</td>\n",
       "    </tr>\n",
       "    <tr>\n",
       "      <th>48062</th>\n",
       "      <td>28224</td>\n",
       "      <td>48062</td>\n",
       "    </tr>\n",
       "    <tr>\n",
       "      <th>48063</th>\n",
       "      <td>28225</td>\n",
       "      <td>48063</td>\n",
       "    </tr>\n",
       "    <tr>\n",
       "      <th>48064</th>\n",
       "      <td>28226</td>\n",
       "      <td>48064</td>\n",
       "    </tr>\n",
       "    <tr>\n",
       "      <th>48065</th>\n",
       "      <td>28227</td>\n",
       "      <td>48065</td>\n",
       "    </tr>\n",
       "    <tr>\n",
       "      <th>48066</th>\n",
       "      <td>28228</td>\n",
       "      <td>48066</td>\n",
       "    </tr>\n",
       "    <tr>\n",
       "      <th>48067</th>\n",
       "      <td>28229</td>\n",
       "      <td>48067</td>\n",
       "    </tr>\n",
       "    <tr>\n",
       "      <th>48068</th>\n",
       "      <td>28230</td>\n",
       "      <td>48068</td>\n",
       "    </tr>\n",
       "    <tr>\n",
       "      <th>48069</th>\n",
       "      <td>28231</td>\n",
       "      <td>48069</td>\n",
       "    </tr>\n",
       "    <tr>\n",
       "      <th>48070</th>\n",
       "      <td>28232</td>\n",
       "      <td>48070</td>\n",
       "    </tr>\n",
       "    <tr>\n",
       "      <th>48084</th>\n",
       "      <td>28233</td>\n",
       "      <td>48084</td>\n",
       "    </tr>\n",
       "    <tr>\n",
       "      <th>48085</th>\n",
       "      <td>28234</td>\n",
       "      <td>48085</td>\n",
       "    </tr>\n",
       "    <tr>\n",
       "      <th>48086</th>\n",
       "      <td>28235</td>\n",
       "      <td>48086</td>\n",
       "    </tr>\n",
       "    <tr>\n",
       "      <th>48087</th>\n",
       "      <td>28236</td>\n",
       "      <td>48087</td>\n",
       "    </tr>\n",
       "    <tr>\n",
       "      <th>48383</th>\n",
       "      <td>28237</td>\n",
       "      <td>48383</td>\n",
       "    </tr>\n",
       "    <tr>\n",
       "      <th>48384</th>\n",
       "      <td>28238</td>\n",
       "      <td>48384</td>\n",
       "    </tr>\n",
       "    <tr>\n",
       "      <th>48385</th>\n",
       "      <td>28239</td>\n",
       "      <td>48385</td>\n",
       "    </tr>\n",
       "    <tr>\n",
       "      <th>48386</th>\n",
       "      <td>28240</td>\n",
       "      <td>48386</td>\n",
       "    </tr>\n",
       "    <tr>\n",
       "      <th>49598</th>\n",
       "      <td>28241</td>\n",
       "      <td>49598</td>\n",
       "    </tr>\n",
       "    <tr>\n",
       "      <th>49599</th>\n",
       "      <td>28242</td>\n",
       "      <td>49599</td>\n",
       "    </tr>\n",
       "    <tr>\n",
       "      <th>49600</th>\n",
       "      <td>28243</td>\n",
       "      <td>49600</td>\n",
       "    </tr>\n",
       "    <tr>\n",
       "      <th>49601</th>\n",
       "      <td>28244</td>\n",
       "      <td>49601</td>\n",
       "    </tr>\n",
       "    <tr>\n",
       "      <th>49602</th>\n",
       "      <td>28245</td>\n",
       "      <td>49602</td>\n",
       "    </tr>\n",
       "    <tr>\n",
       "      <th>49603</th>\n",
       "      <td>28246</td>\n",
       "      <td>49603</td>\n",
       "    </tr>\n",
       "    <tr>\n",
       "      <th>49604</th>\n",
       "      <td>28247</td>\n",
       "      <td>49604</td>\n",
       "    </tr>\n",
       "    <tr>\n",
       "      <th>49605</th>\n",
       "      <td>28248</td>\n",
       "      <td>49605</td>\n",
       "    </tr>\n",
       "    <tr>\n",
       "      <th>49606</th>\n",
       "      <td>28249</td>\n",
       "      <td>49606</td>\n",
       "    </tr>\n",
       "    <tr>\n",
       "      <th>49607</th>\n",
       "      <td>28250</td>\n",
       "      <td>49607</td>\n",
       "    </tr>\n",
       "    <tr>\n",
       "      <th>49608</th>\n",
       "      <td>28251</td>\n",
       "      <td>49608</td>\n",
       "    </tr>\n",
       "    <tr>\n",
       "      <th>49609</th>\n",
       "      <td>28252</td>\n",
       "      <td>49609</td>\n",
       "    </tr>\n",
       "    <tr>\n",
       "      <th>49610</th>\n",
       "      <td>28253</td>\n",
       "      <td>49610</td>\n",
       "    </tr>\n",
       "    <tr>\n",
       "      <th>49611</th>\n",
       "      <td>28254</td>\n",
       "      <td>49611</td>\n",
       "    </tr>\n",
       "    <tr>\n",
       "      <th>49612</th>\n",
       "      <td>28255</td>\n",
       "      <td>49612</td>\n",
       "    </tr>\n",
       "    <tr>\n",
       "      <th>49613</th>\n",
       "      <td>28256</td>\n",
       "      <td>49613</td>\n",
       "    </tr>\n",
       "    <tr>\n",
       "      <th>49622</th>\n",
       "      <td>28257</td>\n",
       "      <td>49622</td>\n",
       "    </tr>\n",
       "    <tr>\n",
       "      <th>49623</th>\n",
       "      <td>28258</td>\n",
       "      <td>49623</td>\n",
       "    </tr>\n",
       "    <tr>\n",
       "      <th>49624</th>\n",
       "      <td>28259</td>\n",
       "      <td>49624</td>\n",
       "    </tr>\n",
       "    <tr>\n",
       "      <th>49625</th>\n",
       "      <td>28260</td>\n",
       "      <td>49625</td>\n",
       "    </tr>\n",
       "    <tr>\n",
       "      <th>49626</th>\n",
       "      <td>28261</td>\n",
       "      <td>49626</td>\n",
       "    </tr>\n",
       "    <tr>\n",
       "      <th>49627</th>\n",
       "      <td>28262</td>\n",
       "      <td>49627</td>\n",
       "    </tr>\n",
       "    <tr>\n",
       "      <th>49628</th>\n",
       "      <td>28263</td>\n",
       "      <td>49628</td>\n",
       "    </tr>\n",
       "    <tr>\n",
       "      <th>49629</th>\n",
       "      <td>28264</td>\n",
       "      <td>49629</td>\n",
       "    </tr>\n",
       "    <tr>\n",
       "      <th>49630</th>\n",
       "      <td>28265</td>\n",
       "      <td>49630</td>\n",
       "    </tr>\n",
       "    <tr>\n",
       "      <th>49631</th>\n",
       "      <td>28266</td>\n",
       "      <td>49631</td>\n",
       "    </tr>\n",
       "  </tbody>\n",
       "</table>\n",
       "</div>"
      ],
      "text/plain": [
       "             Asset  cbiz_index\n",
       "merge_index                   \n",
       "38285        28122       38285\n",
       "38286        28123       38286\n",
       "38287        28124       38287\n",
       "38288        28125       38288\n",
       "38289        28126       38289\n",
       "38290        28127       38290\n",
       "38291        28128       38291\n",
       "38292        28129       38292\n",
       "38293        28130       38293\n",
       "38294        28131       38294\n",
       "38295        28132       38295\n",
       "38296        28133       38296\n",
       "38297        28134       38297\n",
       "38298        28135       38298\n",
       "39052        28136       39052\n",
       "39053        28137       39053\n",
       "39054        28138       39054\n",
       "39085        28139       39085\n",
       "39086        28140       39086\n",
       "39087        28141       39087\n",
       "39088        28142       39088\n",
       "39089        28143       39089\n",
       "39090        28144       39090\n",
       "39091        28145       39091\n",
       "39092        28146       39092\n",
       "39094        28147       39094\n",
       "39857        28148       39857\n",
       "39858        28149       39858\n",
       "39859        28150       39859\n",
       "39860        28151       39860\n",
       "39861        28152       39861\n",
       "39862        28153       39862\n",
       "39863        28154       39863\n",
       "39864        28155       39864\n",
       "41268        28156       41268\n",
       "41333        28157       41333\n",
       "41334        28158       41334\n",
       "42127        28159       42127\n",
       "42128        28160       42128\n",
       "42134        28161       42134\n",
       "43080        28162       43080\n",
       "43081        28163       43081\n",
       "43162        28164       43162\n",
       "43163        28165       43163\n",
       "43164        28166       43164\n",
       "43165        28167       43165\n",
       "43166        28168       43166\n",
       "43167        28169       43167\n",
       "43168        28170       43168\n",
       "43826        28171       43826\n",
       "43856        28172       43856\n",
       "43857        28173       43857\n",
       "43858        28174       43858\n",
       "44629        28175       44629\n",
       "44630        28176       44630\n",
       "44631        28177       44631\n",
       "44632        28178       44632\n",
       "44658        28179       44658\n",
       "44659        28180       44659\n",
       "44660        28181       44660\n",
       "45371        28182       45371\n",
       "45373        28183       45373\n",
       "45374        28184       45374\n",
       "45443        28185       45443\n",
       "45444        28186       45444\n",
       "45445        28187       45445\n",
       "45446        28188       45446\n",
       "45447        28189       45447\n",
       "45448        28190       45448\n",
       "46053        28191       46053\n",
       "46054        28192       46054\n",
       "46742        28193       46742\n",
       "46743        28194       46743\n",
       "46744        28195       46744\n",
       "46745        28196       46745\n",
       "46746        28197       46746\n",
       "46747        28198       46747\n",
       "46748        28199       46748\n",
       "47396        28200       47396\n",
       "47397        28201       47397\n",
       "47398        28202       47398\n",
       "48041        28203       48041\n",
       "48042        28204       48042\n",
       "48043        28205       48043\n",
       "48044        28206       48044\n",
       "48045        28207       48045\n",
       "48046        28208       48046\n",
       "48047        28209       48047\n",
       "48048        28210       48048\n",
       "48049        28211       48049\n",
       "48050        28212       48050\n",
       "48051        28213       48051\n",
       "48052        28214       48052\n",
       "48053        28215       48053\n",
       "48054        28216       48054\n",
       "48055        28217       48055\n",
       "48056        28218       48056\n",
       "48057        28219       48057\n",
       "48058        28220       48058\n",
       "48059        28221       48059\n",
       "48060        28222       48060\n",
       "48061        28223       48061\n",
       "48062        28224       48062\n",
       "48063        28225       48063\n",
       "48064        28226       48064\n",
       "48065        28227       48065\n",
       "48066        28228       48066\n",
       "48067        28229       48067\n",
       "48068        28230       48068\n",
       "48069        28231       48069\n",
       "48070        28232       48070\n",
       "48084        28233       48084\n",
       "48085        28234       48085\n",
       "48086        28235       48086\n",
       "48087        28236       48087\n",
       "48383        28237       48383\n",
       "48384        28238       48384\n",
       "48385        28239       48385\n",
       "48386        28240       48386\n",
       "49598        28241       49598\n",
       "49599        28242       49599\n",
       "49600        28243       49600\n",
       "49601        28244       49601\n",
       "49602        28245       49602\n",
       "49603        28246       49603\n",
       "49604        28247       49604\n",
       "49605        28248       49605\n",
       "49606        28249       49606\n",
       "49607        28250       49607\n",
       "49608        28251       49608\n",
       "49609        28252       49609\n",
       "49610        28253       49610\n",
       "49611        28254       49611\n",
       "49612        28255       49612\n",
       "49613        28256       49613\n",
       "49622        28257       49622\n",
       "49623        28258       49623\n",
       "49624        28259       49624\n",
       "49625        28260       49625\n",
       "49626        28261       49626\n",
       "49627        28262       49627\n",
       "49628        28263       49628\n",
       "49629        28264       49629\n",
       "49630        28265       49630\n",
       "49631        28266       49631"
      ]
     },
     "execution_count": 182,
     "metadata": {},
     "output_type": "execute_result"
    }
   ],
   "source": [
    "# create a df from fsm asset group that contains the fsm assigned asset number\n",
    "fsm_asset_number = assets_group_3080[['Asset', 'cbiz_index']]\n",
    "fsm_asset_number"
   ]
  },
  {
   "cell_type": "code",
   "execution_count": 183,
   "metadata": {},
   "outputs": [],
   "source": [
    "# cbiz_asset_and_book_3080_merge.head()"
   ]
  },
  {
   "cell_type": "markdown",
   "metadata": {},
   "source": [
    "### Find 3080 records that exist in the fsm asset register but have incorrect cost values"
   ]
  },
  {
   "cell_type": "code",
   "execution_count": 184,
   "metadata": {},
   "outputs": [
    {
     "data": {
      "text/plain": [
       "118736253.0"
      ]
     },
     "execution_count": 184,
     "metadata": {},
     "output_type": "execute_result"
    }
   ],
   "source": [
    "cbiz_infor_3080_matched[' Acquired Value* '].sum()"
   ]
  },
  {
   "cell_type": "code",
   "execution_count": 185,
   "metadata": {},
   "outputs": [
    {
     "data": {
      "text/plain": [
       "118727390.78"
      ]
     },
     "execution_count": 185,
     "metadata": {},
     "output_type": "execute_result"
    }
   ],
   "source": [
    "assets_group_3080['ItemTotalBaseCost'].sum()"
   ]
  },
  {
   "cell_type": "code",
   "execution_count": 186,
   "metadata": {},
   "outputs": [
    {
     "data": {
      "text/plain": [
       "8862.219999998808"
      ]
     },
     "execution_count": 186,
     "metadata": {},
     "output_type": "execute_result"
    }
   ],
   "source": [
    "cost_for_asset_register_records_with_errors_3080 = cbiz_infor_3080_matched[' Acquired Value* '].sum() - assets_group_3080['ItemTotalBaseCost'].sum()\n",
    "cost_for_asset_register_records_with_errors_3080"
   ]
  },
  {
   "cell_type": "code",
   "execution_count": 187,
   "metadata": {},
   "outputs": [
    {
     "data": {
      "text/plain": [
       "34838153.0"
      ]
     },
     "execution_count": 187,
     "metadata": {},
     "output_type": "execute_result"
    }
   ],
   "source": [
    "cbiz_infor_3080_matched[' Current Accum* '].sum()"
   ]
  },
  {
   "cell_type": "code",
   "execution_count": 188,
   "metadata": {},
   "outputs": [
    {
     "data": {
      "text/plain": [
       "34838151.089999996"
      ]
     },
     "execution_count": 188,
     "metadata": {},
     "output_type": "execute_result"
    }
   ],
   "source": [
    "assets_group_3080['TotalAccumulatedDepreciation'].sum()"
   ]
  },
  {
   "cell_type": "code",
   "execution_count": 189,
   "metadata": {},
   "outputs": [
    {
     "data": {
      "text/plain": [
       "118736253.0"
      ]
     },
     "execution_count": 189,
     "metadata": {},
     "output_type": "execute_result"
    }
   ],
   "source": [
    "# the sum of the cost the records missing from FSM asset register (includes asset register total cost) and difference in those records in the asset register\n",
    "# that have a different cost than the cbiz_asset_and_book_3080_merge file ties to the cost per the \n",
    "# cbiz_asset_and_book_3080_merge file below\n",
    "sum_asset_register_and_missing_records_cost + cost_for_asset_register_records_with_errors_3080"
   ]
  },
  {
   "cell_type": "code",
   "execution_count": 190,
   "metadata": {},
   "outputs": [
    {
     "data": {
      "text/plain": [
       " Acquired Value*    $118,736,253.00\n",
       " Current Accum*      $34,838,153.00\n",
       " NBV*                $83,898,104.00\n",
       "dtype: float64"
      ]
     },
     "execution_count": 190,
     "metadata": {},
     "output_type": "execute_result"
    }
   ],
   "source": [
    "cbiz_asset_and_book_3080_merge[[' Acquired Value* ', ' Current Accum* ',  ' NBV* ', ]].sum()"
   ]
  },
  {
   "cell_type": "code",
   "execution_count": 191,
   "metadata": {},
   "outputs": [],
   "source": [
    "# asset_download_3080.info()"
   ]
  },
  {
   "cell_type": "code",
   "execution_count": 192,
   "metadata": {},
   "outputs": [],
   "source": [
    "# cbiz_infor_3080_matched.columns"
   ]
  },
  {
   "cell_type": "code",
   "execution_count": 193,
   "metadata": {},
   "outputs": [],
   "source": [
    "cbiz_infor_3080_cost_diffs = cbiz_infor_3080_matched[' Acquired Value* '].compare(assets_group_3080['ItemTotalBaseCost'])\n",
    "cbiz_infor_3080_cost_diffs.rename(columns={'self': 'load file', 'other': 'FSM'}, inplace=True)\n",
    "cbiz_infor_3080_cost_diffs.rename_axis('Load ID', inplace=True)"
   ]
  },
  {
   "cell_type": "code",
   "execution_count": 194,
   "metadata": {},
   "outputs": [
    {
     "data": {
      "text/plain": [
       "34838151.089999996"
      ]
     },
     "execution_count": 194,
     "metadata": {},
     "output_type": "execute_result"
    }
   ],
   "source": [
    "# compare accumulated depreciation from both files; ties to cbiz_asset_and_book_3080_merge\n",
    "\n",
    "missing_assets_3080[' Current Accum* '].sum() + assets_group_3080['TotalAccumulatedDepreciation'].sum()"
   ]
  },
  {
   "cell_type": "code",
   "execution_count": 195,
   "metadata": {},
   "outputs": [
    {
     "data": {
      "text/plain": [
       " Acquired Value*    $118,736,253.00\n",
       " Current Accum*      $34,838,153.00\n",
       " NBV*                $83,898,104.00\n",
       "dtype: float64"
      ]
     },
     "execution_count": 195,
     "metadata": {},
     "output_type": "execute_result"
    }
   ],
   "source": [
    "cbiz_asset_and_book_3080_merge[[' Acquired Value* ', ' Current Accum* ',  ' NBV* ', ]].sum()"
   ]
  },
  {
   "cell_type": "code",
   "execution_count": 196,
   "metadata": {},
   "outputs": [],
   "source": [
    "# cbiz_asset_and_book_3080_merge.columns"
   ]
  },
  {
   "cell_type": "code",
   "execution_count": 197,
   "metadata": {},
   "outputs": [],
   "source": [
    "# cbiz_asset_and_book_3080_merge = cbiz_asset_and_book_3080_merge.merge(fsm_asset_number, how='left',\n",
    "#                                             left_on='Asset ID', right_on=\"cbiz_index\")"
   ]
  },
  {
   "cell_type": "code",
   "execution_count": 198,
   "metadata": {},
   "outputs": [],
   "source": [
    "# cbiz_asset_and_book_3080_merge.head()"
   ]
  },
  {
   "cell_type": "code",
   "execution_count": 199,
   "metadata": {},
   "outputs": [],
   "source": [
    "cbiz_asset_and_book_3080_merge['Asset ID'] = cbiz_asset_and_book_3080_merge['Asset ID'].astype('int')\n"
   ]
  },
  {
   "cell_type": "code",
   "execution_count": 200,
   "metadata": {},
   "outputs": [],
   "source": [
    "# cbiz_asset_and_book_3080_merge.info()"
   ]
  },
  {
   "cell_type": "code",
   "execution_count": 201,
   "metadata": {},
   "outputs": [
    {
     "data": {
      "text/plain": [
       "118736253.0"
      ]
     },
     "execution_count": 201,
     "metadata": {},
     "output_type": "execute_result"
    }
   ],
   "source": [
    "cbiz_asset_and_book_3080_merge[' Acquired Value* '].sum()"
   ]
  },
  {
   "cell_type": "markdown",
   "metadata": {},
   "source": [
    "#### save the files to drive"
   ]
  },
  {
   "cell_type": "code",
   "execution_count": 202,
   "metadata": {},
   "outputs": [],
   "source": [
    "cbiz_asset_and_book_3080_merge.to_csv(\n",
    "    r'C:\\Users\\mikra\\OneDrive\\Documents\\Work\\conversion\\SIT3\\november_AX2\\fixed_assets\\mmc\\output\\output_3080\\sit3_cbiz_asset_and_book_3080_merge.csv'\n",
    ")"
   ]
  },
  {
   "cell_type": "code",
   "execution_count": 203,
   "metadata": {},
   "outputs": [],
   "source": [
    "assets_group_3080.to_csv(\n",
    "    r'C:\\Users\\mikra\\OneDrive\\Documents\\Work\\conversion\\SIT3\\november_AX2\\fixed_assets\\mmc\\output\\output_3080\\sit3_fsm_asset_register_3080.csv'\n",
    ")"
   ]
  },
  {
   "cell_type": "code",
   "execution_count": 204,
   "metadata": {},
   "outputs": [],
   "source": [
    "missing_assets_3080.to_csv(\n",
    "    r'C:\\Users\\mikra\\OneDrive\\Documents\\Work\\conversion\\SIT3\\november_AX2\\fixed_assets\\mmc\\output\\output_3080\\sit3_assets_missing_from_register_3080.csv'\n",
    ")"
   ]
  },
  {
   "cell_type": "code",
   "execution_count": 205,
   "metadata": {},
   "outputs": [],
   "source": [
    "cbiz_infor_3080_cost_diffs.to_csv(\n",
    "    r'C:\\Users\\mikra\\OneDrive\\Documents\\Work\\conversion\\SIT3\\november_AX2\\fixed_assets\\mmc\\output\\output_3080\\sit3_assets_with_wrong_cost_3080.csv'\n",
    ")"
   ]
  },
  {
   "cell_type": "markdown",
   "metadata": {},
   "source": [
    "### Find 3000 records that are missing from the FSM asset register"
   ]
  },
  {
   "cell_type": "code",
   "execution_count": 206,
   "metadata": {},
   "outputs": [],
   "source": [
    "# asset_download_mmc = pd.read_csv(r'C:\\Users\\Michael\\OneDrive\\Documents\\Work\\conversion\\august_2021\\Asset Download MMC.csv',)"
   ]
  },
  {
   "cell_type": "code",
   "execution_count": 207,
   "metadata": {},
   "outputs": [],
   "source": [
    "# asset_download_mmc.info()"
   ]
  },
  {
   "cell_type": "code",
   "execution_count": 208,
   "metadata": {},
   "outputs": [],
   "source": [
    "# asset_download_mmc['Company'] = asset_download_mmc['Company'].astype(str).apply(lambda x: x[:4])"
   ]
  },
  {
   "cell_type": "code",
   "execution_count": 209,
   "metadata": {},
   "outputs": [],
   "source": [
    "# asset_download_mmc['Company'].unique()"
   ]
  },
  {
   "cell_type": "code",
   "execution_count": 210,
   "metadata": {},
   "outputs": [],
   "source": [
    "# mmc_asset_register_groupby_company = asset_download_mmc.groupby('Company')"
   ]
  },
  {
   "cell_type": "code",
   "execution_count": 211,
   "metadata": {},
   "outputs": [],
   "source": [
    "assets_group_3000 = fsm_asset_register_groupby_company.get_group('3000')"
   ]
  },
  {
   "cell_type": "code",
   "execution_count": 212,
   "metadata": {},
   "outputs": [
    {
     "name": "stderr",
     "output_type": "stream",
     "text": [
      "<ipython-input-212-ef59286247ba>:1: SettingWithCopyWarning: \n",
      "A value is trying to be set on a copy of a slice from a DataFrame.\n",
      "Try using .loc[row_indexer,col_indexer] = value instead\n",
      "\n",
      "See the caveats in the documentation: https://pandas.pydata.org/pandas-docs/stable/user_guide/indexing.html#returning-a-view-versus-a-copy\n",
      "  assets_group_3000['merge_index'] = assets_group_3000['Reference1'].apply(lambda x: int(x.split('_')[1]))\n"
     ]
    }
   ],
   "source": [
    "assets_group_3000['merge_index'] = assets_group_3000['Reference1'].apply(lambda x: int(x.split('_')[1]))"
   ]
  },
  {
   "cell_type": "code",
   "execution_count": 213,
   "metadata": {},
   "outputs": [
    {
     "name": "stderr",
     "output_type": "stream",
     "text": [
      "<ipython-input-213-258da68ddb03>:1: SettingWithCopyWarning: \n",
      "A value is trying to be set on a copy of a slice from a DataFrame.\n",
      "Try using .loc[row_indexer,col_indexer] = value instead\n",
      "\n",
      "See the caveats in the documentation: https://pandas.pydata.org/pandas-docs/stable/user_guide/indexing.html#returning-a-view-versus-a-copy\n",
      "  assets_group_3000['cbiz_index'] = assets_group_3000['Reference1'].apply(lambda x: int(x.split('_')[1]))\n"
     ]
    }
   ],
   "source": [
    "assets_group_3000['cbiz_index'] = assets_group_3000['Reference1'].apply(lambda x: int(x.split('_')[1]))"
   ]
  },
  {
   "cell_type": "code",
   "execution_count": 214,
   "metadata": {},
   "outputs": [],
   "source": [
    "# mmc_group_3000.columns"
   ]
  },
  {
   "cell_type": "code",
   "execution_count": 215,
   "metadata": {},
   "outputs": [],
   "source": [
    "assets_group_3000 = assets_group_3000.set_index('merge_index',)"
   ]
  },
  {
   "cell_type": "code",
   "execution_count": 216,
   "metadata": {},
   "outputs": [],
   "source": [
    "assets_group_3000 = assets_group_3000.sort_index()"
   ]
  },
  {
   "cell_type": "code",
   "execution_count": 217,
   "metadata": {},
   "outputs": [],
   "source": [
    "# mmc_group_3000"
   ]
  },
  {
   "cell_type": "code",
   "execution_count": 218,
   "metadata": {},
   "outputs": [],
   "source": [
    "cbiz_asset_and_book_3000_merge = cbiz_asset_and_book_3000_merge.sort_index()\n",
    "# cbiz_asset_and_book_3000_merge"
   ]
  },
  {
   "cell_type": "code",
   "execution_count": 219,
   "metadata": {},
   "outputs": [
    {
     "data": {
      "text/plain": [
       "27173"
      ]
     },
     "execution_count": 219,
     "metadata": {},
     "output_type": "execute_result"
    }
   ],
   "source": [
    "# count the number of unique records in the cbiz merge file\n",
    "cbiz_asset_and_book_3000_merge.index.nunique()"
   ]
  },
  {
   "cell_type": "code",
   "execution_count": 220,
   "metadata": {},
   "outputs": [
    {
     "data": {
      "text/plain": [
       "27173"
      ]
     },
     "execution_count": 220,
     "metadata": {},
     "output_type": "execute_result"
    }
   ],
   "source": [
    "# count the number of unique files in the fsm 3000 asset register\n",
    "assets_group_3000.index.nunique()"
   ]
  },
  {
   "cell_type": "code",
   "execution_count": 221,
   "metadata": {},
   "outputs": [],
   "source": [
    "# create a df of the cbiz and fsm matched records\n",
    "cbiz_infor_3000_matched = cbiz_asset_and_book_3000_merge[cbiz_asset_and_book_3000_merge.index.isin(assets_group_3000.index)]\n",
    "# cbiz_infor_3000_matched"
   ]
  },
  {
   "cell_type": "code",
   "execution_count": 222,
   "metadata": {},
   "outputs": [
    {
     "data": {
      "text/html": [
       "<div>\n",
       "<style scoped>\n",
       "    .dataframe tbody tr th:only-of-type {\n",
       "        vertical-align: middle;\n",
       "    }\n",
       "\n",
       "    .dataframe tbody tr th {\n",
       "        vertical-align: top;\n",
       "    }\n",
       "\n",
       "    .dataframe thead th {\n",
       "        text-align: right;\n",
       "    }\n",
       "</style>\n",
       "<table border=\"1\" class=\"dataframe\">\n",
       "  <thead>\n",
       "    <tr style=\"text-align: right;\">\n",
       "      <th></th>\n",
       "      <th>AssetImport_x</th>\n",
       "      <th>Description</th>\n",
       "      <th>AssetCategory</th>\n",
       "      <th>Company</th>\n",
       "      <th>AssetLocation</th>\n",
       "      <th>Asset ID</th>\n",
       "      <th>Location Desc</th>\n",
       "      <th>Account Desc.</th>\n",
       "      <th>Quantity</th>\n",
       "      <th>Acquisition Date</th>\n",
       "      <th>Acquired Value*</th>\n",
       "      <th>Equip</th>\n",
       "      <th>Method_1</th>\n",
       "      <th>In Svc Date*</th>\n",
       "      <th>Est Life*</th>\n",
       "      <th>Current YTD*</th>\n",
       "      <th>Current Accum*</th>\n",
       "      <th>NBV*</th>\n",
       "      <th>Depr Method*</th>\n",
       "      <th>Method_2</th>\n",
       "      <th>In Svc Date*.1</th>\n",
       "      <th>Est Life*.1</th>\n",
       "      <th>Current YTD* .1</th>\n",
       "      <th>Current Accum* .1</th>\n",
       "      <th>NBV* .1</th>\n",
       "      <th>Depr Method*.1</th>\n",
       "      <th>life_years</th>\n",
       "      <th>life_years_2</th>\n",
       "      <th>Book</th>\n",
       "      <th>RunGroup</th>\n",
       "      <th>Life</th>\n",
       "      <th>LifeRemaining</th>\n",
       "      <th>Basis</th>\n",
       "      <th>Method</th>\n",
       "      <th>InServiceDate</th>\n",
       "      <th>YearPlacedInService</th>\n",
       "      <th>Convention</th>\n",
       "      <th>LifeToDateDepreciation</th>\n",
       "    </tr>\n",
       "    <tr>\n",
       "      <th>cbiz_index</th>\n",
       "      <th></th>\n",
       "      <th></th>\n",
       "      <th></th>\n",
       "      <th></th>\n",
       "      <th></th>\n",
       "      <th></th>\n",
       "      <th></th>\n",
       "      <th></th>\n",
       "      <th></th>\n",
       "      <th></th>\n",
       "      <th></th>\n",
       "      <th></th>\n",
       "      <th></th>\n",
       "      <th></th>\n",
       "      <th></th>\n",
       "      <th></th>\n",
       "      <th></th>\n",
       "      <th></th>\n",
       "      <th></th>\n",
       "      <th></th>\n",
       "      <th></th>\n",
       "      <th></th>\n",
       "      <th></th>\n",
       "      <th></th>\n",
       "      <th></th>\n",
       "      <th></th>\n",
       "      <th></th>\n",
       "      <th></th>\n",
       "      <th></th>\n",
       "      <th></th>\n",
       "      <th></th>\n",
       "      <th></th>\n",
       "      <th></th>\n",
       "      <th></th>\n",
       "      <th></th>\n",
       "      <th></th>\n",
       "      <th></th>\n",
       "      <th></th>\n",
       "    </tr>\n",
       "  </thead>\n",
       "  <tbody>\n",
       "  </tbody>\n",
       "</table>\n",
       "</div>"
      ],
      "text/plain": [
       "Empty DataFrame\n",
       "Columns: [AssetImport_x, Description, AssetCategory, Company, AssetLocation, Asset ID, Location Desc, Account Desc., Quantity, Acquisition Date,  Acquired Value* , Equip, Method_1, In Svc Date*, Est Life*,  Current YTD* ,  Current Accum* ,  NBV* , Depr Method*, Method_2, In Svc Date*.1, Est Life*.1,  Current YTD* .1,  Current Accum* .1,  NBV* .1, Depr Method*.1, life_years, life_years_2, Book, RunGroup, Life, LifeRemaining, Basis, Method, InServiceDate, YearPlacedInService, Convention, LifeToDateDepreciation]\n",
       "Index: []"
      ]
     },
     "execution_count": 222,
     "metadata": {},
     "output_type": "execute_result"
    }
   ],
   "source": [
    "# create a file of the non-matching cbiz and fsm recordss\n",
    "missing_3000_asset_register_records = cbiz_asset_and_book_3000_merge[~cbiz_asset_and_book_3000_merge.index.isin(assets_group_3000.index)]\n",
    "missing_3000_asset_register_records"
   ]
  },
  {
   "cell_type": "code",
   "execution_count": 223,
   "metadata": {},
   "outputs": [
    {
     "data": {
      "text/plain": [
       " Acquired Value*    $0.00\n",
       "Basis               $0.00\n",
       " Current Accum*     $0.00\n",
       " NBV*               $0.00\n",
       "dtype: float64"
      ]
     },
     "execution_count": 223,
     "metadata": {},
     "output_type": "execute_result"
    }
   ],
   "source": [
    "# examine the numbers for the missing records\n",
    "missing_3000_asset_register_records[[' Acquired Value* ', 'Basis', \n",
    "                                     ' Current Accum* ', ' NBV* ',]].sum()"
   ]
  },
  {
   "cell_type": "code",
   "execution_count": 224,
   "metadata": {},
   "outputs": [
    {
     "data": {
      "text/plain": [
       "0.0"
      ]
     },
     "execution_count": 224,
     "metadata": {},
     "output_type": "execute_result"
    }
   ],
   "source": [
    "# create a variable for the cost of the missing records\n",
    "missing_3000_asset_register_records_cost = missing_3000_asset_register_records[' Acquired Value* '].sum()\n",
    "missing_3000_asset_register_records_cost"
   ]
  },
  {
   "cell_type": "code",
   "execution_count": 225,
   "metadata": {},
   "outputs": [
    {
     "data": {
      "text/plain": [
       "Index(['FinanceEnterpriseGroup', 'Asset', 'Reference1', 'Description',\n",
       "       'Company', 'ItemTotalBaseCost', 'ItemTotalTransactionCost',\n",
       "       'TotalItemsBaseCost', 'PostingBookBasis', 'PostingBookBookValue',\n",
       "       'TotalAccumulatedDepreciation', 'DepreciationToAssetCost',\n",
       "       'AssetBookValue', 'PostingBookValue', 'RemainingDepreciation',\n",
       "       'LTDDepreciationExpense', 'cbiz_index'],\n",
       "      dtype='object')"
      ]
     },
     "execution_count": 225,
     "metadata": {},
     "output_type": "execute_result"
    }
   ],
   "source": [
    "assets_group_3000.columns"
   ]
  },
  {
   "cell_type": "code",
   "execution_count": 226,
   "metadata": {},
   "outputs": [
    {
     "data": {
      "text/plain": [
       "TotalItemsBaseCost   $3,265,908,123.17\n",
       "PostingBookBasis     $3,417,017,171.77\n",
       "ItemTotalBaseCost    $3,265,908,123.17\n",
       "dtype: float64"
      ]
     },
     "execution_count": 226,
     "metadata": {},
     "output_type": "execute_result"
    }
   ],
   "source": [
    "assets_group_3000[['TotalItemsBaseCost', 'PostingBookBasis', 'ItemTotalBaseCost' ]].sum()"
   ]
  },
  {
   "cell_type": "code",
   "execution_count": 227,
   "metadata": {},
   "outputs": [
    {
     "data": {
      "text/plain": [
       "3417017171.77"
      ]
     },
     "execution_count": 227,
     "metadata": {},
     "output_type": "execute_result"
    }
   ],
   "source": [
    "# create a variable for the total fsm asset register cost for 3000\n",
    "asset_register_3000_cost = assets_group_3000['PostingBookBasis'].sum()\n",
    "asset_register_3000_cost"
   ]
  },
  {
   "cell_type": "code",
   "execution_count": 228,
   "metadata": {},
   "outputs": [
    {
     "data": {
      "text/plain": [
       "3417017171.77"
      ]
     },
     "execution_count": 228,
     "metadata": {},
     "output_type": "execute_result"
    }
   ],
   "source": [
    "# total the 3000 asset register cost and the missing records cost\n",
    "missing_3000_asset_register_records_cost + asset_register_3000_cost"
   ]
  },
  {
   "cell_type": "code",
   "execution_count": 229,
   "metadata": {},
   "outputs": [
    {
     "data": {
      "text/plain": [
       " Acquired Value*    $3,417,017,186.00\n",
       " Current Accum*     $2,370,440,614.00\n",
       " NBV*               $1,046,576,745.00\n",
       "dtype: float64"
      ]
     },
     "execution_count": 229,
     "metadata": {},
     "output_type": "execute_result"
    }
   ],
   "source": [
    "# there is still a difference in the cbiz 3000 cost so there must be existing records\n",
    "# that have an incorrect costs value; examine those differences in the next section\n",
    "cbiz_asset_and_book_3000_merge[[' Acquired Value* ',  ' Current Accum* ', ' NBV* ']].sum()"
   ]
  },
  {
   "cell_type": "code",
   "execution_count": 230,
   "metadata": {},
   "outputs": [],
   "source": [
    "cbiz_asset_and_book_3000_merge.to_csv(\n",
    "    r'C:\\Users\\mikra\\OneDrive\\Documents\\Work\\conversion\\SIT3\\november_AX2\\fixed_assets\\mmc\\output\\output_3000\\sit3_cbiz_asset_and_book_3000_merge.csv'\n",
    ")"
   ]
  },
  {
   "cell_type": "code",
   "execution_count": 231,
   "metadata": {},
   "outputs": [],
   "source": [
    "assets_group_3000.to_csv(\n",
    "    r'C:\\Users\\mikra\\OneDrive\\Documents\\Work\\conversion\\SIT3\\november_AX2\\fixed_assets\\mmc\\output\\output_3000\\sit3_fsm_asset_register_3000.csv'\n",
    ")"
   ]
  },
  {
   "cell_type": "code",
   "execution_count": 232,
   "metadata": {},
   "outputs": [],
   "source": [
    "missing_3000_asset_register_records.to_csv(\n",
    "    r'C:\\Users\\mikra\\OneDrive\\Documents\\Work\\conversion\\SIT3\\november_AX2\\fixed_assets\\mmc\\output\\output_3000\\sit3_assets_missing_from_register_3000.csv'\n",
    ")"
   ]
  },
  {
   "cell_type": "markdown",
   "metadata": {},
   "source": [
    "### Find 3000 records that exist in the fsm asset register but have incorrect cost values"
   ]
  },
  {
   "cell_type": "code",
   "execution_count": 233,
   "metadata": {},
   "outputs": [],
   "source": [
    "# cbiz_infor_3000_matched.info()"
   ]
  },
  {
   "cell_type": "code",
   "execution_count": 234,
   "metadata": {},
   "outputs": [],
   "source": [
    "# mmc_group_3000.info()"
   ]
  },
  {
   "cell_type": "code",
   "execution_count": null,
   "metadata": {},
   "outputs": [],
   "source": []
  },
  {
   "cell_type": "code",
   "execution_count": 235,
   "metadata": {},
   "outputs": [],
   "source": [
    "# use df.compare() method to determine records where cost doesn't match in merged file and\n",
    "# FSM asset register\n",
    "cbiz_infor_3000_cost_diffs = cbiz_infor_3000_matched[' Acquired Value* '].compare(assets_group_3000['PostingBookBasis'])\n",
    "# cbiz_infor_3000_cost_diffs"
   ]
  },
  {
   "cell_type": "code",
   "execution_count": 236,
   "metadata": {},
   "outputs": [
    {
     "data": {
      "text/plain": [
       "self    $194,739,524.00\n",
       "other   $194,739,509.77\n",
       "dtype: float64"
      ]
     },
     "execution_count": 236,
     "metadata": {},
     "output_type": "execute_result"
    }
   ],
   "source": [
    "cbiz_infor_3000_cost_diffs[['self', 'other']].sum()"
   ]
  },
  {
   "cell_type": "code",
   "execution_count": 237,
   "metadata": {},
   "outputs": [
    {
     "data": {
      "text/plain": [
       "14.229999989271164"
      ]
     },
     "execution_count": 237,
     "metadata": {},
     "output_type": "execute_result"
    }
   ],
   "source": [
    "asset_register_3000_records_in_error_cost = cbiz_infor_3000_cost_diffs['self'].sum() - cbiz_infor_3000_cost_diffs['other'].sum()\n",
    "asset_register_3000_records_in_error_cost"
   ]
  },
  {
   "cell_type": "code",
   "execution_count": 238,
   "metadata": {},
   "outputs": [
    {
     "data": {
      "text/plain": [
       "3417017186.0"
      ]
     },
     "execution_count": 238,
     "metadata": {},
     "output_type": "execute_result"
    }
   ],
   "source": [
    "# sum of the cost from FSM 3000 asset register, missing records (6008) cost, and asset register records\n",
    "# with incorrect cost field ties to the cost of the cbiz_asset_and_book_3000_merge file\n",
    "missing_3000_asset_register_records_cost + asset_register_3000_cost + asset_register_3000_records_in_error_cost"
   ]
  },
  {
   "cell_type": "code",
   "execution_count": 239,
   "metadata": {},
   "outputs": [
    {
     "data": {
      "text/plain": [
       " Acquired Value*    $3,417,017,186.00\n",
       " Current Accum*     $2,370,440,614.00\n",
       " NBV*               $1,046,576,745.00\n",
       "dtype: float64"
      ]
     },
     "execution_count": 239,
     "metadata": {},
     "output_type": "execute_result"
    }
   ],
   "source": [
    "cbiz_asset_and_book_3000_merge[[' Acquired Value* ',  ' Current Accum* ', ' NBV* ']].sum()"
   ]
  },
  {
   "cell_type": "code",
   "execution_count": 240,
   "metadata": {},
   "outputs": [],
   "source": [
    "cbiz_infor_3000_cost_diffs = cbiz_infor_3000_matched[' Acquired Value* '].compare(assets_group_3000['PostingBookBasis'])\n",
    "cbiz_infor_3000_cost_diffs.rename(columns={'self': 'load file', 'other': 'FSM'}, inplace=True)\n",
    "cbiz_infor_3000_cost_diffs.rename_axis('Load ID', inplace=True)"
   ]
  },
  {
   "cell_type": "code",
   "execution_count": 241,
   "metadata": {},
   "outputs": [],
   "source": [
    "cbiz_infor_3000_cost_diffs.to_csv(\n",
    "    r'C:\\Users\\mikra\\OneDrive\\Documents\\Work\\conversion\\SIT3\\november_AX2\\fixed_assets\\mmc\\output\\output_3000\\sit3_assets_with_wrong_cost_3000.csv'\n",
    ")"
   ]
  },
  {
   "cell_type": "markdown",
   "metadata": {},
   "source": [
    "### Find 3090 records that are missing from the FSM asset register"
   ]
  },
  {
   "cell_type": "code",
   "execution_count": 242,
   "metadata": {},
   "outputs": [],
   "source": [
    "assets_group_3090 = fsm_asset_register_groupby_company.get_group('3090')\n",
    "\n"
   ]
  },
  {
   "cell_type": "code",
   "execution_count": 243,
   "metadata": {},
   "outputs": [
    {
     "name": "stderr",
     "output_type": "stream",
     "text": [
      "<ipython-input-243-f4f3ae7feb03>:1: SettingWithCopyWarning: \n",
      "A value is trying to be set on a copy of a slice from a DataFrame.\n",
      "Try using .loc[row_indexer,col_indexer] = value instead\n",
      "\n",
      "See the caveats in the documentation: https://pandas.pydata.org/pandas-docs/stable/user_guide/indexing.html#returning-a-view-versus-a-copy\n",
      "  assets_group_3090['merge_index'] = assets_group_3090['Reference1'].apply(lambda x: int(x.split('_')[1]))\n"
     ]
    }
   ],
   "source": [
    "assets_group_3090['merge_index'] = assets_group_3090['Reference1'].apply(lambda x: int(x.split('_')[1]))\n"
   ]
  },
  {
   "cell_type": "code",
   "execution_count": 244,
   "metadata": {},
   "outputs": [
    {
     "name": "stderr",
     "output_type": "stream",
     "text": [
      "<ipython-input-244-ff8984253236>:1: SettingWithCopyWarning: \n",
      "A value is trying to be set on a copy of a slice from a DataFrame.\n",
      "Try using .loc[row_indexer,col_indexer] = value instead\n",
      "\n",
      "See the caveats in the documentation: https://pandas.pydata.org/pandas-docs/stable/user_guide/indexing.html#returning-a-view-versus-a-copy\n",
      "  assets_group_3090['cbiz_index'] = assets_group_3090['Reference1'].apply(lambda x: int(x.split('_')[1]))\n"
     ]
    }
   ],
   "source": [
    "assets_group_3090['cbiz_index'] = assets_group_3090['Reference1'].apply(lambda x: int(x.split('_')[1]))"
   ]
  },
  {
   "cell_type": "code",
   "execution_count": 245,
   "metadata": {},
   "outputs": [],
   "source": [
    "# mmc_group_3090.columns"
   ]
  },
  {
   "cell_type": "code",
   "execution_count": 246,
   "metadata": {},
   "outputs": [],
   "source": [
    "assets_group_3090 = assets_group_3090.set_index('merge_index',)"
   ]
  },
  {
   "cell_type": "code",
   "execution_count": 247,
   "metadata": {},
   "outputs": [],
   "source": [
    "assets_group_3090 = assets_group_3090.sort_index()"
   ]
  },
  {
   "cell_type": "code",
   "execution_count": 248,
   "metadata": {},
   "outputs": [],
   "source": [
    "# mmc_group_3090"
   ]
  },
  {
   "cell_type": "code",
   "execution_count": 249,
   "metadata": {},
   "outputs": [],
   "source": [
    "cbiz_asset_and_book_3090_merge = cbiz_asset_and_book_3090_merge.sort_index()\n",
    "# cbiz_asset_and_book_3090_merge"
   ]
  },
  {
   "cell_type": "code",
   "execution_count": 250,
   "metadata": {},
   "outputs": [
    {
     "name": "stdout",
     "output_type": "stream",
     "text": [
      "268\n",
      "268\n"
     ]
    }
   ],
   "source": [
    "print(assets_group_3090.index.nunique())\n",
    "print(cbiz_asset_and_book_3090_merge.index.nunique())"
   ]
  },
  {
   "cell_type": "code",
   "execution_count": 251,
   "metadata": {},
   "outputs": [],
   "source": [
    "cbiz_infor_3090_matched = cbiz_asset_and_book_3090_merge[cbiz_asset_and_book_3090_merge.index.isin(assets_group_3090.index)]\n",
    "# cbiz_infor_3090_matched"
   ]
  },
  {
   "cell_type": "code",
   "execution_count": 252,
   "metadata": {},
   "outputs": [],
   "source": [
    "missing_3090_asset_register_records = cbiz_asset_and_book_3090_merge[~cbiz_asset_and_book_3090_merge.index.isin(assets_group_3090.index)]\n",
    "# missing_3090_asset_register_records"
   ]
  },
  {
   "cell_type": "code",
   "execution_count": 253,
   "metadata": {},
   "outputs": [
    {
     "data": {
      "text/plain": [
       "(0, 40)"
      ]
     },
     "execution_count": 253,
     "metadata": {},
     "output_type": "execute_result"
    }
   ],
   "source": [
    "missing_3090_asset_register_records.shape"
   ]
  },
  {
   "cell_type": "code",
   "execution_count": 254,
   "metadata": {},
   "outputs": [
    {
     "data": {
      "text/plain": [
       " Acquired Value*    $0.00\n",
       "Basis               $0.00\n",
       " Current Accum*     $0.00\n",
       " NBV*               $0.00\n",
       "dtype: float64"
      ]
     },
     "execution_count": 254,
     "metadata": {},
     "output_type": "execute_result"
    }
   ],
   "source": [
    "missing_3090_asset_register_records[[' Acquired Value* ', 'Basis', \n",
    "                                     ' Current Accum* ', ' NBV* ',]].sum()"
   ]
  },
  {
   "cell_type": "code",
   "execution_count": 255,
   "metadata": {},
   "outputs": [
    {
     "data": {
      "text/plain": [
       "0.0"
      ]
     },
     "execution_count": 255,
     "metadata": {},
     "output_type": "execute_result"
    }
   ],
   "source": [
    "missing_3090_asset_register_records_cost = missing_3090_asset_register_records[' Acquired Value* '].sum()\n",
    "missing_3090_asset_register_records_cost"
   ]
  },
  {
   "cell_type": "code",
   "execution_count": 256,
   "metadata": {},
   "outputs": [
    {
     "data": {
      "text/plain": [
       "7710311.000000001"
      ]
     },
     "execution_count": 256,
     "metadata": {},
     "output_type": "execute_result"
    }
   ],
   "source": [
    "asset_register_3090_cost = assets_group_3090['PostingBookBasis'].sum()\n",
    "asset_register_3090_cost"
   ]
  },
  {
   "cell_type": "code",
   "execution_count": 257,
   "metadata": {},
   "outputs": [
    {
     "data": {
      "text/plain": [
       "7710311.000000001"
      ]
     },
     "execution_count": 257,
     "metadata": {},
     "output_type": "execute_result"
    }
   ],
   "source": [
    "# the entire difference in the asset register adn the load file is due to the missing records\n",
    "missing_3090_asset_register_records_cost + asset_register_3090_cost"
   ]
  },
  {
   "cell_type": "code",
   "execution_count": 258,
   "metadata": {},
   "outputs": [
    {
     "data": {
      "text/plain": [
       " Acquired Value*    $7,710,311.00\n",
       " Current Accum*     $3,298,307.96\n",
       " NBV*               $4,412,003.04\n",
       "dtype: float64"
      ]
     },
     "execution_count": 258,
     "metadata": {},
     "output_type": "execute_result"
    }
   ],
   "source": [
    "cbiz_asset_and_book_3090_merge[[' Acquired Value* ',  ' Current Accum* ', ' NBV* ']].sum()"
   ]
  },
  {
   "cell_type": "code",
   "execution_count": 259,
   "metadata": {},
   "outputs": [],
   "source": [
    "# cbiz_infor_3090_matched.info()"
   ]
  },
  {
   "cell_type": "markdown",
   "metadata": {},
   "source": [
    "### Find 3090 records that exist in the fsm asset register but have incorrect cost values"
   ]
  },
  {
   "cell_type": "code",
   "execution_count": 260,
   "metadata": {},
   "outputs": [
    {
     "data": {
      "text/html": [
       "<div>\n",
       "<style scoped>\n",
       "    .dataframe tbody tr th:only-of-type {\n",
       "        vertical-align: middle;\n",
       "    }\n",
       "\n",
       "    .dataframe tbody tr th {\n",
       "        vertical-align: top;\n",
       "    }\n",
       "\n",
       "    .dataframe thead th {\n",
       "        text-align: right;\n",
       "    }\n",
       "</style>\n",
       "<table border=\"1\" class=\"dataframe\">\n",
       "  <thead>\n",
       "    <tr style=\"text-align: right;\">\n",
       "      <th></th>\n",
       "      <th>self</th>\n",
       "      <th>other</th>\n",
       "    </tr>\n",
       "  </thead>\n",
       "  <tbody>\n",
       "  </tbody>\n",
       "</table>\n",
       "</div>"
      ],
      "text/plain": [
       "Empty DataFrame\n",
       "Columns: [self, other]\n",
       "Index: []"
      ]
     },
     "execution_count": 260,
     "metadata": {},
     "output_type": "execute_result"
    }
   ],
   "source": [
    "# there are no records in the 3090 asset register with incorrect cost\n",
    "cbiz_infor_3090_cost_diffs = cbiz_infor_3090_matched[' Acquired Value* '].compare(assets_group_3090['PostingBookBasis'])\n",
    "cbiz_infor_3090_cost_diffs"
   ]
  },
  {
   "cell_type": "code",
   "execution_count": 261,
   "metadata": {},
   "outputs": [],
   "source": [
    "cbiz_asset_and_book_3090_merge.to_csv(\n",
    "    r'C:\\Users\\mikra\\OneDrive\\Documents\\Work\\conversion\\SIT3\\november_AX2\\fixed_assets\\mmc\\output\\output_3090\\sit3_cbiz_asset_and_book_3090_merge.csv'\n",
    ")\n",
    "\n",
    "assets_group_3090.to_csv(\n",
    "    r'C:\\Users\\mikra\\OneDrive\\Documents\\Work\\conversion\\SIT3\\november_AX2\\fixed_assets\\mmc\\output\\output_3090\\sit3_fsm_asset_register_3090.csv'\n",
    ")\n",
    "\n",
    "missing_3090_asset_register_records.to_csv(\n",
    "    r'C:\\Users\\mikra\\OneDrive\\Documents\\Work\\conversion\\SIT3\\november_AX2\\fixed_assets\\mmc\\output\\output_3090\\sit3_assets_missing_from_register_3090.csv'\n",
    ")\n",
    "\n",
    "cbiz_infor_3090_cost_diffs.to_csv(\n",
    "    r'C:\\Users\\mikra\\OneDrive\\Documents\\Work\\conversion\\SIT3\\november_AX2\\fixed_assets\\mmc\\output\\output_3090\\sit3_assets_with_wrong_cost_3090.csv'\n",
    ")"
   ]
  },
  {
   "cell_type": "markdown",
   "metadata": {},
   "source": [
    "### Find 3060 records that are missing from the FSM asset register"
   ]
  },
  {
   "cell_type": "code",
   "execution_count": 262,
   "metadata": {},
   "outputs": [],
   "source": [
    "assets_group_3060 = fsm_asset_register_groupby_company.get_group('3060')"
   ]
  },
  {
   "cell_type": "code",
   "execution_count": 263,
   "metadata": {},
   "outputs": [
    {
     "name": "stderr",
     "output_type": "stream",
     "text": [
      "<ipython-input-263-24f6afdebcc8>:1: SettingWithCopyWarning: \n",
      "A value is trying to be set on a copy of a slice from a DataFrame.\n",
      "Try using .loc[row_indexer,col_indexer] = value instead\n",
      "\n",
      "See the caveats in the documentation: https://pandas.pydata.org/pandas-docs/stable/user_guide/indexing.html#returning-a-view-versus-a-copy\n",
      "  assets_group_3060['merge_index'] = assets_group_3060['Reference1'].apply(lambda x: int(x.split('_')[1]))\n"
     ]
    }
   ],
   "source": [
    "assets_group_3060['merge_index'] = assets_group_3060['Reference1'].apply(lambda x: int(x.split('_')[1]))"
   ]
  },
  {
   "cell_type": "code",
   "execution_count": 264,
   "metadata": {},
   "outputs": [
    {
     "name": "stderr",
     "output_type": "stream",
     "text": [
      "<ipython-input-264-40a1fed32e68>:1: SettingWithCopyWarning: \n",
      "A value is trying to be set on a copy of a slice from a DataFrame.\n",
      "Try using .loc[row_indexer,col_indexer] = value instead\n",
      "\n",
      "See the caveats in the documentation: https://pandas.pydata.org/pandas-docs/stable/user_guide/indexing.html#returning-a-view-versus-a-copy\n",
      "  assets_group_3060['cbiz_index'] = assets_group_3060['Reference1'].apply(lambda x: int(x.split('_')[1]))\n"
     ]
    }
   ],
   "source": [
    "assets_group_3060['cbiz_index'] = assets_group_3060['Reference1'].apply(lambda x: int(x.split('_')[1]))"
   ]
  },
  {
   "cell_type": "code",
   "execution_count": 265,
   "metadata": {},
   "outputs": [],
   "source": [
    "assets_group_3060 = assets_group_3060.set_index('merge_index',)"
   ]
  },
  {
   "cell_type": "code",
   "execution_count": 266,
   "metadata": {},
   "outputs": [],
   "source": [
    "assets_group_3060 = assets_group_3060.sort_index()"
   ]
  },
  {
   "cell_type": "code",
   "execution_count": 267,
   "metadata": {},
   "outputs": [],
   "source": [
    "cbiz_asset_and_book_3060_merge = cbiz_asset_and_book_3060_merge.sort_index()\n",
    "# cbiz_asset_and_book_3060_merge"
   ]
  },
  {
   "cell_type": "code",
   "execution_count": 268,
   "metadata": {},
   "outputs": [
    {
     "name": "stdout",
     "output_type": "stream",
     "text": [
      "3\n",
      "3\n"
     ]
    }
   ],
   "source": [
    "print(assets_group_3060.index.nunique())\n",
    "print(cbiz_asset_and_book_3060_merge.index.nunique())"
   ]
  },
  {
   "cell_type": "code",
   "execution_count": 269,
   "metadata": {},
   "outputs": [],
   "source": [
    "cbiz_infor_3060_matched = cbiz_asset_and_book_3060_merge[cbiz_asset_and_book_3060_merge.index.isin(assets_group_3060.index)]\n",
    "# cbiz_infor_3060_matched"
   ]
  },
  {
   "cell_type": "code",
   "execution_count": 270,
   "metadata": {},
   "outputs": [],
   "source": [
    "# there are no missing records for 3060\n",
    "missing_3060_asset_register_records = cbiz_asset_and_book_3060_merge[~cbiz_asset_and_book_3060_merge.index.isin(assets_group_3060.index)]\n",
    "# missing_3060_asset_register_records"
   ]
  },
  {
   "cell_type": "code",
   "execution_count": 271,
   "metadata": {},
   "outputs": [
    {
     "data": {
      "text/plain": [
       "(0, 40)"
      ]
     },
     "execution_count": 271,
     "metadata": {},
     "output_type": "execute_result"
    }
   ],
   "source": [
    "missing_3060_asset_register_records.shape"
   ]
  },
  {
   "cell_type": "code",
   "execution_count": 272,
   "metadata": {},
   "outputs": [
    {
     "data": {
      "text/plain": [
       " Acquired Value*    $0.00\n",
       "Basis               $0.00\n",
       " Current Accum*     $0.00\n",
       " NBV*               $0.00\n",
       "dtype: float64"
      ]
     },
     "execution_count": 272,
     "metadata": {},
     "output_type": "execute_result"
    }
   ],
   "source": [
    "missing_3060_asset_register_records[[' Acquired Value* ', 'Basis', \n",
    "                                     ' Current Accum* ', ' NBV* ',]].sum()"
   ]
  },
  {
   "cell_type": "code",
   "execution_count": 273,
   "metadata": {},
   "outputs": [
    {
     "data": {
      "text/plain": [
       "23840.65"
      ]
     },
     "execution_count": 273,
     "metadata": {},
     "output_type": "execute_result"
    }
   ],
   "source": [
    "asset_register_3060_cost = assets_group_3060['PostingBookBasis'].sum()\n",
    "asset_register_3060_cost"
   ]
  },
  {
   "cell_type": "code",
   "execution_count": 274,
   "metadata": {},
   "outputs": [
    {
     "data": {
      "text/plain": [
       " Acquired Value*    $23,840.65\n",
       " Current Accum*      $6,401.74\n",
       " NBV*               $17,438.91\n",
       "dtype: float64"
      ]
     },
     "execution_count": 274,
     "metadata": {},
     "output_type": "execute_result"
    }
   ],
   "source": [
    "cbiz_asset_and_book_3060_merge[[' Acquired Value* ',  ' Current Accum* ', ' NBV* ']].sum()"
   ]
  },
  {
   "cell_type": "code",
   "execution_count": 275,
   "metadata": {},
   "outputs": [],
   "source": [
    "cbiz_asset_and_book_3060_merge.to_csv(\n",
    "    r'C:\\Users\\mikra\\OneDrive\\Documents\\Work\\conversion\\SIT3\\november_AX2\\fixed_assets\\mmc\\output\\output_3060\\sit3_cbiz_asset_and_book_3060_merge.csv'\n",
    ")\n",
    "\n",
    "assets_group_3060.to_csv(\n",
    "    r'C:\\Users\\mikra\\OneDrive\\Documents\\Work\\conversion\\SIT3\\november_AX2\\fixed_assets\\mmc\\output\\output_3060\\sit3_fsm_asset_register_3060.csv'\n",
    ")\n",
    "\n",
    "missing_3060_asset_register_records.to_csv(\n",
    "    r'C:\\Users\\mikra\\OneDrive\\Documents\\Work\\conversion\\SIT3\\november_AX2\\fixed_assets\\mmc\\output\\output_3060\\sit3_assets_missing_from_register_3060.csv'\n",
    ")\n",
    "\n"
   ]
  },
  {
   "cell_type": "markdown",
   "metadata": {},
   "source": [
    "### Find 2000 records that are missing from the FSM asset register"
   ]
  },
  {
   "cell_type": "code",
   "execution_count": 276,
   "metadata": {},
   "outputs": [],
   "source": [
    "assets_group_2000 = fsm_asset_register_groupby_company.get_group('2000')"
   ]
  },
  {
   "cell_type": "code",
   "execution_count": 277,
   "metadata": {},
   "outputs": [
    {
     "name": "stderr",
     "output_type": "stream",
     "text": [
      "<ipython-input-277-f7c44cc7a4a7>:1: SettingWithCopyWarning: \n",
      "A value is trying to be set on a copy of a slice from a DataFrame.\n",
      "Try using .loc[row_indexer,col_indexer] = value instead\n",
      "\n",
      "See the caveats in the documentation: https://pandas.pydata.org/pandas-docs/stable/user_guide/indexing.html#returning-a-view-versus-a-copy\n",
      "  assets_group_2000['merge_index'] = assets_group_2000['Reference1'].apply(lambda x: int(x.split('_')[1]))\n"
     ]
    }
   ],
   "source": [
    "assets_group_2000['merge_index'] = assets_group_2000['Reference1'].apply(lambda x: int(x.split('_')[1]))"
   ]
  },
  {
   "cell_type": "code",
   "execution_count": 278,
   "metadata": {},
   "outputs": [
    {
     "name": "stderr",
     "output_type": "stream",
     "text": [
      "<ipython-input-278-919ec3115047>:1: SettingWithCopyWarning: \n",
      "A value is trying to be set on a copy of a slice from a DataFrame.\n",
      "Try using .loc[row_indexer,col_indexer] = value instead\n",
      "\n",
      "See the caveats in the documentation: https://pandas.pydata.org/pandas-docs/stable/user_guide/indexing.html#returning-a-view-versus-a-copy\n",
      "  assets_group_2000['cbiz_index'] = assets_group_2000['Reference1'].apply(lambda x: int(x.split('_')[1]))\n"
     ]
    }
   ],
   "source": [
    "assets_group_2000['cbiz_index'] = assets_group_2000['Reference1'].apply(lambda x: int(x.split('_')[1]))"
   ]
  },
  {
   "cell_type": "code",
   "execution_count": 279,
   "metadata": {},
   "outputs": [],
   "source": [
    "assets_group_2000 = assets_group_2000.set_index('merge_index',)"
   ]
  },
  {
   "cell_type": "code",
   "execution_count": 280,
   "metadata": {},
   "outputs": [],
   "source": [
    "assets_group_2000 = assets_group_2000.sort_index()"
   ]
  },
  {
   "cell_type": "code",
   "execution_count": 281,
   "metadata": {},
   "outputs": [],
   "source": [
    "cbiz_asset_and_book_2000_merge = cbiz_asset_and_book_2000_merge.sort_index()\n",
    "# cbiz_asset_and_book_2000_merge"
   ]
  },
  {
   "cell_type": "code",
   "execution_count": 282,
   "metadata": {},
   "outputs": [
    {
     "name": "stdout",
     "output_type": "stream",
     "text": [
      "4\n",
      "4\n"
     ]
    }
   ],
   "source": [
    "print(assets_group_2000.index.nunique())\n",
    "print(cbiz_asset_and_book_2000_merge.index.nunique())"
   ]
  },
  {
   "cell_type": "code",
   "execution_count": 283,
   "metadata": {},
   "outputs": [],
   "source": [
    "cbiz_infor_2000_matched = cbiz_asset_and_book_2000_merge[cbiz_asset_and_book_2000_merge.index.isin(assets_group_2000.index)]\n",
    "# cbiz_infor_2000_matched"
   ]
  },
  {
   "cell_type": "code",
   "execution_count": 284,
   "metadata": {},
   "outputs": [],
   "source": [
    "missing_2000_asset_register_records = cbiz_asset_and_book_2000_merge[~cbiz_asset_and_book_2000_merge.index.isin(assets_group_2000.index)]\n",
    "# missing_2000_asset_register_records"
   ]
  },
  {
   "cell_type": "code",
   "execution_count": 285,
   "metadata": {},
   "outputs": [
    {
     "data": {
      "text/plain": [
       "(0, 40)"
      ]
     },
     "execution_count": 285,
     "metadata": {},
     "output_type": "execute_result"
    }
   ],
   "source": [
    "missing_2000_asset_register_records.shape"
   ]
  },
  {
   "cell_type": "code",
   "execution_count": 286,
   "metadata": {},
   "outputs": [
    {
     "data": {
      "text/plain": [
       " Acquired Value*    $0.00\n",
       "Basis               $0.00\n",
       " Current Accum*     $0.00\n",
       " NBV*               $0.00\n",
       "dtype: float64"
      ]
     },
     "execution_count": 286,
     "metadata": {},
     "output_type": "execute_result"
    }
   ],
   "source": [
    "missing_2000_asset_register_records[[' Acquired Value* ', 'Basis', \n",
    "                                     ' Current Accum* ', ' NBV* ',]].sum()"
   ]
  },
  {
   "cell_type": "code",
   "execution_count": 287,
   "metadata": {},
   "outputs": [],
   "source": [
    "# mmc_group_2000.columns"
   ]
  },
  {
   "cell_type": "code",
   "execution_count": 288,
   "metadata": {},
   "outputs": [
    {
     "data": {
      "text/plain": [
       "PostingBookBasis               $1,008,190.08\n",
       "TotalAccumulatedDepreciation     $105,692.20\n",
       "dtype: float64"
      ]
     },
     "execution_count": 288,
     "metadata": {},
     "output_type": "execute_result"
    }
   ],
   "source": [
    "# there are erroneous cost records in the 2000 asset register but accum. dep. is correct\n",
    "asset_register_2000_cost = assets_group_2000[['PostingBookBasis', 'TotalAccumulatedDepreciation']].sum()\n",
    "asset_register_2000_cost"
   ]
  },
  {
   "cell_type": "code",
   "execution_count": 289,
   "metadata": {},
   "outputs": [],
   "source": [
    "missing_2000_asset_register_records = cbiz_asset_and_book_2000_merge[~cbiz_asset_and_book_2000_merge.index.isin(assets_group_2000.index)]\n",
    "# missing_2000_asset_register_records"
   ]
  },
  {
   "cell_type": "markdown",
   "metadata": {},
   "source": [
    "### Find 2000 records that exist in the fsm asset register but have incorrect cost values"
   ]
  },
  {
   "cell_type": "code",
   "execution_count": 290,
   "metadata": {},
   "outputs": [],
   "source": [
    "cbiz_infor_2000_cost_diffs = cbiz_infor_2000_matched[' Acquired Value* '].compare(assets_group_2000['PostingBookBasis'])\n",
    "# cbiz_infor_2000_cost_diffs"
   ]
  },
  {
   "cell_type": "code",
   "execution_count": 291,
   "metadata": {},
   "outputs": [
    {
     "data": {
      "text/plain": [
       "self    $0.00\n",
       "other   $0.00\n",
       "dtype: float64"
      ]
     },
     "execution_count": 291,
     "metadata": {},
     "output_type": "execute_result"
    }
   ],
   "source": [
    "cbiz_infor_2000_cost_diffs[['self', 'other']].sum()"
   ]
  },
  {
   "cell_type": "code",
   "execution_count": 292,
   "metadata": {},
   "outputs": [],
   "source": [
    "asset_register_2000_records_in_error_cost = cbiz_infor_2000_cost_diffs['self'].sum() - cbiz_infor_2000_cost_diffs['other'].sum()"
   ]
  },
  {
   "cell_type": "code",
   "execution_count": 293,
   "metadata": {},
   "outputs": [
    {
     "data": {
      "text/plain": [
       "PostingBookBasis               $1,008,190.08\n",
       "TotalAccumulatedDepreciation     $105,692.20\n",
       "dtype: float64"
      ]
     },
     "execution_count": 293,
     "metadata": {},
     "output_type": "execute_result"
    }
   ],
   "source": [
    "# sum of the cost from FSM 3000 asset register, missing records (6008) cost, and asset register records\n",
    "# with incorrect cost field ties to the cost of the cbiz_asset_and_book_3000_merge file\n",
    "asset_register_2000_cost + asset_register_2000_records_in_error_cost"
   ]
  },
  {
   "cell_type": "code",
   "execution_count": 294,
   "metadata": {},
   "outputs": [
    {
     "data": {
      "text/plain": [
       " Acquired Value*    $1,008,190.08\n",
       " Current Accum*       $105,692.20\n",
       " NBV*                 $902,497.88\n",
       "dtype: float64"
      ]
     },
     "execution_count": 294,
     "metadata": {},
     "output_type": "execute_result"
    }
   ],
   "source": [
    "cbiz_asset_and_book_2000_merge[[' Acquired Value* ',  ' Current Accum* ', ' NBV* ']].sum()"
   ]
  },
  {
   "cell_type": "code",
   "execution_count": 295,
   "metadata": {},
   "outputs": [],
   "source": [
    "cbiz_infor_2000_cost_diffs = cbiz_infor_2000_matched[' Acquired Value* '].compare(assets_group_2000['PostingBookBasis'])\n",
    "cbiz_infor_2000_cost_diffs.rename(columns={'self': 'load file', 'other': 'FSM'}, inplace=True)\n",
    "cbiz_infor_2000_cost_diffs.rename_axis('Load ID', inplace=True)"
   ]
  },
  {
   "cell_type": "code",
   "execution_count": 296,
   "metadata": {},
   "outputs": [],
   "source": [
    "cbiz_asset_and_book_2000_merge.to_csv(\n",
    "    r'C:\\Users\\mikra\\OneDrive\\Documents\\Work\\conversion\\SIT3\\november_AX2\\fixed_assets\\mmc\\output\\output_2000\\sit3_cbiz_asset_and_book_2000_merge.csv'\n",
    ")\n",
    "\n",
    "assets_group_2000.to_csv(\n",
    "    r'C:\\Users\\mikra\\OneDrive\\Documents\\Work\\conversion\\SIT3\\november_AX2\\fixed_assets\\mmc\\output\\output_2000\\sit3_fsm_asset_register_2000.csv'\n",
    ")\n",
    "\n",
    "missing_2000_asset_register_records.to_csv(\n",
    "    r'C:\\Users\\mikra\\OneDrive\\Documents\\Work\\conversion\\SIT3\\november_AX2\\fixed_assets\\mmc\\output\\output_2000\\sit3_assets_missing_from_register_2000.csv'\n",
    ")\n",
    "\n",
    "cbiz_infor_2000_cost_diffs.to_csv(\n",
    "    r'C:\\Users\\mikra\\OneDrive\\Documents\\Work\\conversion\\SIT3\\november_AX2\\fixed_assets\\mmc\\output\\output_2000\\sit3_assets_with_wrong_cost_2000.csv'\n",
    ")"
   ]
  },
  {
   "cell_type": "markdown",
   "metadata": {},
   "source": [
    "### Find 2010 records that are missing from the FSM asset register"
   ]
  },
  {
   "cell_type": "code",
   "execution_count": 297,
   "metadata": {},
   "outputs": [],
   "source": [
    "assets_group_2010 = fsm_asset_register_groupby_company.get_group('2010')"
   ]
  },
  {
   "cell_type": "code",
   "execution_count": 298,
   "metadata": {},
   "outputs": [
    {
     "data": {
      "text/plain": [
       " Acquired Value*    $61,384,280.00\n",
       "Basis               $61,384,279.97\n",
       " Current Accum*     $21,131,212.00\n",
       " NBV*               $40,253,077.00\n",
       "dtype: float64"
      ]
     },
     "execution_count": 298,
     "metadata": {},
     "output_type": "execute_result"
    }
   ],
   "source": [
    "cbiz_asset_and_book_2010_merge[[' Acquired Value* ', 'Basis', ' Current Accum* ', ' NBV* ']].sum()"
   ]
  },
  {
   "cell_type": "code",
   "execution_count": 299,
   "metadata": {},
   "outputs": [
    {
     "name": "stderr",
     "output_type": "stream",
     "text": [
      "<ipython-input-299-bbda85f267aa>:1: SettingWithCopyWarning: \n",
      "A value is trying to be set on a copy of a slice from a DataFrame.\n",
      "Try using .loc[row_indexer,col_indexer] = value instead\n",
      "\n",
      "See the caveats in the documentation: https://pandas.pydata.org/pandas-docs/stable/user_guide/indexing.html#returning-a-view-versus-a-copy\n",
      "  assets_group_2010['merge_index'] = assets_group_2010['Reference1'].apply(lambda x: int(x.split('_')[1]))\n"
     ]
    }
   ],
   "source": [
    "assets_group_2010['merge_index'] = assets_group_2010['Reference1'].apply(lambda x: int(x.split('_')[1]))"
   ]
  },
  {
   "cell_type": "code",
   "execution_count": 300,
   "metadata": {},
   "outputs": [
    {
     "name": "stderr",
     "output_type": "stream",
     "text": [
      "<ipython-input-300-a57b96247601>:1: SettingWithCopyWarning: \n",
      "A value is trying to be set on a copy of a slice from a DataFrame.\n",
      "Try using .loc[row_indexer,col_indexer] = value instead\n",
      "\n",
      "See the caveats in the documentation: https://pandas.pydata.org/pandas-docs/stable/user_guide/indexing.html#returning-a-view-versus-a-copy\n",
      "  assets_group_2010['cbiz_index'] = assets_group_2010['Reference1'].apply(lambda x: int(x.split('_')[1]))\n"
     ]
    }
   ],
   "source": [
    "assets_group_2010['cbiz_index'] = assets_group_2010['Reference1'].apply(lambda x: int(x.split('_')[1]))"
   ]
  },
  {
   "cell_type": "code",
   "execution_count": 301,
   "metadata": {},
   "outputs": [],
   "source": [
    "assets_group_2010 = assets_group_2010.set_index('merge_index',)"
   ]
  },
  {
   "cell_type": "code",
   "execution_count": 302,
   "metadata": {},
   "outputs": [],
   "source": [
    "assets_group_2010 = assets_group_2010.sort_index()"
   ]
  },
  {
   "cell_type": "code",
   "execution_count": 303,
   "metadata": {},
   "outputs": [],
   "source": [
    "cbiz_asset_and_book_2010_merge = cbiz_asset_and_book_2010_merge.sort_index()"
   ]
  },
  {
   "cell_type": "code",
   "execution_count": 304,
   "metadata": {},
   "outputs": [
    {
     "name": "stdout",
     "output_type": "stream",
     "text": [
      "778\n",
      "778\n"
     ]
    }
   ],
   "source": [
    "print(assets_group_2010.index.nunique())\n",
    "print(cbiz_asset_and_book_2010_merge.index.nunique())"
   ]
  },
  {
   "cell_type": "code",
   "execution_count": 305,
   "metadata": {},
   "outputs": [],
   "source": [
    "cbiz_infor_2010_matched = cbiz_asset_and_book_2010_merge[cbiz_asset_and_book_2010_merge.index.isin(assets_group_2010.index)]"
   ]
  },
  {
   "cell_type": "code",
   "execution_count": 306,
   "metadata": {},
   "outputs": [],
   "source": [
    "missing_2010_asset_register_records = cbiz_asset_and_book_2010_merge[~cbiz_asset_and_book_2010_merge.index.isin(assets_group_2010.index)]"
   ]
  },
  {
   "cell_type": "code",
   "execution_count": 307,
   "metadata": {
    "scrolled": true
   },
   "outputs": [
    {
     "data": {
      "text/plain": [
       " Acquired Value*    $0.00\n",
       "Basis               $0.00\n",
       " Current Accum*     $0.00\n",
       " NBV*               $0.00\n",
       "dtype: float64"
      ]
     },
     "execution_count": 307,
     "metadata": {},
     "output_type": "execute_result"
    }
   ],
   "source": [
    "missing_2010_asset_register_records[[' Acquired Value* ', 'Basis', \n",
    "                                     ' Current Accum* ', ' NBV* ',]].sum()"
   ]
  },
  {
   "cell_type": "code",
   "execution_count": 308,
   "metadata": {},
   "outputs": [
    {
     "data": {
      "text/plain": [
       "0.0"
      ]
     },
     "execution_count": 308,
     "metadata": {},
     "output_type": "execute_result"
    }
   ],
   "source": [
    "missing_2010_asset_register_records_cost = missing_2010_asset_register_records[' Acquired Value* '].sum()\n",
    "missing_2010_asset_register_records_cost"
   ]
  },
  {
   "cell_type": "markdown",
   "metadata": {},
   "source": [
    "### Find 2010 records that exist in the fsm asset register but have incorrect cost values"
   ]
  },
  {
   "cell_type": "code",
   "execution_count": 309,
   "metadata": {},
   "outputs": [],
   "source": [
    "cbiz_infor_2010_cost_diffs = cbiz_infor_2010_matched[' Acquired Value* '].compare(assets_group_2010['PostingBookBasis'])\n",
    "# cbiz_infor_2010_cost_diffs"
   ]
  },
  {
   "cell_type": "code",
   "execution_count": 310,
   "metadata": {},
   "outputs": [
    {
     "data": {
      "text/plain": [
       "self    $9,558,361.00\n",
       "other   $9,558,360.97\n",
       "dtype: float64"
      ]
     },
     "execution_count": 310,
     "metadata": {},
     "output_type": "execute_result"
    }
   ],
   "source": [
    "cbiz_infor_2010_cost_diffs[['self', 'other']].sum()"
   ]
  },
  {
   "cell_type": "code",
   "execution_count": 311,
   "metadata": {},
   "outputs": [
    {
     "data": {
      "text/plain": [
       "0.029999999329447746"
      ]
     },
     "execution_count": 311,
     "metadata": {},
     "output_type": "execute_result"
    }
   ],
   "source": [
    "asset_register_2010_records_in_error_cost = cbiz_infor_2010_cost_diffs['self'].sum() - cbiz_infor_2010_cost_diffs['other'].sum()\n",
    "asset_register_2010_records_in_error_cost"
   ]
  },
  {
   "cell_type": "code",
   "execution_count": 312,
   "metadata": {},
   "outputs": [
    {
     "data": {
      "text/plain": [
       "61384279.97"
      ]
     },
     "execution_count": 312,
     "metadata": {},
     "output_type": "execute_result"
    }
   ],
   "source": [
    "asset_register_2010_cost = assets_group_2010['PostingBookBasis'].sum()\n",
    "asset_register_2010_cost"
   ]
  },
  {
   "cell_type": "code",
   "execution_count": 313,
   "metadata": {},
   "outputs": [
    {
     "data": {
      "text/plain": [
       " Acquired Value*    $61,384,280.00\n",
       " Current Accum*     $21,131,212.00\n",
       " NBV*               $40,253,077.00\n",
       "dtype: float64"
      ]
     },
     "execution_count": 313,
     "metadata": {},
     "output_type": "execute_result"
    }
   ],
   "source": [
    "cbiz_asset_and_book_2010_merge[[' Acquired Value* ',  ' Current Accum* ', ' NBV* ']].sum()"
   ]
  },
  {
   "cell_type": "code",
   "execution_count": 314,
   "metadata": {},
   "outputs": [
    {
     "data": {
      "text/plain": [
       "61384280.0"
      ]
     },
     "execution_count": 314,
     "metadata": {},
     "output_type": "execute_result"
    }
   ],
   "source": [
    "asset_register_2010_cost + asset_register_2010_records_in_error_cost + missing_2010_asset_register_records_cost"
   ]
  },
  {
   "cell_type": "code",
   "execution_count": 315,
   "metadata": {},
   "outputs": [],
   "source": [
    "cbiz_infor_2010_cost_diffs = cbiz_infor_2010_matched[' Acquired Value* '].compare(assets_group_2010['PostingBookBasis'])\n",
    "cbiz_infor_2010_cost_diffs.rename(columns={'self': 'load file', 'other': 'FSM'}, inplace=True)\n",
    "cbiz_infor_2010_cost_diffs.rename_axis('Load ID', inplace=True)\n",
    "\n"
   ]
  },
  {
   "cell_type": "code",
   "execution_count": 316,
   "metadata": {},
   "outputs": [],
   "source": [
    "cbiz_asset_and_book_2010_merge.to_csv(\n",
    "    r'C:\\Users\\mikra\\OneDrive\\Documents\\Work\\conversion\\SIT3\\november_AX2\\fixed_assets\\mmc\\output\\output_2010\\sit3_cbiz_asset_and_book_2010_merge.csv'\n",
    ")\n",
    "\n",
    "assets_group_2010.to_csv(\n",
    "    r'C:\\Users\\mikra\\OneDrive\\Documents\\Work\\conversion\\SIT3\\november_AX2\\fixed_assets\\mmc\\output\\output_2010\\sit3_fsm_asset_register_2010.csv'\n",
    ")\n",
    "\n",
    "missing_2010_asset_register_records.to_csv(\n",
    "    r'C:\\Users\\mikra\\OneDrive\\Documents\\Work\\conversion\\SIT3\\november_AX2\\fixed_assets\\mmc\\output\\output_2010\\sit3_assets_missing_from_register_2010.csv'\n",
    ")\n",
    "\n",
    "cbiz_infor_2010_cost_diffs.to_csv(\n",
    "    r'C:\\Users\\mikra\\OneDrive\\Documents\\Work\\conversion\\SIT3\\november_AX2\\fixed_assets\\mmc\\output\\output_2010\\sit3_assets_with_wrong_cost_2010.csv'\n",
    ")"
   ]
  },
  {
   "cell_type": "markdown",
   "metadata": {},
   "source": [
    "### Find 2020 records that are missing from the FSM asset register"
   ]
  },
  {
   "cell_type": "code",
   "execution_count": 317,
   "metadata": {},
   "outputs": [
    {
     "data": {
      "text/plain": [
       " Acquired Value*    $19,764,903.00\n",
       "Basis               $19,764,902.67\n",
       " Current Accum*     $10,486,388.00\n",
       " NBV*                $9,278,519.00\n",
       "dtype: float64"
      ]
     },
     "execution_count": 317,
     "metadata": {},
     "output_type": "execute_result"
    }
   ],
   "source": [
    "cbiz_asset_and_book_2020_merge[[' Acquired Value* ', 'Basis', ' Current Accum* ', ' NBV* ']].sum()"
   ]
  },
  {
   "cell_type": "code",
   "execution_count": 318,
   "metadata": {},
   "outputs": [],
   "source": [
    "assets_group_2020 = fsm_asset_register_groupby_company.get_group('2020')"
   ]
  },
  {
   "cell_type": "code",
   "execution_count": 319,
   "metadata": {},
   "outputs": [
    {
     "name": "stderr",
     "output_type": "stream",
     "text": [
      "<ipython-input-319-a9f46e339fa0>:1: SettingWithCopyWarning: \n",
      "A value is trying to be set on a copy of a slice from a DataFrame.\n",
      "Try using .loc[row_indexer,col_indexer] = value instead\n",
      "\n",
      "See the caveats in the documentation: https://pandas.pydata.org/pandas-docs/stable/user_guide/indexing.html#returning-a-view-versus-a-copy\n",
      "  assets_group_2020['merge_index'] = assets_group_2020['Reference1'].apply(lambda x: int(x.split('_')[1]))\n"
     ]
    }
   ],
   "source": [
    "assets_group_2020['merge_index'] = assets_group_2020['Reference1'].apply(lambda x: int(x.split('_')[1]))"
   ]
  },
  {
   "cell_type": "code",
   "execution_count": 320,
   "metadata": {},
   "outputs": [
    {
     "name": "stderr",
     "output_type": "stream",
     "text": [
      "<ipython-input-320-55f41cfc39c6>:1: SettingWithCopyWarning: \n",
      "A value is trying to be set on a copy of a slice from a DataFrame.\n",
      "Try using .loc[row_indexer,col_indexer] = value instead\n",
      "\n",
      "See the caveats in the documentation: https://pandas.pydata.org/pandas-docs/stable/user_guide/indexing.html#returning-a-view-versus-a-copy\n",
      "  assets_group_2020['cbiz_index'] = assets_group_2020['Reference1'].apply(lambda x: int(x.split('_')[1]))\n"
     ]
    }
   ],
   "source": [
    "assets_group_2020['cbiz_index'] = assets_group_2020['Reference1'].apply(lambda x: int(x.split('_')[1]))"
   ]
  },
  {
   "cell_type": "code",
   "execution_count": 321,
   "metadata": {},
   "outputs": [],
   "source": [
    "assets_group_2020 = assets_group_2020.set_index('merge_index',)"
   ]
  },
  {
   "cell_type": "code",
   "execution_count": 322,
   "metadata": {},
   "outputs": [],
   "source": [
    "assets_group_2020 = assets_group_2020.sort_index()"
   ]
  },
  {
   "cell_type": "code",
   "execution_count": 323,
   "metadata": {},
   "outputs": [],
   "source": [
    "cbiz_asset_and_book_2020_merge = cbiz_asset_and_book_2020_merge.sort_index()"
   ]
  },
  {
   "cell_type": "code",
   "execution_count": 324,
   "metadata": {},
   "outputs": [
    {
     "name": "stdout",
     "output_type": "stream",
     "text": [
      "428\n",
      "428\n"
     ]
    }
   ],
   "source": [
    "print(assets_group_2020.index.nunique())\n",
    "print(cbiz_asset_and_book_2020_merge.index.nunique())"
   ]
  },
  {
   "cell_type": "code",
   "execution_count": 325,
   "metadata": {},
   "outputs": [],
   "source": [
    "cbiz_infor_2020_matched = cbiz_asset_and_book_2020_merge[cbiz_asset_and_book_2020_merge.index.isin(assets_group_2020.index)]"
   ]
  },
  {
   "cell_type": "code",
   "execution_count": 326,
   "metadata": {},
   "outputs": [],
   "source": [
    "missing_2020_asset_register_records = cbiz_asset_and_book_2020_merge[~cbiz_asset_and_book_2020_merge.index.isin(assets_group_2020.index)]"
   ]
  },
  {
   "cell_type": "code",
   "execution_count": 327,
   "metadata": {},
   "outputs": [
    {
     "data": {
      "text/plain": [
       " Acquired Value*    $0.00\n",
       "Basis               $0.00\n",
       " Current Accum*     $0.00\n",
       " NBV*               $0.00\n",
       "dtype: float64"
      ]
     },
     "execution_count": 327,
     "metadata": {},
     "output_type": "execute_result"
    }
   ],
   "source": [
    "missing_2020_asset_register_records[[' Acquired Value* ', 'Basis', \n",
    "                                     ' Current Accum* ', ' NBV* ',]].sum()"
   ]
  },
  {
   "cell_type": "code",
   "execution_count": 328,
   "metadata": {},
   "outputs": [
    {
     "data": {
      "text/plain": [
       "0.0"
      ]
     },
     "execution_count": 328,
     "metadata": {},
     "output_type": "execute_result"
    }
   ],
   "source": [
    "missing_2020_asset_register_records_cost = missing_2020_asset_register_records[' Acquired Value* '].sum()\n",
    "missing_2020_asset_register_records_cost"
   ]
  },
  {
   "cell_type": "markdown",
   "metadata": {},
   "source": [
    "### Find 2020 records that exist in the fsm asset register but have incorrect cost values"
   ]
  },
  {
   "cell_type": "code",
   "execution_count": 329,
   "metadata": {},
   "outputs": [],
   "source": [
    "cbiz_infor_2020_cost_diffs = cbiz_infor_2020_matched[' Acquired Value* '].compare(assets_group_2020['PostingBookBasis'])\n",
    "# cbiz_infor_2020_cost_diffs"
   ]
  },
  {
   "cell_type": "code",
   "execution_count": 330,
   "metadata": {},
   "outputs": [
    {
     "data": {
      "text/plain": [
       "self    $304,210.00\n",
       "other   $304,209.67\n",
       "dtype: float64"
      ]
     },
     "execution_count": 330,
     "metadata": {},
     "output_type": "execute_result"
    }
   ],
   "source": [
    "cbiz_infor_2020_cost_diffs[['self', 'other']].sum()"
   ]
  },
  {
   "cell_type": "code",
   "execution_count": 331,
   "metadata": {},
   "outputs": [
    {
     "data": {
      "text/plain": [
       "0.3300000000745058"
      ]
     },
     "execution_count": 331,
     "metadata": {},
     "output_type": "execute_result"
    }
   ],
   "source": [
    "asset_register_2020_records_in_error_cost = cbiz_infor_2020_cost_diffs['self'].sum() - cbiz_infor_2020_cost_diffs['other'].sum()\n",
    "asset_register_2020_records_in_error_cost"
   ]
  },
  {
   "cell_type": "code",
   "execution_count": 332,
   "metadata": {},
   "outputs": [
    {
     "data": {
      "text/plain": [
       "19764902.67"
      ]
     },
     "execution_count": 332,
     "metadata": {},
     "output_type": "execute_result"
    }
   ],
   "source": [
    "asset_register_2020_cost = assets_group_2020['PostingBookBasis'].sum()\n",
    "asset_register_2020_cost"
   ]
  },
  {
   "cell_type": "code",
   "execution_count": 333,
   "metadata": {},
   "outputs": [
    {
     "data": {
      "text/plain": [
       " Acquired Value*    $19,764,903.00\n",
       " Current Accum*     $10,486,388.00\n",
       " NBV*                $9,278,519.00\n",
       "dtype: float64"
      ]
     },
     "execution_count": 333,
     "metadata": {},
     "output_type": "execute_result"
    }
   ],
   "source": [
    "cbiz_asset_and_book_2020_merge[[' Acquired Value* ',  ' Current Accum* ', ' NBV* ']].sum()"
   ]
  },
  {
   "cell_type": "code",
   "execution_count": 334,
   "metadata": {},
   "outputs": [
    {
     "data": {
      "text/plain": [
       "19764903.0"
      ]
     },
     "execution_count": 334,
     "metadata": {},
     "output_type": "execute_result"
    }
   ],
   "source": [
    "asset_register_2020_cost + asset_register_2020_records_in_error_cost + missing_2020_asset_register_records_cost"
   ]
  },
  {
   "cell_type": "code",
   "execution_count": 335,
   "metadata": {},
   "outputs": [],
   "source": [
    "cbiz_infor_2020_cost_diffs = cbiz_infor_2020_matched[' Acquired Value* '].compare(assets_group_2020['PostingBookBasis'])\n",
    "cbiz_infor_2020_cost_diffs.rename(columns={'self': 'load file', 'other': 'FSM'}, inplace=True)\n",
    "cbiz_infor_2020_cost_diffs.rename_axis('Load ID', inplace=True)"
   ]
  },
  {
   "cell_type": "code",
   "execution_count": 336,
   "metadata": {},
   "outputs": [],
   "source": [
    "cbiz_asset_and_book_2020_merge.to_csv(\n",
    "    r'C:\\Users\\mikra\\OneDrive\\Documents\\Work\\conversion\\SIT3\\november_AX2\\fixed_assets\\mmc\\output\\output_2020\\sit3_cbiz_asset_and_book_2020_merge.csv'\n",
    ")\n",
    "\n",
    "assets_group_2020.to_csv(\n",
    "    r'C:\\Users\\mikra\\OneDrive\\Documents\\Work\\conversion\\SIT3\\november_AX2\\fixed_assets\\mmc\\output\\output_2020\\sit3_fsm_asset_register_2020.csv'\n",
    ")\n",
    "\n",
    "missing_2020_asset_register_records.to_csv(\n",
    "    r'C:\\Users\\mikra\\OneDrive\\Documents\\Work\\conversion\\SIT3\\november_AX2\\fixed_assets\\mmc\\output\\output_2020\\sit3_assets_missing_from_register_2020.csv'\n",
    ")\n",
    "\n",
    "cbiz_infor_2020_cost_diffs.to_csv(\n",
    "    r'C:\\Users\\mikra\\OneDrive\\Documents\\Work\\conversion\\SIT3\\november_AX2\\fixed_assets\\mmc\\output\\output_2020\\sit3_assets_with_wrong_cost_2020.csv'\n",
    ")"
   ]
  },
  {
   "cell_type": "markdown",
   "metadata": {},
   "source": [
    "### Find 2030 records that are missing from the FSM asset register"
   ]
  },
  {
   "cell_type": "code",
   "execution_count": 337,
   "metadata": {},
   "outputs": [
    {
     "data": {
      "text/plain": [
       " Acquired Value*    $4,854,391.00\n",
       "Basis               $4,854,390.60\n",
       " Current Accum*     $1,906,454.00\n",
       " NBV*               $2,947,938.00\n",
       "dtype: float64"
      ]
     },
     "execution_count": 337,
     "metadata": {},
     "output_type": "execute_result"
    }
   ],
   "source": [
    "cbiz_asset_and_book_2030_merge[[' Acquired Value* ', 'Basis', ' Current Accum* ', ' NBV* ']].sum()"
   ]
  },
  {
   "cell_type": "code",
   "execution_count": 338,
   "metadata": {},
   "outputs": [],
   "source": [
    "assets_group_2030 = fsm_asset_register_groupby_company.get_group('2030')"
   ]
  },
  {
   "cell_type": "code",
   "execution_count": 339,
   "metadata": {},
   "outputs": [
    {
     "name": "stderr",
     "output_type": "stream",
     "text": [
      "<ipython-input-339-5823e497866d>:1: SettingWithCopyWarning: \n",
      "A value is trying to be set on a copy of a slice from a DataFrame.\n",
      "Try using .loc[row_indexer,col_indexer] = value instead\n",
      "\n",
      "See the caveats in the documentation: https://pandas.pydata.org/pandas-docs/stable/user_guide/indexing.html#returning-a-view-versus-a-copy\n",
      "  assets_group_2030['merge_index'] = assets_group_2030['Reference1'].apply(lambda x: int(x.split('_')[1]))\n"
     ]
    }
   ],
   "source": [
    "assets_group_2030['merge_index'] = assets_group_2030['Reference1'].apply(lambda x: int(x.split('_')[1]))"
   ]
  },
  {
   "cell_type": "code",
   "execution_count": 340,
   "metadata": {},
   "outputs": [
    {
     "name": "stderr",
     "output_type": "stream",
     "text": [
      "<ipython-input-340-c359f9c7e224>:1: SettingWithCopyWarning: \n",
      "A value is trying to be set on a copy of a slice from a DataFrame.\n",
      "Try using .loc[row_indexer,col_indexer] = value instead\n",
      "\n",
      "See the caveats in the documentation: https://pandas.pydata.org/pandas-docs/stable/user_guide/indexing.html#returning-a-view-versus-a-copy\n",
      "  assets_group_2030['cbiz_index'] = assets_group_2030['Reference1'].apply(lambda x: int(x.split('_')[1]))\n"
     ]
    }
   ],
   "source": [
    "assets_group_2030['cbiz_index'] = assets_group_2030['Reference1'].apply(lambda x: int(x.split('_')[1]))"
   ]
  },
  {
   "cell_type": "code",
   "execution_count": 341,
   "metadata": {},
   "outputs": [],
   "source": [
    "assets_group_2030 = assets_group_2030.set_index('merge_index',)"
   ]
  },
  {
   "cell_type": "code",
   "execution_count": 342,
   "metadata": {},
   "outputs": [],
   "source": [
    "assets_group_2030 =assets_group_2030.sort_index()"
   ]
  },
  {
   "cell_type": "code",
   "execution_count": 343,
   "metadata": {},
   "outputs": [],
   "source": [
    "cbiz_asset_and_book_2030_merge = cbiz_asset_and_book_2030_merge.sort_index()"
   ]
  },
  {
   "cell_type": "code",
   "execution_count": 344,
   "metadata": {},
   "outputs": [
    {
     "name": "stdout",
     "output_type": "stream",
     "text": [
      "96\n",
      "96\n"
     ]
    }
   ],
   "source": [
    "print(assets_group_2030.index.nunique())\n",
    "print(cbiz_asset_and_book_2030_merge.index.nunique())"
   ]
  },
  {
   "cell_type": "code",
   "execution_count": 345,
   "metadata": {},
   "outputs": [],
   "source": [
    "cbiz_infor_2030_matched = cbiz_asset_and_book_2030_merge[cbiz_asset_and_book_2030_merge.index.isin(assets_group_2030.index)]"
   ]
  },
  {
   "cell_type": "code",
   "execution_count": 346,
   "metadata": {},
   "outputs": [],
   "source": [
    "missing_2030_asset_register_records = cbiz_asset_and_book_2030_merge[~cbiz_asset_and_book_2030_merge.index.isin(assets_group_2030.index)]"
   ]
  },
  {
   "cell_type": "code",
   "execution_count": 347,
   "metadata": {},
   "outputs": [
    {
     "data": {
      "text/plain": [
       " Acquired Value*    $0.00\n",
       "Basis               $0.00\n",
       " Current Accum*     $0.00\n",
       " NBV*               $0.00\n",
       "dtype: float64"
      ]
     },
     "execution_count": 347,
     "metadata": {},
     "output_type": "execute_result"
    }
   ],
   "source": [
    "missing_2030_asset_register_records[[' Acquired Value* ', 'Basis', \n",
    "                                     ' Current Accum* ', ' NBV* ',]].sum()"
   ]
  },
  {
   "cell_type": "code",
   "execution_count": 348,
   "metadata": {},
   "outputs": [
    {
     "data": {
      "text/plain": [
       "0.0"
      ]
     },
     "execution_count": 348,
     "metadata": {},
     "output_type": "execute_result"
    }
   ],
   "source": [
    "missing_2030_asset_register_records_cost = missing_2030_asset_register_records[' Acquired Value* '].sum()\n",
    "missing_2030_asset_register_records_cost"
   ]
  },
  {
   "cell_type": "markdown",
   "metadata": {},
   "source": [
    "### Find 2030 records that exist in the fsm asset register but have incorrect cost values"
   ]
  },
  {
   "cell_type": "code",
   "execution_count": 349,
   "metadata": {},
   "outputs": [],
   "source": [
    "cbiz_infor_2030_cost_diffs = cbiz_infor_2030_matched[' Acquired Value* '].compare(assets_group_2030['PostingBookBasis'])\n",
    "# cbiz_infor_2030_cost_diffs"
   ]
  },
  {
   "cell_type": "code",
   "execution_count": 350,
   "metadata": {},
   "outputs": [
    {
     "data": {
      "text/plain": [
       "self    $167,798.00\n",
       "other   $167,797.60\n",
       "dtype: float64"
      ]
     },
     "execution_count": 350,
     "metadata": {},
     "output_type": "execute_result"
    }
   ],
   "source": [
    "cbiz_infor_2030_cost_diffs[['self', 'other']].sum()"
   ]
  },
  {
   "cell_type": "code",
   "execution_count": 351,
   "metadata": {},
   "outputs": [
    {
     "data": {
      "text/plain": [
       "0.39999999999417923"
      ]
     },
     "execution_count": 351,
     "metadata": {},
     "output_type": "execute_result"
    }
   ],
   "source": [
    "asset_register_2030_records_in_error_cost = cbiz_infor_2030_cost_diffs['self'].sum() - cbiz_infor_2030_cost_diffs['other'].sum()\n",
    "asset_register_2030_records_in_error_cost"
   ]
  },
  {
   "cell_type": "code",
   "execution_count": 352,
   "metadata": {},
   "outputs": [
    {
     "data": {
      "text/plain": [
       "4854390.6"
      ]
     },
     "execution_count": 352,
     "metadata": {},
     "output_type": "execute_result"
    }
   ],
   "source": [
    "asset_register_2030_cost = assets_group_2030['PostingBookBasis'].sum()\n",
    "asset_register_2030_cost"
   ]
  },
  {
   "cell_type": "code",
   "execution_count": 353,
   "metadata": {},
   "outputs": [
    {
     "data": {
      "text/plain": [
       " Acquired Value*    $4,854,391.00\n",
       " Current Accum*     $1,906,454.00\n",
       " NBV*               $2,947,938.00\n",
       "dtype: float64"
      ]
     },
     "execution_count": 353,
     "metadata": {},
     "output_type": "execute_result"
    }
   ],
   "source": [
    "cbiz_asset_and_book_2030_merge[[' Acquired Value* ',  ' Current Accum* ', ' NBV* ']].sum()"
   ]
  },
  {
   "cell_type": "code",
   "execution_count": 354,
   "metadata": {},
   "outputs": [
    {
     "data": {
      "text/plain": [
       "4854391.0"
      ]
     },
     "execution_count": 354,
     "metadata": {},
     "output_type": "execute_result"
    }
   ],
   "source": [
    "asset_register_2030_cost + asset_register_2030_records_in_error_cost + missing_2030_asset_register_records_cost"
   ]
  },
  {
   "cell_type": "code",
   "execution_count": 355,
   "metadata": {},
   "outputs": [],
   "source": [
    "cbiz_infor_2030_cost_diffs = cbiz_infor_2030_matched[' Acquired Value* '].compare(assets_group_2030['PostingBookBasis'])\n",
    "cbiz_infor_2030_cost_diffs.rename(columns={'self': 'load file', 'other': 'FSM'}, inplace=True)\n",
    "cbiz_infor_2030_cost_diffs.rename_axis('Load ID', inplace=True)"
   ]
  },
  {
   "cell_type": "code",
   "execution_count": 356,
   "metadata": {},
   "outputs": [],
   "source": [
    "\n",
    "\n",
    "cbiz_asset_and_book_2030_merge.to_csv(\n",
    "    r'C:\\Users\\mikra\\OneDrive\\Documents\\Work\\conversion\\SIT3\\november_AX2\\fixed_assets\\mmc\\output\\output_2030\\sit3_cbiz_asset_and_book_2030_merge.csv'\n",
    ")\n",
    "\n",
    "assets_group_2030.to_csv(\n",
    "    r'C:\\Users\\mikra\\OneDrive\\Documents\\Work\\conversion\\SIT3\\november_AX2\\fixed_assets\\mmc\\output\\output_2030\\sit3_fsm_asset_register_2030.csv'\n",
    ")\n",
    "\n",
    "missing_2030_asset_register_records.to_csv(\n",
    "    r'C:\\Users\\mikra\\OneDrive\\Documents\\Work\\conversion\\SIT3\\november_AX2\\fixed_assets\\mmc\\output\\output_2030\\sit3_assets_missing_from_register_2030.csv'\n",
    ")\n",
    "\n",
    "cbiz_infor_2030_cost_diffs.to_csv(\n",
    "    r'C:\\Users\\mikra\\OneDrive\\Documents\\Work\\conversion\\SIT3\\november_AX2\\fixed_assets\\mmc\\output\\output_2030\\sit3_assets_with_wrong_cost_2030.csv'\n",
    ")"
   ]
  },
  {
   "cell_type": "markdown",
   "metadata": {},
   "source": [
    "### Find 2040 records that are missing from the FSM asset register"
   ]
  },
  {
   "cell_type": "code",
   "execution_count": 357,
   "metadata": {},
   "outputs": [
    {
     "data": {
      "text/plain": [
       " Acquired Value*    $38,110,000.00\n",
       "Basis               $38,110,000.00\n",
       " Current Accum*      $9,872,083.00\n",
       " NBV*               $28,237,917.00\n",
       "dtype: float64"
      ]
     },
     "execution_count": 357,
     "metadata": {},
     "output_type": "execute_result"
    }
   ],
   "source": [
    "cbiz_asset_and_book_2040_merge[[' Acquired Value* ', 'Basis', ' Current Accum* ', ' NBV* ']].sum()"
   ]
  },
  {
   "cell_type": "code",
   "execution_count": 358,
   "metadata": {},
   "outputs": [],
   "source": [
    "assets_group_2040 = fsm_asset_register_groupby_company.get_group('2040')\n",
    "\n"
   ]
  },
  {
   "cell_type": "code",
   "execution_count": 359,
   "metadata": {},
   "outputs": [
    {
     "name": "stderr",
     "output_type": "stream",
     "text": [
      "<ipython-input-359-2c223fdc6eae>:1: SettingWithCopyWarning: \n",
      "A value is trying to be set on a copy of a slice from a DataFrame.\n",
      "Try using .loc[row_indexer,col_indexer] = value instead\n",
      "\n",
      "See the caveats in the documentation: https://pandas.pydata.org/pandas-docs/stable/user_guide/indexing.html#returning-a-view-versus-a-copy\n",
      "  assets_group_2040['merge_index'] = assets_group_2040['Reference1'].apply(lambda x: int(x.split('_')[1]))\n"
     ]
    }
   ],
   "source": [
    "assets_group_2040['merge_index'] = assets_group_2040['Reference1'].apply(lambda x: int(x.split('_')[1]))"
   ]
  },
  {
   "cell_type": "code",
   "execution_count": 360,
   "metadata": {},
   "outputs": [
    {
     "name": "stderr",
     "output_type": "stream",
     "text": [
      "<ipython-input-360-a5e1099850be>:1: SettingWithCopyWarning: \n",
      "A value is trying to be set on a copy of a slice from a DataFrame.\n",
      "Try using .loc[row_indexer,col_indexer] = value instead\n",
      "\n",
      "See the caveats in the documentation: https://pandas.pydata.org/pandas-docs/stable/user_guide/indexing.html#returning-a-view-versus-a-copy\n",
      "  assets_group_2040['cbiz_index'] = assets_group_2040['Reference1'].apply(lambda x: int(x.split('_')[1]))\n"
     ]
    }
   ],
   "source": [
    "assets_group_2040['cbiz_index'] = assets_group_2040['Reference1'].apply(lambda x: int(x.split('_')[1]))"
   ]
  },
  {
   "cell_type": "code",
   "execution_count": 361,
   "metadata": {},
   "outputs": [],
   "source": [
    "assets_group_2040= assets_group_2040.set_index('merge_index',)\n",
    "assets_group_2040 = assets_group_2040.sort_index()\n",
    "cbiz_asset_and_book_2040_merge = cbiz_asset_and_book_2040_merge.sort_index()"
   ]
  },
  {
   "cell_type": "code",
   "execution_count": 362,
   "metadata": {},
   "outputs": [
    {
     "name": "stdout",
     "output_type": "stream",
     "text": [
      "2\n",
      "2\n"
     ]
    }
   ],
   "source": [
    "print(assets_group_2040.index.nunique())\n",
    "print(cbiz_asset_and_book_2040_merge.index.nunique())"
   ]
  },
  {
   "cell_type": "code",
   "execution_count": 363,
   "metadata": {},
   "outputs": [],
   "source": [
    "cbiz_infor_2040_matched = cbiz_asset_and_book_2040_merge[cbiz_asset_and_book_2040_merge.index.isin(assets_group_2040.index)]\n"
   ]
  },
  {
   "cell_type": "code",
   "execution_count": 364,
   "metadata": {},
   "outputs": [],
   "source": [
    "missing_2040_asset_register_records = cbiz_asset_and_book_2040_merge[~cbiz_asset_and_book_2040_merge.index.isin(assets_group_2040.index)]"
   ]
  },
  {
   "cell_type": "code",
   "execution_count": 365,
   "metadata": {},
   "outputs": [
    {
     "data": {
      "text/plain": [
       " Acquired Value*    $0.00\n",
       "Basis               $0.00\n",
       " Current Accum*     $0.00\n",
       " NBV*               $0.00\n",
       "dtype: float64"
      ]
     },
     "execution_count": 365,
     "metadata": {},
     "output_type": "execute_result"
    }
   ],
   "source": [
    "missing_2040_asset_register_records[[' Acquired Value* ', 'Basis', \n",
    "                                     ' Current Accum* ', ' NBV* ',]].sum()"
   ]
  },
  {
   "cell_type": "code",
   "execution_count": 366,
   "metadata": {},
   "outputs": [
    {
     "data": {
      "text/plain": [
       "0.0"
      ]
     },
     "execution_count": 366,
     "metadata": {},
     "output_type": "execute_result"
    }
   ],
   "source": [
    "missing_2040_asset_register_records_cost = missing_2040_asset_register_records[' Acquired Value* '].sum()\n",
    "missing_2040_asset_register_records_cost"
   ]
  },
  {
   "cell_type": "markdown",
   "metadata": {},
   "source": [
    "### Find 2040 records that exist in the fsm asset register but have incorrect cost values"
   ]
  },
  {
   "cell_type": "code",
   "execution_count": 367,
   "metadata": {},
   "outputs": [
    {
     "data": {
      "text/html": [
       "<div>\n",
       "<style scoped>\n",
       "    .dataframe tbody tr th:only-of-type {\n",
       "        vertical-align: middle;\n",
       "    }\n",
       "\n",
       "    .dataframe tbody tr th {\n",
       "        vertical-align: top;\n",
       "    }\n",
       "\n",
       "    .dataframe thead th {\n",
       "        text-align: right;\n",
       "    }\n",
       "</style>\n",
       "<table border=\"1\" class=\"dataframe\">\n",
       "  <thead>\n",
       "    <tr style=\"text-align: right;\">\n",
       "      <th></th>\n",
       "      <th>self</th>\n",
       "      <th>other</th>\n",
       "    </tr>\n",
       "  </thead>\n",
       "  <tbody>\n",
       "  </tbody>\n",
       "</table>\n",
       "</div>"
      ],
      "text/plain": [
       "Empty DataFrame\n",
       "Columns: [self, other]\n",
       "Index: []"
      ]
     },
     "execution_count": 367,
     "metadata": {},
     "output_type": "execute_result"
    }
   ],
   "source": [
    "cbiz_infor_2040_cost_diffs = cbiz_infor_2040_matched[' Acquired Value* '].compare(assets_group_2040['PostingBookBasis'])\n",
    "cbiz_infor_2040_cost_diffs"
   ]
  },
  {
   "cell_type": "code",
   "execution_count": 368,
   "metadata": {},
   "outputs": [
    {
     "data": {
      "text/plain": [
       "self    $0.00\n",
       "other   $0.00\n",
       "dtype: float64"
      ]
     },
     "execution_count": 368,
     "metadata": {},
     "output_type": "execute_result"
    }
   ],
   "source": [
    "cbiz_infor_2040_cost_diffs[['self', 'other']].sum()"
   ]
  },
  {
   "cell_type": "code",
   "execution_count": 369,
   "metadata": {},
   "outputs": [
    {
     "data": {
      "text/plain": [
       "0.0"
      ]
     },
     "execution_count": 369,
     "metadata": {},
     "output_type": "execute_result"
    }
   ],
   "source": [
    "asset_register_2040_records_in_error_cost = cbiz_infor_2040_cost_diffs['self'].sum() - cbiz_infor_2040_cost_diffs['other'].sum()\n",
    "asset_register_2040_records_in_error_cost"
   ]
  },
  {
   "cell_type": "code",
   "execution_count": 370,
   "metadata": {},
   "outputs": [
    {
     "data": {
      "text/plain": [
       "38110000.0"
      ]
     },
     "execution_count": 370,
     "metadata": {},
     "output_type": "execute_result"
    }
   ],
   "source": [
    "asset_register_2040_cost = assets_group_2040['PostingBookBasis'].sum()\n",
    "asset_register_2040_cost"
   ]
  },
  {
   "cell_type": "code",
   "execution_count": 371,
   "metadata": {},
   "outputs": [
    {
     "data": {
      "text/plain": [
       " Acquired Value*    $38,110,000.00\n",
       " Current Accum*      $9,872,083.00\n",
       " NBV*               $28,237,917.00\n",
       "dtype: float64"
      ]
     },
     "execution_count": 371,
     "metadata": {},
     "output_type": "execute_result"
    }
   ],
   "source": [
    "cbiz_asset_and_book_2040_merge[[' Acquired Value* ',  ' Current Accum* ', ' NBV* ']].sum()"
   ]
  },
  {
   "cell_type": "code",
   "execution_count": 372,
   "metadata": {},
   "outputs": [
    {
     "data": {
      "text/plain": [
       "38110000.0"
      ]
     },
     "execution_count": 372,
     "metadata": {},
     "output_type": "execute_result"
    }
   ],
   "source": [
    "asset_register_2040_cost "
   ]
  },
  {
   "cell_type": "code",
   "execution_count": 373,
   "metadata": {},
   "outputs": [],
   "source": [
    "cbiz_asset_and_book_2040_merge.to_csv(\n",
    "    r'C:\\Users\\mikra\\OneDrive\\Documents\\Work\\conversion\\SIT3\\november_AX2\\fixed_assets\\mmc\\output\\output_2040\\sit3_cbiz_asset_and_book_2040_merge.csv'\n",
    ")"
   ]
  },
  {
   "cell_type": "markdown",
   "metadata": {},
   "source": [
    "### Find 2050 records that are missing from the FSM asset register"
   ]
  },
  {
   "cell_type": "code",
   "execution_count": 374,
   "metadata": {},
   "outputs": [
    {
     "data": {
      "text/plain": [
       " Acquired Value*    $10,411,827.00\n",
       "Basis               $10,411,827.00\n",
       " Current Accum*        $888,512.00\n",
       " NBV*                $9,523,315.00\n",
       "dtype: float64"
      ]
     },
     "execution_count": 374,
     "metadata": {},
     "output_type": "execute_result"
    }
   ],
   "source": [
    "cbiz_asset_and_book_2050_merge[[' Acquired Value* ', 'Basis', ' Current Accum* ', ' NBV* ']].sum()"
   ]
  },
  {
   "cell_type": "code",
   "execution_count": 375,
   "metadata": {},
   "outputs": [
    {
     "name": "stderr",
     "output_type": "stream",
     "text": [
      "<ipython-input-375-b1fc7632101c>:3: SettingWithCopyWarning: \n",
      "A value is trying to be set on a copy of a slice from a DataFrame.\n",
      "Try using .loc[row_indexer,col_indexer] = value instead\n",
      "\n",
      "See the caveats in the documentation: https://pandas.pydata.org/pandas-docs/stable/user_guide/indexing.html#returning-a-view-versus-a-copy\n",
      "  assets_group_2050['merge_index'] = assets_group_2050['Reference1'].apply(lambda x: int(x.split('_')[1]))\n",
      "<ipython-input-375-b1fc7632101c>:5: SettingWithCopyWarning: \n",
      "A value is trying to be set on a copy of a slice from a DataFrame.\n",
      "Try using .loc[row_indexer,col_indexer] = value instead\n",
      "\n",
      "See the caveats in the documentation: https://pandas.pydata.org/pandas-docs/stable/user_guide/indexing.html#returning-a-view-versus-a-copy\n",
      "  assets_group_2050['cbiz_index'] = assets_group_2050['Reference1'].apply(lambda x: int(x.split('_')[1]))\n"
     ]
    }
   ],
   "source": [
    "assets_group_2050 = fsm_asset_register_groupby_company.get_group('2050')\n",
    "\n",
    "assets_group_2050['merge_index'] = assets_group_2050['Reference1'].apply(lambda x: int(x.split('_')[1]))\n",
    "\n",
    "assets_group_2050['cbiz_index'] = assets_group_2050['Reference1'].apply(lambda x: int(x.split('_')[1]))\n",
    "\n",
    "assets_group_2050 = assets_group_2050.set_index('merge_index',)\n",
    "assets_group_2050 = assets_group_2050.sort_index()\n",
    "cbiz_asset_and_book_2050_merge = cbiz_asset_and_book_2050_merge.sort_index()"
   ]
  },
  {
   "cell_type": "code",
   "execution_count": 376,
   "metadata": {},
   "outputs": [
    {
     "name": "stdout",
     "output_type": "stream",
     "text": [
      "2\n",
      "2\n"
     ]
    }
   ],
   "source": [
    "print(assets_group_2050.index.nunique())\n",
    "print(cbiz_asset_and_book_2050_merge.index.nunique())"
   ]
  },
  {
   "cell_type": "code",
   "execution_count": 377,
   "metadata": {},
   "outputs": [],
   "source": [
    "cbiz_infor_2050_matched = cbiz_asset_and_book_2050_merge[cbiz_asset_and_book_2050_merge.index.isin(assets_group_2050.index)]\n",
    "missing_2050_asset_register_records = cbiz_asset_and_book_2050_merge[~cbiz_asset_and_book_2050_merge.index.isin(assets_group_2050.index)]"
   ]
  },
  {
   "cell_type": "code",
   "execution_count": 378,
   "metadata": {},
   "outputs": [
    {
     "data": {
      "text/plain": [
       " Acquired Value*    $0.00\n",
       "Basis               $0.00\n",
       " Current Accum*     $0.00\n",
       " NBV*               $0.00\n",
       "dtype: float64"
      ]
     },
     "execution_count": 378,
     "metadata": {},
     "output_type": "execute_result"
    }
   ],
   "source": [
    "missing_2050_asset_register_records[[' Acquired Value* ', 'Basis', \n",
    "                                     ' Current Accum* ', ' NBV* ',]].sum()"
   ]
  },
  {
   "cell_type": "markdown",
   "metadata": {},
   "source": [
    "### Find 2050 records that exist in the fsm asset register but have incorrect cost values"
   ]
  },
  {
   "cell_type": "code",
   "execution_count": 379,
   "metadata": {},
   "outputs": [
    {
     "data": {
      "text/html": [
       "<div>\n",
       "<style scoped>\n",
       "    .dataframe tbody tr th:only-of-type {\n",
       "        vertical-align: middle;\n",
       "    }\n",
       "\n",
       "    .dataframe tbody tr th {\n",
       "        vertical-align: top;\n",
       "    }\n",
       "\n",
       "    .dataframe thead th {\n",
       "        text-align: right;\n",
       "    }\n",
       "</style>\n",
       "<table border=\"1\" class=\"dataframe\">\n",
       "  <thead>\n",
       "    <tr style=\"text-align: right;\">\n",
       "      <th></th>\n",
       "      <th>self</th>\n",
       "      <th>other</th>\n",
       "    </tr>\n",
       "  </thead>\n",
       "  <tbody>\n",
       "  </tbody>\n",
       "</table>\n",
       "</div>"
      ],
      "text/plain": [
       "Empty DataFrame\n",
       "Columns: [self, other]\n",
       "Index: []"
      ]
     },
     "execution_count": 379,
     "metadata": {},
     "output_type": "execute_result"
    }
   ],
   "source": [
    "cbiz_infor_2050_cost_diffs = cbiz_infor_2050_matched[' Acquired Value* '].compare(assets_group_2050['PostingBookBasis'])\n",
    "cbiz_infor_2050_cost_diffs"
   ]
  },
  {
   "cell_type": "code",
   "execution_count": 380,
   "metadata": {},
   "outputs": [
    {
     "data": {
      "text/plain": [
       "self    $0.00\n",
       "other   $0.00\n",
       "dtype: float64"
      ]
     },
     "execution_count": 380,
     "metadata": {},
     "output_type": "execute_result"
    }
   ],
   "source": [
    "cbiz_infor_2050_cost_diffs[['self', 'other']].sum()"
   ]
  },
  {
   "cell_type": "code",
   "execution_count": 381,
   "metadata": {},
   "outputs": [
    {
     "data": {
      "text/plain": [
       "0.0"
      ]
     },
     "execution_count": 381,
     "metadata": {},
     "output_type": "execute_result"
    }
   ],
   "source": [
    "asset_register_2050_records_in_error_cost = cbiz_infor_2050_cost_diffs['self'].sum() - cbiz_infor_2050_cost_diffs['other'].sum()\n",
    "asset_register_2050_records_in_error_cost"
   ]
  },
  {
   "cell_type": "code",
   "execution_count": 382,
   "metadata": {},
   "outputs": [
    {
     "data": {
      "text/plain": [
       "10411827.0"
      ]
     },
     "execution_count": 382,
     "metadata": {},
     "output_type": "execute_result"
    }
   ],
   "source": [
    "asset_register_2050_cost = assets_group_2050['PostingBookBasis'].sum()\n",
    "\n",
    "asset_register_2050_cost"
   ]
  },
  {
   "cell_type": "code",
   "execution_count": 383,
   "metadata": {},
   "outputs": [
    {
     "data": {
      "text/plain": [
       " Acquired Value*    $10,411,827.00\n",
       " Current Accum*        $888,512.00\n",
       " NBV*                $9,523,315.00\n",
       "dtype: float64"
      ]
     },
     "execution_count": 383,
     "metadata": {},
     "output_type": "execute_result"
    }
   ],
   "source": [
    "cbiz_asset_and_book_2050_merge[[' Acquired Value* ',  ' Current Accum* ', ' NBV* ']].sum()"
   ]
  },
  {
   "cell_type": "code",
   "execution_count": 384,
   "metadata": {},
   "outputs": [],
   "source": [
    "cbiz_asset_and_book_2050_merge.to_csv(\n",
    "    r'C:\\Users\\mikra\\OneDrive\\Documents\\Work\\conversion\\SIT3\\november_AX2\\fixed_assets\\mmc\\output\\output_2050\\sit3_cbiz_asset_and_book_2050_merge.csv'\n",
    ")"
   ]
  },
  {
   "cell_type": "markdown",
   "metadata": {},
   "source": [
    "### Find 2060 records that are missing from the FSM asset register"
   ]
  },
  {
   "cell_type": "code",
   "execution_count": 385,
   "metadata": {},
   "outputs": [
    {
     "data": {
      "text/plain": [
       " Acquired Value*    $5,756,151.00\n",
       "Basis               $5,756,151.00\n",
       " Current Accum*     $1,371,313.00\n",
       " NBV*               $4,384,838.00\n",
       "dtype: float64"
      ]
     },
     "execution_count": 385,
     "metadata": {},
     "output_type": "execute_result"
    }
   ],
   "source": [
    "cbiz_asset_and_book_2060_merge[[' Acquired Value* ', 'Basis', ' Current Accum* ', ' NBV* ']].sum()"
   ]
  },
  {
   "cell_type": "code",
   "execution_count": 386,
   "metadata": {},
   "outputs": [
    {
     "name": "stderr",
     "output_type": "stream",
     "text": [
      "<ipython-input-386-fce0a6052ced>:3: SettingWithCopyWarning: \n",
      "A value is trying to be set on a copy of a slice from a DataFrame.\n",
      "Try using .loc[row_indexer,col_indexer] = value instead\n",
      "\n",
      "See the caveats in the documentation: https://pandas.pydata.org/pandas-docs/stable/user_guide/indexing.html#returning-a-view-versus-a-copy\n",
      "  assets_group_2060['merge_index'] = assets_group_2060['Reference1'].apply(lambda x: int(x.split('_')[1]))\n",
      "<ipython-input-386-fce0a6052ced>:5: SettingWithCopyWarning: \n",
      "A value is trying to be set on a copy of a slice from a DataFrame.\n",
      "Try using .loc[row_indexer,col_indexer] = value instead\n",
      "\n",
      "See the caveats in the documentation: https://pandas.pydata.org/pandas-docs/stable/user_guide/indexing.html#returning-a-view-versus-a-copy\n",
      "  assets_group_2060['cbiz_index'] = assets_group_2060['Reference1'].apply(lambda x: int(x.split('_')[1]))\n"
     ]
    }
   ],
   "source": [
    "assets_group_2060 = fsm_asset_register_groupby_company.get_group('2060')\n",
    "\n",
    "assets_group_2060['merge_index'] = assets_group_2060['Reference1'].apply(lambda x: int(x.split('_')[1]))\n",
    "\n",
    "assets_group_2060['cbiz_index'] = assets_group_2060['Reference1'].apply(lambda x: int(x.split('_')[1]))\n",
    "\n",
    "assets_group_2060 = assets_group_2060.set_index('merge_index',)\n",
    "assets_group_2060 = assets_group_2060.sort_index()\n",
    "cbiz_asset_and_book_2060_merge = cbiz_asset_and_book_2060_merge.sort_index()"
   ]
  },
  {
   "cell_type": "code",
   "execution_count": 387,
   "metadata": {},
   "outputs": [
    {
     "name": "stdout",
     "output_type": "stream",
     "text": [
      "2\n",
      "2\n"
     ]
    }
   ],
   "source": [
    "print(assets_group_2060.index.nunique())\n",
    "print(cbiz_asset_and_book_2060_merge.index.nunique())"
   ]
  },
  {
   "cell_type": "code",
   "execution_count": 388,
   "metadata": {},
   "outputs": [],
   "source": [
    "cbiz_infor_2060_matched = cbiz_asset_and_book_2060_merge[cbiz_asset_and_book_2060_merge.index.isin(assets_group_2060.index)]\n",
    "missing_2060_asset_register_records = cbiz_asset_and_book_2060_merge[~cbiz_asset_and_book_2060_merge.index.isin(assets_group_2060.index)]"
   ]
  },
  {
   "cell_type": "code",
   "execution_count": 389,
   "metadata": {},
   "outputs": [
    {
     "data": {
      "text/plain": [
       " Acquired Value*    $0.00\n",
       "Basis               $0.00\n",
       " Current Accum*     $0.00\n",
       " NBV*               $0.00\n",
       "dtype: float64"
      ]
     },
     "execution_count": 389,
     "metadata": {},
     "output_type": "execute_result"
    }
   ],
   "source": [
    "missing_2060_asset_register_records[[' Acquired Value* ', 'Basis', \n",
    "                                     ' Current Accum* ', ' NBV* ',]].sum()"
   ]
  },
  {
   "cell_type": "markdown",
   "metadata": {},
   "source": [
    "### Find 2060 records that exist in the fsm asset register but have incorrect cost values"
   ]
  },
  {
   "cell_type": "code",
   "execution_count": 390,
   "metadata": {},
   "outputs": [
    {
     "data": {
      "text/html": [
       "<div>\n",
       "<style scoped>\n",
       "    .dataframe tbody tr th:only-of-type {\n",
       "        vertical-align: middle;\n",
       "    }\n",
       "\n",
       "    .dataframe tbody tr th {\n",
       "        vertical-align: top;\n",
       "    }\n",
       "\n",
       "    .dataframe thead th {\n",
       "        text-align: right;\n",
       "    }\n",
       "</style>\n",
       "<table border=\"1\" class=\"dataframe\">\n",
       "  <thead>\n",
       "    <tr style=\"text-align: right;\">\n",
       "      <th></th>\n",
       "      <th>self</th>\n",
       "      <th>other</th>\n",
       "    </tr>\n",
       "  </thead>\n",
       "  <tbody>\n",
       "  </tbody>\n",
       "</table>\n",
       "</div>"
      ],
      "text/plain": [
       "Empty DataFrame\n",
       "Columns: [self, other]\n",
       "Index: []"
      ]
     },
     "execution_count": 390,
     "metadata": {},
     "output_type": "execute_result"
    }
   ],
   "source": [
    "cbiz_infor_2060_cost_diffs = cbiz_infor_2060_matched[' Acquired Value* '].compare(assets_group_2060['ItemTotalBaseCost'])\n",
    "cbiz_infor_2060_cost_diffs"
   ]
  },
  {
   "cell_type": "code",
   "execution_count": 391,
   "metadata": {},
   "outputs": [
    {
     "data": {
      "text/plain": [
       "5756151.0"
      ]
     },
     "execution_count": 391,
     "metadata": {},
     "output_type": "execute_result"
    }
   ],
   "source": [
    "asset_register_2060_cost = assets_group_2060['PostingBookBasis'].sum()\n",
    "\n",
    "asset_register_2060_cost"
   ]
  },
  {
   "cell_type": "code",
   "execution_count": 392,
   "metadata": {},
   "outputs": [
    {
     "data": {
      "text/plain": [
       " Acquired Value*    $5,756,151.00\n",
       " Current Accum*     $1,371,313.00\n",
       " NBV*               $4,384,838.00\n",
       "dtype: float64"
      ]
     },
     "execution_count": 392,
     "metadata": {},
     "output_type": "execute_result"
    }
   ],
   "source": [
    "cbiz_asset_and_book_2060_merge[[' Acquired Value* ',  ' Current Accum* ', ' NBV* ']].sum()"
   ]
  },
  {
   "cell_type": "code",
   "execution_count": 393,
   "metadata": {},
   "outputs": [],
   "source": [
    "cbiz_asset_and_book_2060_merge.to_csv(\n",
    "    r'C:\\Users\\mikra\\OneDrive\\Documents\\Work\\conversion\\SIT3\\november_AX2\\fixed_assets\\mmc\\output\\output_2060\\sit3_cbiz_asset_and_book_2060_merge.csv'\n",
    ")"
   ]
  },
  {
   "cell_type": "markdown",
   "metadata": {},
   "source": [
    "### Find 2100 records that are missing from the FSM asset register"
   ]
  },
  {
   "cell_type": "code",
   "execution_count": 394,
   "metadata": {},
   "outputs": [
    {
     "data": {
      "text/plain": [
       " Acquired Value*    $174,933.00\n",
       "Basis               $174,933.00\n",
       " Current Accum*      $75,146.00\n",
       " NBV*                $99,787.00\n",
       "dtype: float64"
      ]
     },
     "execution_count": 394,
     "metadata": {},
     "output_type": "execute_result"
    }
   ],
   "source": [
    "cbiz_asset_and_book_2100_merge[[' Acquired Value* ', 'Basis', ' Current Accum* ', ' NBV* ']].sum()"
   ]
  },
  {
   "cell_type": "code",
   "execution_count": 395,
   "metadata": {},
   "outputs": [
    {
     "name": "stderr",
     "output_type": "stream",
     "text": [
      "<ipython-input-395-52cc01d17d0a>:3: SettingWithCopyWarning: \n",
      "A value is trying to be set on a copy of a slice from a DataFrame.\n",
      "Try using .loc[row_indexer,col_indexer] = value instead\n",
      "\n",
      "See the caveats in the documentation: https://pandas.pydata.org/pandas-docs/stable/user_guide/indexing.html#returning-a-view-versus-a-copy\n",
      "  assets_group_2100['merge_index'] = assets_group_2100['Reference1'].apply(lambda x: int(x.split('_')[1]))\n",
      "<ipython-input-395-52cc01d17d0a>:5: SettingWithCopyWarning: \n",
      "A value is trying to be set on a copy of a slice from a DataFrame.\n",
      "Try using .loc[row_indexer,col_indexer] = value instead\n",
      "\n",
      "See the caveats in the documentation: https://pandas.pydata.org/pandas-docs/stable/user_guide/indexing.html#returning-a-view-versus-a-copy\n",
      "  assets_group_2100['cbiz_index'] = assets_group_2100['Reference1'].apply(lambda x: int(x.split('_')[1]))\n"
     ]
    }
   ],
   "source": [
    "assets_group_2100 = fsm_asset_register_groupby_company.get_group('2100')\n",
    "\n",
    "assets_group_2100['merge_index'] = assets_group_2100['Reference1'].apply(lambda x: int(x.split('_')[1]))\n",
    "\n",
    "assets_group_2100['cbiz_index'] = assets_group_2100['Reference1'].apply(lambda x: int(x.split('_')[1]))\n",
    "\n",
    "assets_group_2100 =assets_group_2100.set_index('merge_index',)\n",
    "assets_group_2100 = assets_group_2100.sort_index()\n",
    "cbiz_asset_and_book_2100_merge = cbiz_asset_and_book_2100_merge.sort_index()"
   ]
  },
  {
   "cell_type": "code",
   "execution_count": 396,
   "metadata": {},
   "outputs": [
    {
     "name": "stdout",
     "output_type": "stream",
     "text": [
      "3\n",
      "3\n"
     ]
    }
   ],
   "source": [
    "print(assets_group_2100.index.nunique())\n",
    "print(cbiz_asset_and_book_2100_merge.index.nunique())"
   ]
  },
  {
   "cell_type": "code",
   "execution_count": 397,
   "metadata": {},
   "outputs": [],
   "source": [
    "cbiz_infor_2100_matched = cbiz_asset_and_book_2100_merge[cbiz_asset_and_book_2100_merge.index.isin(assets_group_2100.index)]\n",
    "missing_2100_asset_register_records = cbiz_asset_and_book_2100_merge[~cbiz_asset_and_book_2100_merge.index.isin(assets_group_2100.index)]"
   ]
  },
  {
   "cell_type": "code",
   "execution_count": 398,
   "metadata": {},
   "outputs": [
    {
     "data": {
      "text/plain": [
       "174933.0"
      ]
     },
     "execution_count": 398,
     "metadata": {},
     "output_type": "execute_result"
    }
   ],
   "source": [
    "asset_register_2100_cost = assets_group_2100['PostingBookBasis'].sum()\n",
    "\n",
    "asset_register_2100_cost"
   ]
  },
  {
   "cell_type": "code",
   "execution_count": 399,
   "metadata": {},
   "outputs": [
    {
     "data": {
      "text/plain": [
       " Acquired Value*    $174,933.00\n",
       " Current Accum*      $75,146.00\n",
       " NBV*                $99,787.00\n",
       "dtype: float64"
      ]
     },
     "execution_count": 399,
     "metadata": {},
     "output_type": "execute_result"
    }
   ],
   "source": [
    "cbiz_asset_and_book_2100_merge[[' Acquired Value* ',  ' Current Accum* ', ' NBV* ']].sum()"
   ]
  },
  {
   "cell_type": "code",
   "execution_count": 400,
   "metadata": {},
   "outputs": [],
   "source": [
    "cbiz_asset_and_book_2100_merge.to_csv(\n",
    "    r'C:\\Users\\mikra\\OneDrive\\Documents\\Work\\conversion\\SIT3\\november_AX2\\fixed_assets\\mmc\\output\\output_2100\\sit3_cbiz_asset_and_book_2100_merge.csv'\n",
    ")"
   ]
  },
  {
   "cell_type": "markdown",
   "metadata": {},
   "source": [
    "### Find 3010 records that are missing from the FSM asset register"
   ]
  },
  {
   "cell_type": "code",
   "execution_count": 401,
   "metadata": {},
   "outputs": [
    {
     "data": {
      "text/plain": [
       " Acquired Value*    $30,767,684.00\n",
       "Basis               $30,767,685.74\n",
       " Current Accum*     $27,515,315.00\n",
       " NBV*                $3,252,369.00\n",
       "dtype: float64"
      ]
     },
     "execution_count": 401,
     "metadata": {},
     "output_type": "execute_result"
    }
   ],
   "source": [
    "cbiz_asset_and_book_3010_merge[[' Acquired Value* ', 'Basis', ' Current Accum* ', ' NBV* ']].sum()"
   ]
  },
  {
   "cell_type": "code",
   "execution_count": 402,
   "metadata": {},
   "outputs": [
    {
     "name": "stderr",
     "output_type": "stream",
     "text": [
      "<ipython-input-402-013e52a3e369>:3: SettingWithCopyWarning: \n",
      "A value is trying to be set on a copy of a slice from a DataFrame.\n",
      "Try using .loc[row_indexer,col_indexer] = value instead\n",
      "\n",
      "See the caveats in the documentation: https://pandas.pydata.org/pandas-docs/stable/user_guide/indexing.html#returning-a-view-versus-a-copy\n",
      "  assets_group_3010['merge_index'] = assets_group_3010['Reference1'].apply(lambda x: int(x.split('_')[1]))\n",
      "<ipython-input-402-013e52a3e369>:5: SettingWithCopyWarning: \n",
      "A value is trying to be set on a copy of a slice from a DataFrame.\n",
      "Try using .loc[row_indexer,col_indexer] = value instead\n",
      "\n",
      "See the caveats in the documentation: https://pandas.pydata.org/pandas-docs/stable/user_guide/indexing.html#returning-a-view-versus-a-copy\n",
      "  assets_group_3010['cbiz_index'] = assets_group_3010['Reference1'].apply(lambda x: int(x.split('_')[1]))\n"
     ]
    }
   ],
   "source": [
    "assets_group_3010 = fsm_asset_register_groupby_company.get_group('3010')\n",
    "\n",
    "assets_group_3010['merge_index'] = assets_group_3010['Reference1'].apply(lambda x: int(x.split('_')[1]))\n",
    "\n",
    "assets_group_3010['cbiz_index'] = assets_group_3010['Reference1'].apply(lambda x: int(x.split('_')[1]))\n",
    "\n",
    "assets_group_3010 =assets_group_3010.set_index('merge_index',)\n",
    "assets_group_3010 = assets_group_3010.sort_index()\n",
    "cbiz_asset_and_book_3010_merge = cbiz_asset_and_book_3010_merge.sort_index()"
   ]
  },
  {
   "cell_type": "code",
   "execution_count": 403,
   "metadata": {},
   "outputs": [
    {
     "name": "stdout",
     "output_type": "stream",
     "text": [
      "948\n",
      "948\n"
     ]
    }
   ],
   "source": [
    "print(assets_group_3010.index.nunique())\n",
    "print(cbiz_asset_and_book_3010_merge.index.nunique())"
   ]
  },
  {
   "cell_type": "code",
   "execution_count": 404,
   "metadata": {},
   "outputs": [],
   "source": [
    "cbiz_infor_3010_matched = cbiz_asset_and_book_3010_merge[cbiz_asset_and_book_3010_merge.index.isin(assets_group_3010.index)]"
   ]
  },
  {
   "cell_type": "code",
   "execution_count": 405,
   "metadata": {},
   "outputs": [],
   "source": [
    "missing_3010_asset_register_records = cbiz_asset_and_book_3010_merge[~cbiz_asset_and_book_3010_merge.index.isin(assets_group_3010.index)]"
   ]
  },
  {
   "cell_type": "code",
   "execution_count": 406,
   "metadata": {},
   "outputs": [
    {
     "data": {
      "text/plain": [
       " Acquired Value*    $0.00\n",
       "Basis               $0.00\n",
       " Current Accum*     $0.00\n",
       " NBV*               $0.00\n",
       "dtype: float64"
      ]
     },
     "execution_count": 406,
     "metadata": {},
     "output_type": "execute_result"
    }
   ],
   "source": [
    "missing_3010_asset_register_records[[' Acquired Value* ', 'Basis', \n",
    "                                     ' Current Accum* ', ' NBV* ',]].sum()"
   ]
  },
  {
   "cell_type": "code",
   "execution_count": 407,
   "metadata": {},
   "outputs": [
    {
     "data": {
      "text/plain": [
       "0.0"
      ]
     },
     "execution_count": 407,
     "metadata": {},
     "output_type": "execute_result"
    }
   ],
   "source": [
    "missing_3010_asset_register_records_cost = missing_3010_asset_register_records[' Acquired Value* '].sum()\n",
    "missing_3010_asset_register_records_cost"
   ]
  },
  {
   "cell_type": "markdown",
   "metadata": {},
   "source": [
    "### Find 3010 records that exist in the fsm asset register but have incorrect cost values"
   ]
  },
  {
   "cell_type": "code",
   "execution_count": 408,
   "metadata": {},
   "outputs": [],
   "source": [
    "cbiz_infor_3010_cost_diffs = cbiz_infor_3010_matched[' Acquired Value* '].compare(assets_group_3010['PostingBookBasis'])\n",
    "# cbiz_infor_3010_cost_diffs"
   ]
  },
  {
   "cell_type": "code",
   "execution_count": 409,
   "metadata": {},
   "outputs": [
    {
     "data": {
      "text/plain": [
       "self    $2,444,617.00\n",
       "other   $2,444,618.74\n",
       "dtype: float64"
      ]
     },
     "execution_count": 409,
     "metadata": {},
     "output_type": "execute_result"
    }
   ],
   "source": [
    "cbiz_infor_3010_cost_diffs[['self', 'other']].sum()"
   ]
  },
  {
   "cell_type": "code",
   "execution_count": 410,
   "metadata": {},
   "outputs": [
    {
     "data": {
      "text/plain": [
       "-1.7399999997578561"
      ]
     },
     "execution_count": 410,
     "metadata": {},
     "output_type": "execute_result"
    }
   ],
   "source": [
    "asset_register_3010_records_in_error_cost = cbiz_infor_3010_cost_diffs['self'].sum() - cbiz_infor_3010_cost_diffs['other'].sum()\n",
    "asset_register_3010_records_in_error_cost"
   ]
  },
  {
   "cell_type": "code",
   "execution_count": 411,
   "metadata": {},
   "outputs": [
    {
     "data": {
      "text/plain": [
       "30767685.740000002"
      ]
     },
     "execution_count": 411,
     "metadata": {},
     "output_type": "execute_result"
    }
   ],
   "source": [
    "asset_register_3010_cost = assets_group_3010['PostingBookBasis'].sum()\n",
    "asset_register_3010_cost"
   ]
  },
  {
   "cell_type": "code",
   "execution_count": 412,
   "metadata": {},
   "outputs": [
    {
     "data": {
      "text/plain": [
       " Acquired Value*    $30,767,684.00\n",
       " Current Accum*     $27,515,315.00\n",
       " NBV*                $3,252,369.00\n",
       "dtype: float64"
      ]
     },
     "execution_count": 412,
     "metadata": {},
     "output_type": "execute_result"
    }
   ],
   "source": [
    "cbiz_asset_and_book_3010_merge[[' Acquired Value* ',  ' Current Accum* ', ' NBV* ']].sum()"
   ]
  },
  {
   "cell_type": "code",
   "execution_count": 413,
   "metadata": {},
   "outputs": [
    {
     "data": {
      "text/plain": [
       "30767684.000000004"
      ]
     },
     "execution_count": 413,
     "metadata": {},
     "output_type": "execute_result"
    }
   ],
   "source": [
    "asset_register_3010_cost + asset_register_3010_records_in_error_cost + missing_3010_asset_register_records_cost"
   ]
  },
  {
   "cell_type": "code",
   "execution_count": 414,
   "metadata": {},
   "outputs": [],
   "source": [
    "cbiz_infor_3010_cost_diffs = cbiz_infor_3010_matched[' Acquired Value* '].compare(assets_group_3010['ItemTotalBaseCost'])\n",
    "cbiz_infor_3010_cost_diffs.rename(columns={'self': 'load file', 'other': 'FSM'}, inplace=True)\n",
    "cbiz_infor_3010_cost_diffs.rename_axis('Load ID', inplace=True)\n",
    "\n",
    "cbiz_asset_and_book_3010_merge.to_csv(\n",
    "    r'C:\\Users\\mikra\\OneDrive\\Documents\\Work\\conversion\\SIT3\\november_AX2\\fixed_assets\\mmc\\output\\output_3010\\sit3_cbiz_asset_and_book_3010_merge.csv'\n",
    ")\n",
    "\n",
    "assets_group_3010.to_csv(\n",
    "    r'C:\\Users\\mikra\\OneDrive\\Documents\\Work\\conversion\\SIT3\\november_AX2\\fixed_assets\\mmc\\output\\output_3010\\sit3_fsm_asset_register_3010.csv'\n",
    ")\n",
    "\n",
    "missing_3010_asset_register_records.to_csv(\n",
    "    r'C:\\Users\\mikra\\OneDrive\\Documents\\Work\\conversion\\SIT3\\november_AX2\\fixed_assets\\mmc\\output\\output_3010\\sit3_assets_missing_from_register_3010.csv'\n",
    ")\n",
    "\n",
    "cbiz_infor_3010_cost_diffs.to_csv(\n",
    "    r'C:\\Users\\mikra\\OneDrive\\Documents\\Work\\conversion\\SIT3\\november_AX2\\fixed_assets\\mmc\\output\\output_3010\\sit3_assets_with_wrong_cost_3010.csv'\n",
    ")"
   ]
  },
  {
   "cell_type": "markdown",
   "metadata": {},
   "source": [
    "### Find 3020 records that are missing from the FSM asset register"
   ]
  },
  {
   "cell_type": "code",
   "execution_count": 415,
   "metadata": {},
   "outputs": [
    {
     "data": {
      "text/plain": [
       " Acquired Value*     $8,201,691.61\n",
       "Basis               $42,509,653.00\n",
       " Current Accum*      $6,345,633.36\n",
       " NBV*                $1,856,058.25\n",
       "dtype: float64"
      ]
     },
     "execution_count": 415,
     "metadata": {},
     "output_type": "execute_result"
    }
   ],
   "source": [
    "cbiz_asset_and_book_3020_merge[[' Acquired Value* ', 'Basis', ' Current Accum* ', ' NBV* ']].sum()"
   ]
  },
  {
   "cell_type": "code",
   "execution_count": 416,
   "metadata": {},
   "outputs": [
    {
     "name": "stderr",
     "output_type": "stream",
     "text": [
      "<ipython-input-416-dc1230593c96>:3: SettingWithCopyWarning: \n",
      "A value is trying to be set on a copy of a slice from a DataFrame.\n",
      "Try using .loc[row_indexer,col_indexer] = value instead\n",
      "\n",
      "See the caveats in the documentation: https://pandas.pydata.org/pandas-docs/stable/user_guide/indexing.html#returning-a-view-versus-a-copy\n",
      "  assets_group_3020['merge_index'] = assets_group_3020['Reference1'].apply(lambda x: int(x.split('_')[1]))\n",
      "<ipython-input-416-dc1230593c96>:5: SettingWithCopyWarning: \n",
      "A value is trying to be set on a copy of a slice from a DataFrame.\n",
      "Try using .loc[row_indexer,col_indexer] = value instead\n",
      "\n",
      "See the caveats in the documentation: https://pandas.pydata.org/pandas-docs/stable/user_guide/indexing.html#returning-a-view-versus-a-copy\n",
      "  assets_group_3020['cbiz_index'] = assets_group_3020['Reference1'].apply(lambda x: int(x.split('_')[1]))\n"
     ]
    }
   ],
   "source": [
    "assets_group_3020 = fsm_asset_register_groupby_company.get_group('3020')\n",
    "\n",
    "assets_group_3020['merge_index'] = assets_group_3020['Reference1'].apply(lambda x: int(x.split('_')[1]))\n",
    "\n",
    "assets_group_3020['cbiz_index'] = assets_group_3020['Reference1'].apply(lambda x: int(x.split('_')[1]))\n",
    "\n",
    "assets_group_3020 = assets_group_3020.set_index('merge_index',)\n",
    "assets_group_3020 = assets_group_3020.sort_index()\n",
    "cbiz_asset_and_book_3020_merge = cbiz_asset_and_book_3020_merge.sort_index()"
   ]
  },
  {
   "cell_type": "code",
   "execution_count": 417,
   "metadata": {},
   "outputs": [
    {
     "name": "stdout",
     "output_type": "stream",
     "text": [
      "535\n",
      "535\n"
     ]
    }
   ],
   "source": [
    "print(assets_group_3020.index.nunique())\n",
    "print(cbiz_asset_and_book_3020_merge.index.nunique())"
   ]
  },
  {
   "cell_type": "code",
   "execution_count": 418,
   "metadata": {},
   "outputs": [],
   "source": [
    "cbiz_infor_3020_matched = cbiz_asset_and_book_3020_merge[cbiz_asset_and_book_3020_merge.index.isin(assets_group_3020.index)]\n",
    "missing_3020_asset_register_records = cbiz_asset_and_book_3020_merge[~cbiz_asset_and_book_3020_merge.index.isin(assets_group_3020.index)]"
   ]
  },
  {
   "cell_type": "code",
   "execution_count": 419,
   "metadata": {},
   "outputs": [
    {
     "data": {
      "text/plain": [
       " Acquired Value*    $0.00\n",
       "Basis               $0.00\n",
       " Current Accum*     $0.00\n",
       " NBV*               $0.00\n",
       "dtype: float64"
      ]
     },
     "execution_count": 419,
     "metadata": {},
     "output_type": "execute_result"
    }
   ],
   "source": [
    "missing_3020_asset_register_records[[' Acquired Value* ', 'Basis', \n",
    "                                     ' Current Accum* ', ' NBV* ',]].sum()"
   ]
  },
  {
   "cell_type": "code",
   "execution_count": 420,
   "metadata": {},
   "outputs": [
    {
     "data": {
      "text/plain": [
       "0.0"
      ]
     },
     "execution_count": 420,
     "metadata": {},
     "output_type": "execute_result"
    }
   ],
   "source": [
    "missing_3020_asset_register_records_cost = missing_3020_asset_register_records[' Acquired Value* '].sum()\n",
    "missing_3020_asset_register_records_cost"
   ]
  },
  {
   "cell_type": "markdown",
   "metadata": {},
   "source": [
    "### Find 3020 records that exist in the fsm asset register but have incorrect cost values"
   ]
  },
  {
   "cell_type": "code",
   "execution_count": 421,
   "metadata": {},
   "outputs": [
    {
     "data": {
      "text/html": [
       "<div>\n",
       "<style scoped>\n",
       "    .dataframe tbody tr th:only-of-type {\n",
       "        vertical-align: middle;\n",
       "    }\n",
       "\n",
       "    .dataframe tbody tr th {\n",
       "        vertical-align: top;\n",
       "    }\n",
       "\n",
       "    .dataframe thead th {\n",
       "        text-align: right;\n",
       "    }\n",
       "</style>\n",
       "<table border=\"1\" class=\"dataframe\">\n",
       "  <thead>\n",
       "    <tr style=\"text-align: right;\">\n",
       "      <th></th>\n",
       "      <th>self</th>\n",
       "      <th>other</th>\n",
       "    </tr>\n",
       "  </thead>\n",
       "  <tbody>\n",
       "    <tr>\n",
       "      <th>105</th>\n",
       "      <td>$36,669.00</td>\n",
       "      <td>$-36,669.00</td>\n",
       "    </tr>\n",
       "  </tbody>\n",
       "</table>\n",
       "</div>"
      ],
      "text/plain": [
       "          self       other\n",
       "105 $36,669.00 $-36,669.00"
      ]
     },
     "execution_count": 421,
     "metadata": {},
     "output_type": "execute_result"
    }
   ],
   "source": [
    "cbiz_infor_3020_cost_diffs = cbiz_infor_3020_matched[' Acquired Value* '].compare(assets_group_3020['PostingBookBasis'])\n",
    "cbiz_infor_3020_cost_diffs"
   ]
  },
  {
   "cell_type": "code",
   "execution_count": 422,
   "metadata": {},
   "outputs": [
    {
     "data": {
      "text/plain": [
       "self     $36,669.00\n",
       "other   $-36,669.00\n",
       "dtype: float64"
      ]
     },
     "execution_count": 422,
     "metadata": {},
     "output_type": "execute_result"
    }
   ],
   "source": [
    "cbiz_infor_3020_cost_diffs[['self', 'other']].sum()"
   ]
  },
  {
   "cell_type": "code",
   "execution_count": 423,
   "metadata": {},
   "outputs": [
    {
     "data": {
      "text/plain": [
       "73338.0"
      ]
     },
     "execution_count": 423,
     "metadata": {},
     "output_type": "execute_result"
    }
   ],
   "source": [
    "asset_register_3020_records_in_error_cost = cbiz_infor_3020_cost_diffs['self'].sum() - cbiz_infor_3020_cost_diffs['other'].sum()\n",
    "asset_register_3020_records_in_error_cost"
   ]
  },
  {
   "cell_type": "code",
   "execution_count": 424,
   "metadata": {},
   "outputs": [
    {
     "data": {
      "text/plain": [
       "8128353.61"
      ]
     },
     "execution_count": 424,
     "metadata": {},
     "output_type": "execute_result"
    }
   ],
   "source": [
    "asset_register_3020_cost = assets_group_3020['PostingBookBasis'].sum()\n",
    "asset_register_3020_cost"
   ]
  },
  {
   "cell_type": "code",
   "execution_count": 425,
   "metadata": {},
   "outputs": [
    {
     "data": {
      "text/plain": [
       " Acquired Value*    $8,201,691.61\n",
       " Current Accum*     $6,345,633.36\n",
       " NBV*               $1,856,058.25\n",
       "dtype: float64"
      ]
     },
     "execution_count": 425,
     "metadata": {},
     "output_type": "execute_result"
    }
   ],
   "source": [
    "cbiz_asset_and_book_3020_merge[[' Acquired Value* ',  ' Current Accum* ', ' NBV* ']].sum()"
   ]
  },
  {
   "cell_type": "code",
   "execution_count": 426,
   "metadata": {},
   "outputs": [
    {
     "data": {
      "text/plain": [
       "8201691.61"
      ]
     },
     "execution_count": 426,
     "metadata": {},
     "output_type": "execute_result"
    }
   ],
   "source": [
    "asset_register_3020_cost + asset_register_3020_records_in_error_cost + missing_3020_asset_register_records_cost"
   ]
  },
  {
   "cell_type": "code",
   "execution_count": 427,
   "metadata": {},
   "outputs": [],
   "source": [
    "cbiz_infor_3020_cost_diffs = cbiz_infor_3020_matched[' Acquired Value* '].compare(assets_group_3020['ItemTotalBaseCost'])\n",
    "cbiz_infor_3020_cost_diffs.rename(columns={'self': 'load file', 'other': 'FSM'}, inplace=True)\n",
    "cbiz_infor_3020_cost_diffs.rename_axis('Load ID', inplace=True)\n",
    "\n",
    "cbiz_asset_and_book_3020_merge.to_csv(\n",
    "    r'C:\\Users\\mikra\\OneDrive\\Documents\\Work\\conversion\\SIT3\\november_AX2\\fixed_assets\\mmc\\output\\output_3020\\sit3_cbiz_asset_and_book_3020_merge.csv'\n",
    ")\n",
    "\n",
    "assets_group_3020.to_csv(\n",
    "    r'C:\\Users\\mikra\\OneDrive\\Documents\\Work\\conversion\\SIT3\\november_AX2\\fixed_assets\\mmc\\output\\output_3020\\sit3_fsm_asset_register_3020.csv'\n",
    ")\n",
    "\n",
    "missing_3020_asset_register_records.to_csv(\n",
    "    r'C:\\Users\\mikra\\OneDrive\\Documents\\Work\\conversion\\SIT3\\november_AX2\\fixed_assets\\mmc\\output\\output_3020\\sit3_assets_missing_from_register_3020.csv'\n",
    ")\n",
    "\n",
    "cbiz_infor_3020_cost_diffs.to_csv(\n",
    "    r'C:\\Users\\mikra\\OneDrive\\Documents\\Work\\conversion\\SIT3\\november_AX2\\fixed_assets\\mmc\\output\\output_3020\\sit3_assets_with_wrong_cost_3020.csv'\n",
    ")"
   ]
  },
  {
   "cell_type": "markdown",
   "metadata": {},
   "source": [
    "### Calculate company 3080 depreciation expense for fiscal 2021 and compare to CBIZ projections"
   ]
  },
  {
   "cell_type": "code",
   "execution_count": 428,
   "metadata": {},
   "outputs": [],
   "source": [
    "fsm_depreciation = pd.read_csv(r\"C:\\Users\\mikra\\OneDrive\\Documents\\Work\\conversion\\SIT3\\november_AX2\\fixed_assets\\Depreciation By Asset.csv\",\n",
    "                              usecols=['Asset', 'CurrentPeriodDepreciation'])"
   ]
  },
  {
   "cell_type": "code",
   "execution_count": 429,
   "metadata": {},
   "outputs": [],
   "source": [
    "# fsm_depreciation.head()"
   ]
  },
  {
   "cell_type": "code",
   "execution_count": 430,
   "metadata": {},
   "outputs": [
    {
     "name": "stdout",
     "output_type": "stream",
     "text": [
      "<class 'pandas.core.frame.DataFrame'>\n",
      "RangeIndex: 135421 entries, 0 to 135420\n",
      "Data columns (total 2 columns):\n",
      " #   Column                     Non-Null Count   Dtype  \n",
      "---  ------                     --------------   -----  \n",
      " 0   Asset                      135421 non-null  int64  \n",
      " 1   CurrentPeriodDepreciation  135421 non-null  float64\n",
      "dtypes: float64(1), int64(1)\n",
      "memory usage: 2.1 MB\n"
     ]
    }
   ],
   "source": [
    "fsm_depreciation.info()"
   ]
  },
  {
   "cell_type": "code",
   "execution_count": 431,
   "metadata": {},
   "outputs": [],
   "source": [
    "# cbiz_asset_and_book_3080_merge.head()"
   ]
  },
  {
   "cell_type": "code",
   "execution_count": 432,
   "metadata": {},
   "outputs": [],
   "source": [
    "# cbiz_asset_and_book_3080_merge.info()"
   ]
  },
  {
   "cell_type": "code",
   "execution_count": 433,
   "metadata": {},
   "outputs": [],
   "source": [
    "# cbiz_asset_and_book_3080_merge.columns"
   ]
  },
  {
   "cell_type": "code",
   "execution_count": 434,
   "metadata": {},
   "outputs": [],
   "source": [
    "df_depreciation_calc_3080 = cbiz_asset_and_book_3080_merge[[\n",
    "    'AssetImport_x',  'Asset ID', 'Description', 'Acquisition Date',\n",
    "    ' Acquired Value* ', 'Est Life*', ' Current YTD* ',\n",
    "    ' Current Accum* ', ' NBV* ', 'life_years','LifeRemaining', 'Basis',\n",
    "    'YearPlacedInService', 'Convention','LifeToDateDepreciation',\n",
    "]]"
   ]
  },
  {
   "cell_type": "code",
   "execution_count": 435,
   "metadata": {},
   "outputs": [],
   "source": [
    "# df_depreciation_calc_3080.tail(2)"
   ]
  },
  {
   "cell_type": "code",
   "execution_count": 436,
   "metadata": {},
   "outputs": [],
   "source": [
    "# df_depreciation_calc_3080.loc[49631]['Acquisition Date'] +\\\n",
    "# relativedelta(years=df_depreciation_calc_3080.loc[49631]['life_years'])"
   ]
  },
  {
   "cell_type": "code",
   "execution_count": 437,
   "metadata": {},
   "outputs": [
    {
     "name": "stderr",
     "output_type": "stream",
     "text": [
      "<ipython-input-437-e84ed08ff0bd>:1: SettingWithCopyWarning: \n",
      "A value is trying to be set on a copy of a slice from a DataFrame.\n",
      "Try using .loc[row_indexer,col_indexer] = value instead\n",
      "\n",
      "See the caveats in the documentation: https://pandas.pydata.org/pandas-docs/stable/user_guide/indexing.html#returning-a-view-versus-a-copy\n",
      "  df_depreciation_calc_3080['full_dep_yr'] =  df_depreciation_calc_3080['life_years']\\\n"
     ]
    }
   ],
   "source": [
    "df_depreciation_calc_3080['full_dep_yr'] =  df_depreciation_calc_3080['life_years']\\\n",
    ".apply(lambda x: dateutil.relativedelta.relativedelta(years=x))"
   ]
  },
  {
   "cell_type": "code",
   "execution_count": 438,
   "metadata": {},
   "outputs": [
    {
     "name": "stderr",
     "output_type": "stream",
     "text": [
      "C:\\Users\\mikra\\anaconda3\\lib\\site-packages\\pandas\\core\\arrays\\datetimelike.py:1108: PerformanceWarning: Adding/subtracting object-dtype array to DatetimeArray not vectorized\n",
      "  warnings.warn(\n",
      "<ipython-input-438-b86b5c7e6994>:1: SettingWithCopyWarning: \n",
      "A value is trying to be set on a copy of a slice from a DataFrame.\n",
      "Try using .loc[row_indexer,col_indexer] = value instead\n",
      "\n",
      "See the caveats in the documentation: https://pandas.pydata.org/pandas-docs/stable/user_guide/indexing.html#returning-a-view-versus-a-copy\n",
      "  df_depreciation_calc_3080['full_dep_yr_2'] = df_depreciation_calc_3080['Acquisition Date'] +\\\n"
     ]
    }
   ],
   "source": [
    "df_depreciation_calc_3080['full_dep_yr_2'] = df_depreciation_calc_3080['Acquisition Date'] +\\\n",
    "df_depreciation_calc_3080['full_dep_yr']"
   ]
  },
  {
   "cell_type": "code",
   "execution_count": 439,
   "metadata": {
    "scrolled": false
   },
   "outputs": [],
   "source": [
    "# df_depreciation_calc_3080.head()"
   ]
  },
  {
   "cell_type": "code",
   "execution_count": 440,
   "metadata": {},
   "outputs": [],
   "source": [
    "# test_df = df_depreciation_calc_3080.loc[[38285, 39094, 39860, 48386, 49631 ]]\n",
    "# test_df.loc[48386, 'life_years'] = 2\n",
    "# test_df.loc[48386, 'full_dep_yr_2'] = pd.datetime(2020, 7, 1)\n",
    "# test_df"
   ]
  },
  {
   "cell_type": "code",
   "execution_count": 441,
   "metadata": {},
   "outputs": [],
   "source": [
    "balance_sheet_date = datetime(2020, 12, 31)\n",
    "balance_sheet_date_2021 = datetime(2021, 12, 31)"
   ]
  },
  {
   "cell_type": "code",
   "execution_count": 442,
   "metadata": {},
   "outputs": [],
   "source": [
    "def dep_calc_2020(row):\n",
    "    \"\"\"\n",
    "    This function takes a dataframe row as a parameter and\n",
    "    calculates the straight line method depreciation using a half year convention.\n",
    "    It adds a column for the 2020 calculated depreciation to the dataframe\n",
    "    \"\"\"\n",
    "          \n",
    "    if row['life_years'] < 1:\n",
    "        row['dep_exp_2020'] = 0\n",
    "        \n",
    "    elif row['Acquisition Date'].year == balance_sheet_date.year:\n",
    "       \n",
    "        row['dep_exp_2020'] = row[' Acquired Value* ']\\\n",
    "        / row['life_years'] * .5\n",
    "    \n",
    "    elif row['full_dep_yr_2'].year == balance_sheet_date.year:\n",
    "        row['dep_exp_2020'] = row[' Acquired Value* ']\\\n",
    "        / row['life_years'] * .5\n",
    "      \n",
    "    elif (row['full_dep_yr_2'].year > balance_sheet_date.year) &\\\n",
    "    (row['Acquisition Date'].year < balance_sheet_date.year):\n",
    "        \n",
    "        row['dep_exp_2020'] = row[' Acquired Value* '] / row['life_years']\n",
    "         \n",
    "    else:\n",
    "        row['dep_exp_2020'] = 0\n",
    "    \n",
    "    return row"
   ]
  },
  {
   "cell_type": "code",
   "execution_count": 443,
   "metadata": {},
   "outputs": [],
   "source": [
    "def dep_calc_2021(row):\n",
    "    \n",
    "    \"\"\"\n",
    "    This function takes a dataframe row as a parameter and\n",
    "    calculates the straight line method depreciation using a half year convention.\n",
    "    It adds a column for the 2021 calculated depreciation to the dataframe\n",
    "    \"\"\"\n",
    "          \n",
    "    if row['life_years'] < 1:\n",
    "        row['dep_exp_2021'] = 0\n",
    "        \n",
    "    elif row['Acquisition Date'].year == balance_sheet_date_2021.year:\n",
    "       \n",
    "        row['dep_exp_2021'] = row[' Acquired Value* ']\\\n",
    "        / row['life_years'] * .5\n",
    "    \n",
    "    elif row['full_dep_yr_2'].year == balance_sheet_date_2021.year:\n",
    "        row['dep_exp_2021'] = row[' Acquired Value* ']\\\n",
    "        / row['life_years'] * .5\n",
    "      \n",
    "    elif (row['full_dep_yr_2'].year > balance_sheet_date_2021.year) &\\\n",
    "    (row['Acquisition Date'].year < balance_sheet_date_2021.year):\n",
    "        \n",
    "        row['dep_exp_2021'] = row[' Acquired Value* '] / row['life_years']\n",
    "         \n",
    "    else:\n",
    "        row['dep_exp_2021'] = 0\n",
    "    \n",
    "    return row\n",
    "    "
   ]
  },
  {
   "cell_type": "code",
   "execution_count": 444,
   "metadata": {},
   "outputs": [],
   "source": [
    "# add a column for 2020 depreciation\n",
    "df_depreciation_calc_3080 = df_depreciation_calc_3080.apply(dep_calc_2020, axis=1)"
   ]
  },
  {
   "cell_type": "code",
   "execution_count": 445,
   "metadata": {},
   "outputs": [
    {
     "data": {
      "text/plain": [
       " Current YTD*    $3,839,786.00\n",
       "dep_exp_2020     $3,839,784.52\n",
       "dtype: float64"
      ]
     },
     "execution_count": 445,
     "metadata": {},
     "output_type": "execute_result"
    }
   ],
   "source": [
    "# compare calculated 2020 depreciation with Current YTD depreciation column (from cbiz)\n",
    "df_depreciation_calc_3080[[' Current YTD* ', 'dep_exp_2020' ]].sum()"
   ]
  },
  {
   "cell_type": "code",
   "execution_count": 446,
   "metadata": {},
   "outputs": [],
   "source": [
    "# calculate 2021 depreciation and add column to df\n",
    "df_depreciation_calc_3080 = df_depreciation_calc_3080.apply(dep_calc_2021, axis=1)"
   ]
  },
  {
   "cell_type": "code",
   "execution_count": 447,
   "metadata": {},
   "outputs": [],
   "source": [
    "# df_depreciation_calc_3080.columns"
   ]
  },
  {
   "cell_type": "code",
   "execution_count": 448,
   "metadata": {},
   "outputs": [
    {
     "data": {
      "text/plain": [
       " Current YTD*    $3,839,786.00\n",
       "dep_exp_2020     $3,839,784.52\n",
       "dep_exp_2021     $4,024,555.09\n",
       "dtype: float64"
      ]
     },
     "execution_count": 448,
     "metadata": {},
     "output_type": "execute_result"
    }
   ],
   "source": [
    "df_depreciation_calc_3080[[' Current YTD* ', 'dep_exp_2020', 'dep_exp_2021' ]].sum()"
   ]
  },
  {
   "cell_type": "code",
   "execution_count": 449,
   "metadata": {},
   "outputs": [
    {
     "data": {
      "text/html": [
       "<div>\n",
       "<style scoped>\n",
       "    .dataframe tbody tr th:only-of-type {\n",
       "        vertical-align: middle;\n",
       "    }\n",
       "\n",
       "    .dataframe tbody tr th {\n",
       "        vertical-align: top;\n",
       "    }\n",
       "\n",
       "    .dataframe thead th {\n",
       "        text-align: right;\n",
       "    }\n",
       "</style>\n",
       "<table border=\"1\" class=\"dataframe\">\n",
       "  <thead>\n",
       "    <tr style=\"text-align: right;\">\n",
       "      <th></th>\n",
       "      <th>AssetImport_x</th>\n",
       "      <th>Asset ID</th>\n",
       "      <th>Description</th>\n",
       "      <th>Acquisition Date</th>\n",
       "      <th>Acquired Value*</th>\n",
       "      <th>Est Life*</th>\n",
       "      <th>Current YTD*</th>\n",
       "      <th>Current Accum*</th>\n",
       "      <th>NBV*</th>\n",
       "      <th>life_years</th>\n",
       "      <th>LifeRemaining</th>\n",
       "      <th>Basis</th>\n",
       "      <th>YearPlacedInService</th>\n",
       "      <th>Convention</th>\n",
       "      <th>LifeToDateDepreciation</th>\n",
       "      <th>full_dep_yr</th>\n",
       "      <th>full_dep_yr_2</th>\n",
       "      <th>dep_exp_2020</th>\n",
       "      <th>dep_exp_2021</th>\n",
       "    </tr>\n",
       "    <tr>\n",
       "      <th>cbiz_index</th>\n",
       "      <th></th>\n",
       "      <th></th>\n",
       "      <th></th>\n",
       "      <th></th>\n",
       "      <th></th>\n",
       "      <th></th>\n",
       "      <th></th>\n",
       "      <th></th>\n",
       "      <th></th>\n",
       "      <th></th>\n",
       "      <th></th>\n",
       "      <th></th>\n",
       "      <th></th>\n",
       "      <th></th>\n",
       "      <th></th>\n",
       "      <th></th>\n",
       "      <th></th>\n",
       "      <th></th>\n",
       "      <th></th>\n",
       "    </tr>\n",
       "  </thead>\n",
       "  <tbody>\n",
       "    <tr>\n",
       "      <th>48045</th>\n",
       "      <td>MMC_48045</td>\n",
       "      <td>48045</td>\n",
       "      <td>-SPECTRUM SMART CABLE SCOPE</td>\n",
       "      <td>2017-07-01</td>\n",
       "      <td>$12,785.00</td>\n",
       "      <td>03 yrs 00 mos</td>\n",
       "      <td>$2,130.00</td>\n",
       "      <td>$12,785.00</td>\n",
       "      <td>NaN</td>\n",
       "      <td>3</td>\n",
       "      <td>$0.00</td>\n",
       "      <td>$12,785.00</td>\n",
       "      <td>NaN</td>\n",
       "      <td>HY</td>\n",
       "      <td>$12,785.00</td>\n",
       "      <td>relativedelta(years=+3)</td>\n",
       "      <td>2020-07-01</td>\n",
       "      <td>$2,130.83</td>\n",
       "      <td>$0.00</td>\n",
       "    </tr>\n",
       "    <tr>\n",
       "      <th>49613</th>\n",
       "      <td>MMC_49613</td>\n",
       "      <td>49613</td>\n",
       "      <td>PURCHASE - 3519-3515 BAINBRIDGE AVE - ST. ANNS</td>\n",
       "      <td>2020-07-01</td>\n",
       "      <td>$14,479,688.00</td>\n",
       "      <td>40 yrs 00 mos</td>\n",
       "      <td>$180,996.00</td>\n",
       "      <td>$180,996.00</td>\n",
       "      <td>$14,298,692.00</td>\n",
       "      <td>40</td>\n",
       "      <td>$474.00</td>\n",
       "      <td>$14,479,687.61</td>\n",
       "      <td>NaN</td>\n",
       "      <td>HY</td>\n",
       "      <td>$180,996.10</td>\n",
       "      <td>relativedelta(years=+40)</td>\n",
       "      <td>2060-07-01</td>\n",
       "      <td>$180,996.10</td>\n",
       "      <td>$361,992.20</td>\n",
       "    </tr>\n",
       "    <tr>\n",
       "      <th>49622</th>\n",
       "      <td>MMC_49622</td>\n",
       "      <td>49622</td>\n",
       "      <td>BMS MIGRATION (HARDWEAR)</td>\n",
       "      <td>2020-07-01</td>\n",
       "      <td>$17,800.00</td>\n",
       "      <td>05 yrs 00 mos</td>\n",
       "      <td>$1,780.00</td>\n",
       "      <td>$1,780.00</td>\n",
       "      <td>$16,020.00</td>\n",
       "      <td>5</td>\n",
       "      <td>$54.00</td>\n",
       "      <td>$17,800.00</td>\n",
       "      <td>NaN</td>\n",
       "      <td>HY</td>\n",
       "      <td>$1,780.00</td>\n",
       "      <td>relativedelta(years=+5)</td>\n",
       "      <td>2025-07-01</td>\n",
       "      <td>$1,780.00</td>\n",
       "      <td>$3,560.00</td>\n",
       "    </tr>\n",
       "    <tr>\n",
       "      <th>49623</th>\n",
       "      <td>MMC_49623</td>\n",
       "      <td>49623</td>\n",
       "      <td>BMS MIGRATION (FIBER)</td>\n",
       "      <td>2020-07-01</td>\n",
       "      <td>$15,900.00</td>\n",
       "      <td>05 yrs 00 mos</td>\n",
       "      <td>$1,590.00</td>\n",
       "      <td>$1,590.00</td>\n",
       "      <td>$14,310.00</td>\n",
       "      <td>5</td>\n",
       "      <td>$54.00</td>\n",
       "      <td>$15,900.00</td>\n",
       "      <td>NaN</td>\n",
       "      <td>HY</td>\n",
       "      <td>$1,590.00</td>\n",
       "      <td>relativedelta(years=+5)</td>\n",
       "      <td>2025-07-01</td>\n",
       "      <td>$1,590.00</td>\n",
       "      <td>$3,180.00</td>\n",
       "    </tr>\n",
       "    <tr>\n",
       "      <th>49624</th>\n",
       "      <td>MMC_49624</td>\n",
       "      <td>49624</td>\n",
       "      <td>WINDOW REPLACEMENT</td>\n",
       "      <td>2020-07-01</td>\n",
       "      <td>$8,100.00</td>\n",
       "      <td>15 yrs 00 mos</td>\n",
       "      <td>$270.00</td>\n",
       "      <td>$270.00</td>\n",
       "      <td>$7,830.00</td>\n",
       "      <td>15</td>\n",
       "      <td>$174.00</td>\n",
       "      <td>$8,100.00</td>\n",
       "      <td>NaN</td>\n",
       "      <td>HY</td>\n",
       "      <td>$270.00</td>\n",
       "      <td>relativedelta(years=+15)</td>\n",
       "      <td>2035-07-01</td>\n",
       "      <td>$270.00</td>\n",
       "      <td>$540.00</td>\n",
       "    </tr>\n",
       "    <tr>\n",
       "      <th>49625</th>\n",
       "      <td>MMC_49625</td>\n",
       "      <td>49625</td>\n",
       "      <td>NEW EXHAUST FAN</td>\n",
       "      <td>2020-07-01</td>\n",
       "      <td>$6,815.00</td>\n",
       "      <td>15 yrs 00 mos</td>\n",
       "      <td>$227.00</td>\n",
       "      <td>$227.00</td>\n",
       "      <td>$6,588.00</td>\n",
       "      <td>15</td>\n",
       "      <td>$174.00</td>\n",
       "      <td>$6,815.00</td>\n",
       "      <td>NaN</td>\n",
       "      <td>HY</td>\n",
       "      <td>$227.17</td>\n",
       "      <td>relativedelta(years=+15)</td>\n",
       "      <td>2035-07-01</td>\n",
       "      <td>$227.17</td>\n",
       "      <td>$454.33</td>\n",
       "    </tr>\n",
       "    <tr>\n",
       "      <th>49626</th>\n",
       "      <td>MMC_49626</td>\n",
       "      <td>49626</td>\n",
       "      <td>SPENCE REGULATION VALVE</td>\n",
       "      <td>2020-07-01</td>\n",
       "      <td>$8,700.00</td>\n",
       "      <td>15 yrs 00 mos</td>\n",
       "      <td>$290.00</td>\n",
       "      <td>$290.00</td>\n",
       "      <td>$8,410.00</td>\n",
       "      <td>15</td>\n",
       "      <td>$174.00</td>\n",
       "      <td>$8,700.00</td>\n",
       "      <td>NaN</td>\n",
       "      <td>HY</td>\n",
       "      <td>$290.00</td>\n",
       "      <td>relativedelta(years=+15)</td>\n",
       "      <td>2035-07-01</td>\n",
       "      <td>$290.00</td>\n",
       "      <td>$580.00</td>\n",
       "    </tr>\n",
       "    <tr>\n",
       "      <th>49627</th>\n",
       "      <td>MMC_49627</td>\n",
       "      <td>49627</td>\n",
       "      <td>CULLIGAN WATER SOFTENER SYSTEM</td>\n",
       "      <td>2020-07-01</td>\n",
       "      <td>$8,000.00</td>\n",
       "      <td>15 yrs 00 mos</td>\n",
       "      <td>$267.00</td>\n",
       "      <td>$267.00</td>\n",
       "      <td>$7,733.00</td>\n",
       "      <td>15</td>\n",
       "      <td>$174.00</td>\n",
       "      <td>$8,000.00</td>\n",
       "      <td>NaN</td>\n",
       "      <td>HY</td>\n",
       "      <td>$266.67</td>\n",
       "      <td>relativedelta(years=+15)</td>\n",
       "      <td>2035-07-01</td>\n",
       "      <td>$266.67</td>\n",
       "      <td>$533.33</td>\n",
       "    </tr>\n",
       "    <tr>\n",
       "      <th>49628</th>\n",
       "      <td>MMC_49628</td>\n",
       "      <td>49628</td>\n",
       "      <td>BOILER NO. 2 REFRACTORY</td>\n",
       "      <td>2020-07-01</td>\n",
       "      <td>$13,375.00</td>\n",
       "      <td>15 yrs 00 mos</td>\n",
       "      <td>$446.00</td>\n",
       "      <td>$446.00</td>\n",
       "      <td>$12,929.00</td>\n",
       "      <td>15</td>\n",
       "      <td>$174.00</td>\n",
       "      <td>$13,375.00</td>\n",
       "      <td>NaN</td>\n",
       "      <td>HY</td>\n",
       "      <td>$445.83</td>\n",
       "      <td>relativedelta(years=+15)</td>\n",
       "      <td>2035-07-01</td>\n",
       "      <td>$445.83</td>\n",
       "      <td>$891.67</td>\n",
       "    </tr>\n",
       "    <tr>\n",
       "      <th>49629</th>\n",
       "      <td>MMC_49629</td>\n",
       "      <td>49629</td>\n",
       "      <td>COMPRESSOR REPLACEMENT</td>\n",
       "      <td>2020-07-01</td>\n",
       "      <td>$6,385.00</td>\n",
       "      <td>15 yrs 00 mos</td>\n",
       "      <td>$213.00</td>\n",
       "      <td>$213.00</td>\n",
       "      <td>$6,172.00</td>\n",
       "      <td>15</td>\n",
       "      <td>$174.00</td>\n",
       "      <td>$6,385.00</td>\n",
       "      <td>NaN</td>\n",
       "      <td>HY</td>\n",
       "      <td>$212.83</td>\n",
       "      <td>relativedelta(years=+15)</td>\n",
       "      <td>2035-07-01</td>\n",
       "      <td>$212.83</td>\n",
       "      <td>$425.67</td>\n",
       "    </tr>\n",
       "    <tr>\n",
       "      <th>49630</th>\n",
       "      <td>MMC_49630</td>\n",
       "      <td>49630</td>\n",
       "      <td>AHU GS REMODEL</td>\n",
       "      <td>2020-07-01</td>\n",
       "      <td>$11,000.00</td>\n",
       "      <td>15 yrs 00 mos</td>\n",
       "      <td>$367.00</td>\n",
       "      <td>$367.00</td>\n",
       "      <td>$10,633.00</td>\n",
       "      <td>15</td>\n",
       "      <td>$174.00</td>\n",
       "      <td>$11,000.00</td>\n",
       "      <td>NaN</td>\n",
       "      <td>HY</td>\n",
       "      <td>$366.67</td>\n",
       "      <td>relativedelta(years=+15)</td>\n",
       "      <td>2035-07-01</td>\n",
       "      <td>$366.67</td>\n",
       "      <td>$733.33</td>\n",
       "    </tr>\n",
       "    <tr>\n",
       "      <th>49631</th>\n",
       "      <td>MMC_49631</td>\n",
       "      <td>49631</td>\n",
       "      <td>ADA DOOR REPLACEMENT</td>\n",
       "      <td>2020-07-01</td>\n",
       "      <td>$13,684.00</td>\n",
       "      <td>15 yrs 00 mos</td>\n",
       "      <td>$456.00</td>\n",
       "      <td>$456.00</td>\n",
       "      <td>$13,228.00</td>\n",
       "      <td>15</td>\n",
       "      <td>$174.00</td>\n",
       "      <td>$13,684.00</td>\n",
       "      <td>NaN</td>\n",
       "      <td>HY</td>\n",
       "      <td>$456.13</td>\n",
       "      <td>relativedelta(years=+15)</td>\n",
       "      <td>2035-07-01</td>\n",
       "      <td>$456.13</td>\n",
       "      <td>$912.27</td>\n",
       "    </tr>\n",
       "  </tbody>\n",
       "</table>\n",
       "</div>"
      ],
      "text/plain": [
       "           AssetImport_x  Asset ID                                     Description Acquisition Date   Acquired Value*       Est Life*   Current YTD*    Current Accum*           NBV*   life_years  LifeRemaining          Basis  YearPlacedInService Convention  LifeToDateDepreciation               full_dep_yr full_dep_yr_2  dep_exp_2020  dep_exp_2021\n",
       "cbiz_index                                                                                                                                                                                                                                                                                                                                                  \n",
       "48045          MMC_48045     48045                     -SPECTRUM SMART CABLE SCOPE       2017-07-01         $12,785.00  03 yrs 00 mos       $2,130.00        $12,785.00            NaN           3          $0.00     $12,785.00                  NaN         HY              $12,785.00   relativedelta(years=+3)    2020-07-01     $2,130.83         $0.00\n",
       "49613          MMC_49613     49613  PURCHASE - 3519-3515 BAINBRIDGE AVE - ST. ANNS       2020-07-01     $14,479,688.00  40 yrs 00 mos     $180,996.00       $180,996.00 $14,298,692.00          40        $474.00 $14,479,687.61                  NaN         HY             $180,996.10  relativedelta(years=+40)    2060-07-01   $180,996.10   $361,992.20\n",
       "49622          MMC_49622     49622                        BMS MIGRATION (HARDWEAR)       2020-07-01         $17,800.00  05 yrs 00 mos       $1,780.00         $1,780.00     $16,020.00           5         $54.00     $17,800.00                  NaN         HY               $1,780.00   relativedelta(years=+5)    2025-07-01     $1,780.00     $3,560.00\n",
       "49623          MMC_49623     49623                           BMS MIGRATION (FIBER)       2020-07-01         $15,900.00  05 yrs 00 mos       $1,590.00         $1,590.00     $14,310.00           5         $54.00     $15,900.00                  NaN         HY               $1,590.00   relativedelta(years=+5)    2025-07-01     $1,590.00     $3,180.00\n",
       "49624          MMC_49624     49624                              WINDOW REPLACEMENT       2020-07-01          $8,100.00  15 yrs 00 mos         $270.00           $270.00      $7,830.00          15        $174.00      $8,100.00                  NaN         HY                 $270.00  relativedelta(years=+15)    2035-07-01       $270.00       $540.00\n",
       "49625          MMC_49625     49625                                 NEW EXHAUST FAN       2020-07-01          $6,815.00  15 yrs 00 mos         $227.00           $227.00      $6,588.00          15        $174.00      $6,815.00                  NaN         HY                 $227.17  relativedelta(years=+15)    2035-07-01       $227.17       $454.33\n",
       "49626          MMC_49626     49626                         SPENCE REGULATION VALVE       2020-07-01          $8,700.00  15 yrs 00 mos         $290.00           $290.00      $8,410.00          15        $174.00      $8,700.00                  NaN         HY                 $290.00  relativedelta(years=+15)    2035-07-01       $290.00       $580.00\n",
       "49627          MMC_49627     49627                  CULLIGAN WATER SOFTENER SYSTEM       2020-07-01          $8,000.00  15 yrs 00 mos         $267.00           $267.00      $7,733.00          15        $174.00      $8,000.00                  NaN         HY                 $266.67  relativedelta(years=+15)    2035-07-01       $266.67       $533.33\n",
       "49628          MMC_49628     49628                         BOILER NO. 2 REFRACTORY       2020-07-01         $13,375.00  15 yrs 00 mos         $446.00           $446.00     $12,929.00          15        $174.00     $13,375.00                  NaN         HY                 $445.83  relativedelta(years=+15)    2035-07-01       $445.83       $891.67\n",
       "49629          MMC_49629     49629                          COMPRESSOR REPLACEMENT       2020-07-01          $6,385.00  15 yrs 00 mos         $213.00           $213.00      $6,172.00          15        $174.00      $6,385.00                  NaN         HY                 $212.83  relativedelta(years=+15)    2035-07-01       $212.83       $425.67\n",
       "49630          MMC_49630     49630                                  AHU GS REMODEL       2020-07-01         $11,000.00  15 yrs 00 mos         $367.00           $367.00     $10,633.00          15        $174.00     $11,000.00                  NaN         HY                 $366.67  relativedelta(years=+15)    2035-07-01       $366.67       $733.33\n",
       "49631          MMC_49631     49631                            ADA DOOR REPLACEMENT       2020-07-01         $13,684.00  15 yrs 00 mos         $456.00           $456.00     $13,228.00          15        $174.00     $13,684.00                  NaN         HY                 $456.13  relativedelta(years=+15)    2035-07-01       $456.13       $912.27"
      ]
     },
     "execution_count": 449,
     "metadata": {},
     "output_type": "execute_result"
    }
   ],
   "source": [
    "# filter the df for columns that have a different depreciation expense for 2020 and 2021\n",
    "df_depreciation_calc_3080[df_depreciation_calc_3080['dep_exp_2020'] != df_depreciation_calc_3080['dep_exp_2021' ]]\n"
   ]
  },
  {
   "cell_type": "code",
   "execution_count": 450,
   "metadata": {},
   "outputs": [],
   "source": [
    "# populate a column with 2020 YTD depreciation expense through October 2021\n",
    "\n",
    "df_depreciation_calc_3080['depr_ytd_oct'] = df_depreciation_calc_3080['dep_exp_2021'] * (10/12)"
   ]
  },
  {
   "cell_type": "code",
   "execution_count": 451,
   "metadata": {},
   "outputs": [
    {
     "data": {
      "text/plain": [
       " Current YTD*    $3,839,786.00\n",
       "dep_exp_2020     $3,839,784.52\n",
       "dep_exp_2021     $4,024,555.09\n",
       "depr_ytd_oct     $3,353,795.91\n",
       "dtype: float64"
      ]
     },
     "execution_count": 451,
     "metadata": {},
     "output_type": "execute_result"
    }
   ],
   "source": [
    "df_depreciation_calc_3080[[' Current YTD* ', 'dep_exp_2020', 'dep_exp_2021', 'depr_ytd_oct' ]].sum()"
   ]
  },
  {
   "cell_type": "code",
   "execution_count": 452,
   "metadata": {},
   "outputs": [],
   "source": [
    "# cbiz_asset_and_book_3080_merge = cbiz_asset_and_book_3080_merge.merge(fsm_asset_number, how='left',\n",
    "#                                             left_on='Asset ID', right_on=\"cbiz_index\")"
   ]
  },
  {
   "cell_type": "code",
   "execution_count": 453,
   "metadata": {},
   "outputs": [
    {
     "data": {
      "text/plain": [
       "118736253.0"
      ]
     },
     "execution_count": 453,
     "metadata": {},
     "output_type": "execute_result"
    }
   ],
   "source": [
    "cbiz_asset_and_book_3080_merge[' Acquired Value* '].sum()"
   ]
  },
  {
   "cell_type": "code",
   "execution_count": 454,
   "metadata": {},
   "outputs": [
    {
     "data": {
      "text/plain": [
       "118736253.0"
      ]
     },
     "execution_count": 454,
     "metadata": {},
     "output_type": "execute_result"
    }
   ],
   "source": [
    "df_depreciation_calc_3080[' Acquired Value* '].sum()"
   ]
  },
  {
   "cell_type": "code",
   "execution_count": 455,
   "metadata": {},
   "outputs": [],
   "source": [
    "df_depreciation_calc_3080 = df_depreciation_calc_3080.merge(fsm_asset_number, how='left',\n",
    "                                            left_on='Asset ID', right_on=\"cbiz_index\")"
   ]
  },
  {
   "cell_type": "code",
   "execution_count": 456,
   "metadata": {},
   "outputs": [
    {
     "name": "stdout",
     "output_type": "stream",
     "text": [
      "<class 'pandas.core.frame.DataFrame'>\n",
      "Int64Index: 145 entries, 0 to 144\n",
      "Data columns (total 22 columns):\n",
      " #   Column                  Non-Null Count  Dtype         \n",
      "---  ------                  --------------  -----         \n",
      " 0   AssetImport_x           145 non-null    object        \n",
      " 1   Asset ID                145 non-null    int64         \n",
      " 2   Description             145 non-null    object        \n",
      " 3   Acquisition Date        145 non-null    datetime64[ns]\n",
      " 4    Acquired Value*        145 non-null    float64       \n",
      " 5   Est Life*               145 non-null    object        \n",
      " 6    Current YTD*           101 non-null    float64       \n",
      " 7    Current Accum*         131 non-null    float64       \n",
      " 8    NBV*                   114 non-null    float64       \n",
      " 9   life_years              145 non-null    int64         \n",
      " 10  LifeRemaining           145 non-null    float64       \n",
      " 11  Basis                   145 non-null    float64       \n",
      " 12  YearPlacedInService     0 non-null      float64       \n",
      " 13  Convention              145 non-null    object        \n",
      " 14  LifeToDateDepreciation  145 non-null    float64       \n",
      " 15  full_dep_yr             145 non-null    object        \n",
      " 16  full_dep_yr_2           145 non-null    datetime64[ns]\n",
      " 17  dep_exp_2020            145 non-null    float64       \n",
      " 18  dep_exp_2021            145 non-null    float64       \n",
      " 19  depr_ytd_oct            145 non-null    float64       \n",
      " 20  Asset                   145 non-null    int64         \n",
      " 21  cbiz_index              145 non-null    int64         \n",
      "dtypes: datetime64[ns](2), float64(11), int64(4), object(5)\n",
      "memory usage: 26.1+ KB\n"
     ]
    }
   ],
   "source": [
    "df_depreciation_calc_3080.info()"
   ]
  },
  {
   "cell_type": "code",
   "execution_count": 457,
   "metadata": {},
   "outputs": [],
   "source": [
    "df_depreciation_calc_3080 = df_depreciation_calc_3080[['Asset ID', 'cbiz_index', 'Asset','Description', 'Acquisition Date',\n",
    "       ' Acquired Value* ',  'Basis', ' Current YTD* ', ' Current Accum* ', 'LifeToDateDepreciation',\n",
    "       ' NBV* ', 'life_years','full_dep_yr_2', 'LifeRemaining', 'dep_exp_2020', 'dep_exp_2021', 'depr_ytd_oct',  ]]\n",
    "\n",
    "df_depreciation_calc_3080 = df_depreciation_calc_3080.merge(fsm_depreciation, how='left',\n",
    "                                                           left_on='Asset', right_on='Asset')\n",
    "\n",
    "df_depreciation_calc_3080 = df_depreciation_calc_3080[['Asset ID', 'cbiz_index', 'Asset','Description', 'Acquisition Date',\n",
    "       ' Acquired Value* ',  'Basis', ' Current YTD* ', ' Current Accum* ', 'LifeToDateDepreciation',\n",
    "       ' NBV* ', 'life_years','full_dep_yr_2', 'LifeRemaining', 'dep_exp_2020', 'dep_exp_2021', 'depr_ytd_oct','CurrentPeriodDepreciation',  ]]\n",
    "\n",
    "\n"
   ]
  },
  {
   "cell_type": "code",
   "execution_count": 458,
   "metadata": {},
   "outputs": [],
   "source": [
    "df_depreciation_calc_3080.to_csv(\n",
    "    r'C:\\Users\\mikra\\OneDrive\\Documents\\Work\\conversion\\SIT3\\november_AX2\\fixed_assets\\mmc\\output\\output_3080\\sit3_depreciation_3080.csv'\n",
    ")"
   ]
  },
  {
   "cell_type": "markdown",
   "metadata": {},
   "source": [
    "### Calculate company 3000 depreciation expense for fiscal 2021 and compare to CBIZ projections"
   ]
  },
  {
   "cell_type": "code",
   "execution_count": 459,
   "metadata": {},
   "outputs": [
    {
     "name": "stderr",
     "output_type": "stream",
     "text": [
      "<ipython-input-459-df65570c3184>:8: SettingWithCopyWarning: \n",
      "A value is trying to be set on a copy of a slice from a DataFrame.\n",
      "Try using .loc[row_indexer,col_indexer] = value instead\n",
      "\n",
      "See the caveats in the documentation: https://pandas.pydata.org/pandas-docs/stable/user_guide/indexing.html#returning-a-view-versus-a-copy\n",
      "  df_depreciation_calc_3000['full_dep_yr'] =  df_depreciation_calc_3000['life_years']\\\n"
     ]
    }
   ],
   "source": [
    "df_depreciation_calc_3000 = cbiz_asset_and_book_3000_merge[[\n",
    "    'AssetImport_x',  'Asset ID', 'Description', 'Acquisition Date',\n",
    "    ' Acquired Value* ', 'Est Life*', ' Current YTD* ',\n",
    "    ' Current Accum* ', ' NBV* ', 'life_years','LifeRemaining', 'Basis',\n",
    "    'YearPlacedInService', 'Convention','LifeToDateDepreciation'\n",
    "]]\n",
    "\n",
    "df_depreciation_calc_3000['full_dep_yr'] =  df_depreciation_calc_3000['life_years']\\\n",
    ".apply(lambda x: dateutil.relativedelta.relativedelta(years=x))\n",
    "\n"
   ]
  },
  {
   "cell_type": "code",
   "execution_count": 460,
   "metadata": {},
   "outputs": [
    {
     "name": "stderr",
     "output_type": "stream",
     "text": [
      "C:\\Users\\mikra\\anaconda3\\lib\\site-packages\\pandas\\core\\arrays\\datetimelike.py:1108: PerformanceWarning: Adding/subtracting object-dtype array to DatetimeArray not vectorized\n",
      "  warnings.warn(\n",
      "<ipython-input-460-bf62fb49683e>:1: SettingWithCopyWarning: \n",
      "A value is trying to be set on a copy of a slice from a DataFrame.\n",
      "Try using .loc[row_indexer,col_indexer] = value instead\n",
      "\n",
      "See the caveats in the documentation: https://pandas.pydata.org/pandas-docs/stable/user_guide/indexing.html#returning-a-view-versus-a-copy\n",
      "  df_depreciation_calc_3000['full_dep_yr_2'] = df_depreciation_calc_3000['Acquisition Date'] +\\\n"
     ]
    }
   ],
   "source": [
    "df_depreciation_calc_3000['full_dep_yr_2'] = df_depreciation_calc_3000['Acquisition Date'] +\\\n",
    "df_depreciation_calc_3000['full_dep_yr']"
   ]
  },
  {
   "cell_type": "code",
   "execution_count": 461,
   "metadata": {},
   "outputs": [],
   "source": [
    "# cbiz_asset_and_book_3000_merge.loc[46049]"
   ]
  },
  {
   "cell_type": "code",
   "execution_count": 462,
   "metadata": {},
   "outputs": [],
   "source": [
    "# df_depreciation_calc_3000.loc[46049]"
   ]
  },
  {
   "cell_type": "code",
   "execution_count": 463,
   "metadata": {},
   "outputs": [
    {
     "name": "stderr",
     "output_type": "stream",
     "text": [
      "C:\\Users\\mikra\\anaconda3\\lib\\site-packages\\pandas\\core\\indexing.py:1720: SettingWithCopyWarning: \n",
      "A value is trying to be set on a copy of a slice from a DataFrame.\n",
      "Try using .loc[row_indexer,col_indexer] = value instead\n",
      "\n",
      "See the caveats in the documentation: https://pandas.pydata.org/pandas-docs/stable/user_guide/indexing.html#returning-a-view-versus-a-copy\n",
      "  self._setitem_single_column(loc, value, pi)\n"
     ]
    }
   ],
   "source": [
    "# there is one asset whose useful life is not an integer number of years;\n",
    "# so change this asset useful life to the '11.75' life used in the cbiz report\n",
    "df_depreciation_calc_3000.loc[46049, 'life_years']  = 11.75"
   ]
  },
  {
   "cell_type": "code",
   "execution_count": 464,
   "metadata": {},
   "outputs": [],
   "source": [
    "# add a column for 2020 depreciation\n",
    "df_depreciation_calc_3000 = df_depreciation_calc_3000.apply(dep_calc_2020, axis=1)\n",
    "\n",
    "# calculate 2021 depreciation and add column to df\n",
    "df_depreciation_calc_3000 = df_depreciation_calc_3000.apply(dep_calc_2021, axis=1)"
   ]
  },
  {
   "cell_type": "code",
   "execution_count": 465,
   "metadata": {},
   "outputs": [
    {
     "data": {
      "text/plain": [
       " Current YTD*    $147,573,270.00\n",
       "dep_exp_2020     $147,573,184.78\n",
       "dtype: float64"
      ]
     },
     "execution_count": 465,
     "metadata": {},
     "output_type": "execute_result"
    }
   ],
   "source": [
    "# compare calculated 2020 depreciation with Current YTD depreciation column (from cbiz)\n",
    "df_depreciation_calc_3000[[' Current YTD* ', 'dep_exp_2020' ]].sum()"
   ]
  },
  {
   "cell_type": "code",
   "execution_count": 466,
   "metadata": {},
   "outputs": [],
   "source": [
    "df_depreciation_calc_3000['depr_ytd_oct'] = df_depreciation_calc_3000['dep_exp_2021'] * (10/12)"
   ]
  },
  {
   "cell_type": "code",
   "execution_count": 467,
   "metadata": {},
   "outputs": [
    {
     "data": {
      "text/plain": [
       " Current YTD*    $147,573,270.00\n",
       "dep_exp_2020     $147,573,184.78\n",
       "dep_exp_2021     $140,176,394.57\n",
       "depr_ytd_oct     $116,813,662.14\n",
       "dtype: float64"
      ]
     },
     "execution_count": 467,
     "metadata": {},
     "output_type": "execute_result"
    }
   ],
   "source": [
    "df_depreciation_calc_3000[[' Current YTD* ', 'dep_exp_2020', 'dep_exp_2021', 'depr_ytd_oct' ]].sum()"
   ]
  },
  {
   "cell_type": "code",
   "execution_count": 468,
   "metadata": {},
   "outputs": [],
   "source": [
    "# look at the records for which depreciation has changed from 2020 to 2021\n",
    "# df_depreciation_calc_3000[df_depreciation_calc_3000['dep_exp_2020'] != df_depreciation_calc_3000['dep_exp_2021']] \n"
   ]
  },
  {
   "cell_type": "code",
   "execution_count": 469,
   "metadata": {},
   "outputs": [
    {
     "data": {
      "text/html": [
       "<div>\n",
       "<style scoped>\n",
       "    .dataframe tbody tr th:only-of-type {\n",
       "        vertical-align: middle;\n",
       "    }\n",
       "\n",
       "    .dataframe tbody tr th {\n",
       "        vertical-align: top;\n",
       "    }\n",
       "\n",
       "    .dataframe thead th {\n",
       "        text-align: right;\n",
       "    }\n",
       "</style>\n",
       "<table border=\"1\" class=\"dataframe\">\n",
       "  <thead>\n",
       "    <tr style=\"text-align: right;\">\n",
       "      <th></th>\n",
       "      <th>AssetImport_x</th>\n",
       "      <th>Asset ID</th>\n",
       "      <th>Description</th>\n",
       "      <th>Acquisition Date</th>\n",
       "      <th>Acquired Value*</th>\n",
       "      <th>Est Life*</th>\n",
       "      <th>Current YTD*</th>\n",
       "      <th>Current Accum*</th>\n",
       "      <th>NBV*</th>\n",
       "      <th>life_years</th>\n",
       "      <th>LifeRemaining</th>\n",
       "      <th>Basis</th>\n",
       "      <th>YearPlacedInService</th>\n",
       "      <th>Convention</th>\n",
       "      <th>LifeToDateDepreciation</th>\n",
       "      <th>full_dep_yr</th>\n",
       "      <th>full_dep_yr_2</th>\n",
       "      <th>dep_exp_2020</th>\n",
       "      <th>dep_exp_2021</th>\n",
       "      <th>depr_ytd_oct</th>\n",
       "    </tr>\n",
       "    <tr>\n",
       "      <th>cbiz_index</th>\n",
       "      <th></th>\n",
       "      <th></th>\n",
       "      <th></th>\n",
       "      <th></th>\n",
       "      <th></th>\n",
       "      <th></th>\n",
       "      <th></th>\n",
       "      <th></th>\n",
       "      <th></th>\n",
       "      <th></th>\n",
       "      <th></th>\n",
       "      <th></th>\n",
       "      <th></th>\n",
       "      <th></th>\n",
       "      <th></th>\n",
       "      <th></th>\n",
       "      <th></th>\n",
       "      <th></th>\n",
       "      <th></th>\n",
       "      <th></th>\n",
       "    </tr>\n",
       "  </thead>\n",
       "  <tbody>\n",
       "  </tbody>\n",
       "</table>\n",
       "</div>"
      ],
      "text/plain": [
       "Empty DataFrame\n",
       "Columns: [AssetImport_x, Asset ID, Description, Acquisition Date,  Acquired Value* , Est Life*,  Current YTD* ,  Current Accum* ,  NBV* , life_years, LifeRemaining, Basis, YearPlacedInService, Convention, LifeToDateDepreciation, full_dep_yr, full_dep_yr_2, dep_exp_2020, dep_exp_2021, depr_ytd_oct]\n",
       "Index: []"
      ]
     },
     "execution_count": 469,
     "metadata": {},
     "output_type": "execute_result"
    }
   ],
   "source": [
    "# asset that is causing the difference between mmc Current YTD 2020 per cbiz and calculated 2020\n",
    "# assetlife is 11yrs 9 months \n",
    "df_depreciation_calc_3000[abs(df_depreciation_calc_3000[' Current YTD* '] - df_depreciation_calc_3000['dep_exp_2020']) > 1]\n"
   ]
  },
  {
   "cell_type": "code",
   "execution_count": 470,
   "metadata": {},
   "outputs": [],
   "source": [
    "# df_depreciation_calc_3000.info()"
   ]
  },
  {
   "cell_type": "code",
   "execution_count": 471,
   "metadata": {},
   "outputs": [],
   "source": [
    "df_depreciation_calc_3000['Asset ID'] = df_depreciation_calc_3000['Asset ID'].astype('int')"
   ]
  },
  {
   "cell_type": "code",
   "execution_count": 472,
   "metadata": {},
   "outputs": [],
   "source": [
    "# fsm_asset_number.info()"
   ]
  },
  {
   "cell_type": "code",
   "execution_count": 473,
   "metadata": {},
   "outputs": [],
   "source": [
    "# assets_group_3000.info()"
   ]
  },
  {
   "cell_type": "code",
   "execution_count": 474,
   "metadata": {},
   "outputs": [
    {
     "data": {
      "text/html": [
       "<div>\n",
       "<style scoped>\n",
       "    .dataframe tbody tr th:only-of-type {\n",
       "        vertical-align: middle;\n",
       "    }\n",
       "\n",
       "    .dataframe tbody tr th {\n",
       "        vertical-align: top;\n",
       "    }\n",
       "\n",
       "    .dataframe thead th {\n",
       "        text-align: right;\n",
       "    }\n",
       "</style>\n",
       "<table border=\"1\" class=\"dataframe\">\n",
       "  <thead>\n",
       "    <tr style=\"text-align: right;\">\n",
       "      <th></th>\n",
       "      <th>Asset</th>\n",
       "      <th>cbiz_index</th>\n",
       "    </tr>\n",
       "    <tr>\n",
       "      <th>merge_index</th>\n",
       "      <th></th>\n",
       "      <th></th>\n",
       "    </tr>\n",
       "  </thead>\n",
       "  <tbody>\n",
       "    <tr>\n",
       "      <th>38285</th>\n",
       "      <td>28122</td>\n",
       "      <td>38285</td>\n",
       "    </tr>\n",
       "    <tr>\n",
       "      <th>38286</th>\n",
       "      <td>28123</td>\n",
       "      <td>38286</td>\n",
       "    </tr>\n",
       "    <tr>\n",
       "      <th>38287</th>\n",
       "      <td>28124</td>\n",
       "      <td>38287</td>\n",
       "    </tr>\n",
       "    <tr>\n",
       "      <th>38288</th>\n",
       "      <td>28125</td>\n",
       "      <td>38288</td>\n",
       "    </tr>\n",
       "    <tr>\n",
       "      <th>38289</th>\n",
       "      <td>28126</td>\n",
       "      <td>38289</td>\n",
       "    </tr>\n",
       "    <tr>\n",
       "      <th>38290</th>\n",
       "      <td>28127</td>\n",
       "      <td>38290</td>\n",
       "    </tr>\n",
       "    <tr>\n",
       "      <th>38291</th>\n",
       "      <td>28128</td>\n",
       "      <td>38291</td>\n",
       "    </tr>\n",
       "    <tr>\n",
       "      <th>38292</th>\n",
       "      <td>28129</td>\n",
       "      <td>38292</td>\n",
       "    </tr>\n",
       "    <tr>\n",
       "      <th>38293</th>\n",
       "      <td>28130</td>\n",
       "      <td>38293</td>\n",
       "    </tr>\n",
       "    <tr>\n",
       "      <th>38294</th>\n",
       "      <td>28131</td>\n",
       "      <td>38294</td>\n",
       "    </tr>\n",
       "    <tr>\n",
       "      <th>38295</th>\n",
       "      <td>28132</td>\n",
       "      <td>38295</td>\n",
       "    </tr>\n",
       "    <tr>\n",
       "      <th>38296</th>\n",
       "      <td>28133</td>\n",
       "      <td>38296</td>\n",
       "    </tr>\n",
       "    <tr>\n",
       "      <th>38297</th>\n",
       "      <td>28134</td>\n",
       "      <td>38297</td>\n",
       "    </tr>\n",
       "    <tr>\n",
       "      <th>38298</th>\n",
       "      <td>28135</td>\n",
       "      <td>38298</td>\n",
       "    </tr>\n",
       "    <tr>\n",
       "      <th>39052</th>\n",
       "      <td>28136</td>\n",
       "      <td>39052</td>\n",
       "    </tr>\n",
       "    <tr>\n",
       "      <th>39053</th>\n",
       "      <td>28137</td>\n",
       "      <td>39053</td>\n",
       "    </tr>\n",
       "    <tr>\n",
       "      <th>39054</th>\n",
       "      <td>28138</td>\n",
       "      <td>39054</td>\n",
       "    </tr>\n",
       "    <tr>\n",
       "      <th>39085</th>\n",
       "      <td>28139</td>\n",
       "      <td>39085</td>\n",
       "    </tr>\n",
       "    <tr>\n",
       "      <th>39086</th>\n",
       "      <td>28140</td>\n",
       "      <td>39086</td>\n",
       "    </tr>\n",
       "    <tr>\n",
       "      <th>39087</th>\n",
       "      <td>28141</td>\n",
       "      <td>39087</td>\n",
       "    </tr>\n",
       "    <tr>\n",
       "      <th>39088</th>\n",
       "      <td>28142</td>\n",
       "      <td>39088</td>\n",
       "    </tr>\n",
       "    <tr>\n",
       "      <th>39089</th>\n",
       "      <td>28143</td>\n",
       "      <td>39089</td>\n",
       "    </tr>\n",
       "    <tr>\n",
       "      <th>39090</th>\n",
       "      <td>28144</td>\n",
       "      <td>39090</td>\n",
       "    </tr>\n",
       "    <tr>\n",
       "      <th>39091</th>\n",
       "      <td>28145</td>\n",
       "      <td>39091</td>\n",
       "    </tr>\n",
       "    <tr>\n",
       "      <th>39092</th>\n",
       "      <td>28146</td>\n",
       "      <td>39092</td>\n",
       "    </tr>\n",
       "    <tr>\n",
       "      <th>39094</th>\n",
       "      <td>28147</td>\n",
       "      <td>39094</td>\n",
       "    </tr>\n",
       "    <tr>\n",
       "      <th>39857</th>\n",
       "      <td>28148</td>\n",
       "      <td>39857</td>\n",
       "    </tr>\n",
       "    <tr>\n",
       "      <th>39858</th>\n",
       "      <td>28149</td>\n",
       "      <td>39858</td>\n",
       "    </tr>\n",
       "    <tr>\n",
       "      <th>39859</th>\n",
       "      <td>28150</td>\n",
       "      <td>39859</td>\n",
       "    </tr>\n",
       "    <tr>\n",
       "      <th>39860</th>\n",
       "      <td>28151</td>\n",
       "      <td>39860</td>\n",
       "    </tr>\n",
       "    <tr>\n",
       "      <th>39861</th>\n",
       "      <td>28152</td>\n",
       "      <td>39861</td>\n",
       "    </tr>\n",
       "    <tr>\n",
       "      <th>39862</th>\n",
       "      <td>28153</td>\n",
       "      <td>39862</td>\n",
       "    </tr>\n",
       "    <tr>\n",
       "      <th>39863</th>\n",
       "      <td>28154</td>\n",
       "      <td>39863</td>\n",
       "    </tr>\n",
       "    <tr>\n",
       "      <th>39864</th>\n",
       "      <td>28155</td>\n",
       "      <td>39864</td>\n",
       "    </tr>\n",
       "    <tr>\n",
       "      <th>41268</th>\n",
       "      <td>28156</td>\n",
       "      <td>41268</td>\n",
       "    </tr>\n",
       "    <tr>\n",
       "      <th>41333</th>\n",
       "      <td>28157</td>\n",
       "      <td>41333</td>\n",
       "    </tr>\n",
       "    <tr>\n",
       "      <th>41334</th>\n",
       "      <td>28158</td>\n",
       "      <td>41334</td>\n",
       "    </tr>\n",
       "    <tr>\n",
       "      <th>42127</th>\n",
       "      <td>28159</td>\n",
       "      <td>42127</td>\n",
       "    </tr>\n",
       "    <tr>\n",
       "      <th>42128</th>\n",
       "      <td>28160</td>\n",
       "      <td>42128</td>\n",
       "    </tr>\n",
       "    <tr>\n",
       "      <th>42134</th>\n",
       "      <td>28161</td>\n",
       "      <td>42134</td>\n",
       "    </tr>\n",
       "    <tr>\n",
       "      <th>43080</th>\n",
       "      <td>28162</td>\n",
       "      <td>43080</td>\n",
       "    </tr>\n",
       "    <tr>\n",
       "      <th>43081</th>\n",
       "      <td>28163</td>\n",
       "      <td>43081</td>\n",
       "    </tr>\n",
       "    <tr>\n",
       "      <th>43162</th>\n",
       "      <td>28164</td>\n",
       "      <td>43162</td>\n",
       "    </tr>\n",
       "    <tr>\n",
       "      <th>43163</th>\n",
       "      <td>28165</td>\n",
       "      <td>43163</td>\n",
       "    </tr>\n",
       "    <tr>\n",
       "      <th>43164</th>\n",
       "      <td>28166</td>\n",
       "      <td>43164</td>\n",
       "    </tr>\n",
       "    <tr>\n",
       "      <th>43165</th>\n",
       "      <td>28167</td>\n",
       "      <td>43165</td>\n",
       "    </tr>\n",
       "    <tr>\n",
       "      <th>43166</th>\n",
       "      <td>28168</td>\n",
       "      <td>43166</td>\n",
       "    </tr>\n",
       "    <tr>\n",
       "      <th>43167</th>\n",
       "      <td>28169</td>\n",
       "      <td>43167</td>\n",
       "    </tr>\n",
       "    <tr>\n",
       "      <th>43168</th>\n",
       "      <td>28170</td>\n",
       "      <td>43168</td>\n",
       "    </tr>\n",
       "    <tr>\n",
       "      <th>43826</th>\n",
       "      <td>28171</td>\n",
       "      <td>43826</td>\n",
       "    </tr>\n",
       "    <tr>\n",
       "      <th>43856</th>\n",
       "      <td>28172</td>\n",
       "      <td>43856</td>\n",
       "    </tr>\n",
       "    <tr>\n",
       "      <th>43857</th>\n",
       "      <td>28173</td>\n",
       "      <td>43857</td>\n",
       "    </tr>\n",
       "    <tr>\n",
       "      <th>43858</th>\n",
       "      <td>28174</td>\n",
       "      <td>43858</td>\n",
       "    </tr>\n",
       "    <tr>\n",
       "      <th>44629</th>\n",
       "      <td>28175</td>\n",
       "      <td>44629</td>\n",
       "    </tr>\n",
       "    <tr>\n",
       "      <th>44630</th>\n",
       "      <td>28176</td>\n",
       "      <td>44630</td>\n",
       "    </tr>\n",
       "    <tr>\n",
       "      <th>44631</th>\n",
       "      <td>28177</td>\n",
       "      <td>44631</td>\n",
       "    </tr>\n",
       "    <tr>\n",
       "      <th>44632</th>\n",
       "      <td>28178</td>\n",
       "      <td>44632</td>\n",
       "    </tr>\n",
       "    <tr>\n",
       "      <th>44658</th>\n",
       "      <td>28179</td>\n",
       "      <td>44658</td>\n",
       "    </tr>\n",
       "    <tr>\n",
       "      <th>44659</th>\n",
       "      <td>28180</td>\n",
       "      <td>44659</td>\n",
       "    </tr>\n",
       "    <tr>\n",
       "      <th>44660</th>\n",
       "      <td>28181</td>\n",
       "      <td>44660</td>\n",
       "    </tr>\n",
       "    <tr>\n",
       "      <th>45371</th>\n",
       "      <td>28182</td>\n",
       "      <td>45371</td>\n",
       "    </tr>\n",
       "    <tr>\n",
       "      <th>45373</th>\n",
       "      <td>28183</td>\n",
       "      <td>45373</td>\n",
       "    </tr>\n",
       "    <tr>\n",
       "      <th>45374</th>\n",
       "      <td>28184</td>\n",
       "      <td>45374</td>\n",
       "    </tr>\n",
       "    <tr>\n",
       "      <th>45443</th>\n",
       "      <td>28185</td>\n",
       "      <td>45443</td>\n",
       "    </tr>\n",
       "    <tr>\n",
       "      <th>45444</th>\n",
       "      <td>28186</td>\n",
       "      <td>45444</td>\n",
       "    </tr>\n",
       "    <tr>\n",
       "      <th>45445</th>\n",
       "      <td>28187</td>\n",
       "      <td>45445</td>\n",
       "    </tr>\n",
       "    <tr>\n",
       "      <th>45446</th>\n",
       "      <td>28188</td>\n",
       "      <td>45446</td>\n",
       "    </tr>\n",
       "    <tr>\n",
       "      <th>45447</th>\n",
       "      <td>28189</td>\n",
       "      <td>45447</td>\n",
       "    </tr>\n",
       "    <tr>\n",
       "      <th>45448</th>\n",
       "      <td>28190</td>\n",
       "      <td>45448</td>\n",
       "    </tr>\n",
       "    <tr>\n",
       "      <th>46053</th>\n",
       "      <td>28191</td>\n",
       "      <td>46053</td>\n",
       "    </tr>\n",
       "    <tr>\n",
       "      <th>46054</th>\n",
       "      <td>28192</td>\n",
       "      <td>46054</td>\n",
       "    </tr>\n",
       "    <tr>\n",
       "      <th>46742</th>\n",
       "      <td>28193</td>\n",
       "      <td>46742</td>\n",
       "    </tr>\n",
       "    <tr>\n",
       "      <th>46743</th>\n",
       "      <td>28194</td>\n",
       "      <td>46743</td>\n",
       "    </tr>\n",
       "    <tr>\n",
       "      <th>46744</th>\n",
       "      <td>28195</td>\n",
       "      <td>46744</td>\n",
       "    </tr>\n",
       "    <tr>\n",
       "      <th>46745</th>\n",
       "      <td>28196</td>\n",
       "      <td>46745</td>\n",
       "    </tr>\n",
       "    <tr>\n",
       "      <th>46746</th>\n",
       "      <td>28197</td>\n",
       "      <td>46746</td>\n",
       "    </tr>\n",
       "    <tr>\n",
       "      <th>46747</th>\n",
       "      <td>28198</td>\n",
       "      <td>46747</td>\n",
       "    </tr>\n",
       "    <tr>\n",
       "      <th>46748</th>\n",
       "      <td>28199</td>\n",
       "      <td>46748</td>\n",
       "    </tr>\n",
       "    <tr>\n",
       "      <th>47396</th>\n",
       "      <td>28200</td>\n",
       "      <td>47396</td>\n",
       "    </tr>\n",
       "    <tr>\n",
       "      <th>47397</th>\n",
       "      <td>28201</td>\n",
       "      <td>47397</td>\n",
       "    </tr>\n",
       "    <tr>\n",
       "      <th>47398</th>\n",
       "      <td>28202</td>\n",
       "      <td>47398</td>\n",
       "    </tr>\n",
       "    <tr>\n",
       "      <th>48041</th>\n",
       "      <td>28203</td>\n",
       "      <td>48041</td>\n",
       "    </tr>\n",
       "    <tr>\n",
       "      <th>48042</th>\n",
       "      <td>28204</td>\n",
       "      <td>48042</td>\n",
       "    </tr>\n",
       "    <tr>\n",
       "      <th>48043</th>\n",
       "      <td>28205</td>\n",
       "      <td>48043</td>\n",
       "    </tr>\n",
       "    <tr>\n",
       "      <th>48044</th>\n",
       "      <td>28206</td>\n",
       "      <td>48044</td>\n",
       "    </tr>\n",
       "    <tr>\n",
       "      <th>48045</th>\n",
       "      <td>28207</td>\n",
       "      <td>48045</td>\n",
       "    </tr>\n",
       "    <tr>\n",
       "      <th>48046</th>\n",
       "      <td>28208</td>\n",
       "      <td>48046</td>\n",
       "    </tr>\n",
       "    <tr>\n",
       "      <th>48047</th>\n",
       "      <td>28209</td>\n",
       "      <td>48047</td>\n",
       "    </tr>\n",
       "    <tr>\n",
       "      <th>48048</th>\n",
       "      <td>28210</td>\n",
       "      <td>48048</td>\n",
       "    </tr>\n",
       "    <tr>\n",
       "      <th>48049</th>\n",
       "      <td>28211</td>\n",
       "      <td>48049</td>\n",
       "    </tr>\n",
       "    <tr>\n",
       "      <th>48050</th>\n",
       "      <td>28212</td>\n",
       "      <td>48050</td>\n",
       "    </tr>\n",
       "    <tr>\n",
       "      <th>48051</th>\n",
       "      <td>28213</td>\n",
       "      <td>48051</td>\n",
       "    </tr>\n",
       "    <tr>\n",
       "      <th>48052</th>\n",
       "      <td>28214</td>\n",
       "      <td>48052</td>\n",
       "    </tr>\n",
       "    <tr>\n",
       "      <th>48053</th>\n",
       "      <td>28215</td>\n",
       "      <td>48053</td>\n",
       "    </tr>\n",
       "    <tr>\n",
       "      <th>48054</th>\n",
       "      <td>28216</td>\n",
       "      <td>48054</td>\n",
       "    </tr>\n",
       "    <tr>\n",
       "      <th>48055</th>\n",
       "      <td>28217</td>\n",
       "      <td>48055</td>\n",
       "    </tr>\n",
       "    <tr>\n",
       "      <th>48056</th>\n",
       "      <td>28218</td>\n",
       "      <td>48056</td>\n",
       "    </tr>\n",
       "    <tr>\n",
       "      <th>48057</th>\n",
       "      <td>28219</td>\n",
       "      <td>48057</td>\n",
       "    </tr>\n",
       "    <tr>\n",
       "      <th>48058</th>\n",
       "      <td>28220</td>\n",
       "      <td>48058</td>\n",
       "    </tr>\n",
       "    <tr>\n",
       "      <th>48059</th>\n",
       "      <td>28221</td>\n",
       "      <td>48059</td>\n",
       "    </tr>\n",
       "    <tr>\n",
       "      <th>48060</th>\n",
       "      <td>28222</td>\n",
       "      <td>48060</td>\n",
       "    </tr>\n",
       "    <tr>\n",
       "      <th>48061</th>\n",
       "      <td>28223</td>\n",
       "      <td>48061</td>\n",
       "    </tr>\n",
       "    <tr>\n",
       "      <th>48062</th>\n",
       "      <td>28224</td>\n",
       "      <td>48062</td>\n",
       "    </tr>\n",
       "    <tr>\n",
       "      <th>48063</th>\n",
       "      <td>28225</td>\n",
       "      <td>48063</td>\n",
       "    </tr>\n",
       "    <tr>\n",
       "      <th>48064</th>\n",
       "      <td>28226</td>\n",
       "      <td>48064</td>\n",
       "    </tr>\n",
       "    <tr>\n",
       "      <th>48065</th>\n",
       "      <td>28227</td>\n",
       "      <td>48065</td>\n",
       "    </tr>\n",
       "    <tr>\n",
       "      <th>48066</th>\n",
       "      <td>28228</td>\n",
       "      <td>48066</td>\n",
       "    </tr>\n",
       "    <tr>\n",
       "      <th>48067</th>\n",
       "      <td>28229</td>\n",
       "      <td>48067</td>\n",
       "    </tr>\n",
       "    <tr>\n",
       "      <th>48068</th>\n",
       "      <td>28230</td>\n",
       "      <td>48068</td>\n",
       "    </tr>\n",
       "    <tr>\n",
       "      <th>48069</th>\n",
       "      <td>28231</td>\n",
       "      <td>48069</td>\n",
       "    </tr>\n",
       "    <tr>\n",
       "      <th>48070</th>\n",
       "      <td>28232</td>\n",
       "      <td>48070</td>\n",
       "    </tr>\n",
       "    <tr>\n",
       "      <th>48084</th>\n",
       "      <td>28233</td>\n",
       "      <td>48084</td>\n",
       "    </tr>\n",
       "    <tr>\n",
       "      <th>48085</th>\n",
       "      <td>28234</td>\n",
       "      <td>48085</td>\n",
       "    </tr>\n",
       "    <tr>\n",
       "      <th>48086</th>\n",
       "      <td>28235</td>\n",
       "      <td>48086</td>\n",
       "    </tr>\n",
       "    <tr>\n",
       "      <th>48087</th>\n",
       "      <td>28236</td>\n",
       "      <td>48087</td>\n",
       "    </tr>\n",
       "    <tr>\n",
       "      <th>48383</th>\n",
       "      <td>28237</td>\n",
       "      <td>48383</td>\n",
       "    </tr>\n",
       "    <tr>\n",
       "      <th>48384</th>\n",
       "      <td>28238</td>\n",
       "      <td>48384</td>\n",
       "    </tr>\n",
       "    <tr>\n",
       "      <th>48385</th>\n",
       "      <td>28239</td>\n",
       "      <td>48385</td>\n",
       "    </tr>\n",
       "    <tr>\n",
       "      <th>48386</th>\n",
       "      <td>28240</td>\n",
       "      <td>48386</td>\n",
       "    </tr>\n",
       "    <tr>\n",
       "      <th>49598</th>\n",
       "      <td>28241</td>\n",
       "      <td>49598</td>\n",
       "    </tr>\n",
       "    <tr>\n",
       "      <th>49599</th>\n",
       "      <td>28242</td>\n",
       "      <td>49599</td>\n",
       "    </tr>\n",
       "    <tr>\n",
       "      <th>49600</th>\n",
       "      <td>28243</td>\n",
       "      <td>49600</td>\n",
       "    </tr>\n",
       "    <tr>\n",
       "      <th>49601</th>\n",
       "      <td>28244</td>\n",
       "      <td>49601</td>\n",
       "    </tr>\n",
       "    <tr>\n",
       "      <th>49602</th>\n",
       "      <td>28245</td>\n",
       "      <td>49602</td>\n",
       "    </tr>\n",
       "    <tr>\n",
       "      <th>49603</th>\n",
       "      <td>28246</td>\n",
       "      <td>49603</td>\n",
       "    </tr>\n",
       "    <tr>\n",
       "      <th>49604</th>\n",
       "      <td>28247</td>\n",
       "      <td>49604</td>\n",
       "    </tr>\n",
       "    <tr>\n",
       "      <th>49605</th>\n",
       "      <td>28248</td>\n",
       "      <td>49605</td>\n",
       "    </tr>\n",
       "    <tr>\n",
       "      <th>49606</th>\n",
       "      <td>28249</td>\n",
       "      <td>49606</td>\n",
       "    </tr>\n",
       "    <tr>\n",
       "      <th>49607</th>\n",
       "      <td>28250</td>\n",
       "      <td>49607</td>\n",
       "    </tr>\n",
       "    <tr>\n",
       "      <th>49608</th>\n",
       "      <td>28251</td>\n",
       "      <td>49608</td>\n",
       "    </tr>\n",
       "    <tr>\n",
       "      <th>49609</th>\n",
       "      <td>28252</td>\n",
       "      <td>49609</td>\n",
       "    </tr>\n",
       "    <tr>\n",
       "      <th>49610</th>\n",
       "      <td>28253</td>\n",
       "      <td>49610</td>\n",
       "    </tr>\n",
       "    <tr>\n",
       "      <th>49611</th>\n",
       "      <td>28254</td>\n",
       "      <td>49611</td>\n",
       "    </tr>\n",
       "    <tr>\n",
       "      <th>49612</th>\n",
       "      <td>28255</td>\n",
       "      <td>49612</td>\n",
       "    </tr>\n",
       "    <tr>\n",
       "      <th>49613</th>\n",
       "      <td>28256</td>\n",
       "      <td>49613</td>\n",
       "    </tr>\n",
       "    <tr>\n",
       "      <th>49622</th>\n",
       "      <td>28257</td>\n",
       "      <td>49622</td>\n",
       "    </tr>\n",
       "    <tr>\n",
       "      <th>49623</th>\n",
       "      <td>28258</td>\n",
       "      <td>49623</td>\n",
       "    </tr>\n",
       "    <tr>\n",
       "      <th>49624</th>\n",
       "      <td>28259</td>\n",
       "      <td>49624</td>\n",
       "    </tr>\n",
       "    <tr>\n",
       "      <th>49625</th>\n",
       "      <td>28260</td>\n",
       "      <td>49625</td>\n",
       "    </tr>\n",
       "    <tr>\n",
       "      <th>49626</th>\n",
       "      <td>28261</td>\n",
       "      <td>49626</td>\n",
       "    </tr>\n",
       "    <tr>\n",
       "      <th>49627</th>\n",
       "      <td>28262</td>\n",
       "      <td>49627</td>\n",
       "    </tr>\n",
       "    <tr>\n",
       "      <th>49628</th>\n",
       "      <td>28263</td>\n",
       "      <td>49628</td>\n",
       "    </tr>\n",
       "    <tr>\n",
       "      <th>49629</th>\n",
       "      <td>28264</td>\n",
       "      <td>49629</td>\n",
       "    </tr>\n",
       "    <tr>\n",
       "      <th>49630</th>\n",
       "      <td>28265</td>\n",
       "      <td>49630</td>\n",
       "    </tr>\n",
       "    <tr>\n",
       "      <th>49631</th>\n",
       "      <td>28266</td>\n",
       "      <td>49631</td>\n",
       "    </tr>\n",
       "  </tbody>\n",
       "</table>\n",
       "</div>"
      ],
      "text/plain": [
       "             Asset  cbiz_index\n",
       "merge_index                   \n",
       "38285        28122       38285\n",
       "38286        28123       38286\n",
       "38287        28124       38287\n",
       "38288        28125       38288\n",
       "38289        28126       38289\n",
       "38290        28127       38290\n",
       "38291        28128       38291\n",
       "38292        28129       38292\n",
       "38293        28130       38293\n",
       "38294        28131       38294\n",
       "38295        28132       38295\n",
       "38296        28133       38296\n",
       "38297        28134       38297\n",
       "38298        28135       38298\n",
       "39052        28136       39052\n",
       "39053        28137       39053\n",
       "39054        28138       39054\n",
       "39085        28139       39085\n",
       "39086        28140       39086\n",
       "39087        28141       39087\n",
       "39088        28142       39088\n",
       "39089        28143       39089\n",
       "39090        28144       39090\n",
       "39091        28145       39091\n",
       "39092        28146       39092\n",
       "39094        28147       39094\n",
       "39857        28148       39857\n",
       "39858        28149       39858\n",
       "39859        28150       39859\n",
       "39860        28151       39860\n",
       "39861        28152       39861\n",
       "39862        28153       39862\n",
       "39863        28154       39863\n",
       "39864        28155       39864\n",
       "41268        28156       41268\n",
       "41333        28157       41333\n",
       "41334        28158       41334\n",
       "42127        28159       42127\n",
       "42128        28160       42128\n",
       "42134        28161       42134\n",
       "43080        28162       43080\n",
       "43081        28163       43081\n",
       "43162        28164       43162\n",
       "43163        28165       43163\n",
       "43164        28166       43164\n",
       "43165        28167       43165\n",
       "43166        28168       43166\n",
       "43167        28169       43167\n",
       "43168        28170       43168\n",
       "43826        28171       43826\n",
       "43856        28172       43856\n",
       "43857        28173       43857\n",
       "43858        28174       43858\n",
       "44629        28175       44629\n",
       "44630        28176       44630\n",
       "44631        28177       44631\n",
       "44632        28178       44632\n",
       "44658        28179       44658\n",
       "44659        28180       44659\n",
       "44660        28181       44660\n",
       "45371        28182       45371\n",
       "45373        28183       45373\n",
       "45374        28184       45374\n",
       "45443        28185       45443\n",
       "45444        28186       45444\n",
       "45445        28187       45445\n",
       "45446        28188       45446\n",
       "45447        28189       45447\n",
       "45448        28190       45448\n",
       "46053        28191       46053\n",
       "46054        28192       46054\n",
       "46742        28193       46742\n",
       "46743        28194       46743\n",
       "46744        28195       46744\n",
       "46745        28196       46745\n",
       "46746        28197       46746\n",
       "46747        28198       46747\n",
       "46748        28199       46748\n",
       "47396        28200       47396\n",
       "47397        28201       47397\n",
       "47398        28202       47398\n",
       "48041        28203       48041\n",
       "48042        28204       48042\n",
       "48043        28205       48043\n",
       "48044        28206       48044\n",
       "48045        28207       48045\n",
       "48046        28208       48046\n",
       "48047        28209       48047\n",
       "48048        28210       48048\n",
       "48049        28211       48049\n",
       "48050        28212       48050\n",
       "48051        28213       48051\n",
       "48052        28214       48052\n",
       "48053        28215       48053\n",
       "48054        28216       48054\n",
       "48055        28217       48055\n",
       "48056        28218       48056\n",
       "48057        28219       48057\n",
       "48058        28220       48058\n",
       "48059        28221       48059\n",
       "48060        28222       48060\n",
       "48061        28223       48061\n",
       "48062        28224       48062\n",
       "48063        28225       48063\n",
       "48064        28226       48064\n",
       "48065        28227       48065\n",
       "48066        28228       48066\n",
       "48067        28229       48067\n",
       "48068        28230       48068\n",
       "48069        28231       48069\n",
       "48070        28232       48070\n",
       "48084        28233       48084\n",
       "48085        28234       48085\n",
       "48086        28235       48086\n",
       "48087        28236       48087\n",
       "48383        28237       48383\n",
       "48384        28238       48384\n",
       "48385        28239       48385\n",
       "48386        28240       48386\n",
       "49598        28241       49598\n",
       "49599        28242       49599\n",
       "49600        28243       49600\n",
       "49601        28244       49601\n",
       "49602        28245       49602\n",
       "49603        28246       49603\n",
       "49604        28247       49604\n",
       "49605        28248       49605\n",
       "49606        28249       49606\n",
       "49607        28250       49607\n",
       "49608        28251       49608\n",
       "49609        28252       49609\n",
       "49610        28253       49610\n",
       "49611        28254       49611\n",
       "49612        28255       49612\n",
       "49613        28256       49613\n",
       "49622        28257       49622\n",
       "49623        28258       49623\n",
       "49624        28259       49624\n",
       "49625        28260       49625\n",
       "49626        28261       49626\n",
       "49627        28262       49627\n",
       "49628        28263       49628\n",
       "49629        28264       49629\n",
       "49630        28265       49630\n",
       "49631        28266       49631"
      ]
     },
     "execution_count": 474,
     "metadata": {},
     "output_type": "execute_result"
    }
   ],
   "source": [
    "fsm_asset_number_3000 = assets_group_3000[['Asset', 'cbiz_index']]\n",
    "fsm_asset_number"
   ]
  },
  {
   "cell_type": "code",
   "execution_count": 475,
   "metadata": {},
   "outputs": [],
   "source": [
    "df_depreciation_calc_3000 = df_depreciation_calc_3000.merge(fsm_asset_number_3000, how='left',\n",
    "                                            left_on='Asset ID', right_on=\"cbiz_index\")"
   ]
  },
  {
   "cell_type": "code",
   "execution_count": 476,
   "metadata": {},
   "outputs": [
    {
     "data": {
      "text/html": [
       "<div>\n",
       "<style scoped>\n",
       "    .dataframe tbody tr th:only-of-type {\n",
       "        vertical-align: middle;\n",
       "    }\n",
       "\n",
       "    .dataframe tbody tr th {\n",
       "        vertical-align: top;\n",
       "    }\n",
       "\n",
       "    .dataframe thead th {\n",
       "        text-align: right;\n",
       "    }\n",
       "</style>\n",
       "<table border=\"1\" class=\"dataframe\">\n",
       "  <thead>\n",
       "    <tr style=\"text-align: right;\">\n",
       "      <th></th>\n",
       "      <th>Asset ID</th>\n",
       "      <th>cbiz_index</th>\n",
       "      <th>Asset</th>\n",
       "      <th>Description</th>\n",
       "      <th>Acquisition Date</th>\n",
       "      <th>Acquired Value*</th>\n",
       "      <th>Basis</th>\n",
       "      <th>Current YTD*</th>\n",
       "      <th>Current Accum*</th>\n",
       "      <th>LifeToDateDepreciation</th>\n",
       "      <th>NBV*</th>\n",
       "      <th>life_years</th>\n",
       "      <th>full_dep_yr_2</th>\n",
       "      <th>LifeRemaining</th>\n",
       "      <th>dep_exp_2020</th>\n",
       "      <th>dep_exp_2021</th>\n",
       "      <th>depr_ytd_oct</th>\n",
       "      <th>CurrentPeriodDepreciation</th>\n",
       "    </tr>\n",
       "  </thead>\n",
       "  <tbody>\n",
       "    <tr>\n",
       "      <th>27168</th>\n",
       "      <td>50131</td>\n",
       "      <td>50131</td>\n",
       "      <td>26275</td>\n",
       "      <td>5000005347  BURKE REHAB BILING BLDG RENOVATION</td>\n",
       "      <td>2020-07-01</td>\n",
       "      <td>$92,355.00</td>\n",
       "      <td>$92,355.14</td>\n",
       "      <td>$3,079.00</td>\n",
       "      <td>$3,079.00</td>\n",
       "      <td>$3,078.51</td>\n",
       "      <td>$89,277.00</td>\n",
       "      <td>$15.00</td>\n",
       "      <td>2035-07-01</td>\n",
       "      <td>$174.00</td>\n",
       "      <td>$3,078.50</td>\n",
       "      <td>$6,157.00</td>\n",
       "      <td>$5,130.83</td>\n",
       "      <td>$2,052.34</td>\n",
       "    </tr>\n",
       "    <tr>\n",
       "      <th>27169</th>\n",
       "      <td>50132</td>\n",
       "      <td>50132</td>\n",
       "      <td>26276</td>\n",
       "      <td>5000005347  BURKE REHAB BILING BLDG RENOVATION</td>\n",
       "      <td>2020-07-01</td>\n",
       "      <td>$25,469.00</td>\n",
       "      <td>$25,469.17</td>\n",
       "      <td>$849.00</td>\n",
       "      <td>$849.00</td>\n",
       "      <td>$848.97</td>\n",
       "      <td>$24,620.00</td>\n",
       "      <td>$15.00</td>\n",
       "      <td>2035-07-01</td>\n",
       "      <td>$174.00</td>\n",
       "      <td>$848.97</td>\n",
       "      <td>$1,697.93</td>\n",
       "      <td>$1,414.94</td>\n",
       "      <td>$565.98</td>\n",
       "    </tr>\n",
       "    <tr>\n",
       "      <th>27170</th>\n",
       "      <td>50133</td>\n",
       "      <td>50133</td>\n",
       "      <td>26277</td>\n",
       "      <td>5000005347  BURKE REHAB BILING BLDG RENOVATION</td>\n",
       "      <td>2020-07-01</td>\n",
       "      <td>$49,000.00</td>\n",
       "      <td>$49,000.00</td>\n",
       "      <td>$4,900.00</td>\n",
       "      <td>$4,900.00</td>\n",
       "      <td>$4,900.00</td>\n",
       "      <td>$44,100.00</td>\n",
       "      <td>$5.00</td>\n",
       "      <td>2025-07-01</td>\n",
       "      <td>$54.00</td>\n",
       "      <td>$4,900.00</td>\n",
       "      <td>$9,800.00</td>\n",
       "      <td>$8,166.67</td>\n",
       "      <td>$3,266.67</td>\n",
       "    </tr>\n",
       "    <tr>\n",
       "      <th>27171</th>\n",
       "      <td>50134</td>\n",
       "      <td>50134</td>\n",
       "      <td>26278</td>\n",
       "      <td>PURCHASE LEASE IMPROVEMENT - 785 MOMMARONECK</td>\n",
       "      <td>2020-07-01</td>\n",
       "      <td>$143,376.00</td>\n",
       "      <td>$143,376.34</td>\n",
       "      <td>$4,779.00</td>\n",
       "      <td>$4,779.00</td>\n",
       "      <td>$4,779.21</td>\n",
       "      <td>$138,597.00</td>\n",
       "      <td>$15.00</td>\n",
       "      <td>2035-07-01</td>\n",
       "      <td>$174.00</td>\n",
       "      <td>$4,779.20</td>\n",
       "      <td>$9,558.40</td>\n",
       "      <td>$7,965.33</td>\n",
       "      <td>$3,186.14</td>\n",
       "    </tr>\n",
       "    <tr>\n",
       "      <th>27172</th>\n",
       "      <td>50135</td>\n",
       "      <td>50135</td>\n",
       "      <td>26279</td>\n",
       "      <td>WEILER CAMPUS LEASE</td>\n",
       "      <td>2019-01-01</td>\n",
       "      <td>$144,036,221.00</td>\n",
       "      <td>$144,036,221.00</td>\n",
       "      <td>$1,516,171.00</td>\n",
       "      <td>$3,032,342.00</td>\n",
       "      <td>$3,032,341.50</td>\n",
       "      <td>$141,003,880.00</td>\n",
       "      <td>$95.00</td>\n",
       "      <td>2114-01-01</td>\n",
       "      <td>$1,122.00</td>\n",
       "      <td>$1,516,170.75</td>\n",
       "      <td>$1,516,170.75</td>\n",
       "      <td>$1,263,475.62</td>\n",
       "      <td>$502,687.63</td>\n",
       "    </tr>\n",
       "  </tbody>\n",
       "</table>\n",
       "</div>"
      ],
      "text/plain": [
       "       Asset ID  cbiz_index  Asset                                     Description Acquisition Date   Acquired Value*            Basis   Current YTD*    Current Accum*   LifeToDateDepreciation           NBV*   life_years full_dep_yr_2  LifeRemaining  dep_exp_2020  dep_exp_2021  depr_ytd_oct  CurrentPeriodDepreciation\n",
       "27168     50131       50131  26275  5000005347  BURKE REHAB BILING BLDG RENOVATION       2020-07-01         $92,355.00      $92,355.14       $3,079.00         $3,079.00               $3,078.51      $89,277.00      $15.00    2035-07-01        $174.00     $3,078.50     $6,157.00     $5,130.83                  $2,052.34\n",
       "27169     50132       50132  26276  5000005347  BURKE REHAB BILING BLDG RENOVATION       2020-07-01         $25,469.00      $25,469.17         $849.00           $849.00                 $848.97      $24,620.00      $15.00    2035-07-01        $174.00       $848.97     $1,697.93     $1,414.94                    $565.98\n",
       "27170     50133       50133  26277  5000005347  BURKE REHAB BILING BLDG RENOVATION       2020-07-01         $49,000.00      $49,000.00       $4,900.00         $4,900.00               $4,900.00      $44,100.00       $5.00    2025-07-01         $54.00     $4,900.00     $9,800.00     $8,166.67                  $3,266.67\n",
       "27171     50134       50134  26278    PURCHASE LEASE IMPROVEMENT - 785 MOMMARONECK       2020-07-01        $143,376.00     $143,376.34       $4,779.00         $4,779.00               $4,779.21     $138,597.00      $15.00    2035-07-01        $174.00     $4,779.20     $9,558.40     $7,965.33                  $3,186.14\n",
       "27172     50135       50135  26279                             WEILER CAMPUS LEASE       2019-01-01    $144,036,221.00 $144,036,221.00   $1,516,171.00     $3,032,342.00           $3,032,341.50 $141,003,880.00      $95.00    2114-01-01      $1,122.00 $1,516,170.75 $1,516,170.75 $1,263,475.62                $502,687.63"
      ]
     },
     "execution_count": 476,
     "metadata": {},
     "output_type": "execute_result"
    }
   ],
   "source": [
    "df_depreciation_calc_3000 = df_depreciation_calc_3000[['Asset ID', 'cbiz_index', 'Asset','Description', 'Acquisition Date',\n",
    "       ' Acquired Value* ',  'Basis', ' Current YTD* ', ' Current Accum* ', 'LifeToDateDepreciation',\n",
    "       ' NBV* ', 'life_years','full_dep_yr_2', 'LifeRemaining', 'dep_exp_2020', 'dep_exp_2021', 'depr_ytd_oct',  ]]\n",
    "\n",
    "df_depreciation_calc_3000 = df_depreciation_calc_3000.merge(fsm_depreciation, how='left',\n",
    "                                                           left_on='Asset', right_on='Asset')\n",
    "\n",
    "df_depreciation_calc_3000 = df_depreciation_calc_3000[['Asset ID', 'cbiz_index', 'Asset','Description', 'Acquisition Date',\n",
    "       ' Acquired Value* ',  'Basis', ' Current YTD* ', ' Current Accum* ', 'LifeToDateDepreciation',\n",
    "       ' NBV* ', 'life_years','full_dep_yr_2', 'LifeRemaining', 'dep_exp_2020', 'dep_exp_2021', 'depr_ytd_oct','CurrentPeriodDepreciation',  ]]\n",
    "\n",
    "df_depreciation_calc_3000.tail()"
   ]
  },
  {
   "cell_type": "code",
   "execution_count": 477,
   "metadata": {},
   "outputs": [],
   "source": [
    "df_depreciation_calc_3000.to_csv(\n",
    "    r'C:\\Users\\mikra\\OneDrive\\Documents\\Work\\conversion\\SIT3\\november_AX2\\fixed_assets\\mmc\\output\\output_3000\\sit3_depreciation_3000.csv'\n",
    ")"
   ]
  },
  {
   "cell_type": "markdown",
   "metadata": {},
   "source": [
    "### Calculate company 3010 depreciation expense for fiscal 2021 and compare to CBIZ projections"
   ]
  },
  {
   "cell_type": "code",
   "execution_count": 478,
   "metadata": {},
   "outputs": [
    {
     "name": "stderr",
     "output_type": "stream",
     "text": [
      "<ipython-input-478-77f649c91b9c>:8: SettingWithCopyWarning: \n",
      "A value is trying to be set on a copy of a slice from a DataFrame.\n",
      "Try using .loc[row_indexer,col_indexer] = value instead\n",
      "\n",
      "See the caveats in the documentation: https://pandas.pydata.org/pandas-docs/stable/user_guide/indexing.html#returning-a-view-versus-a-copy\n",
      "  df_depreciation_calc_3010['full_dep_yr'] =  df_depreciation_calc_3010['life_years']\\\n"
     ]
    }
   ],
   "source": [
    "df_depreciation_calc_3010 = cbiz_asset_and_book_3010_merge[[\n",
    "    'AssetImport_x',  'Asset ID', 'Description', 'Acquisition Date',\n",
    "    ' Acquired Value* ', 'Est Life*', ' Current YTD* ',\n",
    "    ' Current Accum* ', ' NBV* ', 'life_years','LifeRemaining', 'Basis',\n",
    "    'YearPlacedInService', 'Convention','LifeToDateDepreciation'\n",
    "]]\n",
    "\n",
    "df_depreciation_calc_3010['full_dep_yr'] =  df_depreciation_calc_3010['life_years']\\\n",
    ".apply(lambda x: dateutil.relativedelta.relativedelta(years=x))"
   ]
  },
  {
   "cell_type": "code",
   "execution_count": 479,
   "metadata": {},
   "outputs": [
    {
     "name": "stderr",
     "output_type": "stream",
     "text": [
      "C:\\Users\\mikra\\anaconda3\\lib\\site-packages\\pandas\\core\\arrays\\datetimelike.py:1108: PerformanceWarning: Adding/subtracting object-dtype array to DatetimeArray not vectorized\n",
      "  warnings.warn(\n",
      "<ipython-input-479-364d451669da>:1: SettingWithCopyWarning: \n",
      "A value is trying to be set on a copy of a slice from a DataFrame.\n",
      "Try using .loc[row_indexer,col_indexer] = value instead\n",
      "\n",
      "See the caveats in the documentation: https://pandas.pydata.org/pandas-docs/stable/user_guide/indexing.html#returning-a-view-versus-a-copy\n",
      "  df_depreciation_calc_3010['full_dep_yr_2'] = df_depreciation_calc_3010['Acquisition Date'] +\\\n"
     ]
    }
   ],
   "source": [
    "df_depreciation_calc_3010['full_dep_yr_2'] = df_depreciation_calc_3010['Acquisition Date'] +\\\n",
    "df_depreciation_calc_3010['full_dep_yr']"
   ]
  },
  {
   "cell_type": "code",
   "execution_count": 480,
   "metadata": {},
   "outputs": [],
   "source": [
    "# add a column for 2020 depreciation\n",
    "df_depreciation_calc_3010 = df_depreciation_calc_3010.apply(dep_calc_2020, axis=1)\n",
    "\n",
    "# calculate 2021 depreciation and add column to df\n",
    "df_depreciation_calc_3010 = df_depreciation_calc_3010.apply(dep_calc_2021, axis=1)"
   ]
  },
  {
   "cell_type": "code",
   "execution_count": 481,
   "metadata": {},
   "outputs": [],
   "source": [
    "df_depreciation_calc_3010['depr_ytd_oct'] = df_depreciation_calc_3010['dep_exp_2021'] * (10/12)"
   ]
  },
  {
   "cell_type": "code",
   "execution_count": 482,
   "metadata": {},
   "outputs": [
    {
     "data": {
      "text/plain": [
       " Current YTD*    $652,347.00\n",
       "dep_exp_2020     $652,348.72\n",
       "dep_exp_2021     $714,688.20\n",
       "depr_ytd_oct     $595,573.50\n",
       "dtype: float64"
      ]
     },
     "execution_count": 482,
     "metadata": {},
     "output_type": "execute_result"
    }
   ],
   "source": [
    "df_depreciation_calc_3010[[' Current YTD* ', 'dep_exp_2020', 'dep_exp_2021', 'depr_ytd_oct' ]].sum()"
   ]
  },
  {
   "cell_type": "code",
   "execution_count": 483,
   "metadata": {},
   "outputs": [],
   "source": [
    "df_depreciation_calc_3010['Asset ID'] = df_depreciation_calc_3010['Asset ID'].astype('int')\n",
    "\n",
    "fsm_asset_number_3010 = assets_group_3010[['Asset', 'cbiz_index']]\n",
    "# fsm_asset_number\n",
    "\n",
    "df_depreciation_calc_3010 = df_depreciation_calc_3010.merge(fsm_asset_number_3010, how='left',\n",
    "                                            left_on='Asset ID', right_on=\"cbiz_index\")"
   ]
  },
  {
   "cell_type": "code",
   "execution_count": 484,
   "metadata": {},
   "outputs": [
    {
     "data": {
      "text/html": [
       "<div>\n",
       "<style scoped>\n",
       "    .dataframe tbody tr th:only-of-type {\n",
       "        vertical-align: middle;\n",
       "    }\n",
       "\n",
       "    .dataframe tbody tr th {\n",
       "        vertical-align: top;\n",
       "    }\n",
       "\n",
       "    .dataframe thead th {\n",
       "        text-align: right;\n",
       "    }\n",
       "</style>\n",
       "<table border=\"1\" class=\"dataframe\">\n",
       "  <thead>\n",
       "    <tr style=\"text-align: right;\">\n",
       "      <th></th>\n",
       "      <th>Asset ID</th>\n",
       "      <th>cbiz_index</th>\n",
       "      <th>Asset</th>\n",
       "      <th>Description</th>\n",
       "      <th>Acquisition Date</th>\n",
       "      <th>Acquired Value*</th>\n",
       "      <th>Basis</th>\n",
       "      <th>Current YTD*</th>\n",
       "      <th>Current Accum*</th>\n",
       "      <th>LifeToDateDepreciation</th>\n",
       "      <th>NBV*</th>\n",
       "      <th>life_years</th>\n",
       "      <th>full_dep_yr_2</th>\n",
       "      <th>LifeRemaining</th>\n",
       "      <th>dep_exp_2020</th>\n",
       "      <th>dep_exp_2021</th>\n",
       "      <th>depr_ytd_oct</th>\n",
       "      <th>CurrentPeriodDepreciation</th>\n",
       "    </tr>\n",
       "  </thead>\n",
       "  <tbody>\n",
       "    <tr>\n",
       "      <th>943</th>\n",
       "      <td>49617</td>\n",
       "      <td>49617</td>\n",
       "      <td>28117</td>\n",
       "      <td>5000004664  CMO TRAINING SITE (IT)</td>\n",
       "      <td>2020-07-01</td>\n",
       "      <td>$62,739.00</td>\n",
       "      <td>$62,739.26</td>\n",
       "      <td>$2,091.00</td>\n",
       "      <td>$2,091.00</td>\n",
       "      <td>$2,091.31</td>\n",
       "      <td>$60,648.00</td>\n",
       "      <td>15</td>\n",
       "      <td>2035-07-01</td>\n",
       "      <td>$174.00</td>\n",
       "      <td>$2,091.30</td>\n",
       "      <td>$4,182.60</td>\n",
       "      <td>$3,485.50</td>\n",
       "      <td>$1,394.21</td>\n",
       "    </tr>\n",
       "    <tr>\n",
       "      <th>944</th>\n",
       "      <td>49618</td>\n",
       "      <td>49618</td>\n",
       "      <td>28118</td>\n",
       "      <td>5000004664  CMO TRAINING SITE (IT)</td>\n",
       "      <td>2020-07-01</td>\n",
       "      <td>$61,136.00</td>\n",
       "      <td>$61,136.26</td>\n",
       "      <td>$6,114.00</td>\n",
       "      <td>$6,114.00</td>\n",
       "      <td>$6,113.63</td>\n",
       "      <td>$55,023.00</td>\n",
       "      <td>5</td>\n",
       "      <td>2025-07-01</td>\n",
       "      <td>$54.00</td>\n",
       "      <td>$6,113.60</td>\n",
       "      <td>$12,227.20</td>\n",
       "      <td>$10,189.33</td>\n",
       "      <td>$4,075.75</td>\n",
       "    </tr>\n",
       "    <tr>\n",
       "      <th>945</th>\n",
       "      <td>49619</td>\n",
       "      <td>49619</td>\n",
       "      <td>28119</td>\n",
       "      <td>5000005296  2019 ROTAFLOW ECMO UNITS UPGRADE -...</td>\n",
       "      <td>2020-07-01</td>\n",
       "      <td>$11,246.00</td>\n",
       "      <td>$11,246.14</td>\n",
       "      <td>$375.00</td>\n",
       "      <td>$375.00</td>\n",
       "      <td>$374.87</td>\n",
       "      <td>$10,871.00</td>\n",
       "      <td>15</td>\n",
       "      <td>2035-07-01</td>\n",
       "      <td>$174.00</td>\n",
       "      <td>$374.87</td>\n",
       "      <td>$749.73</td>\n",
       "      <td>$624.78</td>\n",
       "      <td>$249.91</td>\n",
       "    </tr>\n",
       "    <tr>\n",
       "      <th>946</th>\n",
       "      <td>49620</td>\n",
       "      <td>49620</td>\n",
       "      <td>28120</td>\n",
       "      <td>5000005296  2019 ROTAFLOW ECMO UNITS UPGRADE -...</td>\n",
       "      <td>2020-07-01</td>\n",
       "      <td>$117,894.00</td>\n",
       "      <td>$117,893.68</td>\n",
       "      <td>$11,789.00</td>\n",
       "      <td>$11,789.00</td>\n",
       "      <td>$11,789.37</td>\n",
       "      <td>$106,104.00</td>\n",
       "      <td>5</td>\n",
       "      <td>2025-07-01</td>\n",
       "      <td>$54.00</td>\n",
       "      <td>$11,789.40</td>\n",
       "      <td>$23,578.80</td>\n",
       "      <td>$19,649.00</td>\n",
       "      <td>$7,859.58</td>\n",
       "    </tr>\n",
       "    <tr>\n",
       "      <th>947</th>\n",
       "      <td>49621</td>\n",
       "      <td>49621</td>\n",
       "      <td>28121</td>\n",
       "      <td>5000005723  CMO-EMBLEM DISK ENCRYPTION PROJECT</td>\n",
       "      <td>2020-07-01</td>\n",
       "      <td>$820,999.00</td>\n",
       "      <td>$820,999.12</td>\n",
       "      <td>$82,100.00</td>\n",
       "      <td>$82,100.00</td>\n",
       "      <td>$82,099.91</td>\n",
       "      <td>$738,899.00</td>\n",
       "      <td>5</td>\n",
       "      <td>2025-07-01</td>\n",
       "      <td>$54.00</td>\n",
       "      <td>$82,099.90</td>\n",
       "      <td>$164,199.80</td>\n",
       "      <td>$136,833.17</td>\n",
       "      <td>$54,733.28</td>\n",
       "    </tr>\n",
       "  </tbody>\n",
       "</table>\n",
       "</div>"
      ],
      "text/plain": [
       "     Asset ID  cbiz_index  Asset                                        Description Acquisition Date   Acquired Value*        Basis   Current YTD*    Current Accum*   LifeToDateDepreciation       NBV*   life_years full_dep_yr_2  LifeRemaining  dep_exp_2020  dep_exp_2021  depr_ytd_oct  CurrentPeriodDepreciation\n",
       "943     49617       49617  28117                 5000004664  CMO TRAINING SITE (IT)       2020-07-01         $62,739.00  $62,739.26       $2,091.00         $2,091.00               $2,091.31  $60,648.00          15    2035-07-01        $174.00     $2,091.30     $4,182.60     $3,485.50                  $1,394.21\n",
       "944     49618       49618  28118                 5000004664  CMO TRAINING SITE (IT)       2020-07-01         $61,136.00  $61,136.26       $6,114.00         $6,114.00               $6,113.63  $55,023.00           5    2025-07-01         $54.00     $6,113.60    $12,227.20    $10,189.33                  $4,075.75\n",
       "945     49619       49619  28119  5000005296  2019 ROTAFLOW ECMO UNITS UPGRADE -...       2020-07-01         $11,246.00  $11,246.14         $375.00           $375.00                 $374.87  $10,871.00          15    2035-07-01        $174.00       $374.87       $749.73       $624.78                    $249.91\n",
       "946     49620       49620  28120  5000005296  2019 ROTAFLOW ECMO UNITS UPGRADE -...       2020-07-01        $117,894.00 $117,893.68      $11,789.00        $11,789.00              $11,789.37 $106,104.00           5    2025-07-01         $54.00    $11,789.40    $23,578.80    $19,649.00                  $7,859.58\n",
       "947     49621       49621  28121     5000005723  CMO-EMBLEM DISK ENCRYPTION PROJECT       2020-07-01        $820,999.00 $820,999.12      $82,100.00        $82,100.00              $82,099.91 $738,899.00           5    2025-07-01         $54.00    $82,099.90   $164,199.80   $136,833.17                 $54,733.28"
      ]
     },
     "execution_count": 484,
     "metadata": {},
     "output_type": "execute_result"
    }
   ],
   "source": [
    "df_depreciation_calc_3010 = df_depreciation_calc_3010[['Asset ID', 'cbiz_index', 'Asset','Description', 'Acquisition Date',\n",
    "       ' Acquired Value* ',  'Basis', ' Current YTD* ', ' Current Accum* ', 'LifeToDateDepreciation',\n",
    "       ' NBV* ', 'life_years','full_dep_yr_2', 'LifeRemaining', 'dep_exp_2020', 'dep_exp_2021', 'depr_ytd_oct',  ]]\n",
    "\n",
    "df_depreciation_calc_3010 = df_depreciation_calc_3010.merge(fsm_depreciation, how='left',\n",
    "                                                           left_on='Asset', right_on='Asset')\n",
    "\n",
    "df_depreciation_calc_3010 = df_depreciation_calc_3010[['Asset ID', 'cbiz_index', 'Asset','Description', 'Acquisition Date',\n",
    "       ' Acquired Value* ',  'Basis', ' Current YTD* ', ' Current Accum* ', 'LifeToDateDepreciation',\n",
    "       ' NBV* ', 'life_years','full_dep_yr_2', 'LifeRemaining', 'dep_exp_2020', 'dep_exp_2021', 'depr_ytd_oct','CurrentPeriodDepreciation',  ]]\n",
    "\n",
    "df_depreciation_calc_3010.tail()"
   ]
  },
  {
   "cell_type": "code",
   "execution_count": 485,
   "metadata": {},
   "outputs": [],
   "source": [
    "df_depreciation_calc_3010.to_csv(\n",
    "    r'C:\\Users\\mikra\\OneDrive\\Documents\\Work\\conversion\\SIT3\\november_AX2\\fixed_assets\\mmc\\output\\output_3010\\sit3_depreciation_3010.csv'\n",
    ")"
   ]
  },
  {
   "cell_type": "markdown",
   "metadata": {},
   "source": [
    "### Calculate company 2100 depreciation expense for fiscal 2021 and compare to CBIZ projections"
   ]
  },
  {
   "cell_type": "code",
   "execution_count": 486,
   "metadata": {},
   "outputs": [
    {
     "name": "stderr",
     "output_type": "stream",
     "text": [
      "<ipython-input-486-a266bf8cf34b>:8: SettingWithCopyWarning: \n",
      "A value is trying to be set on a copy of a slice from a DataFrame.\n",
      "Try using .loc[row_indexer,col_indexer] = value instead\n",
      "\n",
      "See the caveats in the documentation: https://pandas.pydata.org/pandas-docs/stable/user_guide/indexing.html#returning-a-view-versus-a-copy\n",
      "  df_depreciation_calc_2100['full_dep_yr'] =  df_depreciation_calc_2100['life_years']\\\n"
     ]
    }
   ],
   "source": [
    "df_depreciation_calc_2100 = cbiz_asset_and_book_2100_merge[[\n",
    "    'AssetImport_x',  'Asset ID',  'Description', 'Acquisition Date',\n",
    "    ' Acquired Value* ', 'Est Life*', ' Current YTD* ',\n",
    "    ' Current Accum* ', ' NBV* ', 'life_years','LifeRemaining', 'Basis',\n",
    "    'YearPlacedInService', 'Convention','LifeToDateDepreciation'\n",
    "]]\n",
    "\n",
    "df_depreciation_calc_2100['full_dep_yr'] =  df_depreciation_calc_2100['life_years']\\\n",
    ".apply(lambda x: dateutil.relativedelta.relativedelta(years=x))"
   ]
  },
  {
   "cell_type": "code",
   "execution_count": 487,
   "metadata": {},
   "outputs": [
    {
     "name": "stderr",
     "output_type": "stream",
     "text": [
      "C:\\Users\\mikra\\anaconda3\\lib\\site-packages\\pandas\\core\\arrays\\datetimelike.py:1108: PerformanceWarning: Adding/subtracting object-dtype array to DatetimeArray not vectorized\n",
      "  warnings.warn(\n",
      "<ipython-input-487-17e4236e0cd0>:1: SettingWithCopyWarning: \n",
      "A value is trying to be set on a copy of a slice from a DataFrame.\n",
      "Try using .loc[row_indexer,col_indexer] = value instead\n",
      "\n",
      "See the caveats in the documentation: https://pandas.pydata.org/pandas-docs/stable/user_guide/indexing.html#returning-a-view-versus-a-copy\n",
      "  df_depreciation_calc_2100['full_dep_yr_2'] = df_depreciation_calc_2100['Acquisition Date'] +\\\n"
     ]
    }
   ],
   "source": [
    "df_depreciation_calc_2100['full_dep_yr_2'] = df_depreciation_calc_2100['Acquisition Date'] +\\\n",
    "df_depreciation_calc_2100['full_dep_yr']"
   ]
  },
  {
   "cell_type": "code",
   "execution_count": 488,
   "metadata": {},
   "outputs": [],
   "source": [
    "# add a column for 2020 depreciation\n",
    "df_depreciation_calc_2100 = df_depreciation_calc_2100.apply(dep_calc_2020, axis=1)\n",
    "\n",
    "# calculate 2021 depreciation and add column to df\n",
    "df_depreciation_calc_2100 = df_depreciation_calc_2100.apply(dep_calc_2021, axis=1)"
   ]
  },
  {
   "cell_type": "code",
   "execution_count": 489,
   "metadata": {},
   "outputs": [],
   "source": [
    "df_depreciation_calc_2100['depr_ytd_oct'] = df_depreciation_calc_2100['dep_exp_2021'] * (10/12)"
   ]
  },
  {
   "cell_type": "code",
   "execution_count": 490,
   "metadata": {},
   "outputs": [
    {
     "data": {
      "text/plain": [
       " Current YTD*    $10,504.00\n",
       "dep_exp_2020     $10,503.93\n",
       "dep_exp_2021     $10,503.93\n",
       "depr_ytd_oct      $8,753.28\n",
       "dtype: float64"
      ]
     },
     "execution_count": 490,
     "metadata": {},
     "output_type": "execute_result"
    }
   ],
   "source": [
    "df_depreciation_calc_2100[[' Current YTD* ', 'dep_exp_2020', 'dep_exp_2021', 'depr_ytd_oct' ]].sum()"
   ]
  },
  {
   "cell_type": "code",
   "execution_count": 491,
   "metadata": {},
   "outputs": [],
   "source": [
    "df_depreciation_calc_2100['Asset ID'] = df_depreciation_calc_2100['Asset ID'].astype('int')\n",
    "\n",
    "fsm_asset_number_2100 = assets_group_2100[['Asset', 'cbiz_index']]\n",
    "# fsm_asset_number\n",
    "\n",
    "df_depreciation_calc_2100 = df_depreciation_calc_2100.merge(fsm_asset_number_2100, how='left',\n",
    "                                            left_on='Asset ID', right_on=\"cbiz_index\")"
   ]
  },
  {
   "cell_type": "code",
   "execution_count": 492,
   "metadata": {},
   "outputs": [
    {
     "data": {
      "text/html": [
       "<div>\n",
       "<style scoped>\n",
       "    .dataframe tbody tr th:only-of-type {\n",
       "        vertical-align: middle;\n",
       "    }\n",
       "\n",
       "    .dataframe tbody tr th {\n",
       "        vertical-align: top;\n",
       "    }\n",
       "\n",
       "    .dataframe thead th {\n",
       "        text-align: right;\n",
       "    }\n",
       "</style>\n",
       "<table border=\"1\" class=\"dataframe\">\n",
       "  <thead>\n",
       "    <tr style=\"text-align: right;\">\n",
       "      <th></th>\n",
       "      <th>Asset ID</th>\n",
       "      <th>cbiz_index</th>\n",
       "      <th>Asset</th>\n",
       "      <th>Description</th>\n",
       "      <th>Acquisition Date</th>\n",
       "      <th>Acquired Value*</th>\n",
       "      <th>Basis</th>\n",
       "      <th>Current YTD*</th>\n",
       "      <th>Current Accum*</th>\n",
       "      <th>LifeToDateDepreciation</th>\n",
       "      <th>NBV*</th>\n",
       "      <th>life_years</th>\n",
       "      <th>full_dep_yr_2</th>\n",
       "      <th>LifeRemaining</th>\n",
       "      <th>dep_exp_2020</th>\n",
       "      <th>dep_exp_2021</th>\n",
       "      <th>depr_ytd_oct</th>\n",
       "      <th>CurrentPeriodDepreciation</th>\n",
       "    </tr>\n",
       "  </thead>\n",
       "  <tbody>\n",
       "    <tr>\n",
       "      <th>943</th>\n",
       "      <td>49617</td>\n",
       "      <td>49617</td>\n",
       "      <td>28117</td>\n",
       "      <td>5000004664  CMO TRAINING SITE (IT)</td>\n",
       "      <td>2020-07-01</td>\n",
       "      <td>$62,739.00</td>\n",
       "      <td>$62,739.26</td>\n",
       "      <td>$2,091.00</td>\n",
       "      <td>$2,091.00</td>\n",
       "      <td>$2,091.31</td>\n",
       "      <td>$60,648.00</td>\n",
       "      <td>15</td>\n",
       "      <td>2035-07-01</td>\n",
       "      <td>$174.00</td>\n",
       "      <td>$2,091.30</td>\n",
       "      <td>$4,182.60</td>\n",
       "      <td>$3,485.50</td>\n",
       "      <td>$1,394.21</td>\n",
       "    </tr>\n",
       "    <tr>\n",
       "      <th>944</th>\n",
       "      <td>49618</td>\n",
       "      <td>49618</td>\n",
       "      <td>28118</td>\n",
       "      <td>5000004664  CMO TRAINING SITE (IT)</td>\n",
       "      <td>2020-07-01</td>\n",
       "      <td>$61,136.00</td>\n",
       "      <td>$61,136.26</td>\n",
       "      <td>$6,114.00</td>\n",
       "      <td>$6,114.00</td>\n",
       "      <td>$6,113.63</td>\n",
       "      <td>$55,023.00</td>\n",
       "      <td>5</td>\n",
       "      <td>2025-07-01</td>\n",
       "      <td>$54.00</td>\n",
       "      <td>$6,113.60</td>\n",
       "      <td>$12,227.20</td>\n",
       "      <td>$10,189.33</td>\n",
       "      <td>$4,075.75</td>\n",
       "    </tr>\n",
       "    <tr>\n",
       "      <th>945</th>\n",
       "      <td>49619</td>\n",
       "      <td>49619</td>\n",
       "      <td>28119</td>\n",
       "      <td>5000005296  2019 ROTAFLOW ECMO UNITS UPGRADE -...</td>\n",
       "      <td>2020-07-01</td>\n",
       "      <td>$11,246.00</td>\n",
       "      <td>$11,246.14</td>\n",
       "      <td>$375.00</td>\n",
       "      <td>$375.00</td>\n",
       "      <td>$374.87</td>\n",
       "      <td>$10,871.00</td>\n",
       "      <td>15</td>\n",
       "      <td>2035-07-01</td>\n",
       "      <td>$174.00</td>\n",
       "      <td>$374.87</td>\n",
       "      <td>$749.73</td>\n",
       "      <td>$624.78</td>\n",
       "      <td>$249.91</td>\n",
       "    </tr>\n",
       "    <tr>\n",
       "      <th>946</th>\n",
       "      <td>49620</td>\n",
       "      <td>49620</td>\n",
       "      <td>28120</td>\n",
       "      <td>5000005296  2019 ROTAFLOW ECMO UNITS UPGRADE -...</td>\n",
       "      <td>2020-07-01</td>\n",
       "      <td>$117,894.00</td>\n",
       "      <td>$117,893.68</td>\n",
       "      <td>$11,789.00</td>\n",
       "      <td>$11,789.00</td>\n",
       "      <td>$11,789.37</td>\n",
       "      <td>$106,104.00</td>\n",
       "      <td>5</td>\n",
       "      <td>2025-07-01</td>\n",
       "      <td>$54.00</td>\n",
       "      <td>$11,789.40</td>\n",
       "      <td>$23,578.80</td>\n",
       "      <td>$19,649.00</td>\n",
       "      <td>$7,859.58</td>\n",
       "    </tr>\n",
       "    <tr>\n",
       "      <th>947</th>\n",
       "      <td>49621</td>\n",
       "      <td>49621</td>\n",
       "      <td>28121</td>\n",
       "      <td>5000005723  CMO-EMBLEM DISK ENCRYPTION PROJECT</td>\n",
       "      <td>2020-07-01</td>\n",
       "      <td>$820,999.00</td>\n",
       "      <td>$820,999.12</td>\n",
       "      <td>$82,100.00</td>\n",
       "      <td>$82,100.00</td>\n",
       "      <td>$82,099.91</td>\n",
       "      <td>$738,899.00</td>\n",
       "      <td>5</td>\n",
       "      <td>2025-07-01</td>\n",
       "      <td>$54.00</td>\n",
       "      <td>$82,099.90</td>\n",
       "      <td>$164,199.80</td>\n",
       "      <td>$136,833.17</td>\n",
       "      <td>$54,733.28</td>\n",
       "    </tr>\n",
       "  </tbody>\n",
       "</table>\n",
       "</div>"
      ],
      "text/plain": [
       "     Asset ID  cbiz_index  Asset                                        Description Acquisition Date   Acquired Value*        Basis   Current YTD*    Current Accum*   LifeToDateDepreciation       NBV*   life_years full_dep_yr_2  LifeRemaining  dep_exp_2020  dep_exp_2021  depr_ytd_oct  CurrentPeriodDepreciation\n",
       "943     49617       49617  28117                 5000004664  CMO TRAINING SITE (IT)       2020-07-01         $62,739.00  $62,739.26       $2,091.00         $2,091.00               $2,091.31  $60,648.00          15    2035-07-01        $174.00     $2,091.30     $4,182.60     $3,485.50                  $1,394.21\n",
       "944     49618       49618  28118                 5000004664  CMO TRAINING SITE (IT)       2020-07-01         $61,136.00  $61,136.26       $6,114.00         $6,114.00               $6,113.63  $55,023.00           5    2025-07-01         $54.00     $6,113.60    $12,227.20    $10,189.33                  $4,075.75\n",
       "945     49619       49619  28119  5000005296  2019 ROTAFLOW ECMO UNITS UPGRADE -...       2020-07-01         $11,246.00  $11,246.14         $375.00           $375.00                 $374.87  $10,871.00          15    2035-07-01        $174.00       $374.87       $749.73       $624.78                    $249.91\n",
       "946     49620       49620  28120  5000005296  2019 ROTAFLOW ECMO UNITS UPGRADE -...       2020-07-01        $117,894.00 $117,893.68      $11,789.00        $11,789.00              $11,789.37 $106,104.00           5    2025-07-01         $54.00    $11,789.40    $23,578.80    $19,649.00                  $7,859.58\n",
       "947     49621       49621  28121     5000005723  CMO-EMBLEM DISK ENCRYPTION PROJECT       2020-07-01        $820,999.00 $820,999.12      $82,100.00        $82,100.00              $82,099.91 $738,899.00           5    2025-07-01         $54.00    $82,099.90   $164,199.80   $136,833.17                 $54,733.28"
      ]
     },
     "execution_count": 492,
     "metadata": {},
     "output_type": "execute_result"
    }
   ],
   "source": [
    "df_depreciation_calc_2100 = df_depreciation_calc_2100[['Asset ID', 'cbiz_index', 'Asset','Description', 'Acquisition Date',\n",
    "       ' Acquired Value* ',  'Basis', ' Current YTD* ', ' Current Accum* ', 'LifeToDateDepreciation',\n",
    "       ' NBV* ', 'life_years','full_dep_yr_2', 'LifeRemaining', 'dep_exp_2020', 'dep_exp_2021', 'depr_ytd_oct',  ]]\n",
    "\n",
    "df_depreciation_calc_2100 = df_depreciation_calc_2100.merge(fsm_depreciation, how='left',\n",
    "                                                           left_on='Asset', right_on='Asset')\n",
    "\n",
    "df_depreciation_calc_2100 = df_depreciation_calc_2100[['Asset ID', 'cbiz_index', 'Asset','Description', 'Acquisition Date',\n",
    "       ' Acquired Value* ',  'Basis', ' Current YTD* ', ' Current Accum* ', 'LifeToDateDepreciation',\n",
    "       ' NBV* ', 'life_years','full_dep_yr_2', 'LifeRemaining', 'dep_exp_2020', 'dep_exp_2021', 'depr_ytd_oct','CurrentPeriodDepreciation',  ]]\n",
    "\n",
    "df_depreciation_calc_3010.tail()"
   ]
  },
  {
   "cell_type": "code",
   "execution_count": 493,
   "metadata": {},
   "outputs": [],
   "source": [
    "df_depreciation_calc_2100.to_csv(\n",
    "    r'C:\\Users\\mikra\\OneDrive\\Documents\\Work\\conversion\\SIT3\\november_AX2\\fixed_assets\\mmc\\output\\output_2100\\sit3_depreciation_2100.csv'\n",
    ")"
   ]
  },
  {
   "cell_type": "markdown",
   "metadata": {},
   "source": [
    "### Calculate company 3020 depreciation expense for fiscal 2021 and compare to CBIZ projections"
   ]
  },
  {
   "cell_type": "code",
   "execution_count": 494,
   "metadata": {},
   "outputs": [
    {
     "name": "stderr",
     "output_type": "stream",
     "text": [
      "<ipython-input-494-aff4a4539a64>:10: SettingWithCopyWarning: \n",
      "A value is trying to be set on a copy of a slice from a DataFrame.\n",
      "Try using .loc[row_indexer,col_indexer] = value instead\n",
      "\n",
      "See the caveats in the documentation: https://pandas.pydata.org/pandas-docs/stable/user_guide/indexing.html#returning-a-view-versus-a-copy\n",
      "  df_depreciation_calc_3020['full_dep_yr'] =  df_depreciation_calc_3020['life_years']\\\n"
     ]
    }
   ],
   "source": [
    "df_depreciation_calc_3020 = cbiz_asset_and_book_3020_merge[[\n",
    "    'AssetImport_x',  'Asset ID', 'Description_x', 'Acquisition Date',\n",
    "    ' Acquired Value* ', 'Est Life*', ' Current YTD* ',\n",
    "    ' Current Accum* ', ' NBV* ', 'life_years','LifeRemaining', 'Basis',\n",
    "    'YearPlacedInService', 'Convention','LifeToDateDepreciation'\n",
    "]]\n",
    "\n",
    "\n",
    "\n",
    "df_depreciation_calc_3020['full_dep_yr'] =  df_depreciation_calc_3020['life_years']\\\n",
    ".apply(lambda x: dateutil.relativedelta.relativedelta(years=x))\n",
    "\n"
   ]
  },
  {
   "cell_type": "code",
   "execution_count": 495,
   "metadata": {},
   "outputs": [
    {
     "name": "stderr",
     "output_type": "stream",
     "text": [
      "C:\\Users\\mikra\\anaconda3\\lib\\site-packages\\pandas\\core\\arrays\\datetimelike.py:1108: PerformanceWarning: Adding/subtracting object-dtype array to DatetimeArray not vectorized\n",
      "  warnings.warn(\n",
      "<ipython-input-495-6b028caf13db>:1: SettingWithCopyWarning: \n",
      "A value is trying to be set on a copy of a slice from a DataFrame.\n",
      "Try using .loc[row_indexer,col_indexer] = value instead\n",
      "\n",
      "See the caveats in the documentation: https://pandas.pydata.org/pandas-docs/stable/user_guide/indexing.html#returning-a-view-versus-a-copy\n",
      "  df_depreciation_calc_3020['full_dep_yr_2'] = df_depreciation_calc_3020['Acquisition Date'] +\\\n"
     ]
    }
   ],
   "source": [
    "df_depreciation_calc_3020['full_dep_yr_2'] = df_depreciation_calc_3020['Acquisition Date'] +\\\n",
    "df_depreciation_calc_3020['full_dep_yr']\n",
    "\n",
    "# add a column for 2020 depreciation\n",
    "df_depreciation_calc_3020 = df_depreciation_calc_3020.apply(dep_calc_2020, axis=1)\n",
    "\n",
    "# calculate 2021 depreciation and add column to df\n",
    "df_depreciation_calc_3020 = df_depreciation_calc_3020.apply(dep_calc_2021, axis=1)\n",
    "\n",
    "df_depreciation_calc_3020['depr_ytd_oct'] = df_depreciation_calc_3020['dep_exp_2021'] * (10/12)"
   ]
  },
  {
   "cell_type": "code",
   "execution_count": 496,
   "metadata": {},
   "outputs": [
    {
     "data": {
      "text/plain": [
       " Current YTD*     $71,578.65\n",
       "dep_exp_2020     $137,234.95\n",
       "dep_exp_2021     $135,220.37\n",
       "depr_ytd_oct     $112,683.64\n",
       "dtype: float64"
      ]
     },
     "execution_count": 496,
     "metadata": {},
     "output_type": "execute_result"
    }
   ],
   "source": [
    "df_depreciation_calc_3020[[' Current YTD* ', 'dep_exp_2020', 'dep_exp_2021', 'depr_ytd_oct' ]].sum()"
   ]
  },
  {
   "cell_type": "code",
   "execution_count": 497,
   "metadata": {
    "scrolled": false
   },
   "outputs": [],
   "source": [
    "# look at the records where cbiz 3020 depreciation and calculated depreciation don't match\n",
    "dep_variance_3020 = df_depreciation_calc_3020[abs(df_depreciation_calc_3020['dep_exp_2020'] - df_depreciation_calc_3020[' Current YTD* '])  > 1]\n"
   ]
  },
  {
   "cell_type": "code",
   "execution_count": 498,
   "metadata": {},
   "outputs": [
    {
     "data": {
      "text/plain": [
       "Index(['AssetImport_x', 'Asset ID', 'Description_x', 'Acquisition Date',\n",
       "       ' Acquired Value* ', 'Est Life*', ' Current YTD* ', ' Current Accum* ',\n",
       "       ' NBV* ', 'life_years', 'LifeRemaining', 'Basis', 'YearPlacedInService',\n",
       "       'Convention', 'LifeToDateDepreciation', 'full_dep_yr', 'full_dep_yr_2',\n",
       "       'dep_exp_2020', 'dep_exp_2021', 'depr_ytd_oct'],\n",
       "      dtype='object')"
      ]
     },
     "execution_count": 498,
     "metadata": {},
     "output_type": "execute_result"
    }
   ],
   "source": [
    "df_depreciation_calc_3020.columns"
   ]
  },
  {
   "cell_type": "code",
   "execution_count": 499,
   "metadata": {},
   "outputs": [
    {
     "data": {
      "text/html": [
       "<div>\n",
       "<style scoped>\n",
       "    .dataframe tbody tr th:only-of-type {\n",
       "        vertical-align: middle;\n",
       "    }\n",
       "\n",
       "    .dataframe tbody tr th {\n",
       "        vertical-align: top;\n",
       "    }\n",
       "\n",
       "    .dataframe thead th {\n",
       "        text-align: right;\n",
       "    }\n",
       "</style>\n",
       "<table border=\"1\" class=\"dataframe\">\n",
       "  <thead>\n",
       "    <tr style=\"text-align: right;\">\n",
       "      <th></th>\n",
       "      <th>Asset ID</th>\n",
       "      <th>cbiz_index</th>\n",
       "      <th>Asset</th>\n",
       "      <th>Description</th>\n",
       "      <th>Acquisition Date</th>\n",
       "      <th>Acquired Value*</th>\n",
       "      <th>Basis</th>\n",
       "      <th>Current YTD*</th>\n",
       "      <th>Current Accum*</th>\n",
       "      <th>LifeToDateDepreciation</th>\n",
       "      <th>NBV*</th>\n",
       "      <th>life_years</th>\n",
       "      <th>full_dep_yr_2</th>\n",
       "      <th>LifeRemaining</th>\n",
       "      <th>dep_exp_2020</th>\n",
       "      <th>dep_exp_2021</th>\n",
       "      <th>depr_ytd_oct</th>\n",
       "      <th>CurrentPeriodDepreciation</th>\n",
       "    </tr>\n",
       "  </thead>\n",
       "  <tbody>\n",
       "    <tr>\n",
       "      <th>943</th>\n",
       "      <td>49617</td>\n",
       "      <td>49617</td>\n",
       "      <td>28117</td>\n",
       "      <td>5000004664  CMO TRAINING SITE (IT)</td>\n",
       "      <td>2020-07-01</td>\n",
       "      <td>$62,739.00</td>\n",
       "      <td>$62,739.26</td>\n",
       "      <td>$2,091.00</td>\n",
       "      <td>$2,091.00</td>\n",
       "      <td>$2,091.31</td>\n",
       "      <td>$60,648.00</td>\n",
       "      <td>15</td>\n",
       "      <td>2035-07-01</td>\n",
       "      <td>$174.00</td>\n",
       "      <td>$2,091.30</td>\n",
       "      <td>$4,182.60</td>\n",
       "      <td>$3,485.50</td>\n",
       "      <td>$1,394.21</td>\n",
       "    </tr>\n",
       "    <tr>\n",
       "      <th>944</th>\n",
       "      <td>49618</td>\n",
       "      <td>49618</td>\n",
       "      <td>28118</td>\n",
       "      <td>5000004664  CMO TRAINING SITE (IT)</td>\n",
       "      <td>2020-07-01</td>\n",
       "      <td>$61,136.00</td>\n",
       "      <td>$61,136.26</td>\n",
       "      <td>$6,114.00</td>\n",
       "      <td>$6,114.00</td>\n",
       "      <td>$6,113.63</td>\n",
       "      <td>$55,023.00</td>\n",
       "      <td>5</td>\n",
       "      <td>2025-07-01</td>\n",
       "      <td>$54.00</td>\n",
       "      <td>$6,113.60</td>\n",
       "      <td>$12,227.20</td>\n",
       "      <td>$10,189.33</td>\n",
       "      <td>$4,075.75</td>\n",
       "    </tr>\n",
       "    <tr>\n",
       "      <th>945</th>\n",
       "      <td>49619</td>\n",
       "      <td>49619</td>\n",
       "      <td>28119</td>\n",
       "      <td>5000005296  2019 ROTAFLOW ECMO UNITS UPGRADE -...</td>\n",
       "      <td>2020-07-01</td>\n",
       "      <td>$11,246.00</td>\n",
       "      <td>$11,246.14</td>\n",
       "      <td>$375.00</td>\n",
       "      <td>$375.00</td>\n",
       "      <td>$374.87</td>\n",
       "      <td>$10,871.00</td>\n",
       "      <td>15</td>\n",
       "      <td>2035-07-01</td>\n",
       "      <td>$174.00</td>\n",
       "      <td>$374.87</td>\n",
       "      <td>$749.73</td>\n",
       "      <td>$624.78</td>\n",
       "      <td>$249.91</td>\n",
       "    </tr>\n",
       "    <tr>\n",
       "      <th>946</th>\n",
       "      <td>49620</td>\n",
       "      <td>49620</td>\n",
       "      <td>28120</td>\n",
       "      <td>5000005296  2019 ROTAFLOW ECMO UNITS UPGRADE -...</td>\n",
       "      <td>2020-07-01</td>\n",
       "      <td>$117,894.00</td>\n",
       "      <td>$117,893.68</td>\n",
       "      <td>$11,789.00</td>\n",
       "      <td>$11,789.00</td>\n",
       "      <td>$11,789.37</td>\n",
       "      <td>$106,104.00</td>\n",
       "      <td>5</td>\n",
       "      <td>2025-07-01</td>\n",
       "      <td>$54.00</td>\n",
       "      <td>$11,789.40</td>\n",
       "      <td>$23,578.80</td>\n",
       "      <td>$19,649.00</td>\n",
       "      <td>$7,859.58</td>\n",
       "    </tr>\n",
       "    <tr>\n",
       "      <th>947</th>\n",
       "      <td>49621</td>\n",
       "      <td>49621</td>\n",
       "      <td>28121</td>\n",
       "      <td>5000005723  CMO-EMBLEM DISK ENCRYPTION PROJECT</td>\n",
       "      <td>2020-07-01</td>\n",
       "      <td>$820,999.00</td>\n",
       "      <td>$820,999.12</td>\n",
       "      <td>$82,100.00</td>\n",
       "      <td>$82,100.00</td>\n",
       "      <td>$82,099.91</td>\n",
       "      <td>$738,899.00</td>\n",
       "      <td>5</td>\n",
       "      <td>2025-07-01</td>\n",
       "      <td>$54.00</td>\n",
       "      <td>$82,099.90</td>\n",
       "      <td>$164,199.80</td>\n",
       "      <td>$136,833.17</td>\n",
       "      <td>$54,733.28</td>\n",
       "    </tr>\n",
       "  </tbody>\n",
       "</table>\n",
       "</div>"
      ],
      "text/plain": [
       "     Asset ID  cbiz_index  Asset                                        Description Acquisition Date   Acquired Value*        Basis   Current YTD*    Current Accum*   LifeToDateDepreciation       NBV*   life_years full_dep_yr_2  LifeRemaining  dep_exp_2020  dep_exp_2021  depr_ytd_oct  CurrentPeriodDepreciation\n",
       "943     49617       49617  28117                 5000004664  CMO TRAINING SITE (IT)       2020-07-01         $62,739.00  $62,739.26       $2,091.00         $2,091.00               $2,091.31  $60,648.00          15    2035-07-01        $174.00     $2,091.30     $4,182.60     $3,485.50                  $1,394.21\n",
       "944     49618       49618  28118                 5000004664  CMO TRAINING SITE (IT)       2020-07-01         $61,136.00  $61,136.26       $6,114.00         $6,114.00               $6,113.63  $55,023.00           5    2025-07-01         $54.00     $6,113.60    $12,227.20    $10,189.33                  $4,075.75\n",
       "945     49619       49619  28119  5000005296  2019 ROTAFLOW ECMO UNITS UPGRADE -...       2020-07-01         $11,246.00  $11,246.14         $375.00           $375.00                 $374.87  $10,871.00          15    2035-07-01        $174.00       $374.87       $749.73       $624.78                    $249.91\n",
       "946     49620       49620  28120  5000005296  2019 ROTAFLOW ECMO UNITS UPGRADE -...       2020-07-01        $117,894.00 $117,893.68      $11,789.00        $11,789.00              $11,789.37 $106,104.00           5    2025-07-01         $54.00    $11,789.40    $23,578.80    $19,649.00                  $7,859.58\n",
       "947     49621       49621  28121     5000005723  CMO-EMBLEM DISK ENCRYPTION PROJECT       2020-07-01        $820,999.00 $820,999.12      $82,100.00        $82,100.00              $82,099.91 $738,899.00           5    2025-07-01         $54.00    $82,099.90   $164,199.80   $136,833.17                 $54,733.28"
      ]
     },
     "execution_count": 499,
     "metadata": {},
     "output_type": "execute_result"
    }
   ],
   "source": [
    "df_depreciation_calc_3020 = df_depreciation_calc_3020[['Asset ID',  'Acquisition Date',\n",
    "       ' Acquired Value* ',  'Basis', ' Current YTD* ', ' Current Accum* ', 'LifeToDateDepreciation',\n",
    "       ' NBV* ', 'life_years','full_dep_yr_2', 'LifeRemaining', 'dep_exp_2020', 'dep_exp_2021', 'depr_ytd_oct',  ]]\n",
    "\n",
    "df_depreciation_calc_3020 = df_depreciation_calc_3020.merge(fsm_depreciation, how='left',\n",
    "                                                           left_on='Asset ID', right_on='Asset')\n",
    "\n",
    "df_depreciation_calc_3020 = df_depreciation_calc_3020[['Asset ID',  'Acquisition Date',\n",
    "       ' Acquired Value* ',  'Basis', ' Current YTD* ', ' Current Accum* ', 'LifeToDateDepreciation',\n",
    "       ' NBV* ', 'life_years','full_dep_yr_2', 'LifeRemaining', 'dep_exp_2020', 'dep_exp_2021', 'depr_ytd_oct','CurrentPeriodDepreciation',  ]]\n",
    "\n",
    "df_depreciation_calc_3010.tail()"
   ]
  },
  {
   "cell_type": "code",
   "execution_count": 500,
   "metadata": {},
   "outputs": [],
   "source": [
    "dep_variance_3020.to_csv(\n",
    "    r'C:\\Users\\mikra\\OneDrive\\Documents\\Work\\conversion\\SIT3\\november_AX2\\fixed_assets\\mmc\\output\\output_3020\\sit3_incorrect_depreciation_3020.csv'\n",
    ")"
   ]
  },
  {
   "cell_type": "code",
   "execution_count": 501,
   "metadata": {},
   "outputs": [
    {
     "data": {
      "text/plain": [
       "(67, 20)"
      ]
     },
     "execution_count": 501,
     "metadata": {},
     "output_type": "execute_result"
    }
   ],
   "source": [
    "dep_variance_3020.shape"
   ]
  },
  {
   "cell_type": "code",
   "execution_count": 502,
   "metadata": {},
   "outputs": [],
   "source": [
    "df_depreciation_calc_3020['Asset ID'] = df_depreciation_calc_3020['Asset ID'].astype('int')\n",
    "\n",
    "fsm_asset_number_3020 = assets_group_3020[['Asset', 'cbiz_index']]\n",
    "# fsm_asset_number\n",
    "\n",
    "df_depreciation_calc_3020 = df_depreciation_calc_3020.merge(fsm_asset_number_3020, how='left',\n",
    "                                            left_on='Asset ID', right_on=\"cbiz_index\")"
   ]
  },
  {
   "cell_type": "code",
   "execution_count": 503,
   "metadata": {},
   "outputs": [],
   "source": [
    "df_depreciation_calc_3020.to_csv(\n",
    "    r'C:\\Users\\mikra\\OneDrive\\Documents\\Work\\conversion\\SIT3\\november_AX2\\fixed_assets\\mmc\\output\\output_3020\\sit3_depreciation_3020.csv'\n",
    ")"
   ]
  },
  {
   "cell_type": "markdown",
   "metadata": {},
   "source": [
    "### Calculate company 2000 depreciation expense for fiscal 2021 and compare to CBIZ projections"
   ]
  },
  {
   "cell_type": "code",
   "execution_count": 504,
   "metadata": {
    "scrolled": true
   },
   "outputs": [
    {
     "name": "stderr",
     "output_type": "stream",
     "text": [
      "<ipython-input-504-bfaced8b7d2d>:8: SettingWithCopyWarning: \n",
      "A value is trying to be set on a copy of a slice from a DataFrame.\n",
      "Try using .loc[row_indexer,col_indexer] = value instead\n",
      "\n",
      "See the caveats in the documentation: https://pandas.pydata.org/pandas-docs/stable/user_guide/indexing.html#returning-a-view-versus-a-copy\n",
      "  df_depreciation_calc_2000['full_dep_yr'] =  df_depreciation_calc_2000['life_years']\\\n",
      "C:\\Users\\mikra\\anaconda3\\lib\\site-packages\\pandas\\core\\arrays\\datetimelike.py:1108: PerformanceWarning: Adding/subtracting object-dtype array to DatetimeArray not vectorized\n",
      "  warnings.warn(\n",
      "<ipython-input-504-bfaced8b7d2d>:11: SettingWithCopyWarning: \n",
      "A value is trying to be set on a copy of a slice from a DataFrame.\n",
      "Try using .loc[row_indexer,col_indexer] = value instead\n",
      "\n",
      "See the caveats in the documentation: https://pandas.pydata.org/pandas-docs/stable/user_guide/indexing.html#returning-a-view-versus-a-copy\n",
      "  df_depreciation_calc_2000['full_dep_yr_2'] = df_depreciation_calc_2000['Acquisition Date'] +\\\n"
     ]
    }
   ],
   "source": [
    "df_depreciation_calc_2000 = cbiz_asset_and_book_2000_merge[[\n",
    "    'AssetImport_x',  'Asset ID',  'Description_x', 'Acquisition Date',\n",
    "    ' Acquired Value* ', 'Est Life*', ' Current YTD* ',\n",
    "    ' Current Accum* ', ' NBV* ', 'life_years','LifeRemaining', 'Basis',\n",
    "    'YearPlacedInService', 'Convention','LifeToDateDepreciation'\n",
    "]]\n",
    "\n",
    "df_depreciation_calc_2000['full_dep_yr'] =  df_depreciation_calc_2000['life_years']\\\n",
    ".apply(lambda x: dateutil.relativedelta.relativedelta(years=x))\n",
    "\n",
    "df_depreciation_calc_2000['full_dep_yr_2'] = df_depreciation_calc_2000['Acquisition Date'] +\\\n",
    "df_depreciation_calc_2000['full_dep_yr']\n",
    "\n",
    "# add a column for 2020 depreciation\n",
    "df_depreciation_calc_2000 = df_depreciation_calc_2000.apply(dep_calc_2020, axis=1)\n",
    "\n",
    "# calculate 2021 depreciation and add column to df\n",
    "df_depreciation_calc_2000 = df_depreciation_calc_2000.apply(dep_calc_2021, axis=1)\n",
    "\n",
    "df_depreciation_calc_2000['depr_ytd_oct'] = df_depreciation_calc_2000['dep_exp_2021'] * (10/12)\n",
    "\n"
   ]
  },
  {
   "cell_type": "code",
   "execution_count": 505,
   "metadata": {},
   "outputs": [
    {
     "data": {
      "text/plain": [
       " Current YTD*    $70,722.48\n",
       "dep_exp_2020     $70,722.48\n",
       "dep_exp_2021     $71,505.53\n",
       "depr_ytd_oct     $59,587.95\n",
       "dtype: float64"
      ]
     },
     "execution_count": 505,
     "metadata": {},
     "output_type": "execute_result"
    }
   ],
   "source": [
    "df_depreciation_calc_2000[[' Current YTD* ', 'dep_exp_2020', 'dep_exp_2021', 'depr_ytd_oct' ]].sum()"
   ]
  },
  {
   "cell_type": "code",
   "execution_count": 506,
   "metadata": {},
   "outputs": [],
   "source": [
    "df_depreciation_calc_2000['Asset ID'] = df_depreciation_calc_2000['Asset ID'].astype('int')\n",
    "\n",
    "fsm_asset_number_2000 = assets_group_2000[['Asset', 'cbiz_index']]\n",
    "# fsm_asset_number\n",
    "\n",
    "df_depreciation_calc_2000 = df_depreciation_calc_2000.merge(fsm_asset_number_2000, how='left',\n",
    "                                            left_on='Asset ID', right_on=\"cbiz_index\")\n",
    "\n",
    "\n",
    "\n"
   ]
  },
  {
   "cell_type": "code",
   "execution_count": 507,
   "metadata": {},
   "outputs": [
    {
     "data": {
      "text/plain": [
       "Index(['AssetImport_x', 'Asset ID', 'Description_x', 'Acquisition Date',\n",
       "       ' Acquired Value* ', 'Est Life*', ' Current YTD* ', ' Current Accum* ',\n",
       "       ' NBV* ', 'life_years', 'LifeRemaining', 'Basis', 'YearPlacedInService',\n",
       "       'Convention', 'LifeToDateDepreciation', 'full_dep_yr', 'full_dep_yr_2',\n",
       "       'dep_exp_2020', 'dep_exp_2021', 'depr_ytd_oct', 'Asset', 'cbiz_index'],\n",
       "      dtype='object')"
      ]
     },
     "execution_count": 507,
     "metadata": {},
     "output_type": "execute_result"
    }
   ],
   "source": [
    "df_depreciation_calc_2000.columns"
   ]
  },
  {
   "cell_type": "code",
   "execution_count": 508,
   "metadata": {},
   "outputs": [
    {
     "data": {
      "text/html": [
       "<div>\n",
       "<style scoped>\n",
       "    .dataframe tbody tr th:only-of-type {\n",
       "        vertical-align: middle;\n",
       "    }\n",
       "\n",
       "    .dataframe tbody tr th {\n",
       "        vertical-align: top;\n",
       "    }\n",
       "\n",
       "    .dataframe thead th {\n",
       "        text-align: right;\n",
       "    }\n",
       "</style>\n",
       "<table border=\"1\" class=\"dataframe\">\n",
       "  <thead>\n",
       "    <tr style=\"text-align: right;\">\n",
       "      <th></th>\n",
       "      <th>Asset ID</th>\n",
       "      <th>Description_x</th>\n",
       "      <th>cbiz_index</th>\n",
       "      <th>Asset</th>\n",
       "      <th>Acquisition Date</th>\n",
       "      <th>Acquired Value*</th>\n",
       "      <th>Basis</th>\n",
       "      <th>Current YTD*</th>\n",
       "      <th>Current Accum*</th>\n",
       "      <th>LifeToDateDepreciation</th>\n",
       "      <th>NBV*</th>\n",
       "      <th>life_years</th>\n",
       "      <th>full_dep_yr_2</th>\n",
       "      <th>LifeRemaining</th>\n",
       "      <th>dep_exp_2020</th>\n",
       "      <th>dep_exp_2021</th>\n",
       "      <th>depr_ytd_oct</th>\n",
       "      <th>CurrentPeriodDepreciation</th>\n",
       "    </tr>\n",
       "  </thead>\n",
       "  <tbody>\n",
       "    <tr>\n",
       "      <th>0</th>\n",
       "      <td>4</td>\n",
       "      <td>5000003014  FINANCE SHARED SERVICES - TARRYTOW...</td>\n",
       "      <td>4</td>\n",
       "      <td>29096</td>\n",
       "      <td>2019-07-01</td>\n",
       "      <td>$44,093.62</td>\n",
       "      <td>$44,093.62</td>\n",
       "      <td>$2,939.58</td>\n",
       "      <td>$4,409.37</td>\n",
       "      <td>$4,409.37</td>\n",
       "      <td>$39,684.25</td>\n",
       "      <td>15</td>\n",
       "      <td>2034-07-01</td>\n",
       "      <td>$162.00</td>\n",
       "      <td>$2,939.57</td>\n",
       "      <td>$2,939.57</td>\n",
       "      <td>$2,449.65</td>\n",
       "      <td>$979.86</td>\n",
       "    </tr>\n",
       "    <tr>\n",
       "      <th>1</th>\n",
       "      <td>5</td>\n",
       "      <td>5000003014  FINANCE SHARED SERVICES - TARRYTOW...</td>\n",
       "      <td>5</td>\n",
       "      <td>29097</td>\n",
       "      <td>2019-07-01</td>\n",
       "      <td>$908,408.25</td>\n",
       "      <td>$908,408.25</td>\n",
       "      <td>$60,560.55</td>\n",
       "      <td>$90,840.83</td>\n",
       "      <td>$90,840.83</td>\n",
       "      <td>$817,567.42</td>\n",
       "      <td>15</td>\n",
       "      <td>2034-07-01</td>\n",
       "      <td>$162.00</td>\n",
       "      <td>$60,560.55</td>\n",
       "      <td>$60,560.55</td>\n",
       "      <td>$50,467.13</td>\n",
       "      <td>$20,186.85</td>\n",
       "    </tr>\n",
       "    <tr>\n",
       "      <th>2</th>\n",
       "      <td>6</td>\n",
       "      <td>FURNITURE GENERAL - 5-PAT</td>\n",
       "      <td>6</td>\n",
       "      <td>29098</td>\n",
       "      <td>2019-07-01</td>\n",
       "      <td>$32,196.47</td>\n",
       "      <td>$32,196.47</td>\n",
       "      <td>$6,439.29</td>\n",
       "      <td>$9,658.94</td>\n",
       "      <td>$9,658.94</td>\n",
       "      <td>$22,537.53</td>\n",
       "      <td>5</td>\n",
       "      <td>2024-07-01</td>\n",
       "      <td>$42.00</td>\n",
       "      <td>$6,439.29</td>\n",
       "      <td>$6,439.29</td>\n",
       "      <td>$5,366.08</td>\n",
       "      <td>$2,146.43</td>\n",
       "    </tr>\n",
       "    <tr>\n",
       "      <th>3</th>\n",
       "      <td>7</td>\n",
       "      <td>5000003014  FINANCE SHARED SERVICES - TARRYTOW...</td>\n",
       "      <td>7</td>\n",
       "      <td>29099</td>\n",
       "      <td>2020-07-01</td>\n",
       "      <td>$23,491.74</td>\n",
       "      <td>$23,491.74</td>\n",
       "      <td>$783.06</td>\n",
       "      <td>$783.06</td>\n",
       "      <td>$783.06</td>\n",
       "      <td>$22,708.68</td>\n",
       "      <td>15</td>\n",
       "      <td>2035-07-01</td>\n",
       "      <td>$174.00</td>\n",
       "      <td>$783.06</td>\n",
       "      <td>$1,566.12</td>\n",
       "      <td>$1,305.10</td>\n",
       "      <td>$522.04</td>\n",
       "    </tr>\n",
       "  </tbody>\n",
       "</table>\n",
       "</div>"
      ],
      "text/plain": [
       "   Asset ID                                      Description_x  cbiz_index  Asset Acquisition Date   Acquired Value*        Basis   Current YTD*    Current Accum*   LifeToDateDepreciation       NBV*   life_years full_dep_yr_2  LifeRemaining  dep_exp_2020  dep_exp_2021  depr_ytd_oct  CurrentPeriodDepreciation\n",
       "0         4  5000003014  FINANCE SHARED SERVICES - TARRYTOW...           4  29096       2019-07-01         $44,093.62  $44,093.62       $2,939.58         $4,409.37               $4,409.37  $39,684.25          15    2034-07-01        $162.00     $2,939.57     $2,939.57     $2,449.65                    $979.86\n",
       "1         5  5000003014  FINANCE SHARED SERVICES - TARRYTOW...           5  29097       2019-07-01        $908,408.25 $908,408.25      $60,560.55        $90,840.83              $90,840.83 $817,567.42          15    2034-07-01        $162.00    $60,560.55    $60,560.55    $50,467.13                 $20,186.85\n",
       "2         6                          FURNITURE GENERAL - 5-PAT           6  29098       2019-07-01         $32,196.47  $32,196.47       $6,439.29         $9,658.94               $9,658.94  $22,537.53           5    2024-07-01         $42.00     $6,439.29     $6,439.29     $5,366.08                  $2,146.43\n",
       "3         7  5000003014  FINANCE SHARED SERVICES - TARRYTOW...           7  29099       2020-07-01         $23,491.74  $23,491.74         $783.06           $783.06                 $783.06  $22,708.68          15    2035-07-01        $174.00       $783.06     $1,566.12     $1,305.10                    $522.04"
      ]
     },
     "execution_count": 508,
     "metadata": {},
     "output_type": "execute_result"
    }
   ],
   "source": [
    "df_depreciation_calc_2000 = df_depreciation_calc_2000[['Asset ID','Description_x', 'cbiz_index', 'Asset', 'Acquisition Date',\n",
    "       ' Acquired Value* ',  'Basis', ' Current YTD* ', ' Current Accum* ', 'LifeToDateDepreciation',\n",
    "       ' NBV* ', 'life_years','full_dep_yr_2', 'LifeRemaining', 'dep_exp_2020', 'dep_exp_2021', 'depr_ytd_oct',  ]]\n",
    "\n",
    "df_depreciation_calc_2000 = df_depreciation_calc_2000.merge(fsm_depreciation, how='left',\n",
    "                                                           left_on='Asset', right_on='Asset')\n",
    "\n",
    "df_depreciation_calc_2000 = df_depreciation_calc_2000[['Asset ID','Description_x', 'cbiz_index', 'Asset', 'Acquisition Date',\n",
    "       ' Acquired Value* ',  'Basis', ' Current YTD* ', ' Current Accum* ', 'LifeToDateDepreciation',\n",
    "       ' NBV* ', 'life_years','full_dep_yr_2', 'LifeRemaining', 'dep_exp_2020', 'dep_exp_2021', 'depr_ytd_oct','CurrentPeriodDepreciation',  ]]\n",
    "\n",
    "df_depreciation_calc_2000.tail()"
   ]
  },
  {
   "cell_type": "code",
   "execution_count": 509,
   "metadata": {},
   "outputs": [],
   "source": [
    "df_depreciation_calc_2000.to_csv(\n",
    "    r'C:\\Users\\mikra\\OneDrive\\Documents\\Work\\conversion\\SIT3\\november_AX2\\fixed_assets\\mmc\\output\\output_2000\\sit3_depreciation_2000.csv'\n",
    ")"
   ]
  },
  {
   "cell_type": "markdown",
   "metadata": {},
   "source": [
    "### Calculate company 3060 depreciation expense for fiscal 2021 and compare to CBIZ projections"
   ]
  },
  {
   "cell_type": "code",
   "execution_count": 510,
   "metadata": {},
   "outputs": [
    {
     "name": "stderr",
     "output_type": "stream",
     "text": [
      "<ipython-input-510-76bb4f5a3ce2>:8: SettingWithCopyWarning: \n",
      "A value is trying to be set on a copy of a slice from a DataFrame.\n",
      "Try using .loc[row_indexer,col_indexer] = value instead\n",
      "\n",
      "See the caveats in the documentation: https://pandas.pydata.org/pandas-docs/stable/user_guide/indexing.html#returning-a-view-versus-a-copy\n",
      "  df_depreciation_calc_3060['full_dep_yr'] =  df_depreciation_calc_3060['life_years']\\\n",
      "C:\\Users\\mikra\\anaconda3\\lib\\site-packages\\pandas\\core\\arrays\\datetimelike.py:1108: PerformanceWarning: Adding/subtracting object-dtype array to DatetimeArray not vectorized\n",
      "  warnings.warn(\n",
      "<ipython-input-510-76bb4f5a3ce2>:11: SettingWithCopyWarning: \n",
      "A value is trying to be set on a copy of a slice from a DataFrame.\n",
      "Try using .loc[row_indexer,col_indexer] = value instead\n",
      "\n",
      "See the caveats in the documentation: https://pandas.pydata.org/pandas-docs/stable/user_guide/indexing.html#returning-a-view-versus-a-copy\n",
      "  df_depreciation_calc_3060['full_dep_yr_2'] = df_depreciation_calc_3060['Acquisition Date'] +\\\n"
     ]
    }
   ],
   "source": [
    "df_depreciation_calc_3060 = cbiz_asset_and_book_3060_merge[[\n",
    "    'AssetImport_x',  'Asset ID',  'Description_x', 'Acquisition Date',\n",
    "    ' Acquired Value* ', 'Est Life*', ' Current YTD* ',\n",
    "    ' Current Accum* ', ' NBV* ', 'life_years','LifeRemaining', 'Basis',\n",
    "    'YearPlacedInService', 'Convention','LifeToDateDepreciation'\n",
    "]]\n",
    "\n",
    "df_depreciation_calc_3060['full_dep_yr'] =  df_depreciation_calc_3060['life_years']\\\n",
    ".apply(lambda x: dateutil.relativedelta.relativedelta(years=x))\n",
    "\n",
    "df_depreciation_calc_3060['full_dep_yr_2'] = df_depreciation_calc_3060['Acquisition Date'] +\\\n",
    "df_depreciation_calc_3060['full_dep_yr']\n",
    "\n",
    "# add a column for 2020 depreciation\n",
    "df_depreciation_calc_3060 = df_depreciation_calc_3060.apply(dep_calc_2020, axis=1)\n",
    "\n",
    "# calculate 2021 depreciation and add column to df\n",
    "df_depreciation_calc_3060 = df_depreciation_calc_3060.apply(dep_calc_2021, axis=1)\n",
    "\n",
    "df_depreciation_calc_3060['depr_ytd_oct'] = df_depreciation_calc_3060['dep_exp_2021'] * (10/12)"
   ]
  },
  {
   "cell_type": "code",
   "execution_count": 511,
   "metadata": {},
   "outputs": [
    {
     "data": {
      "text/plain": [
       " Current YTD*    $4,267.83\n",
       "dep_exp_2020     $4,267.83\n",
       "dep_exp_2021     $4,267.83\n",
       "depr_ytd_oct     $3,556.52\n",
       "dtype: float64"
      ]
     },
     "execution_count": 511,
     "metadata": {},
     "output_type": "execute_result"
    }
   ],
   "source": [
    "df_depreciation_calc_3060[[' Current YTD* ', 'dep_exp_2020', 'dep_exp_2021', 'depr_ytd_oct' ]].sum()"
   ]
  },
  {
   "cell_type": "code",
   "execution_count": 512,
   "metadata": {},
   "outputs": [],
   "source": [
    "df_depreciation_calc_3060['Asset ID'] = df_depreciation_calc_3060['Asset ID'].astype('int')\n",
    "\n",
    "fsm_asset_number_3060 = assets_group_3060[['Asset', 'cbiz_index']]\n",
    "# fsm_asset_number\n",
    "\n",
    "df_depreciation_calc_3060 = df_depreciation_calc_3060.merge(fsm_asset_number_3060, how='left',\n",
    "                                            left_on='Asset ID', right_on=\"cbiz_index\")"
   ]
  },
  {
   "cell_type": "code",
   "execution_count": 513,
   "metadata": {},
   "outputs": [
    {
     "data": {
      "text/html": [
       "<div>\n",
       "<style scoped>\n",
       "    .dataframe tbody tr th:only-of-type {\n",
       "        vertical-align: middle;\n",
       "    }\n",
       "\n",
       "    .dataframe tbody tr th {\n",
       "        vertical-align: top;\n",
       "    }\n",
       "\n",
       "    .dataframe thead th {\n",
       "        text-align: right;\n",
       "    }\n",
       "</style>\n",
       "<table border=\"1\" class=\"dataframe\">\n",
       "  <thead>\n",
       "    <tr style=\"text-align: right;\">\n",
       "      <th></th>\n",
       "      <th>Asset ID</th>\n",
       "      <th>Description_x</th>\n",
       "      <th>cbiz_index</th>\n",
       "      <th>Asset</th>\n",
       "      <th>Acquisition Date</th>\n",
       "      <th>Acquired Value*</th>\n",
       "      <th>Basis</th>\n",
       "      <th>Current YTD*</th>\n",
       "      <th>Current Accum*</th>\n",
       "      <th>LifeToDateDepreciation</th>\n",
       "      <th>NBV*</th>\n",
       "      <th>life_years</th>\n",
       "      <th>full_dep_yr_2</th>\n",
       "      <th>LifeRemaining</th>\n",
       "      <th>dep_exp_2020</th>\n",
       "      <th>dep_exp_2021</th>\n",
       "      <th>depr_ytd_oct</th>\n",
       "      <th>CurrentPeriodDepreciation</th>\n",
       "    </tr>\n",
       "  </thead>\n",
       "  <tbody>\n",
       "    <tr>\n",
       "      <th>0</th>\n",
       "      <td>1</td>\n",
       "      <td>5116143  MHVA SATELLITE OFFICE AT ST LUKE CORNWAL</td>\n",
       "      <td>1</td>\n",
       "      <td>28283</td>\n",
       "      <td>2019-07-01</td>\n",
       "      <td>$1,915.00</td>\n",
       "      <td>$1,250.00</td>\n",
       "      <td>$127.67</td>\n",
       "      <td>$191.50</td>\n",
       "      <td>$1,250.00</td>\n",
       "      <td>$1,723.50</td>\n",
       "      <td>15</td>\n",
       "      <td>2034-07-01</td>\n",
       "      <td>$0.00</td>\n",
       "      <td>$127.67</td>\n",
       "      <td>$127.67</td>\n",
       "      <td>$106.39</td>\n",
       "      <td>$42.56</td>\n",
       "    </tr>\n",
       "    <tr>\n",
       "      <th>1</th>\n",
       "      <td>2</td>\n",
       "      <td>5116143  MHVA SATELLITE OFFICE AT ST LUKE CORNWAL</td>\n",
       "      <td>2</td>\n",
       "      <td>28284</td>\n",
       "      <td>2019-07-01</td>\n",
       "      <td>$1,837.26</td>\n",
       "      <td>$500.00</td>\n",
       "      <td>$122.48</td>\n",
       "      <td>$183.72</td>\n",
       "      <td>$500.00</td>\n",
       "      <td>$1,653.54</td>\n",
       "      <td>15</td>\n",
       "      <td>2034-07-01</td>\n",
       "      <td>$0.00</td>\n",
       "      <td>$122.48</td>\n",
       "      <td>$122.48</td>\n",
       "      <td>$102.07</td>\n",
       "      <td>$40.83</td>\n",
       "    </tr>\n",
       "    <tr>\n",
       "      <th>2</th>\n",
       "      <td>3</td>\n",
       "      <td>5116143  MHVA SATELLITE OFFICE AT ST LUKE CORNWAL</td>\n",
       "      <td>3</td>\n",
       "      <td>28285</td>\n",
       "      <td>2019-07-01</td>\n",
       "      <td>$20,088.39</td>\n",
       "      <td>$500.00</td>\n",
       "      <td>$4,017.68</td>\n",
       "      <td>$6,026.52</td>\n",
       "      <td>$500.00</td>\n",
       "      <td>$14,061.87</td>\n",
       "      <td>5</td>\n",
       "      <td>2024-07-01</td>\n",
       "      <td>$0.00</td>\n",
       "      <td>$4,017.68</td>\n",
       "      <td>$4,017.68</td>\n",
       "      <td>$3,348.07</td>\n",
       "      <td>$1,339.23</td>\n",
       "    </tr>\n",
       "  </tbody>\n",
       "</table>\n",
       "</div>"
      ],
      "text/plain": [
       "   Asset ID                                      Description_x  cbiz_index  Asset Acquisition Date   Acquired Value*      Basis   Current YTD*    Current Accum*   LifeToDateDepreciation      NBV*   life_years full_dep_yr_2  LifeRemaining  dep_exp_2020  dep_exp_2021  depr_ytd_oct  CurrentPeriodDepreciation\n",
       "0         1  5116143  MHVA SATELLITE OFFICE AT ST LUKE CORNWAL           1  28283       2019-07-01          $1,915.00 $1,250.00         $127.67           $191.50               $1,250.00  $1,723.50          15    2034-07-01          $0.00       $127.67       $127.67       $106.39                     $42.56\n",
       "1         2  5116143  MHVA SATELLITE OFFICE AT ST LUKE CORNWAL           2  28284       2019-07-01          $1,837.26   $500.00         $122.48           $183.72                 $500.00  $1,653.54          15    2034-07-01          $0.00       $122.48       $122.48       $102.07                     $40.83\n",
       "2         3  5116143  MHVA SATELLITE OFFICE AT ST LUKE CORNWAL           3  28285       2019-07-01         $20,088.39   $500.00       $4,017.68         $6,026.52                 $500.00 $14,061.87           5    2024-07-01          $0.00     $4,017.68     $4,017.68     $3,348.07                  $1,339.23"
      ]
     },
     "execution_count": 513,
     "metadata": {},
     "output_type": "execute_result"
    }
   ],
   "source": [
    "df_depreciation_calc_3060 = df_depreciation_calc_3060[['Asset ID','Description_x', 'cbiz_index', 'Asset', 'Acquisition Date',\n",
    "       ' Acquired Value* ',  'Basis', ' Current YTD* ', ' Current Accum* ', 'LifeToDateDepreciation',\n",
    "       ' NBV* ', 'life_years','full_dep_yr_2', 'LifeRemaining', 'dep_exp_2020', 'dep_exp_2021', 'depr_ytd_oct',  ]]\n",
    "\n",
    "df_depreciation_calc_3060 = df_depreciation_calc_3060.merge(fsm_depreciation, how='left',\n",
    "                                                           left_on='Asset', right_on='Asset')\n",
    "\n",
    "df_depreciation_calc_3060 = df_depreciation_calc_3060[['Asset ID','Description_x', 'cbiz_index', 'Asset', 'Acquisition Date',\n",
    "       ' Acquired Value* ',  'Basis', ' Current YTD* ', ' Current Accum* ', 'LifeToDateDepreciation',\n",
    "       ' NBV* ', 'life_years','full_dep_yr_2', 'LifeRemaining', 'dep_exp_2020', 'dep_exp_2021', 'depr_ytd_oct','CurrentPeriodDepreciation',  ]]\n",
    "\n",
    "df_depreciation_calc_3060.tail()"
   ]
  },
  {
   "cell_type": "code",
   "execution_count": 514,
   "metadata": {},
   "outputs": [],
   "source": [
    "df_depreciation_calc_3060.to_csv(\n",
    "    r'C:\\Users\\mikra\\OneDrive\\Documents\\Work\\conversion\\SIT3\\november_AX2\\fixed_assets\\mmc\\output\\output_3060\\sit3_depreciation_3060.csv'\n",
    ")"
   ]
  },
  {
   "cell_type": "markdown",
   "metadata": {},
   "source": [
    "### Calculate company 3090 depreciation expense for fiscal 2021 and compare to CBIZ projections"
   ]
  },
  {
   "cell_type": "code",
   "execution_count": 515,
   "metadata": {},
   "outputs": [
    {
     "name": "stderr",
     "output_type": "stream",
     "text": [
      "<ipython-input-515-4cb64ff43c2a>:8: SettingWithCopyWarning: \n",
      "A value is trying to be set on a copy of a slice from a DataFrame.\n",
      "Try using .loc[row_indexer,col_indexer] = value instead\n",
      "\n",
      "See the caveats in the documentation: https://pandas.pydata.org/pandas-docs/stable/user_guide/indexing.html#returning-a-view-versus-a-copy\n",
      "  df_depreciation_calc_3090['full_dep_yr'] =  df_depreciation_calc_3090['life_years']\\\n",
      "C:\\Users\\mikra\\anaconda3\\lib\\site-packages\\pandas\\core\\arrays\\datetimelike.py:1108: PerformanceWarning: Adding/subtracting object-dtype array to DatetimeArray not vectorized\n",
      "  warnings.warn(\n",
      "<ipython-input-515-4cb64ff43c2a>:11: SettingWithCopyWarning: \n",
      "A value is trying to be set on a copy of a slice from a DataFrame.\n",
      "Try using .loc[row_indexer,col_indexer] = value instead\n",
      "\n",
      "See the caveats in the documentation: https://pandas.pydata.org/pandas-docs/stable/user_guide/indexing.html#returning-a-view-versus-a-copy\n",
      "  df_depreciation_calc_3090['full_dep_yr_2'] = df_depreciation_calc_3090['Acquisition Date'] +\\\n"
     ]
    }
   ],
   "source": [
    "df_depreciation_calc_3090 = cbiz_asset_and_book_3090_merge[[\n",
    "    'AssetImport_x',  'Asset ID',  'Description_x', 'Acquisition Date',\n",
    "    ' Acquired Value* ', 'Est Life*', ' Current YTD* ',\n",
    "    ' Current Accum* ', ' NBV* ', 'life_years','LifeRemaining', 'Basis',\n",
    "    'YearPlacedInService', 'Convention','LifeToDateDepreciation'\n",
    "]]\n",
    "\n",
    "df_depreciation_calc_3090['full_dep_yr'] =  df_depreciation_calc_3090['life_years']\\\n",
    ".apply(lambda x: dateutil.relativedelta.relativedelta(years=x))\n",
    "\n",
    "df_depreciation_calc_3090['full_dep_yr_2'] = df_depreciation_calc_3090['Acquisition Date'] +\\\n",
    "df_depreciation_calc_3090['full_dep_yr']\n",
    "\n",
    "# add a column for 2020 depreciation\n",
    "df_depreciation_calc_3090 = df_depreciation_calc_3090.apply(dep_calc_2020, axis=1)\n",
    "\n",
    "# calculate 2021 depreciation and add column to df\n",
    "df_depreciation_calc_3090 = df_depreciation_calc_3090.apply(dep_calc_2021, axis=1)\n",
    "\n",
    "df_depreciation_calc_3090['depr_ytd_oct'] = df_depreciation_calc_3090['dep_exp_2021'] * (10/12)"
   ]
  },
  {
   "cell_type": "code",
   "execution_count": 516,
   "metadata": {},
   "outputs": [
    {
     "data": {
      "text/html": [
       "<div>\n",
       "<style scoped>\n",
       "    .dataframe tbody tr th:only-of-type {\n",
       "        vertical-align: middle;\n",
       "    }\n",
       "\n",
       "    .dataframe tbody tr th {\n",
       "        vertical-align: top;\n",
       "    }\n",
       "\n",
       "    .dataframe thead th {\n",
       "        text-align: right;\n",
       "    }\n",
       "</style>\n",
       "<table border=\"1\" class=\"dataframe\">\n",
       "  <thead>\n",
       "    <tr style=\"text-align: right;\">\n",
       "      <th></th>\n",
       "      <th>Asset</th>\n",
       "      <th>cbiz_index</th>\n",
       "    </tr>\n",
       "    <tr>\n",
       "      <th>merge_index</th>\n",
       "      <th></th>\n",
       "      <th></th>\n",
       "    </tr>\n",
       "  </thead>\n",
       "  <tbody>\n",
       "    <tr>\n",
       "      <th>38285</th>\n",
       "      <td>28122</td>\n",
       "      <td>38285</td>\n",
       "    </tr>\n",
       "    <tr>\n",
       "      <th>38286</th>\n",
       "      <td>28123</td>\n",
       "      <td>38286</td>\n",
       "    </tr>\n",
       "    <tr>\n",
       "      <th>38287</th>\n",
       "      <td>28124</td>\n",
       "      <td>38287</td>\n",
       "    </tr>\n",
       "    <tr>\n",
       "      <th>38288</th>\n",
       "      <td>28125</td>\n",
       "      <td>38288</td>\n",
       "    </tr>\n",
       "    <tr>\n",
       "      <th>38289</th>\n",
       "      <td>28126</td>\n",
       "      <td>38289</td>\n",
       "    </tr>\n",
       "    <tr>\n",
       "      <th>38290</th>\n",
       "      <td>28127</td>\n",
       "      <td>38290</td>\n",
       "    </tr>\n",
       "    <tr>\n",
       "      <th>38291</th>\n",
       "      <td>28128</td>\n",
       "      <td>38291</td>\n",
       "    </tr>\n",
       "    <tr>\n",
       "      <th>38292</th>\n",
       "      <td>28129</td>\n",
       "      <td>38292</td>\n",
       "    </tr>\n",
       "    <tr>\n",
       "      <th>38293</th>\n",
       "      <td>28130</td>\n",
       "      <td>38293</td>\n",
       "    </tr>\n",
       "    <tr>\n",
       "      <th>38294</th>\n",
       "      <td>28131</td>\n",
       "      <td>38294</td>\n",
       "    </tr>\n",
       "    <tr>\n",
       "      <th>38295</th>\n",
       "      <td>28132</td>\n",
       "      <td>38295</td>\n",
       "    </tr>\n",
       "    <tr>\n",
       "      <th>38296</th>\n",
       "      <td>28133</td>\n",
       "      <td>38296</td>\n",
       "    </tr>\n",
       "    <tr>\n",
       "      <th>38297</th>\n",
       "      <td>28134</td>\n",
       "      <td>38297</td>\n",
       "    </tr>\n",
       "    <tr>\n",
       "      <th>38298</th>\n",
       "      <td>28135</td>\n",
       "      <td>38298</td>\n",
       "    </tr>\n",
       "    <tr>\n",
       "      <th>39052</th>\n",
       "      <td>28136</td>\n",
       "      <td>39052</td>\n",
       "    </tr>\n",
       "    <tr>\n",
       "      <th>39053</th>\n",
       "      <td>28137</td>\n",
       "      <td>39053</td>\n",
       "    </tr>\n",
       "    <tr>\n",
       "      <th>39054</th>\n",
       "      <td>28138</td>\n",
       "      <td>39054</td>\n",
       "    </tr>\n",
       "    <tr>\n",
       "      <th>39085</th>\n",
       "      <td>28139</td>\n",
       "      <td>39085</td>\n",
       "    </tr>\n",
       "    <tr>\n",
       "      <th>39086</th>\n",
       "      <td>28140</td>\n",
       "      <td>39086</td>\n",
       "    </tr>\n",
       "    <tr>\n",
       "      <th>39087</th>\n",
       "      <td>28141</td>\n",
       "      <td>39087</td>\n",
       "    </tr>\n",
       "    <tr>\n",
       "      <th>39088</th>\n",
       "      <td>28142</td>\n",
       "      <td>39088</td>\n",
       "    </tr>\n",
       "    <tr>\n",
       "      <th>39089</th>\n",
       "      <td>28143</td>\n",
       "      <td>39089</td>\n",
       "    </tr>\n",
       "    <tr>\n",
       "      <th>39090</th>\n",
       "      <td>28144</td>\n",
       "      <td>39090</td>\n",
       "    </tr>\n",
       "    <tr>\n",
       "      <th>39091</th>\n",
       "      <td>28145</td>\n",
       "      <td>39091</td>\n",
       "    </tr>\n",
       "    <tr>\n",
       "      <th>39092</th>\n",
       "      <td>28146</td>\n",
       "      <td>39092</td>\n",
       "    </tr>\n",
       "    <tr>\n",
       "      <th>39094</th>\n",
       "      <td>28147</td>\n",
       "      <td>39094</td>\n",
       "    </tr>\n",
       "    <tr>\n",
       "      <th>39857</th>\n",
       "      <td>28148</td>\n",
       "      <td>39857</td>\n",
       "    </tr>\n",
       "    <tr>\n",
       "      <th>39858</th>\n",
       "      <td>28149</td>\n",
       "      <td>39858</td>\n",
       "    </tr>\n",
       "    <tr>\n",
       "      <th>39859</th>\n",
       "      <td>28150</td>\n",
       "      <td>39859</td>\n",
       "    </tr>\n",
       "    <tr>\n",
       "      <th>39860</th>\n",
       "      <td>28151</td>\n",
       "      <td>39860</td>\n",
       "    </tr>\n",
       "    <tr>\n",
       "      <th>39861</th>\n",
       "      <td>28152</td>\n",
       "      <td>39861</td>\n",
       "    </tr>\n",
       "    <tr>\n",
       "      <th>39862</th>\n",
       "      <td>28153</td>\n",
       "      <td>39862</td>\n",
       "    </tr>\n",
       "    <tr>\n",
       "      <th>39863</th>\n",
       "      <td>28154</td>\n",
       "      <td>39863</td>\n",
       "    </tr>\n",
       "    <tr>\n",
       "      <th>39864</th>\n",
       "      <td>28155</td>\n",
       "      <td>39864</td>\n",
       "    </tr>\n",
       "    <tr>\n",
       "      <th>41268</th>\n",
       "      <td>28156</td>\n",
       "      <td>41268</td>\n",
       "    </tr>\n",
       "    <tr>\n",
       "      <th>41333</th>\n",
       "      <td>28157</td>\n",
       "      <td>41333</td>\n",
       "    </tr>\n",
       "    <tr>\n",
       "      <th>41334</th>\n",
       "      <td>28158</td>\n",
       "      <td>41334</td>\n",
       "    </tr>\n",
       "    <tr>\n",
       "      <th>42127</th>\n",
       "      <td>28159</td>\n",
       "      <td>42127</td>\n",
       "    </tr>\n",
       "    <tr>\n",
       "      <th>42128</th>\n",
       "      <td>28160</td>\n",
       "      <td>42128</td>\n",
       "    </tr>\n",
       "    <tr>\n",
       "      <th>42134</th>\n",
       "      <td>28161</td>\n",
       "      <td>42134</td>\n",
       "    </tr>\n",
       "    <tr>\n",
       "      <th>43080</th>\n",
       "      <td>28162</td>\n",
       "      <td>43080</td>\n",
       "    </tr>\n",
       "    <tr>\n",
       "      <th>43081</th>\n",
       "      <td>28163</td>\n",
       "      <td>43081</td>\n",
       "    </tr>\n",
       "    <tr>\n",
       "      <th>43162</th>\n",
       "      <td>28164</td>\n",
       "      <td>43162</td>\n",
       "    </tr>\n",
       "    <tr>\n",
       "      <th>43163</th>\n",
       "      <td>28165</td>\n",
       "      <td>43163</td>\n",
       "    </tr>\n",
       "    <tr>\n",
       "      <th>43164</th>\n",
       "      <td>28166</td>\n",
       "      <td>43164</td>\n",
       "    </tr>\n",
       "    <tr>\n",
       "      <th>43165</th>\n",
       "      <td>28167</td>\n",
       "      <td>43165</td>\n",
       "    </tr>\n",
       "    <tr>\n",
       "      <th>43166</th>\n",
       "      <td>28168</td>\n",
       "      <td>43166</td>\n",
       "    </tr>\n",
       "    <tr>\n",
       "      <th>43167</th>\n",
       "      <td>28169</td>\n",
       "      <td>43167</td>\n",
       "    </tr>\n",
       "    <tr>\n",
       "      <th>43168</th>\n",
       "      <td>28170</td>\n",
       "      <td>43168</td>\n",
       "    </tr>\n",
       "    <tr>\n",
       "      <th>43826</th>\n",
       "      <td>28171</td>\n",
       "      <td>43826</td>\n",
       "    </tr>\n",
       "    <tr>\n",
       "      <th>43856</th>\n",
       "      <td>28172</td>\n",
       "      <td>43856</td>\n",
       "    </tr>\n",
       "    <tr>\n",
       "      <th>43857</th>\n",
       "      <td>28173</td>\n",
       "      <td>43857</td>\n",
       "    </tr>\n",
       "    <tr>\n",
       "      <th>43858</th>\n",
       "      <td>28174</td>\n",
       "      <td>43858</td>\n",
       "    </tr>\n",
       "    <tr>\n",
       "      <th>44629</th>\n",
       "      <td>28175</td>\n",
       "      <td>44629</td>\n",
       "    </tr>\n",
       "    <tr>\n",
       "      <th>44630</th>\n",
       "      <td>28176</td>\n",
       "      <td>44630</td>\n",
       "    </tr>\n",
       "    <tr>\n",
       "      <th>44631</th>\n",
       "      <td>28177</td>\n",
       "      <td>44631</td>\n",
       "    </tr>\n",
       "    <tr>\n",
       "      <th>44632</th>\n",
       "      <td>28178</td>\n",
       "      <td>44632</td>\n",
       "    </tr>\n",
       "    <tr>\n",
       "      <th>44658</th>\n",
       "      <td>28179</td>\n",
       "      <td>44658</td>\n",
       "    </tr>\n",
       "    <tr>\n",
       "      <th>44659</th>\n",
       "      <td>28180</td>\n",
       "      <td>44659</td>\n",
       "    </tr>\n",
       "    <tr>\n",
       "      <th>44660</th>\n",
       "      <td>28181</td>\n",
       "      <td>44660</td>\n",
       "    </tr>\n",
       "    <tr>\n",
       "      <th>45371</th>\n",
       "      <td>28182</td>\n",
       "      <td>45371</td>\n",
       "    </tr>\n",
       "    <tr>\n",
       "      <th>45373</th>\n",
       "      <td>28183</td>\n",
       "      <td>45373</td>\n",
       "    </tr>\n",
       "    <tr>\n",
       "      <th>45374</th>\n",
       "      <td>28184</td>\n",
       "      <td>45374</td>\n",
       "    </tr>\n",
       "    <tr>\n",
       "      <th>45443</th>\n",
       "      <td>28185</td>\n",
       "      <td>45443</td>\n",
       "    </tr>\n",
       "    <tr>\n",
       "      <th>45444</th>\n",
       "      <td>28186</td>\n",
       "      <td>45444</td>\n",
       "    </tr>\n",
       "    <tr>\n",
       "      <th>45445</th>\n",
       "      <td>28187</td>\n",
       "      <td>45445</td>\n",
       "    </tr>\n",
       "    <tr>\n",
       "      <th>45446</th>\n",
       "      <td>28188</td>\n",
       "      <td>45446</td>\n",
       "    </tr>\n",
       "    <tr>\n",
       "      <th>45447</th>\n",
       "      <td>28189</td>\n",
       "      <td>45447</td>\n",
       "    </tr>\n",
       "    <tr>\n",
       "      <th>45448</th>\n",
       "      <td>28190</td>\n",
       "      <td>45448</td>\n",
       "    </tr>\n",
       "    <tr>\n",
       "      <th>46053</th>\n",
       "      <td>28191</td>\n",
       "      <td>46053</td>\n",
       "    </tr>\n",
       "    <tr>\n",
       "      <th>46054</th>\n",
       "      <td>28192</td>\n",
       "      <td>46054</td>\n",
       "    </tr>\n",
       "    <tr>\n",
       "      <th>46742</th>\n",
       "      <td>28193</td>\n",
       "      <td>46742</td>\n",
       "    </tr>\n",
       "    <tr>\n",
       "      <th>46743</th>\n",
       "      <td>28194</td>\n",
       "      <td>46743</td>\n",
       "    </tr>\n",
       "    <tr>\n",
       "      <th>46744</th>\n",
       "      <td>28195</td>\n",
       "      <td>46744</td>\n",
       "    </tr>\n",
       "    <tr>\n",
       "      <th>46745</th>\n",
       "      <td>28196</td>\n",
       "      <td>46745</td>\n",
       "    </tr>\n",
       "    <tr>\n",
       "      <th>46746</th>\n",
       "      <td>28197</td>\n",
       "      <td>46746</td>\n",
       "    </tr>\n",
       "    <tr>\n",
       "      <th>46747</th>\n",
       "      <td>28198</td>\n",
       "      <td>46747</td>\n",
       "    </tr>\n",
       "    <tr>\n",
       "      <th>46748</th>\n",
       "      <td>28199</td>\n",
       "      <td>46748</td>\n",
       "    </tr>\n",
       "    <tr>\n",
       "      <th>47396</th>\n",
       "      <td>28200</td>\n",
       "      <td>47396</td>\n",
       "    </tr>\n",
       "    <tr>\n",
       "      <th>47397</th>\n",
       "      <td>28201</td>\n",
       "      <td>47397</td>\n",
       "    </tr>\n",
       "    <tr>\n",
       "      <th>47398</th>\n",
       "      <td>28202</td>\n",
       "      <td>47398</td>\n",
       "    </tr>\n",
       "    <tr>\n",
       "      <th>48041</th>\n",
       "      <td>28203</td>\n",
       "      <td>48041</td>\n",
       "    </tr>\n",
       "    <tr>\n",
       "      <th>48042</th>\n",
       "      <td>28204</td>\n",
       "      <td>48042</td>\n",
       "    </tr>\n",
       "    <tr>\n",
       "      <th>48043</th>\n",
       "      <td>28205</td>\n",
       "      <td>48043</td>\n",
       "    </tr>\n",
       "    <tr>\n",
       "      <th>48044</th>\n",
       "      <td>28206</td>\n",
       "      <td>48044</td>\n",
       "    </tr>\n",
       "    <tr>\n",
       "      <th>48045</th>\n",
       "      <td>28207</td>\n",
       "      <td>48045</td>\n",
       "    </tr>\n",
       "    <tr>\n",
       "      <th>48046</th>\n",
       "      <td>28208</td>\n",
       "      <td>48046</td>\n",
       "    </tr>\n",
       "    <tr>\n",
       "      <th>48047</th>\n",
       "      <td>28209</td>\n",
       "      <td>48047</td>\n",
       "    </tr>\n",
       "    <tr>\n",
       "      <th>48048</th>\n",
       "      <td>28210</td>\n",
       "      <td>48048</td>\n",
       "    </tr>\n",
       "    <tr>\n",
       "      <th>48049</th>\n",
       "      <td>28211</td>\n",
       "      <td>48049</td>\n",
       "    </tr>\n",
       "    <tr>\n",
       "      <th>48050</th>\n",
       "      <td>28212</td>\n",
       "      <td>48050</td>\n",
       "    </tr>\n",
       "    <tr>\n",
       "      <th>48051</th>\n",
       "      <td>28213</td>\n",
       "      <td>48051</td>\n",
       "    </tr>\n",
       "    <tr>\n",
       "      <th>48052</th>\n",
       "      <td>28214</td>\n",
       "      <td>48052</td>\n",
       "    </tr>\n",
       "    <tr>\n",
       "      <th>48053</th>\n",
       "      <td>28215</td>\n",
       "      <td>48053</td>\n",
       "    </tr>\n",
       "    <tr>\n",
       "      <th>48054</th>\n",
       "      <td>28216</td>\n",
       "      <td>48054</td>\n",
       "    </tr>\n",
       "    <tr>\n",
       "      <th>48055</th>\n",
       "      <td>28217</td>\n",
       "      <td>48055</td>\n",
       "    </tr>\n",
       "    <tr>\n",
       "      <th>48056</th>\n",
       "      <td>28218</td>\n",
       "      <td>48056</td>\n",
       "    </tr>\n",
       "    <tr>\n",
       "      <th>48057</th>\n",
       "      <td>28219</td>\n",
       "      <td>48057</td>\n",
       "    </tr>\n",
       "    <tr>\n",
       "      <th>48058</th>\n",
       "      <td>28220</td>\n",
       "      <td>48058</td>\n",
       "    </tr>\n",
       "    <tr>\n",
       "      <th>48059</th>\n",
       "      <td>28221</td>\n",
       "      <td>48059</td>\n",
       "    </tr>\n",
       "    <tr>\n",
       "      <th>48060</th>\n",
       "      <td>28222</td>\n",
       "      <td>48060</td>\n",
       "    </tr>\n",
       "    <tr>\n",
       "      <th>48061</th>\n",
       "      <td>28223</td>\n",
       "      <td>48061</td>\n",
       "    </tr>\n",
       "    <tr>\n",
       "      <th>48062</th>\n",
       "      <td>28224</td>\n",
       "      <td>48062</td>\n",
       "    </tr>\n",
       "    <tr>\n",
       "      <th>48063</th>\n",
       "      <td>28225</td>\n",
       "      <td>48063</td>\n",
       "    </tr>\n",
       "    <tr>\n",
       "      <th>48064</th>\n",
       "      <td>28226</td>\n",
       "      <td>48064</td>\n",
       "    </tr>\n",
       "    <tr>\n",
       "      <th>48065</th>\n",
       "      <td>28227</td>\n",
       "      <td>48065</td>\n",
       "    </tr>\n",
       "    <tr>\n",
       "      <th>48066</th>\n",
       "      <td>28228</td>\n",
       "      <td>48066</td>\n",
       "    </tr>\n",
       "    <tr>\n",
       "      <th>48067</th>\n",
       "      <td>28229</td>\n",
       "      <td>48067</td>\n",
       "    </tr>\n",
       "    <tr>\n",
       "      <th>48068</th>\n",
       "      <td>28230</td>\n",
       "      <td>48068</td>\n",
       "    </tr>\n",
       "    <tr>\n",
       "      <th>48069</th>\n",
       "      <td>28231</td>\n",
       "      <td>48069</td>\n",
       "    </tr>\n",
       "    <tr>\n",
       "      <th>48070</th>\n",
       "      <td>28232</td>\n",
       "      <td>48070</td>\n",
       "    </tr>\n",
       "    <tr>\n",
       "      <th>48084</th>\n",
       "      <td>28233</td>\n",
       "      <td>48084</td>\n",
       "    </tr>\n",
       "    <tr>\n",
       "      <th>48085</th>\n",
       "      <td>28234</td>\n",
       "      <td>48085</td>\n",
       "    </tr>\n",
       "    <tr>\n",
       "      <th>48086</th>\n",
       "      <td>28235</td>\n",
       "      <td>48086</td>\n",
       "    </tr>\n",
       "    <tr>\n",
       "      <th>48087</th>\n",
       "      <td>28236</td>\n",
       "      <td>48087</td>\n",
       "    </tr>\n",
       "    <tr>\n",
       "      <th>48383</th>\n",
       "      <td>28237</td>\n",
       "      <td>48383</td>\n",
       "    </tr>\n",
       "    <tr>\n",
       "      <th>48384</th>\n",
       "      <td>28238</td>\n",
       "      <td>48384</td>\n",
       "    </tr>\n",
       "    <tr>\n",
       "      <th>48385</th>\n",
       "      <td>28239</td>\n",
       "      <td>48385</td>\n",
       "    </tr>\n",
       "    <tr>\n",
       "      <th>48386</th>\n",
       "      <td>28240</td>\n",
       "      <td>48386</td>\n",
       "    </tr>\n",
       "    <tr>\n",
       "      <th>49598</th>\n",
       "      <td>28241</td>\n",
       "      <td>49598</td>\n",
       "    </tr>\n",
       "    <tr>\n",
       "      <th>49599</th>\n",
       "      <td>28242</td>\n",
       "      <td>49599</td>\n",
       "    </tr>\n",
       "    <tr>\n",
       "      <th>49600</th>\n",
       "      <td>28243</td>\n",
       "      <td>49600</td>\n",
       "    </tr>\n",
       "    <tr>\n",
       "      <th>49601</th>\n",
       "      <td>28244</td>\n",
       "      <td>49601</td>\n",
       "    </tr>\n",
       "    <tr>\n",
       "      <th>49602</th>\n",
       "      <td>28245</td>\n",
       "      <td>49602</td>\n",
       "    </tr>\n",
       "    <tr>\n",
       "      <th>49603</th>\n",
       "      <td>28246</td>\n",
       "      <td>49603</td>\n",
       "    </tr>\n",
       "    <tr>\n",
       "      <th>49604</th>\n",
       "      <td>28247</td>\n",
       "      <td>49604</td>\n",
       "    </tr>\n",
       "    <tr>\n",
       "      <th>49605</th>\n",
       "      <td>28248</td>\n",
       "      <td>49605</td>\n",
       "    </tr>\n",
       "    <tr>\n",
       "      <th>49606</th>\n",
       "      <td>28249</td>\n",
       "      <td>49606</td>\n",
       "    </tr>\n",
       "    <tr>\n",
       "      <th>49607</th>\n",
       "      <td>28250</td>\n",
       "      <td>49607</td>\n",
       "    </tr>\n",
       "    <tr>\n",
       "      <th>49608</th>\n",
       "      <td>28251</td>\n",
       "      <td>49608</td>\n",
       "    </tr>\n",
       "    <tr>\n",
       "      <th>49609</th>\n",
       "      <td>28252</td>\n",
       "      <td>49609</td>\n",
       "    </tr>\n",
       "    <tr>\n",
       "      <th>49610</th>\n",
       "      <td>28253</td>\n",
       "      <td>49610</td>\n",
       "    </tr>\n",
       "    <tr>\n",
       "      <th>49611</th>\n",
       "      <td>28254</td>\n",
       "      <td>49611</td>\n",
       "    </tr>\n",
       "    <tr>\n",
       "      <th>49612</th>\n",
       "      <td>28255</td>\n",
       "      <td>49612</td>\n",
       "    </tr>\n",
       "    <tr>\n",
       "      <th>49613</th>\n",
       "      <td>28256</td>\n",
       "      <td>49613</td>\n",
       "    </tr>\n",
       "    <tr>\n",
       "      <th>49622</th>\n",
       "      <td>28257</td>\n",
       "      <td>49622</td>\n",
       "    </tr>\n",
       "    <tr>\n",
       "      <th>49623</th>\n",
       "      <td>28258</td>\n",
       "      <td>49623</td>\n",
       "    </tr>\n",
       "    <tr>\n",
       "      <th>49624</th>\n",
       "      <td>28259</td>\n",
       "      <td>49624</td>\n",
       "    </tr>\n",
       "    <tr>\n",
       "      <th>49625</th>\n",
       "      <td>28260</td>\n",
       "      <td>49625</td>\n",
       "    </tr>\n",
       "    <tr>\n",
       "      <th>49626</th>\n",
       "      <td>28261</td>\n",
       "      <td>49626</td>\n",
       "    </tr>\n",
       "    <tr>\n",
       "      <th>49627</th>\n",
       "      <td>28262</td>\n",
       "      <td>49627</td>\n",
       "    </tr>\n",
       "    <tr>\n",
       "      <th>49628</th>\n",
       "      <td>28263</td>\n",
       "      <td>49628</td>\n",
       "    </tr>\n",
       "    <tr>\n",
       "      <th>49629</th>\n",
       "      <td>28264</td>\n",
       "      <td>49629</td>\n",
       "    </tr>\n",
       "    <tr>\n",
       "      <th>49630</th>\n",
       "      <td>28265</td>\n",
       "      <td>49630</td>\n",
       "    </tr>\n",
       "    <tr>\n",
       "      <th>49631</th>\n",
       "      <td>28266</td>\n",
       "      <td>49631</td>\n",
       "    </tr>\n",
       "  </tbody>\n",
       "</table>\n",
       "</div>"
      ],
      "text/plain": [
       "             Asset  cbiz_index\n",
       "merge_index                   \n",
       "38285        28122       38285\n",
       "38286        28123       38286\n",
       "38287        28124       38287\n",
       "38288        28125       38288\n",
       "38289        28126       38289\n",
       "38290        28127       38290\n",
       "38291        28128       38291\n",
       "38292        28129       38292\n",
       "38293        28130       38293\n",
       "38294        28131       38294\n",
       "38295        28132       38295\n",
       "38296        28133       38296\n",
       "38297        28134       38297\n",
       "38298        28135       38298\n",
       "39052        28136       39052\n",
       "39053        28137       39053\n",
       "39054        28138       39054\n",
       "39085        28139       39085\n",
       "39086        28140       39086\n",
       "39087        28141       39087\n",
       "39088        28142       39088\n",
       "39089        28143       39089\n",
       "39090        28144       39090\n",
       "39091        28145       39091\n",
       "39092        28146       39092\n",
       "39094        28147       39094\n",
       "39857        28148       39857\n",
       "39858        28149       39858\n",
       "39859        28150       39859\n",
       "39860        28151       39860\n",
       "39861        28152       39861\n",
       "39862        28153       39862\n",
       "39863        28154       39863\n",
       "39864        28155       39864\n",
       "41268        28156       41268\n",
       "41333        28157       41333\n",
       "41334        28158       41334\n",
       "42127        28159       42127\n",
       "42128        28160       42128\n",
       "42134        28161       42134\n",
       "43080        28162       43080\n",
       "43081        28163       43081\n",
       "43162        28164       43162\n",
       "43163        28165       43163\n",
       "43164        28166       43164\n",
       "43165        28167       43165\n",
       "43166        28168       43166\n",
       "43167        28169       43167\n",
       "43168        28170       43168\n",
       "43826        28171       43826\n",
       "43856        28172       43856\n",
       "43857        28173       43857\n",
       "43858        28174       43858\n",
       "44629        28175       44629\n",
       "44630        28176       44630\n",
       "44631        28177       44631\n",
       "44632        28178       44632\n",
       "44658        28179       44658\n",
       "44659        28180       44659\n",
       "44660        28181       44660\n",
       "45371        28182       45371\n",
       "45373        28183       45373\n",
       "45374        28184       45374\n",
       "45443        28185       45443\n",
       "45444        28186       45444\n",
       "45445        28187       45445\n",
       "45446        28188       45446\n",
       "45447        28189       45447\n",
       "45448        28190       45448\n",
       "46053        28191       46053\n",
       "46054        28192       46054\n",
       "46742        28193       46742\n",
       "46743        28194       46743\n",
       "46744        28195       46744\n",
       "46745        28196       46745\n",
       "46746        28197       46746\n",
       "46747        28198       46747\n",
       "46748        28199       46748\n",
       "47396        28200       47396\n",
       "47397        28201       47397\n",
       "47398        28202       47398\n",
       "48041        28203       48041\n",
       "48042        28204       48042\n",
       "48043        28205       48043\n",
       "48044        28206       48044\n",
       "48045        28207       48045\n",
       "48046        28208       48046\n",
       "48047        28209       48047\n",
       "48048        28210       48048\n",
       "48049        28211       48049\n",
       "48050        28212       48050\n",
       "48051        28213       48051\n",
       "48052        28214       48052\n",
       "48053        28215       48053\n",
       "48054        28216       48054\n",
       "48055        28217       48055\n",
       "48056        28218       48056\n",
       "48057        28219       48057\n",
       "48058        28220       48058\n",
       "48059        28221       48059\n",
       "48060        28222       48060\n",
       "48061        28223       48061\n",
       "48062        28224       48062\n",
       "48063        28225       48063\n",
       "48064        28226       48064\n",
       "48065        28227       48065\n",
       "48066        28228       48066\n",
       "48067        28229       48067\n",
       "48068        28230       48068\n",
       "48069        28231       48069\n",
       "48070        28232       48070\n",
       "48084        28233       48084\n",
       "48085        28234       48085\n",
       "48086        28235       48086\n",
       "48087        28236       48087\n",
       "48383        28237       48383\n",
       "48384        28238       48384\n",
       "48385        28239       48385\n",
       "48386        28240       48386\n",
       "49598        28241       49598\n",
       "49599        28242       49599\n",
       "49600        28243       49600\n",
       "49601        28244       49601\n",
       "49602        28245       49602\n",
       "49603        28246       49603\n",
       "49604        28247       49604\n",
       "49605        28248       49605\n",
       "49606        28249       49606\n",
       "49607        28250       49607\n",
       "49608        28251       49608\n",
       "49609        28252       49609\n",
       "49610        28253       49610\n",
       "49611        28254       49611\n",
       "49612        28255       49612\n",
       "49613        28256       49613\n",
       "49622        28257       49622\n",
       "49623        28258       49623\n",
       "49624        28259       49624\n",
       "49625        28260       49625\n",
       "49626        28261       49626\n",
       "49627        28262       49627\n",
       "49628        28263       49628\n",
       "49629        28264       49629\n",
       "49630        28265       49630\n",
       "49631        28266       49631"
      ]
     },
     "execution_count": 516,
     "metadata": {},
     "output_type": "execute_result"
    }
   ],
   "source": [
    "fsm_asset_number_3090 = assets_group_3090[['Asset', 'cbiz_index']]\n",
    "fsm_asset_number"
   ]
  },
  {
   "cell_type": "code",
   "execution_count": 517,
   "metadata": {},
   "outputs": [],
   "source": [
    "df_depreciation_calc_3090 = df_depreciation_calc_3090.merge(fsm_asset_number_3090, how='left',\n",
    "                                            left_on='Asset ID', right_on=\"cbiz_index\")"
   ]
  },
  {
   "cell_type": "code",
   "execution_count": 518,
   "metadata": {},
   "outputs": [
    {
     "data": {
      "text/plain": [
       " Current YTD*    $284,904.25\n",
       "dep_exp_2020     $285,957.65\n",
       "dep_exp_2021     $286,506.21\n",
       "depr_ytd_oct     $238,755.17\n",
       "dtype: float64"
      ]
     },
     "execution_count": 518,
     "metadata": {},
     "output_type": "execute_result"
    }
   ],
   "source": [
    "df_depreciation_calc_3090[[' Current YTD* ', 'dep_exp_2020', 'dep_exp_2021', 'depr_ytd_oct' ]].sum()"
   ]
  },
  {
   "cell_type": "code",
   "execution_count": 519,
   "metadata": {},
   "outputs": [
    {
     "data": {
      "text/html": [
       "<div>\n",
       "<style scoped>\n",
       "    .dataframe tbody tr th:only-of-type {\n",
       "        vertical-align: middle;\n",
       "    }\n",
       "\n",
       "    .dataframe tbody tr th {\n",
       "        vertical-align: top;\n",
       "    }\n",
       "\n",
       "    .dataframe thead th {\n",
       "        text-align: right;\n",
       "    }\n",
       "</style>\n",
       "<table border=\"1\" class=\"dataframe\">\n",
       "  <thead>\n",
       "    <tr style=\"text-align: right;\">\n",
       "      <th></th>\n",
       "      <th>Asset ID</th>\n",
       "      <th>Description_x</th>\n",
       "      <th>cbiz_index</th>\n",
       "      <th>Asset</th>\n",
       "      <th>Acquisition Date</th>\n",
       "      <th>Acquired Value*</th>\n",
       "      <th>Basis</th>\n",
       "      <th>Current YTD*</th>\n",
       "      <th>Current Accum*</th>\n",
       "      <th>LifeToDateDepreciation</th>\n",
       "      <th>NBV*</th>\n",
       "      <th>life_years</th>\n",
       "      <th>full_dep_yr_2</th>\n",
       "      <th>LifeRemaining</th>\n",
       "      <th>dep_exp_2020</th>\n",
       "      <th>dep_exp_2021</th>\n",
       "      <th>depr_ytd_oct</th>\n",
       "      <th>CurrentPeriodDepreciation</th>\n",
       "    </tr>\n",
       "  </thead>\n",
       "  <tbody>\n",
       "    <tr>\n",
       "      <th>263</th>\n",
       "      <td>806</td>\n",
       "      <td>99-101 DUBOIS-RENOVATIONS</td>\n",
       "      <td>806</td>\n",
       "      <td>29091</td>\n",
       "      <td>2020-05-31</td>\n",
       "      <td>$6,560.00</td>\n",
       "      <td>$35,843.00</td>\n",
       "      <td>$164.00</td>\n",
       "      <td>$164.00</td>\n",
       "      <td>$19,414.84</td>\n",
       "      <td>$6,396.00</td>\n",
       "      <td>20</td>\n",
       "      <td>2040-05-31</td>\n",
       "      <td>$66.00</td>\n",
       "      <td>$164.00</td>\n",
       "      <td>$328.00</td>\n",
       "      <td>$273.33</td>\n",
       "      <td>$109.33</td>\n",
       "    </tr>\n",
       "    <tr>\n",
       "      <th>264</th>\n",
       "      <td>807</td>\n",
       "      <td>201-THIRD STREET- IMPROVEMENTS</td>\n",
       "      <td>807</td>\n",
       "      <td>29092</td>\n",
       "      <td>2020-09-30</td>\n",
       "      <td>$7,000.00</td>\n",
       "      <td>$28,183.00</td>\n",
       "      <td>$175.00</td>\n",
       "      <td>$175.00</td>\n",
       "      <td>$18,317.60</td>\n",
       "      <td>$6,825.00</td>\n",
       "      <td>20</td>\n",
       "      <td>2040-09-30</td>\n",
       "      <td>$42.00</td>\n",
       "      <td>$175.00</td>\n",
       "      <td>$350.00</td>\n",
       "      <td>$291.67</td>\n",
       "      <td>$116.67</td>\n",
       "    </tr>\n",
       "    <tr>\n",
       "      <th>265</th>\n",
       "      <td>808</td>\n",
       "      <td>586 APT REHAB APT 3C</td>\n",
       "      <td>808</td>\n",
       "      <td>29093</td>\n",
       "      <td>2020-10-31</td>\n",
       "      <td>$6,525.00</td>\n",
       "      <td>$25,490.00</td>\n",
       "      <td>$163.13</td>\n",
       "      <td>$163.13</td>\n",
       "      <td>$4,141.50</td>\n",
       "      <td>$6,361.87</td>\n",
       "      <td>20</td>\n",
       "      <td>2040-10-31</td>\n",
       "      <td>$402.00</td>\n",
       "      <td>$163.12</td>\n",
       "      <td>$326.25</td>\n",
       "      <td>$271.88</td>\n",
       "      <td>$108.75</td>\n",
       "    </tr>\n",
       "    <tr>\n",
       "      <th>266</th>\n",
       "      <td>809</td>\n",
       "      <td>586 -BLDG IMPR  - ELEVATOR</td>\n",
       "      <td>809</td>\n",
       "      <td>29094</td>\n",
       "      <td>2020-11-30</td>\n",
       "      <td>$90,900.00</td>\n",
       "      <td>$86,900.00</td>\n",
       "      <td>$2,272.50</td>\n",
       "      <td>$2,272.50</td>\n",
       "      <td>$56,485.00</td>\n",
       "      <td>$88,627.50</td>\n",
       "      <td>20</td>\n",
       "      <td>2040-11-30</td>\n",
       "      <td>$42.00</td>\n",
       "      <td>$2,272.50</td>\n",
       "      <td>$4,545.00</td>\n",
       "      <td>$3,787.50</td>\n",
       "      <td>$1,515.00</td>\n",
       "    </tr>\n",
       "    <tr>\n",
       "      <th>267</th>\n",
       "      <td>810</td>\n",
       "      <td>586 -BLDG IMPR  - ELEVATOR</td>\n",
       "      <td>810</td>\n",
       "      <td>29095</td>\n",
       "      <td>2020-12-31</td>\n",
       "      <td>$40,400.00</td>\n",
       "      <td>$98,536.00</td>\n",
       "      <td>$1,010.00</td>\n",
       "      <td>$1,010.00</td>\n",
       "      <td>$42,699.14</td>\n",
       "      <td>$39,390.00</td>\n",
       "      <td>20</td>\n",
       "      <td>2040-12-31</td>\n",
       "      <td>$102.00</td>\n",
       "      <td>$1,010.00</td>\n",
       "      <td>$2,020.00</td>\n",
       "      <td>$1,683.33</td>\n",
       "      <td>$673.33</td>\n",
       "    </tr>\n",
       "  </tbody>\n",
       "</table>\n",
       "</div>"
      ],
      "text/plain": [
       "     Asset ID                   Description_x  cbiz_index  Asset Acquisition Date   Acquired Value*       Basis   Current YTD*    Current Accum*   LifeToDateDepreciation      NBV*   life_years full_dep_yr_2  LifeRemaining  dep_exp_2020  dep_exp_2021  depr_ytd_oct  CurrentPeriodDepreciation\n",
       "263       806       99-101 DUBOIS-RENOVATIONS         806  29091       2020-05-31          $6,560.00 $35,843.00         $164.00           $164.00              $19,414.84  $6,396.00          20    2040-05-31         $66.00       $164.00       $328.00       $273.33                    $109.33\n",
       "264       807  201-THIRD STREET- IMPROVEMENTS         807  29092       2020-09-30          $7,000.00 $28,183.00         $175.00           $175.00              $18,317.60  $6,825.00          20    2040-09-30         $42.00       $175.00       $350.00       $291.67                    $116.67\n",
       "265       808            586 APT REHAB APT 3C         808  29093       2020-10-31          $6,525.00 $25,490.00         $163.13           $163.13               $4,141.50  $6,361.87          20    2040-10-31        $402.00       $163.12       $326.25       $271.88                    $108.75\n",
       "266       809      586 -BLDG IMPR  - ELEVATOR         809  29094       2020-11-30         $90,900.00 $86,900.00       $2,272.50         $2,272.50              $56,485.00 $88,627.50          20    2040-11-30         $42.00     $2,272.50     $4,545.00     $3,787.50                  $1,515.00\n",
       "267       810      586 -BLDG IMPR  - ELEVATOR         810  29095       2020-12-31         $40,400.00 $98,536.00       $1,010.00         $1,010.00              $42,699.14 $39,390.00          20    2040-12-31        $102.00     $1,010.00     $2,020.00     $1,683.33                    $673.33"
      ]
     },
     "execution_count": 519,
     "metadata": {},
     "output_type": "execute_result"
    }
   ],
   "source": [
    "df_depreciation_calc_3090 = df_depreciation_calc_3090[['Asset ID','Description_x', 'cbiz_index', 'Asset', 'Acquisition Date',\n",
    "       ' Acquired Value* ',  'Basis', ' Current YTD* ', ' Current Accum* ', 'LifeToDateDepreciation',\n",
    "       ' NBV* ', 'life_years','full_dep_yr_2', 'LifeRemaining', 'dep_exp_2020', 'dep_exp_2021', 'depr_ytd_oct',  ]]\n",
    "\n",
    "df_depreciation_calc_3090 = df_depreciation_calc_3090.merge(fsm_depreciation, how='left',\n",
    "                                                           left_on='Asset', right_on='Asset')\n",
    "\n",
    "df_depreciation_calc_3090 = df_depreciation_calc_3090[['Asset ID','Description_x', 'cbiz_index', 'Asset', 'Acquisition Date',\n",
    "       ' Acquired Value* ',  'Basis', ' Current YTD* ', ' Current Accum* ', 'LifeToDateDepreciation',\n",
    "       ' NBV* ', 'life_years','full_dep_yr_2', 'LifeRemaining', 'dep_exp_2020', 'dep_exp_2021', 'depr_ytd_oct','CurrentPeriodDepreciation',  ]]\n",
    "\n",
    "df_depreciation_calc_3090.tail()"
   ]
  },
  {
   "cell_type": "code",
   "execution_count": 520,
   "metadata": {},
   "outputs": [],
   "source": [
    "df_depreciation_calc_3090.to_csv(\n",
    "    r'C:\\Users\\mikra\\OneDrive\\Documents\\Work\\conversion\\SIT3\\november_AX2\\fixed_assets\\mmc\\output\\output_3090\\sit3_depreciation_3090.csv'\n",
    ")"
   ]
  },
  {
   "cell_type": "markdown",
   "metadata": {},
   "source": [
    "### Calculate company 2010 depreciation expense for fiscal 2021 and compare to CBIZ projections"
   ]
  },
  {
   "cell_type": "code",
   "execution_count": 521,
   "metadata": {},
   "outputs": [
    {
     "name": "stderr",
     "output_type": "stream",
     "text": [
      "<ipython-input-521-7c069e07c2ba>:8: SettingWithCopyWarning: \n",
      "A value is trying to be set on a copy of a slice from a DataFrame.\n",
      "Try using .loc[row_indexer,col_indexer] = value instead\n",
      "\n",
      "See the caveats in the documentation: https://pandas.pydata.org/pandas-docs/stable/user_guide/indexing.html#returning-a-view-versus-a-copy\n",
      "  df_depreciation_calc_2010['full_dep_yr'] =  df_depreciation_calc_2010['life_years']\\\n",
      "C:\\Users\\mikra\\anaconda3\\lib\\site-packages\\pandas\\core\\arrays\\datetimelike.py:1108: PerformanceWarning: Adding/subtracting object-dtype array to DatetimeArray not vectorized\n",
      "  warnings.warn(\n",
      "<ipython-input-521-7c069e07c2ba>:11: SettingWithCopyWarning: \n",
      "A value is trying to be set on a copy of a slice from a DataFrame.\n",
      "Try using .loc[row_indexer,col_indexer] = value instead\n",
      "\n",
      "See the caveats in the documentation: https://pandas.pydata.org/pandas-docs/stable/user_guide/indexing.html#returning-a-view-versus-a-copy\n",
      "  df_depreciation_calc_2010['full_dep_yr_2'] = df_depreciation_calc_2010['Acquisition Date'] +\\\n"
     ]
    }
   ],
   "source": [
    "df_depreciation_calc_2010 = cbiz_asset_and_book_2010_merge[[\n",
    "    'AssetImport_x',  'Asset ID',  'Description_x', 'Acquisition Date',\n",
    "    ' Acquired Value* ', 'Est Life*', ' Current YTD* ',\n",
    "    ' Current Accum* ', ' NBV* ', 'life_years','LifeRemaining', 'Basis',\n",
    "    'YearPlacedInService', 'Convention','LifeToDateDepreciation'\n",
    "]]\n",
    "\n",
    "df_depreciation_calc_2010['full_dep_yr'] =  df_depreciation_calc_2010['life_years']\\\n",
    ".apply(lambda x: dateutil.relativedelta.relativedelta(years=x))\n",
    "\n",
    "df_depreciation_calc_2010['full_dep_yr_2'] = df_depreciation_calc_2010['Acquisition Date'] +\\\n",
    "df_depreciation_calc_2010['full_dep_yr']\n",
    "\n",
    "# add a column for 2020 depreciation\n",
    "df_depreciation_calc_2010 = df_depreciation_calc_2010.apply(dep_calc_2020, axis=1)\n",
    "\n",
    "# calculate 2021 depreciation and add column to df\n",
    "df_depreciation_calc_2010 = df_depreciation_calc_2010.apply(dep_calc_2021, axis=1)\n",
    "\n",
    "df_depreciation_calc_2010['depr_ytd_oct'] = df_depreciation_calc_2010['dep_exp_2021'] * (10/12)"
   ]
  },
  {
   "cell_type": "code",
   "execution_count": 522,
   "metadata": {},
   "outputs": [
    {
     "data": {
      "text/plain": [
       " Current YTD*    $4,148,336.00\n",
       "dep_exp_2020     $4,148,330.68\n",
       "dep_exp_2021     $4,354,315.36\n",
       "depr_ytd_oct     $3,628,596.13\n",
       "dtype: float64"
      ]
     },
     "execution_count": 522,
     "metadata": {},
     "output_type": "execute_result"
    }
   ],
   "source": [
    "df_depreciation_calc_2010[[' Current YTD* ', 'dep_exp_2020', 'dep_exp_2021', 'depr_ytd_oct' ]].sum()"
   ]
  },
  {
   "cell_type": "code",
   "execution_count": 523,
   "metadata": {},
   "outputs": [],
   "source": [
    "df_depreciation_calc_2010['Asset ID'] = df_depreciation_calc_2010['Asset ID'].astype('int')\n",
    "\n",
    "fsm_asset_number_2010 = assets_group_2010[['Asset', 'cbiz_index']]\n",
    "# fsm_asset_number\n",
    "\n",
    "df_depreciation_calc_2010 = df_depreciation_calc_2010.merge(fsm_asset_number_2010, how='left',\n",
    "                                            left_on='Asset ID', right_on=\"cbiz_index\")"
   ]
  },
  {
   "cell_type": "code",
   "execution_count": 524,
   "metadata": {},
   "outputs": [
    {
     "data": {
      "text/html": [
       "<div>\n",
       "<style scoped>\n",
       "    .dataframe tbody tr th:only-of-type {\n",
       "        vertical-align: middle;\n",
       "    }\n",
       "\n",
       "    .dataframe tbody tr th {\n",
       "        vertical-align: top;\n",
       "    }\n",
       "\n",
       "    .dataframe thead th {\n",
       "        text-align: right;\n",
       "    }\n",
       "</style>\n",
       "<table border=\"1\" class=\"dataframe\">\n",
       "  <thead>\n",
       "    <tr style=\"text-align: right;\">\n",
       "      <th></th>\n",
       "      <th>Asset ID</th>\n",
       "      <th>Description_x</th>\n",
       "      <th>cbiz_index</th>\n",
       "      <th>Asset</th>\n",
       "      <th>Acquisition Date</th>\n",
       "      <th>Acquired Value*</th>\n",
       "      <th>Basis</th>\n",
       "      <th>Current YTD*</th>\n",
       "      <th>Current Accum*</th>\n",
       "      <th>LifeToDateDepreciation</th>\n",
       "      <th>NBV*</th>\n",
       "      <th>life_years</th>\n",
       "      <th>full_dep_yr_2</th>\n",
       "      <th>LifeRemaining</th>\n",
       "      <th>dep_exp_2020</th>\n",
       "      <th>dep_exp_2021</th>\n",
       "      <th>depr_ytd_oct</th>\n",
       "      <th>CurrentPeriodDepreciation</th>\n",
       "    </tr>\n",
       "  </thead>\n",
       "  <tbody>\n",
       "    <tr>\n",
       "      <th>773</th>\n",
       "      <td>1399</td>\n",
       "      <td>5000005730  REPLACE EXISTING CHILLER - NEW ROC...</td>\n",
       "      <td>1399</td>\n",
       "      <td>29325</td>\n",
       "      <td>2020-07-01</td>\n",
       "      <td>$50,730.00</td>\n",
       "      <td>$50,730.18</td>\n",
       "      <td>$1,691.00</td>\n",
       "      <td>$1,691.00</td>\n",
       "      <td>$1,691.01</td>\n",
       "      <td>$49,039.00</td>\n",
       "      <td>15</td>\n",
       "      <td>2035-07-01</td>\n",
       "      <td>$174.00</td>\n",
       "      <td>$1,691.00</td>\n",
       "      <td>$3,382.00</td>\n",
       "      <td>$2,818.33</td>\n",
       "      <td>$1,127.34</td>\n",
       "    </tr>\n",
       "    <tr>\n",
       "      <th>774</th>\n",
       "      <td>1400</td>\n",
       "      <td>5000005731  FLOOD REMEDIATION AND RETAINING WALLS</td>\n",
       "      <td>1400</td>\n",
       "      <td>29328</td>\n",
       "      <td>2020-07-01</td>\n",
       "      <td>$339,839.00</td>\n",
       "      <td>$339,838.80</td>\n",
       "      <td>$11,328.00</td>\n",
       "      <td>$11,328.00</td>\n",
       "      <td>$11,327.96</td>\n",
       "      <td>$328,511.00</td>\n",
       "      <td>15</td>\n",
       "      <td>2035-07-01</td>\n",
       "      <td>$174.00</td>\n",
       "      <td>$11,327.97</td>\n",
       "      <td>$22,655.93</td>\n",
       "      <td>$18,879.94</td>\n",
       "      <td>$7,551.97</td>\n",
       "    </tr>\n",
       "    <tr>\n",
       "      <th>775</th>\n",
       "      <td>1401</td>\n",
       "      <td>5000006866  GLIDESCOPES - LARYNOSCOPES</td>\n",
       "      <td>1401</td>\n",
       "      <td>29329</td>\n",
       "      <td>2020-07-01</td>\n",
       "      <td>$29,864.00</td>\n",
       "      <td>$29,864.18</td>\n",
       "      <td>$2,986.00</td>\n",
       "      <td>$2,986.00</td>\n",
       "      <td>$2,986.42</td>\n",
       "      <td>$26,878.00</td>\n",
       "      <td>5</td>\n",
       "      <td>2025-07-01</td>\n",
       "      <td>$54.00</td>\n",
       "      <td>$2,986.40</td>\n",
       "      <td>$5,972.80</td>\n",
       "      <td>$4,977.33</td>\n",
       "      <td>$1,990.95</td>\n",
       "    </tr>\n",
       "    <tr>\n",
       "      <th>776</th>\n",
       "      <td>1402</td>\n",
       "      <td>5000007108  GESS COVID UPGRADES</td>\n",
       "      <td>1402</td>\n",
       "      <td>29330</td>\n",
       "      <td>2020-07-01</td>\n",
       "      <td>$62,000.00</td>\n",
       "      <td>$62,000.00</td>\n",
       "      <td>$2,067.00</td>\n",
       "      <td>$2,067.00</td>\n",
       "      <td>$2,066.67</td>\n",
       "      <td>$59,933.00</td>\n",
       "      <td>15</td>\n",
       "      <td>2035-07-01</td>\n",
       "      <td>$174.00</td>\n",
       "      <td>$2,066.67</td>\n",
       "      <td>$4,133.33</td>\n",
       "      <td>$3,444.44</td>\n",
       "      <td>$1,377.78</td>\n",
       "    </tr>\n",
       "    <tr>\n",
       "      <th>777</th>\n",
       "      <td>1403</td>\n",
       "      <td>50014100  FIRE ALARM &amp; SUPPRESSION UPGRADE NEW...</td>\n",
       "      <td>1403</td>\n",
       "      <td>29331</td>\n",
       "      <td>2020-07-01</td>\n",
       "      <td>$49,919.00</td>\n",
       "      <td>$49,919.00</td>\n",
       "      <td>$1,664.00</td>\n",
       "      <td>$1,664.00</td>\n",
       "      <td>$1,663.97</td>\n",
       "      <td>$48,255.00</td>\n",
       "      <td>15</td>\n",
       "      <td>2035-07-01</td>\n",
       "      <td>$174.00</td>\n",
       "      <td>$1,663.97</td>\n",
       "      <td>$3,327.93</td>\n",
       "      <td>$2,773.28</td>\n",
       "      <td>$1,109.31</td>\n",
       "    </tr>\n",
       "  </tbody>\n",
       "</table>\n",
       "</div>"
      ],
      "text/plain": [
       "     Asset ID                                      Description_x  cbiz_index  Asset Acquisition Date   Acquired Value*        Basis   Current YTD*    Current Accum*   LifeToDateDepreciation       NBV*   life_years full_dep_yr_2  LifeRemaining  dep_exp_2020  dep_exp_2021  depr_ytd_oct  CurrentPeriodDepreciation\n",
       "773      1399  5000005730  REPLACE EXISTING CHILLER - NEW ROC...        1399  29325       2020-07-01         $50,730.00  $50,730.18       $1,691.00         $1,691.00               $1,691.01  $49,039.00          15    2035-07-01        $174.00     $1,691.00     $3,382.00     $2,818.33                  $1,127.34\n",
       "774      1400  5000005731  FLOOD REMEDIATION AND RETAINING WALLS        1400  29328       2020-07-01        $339,839.00 $339,838.80      $11,328.00        $11,328.00              $11,327.96 $328,511.00          15    2035-07-01        $174.00    $11,327.97    $22,655.93    $18,879.94                  $7,551.97\n",
       "775      1401             5000006866  GLIDESCOPES - LARYNOSCOPES        1401  29329       2020-07-01         $29,864.00  $29,864.18       $2,986.00         $2,986.00               $2,986.42  $26,878.00           5    2025-07-01         $54.00     $2,986.40     $5,972.80     $4,977.33                  $1,990.95\n",
       "776      1402                    5000007108  GESS COVID UPGRADES        1402  29330       2020-07-01         $62,000.00  $62,000.00       $2,067.00         $2,067.00               $2,066.67  $59,933.00          15    2035-07-01        $174.00     $2,066.67     $4,133.33     $3,444.44                  $1,377.78\n",
       "777      1403  50014100  FIRE ALARM & SUPPRESSION UPGRADE NEW...        1403  29331       2020-07-01         $49,919.00  $49,919.00       $1,664.00         $1,664.00               $1,663.97  $48,255.00          15    2035-07-01        $174.00     $1,663.97     $3,327.93     $2,773.28                  $1,109.31"
      ]
     },
     "execution_count": 524,
     "metadata": {},
     "output_type": "execute_result"
    }
   ],
   "source": [
    "df_depreciation_calc_2010 = df_depreciation_calc_2010[['Asset ID','Description_x', 'cbiz_index', 'Asset', 'Acquisition Date',\n",
    "       ' Acquired Value* ',  'Basis', ' Current YTD* ', ' Current Accum* ', 'LifeToDateDepreciation',\n",
    "       ' NBV* ', 'life_years','full_dep_yr_2', 'LifeRemaining', 'dep_exp_2020', 'dep_exp_2021', 'depr_ytd_oct',  ]]\n",
    "\n",
    "df_depreciation_calc_2010 = df_depreciation_calc_2010.merge(fsm_depreciation, how='left',\n",
    "                                                           left_on='Asset', right_on='Asset')\n",
    "\n",
    "df_depreciation_calc_2010 = df_depreciation_calc_2010[['Asset ID','Description_x', 'cbiz_index', 'Asset', 'Acquisition Date',\n",
    "       ' Acquired Value* ',  'Basis', ' Current YTD* ', ' Current Accum* ', 'LifeToDateDepreciation',\n",
    "       ' NBV* ', 'life_years','full_dep_yr_2', 'LifeRemaining', 'dep_exp_2020', 'dep_exp_2021', 'depr_ytd_oct','CurrentPeriodDepreciation',  ]]\n",
    "\n",
    "df_depreciation_calc_2010.tail()"
   ]
  },
  {
   "cell_type": "code",
   "execution_count": 525,
   "metadata": {},
   "outputs": [],
   "source": [
    "df_depreciation_calc_2010.to_csv(\n",
    "    r'C:\\Users\\mikra\\OneDrive\\Documents\\Work\\conversion\\SIT3\\november_AX2\\fixed_assets\\mmc\\output\\output_2010\\sit3_depreciation_2010.csv'\n",
    ")"
   ]
  },
  {
   "cell_type": "markdown",
   "metadata": {},
   "source": [
    "### Calculate company 2020 depreciation expense for fiscal 2021 and compare to CBIZ projections"
   ]
  },
  {
   "cell_type": "code",
   "execution_count": 526,
   "metadata": {},
   "outputs": [
    {
     "name": "stderr",
     "output_type": "stream",
     "text": [
      "<ipython-input-526-9e93018a6a6c>:8: SettingWithCopyWarning: \n",
      "A value is trying to be set on a copy of a slice from a DataFrame.\n",
      "Try using .loc[row_indexer,col_indexer] = value instead\n",
      "\n",
      "See the caveats in the documentation: https://pandas.pydata.org/pandas-docs/stable/user_guide/indexing.html#returning-a-view-versus-a-copy\n",
      "  df_depreciation_calc_2020['full_dep_yr'] =  df_depreciation_calc_2020['life_years']\\\n",
      "C:\\Users\\mikra\\anaconda3\\lib\\site-packages\\pandas\\core\\arrays\\datetimelike.py:1108: PerformanceWarning: Adding/subtracting object-dtype array to DatetimeArray not vectorized\n",
      "  warnings.warn(\n",
      "<ipython-input-526-9e93018a6a6c>:11: SettingWithCopyWarning: \n",
      "A value is trying to be set on a copy of a slice from a DataFrame.\n",
      "Try using .loc[row_indexer,col_indexer] = value instead\n",
      "\n",
      "See the caveats in the documentation: https://pandas.pydata.org/pandas-docs/stable/user_guide/indexing.html#returning-a-view-versus-a-copy\n",
      "  df_depreciation_calc_2020['full_dep_yr_2'] = df_depreciation_calc_2020['Acquisition Date'] +\\\n"
     ]
    }
   ],
   "source": [
    "df_depreciation_calc_2020 = cbiz_asset_and_book_2020_merge[[\n",
    "    'AssetImport_x',  'Asset ID',  'Description_x', 'Acquisition Date',\n",
    "    ' Acquired Value* ', 'Est Life*', ' Current YTD* ',\n",
    "    ' Current Accum* ', ' NBV* ', 'life_years','LifeRemaining', 'Basis',\n",
    "    'YearPlacedInService', 'Convention','LifeToDateDepreciation'\n",
    "]]\n",
    "\n",
    "df_depreciation_calc_2020['full_dep_yr'] =  df_depreciation_calc_2020['life_years']\\\n",
    ".apply(lambda x: dateutil.relativedelta.relativedelta(years=x))\n",
    "\n",
    "df_depreciation_calc_2020['full_dep_yr_2'] = df_depreciation_calc_2020['Acquisition Date'] +\\\n",
    "df_depreciation_calc_2020['full_dep_yr']\n",
    "\n",
    "# add a column for 2020 depreciation\n",
    "df_depreciation_calc_2020 = df_depreciation_calc_2020.apply(dep_calc_2020, axis=1)\n",
    "\n",
    "# calculate 2021 depreciation and add column to df\n",
    "df_depreciation_calc_2020 = df_depreciation_calc_2020.apply(dep_calc_2021, axis=1)\n",
    "\n",
    "df_depreciation_calc_2020['depr_ytd_oct'] = df_depreciation_calc_2020['dep_exp_2021'] * (10/12)"
   ]
  },
  {
   "cell_type": "code",
   "execution_count": 527,
   "metadata": {},
   "outputs": [
    {
     "data": {
      "text/plain": [
       " Current YTD*    $1,248,963.00\n",
       "dep_exp_2020     $1,248,954.31\n",
       "dep_exp_2021     $1,159,363.27\n",
       "depr_ytd_oct       $966,136.06\n",
       "dtype: float64"
      ]
     },
     "execution_count": 527,
     "metadata": {},
     "output_type": "execute_result"
    }
   ],
   "source": [
    "df_depreciation_calc_2020[[' Current YTD* ', 'dep_exp_2020', 'dep_exp_2021', 'depr_ytd_oct' ]].sum()"
   ]
  },
  {
   "cell_type": "code",
   "execution_count": 528,
   "metadata": {},
   "outputs": [],
   "source": [
    "df_depreciation_calc_2020['Asset ID'] = df_depreciation_calc_2020['Asset ID'].astype('int')\n",
    "\n",
    "fsm_asset_number_2020 = assets_group_2020[['Asset', 'cbiz_index']]\n",
    "# fsm_asset_number\n",
    "\n",
    "df_depreciation_calc_2020 = df_depreciation_calc_2020.merge(fsm_asset_number_2020, how='left',\n",
    "                                            left_on='Asset ID', right_on=\"cbiz_index\")"
   ]
  },
  {
   "cell_type": "code",
   "execution_count": 529,
   "metadata": {},
   "outputs": [
    {
     "data": {
      "text/html": [
       "<div>\n",
       "<style scoped>\n",
       "    .dataframe tbody tr th:only-of-type {\n",
       "        vertical-align: middle;\n",
       "    }\n",
       "\n",
       "    .dataframe tbody tr th {\n",
       "        vertical-align: top;\n",
       "    }\n",
       "\n",
       "    .dataframe thead th {\n",
       "        text-align: right;\n",
       "    }\n",
       "</style>\n",
       "<table border=\"1\" class=\"dataframe\">\n",
       "  <thead>\n",
       "    <tr style=\"text-align: right;\">\n",
       "      <th></th>\n",
       "      <th>Asset ID</th>\n",
       "      <th>Description_x</th>\n",
       "      <th>cbiz_index</th>\n",
       "      <th>Asset</th>\n",
       "      <th>Acquisition Date</th>\n",
       "      <th>Acquired Value*</th>\n",
       "      <th>Basis</th>\n",
       "      <th>Current YTD*</th>\n",
       "      <th>Current Accum*</th>\n",
       "      <th>LifeToDateDepreciation</th>\n",
       "      <th>NBV*</th>\n",
       "      <th>life_years</th>\n",
       "      <th>full_dep_yr_2</th>\n",
       "      <th>LifeRemaining</th>\n",
       "      <th>dep_exp_2020</th>\n",
       "      <th>dep_exp_2021</th>\n",
       "      <th>depr_ytd_oct</th>\n",
       "      <th>CurrentPeriodDepreciation</th>\n",
       "    </tr>\n",
       "  </thead>\n",
       "  <tbody>\n",
       "    <tr>\n",
       "      <th>423</th>\n",
       "      <td>1390</td>\n",
       "      <td>LIGHT SURGICAL - 10-UPON DELIVERY 50%</td>\n",
       "      <td>1390</td>\n",
       "      <td>29982</td>\n",
       "      <td>2020-07-01</td>\n",
       "      <td>$6,198.00</td>\n",
       "      <td>$6,197.95</td>\n",
       "      <td>$310.00</td>\n",
       "      <td>$310.00</td>\n",
       "      <td>$309.90</td>\n",
       "      <td>$5,888.00</td>\n",
       "      <td>10</td>\n",
       "      <td>2030-07-01</td>\n",
       "      <td>$114.00</td>\n",
       "      <td>$309.90</td>\n",
       "      <td>$619.80</td>\n",
       "      <td>$516.50</td>\n",
       "      <td>$206.60</td>\n",
       "    </tr>\n",
       "    <tr>\n",
       "      <th>424</th>\n",
       "      <td>1404</td>\n",
       "      <td>5000003440  MMV FHWC CLINIC EXPANSION</td>\n",
       "      <td>1404</td>\n",
       "      <td>29983</td>\n",
       "      <td>2020-07-01</td>\n",
       "      <td>$17,623.00</td>\n",
       "      <td>$17,622.74</td>\n",
       "      <td>$1,762.00</td>\n",
       "      <td>$1,762.00</td>\n",
       "      <td>$1,762.27</td>\n",
       "      <td>$15,860.00</td>\n",
       "      <td>5</td>\n",
       "      <td>2025-07-01</td>\n",
       "      <td>$54.00</td>\n",
       "      <td>$1,762.30</td>\n",
       "      <td>$3,524.60</td>\n",
       "      <td>$2,937.17</td>\n",
       "      <td>$1,174.85</td>\n",
       "    </tr>\n",
       "    <tr>\n",
       "      <th>425</th>\n",
       "      <td>1405</td>\n",
       "      <td>5000003440  MMV FHWC CLINIC EXPANSION</td>\n",
       "      <td>1405</td>\n",
       "      <td>29984</td>\n",
       "      <td>2020-07-01</td>\n",
       "      <td>$13,340.00</td>\n",
       "      <td>$13,339.91</td>\n",
       "      <td>$1,334.00</td>\n",
       "      <td>$1,334.00</td>\n",
       "      <td>$1,333.99</td>\n",
       "      <td>$12,006.00</td>\n",
       "      <td>5</td>\n",
       "      <td>2025-07-01</td>\n",
       "      <td>$54.00</td>\n",
       "      <td>$1,334.00</td>\n",
       "      <td>$2,668.00</td>\n",
       "      <td>$2,223.33</td>\n",
       "      <td>$889.33</td>\n",
       "    </tr>\n",
       "    <tr>\n",
       "      <th>426</th>\n",
       "      <td>1406</td>\n",
       "      <td>5000004465  OR STERILIZATION UPGRADE</td>\n",
       "      <td>1406</td>\n",
       "      <td>29985</td>\n",
       "      <td>2020-07-01</td>\n",
       "      <td>$9,200.00</td>\n",
       "      <td>$9,200.00</td>\n",
       "      <td>$307.00</td>\n",
       "      <td>$307.00</td>\n",
       "      <td>$306.67</td>\n",
       "      <td>$8,893.00</td>\n",
       "      <td>15</td>\n",
       "      <td>2035-07-01</td>\n",
       "      <td>$174.00</td>\n",
       "      <td>$306.67</td>\n",
       "      <td>$613.33</td>\n",
       "      <td>$511.11</td>\n",
       "      <td>$204.44</td>\n",
       "    </tr>\n",
       "    <tr>\n",
       "      <th>427</th>\n",
       "      <td>1407</td>\n",
       "      <td>5000005137  WOW IN RADIOLOGY</td>\n",
       "      <td>1407</td>\n",
       "      <td>29986</td>\n",
       "      <td>2020-07-01</td>\n",
       "      <td>$6,571.00</td>\n",
       "      <td>$6,571.41</td>\n",
       "      <td>$657.00</td>\n",
       "      <td>$657.00</td>\n",
       "      <td>$657.14</td>\n",
       "      <td>$5,914.00</td>\n",
       "      <td>5</td>\n",
       "      <td>2025-07-01</td>\n",
       "      <td>$54.00</td>\n",
       "      <td>$657.10</td>\n",
       "      <td>$1,314.20</td>\n",
       "      <td>$1,095.17</td>\n",
       "      <td>$438.09</td>\n",
       "    </tr>\n",
       "  </tbody>\n",
       "</table>\n",
       "</div>"
      ],
      "text/plain": [
       "     Asset ID                          Description_x  cbiz_index  Asset Acquisition Date   Acquired Value*       Basis   Current YTD*    Current Accum*   LifeToDateDepreciation      NBV*   life_years full_dep_yr_2  LifeRemaining  dep_exp_2020  dep_exp_2021  depr_ytd_oct  CurrentPeriodDepreciation\n",
       "423      1390  LIGHT SURGICAL - 10-UPON DELIVERY 50%        1390  29982       2020-07-01          $6,198.00  $6,197.95         $310.00           $310.00                 $309.90  $5,888.00          10    2030-07-01        $114.00       $309.90       $619.80       $516.50                    $206.60\n",
       "424      1404  5000003440  MMV FHWC CLINIC EXPANSION        1404  29983       2020-07-01         $17,623.00 $17,622.74       $1,762.00         $1,762.00               $1,762.27 $15,860.00           5    2025-07-01         $54.00     $1,762.30     $3,524.60     $2,937.17                  $1,174.85\n",
       "425      1405  5000003440  MMV FHWC CLINIC EXPANSION        1405  29984       2020-07-01         $13,340.00 $13,339.91       $1,334.00         $1,334.00               $1,333.99 $12,006.00           5    2025-07-01         $54.00     $1,334.00     $2,668.00     $2,223.33                    $889.33\n",
       "426      1406   5000004465  OR STERILIZATION UPGRADE        1406  29985       2020-07-01          $9,200.00  $9,200.00         $307.00           $307.00                 $306.67  $8,893.00          15    2035-07-01        $174.00       $306.67       $613.33       $511.11                    $204.44\n",
       "427      1407           5000005137  WOW IN RADIOLOGY        1407  29986       2020-07-01          $6,571.00  $6,571.41         $657.00           $657.00                 $657.14  $5,914.00           5    2025-07-01         $54.00       $657.10     $1,314.20     $1,095.17                    $438.09"
      ]
     },
     "execution_count": 529,
     "metadata": {},
     "output_type": "execute_result"
    }
   ],
   "source": [
    "df_depreciation_calc_2020 = df_depreciation_calc_2020[['Asset ID','Description_x', 'cbiz_index', 'Asset', 'Acquisition Date',\n",
    "       ' Acquired Value* ',  'Basis', ' Current YTD* ', ' Current Accum* ', 'LifeToDateDepreciation',\n",
    "       ' NBV* ', 'life_years','full_dep_yr_2', 'LifeRemaining', 'dep_exp_2020', 'dep_exp_2021', 'depr_ytd_oct',  ]]\n",
    "\n",
    "df_depreciation_calc_2020 = df_depreciation_calc_2020.merge(fsm_depreciation, how='left',\n",
    "                                                           left_on='Asset', right_on='Asset')\n",
    "\n",
    "df_depreciation_calc_2020 = df_depreciation_calc_2020[['Asset ID','Description_x', 'cbiz_index', 'Asset', 'Acquisition Date',\n",
    "       ' Acquired Value* ',  'Basis', ' Current YTD* ', ' Current Accum* ', 'LifeToDateDepreciation',\n",
    "       ' NBV* ', 'life_years','full_dep_yr_2', 'LifeRemaining', 'dep_exp_2020', 'dep_exp_2021', 'depr_ytd_oct','CurrentPeriodDepreciation',  ]]\n",
    "\n",
    "df_depreciation_calc_2020.tail()"
   ]
  },
  {
   "cell_type": "code",
   "execution_count": 530,
   "metadata": {},
   "outputs": [],
   "source": [
    "df_depreciation_calc_2020.to_csv(\n",
    "    r'C:\\Users\\mikra\\OneDrive\\Documents\\Work\\conversion\\SIT3\\november_AX2\\fixed_assets\\mmc\\output\\output_2020\\sit3_depreciation_2020.csv'\n",
    ")"
   ]
  },
  {
   "cell_type": "markdown",
   "metadata": {},
   "source": [
    "### Calculate company2040 depreciation expense for fiscal 2021 and compare to CBIZ projections"
   ]
  },
  {
   "cell_type": "code",
   "execution_count": 531,
   "metadata": {},
   "outputs": [
    {
     "name": "stderr",
     "output_type": "stream",
     "text": [
      "<ipython-input-531-447421ff1f24>:8: SettingWithCopyWarning: \n",
      "A value is trying to be set on a copy of a slice from a DataFrame.\n",
      "Try using .loc[row_indexer,col_indexer] = value instead\n",
      "\n",
      "See the caveats in the documentation: https://pandas.pydata.org/pandas-docs/stable/user_guide/indexing.html#returning-a-view-versus-a-copy\n",
      "  df_depreciation_calc_2040['full_dep_yr'] =  df_depreciation_calc_2040['life_years']\\\n",
      "C:\\Users\\mikra\\anaconda3\\lib\\site-packages\\pandas\\core\\arrays\\datetimelike.py:1108: PerformanceWarning: Adding/subtracting object-dtype array to DatetimeArray not vectorized\n",
      "  warnings.warn(\n",
      "<ipython-input-531-447421ff1f24>:11: SettingWithCopyWarning: \n",
      "A value is trying to be set on a copy of a slice from a DataFrame.\n",
      "Try using .loc[row_indexer,col_indexer] = value instead\n",
      "\n",
      "See the caveats in the documentation: https://pandas.pydata.org/pandas-docs/stable/user_guide/indexing.html#returning-a-view-versus-a-copy\n",
      "  df_depreciation_calc_2040['full_dep_yr_2'] = df_depreciation_calc_2040['Acquisition Date'] +\\\n"
     ]
    }
   ],
   "source": [
    "df_depreciation_calc_2040 = cbiz_asset_and_book_2040_merge[[\n",
    "    'AssetImport_x',  'Asset ID',  'Description_x', 'Acquisition Date',\n",
    "    ' Acquired Value* ', 'Est Life*', ' Current YTD* ',\n",
    "    ' Current Accum* ', ' NBV* ', 'life_years','LifeRemaining', 'Basis',\n",
    "    'YearPlacedInService', 'Convention','LifeToDateDepreciation'\n",
    "]]\n",
    "\n",
    "df_depreciation_calc_2040['full_dep_yr'] =  df_depreciation_calc_2040['life_years']\\\n",
    ".apply(lambda x: dateutil.relativedelta.relativedelta(years=x))\n",
    "\n",
    "df_depreciation_calc_2040['full_dep_yr_2'] = df_depreciation_calc_2040['Acquisition Date'] +\\\n",
    "df_depreciation_calc_2040['full_dep_yr']\n",
    "\n",
    "# add a column for 2020 depreciation\n",
    "df_depreciation_calc_2040 = df_depreciation_calc_2040.apply(dep_calc_2020, axis=1)\n",
    "\n",
    "# calculate 2021 depreciation and add column to df\n",
    "df_depreciation_calc_2040 = df_depreciation_calc_2040.apply(dep_calc_2021, axis=1)\n",
    "\n",
    "df_depreciation_calc_2040['depr_ytd_oct'] = df_depreciation_calc_2040['dep_exp_2021'] * (10/12)"
   ]
  },
  {
   "cell_type": "code",
   "execution_count": 532,
   "metadata": {},
   "outputs": [
    {
     "data": {
      "text/plain": [
       " Current YTD*    $1,377,500.00\n",
       "dep_exp_2020     $1,377,500.00\n",
       "dep_exp_2021       $688,750.00\n",
       "depr_ytd_oct       $573,958.33\n",
       "dtype: float64"
      ]
     },
     "execution_count": 532,
     "metadata": {},
     "output_type": "execute_result"
    }
   ],
   "source": [
    "df_depreciation_calc_2040[[' Current YTD* ', 'dep_exp_2020', 'dep_exp_2021', 'depr_ytd_oct' ]].sum()"
   ]
  },
  {
   "cell_type": "code",
   "execution_count": 533,
   "metadata": {},
   "outputs": [],
   "source": [
    "df_depreciation_calc_2040['Asset ID'] = df_depreciation_calc_2040['Asset ID'].astype('int')\n",
    "\n",
    "fsm_asset_number_2040 = assets_group_2040[['Asset', 'cbiz_index']]\n",
    "# fsm_asset_number\n",
    "\n",
    "df_depreciation_calc_2040 = df_depreciation_calc_2040.merge(fsm_asset_number_2040, how='left',\n",
    "                                            left_on='Asset ID', right_on=\"cbiz_index\")"
   ]
  },
  {
   "cell_type": "code",
   "execution_count": 534,
   "metadata": {},
   "outputs": [
    {
     "data": {
      "text/html": [
       "<div>\n",
       "<style scoped>\n",
       "    .dataframe tbody tr th:only-of-type {\n",
       "        vertical-align: middle;\n",
       "    }\n",
       "\n",
       "    .dataframe tbody tr th {\n",
       "        vertical-align: top;\n",
       "    }\n",
       "\n",
       "    .dataframe thead th {\n",
       "        text-align: right;\n",
       "    }\n",
       "</style>\n",
       "<table border=\"1\" class=\"dataframe\">\n",
       "  <thead>\n",
       "    <tr style=\"text-align: right;\">\n",
       "      <th></th>\n",
       "      <th>Asset ID</th>\n",
       "      <th>Description_x</th>\n",
       "      <th>cbiz_index</th>\n",
       "      <th>Asset</th>\n",
       "      <th>Acquisition Date</th>\n",
       "      <th>Acquired Value*</th>\n",
       "      <th>Basis</th>\n",
       "      <th>Current YTD*</th>\n",
       "      <th>Current Accum*</th>\n",
       "      <th>LifeToDateDepreciation</th>\n",
       "      <th>NBV*</th>\n",
       "      <th>life_years</th>\n",
       "      <th>full_dep_yr_2</th>\n",
       "      <th>LifeRemaining</th>\n",
       "      <th>dep_exp_2020</th>\n",
       "      <th>dep_exp_2021</th>\n",
       "      <th>depr_ytd_oct</th>\n",
       "      <th>CurrentPeriodDepreciation</th>\n",
       "    </tr>\n",
       "  </thead>\n",
       "  <tbody>\n",
       "    <tr>\n",
       "      <th>0</th>\n",
       "      <td>461</td>\n",
       "      <td>LAND - 16 GUION PLACE  NEW ROCHELLE  NY</td>\n",
       "      <td>461</td>\n",
       "      <td>30416</td>\n",
       "      <td>2013-11-01</td>\n",
       "      <td>$27,090,000.00</td>\n",
       "      <td>$27,090,000.00</td>\n",
       "      <td>NaN</td>\n",
       "      <td>NaN</td>\n",
       "      <td>$0.00</td>\n",
       "      <td>$27,090,000.00</td>\n",
       "      <td>0</td>\n",
       "      <td>2013-11-01</td>\n",
       "      <td>$0.00</td>\n",
       "      <td>$0.00</td>\n",
       "      <td>$0.00</td>\n",
       "      <td>$0.00</td>\n",
       "      <td>$0.00</td>\n",
       "    </tr>\n",
       "    <tr>\n",
       "      <th>1</th>\n",
       "      <td>462</td>\n",
       "      <td>BUILDING - 16 GUION PLACE  NEW ROCHELLE  NY</td>\n",
       "      <td>462</td>\n",
       "      <td>30417</td>\n",
       "      <td>2013-11-01</td>\n",
       "      <td>$11,020,000.00</td>\n",
       "      <td>$11,020,000.00</td>\n",
       "      <td>$1,377,500.00</td>\n",
       "      <td>$9,872,083.00</td>\n",
       "      <td>$9,872,083.00</td>\n",
       "      <td>$1,147,917.00</td>\n",
       "      <td>8</td>\n",
       "      <td>2021-11-01</td>\n",
       "      <td>$10.00</td>\n",
       "      <td>$1,377,500.00</td>\n",
       "      <td>$688,750.00</td>\n",
       "      <td>$573,958.33</td>\n",
       "      <td>$0.00</td>\n",
       "    </tr>\n",
       "  </tbody>\n",
       "</table>\n",
       "</div>"
      ],
      "text/plain": [
       "   Asset ID                                Description_x  cbiz_index  Asset Acquisition Date   Acquired Value*           Basis   Current YTD*    Current Accum*   LifeToDateDepreciation          NBV*   life_years full_dep_yr_2  LifeRemaining  dep_exp_2020  dep_exp_2021  depr_ytd_oct  CurrentPeriodDepreciation\n",
       "0       461      LAND - 16 GUION PLACE  NEW ROCHELLE  NY         461  30416       2013-11-01     $27,090,000.00 $27,090,000.00             NaN               NaN                   $0.00 $27,090,000.00           0    2013-11-01          $0.00         $0.00         $0.00         $0.00                      $0.00\n",
       "1       462  BUILDING - 16 GUION PLACE  NEW ROCHELLE  NY         462  30417       2013-11-01     $11,020,000.00 $11,020,000.00   $1,377,500.00     $9,872,083.00           $9,872,083.00  $1,147,917.00           8    2021-11-01         $10.00 $1,377,500.00   $688,750.00   $573,958.33                      $0.00"
      ]
     },
     "execution_count": 534,
     "metadata": {},
     "output_type": "execute_result"
    }
   ],
   "source": [
    "df_depreciation_calc_2040 = df_depreciation_calc_2040[['Asset ID','Description_x', 'cbiz_index', 'Asset', 'Acquisition Date',\n",
    "       ' Acquired Value* ',  'Basis', ' Current YTD* ', ' Current Accum* ', 'LifeToDateDepreciation',\n",
    "       ' NBV* ', 'life_years','full_dep_yr_2', 'LifeRemaining', 'dep_exp_2020', 'dep_exp_2021', 'depr_ytd_oct',  ]]\n",
    "\n",
    "df_depreciation_calc_2040 = df_depreciation_calc_2040.merge(fsm_depreciation, how='left',\n",
    "                                                           left_on='Asset', right_on='Asset')\n",
    "\n",
    "df_depreciation_calc_2040 = df_depreciation_calc_2040[['Asset ID','Description_x', 'cbiz_index', 'Asset', 'Acquisition Date',\n",
    "       ' Acquired Value* ',  'Basis', ' Current YTD* ', ' Current Accum* ', 'LifeToDateDepreciation',\n",
    "       ' NBV* ', 'life_years','full_dep_yr_2', 'LifeRemaining', 'dep_exp_2020', 'dep_exp_2021', 'depr_ytd_oct','CurrentPeriodDepreciation',  ]]\n",
    "\n",
    "df_depreciation_calc_2040.tail()"
   ]
  },
  {
   "cell_type": "code",
   "execution_count": 535,
   "metadata": {},
   "outputs": [],
   "source": [
    "df_depreciation_calc_2040.to_csv(\n",
    "    r'C:\\Users\\mikra\\OneDrive\\Documents\\Work\\conversion\\SIT3\\november_AX2\\fixed_assets\\mmc\\output\\output_2040\\sit3_depreciation_2040.csv'\n",
    ")"
   ]
  },
  {
   "cell_type": "markdown",
   "metadata": {},
   "source": [
    "### Calculate company 2030 depreciation expense for fiscal 2021 and compare to CBIZ projections"
   ]
  },
  {
   "cell_type": "code",
   "execution_count": 536,
   "metadata": {},
   "outputs": [
    {
     "name": "stderr",
     "output_type": "stream",
     "text": [
      "<ipython-input-536-433e6e2c0c0f>:8: SettingWithCopyWarning: \n",
      "A value is trying to be set on a copy of a slice from a DataFrame.\n",
      "Try using .loc[row_indexer,col_indexer] = value instead\n",
      "\n",
      "See the caveats in the documentation: https://pandas.pydata.org/pandas-docs/stable/user_guide/indexing.html#returning-a-view-versus-a-copy\n",
      "  df_depreciation_calc_2030['full_dep_yr'] =  df_depreciation_calc_2030['life_years']\\\n",
      "C:\\Users\\mikra\\anaconda3\\lib\\site-packages\\pandas\\core\\arrays\\datetimelike.py:1108: PerformanceWarning: Adding/subtracting object-dtype array to DatetimeArray not vectorized\n",
      "  warnings.warn(\n",
      "<ipython-input-536-433e6e2c0c0f>:11: SettingWithCopyWarning: \n",
      "A value is trying to be set on a copy of a slice from a DataFrame.\n",
      "Try using .loc[row_indexer,col_indexer] = value instead\n",
      "\n",
      "See the caveats in the documentation: https://pandas.pydata.org/pandas-docs/stable/user_guide/indexing.html#returning-a-view-versus-a-copy\n",
      "  df_depreciation_calc_2030['full_dep_yr_2'] = df_depreciation_calc_2030['Acquisition Date'] +\\\n"
     ]
    }
   ],
   "source": [
    "df_depreciation_calc_2030 = cbiz_asset_and_book_2030_merge[[\n",
    "    'AssetImport_x',  'Asset ID',  'Description_x', 'Acquisition Date',\n",
    "    ' Acquired Value* ', 'Est Life*', ' Current YTD* ',\n",
    "    ' Current Accum* ', ' NBV* ', 'life_years','LifeRemaining', 'Basis',\n",
    "    'YearPlacedInService', 'Convention','LifeToDateDepreciation'\n",
    "]]\n",
    "\n",
    "df_depreciation_calc_2030['full_dep_yr'] =  df_depreciation_calc_2030['life_years']\\\n",
    ".apply(lambda x: dateutil.relativedelta.relativedelta(years=x))\n",
    "\n",
    "df_depreciation_calc_2030['full_dep_yr_2'] = df_depreciation_calc_2030['Acquisition Date'] +\\\n",
    "df_depreciation_calc_2030['full_dep_yr']\n",
    "\n",
    "# add a column for 2020 depreciation\n",
    "df_depreciation_calc_2030 = df_depreciation_calc_2030.apply(dep_calc_2020, axis=1)\n",
    "\n",
    "# calculate 2021 depreciation and add column to df\n",
    "df_depreciation_calc_2030 = df_depreciation_calc_2030.apply(dep_calc_2021, axis=1)\n",
    "\n",
    "df_depreciation_calc_2030['depr_ytd_oct'] = df_depreciation_calc_2030['dep_exp_2021'] * (10/12)"
   ]
  },
  {
   "cell_type": "code",
   "execution_count": 537,
   "metadata": {},
   "outputs": [
    {
     "data": {
      "text/plain": [
       " Current YTD*    $290,687.00\n",
       "dep_exp_2020     $290,689.04\n",
       "dep_exp_2021     $295,080.54\n",
       "depr_ytd_oct     $245,900.45\n",
       "dtype: float64"
      ]
     },
     "execution_count": 537,
     "metadata": {},
     "output_type": "execute_result"
    }
   ],
   "source": [
    "df_depreciation_calc_2030[[' Current YTD* ', 'dep_exp_2020', 'dep_exp_2021', 'depr_ytd_oct' ]].sum()"
   ]
  },
  {
   "cell_type": "code",
   "execution_count": 538,
   "metadata": {},
   "outputs": [],
   "source": [
    "df_depreciation_calc_2030['Asset ID'] = df_depreciation_calc_2030['Asset ID'].astype('int')\n",
    "\n",
    "fsm_asset_number_2030 = assets_group_2030[['Asset', 'cbiz_index']]\n",
    "# fsm_asset_number\n",
    "\n",
    "df_depreciation_calc_2030 = df_depreciation_calc_2030.merge(fsm_asset_number_2030, how='left',\n",
    "                                            left_on='Asset ID', right_on=\"cbiz_index\")"
   ]
  },
  {
   "cell_type": "code",
   "execution_count": 539,
   "metadata": {},
   "outputs": [
    {
     "data": {
      "text/html": [
       "<div>\n",
       "<style scoped>\n",
       "    .dataframe tbody tr th:only-of-type {\n",
       "        vertical-align: middle;\n",
       "    }\n",
       "\n",
       "    .dataframe tbody tr th {\n",
       "        vertical-align: top;\n",
       "    }\n",
       "\n",
       "    .dataframe thead th {\n",
       "        text-align: right;\n",
       "    }\n",
       "</style>\n",
       "<table border=\"1\" class=\"dataframe\">\n",
       "  <thead>\n",
       "    <tr style=\"text-align: right;\">\n",
       "      <th></th>\n",
       "      <th>Asset ID</th>\n",
       "      <th>Description_x</th>\n",
       "      <th>cbiz_index</th>\n",
       "      <th>Asset</th>\n",
       "      <th>Acquisition Date</th>\n",
       "      <th>Acquired Value*</th>\n",
       "      <th>Basis</th>\n",
       "      <th>Current YTD*</th>\n",
       "      <th>Current Accum*</th>\n",
       "      <th>LifeToDateDepreciation</th>\n",
       "      <th>NBV*</th>\n",
       "      <th>life_years</th>\n",
       "      <th>full_dep_yr_2</th>\n",
       "      <th>LifeRemaining</th>\n",
       "      <th>dep_exp_2020</th>\n",
       "      <th>dep_exp_2021</th>\n",
       "      <th>depr_ytd_oct</th>\n",
       "      <th>CurrentPeriodDepreciation</th>\n",
       "    </tr>\n",
       "  </thead>\n",
       "  <tbody>\n",
       "    <tr>\n",
       "      <th>91</th>\n",
       "      <td>1340</td>\n",
       "      <td>5000005151  SCHAFER NURSING FACILITY</td>\n",
       "      <td>1340</td>\n",
       "      <td>30338</td>\n",
       "      <td>2019-07-01</td>\n",
       "      <td>$1,152.00</td>\n",
       "      <td>$1,152.16</td>\n",
       "      <td>$230.00</td>\n",
       "      <td>$346.00</td>\n",
       "      <td>$345.65</td>\n",
       "      <td>$807.00</td>\n",
       "      <td>5</td>\n",
       "      <td>2024-07-01</td>\n",
       "      <td>$42.00</td>\n",
       "      <td>$230.40</td>\n",
       "      <td>$230.40</td>\n",
       "      <td>$192.00</td>\n",
       "      <td>$76.81</td>\n",
       "    </tr>\n",
       "    <tr>\n",
       "      <th>92</th>\n",
       "      <td>1378</td>\n",
       "      <td>FIRE PROTECTION SYSTEM- FIRE ALARM SYSTEM - 10...</td>\n",
       "      <td>1378</td>\n",
       "      <td>30339</td>\n",
       "      <td>2019-07-01</td>\n",
       "      <td>$33,852.00</td>\n",
       "      <td>$33,852.10</td>\n",
       "      <td>$3,385.00</td>\n",
       "      <td>$5,078.00</td>\n",
       "      <td>$5,077.82</td>\n",
       "      <td>$28,774.00</td>\n",
       "      <td>10</td>\n",
       "      <td>2029-07-01</td>\n",
       "      <td>$102.00</td>\n",
       "      <td>$3,385.20</td>\n",
       "      <td>$3,385.20</td>\n",
       "      <td>$2,821.00</td>\n",
       "      <td>$1,128.40</td>\n",
       "    </tr>\n",
       "    <tr>\n",
       "      <th>93</th>\n",
       "      <td>1379</td>\n",
       "      <td>BED PATIENT - 15-RECLS PO 4501986846 FRM600806...</td>\n",
       "      <td>1379</td>\n",
       "      <td>30340</td>\n",
       "      <td>2019-07-01</td>\n",
       "      <td>$49,357.00</td>\n",
       "      <td>$49,356.86</td>\n",
       "      <td>$3,290.00</td>\n",
       "      <td>$4,936.00</td>\n",
       "      <td>$4,935.69</td>\n",
       "      <td>$44,421.00</td>\n",
       "      <td>15</td>\n",
       "      <td>2034-07-01</td>\n",
       "      <td>$162.00</td>\n",
       "      <td>$3,290.47</td>\n",
       "      <td>$3,290.47</td>\n",
       "      <td>$2,742.06</td>\n",
       "      <td>$1,096.82</td>\n",
       "    </tr>\n",
       "    <tr>\n",
       "      <th>94</th>\n",
       "      <td>1391</td>\n",
       "      <td>BED PATIENT - 15-PO 4502207839 - NEW PATIENT B...</td>\n",
       "      <td>1391</td>\n",
       "      <td>30341</td>\n",
       "      <td>2020-07-01</td>\n",
       "      <td>$16,939.00</td>\n",
       "      <td>$16,938.80</td>\n",
       "      <td>$565.00</td>\n",
       "      <td>$565.00</td>\n",
       "      <td>$564.63</td>\n",
       "      <td>$16,374.00</td>\n",
       "      <td>15</td>\n",
       "      <td>2035-07-01</td>\n",
       "      <td>$174.00</td>\n",
       "      <td>$564.63</td>\n",
       "      <td>$1,129.27</td>\n",
       "      <td>$941.06</td>\n",
       "      <td>$376.42</td>\n",
       "    </tr>\n",
       "    <tr>\n",
       "      <th>95</th>\n",
       "      <td>1408</td>\n",
       "      <td>5000005151  SCHAFER NURSING FACILITY</td>\n",
       "      <td>1408</td>\n",
       "      <td>30342</td>\n",
       "      <td>2020-07-01</td>\n",
       "      <td>$51,977.00</td>\n",
       "      <td>$51,976.50</td>\n",
       "      <td>$5,198.00</td>\n",
       "      <td>$5,198.00</td>\n",
       "      <td>$5,197.65</td>\n",
       "      <td>$46,779.00</td>\n",
       "      <td>5</td>\n",
       "      <td>2025-07-01</td>\n",
       "      <td>$54.00</td>\n",
       "      <td>$5,197.70</td>\n",
       "      <td>$10,395.40</td>\n",
       "      <td>$8,662.83</td>\n",
       "      <td>$3,465.10</td>\n",
       "    </tr>\n",
       "  </tbody>\n",
       "</table>\n",
       "</div>"
      ],
      "text/plain": [
       "    Asset ID                                      Description_x  cbiz_index  Asset Acquisition Date   Acquired Value*       Basis   Current YTD*    Current Accum*   LifeToDateDepreciation      NBV*   life_years full_dep_yr_2  LifeRemaining  dep_exp_2020  dep_exp_2021  depr_ytd_oct  CurrentPeriodDepreciation\n",
       "91      1340               5000005151  SCHAFER NURSING FACILITY        1340  30338       2019-07-01          $1,152.00  $1,152.16         $230.00           $346.00                 $345.65    $807.00           5    2024-07-01         $42.00       $230.40       $230.40       $192.00                     $76.81\n",
       "92      1378  FIRE PROTECTION SYSTEM- FIRE ALARM SYSTEM - 10...        1378  30339       2019-07-01         $33,852.00 $33,852.10       $3,385.00         $5,078.00               $5,077.82 $28,774.00          10    2029-07-01        $102.00     $3,385.20     $3,385.20     $2,821.00                  $1,128.40\n",
       "93      1379  BED PATIENT - 15-RECLS PO 4501986846 FRM600806...        1379  30340       2019-07-01         $49,357.00 $49,356.86       $3,290.00         $4,936.00               $4,935.69 $44,421.00          15    2034-07-01        $162.00     $3,290.47     $3,290.47     $2,742.06                  $1,096.82\n",
       "94      1391  BED PATIENT - 15-PO 4502207839 - NEW PATIENT B...        1391  30341       2020-07-01         $16,939.00 $16,938.80         $565.00           $565.00                 $564.63 $16,374.00          15    2035-07-01        $174.00       $564.63     $1,129.27       $941.06                    $376.42\n",
       "95      1408               5000005151  SCHAFER NURSING FACILITY        1408  30342       2020-07-01         $51,977.00 $51,976.50       $5,198.00         $5,198.00               $5,197.65 $46,779.00           5    2025-07-01         $54.00     $5,197.70    $10,395.40     $8,662.83                  $3,465.10"
      ]
     },
     "execution_count": 539,
     "metadata": {},
     "output_type": "execute_result"
    }
   ],
   "source": [
    "df_depreciation_calc_2030 = df_depreciation_calc_2030[['Asset ID','Description_x', 'cbiz_index', 'Asset', 'Acquisition Date',\n",
    "       ' Acquired Value* ',  'Basis', ' Current YTD* ', ' Current Accum* ', 'LifeToDateDepreciation',\n",
    "       ' NBV* ', 'life_years','full_dep_yr_2', 'LifeRemaining', 'dep_exp_2020', 'dep_exp_2021', 'depr_ytd_oct',  ]]\n",
    "\n",
    "df_depreciation_calc_2030 = df_depreciation_calc_2030.merge(fsm_depreciation, how='left',\n",
    "                                                           left_on='Asset', right_on='Asset')\n",
    "\n",
    "df_depreciation_calc_2030 = df_depreciation_calc_2030[['Asset ID','Description_x', 'cbiz_index', 'Asset', 'Acquisition Date',\n",
    "       ' Acquired Value* ',  'Basis', ' Current YTD* ', ' Current Accum* ', 'LifeToDateDepreciation',\n",
    "       ' NBV* ', 'life_years','full_dep_yr_2', 'LifeRemaining', 'dep_exp_2020', 'dep_exp_2021', 'depr_ytd_oct','CurrentPeriodDepreciation',  ]]\n",
    "\n",
    "df_depreciation_calc_2030.tail()"
   ]
  },
  {
   "cell_type": "code",
   "execution_count": 540,
   "metadata": {},
   "outputs": [],
   "source": [
    "df_depreciation_calc_2030.to_csv(\n",
    "    r'C:\\Users\\mikra\\OneDrive\\Documents\\Work\\conversion\\SIT3\\november_AX2\\fixed_assets\\mmc\\output\\output_2030\\sit3_depreciation_2030.csv'\n",
    ")"
   ]
  },
  {
   "cell_type": "markdown",
   "metadata": {},
   "source": [
    "### Calculate company 2060 depreciation expense for fiscal 2021 and compare to CBIZ projections"
   ]
  },
  {
   "cell_type": "code",
   "execution_count": 541,
   "metadata": {},
   "outputs": [
    {
     "name": "stderr",
     "output_type": "stream",
     "text": [
      "<ipython-input-541-0e7d8cc40970>:8: SettingWithCopyWarning: \n",
      "A value is trying to be set on a copy of a slice from a DataFrame.\n",
      "Try using .loc[row_indexer,col_indexer] = value instead\n",
      "\n",
      "See the caveats in the documentation: https://pandas.pydata.org/pandas-docs/stable/user_guide/indexing.html#returning-a-view-versus-a-copy\n",
      "  df_depreciation_calc_2060['full_dep_yr'] =  df_depreciation_calc_2060['life_years']\\\n",
      "C:\\Users\\mikra\\anaconda3\\lib\\site-packages\\pandas\\core\\arrays\\datetimelike.py:1108: PerformanceWarning: Adding/subtracting object-dtype array to DatetimeArray not vectorized\n",
      "  warnings.warn(\n",
      "<ipython-input-541-0e7d8cc40970>:11: SettingWithCopyWarning: \n",
      "A value is trying to be set on a copy of a slice from a DataFrame.\n",
      "Try using .loc[row_indexer,col_indexer] = value instead\n",
      "\n",
      "See the caveats in the documentation: https://pandas.pydata.org/pandas-docs/stable/user_guide/indexing.html#returning-a-view-versus-a-copy\n",
      "  df_depreciation_calc_2060['full_dep_yr_2'] = df_depreciation_calc_2060['Acquisition Date'] +\\\n"
     ]
    }
   ],
   "source": [
    "df_depreciation_calc_2060 = cbiz_asset_and_book_2060_merge[[\n",
    "    'AssetImport_x',  'Asset ID',  'Description_x', 'Acquisition Date',\n",
    "    ' Acquired Value* ', 'Est Life*', ' Current YTD* ',\n",
    "    ' Current Accum* ', ' NBV* ', 'life_years','LifeRemaining', 'Basis',\n",
    "    'YearPlacedInService', 'Convention','LifeToDateDepreciation'\n",
    "]]\n",
    "\n",
    "df_depreciation_calc_2060['full_dep_yr'] =  df_depreciation_calc_2060['life_years']\\\n",
    ".apply(lambda x: dateutil.relativedelta.relativedelta(years=x))\n",
    "\n",
    "df_depreciation_calc_2060['full_dep_yr_2'] = df_depreciation_calc_2060['Acquisition Date'] +\\\n",
    "df_depreciation_calc_2060['full_dep_yr']\n",
    "\n",
    "# add a column for 2020 depreciation\n",
    "df_depreciation_calc_2060 = df_depreciation_calc_2060.apply(dep_calc_2020, axis=1)\n",
    "\n",
    "# calculate 2021 depreciation and add column to df\n",
    "df_depreciation_calc_2060 = df_depreciation_calc_2060.apply(dep_calc_2021, axis=1)\n",
    "\n",
    "df_depreciation_calc_2060['depr_ytd_oct'] = df_depreciation_calc_2060['dep_exp_2021'] * (10/12)"
   ]
  },
  {
   "cell_type": "code",
   "execution_count": 542,
   "metadata": {},
   "outputs": [
    {
     "data": {
      "text/plain": [
       " Current YTD*    $191,346.00\n",
       "dep_exp_2020     $191,345.92\n",
       "dep_exp_2021     $191,345.92\n",
       "depr_ytd_oct     $159,454.93\n",
       "dtype: float64"
      ]
     },
     "execution_count": 542,
     "metadata": {},
     "output_type": "execute_result"
    }
   ],
   "source": [
    "df_depreciation_calc_2060[[' Current YTD* ', 'dep_exp_2020', 'dep_exp_2021', 'depr_ytd_oct' ]].sum()"
   ]
  },
  {
   "cell_type": "code",
   "execution_count": 543,
   "metadata": {},
   "outputs": [],
   "source": [
    "df_depreciation_calc_2060['Asset ID'] = df_depreciation_calc_2060['Asset ID'].astype('int')\n",
    "\n",
    "fsm_asset_number_2060 = assets_group_2060[['Asset', 'cbiz_index']]\n",
    "# fsm_asset_number\n",
    "\n",
    "df_depreciation_calc_2060 = df_depreciation_calc_2060.merge(fsm_asset_number_2060, how='left',\n",
    "                                            left_on='Asset ID', right_on=\"cbiz_index\")"
   ]
  },
  {
   "cell_type": "code",
   "execution_count": 544,
   "metadata": {},
   "outputs": [
    {
     "data": {
      "text/html": [
       "<div>\n",
       "<style scoped>\n",
       "    .dataframe tbody tr th:only-of-type {\n",
       "        vertical-align: middle;\n",
       "    }\n",
       "\n",
       "    .dataframe tbody tr th {\n",
       "        vertical-align: top;\n",
       "    }\n",
       "\n",
       "    .dataframe thead th {\n",
       "        text-align: right;\n",
       "    }\n",
       "</style>\n",
       "<table border=\"1\" class=\"dataframe\">\n",
       "  <thead>\n",
       "    <tr style=\"text-align: right;\">\n",
       "      <th></th>\n",
       "      <th>Asset ID</th>\n",
       "      <th>Description_x</th>\n",
       "      <th>cbiz_index</th>\n",
       "      <th>Asset</th>\n",
       "      <th>Acquisition Date</th>\n",
       "      <th>Acquired Value*</th>\n",
       "      <th>Basis</th>\n",
       "      <th>Current YTD*</th>\n",
       "      <th>Current Accum*</th>\n",
       "      <th>LifeToDateDepreciation</th>\n",
       "      <th>NBV*</th>\n",
       "      <th>life_years</th>\n",
       "      <th>full_dep_yr_2</th>\n",
       "      <th>LifeRemaining</th>\n",
       "      <th>dep_exp_2020</th>\n",
       "      <th>dep_exp_2021</th>\n",
       "      <th>depr_ytd_oct</th>\n",
       "      <th>CurrentPeriodDepreciation</th>\n",
       "    </tr>\n",
       "  </thead>\n",
       "  <tbody>\n",
       "    <tr>\n",
       "      <th>0</th>\n",
       "      <td>752</td>\n",
       "      <td>LAND - 16 GUION PLACE  NEW ROCHELLE  NY</td>\n",
       "      <td>752</td>\n",
       "      <td>30436</td>\n",
       "      <td>2013-11-01</td>\n",
       "      <td>$3,460,000.00</td>\n",
       "      <td>$3,460,000.00</td>\n",
       "      <td>NaN</td>\n",
       "      <td>NaN</td>\n",
       "      <td>$0.00</td>\n",
       "      <td>$3,460,000.00</td>\n",
       "      <td>0</td>\n",
       "      <td>2013-11-01</td>\n",
       "      <td>$0.00</td>\n",
       "      <td>$0.00</td>\n",
       "      <td>$0.00</td>\n",
       "      <td>$0.00</td>\n",
       "      <td>$0.00</td>\n",
       "    </tr>\n",
       "    <tr>\n",
       "      <th>1</th>\n",
       "      <td>753</td>\n",
       "      <td>BUILDING - 16 GUION PLACE  NEW ROCHELLE  NY</td>\n",
       "      <td>753</td>\n",
       "      <td>30437</td>\n",
       "      <td>2013-11-01</td>\n",
       "      <td>$2,296,151.00</td>\n",
       "      <td>$2,296,151.00</td>\n",
       "      <td>$191,346.00</td>\n",
       "      <td>$1,371,313.00</td>\n",
       "      <td>$1,371,312.84</td>\n",
       "      <td>$924,838.00</td>\n",
       "      <td>12</td>\n",
       "      <td>2025-11-01</td>\n",
       "      <td>$58.00</td>\n",
       "      <td>$191,345.92</td>\n",
       "      <td>$191,345.92</td>\n",
       "      <td>$159,454.93</td>\n",
       "      <td>$68,506.53</td>\n",
       "    </tr>\n",
       "  </tbody>\n",
       "</table>\n",
       "</div>"
      ],
      "text/plain": [
       "   Asset ID                                Description_x  cbiz_index  Asset Acquisition Date   Acquired Value*          Basis   Current YTD*    Current Accum*   LifeToDateDepreciation         NBV*   life_years full_dep_yr_2  LifeRemaining  dep_exp_2020  dep_exp_2021  depr_ytd_oct  CurrentPeriodDepreciation\n",
       "0       752      LAND - 16 GUION PLACE  NEW ROCHELLE  NY         752  30436       2013-11-01      $3,460,000.00 $3,460,000.00             NaN               NaN                   $0.00 $3,460,000.00           0    2013-11-01          $0.00         $0.00         $0.00         $0.00                      $0.00\n",
       "1       753  BUILDING - 16 GUION PLACE  NEW ROCHELLE  NY         753  30437       2013-11-01      $2,296,151.00 $2,296,151.00     $191,346.00     $1,371,313.00           $1,371,312.84   $924,838.00          12    2025-11-01         $58.00   $191,345.92   $191,345.92   $159,454.93                 $68,506.53"
      ]
     },
     "execution_count": 544,
     "metadata": {},
     "output_type": "execute_result"
    }
   ],
   "source": [
    "df_depreciation_calc_2060 = df_depreciation_calc_2060[['Asset ID','Description_x', 'cbiz_index', 'Asset', 'Acquisition Date',\n",
    "       ' Acquired Value* ',  'Basis', ' Current YTD* ', ' Current Accum* ', 'LifeToDateDepreciation',\n",
    "       ' NBV* ', 'life_years','full_dep_yr_2', 'LifeRemaining', 'dep_exp_2020', 'dep_exp_2021', 'depr_ytd_oct',  ]]\n",
    "\n",
    "df_depreciation_calc_2060 = df_depreciation_calc_2060.merge(fsm_depreciation, how='left',\n",
    "                                                           left_on='Asset', right_on='Asset')\n",
    "\n",
    "df_depreciation_calc_2060 = df_depreciation_calc_2060[['Asset ID','Description_x', 'cbiz_index', 'Asset', 'Acquisition Date',\n",
    "       ' Acquired Value* ',  'Basis', ' Current YTD* ', ' Current Accum* ', 'LifeToDateDepreciation',\n",
    "       ' NBV* ', 'life_years','full_dep_yr_2', 'LifeRemaining', 'dep_exp_2020', 'dep_exp_2021', 'depr_ytd_oct','CurrentPeriodDepreciation',  ]]\n",
    "\n",
    "df_depreciation_calc_2060.tail()"
   ]
  },
  {
   "cell_type": "code",
   "execution_count": 545,
   "metadata": {},
   "outputs": [],
   "source": [
    "df_depreciation_calc_2060.to_csv(\n",
    "    r'C:\\Users\\mikra\\OneDrive\\Documents\\Work\\conversion\\SIT3\\november_AX2\\fixed_assets\\mmc\\output\\output_2060\\sit3_depreciation_2060.csv'\n",
    ")"
   ]
  },
  {
   "cell_type": "markdown",
   "metadata": {},
   "source": [
    "### Calculate company 2050 depreciation expense for fiscal 2021 and compare to CBIZ projections"
   ]
  },
  {
   "cell_type": "code",
   "execution_count": 546,
   "metadata": {},
   "outputs": [
    {
     "name": "stderr",
     "output_type": "stream",
     "text": [
      "<ipython-input-546-7d10519b82c4>:8: SettingWithCopyWarning: \n",
      "A value is trying to be set on a copy of a slice from a DataFrame.\n",
      "Try using .loc[row_indexer,col_indexer] = value instead\n",
      "\n",
      "See the caveats in the documentation: https://pandas.pydata.org/pandas-docs/stable/user_guide/indexing.html#returning-a-view-versus-a-copy\n",
      "  df_depreciation_calc_2050['full_dep_yr'] =  df_depreciation_calc_2050['life_years']\\\n",
      "C:\\Users\\mikra\\anaconda3\\lib\\site-packages\\pandas\\core\\arrays\\datetimelike.py:1108: PerformanceWarning: Adding/subtracting object-dtype array to DatetimeArray not vectorized\n",
      "  warnings.warn(\n",
      "<ipython-input-546-7d10519b82c4>:11: SettingWithCopyWarning: \n",
      "A value is trying to be set on a copy of a slice from a DataFrame.\n",
      "Try using .loc[row_indexer,col_indexer] = value instead\n",
      "\n",
      "See the caveats in the documentation: https://pandas.pydata.org/pandas-docs/stable/user_guide/indexing.html#returning-a-view-versus-a-copy\n",
      "  df_depreciation_calc_2050['full_dep_yr_2'] = df_depreciation_calc_2050['Acquisition Date'] +\\\n"
     ]
    }
   ],
   "source": [
    "df_depreciation_calc_2050 = cbiz_asset_and_book_2050_merge[[\n",
    "    'AssetImport_x',  'Asset ID',  'Description_x', 'Acquisition Date',\n",
    "    ' Acquired Value* ', 'Est Life*', ' Current YTD* ',\n",
    "    ' Current Accum* ', ' NBV* ', 'life_years','LifeRemaining', 'Basis',\n",
    "    'YearPlacedInService', 'Convention','LifeToDateDepreciation'\n",
    "]]\n",
    "\n",
    "df_depreciation_calc_2050['full_dep_yr'] =  df_depreciation_calc_2050['life_years']\\\n",
    ".apply(lambda x: dateutil.relativedelta.relativedelta(years=x))\n",
    "\n",
    "df_depreciation_calc_2050['full_dep_yr_2'] = df_depreciation_calc_2050['Acquisition Date'] +\\\n",
    "df_depreciation_calc_2050['full_dep_yr']\n",
    "\n",
    "# add a column for 2020 depreciation\n",
    "df_depreciation_calc_2050 = df_depreciation_calc_2050.apply(dep_calc_2020, axis=1)\n",
    "\n",
    "# calculate 2021 depreciation and add column to df\n",
    "df_depreciation_calc_2050 = df_depreciation_calc_2050.apply(dep_calc_2021, axis=1)\n",
    "\n",
    "df_depreciation_calc_2050['depr_ytd_oct'] = df_depreciation_calc_2050['dep_exp_2021'] * (10/12)"
   ]
  },
  {
   "cell_type": "code",
   "execution_count": 547,
   "metadata": {},
   "outputs": [
    {
     "data": {
      "text/plain": [
       " Current YTD*    $123,978.00\n",
       "dep_exp_2020     $123,978.38\n",
       "dep_exp_2021      $61,989.19\n",
       "depr_ytd_oct      $51,657.66\n",
       "dtype: float64"
      ]
     },
     "execution_count": 547,
     "metadata": {},
     "output_type": "execute_result"
    }
   ],
   "source": [
    "df_depreciation_calc_2050[[' Current YTD* ', 'dep_exp_2020', 'dep_exp_2021', 'depr_ytd_oct' ]].sum()"
   ]
  },
  {
   "cell_type": "code",
   "execution_count": 548,
   "metadata": {},
   "outputs": [],
   "source": [
    "df_depreciation_calc_2050['Asset ID'] = df_depreciation_calc_2050['Asset ID'].astype('int')\n",
    "\n",
    "fsm_asset_number_2050 = assets_group_2050[['Asset', 'cbiz_index']]\n",
    "# fsm_asset_number\n",
    "\n",
    "df_depreciation_calc_2050 = df_depreciation_calc_2050.merge(fsm_asset_number_2050, how='left',\n",
    "                                            left_on='Asset ID', right_on=\"cbiz_index\")"
   ]
  },
  {
   "cell_type": "code",
   "execution_count": 549,
   "metadata": {},
   "outputs": [
    {
     "data": {
      "text/html": [
       "<div>\n",
       "<style scoped>\n",
       "    .dataframe tbody tr th:only-of-type {\n",
       "        vertical-align: middle;\n",
       "    }\n",
       "\n",
       "    .dataframe tbody tr th {\n",
       "        vertical-align: top;\n",
       "    }\n",
       "\n",
       "    .dataframe thead th {\n",
       "        text-align: right;\n",
       "    }\n",
       "</style>\n",
       "<table border=\"1\" class=\"dataframe\">\n",
       "  <thead>\n",
       "    <tr style=\"text-align: right;\">\n",
       "      <th></th>\n",
       "      <th>Asset ID</th>\n",
       "      <th>Description_x</th>\n",
       "      <th>cbiz_index</th>\n",
       "      <th>Asset</th>\n",
       "      <th>Acquisition Date</th>\n",
       "      <th>Acquired Value*</th>\n",
       "      <th>Basis</th>\n",
       "      <th>Current YTD*</th>\n",
       "      <th>Current Accum*</th>\n",
       "      <th>LifeToDateDepreciation</th>\n",
       "      <th>NBV*</th>\n",
       "      <th>life_years</th>\n",
       "      <th>full_dep_yr_2</th>\n",
       "      <th>LifeRemaining</th>\n",
       "      <th>dep_exp_2020</th>\n",
       "      <th>dep_exp_2021</th>\n",
       "      <th>depr_ytd_oct</th>\n",
       "      <th>CurrentPeriodDepreciation</th>\n",
       "    </tr>\n",
       "  </thead>\n",
       "  <tbody>\n",
       "    <tr>\n",
       "      <th>0</th>\n",
       "      <td>691</td>\n",
       "      <td>LAND - 12 NORTH 7TH AVE  MOUNT VERNON  NY</td>\n",
       "      <td>691</td>\n",
       "      <td>30426</td>\n",
       "      <td>2013-11-01</td>\n",
       "      <td>$9,420,000.00</td>\n",
       "      <td>$9,420,000.00</td>\n",
       "      <td>NaN</td>\n",
       "      <td>NaN</td>\n",
       "      <td>$0.00</td>\n",
       "      <td>$9,420,000.00</td>\n",
       "      <td>0</td>\n",
       "      <td>2013-11-01</td>\n",
       "      <td>$0.00</td>\n",
       "      <td>$0.00</td>\n",
       "      <td>$0.00</td>\n",
       "      <td>$0.00</td>\n",
       "      <td>$0.00</td>\n",
       "    </tr>\n",
       "    <tr>\n",
       "      <th>1</th>\n",
       "      <td>692</td>\n",
       "      <td>BUILDING - 12 NORTH 7TH AVE  MOUNT VERNON  NY</td>\n",
       "      <td>692</td>\n",
       "      <td>30427</td>\n",
       "      <td>2013-11-01</td>\n",
       "      <td>$991,827.00</td>\n",
       "      <td>$991,827.00</td>\n",
       "      <td>$123,978.00</td>\n",
       "      <td>$888,512.00</td>\n",
       "      <td>$888,511.76</td>\n",
       "      <td>$103,315.00</td>\n",
       "      <td>8</td>\n",
       "      <td>2021-11-01</td>\n",
       "      <td>$10.00</td>\n",
       "      <td>$123,978.38</td>\n",
       "      <td>$61,989.19</td>\n",
       "      <td>$51,657.66</td>\n",
       "      <td>$0.00</td>\n",
       "    </tr>\n",
       "  </tbody>\n",
       "</table>\n",
       "</div>"
      ],
      "text/plain": [
       "   Asset ID                                  Description_x  cbiz_index  Asset Acquisition Date   Acquired Value*          Basis   Current YTD*    Current Accum*   LifeToDateDepreciation         NBV*   life_years full_dep_yr_2  LifeRemaining  dep_exp_2020  dep_exp_2021  depr_ytd_oct  CurrentPeriodDepreciation\n",
       "0       691      LAND - 12 NORTH 7TH AVE  MOUNT VERNON  NY         691  30426       2013-11-01      $9,420,000.00 $9,420,000.00             NaN               NaN                   $0.00 $9,420,000.00           0    2013-11-01          $0.00         $0.00         $0.00         $0.00                      $0.00\n",
       "1       692  BUILDING - 12 NORTH 7TH AVE  MOUNT VERNON  NY         692  30427       2013-11-01        $991,827.00   $991,827.00     $123,978.00       $888,512.00             $888,511.76   $103,315.00           8    2021-11-01         $10.00   $123,978.38    $61,989.19    $51,657.66                      $0.00"
      ]
     },
     "execution_count": 549,
     "metadata": {},
     "output_type": "execute_result"
    }
   ],
   "source": [
    "df_depreciation_calc_2050 = df_depreciation_calc_2050[['Asset ID','Description_x', 'cbiz_index', 'Asset', 'Acquisition Date',\n",
    "       ' Acquired Value* ',  'Basis', ' Current YTD* ', ' Current Accum* ', 'LifeToDateDepreciation',\n",
    "       ' NBV* ', 'life_years','full_dep_yr_2', 'LifeRemaining', 'dep_exp_2020', 'dep_exp_2021', 'depr_ytd_oct',  ]]\n",
    "\n",
    "df_depreciation_calc_2050 = df_depreciation_calc_2050.merge(fsm_depreciation, how='left',\n",
    "                                                           left_on='Asset', right_on='Asset')\n",
    "\n",
    "df_depreciation_calc_2050 = df_depreciation_calc_2050[['Asset ID','Description_x', 'cbiz_index', 'Asset', 'Acquisition Date',\n",
    "       ' Acquired Value* ',  'Basis', ' Current YTD* ', ' Current Accum* ', 'LifeToDateDepreciation',\n",
    "       ' NBV* ', 'life_years','full_dep_yr_2', 'LifeRemaining', 'dep_exp_2020', 'dep_exp_2021', 'depr_ytd_oct','CurrentPeriodDepreciation',  ]]\n",
    "\n",
    "df_depreciation_calc_2050.tail()"
   ]
  },
  {
   "cell_type": "code",
   "execution_count": 550,
   "metadata": {},
   "outputs": [],
   "source": [
    "df_depreciation_calc_2050.to_csv(\n",
    "    r'C:\\Users\\mikra\\OneDrive\\Documents\\Work\\conversion\\SIT3\\november_AX2\\fixed_assets\\mmc\\output\\output_2050\\sit3_depreciation_2050.csv'\n",
    ")"
   ]
  },
  {
   "cell_type": "code",
   "execution_count": null,
   "metadata": {},
   "outputs": [],
   "source": []
  }
 ],
 "metadata": {
  "kernelspec": {
   "display_name": "Python 3",
   "language": "python",
   "name": "python3"
  },
  "language_info": {
   "codemirror_mode": {
    "name": "ipython",
    "version": 3
   },
   "file_extension": ".py",
   "mimetype": "text/x-python",
   "name": "python",
   "nbconvert_exporter": "python",
   "pygments_lexer": "ipython3",
   "version": "3.8.5"
  }
 },
 "nbformat": 4,
 "nbformat_minor": 4
}

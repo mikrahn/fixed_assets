{
 "cells": [
  {
   "cell_type": "code",
   "execution_count": 44,
   "metadata": {},
   "outputs": [],
   "source": [
    "import pandas as pd\n",
    "import numpy as np\n",
    "pd.set_option(\"display.expand_frame_repr\", False)\n",
    "pd.set_option(\"display.max_row\", 100)\n",
    "pd.set_option('display.max.columns', None)\n",
    "pd.set_option('display.precision', 2)\n",
    "pd.options.display.float_format = '${:,.2f}'.format\n",
    "from datetime import date, time, datetime, timedelta\n",
    "import dateutil\n",
    "from dateutil.relativedelta import relativedelta"
   ]
  },
  {
   "cell_type": "code",
   "execution_count": 85,
   "metadata": {},
   "outputs": [],
   "source": [
    "burke_rehab_assets_source = pd.read_csv(r\"C:\\Users\\Michael\\OneDrive\\Documents\\Work\\conversion\\SIT3\\sit3_environment\\fixed_assets\\source_files_2021\\burke\\Burke Rehab 2021 Merger draft v2.csv\",\n",
    "\n",
    "                                 usecols = ['Asset Display Id','Asset Tag Number','Account', 'Asset Class',\n",
    "                                            'Quantity', 'Asset Description', 'Acquisition Date','Historical Cost', ' Life Months ',\n",
    "                                           'Period Depreciation', 'Accumulated Depreciation', 'Net Book Value',])"
   ]
  },
  {
   "cell_type": "code",
   "execution_count": 86,
   "metadata": {},
   "outputs": [],
   "source": [
    "burke_rehab_assets_source.rename(columns={' Life Months ': 'Life Months'}, inplace=True)"
   ]
  },
  {
   "cell_type": "code",
   "execution_count": 129,
   "metadata": {},
   "outputs": [],
   "source": [
    "burke_covid_assets_source = pd.read_csv(r\"C:\\Users\\Michael\\OneDrive\\Documents\\Work\\conversion\\SIT3\\sit3_environment\\fixed_assets\\source_files_2021\\burke\\COVID Assets 2021 Draft v2.csv\",)\n"
   ]
  },
  {
   "cell_type": "code",
   "execution_count": 109,
   "metadata": {},
   "outputs": [],
   "source": [
    "burke_foundation_assets_source = pd.read_csv(r\"C:\\Users\\Michael\\OneDrive\\Documents\\Work\\conversion\\SIT3\\sit3_environment\\fixed_assets\\source_files_2021\\burke\\Burke Foundation Merger 2021 Draft.csv\",\n",
    "                                 usecols = ['Asset Display Id','Asset Tag Number','Account', 'Asset Class',\n",
    "                                            'Quantity', 'Asset Description', 'Acquisition Date','Historical Cost', 'Life Months',\n",
    "                                           'Period Depreciation', 'Accumulated Depreciation', 'Net Book Value',])"
   ]
  },
  {
   "cell_type": "code",
   "execution_count": 113,
   "metadata": {},
   "outputs": [],
   "source": [
    "# burke_rehab_assets_source.head()"
   ]
  },
  {
   "cell_type": "code",
   "execution_count": 114,
   "metadata": {},
   "outputs": [],
   "source": [
    "burke_rehab_assets_source['Life Months'].fillna(0, inplace=True)\n",
    "burke_rehab_assets_source['Quantity'].fillna(0, inplace=True)\n",
    "# burke_assets_source['Life Months'].fillna(0, inplace=True)\n",
    "burke_rehab_assets_source['Historical Cost'].fillna('', inplace=True)"
   ]
  },
  {
   "cell_type": "code",
   "execution_count": 115,
   "metadata": {},
   "outputs": [],
   "source": [
    "# burke_rehab_assets_source['Historical Cost'][burke_rehab_assets_source['Historical Cost'].str.isnumeric()]\n"
   ]
  },
  {
   "cell_type": "code",
   "execution_count": 116,
   "metadata": {},
   "outputs": [],
   "source": [
    "# burke_assets_source.loc[43627, 'Historical Cost'] = ''"
   ]
  },
  {
   "cell_type": "code",
   "execution_count": 117,
   "metadata": {},
   "outputs": [],
   "source": [
    "# burke_assets_source.loc[637, 'Historical Cost'] = ''"
   ]
  },
  {
   "cell_type": "code",
   "execution_count": 118,
   "metadata": {},
   "outputs": [],
   "source": [
    "# burke_assets_source[burke_assets_source['Historical Cost'] == '']"
   ]
  },
  {
   "cell_type": "code",
   "execution_count": 119,
   "metadata": {},
   "outputs": [],
   "source": [
    "# burke_assets_source.loc[43627, 'Historical Cost'] = ''"
   ]
  },
  {
   "cell_type": "code",
   "execution_count": 120,
   "metadata": {},
   "outputs": [],
   "source": [
    "# def ser_to_float(ser):\n",
    "#     ser = ser.str.strip()\n",
    "#     ser = ser.apply(lambda x: x.replace(' - ', 'NaN'))\n",
    "#     ser = ser.apply(lambda x: x.replace('-', 'NaN'))\n",
    "#     ser = ser.apply(lambda x: x.replace(',', ''))\n",
    "#     ser = ser.apply(lambda x: x.replace('-', 'Nan'))\n",
    "#     ser = ser.apply(lambda x: x.replace(' ', ''))\n",
    "#     ser = ser.apply(lambda x: x.replace('(', ''))\n",
    "#     ser = ser.apply(lambda x: x.replace(')', ''))\n",
    "#     ser = ser.astype(float)\n",
    "#     return ser"
   ]
  },
  {
   "cell_type": "code",
   "execution_count": 121,
   "metadata": {},
   "outputs": [],
   "source": [
    "# burke_rehab_assets_source['Historical Cost'] = ser_to_float(burke_rehab_assets_source['Historical Cost'])"
   ]
  },
  {
   "cell_type": "code",
   "execution_count": 122,
   "metadata": {},
   "outputs": [],
   "source": [
    "# burke_assets_source['Historical Cost'] = burke_assets_source['Historical Cost'].astype(float)"
   ]
  },
  {
   "cell_type": "code",
   "execution_count": 123,
   "metadata": {},
   "outputs": [],
   "source": [
    "# slc_num_rows = slc_assets_source.shape[0]\n",
    "# slc_num_missing = slc_num_rows - slc_assets_source.count()\n",
    "# slc_num_missing"
   ]
  },
  {
   "cell_type": "code",
   "execution_count": 124,
   "metadata": {},
   "outputs": [
    {
     "data": {
      "text/plain": [
       "Historical Cost            $153,192,311.57\n",
       "Period Depreciation          $4,594,635.61\n",
       "Accumulated Depreciation   $112,498,399.20\n",
       "Net Book Value              $40,693,912.37\n",
       "dtype: float64"
      ]
     },
     "execution_count": 124,
     "metadata": {},
     "output_type": "execute_result"
    }
   ],
   "source": [
    "burke_rehab_assets_source[['Historical Cost','Period Depreciation', 'Accumulated Depreciation',\n",
    "       'Net Book Value']].sum()"
   ]
  },
  {
   "cell_type": "code",
   "execution_count": 130,
   "metadata": {},
   "outputs": [
    {
     "data": {
      "text/plain": [
       "Historical Cost            $10,236,538.95\n",
       "Period Depreciation           $550,812.61\n",
       "Accumulated Depreciation      $676,387.27\n",
       "Net Book Value              $9,560,151.68\n",
       "dtype: float64"
      ]
     },
     "execution_count": 130,
     "metadata": {},
     "output_type": "execute_result"
    }
   ],
   "source": [
    "burke_covid_assets_source[['Historical Cost','Period Depreciation', 'Accumulated Depreciation',\n",
    "       'Net Book Value']].sum()"
   ]
  },
  {
   "cell_type": "code",
   "execution_count": 126,
   "metadata": {},
   "outputs": [
    {
     "data": {
      "text/plain": [
       "Historical Cost            $4,830,798.21\n",
       "Period Depreciation           $36,998.12\n",
       "Accumulated Depreciation   $4,693,446.48\n",
       "Net Book Value               $137,351.73\n",
       "dtype: float64"
      ]
     },
     "execution_count": 126,
     "metadata": {},
     "output_type": "execute_result"
    }
   ],
   "source": [
    "burke_foundation_assets_source[['Historical Cost','Period Depreciation', 'Accumulated Depreciation',\n",
    "       'Net Book Value']].sum()"
   ]
  },
  {
   "cell_type": "code",
   "execution_count": 20,
   "metadata": {},
   "outputs": [],
   "source": [
    "# burke_rehab_assets_source.info()"
   ]
  },
  {
   "cell_type": "code",
   "execution_count": 21,
   "metadata": {},
   "outputs": [],
   "source": [
    "# burke_rehab_assets_source['Asset Class'].unique()"
   ]
  },
  {
   "cell_type": "code",
   "execution_count": 22,
   "metadata": {},
   "outputs": [],
   "source": [
    "me_load_asset = pd.read_csv(r\"C:\\Users\\mikra\\OneDrive\\Documents\\Work\\conversion\\SIT3\\november_AX2\\fixed_assets\\Asset Download All Entities 113021.csv\")"
   ]
  },
  {
   "cell_type": "code",
   "execution_count": 23,
   "metadata": {},
   "outputs": [],
   "source": [
    "# me_load_asset.info()"
   ]
  },
  {
   "cell_type": "code",
   "execution_count": 24,
   "metadata": {},
   "outputs": [],
   "source": [
    "me_load_asset_book = pd.read_csv(r'C:\\Users\\mikra\\OneDrive\\Documents\\Work\\conversion\\SIT3\\november_AX2\\fixed_assets\\Entity_Asset_Book_Import.csv',\n",
    "                                usecols=['FinanceEnterpriseGroup', 'AssetImport', 'Book', 'RunGroup', 'Active', 'Life',\n",
    "                                         'LifeRemaining', 'Basis', 'Method', 'InServiceDate', 'Convention',\n",
    "                                         'YearToDateDepreciation', 'LifeToDateDepreciation'])\n"
   ]
  },
  {
   "cell_type": "code",
   "execution_count": 25,
   "metadata": {},
   "outputs": [],
   "source": [
    "# me_load_asset_book.info()"
   ]
  },
  {
   "cell_type": "code",
   "execution_count": 26,
   "metadata": {},
   "outputs": [],
   "source": [
    "# convert the me_load_asset_book series elements from int to string prior to converting to datetime\n",
    "\n",
    "me_load_asset_book['InServiceDate'] = me_load_asset_book['InServiceDate'].astype(str)\n",
    "\n",
    "# create a new column in me_load_asset_book that contains the 'InServiceDate' elements to datetime objects\n",
    "me_load_asset_book['InServiceDate_dt'] = pd.to_datetime(me_load_asset_book['InServiceDate'])\n",
    "\n",
    "# convert 'Life' column to float dtype\n",
    "\n",
    "me_load_asset_book['Life'] = me_load_asset_book['Life'].astype(float)"
   ]
  },
  {
   "cell_type": "code",
   "execution_count": 27,
   "metadata": {},
   "outputs": [
    {
     "data": {
      "text/plain": [
       "array(['BURKE_COVID_ASSET', 'BURKE_FOUNDATION_ASSET', 'BURK_REHAB_ASSET',\n",
       "       'SLH_ASSET', 'WPH_ASSET', 'NYK_ASSET'], dtype=object)"
      ]
     },
     "execution_count": 27,
     "metadata": {},
     "output_type": "execute_result"
    }
   ],
   "source": [
    "me_load_asset_book['RunGroup'].unique()"
   ]
  },
  {
   "cell_type": "code",
   "execution_count": 28,
   "metadata": {},
   "outputs": [],
   "source": [
    "burke_covid_asset_load = me_load_asset_book[me_load_asset_book['RunGroup'] == 'BURKE_COVID_ASSET']"
   ]
  },
  {
   "cell_type": "code",
   "execution_count": 29,
   "metadata": {},
   "outputs": [],
   "source": [
    "burke_foundation_asset_load = me_load_asset_book[me_load_asset_book['RunGroup'] == 'BURKE_FOUNDATION_ASSET']"
   ]
  },
  {
   "cell_type": "code",
   "execution_count": 30,
   "metadata": {},
   "outputs": [],
   "source": [
    "burke_rehab_asset_load = me_load_asset_book[me_load_asset_book['RunGroup'] == 'BURK_REHAB_ASSET']"
   ]
  },
  {
   "cell_type": "code",
   "execution_count": 31,
   "metadata": {},
   "outputs": [
    {
     "data": {
      "text/plain": [
       "637"
      ]
     },
     "execution_count": 31,
     "metadata": {},
     "output_type": "execute_result"
    }
   ],
   "source": [
    "burke_covid_asset_load['AssetImport'].count()"
   ]
  },
  {
   "cell_type": "code",
   "execution_count": 32,
   "metadata": {},
   "outputs": [
    {
     "data": {
      "text/plain": [
       "562"
      ]
     },
     "execution_count": 32,
     "metadata": {},
     "output_type": "execute_result"
    }
   ],
   "source": [
    "burke_foundation_asset_load['AssetImport'].count()"
   ]
  },
  {
   "cell_type": "code",
   "execution_count": 33,
   "metadata": {},
   "outputs": [
    {
     "data": {
      "text/plain": [
       "44126"
      ]
     },
     "execution_count": 33,
     "metadata": {},
     "output_type": "execute_result"
    }
   ],
   "source": [
    "burke_rehab_asset_load['AssetImport'].count()"
   ]
  },
  {
   "cell_type": "code",
   "execution_count": 34,
   "metadata": {},
   "outputs": [],
   "source": [
    "# burke_rehab_asset_load.head()"
   ]
  },
  {
   "cell_type": "code",
   "execution_count": 35,
   "metadata": {},
   "outputs": [
    {
     "name": "stderr",
     "output_type": "stream",
     "text": [
      "<ipython-input-35-2478293822fe>:2: SettingWithCopyWarning: \n",
      "A value is trying to be set on a copy of a slice from a DataFrame.\n",
      "Try using .loc[row_indexer,col_indexer] = value instead\n",
      "\n",
      "See the caveats in the documentation: https://pandas.pydata.org/pandas-docs/stable/user_guide/indexing.html#returning-a-view-versus-a-copy\n",
      "  burke_rehab_asset_load['aa_index'] = burke_rehab_asset_load['AssetImport'].apply(lambda x: int(x.split('_')[2]))\n"
     ]
    }
   ],
   "source": [
    "# create a column with index that corresponds to AssetImport the Burke source file\n",
    "burke_rehab_asset_load['aa_index'] = burke_rehab_asset_load['AssetImport'].apply(lambda x: int(x.split('_')[2]))"
   ]
  },
  {
   "cell_type": "code",
   "execution_count": 36,
   "metadata": {},
   "outputs": [],
   "source": [
    "# burke_rehab_asset_load.tail(10)"
   ]
  },
  {
   "cell_type": "code",
   "execution_count": 37,
   "metadata": {},
   "outputs": [],
   "source": [
    "# burke_rehab_asset_load.info()"
   ]
  },
  {
   "cell_type": "code",
   "execution_count": null,
   "metadata": {},
   "outputs": [],
   "source": []
  },
  {
   "cell_type": "code",
   "execution_count": 38,
   "metadata": {},
   "outputs": [],
   "source": [
    "# burke_rehab_assets_source.info()"
   ]
  },
  {
   "cell_type": "code",
   "execution_count": 39,
   "metadata": {},
   "outputs": [],
   "source": [
    "# merge the burtke_asset_load and burke source file columns on the common index \n",
    "burke_source_asset_merge = burke_rehab_asset_load.merge(burke_rehab_assets_source,how='inner',\n",
    "left_on=\"aa_index\", right_on='Asset Display Id')"
   ]
  },
  {
   "cell_type": "code",
   "execution_count": 40,
   "metadata": {},
   "outputs": [],
   "source": [
    "# burke_source_asset_merge.info()"
   ]
  },
  {
   "cell_type": "code",
   "execution_count": 41,
   "metadata": {},
   "outputs": [],
   "source": [
    "# burke_source_asset_merge.columns"
   ]
  },
  {
   "cell_type": "code",
   "execution_count": 42,
   "metadata": {},
   "outputs": [
    {
     "data": {
      "text/plain": [
       "Basis                      $150,101,007.32\n",
       "Historical Cost            $150,101,007.32\n",
       "LifeToDateDepreciation     $107,898,431.37\n",
       "Accumulated Depreciation   $107,899,092.00\n",
       "Net Book Value              $42,202,856.00\n",
       "dtype: float64"
      ]
     },
     "execution_count": 42,
     "metadata": {},
     "output_type": "execute_result"
    }
   ],
   "source": [
    "burke_source_asset_merge[['Basis', 'Historical Cost', 'LifeToDateDepreciation', 'Accumulated Depreciation' , 'Net Book Value' ]].sum()"
   ]
  },
  {
   "cell_type": "code",
   "execution_count": 44,
   "metadata": {},
   "outputs": [
    {
     "data": {
      "text/plain": [
       "Historical Cost            $150,101,007.32\n",
       "Period Depreciation          $4,445,144.00\n",
       "Accumulated Depreciation   $107,899,092.00\n",
       "Net Book Value              $42,202,856.00\n",
       "dtype: float64"
      ]
     },
     "execution_count": 44,
     "metadata": {},
     "output_type": "execute_result"
    }
   ],
   "source": [
    "burke_rehab_assets_source[['Historical Cost','Period Depreciation', 'Accumulated Depreciation',\n",
    "       'Net Book Value']].sum()"
   ]
  },
  {
   "cell_type": "code",
   "execution_count": 44,
   "metadata": {},
   "outputs": [
    {
     "data": {
      "text/html": [
       "<div>\n",
       "<style scoped>\n",
       "    .dataframe tbody tr th:only-of-type {\n",
       "        vertical-align: middle;\n",
       "    }\n",
       "\n",
       "    .dataframe tbody tr th {\n",
       "        vertical-align: top;\n",
       "    }\n",
       "\n",
       "    .dataframe thead th {\n",
       "        text-align: right;\n",
       "    }\n",
       "</style>\n",
       "<table border=\"1\" class=\"dataframe\">\n",
       "  <thead>\n",
       "    <tr style=\"text-align: right;\">\n",
       "      <th></th>\n",
       "      <th>FinanceEnterpriseGroup</th>\n",
       "      <th>AssetImport</th>\n",
       "      <th>Book</th>\n",
       "      <th>RunGroup</th>\n",
       "      <th>Active</th>\n",
       "      <th>Life</th>\n",
       "      <th>LifeRemaining</th>\n",
       "      <th>Basis</th>\n",
       "      <th>Method</th>\n",
       "      <th>InServiceDate</th>\n",
       "      <th>Convention</th>\n",
       "      <th>YearToDateDepreciation</th>\n",
       "      <th>LifeToDateDepreciation</th>\n",
       "      <th>InServiceDate_dt</th>\n",
       "      <th>aa_index</th>\n",
       "      <th>Asset Display Id</th>\n",
       "      <th>Asset Tag Number</th>\n",
       "      <th>Account</th>\n",
       "      <th>Asset Class</th>\n",
       "      <th>Quantity</th>\n",
       "      <th>Asset Description</th>\n",
       "      <th>Acquisition Date</th>\n",
       "      <th>Historical Cost</th>\n",
       "      <th>Life Months</th>\n",
       "      <th>Period Depreciation</th>\n",
       "      <th>Accumulated Depreciation</th>\n",
       "      <th>Net Book Value</th>\n",
       "    </tr>\n",
       "  </thead>\n",
       "  <tbody>\n",
       "  </tbody>\n",
       "</table>\n",
       "</div>"
      ],
      "text/plain": [
       "Empty DataFrame\n",
       "Columns: [FinanceEnterpriseGroup, AssetImport, Book, RunGroup, Active, Life, LifeRemaining, Basis, Method, InServiceDate, Convention, YearToDateDepreciation, LifeToDateDepreciation, InServiceDate_dt, aa_index, Asset Display Id, Asset Tag Number, Account, Asset Class, Quantity, Asset Description, Acquisition Date, Historical Cost, Life Months, Period Depreciation, Accumulated Depreciation, Net Book Value]\n",
       "Index: []"
      ]
     },
     "execution_count": 44,
     "metadata": {},
     "output_type": "execute_result"
    }
   ],
   "source": [
    "# there are two assets for which the book_file 'Basis' does not equal the source file cost\n",
    "burke_source_asset_merge[burke_source_asset_merge['Basis'] != burke_source_asset_merge['Historical Cost']]"
   ]
  },
  {
   "cell_type": "code",
   "execution_count": 45,
   "metadata": {},
   "outputs": [],
   "source": [
    "# there are three assets for which the book load file 'LifeToDateDepreciation' does not equal the source file 'Accum Deprec'\n",
    "# burke_source_asset_merge[burke_source_asset_merge['LifeToDateDepreciation'] != burke_source_asset_merge['Accumulated Depreciation']]"
   ]
  },
  {
   "cell_type": "markdown",
   "metadata": {},
   "source": [
    "### need to tie these numbers to the burke trial balance and audit reconciliation"
   ]
  },
  {
   "cell_type": "markdown",
   "metadata": {},
   "source": [
    "### Comparison of Burke source_asset_merge with FSM asset register"
   ]
  },
  {
   "cell_type": "code",
   "execution_count": 45,
   "metadata": {},
   "outputs": [],
   "source": [
    "asset_download_all_entities = pd.read_csv(r\"C:\\Users\\mikra\\OneDrive\\Documents\\Work\\conversion\\SIT3\\november_AX2\\fixed_assets\\Asset Download All Entities 113021.csv\")\n",
    "\n"
   ]
  },
  {
   "cell_type": "code",
   "execution_count": 46,
   "metadata": {},
   "outputs": [],
   "source": [
    "# asset_download_all_entities.info()"
   ]
  },
  {
   "cell_type": "code",
   "execution_count": 47,
   "metadata": {},
   "outputs": [],
   "source": [
    "# asset_download_all_entities.head()"
   ]
  },
  {
   "cell_type": "code",
   "execution_count": 48,
   "metadata": {},
   "outputs": [],
   "source": [
    "# replace 'NaN' in company column for a record\n",
    "# asset_download_all_entities.loc[126381, 'Company'] = ''"
   ]
  },
  {
   "cell_type": "code",
   "execution_count": 49,
   "metadata": {},
   "outputs": [
    {
     "data": {
      "text/html": [
       "<div>\n",
       "<style scoped>\n",
       "    .dataframe tbody tr th:only-of-type {\n",
       "        vertical-align: middle;\n",
       "    }\n",
       "\n",
       "    .dataframe tbody tr th {\n",
       "        vertical-align: top;\n",
       "    }\n",
       "\n",
       "    .dataframe thead th {\n",
       "        text-align: right;\n",
       "    }\n",
       "</style>\n",
       "<table border=\"1\" class=\"dataframe\">\n",
       "  <thead>\n",
       "    <tr style=\"text-align: right;\">\n",
       "      <th></th>\n",
       "      <th>FinanceEnterpriseGroup</th>\n",
       "      <th>Asset</th>\n",
       "      <th>Reference1</th>\n",
       "      <th>Description</th>\n",
       "      <th>Company</th>\n",
       "      <th>ItemTotalBaseCost</th>\n",
       "      <th>ItemTotalTransactionCost</th>\n",
       "      <th>TotalItemsBaseCost</th>\n",
       "      <th>PostingBookBasis</th>\n",
       "      <th>PostingBookBookValue</th>\n",
       "      <th>TotalAccumulatedDepreciation</th>\n",
       "      <th>DepreciationToAssetCost</th>\n",
       "      <th>AssetBookValue</th>\n",
       "      <th>PostingBookValue</th>\n",
       "      <th>RemainingDepreciation</th>\n",
       "      <th>LTDDepreciationExpense</th>\n",
       "    </tr>\n",
       "  </thead>\n",
       "  <tbody>\n",
       "  </tbody>\n",
       "</table>\n",
       "</div>"
      ],
      "text/plain": [
       "Empty DataFrame\n",
       "Columns: [FinanceEnterpriseGroup, Asset, Reference1, Description, Company, ItemTotalBaseCost, ItemTotalTransactionCost, TotalItemsBaseCost, PostingBookBasis, PostingBookBookValue, TotalAccumulatedDepreciation, DepreciationToAssetCost, AssetBookValue, PostingBookValue, RemainingDepreciation, LTDDepreciationExpense]\n",
       "Index: []"
      ]
     },
     "execution_count": 49,
     "metadata": {},
     "output_type": "execute_result"
    }
   ],
   "source": [
    "# look for NaN values in the company column\n",
    "asset_download_all_entities[asset_download_all_entities['Company'].isna()]"
   ]
  },
  {
   "cell_type": "code",
   "execution_count": 50,
   "metadata": {},
   "outputs": [],
   "source": [
    "# cast the company column as a string and strip out the excess digits\n",
    "asset_download_all_entities['Company'] = asset_download_all_entities['Company'].astype('str').apply(lambda x: x[:4])"
   ]
  },
  {
   "cell_type": "code",
   "execution_count": 51,
   "metadata": {},
   "outputs": [],
   "source": [
    "fsm_asset_register_groupby_company = asset_download_all_entities.groupby('Company')"
   ]
  },
  {
   "cell_type": "code",
   "execution_count": 52,
   "metadata": {},
   "outputs": [
    {
     "data": {
      "text/plain": [
       "dict_keys(['2000', '2010', '2020', '2030', '2040', '2050', '2060', '2100', '2200', '2300', '2400', '2600', '3000', '3010', '3020', '3060', '3080', '3090'])"
      ]
     },
     "execution_count": 52,
     "metadata": {},
     "output_type": "execute_result"
    }
   ],
   "source": [
    "fsm_asset_register_groupby_company.groups.keys()"
   ]
  },
  {
   "cell_type": "markdown",
   "metadata": {},
   "source": [
    "### Find Burke 2200 records that are missing from the FSM asset register"
   ]
  },
  {
   "cell_type": "code",
   "execution_count": 53,
   "metadata": {},
   "outputs": [],
   "source": [
    "burke_group_2200 = fsm_asset_register_groupby_company.get_group('2200')"
   ]
  },
  {
   "cell_type": "code",
   "execution_count": 54,
   "metadata": {},
   "outputs": [],
   "source": [
    "# burke_group_2200.info()"
   ]
  },
  {
   "cell_type": "code",
   "execution_count": 55,
   "metadata": {},
   "outputs": [
    {
     "data": {
      "text/plain": [
       "156293928.19"
      ]
     },
     "execution_count": 55,
     "metadata": {},
     "output_type": "execute_result"
    }
   ],
   "source": [
    "burke_group_2200['PostingBookBasis'].sum()"
   ]
  },
  {
   "cell_type": "code",
   "execution_count": 57,
   "metadata": {},
   "outputs": [
    {
     "data": {
      "text/html": [
       "<div>\n",
       "<style scoped>\n",
       "    .dataframe tbody tr th:only-of-type {\n",
       "        vertical-align: middle;\n",
       "    }\n",
       "\n",
       "    .dataframe tbody tr th {\n",
       "        vertical-align: top;\n",
       "    }\n",
       "\n",
       "    .dataframe thead th {\n",
       "        text-align: right;\n",
       "    }\n",
       "</style>\n",
       "<table border=\"1\" class=\"dataframe\">\n",
       "  <thead>\n",
       "    <tr style=\"text-align: right;\">\n",
       "      <th></th>\n",
       "      <th>FinanceEnterpriseGroup</th>\n",
       "      <th>Asset</th>\n",
       "      <th>Reference1</th>\n",
       "      <th>Description</th>\n",
       "      <th>Company</th>\n",
       "      <th>ItemTotalBaseCost</th>\n",
       "      <th>ItemTotalTransactionCost</th>\n",
       "      <th>TotalItemsBaseCost</th>\n",
       "      <th>PostingBookBasis</th>\n",
       "      <th>PostingBookBookValue</th>\n",
       "      <th>TotalAccumulatedDepreciation</th>\n",
       "      <th>DepreciationToAssetCost</th>\n",
       "      <th>AssetBookValue</th>\n",
       "      <th>PostingBookValue</th>\n",
       "      <th>RemainingDepreciation</th>\n",
       "      <th>LTDDepreciationExpense</th>\n",
       "    </tr>\n",
       "  </thead>\n",
       "  <tbody>\n",
       "    <tr>\n",
       "      <th>31585</th>\n",
       "      <td>1</td>\n",
       "      <td>31646</td>\n",
       "      <td>BURK_REHAB_1</td>\n",
       "      <td>SCALE UPGRADES ADVANCE</td>\n",
       "      <td>2200</td>\n",
       "      <td>$2,795.65</td>\n",
       "      <td>$2,795.65</td>\n",
       "      <td>$2,795.65</td>\n",
       "      <td>$2,795.65</td>\n",
       "      <td>$0.00</td>\n",
       "      <td>$2,795.65</td>\n",
       "      <td>$1.00</td>\n",
       "      <td>$0.00</td>\n",
       "      <td>$2,795.65</td>\n",
       "      <td>$-2,795.65</td>\n",
       "      <td>0</td>\n",
       "    </tr>\n",
       "    <tr>\n",
       "      <th>31586</th>\n",
       "      <td>1</td>\n",
       "      <td>31647</td>\n",
       "      <td>BURK_REHAB_10</td>\n",
       "      <td>CHAIR OPER SECRETARIAL</td>\n",
       "      <td>2200</td>\n",
       "      <td>$116.09</td>\n",
       "      <td>$116.09</td>\n",
       "      <td>$116.09</td>\n",
       "      <td>$116.09</td>\n",
       "      <td>$0.00</td>\n",
       "      <td>$116.09</td>\n",
       "      <td>$1.00</td>\n",
       "      <td>$0.00</td>\n",
       "      <td>$116.09</td>\n",
       "      <td>$-116.09</td>\n",
       "      <td>0</td>\n",
       "    </tr>\n",
       "    <tr>\n",
       "      <th>31587</th>\n",
       "      <td>1</td>\n",
       "      <td>31648</td>\n",
       "      <td>BURK_REHAB_100</td>\n",
       "      <td>COMPUTER PERSONAL</td>\n",
       "      <td>2200</td>\n",
       "      <td>$1,964.57</td>\n",
       "      <td>$1,964.57</td>\n",
       "      <td>$1,964.57</td>\n",
       "      <td>$1,964.57</td>\n",
       "      <td>$0.00</td>\n",
       "      <td>$1,964.57</td>\n",
       "      <td>$1.00</td>\n",
       "      <td>$0.00</td>\n",
       "      <td>$1,964.57</td>\n",
       "      <td>$-1,964.57</td>\n",
       "      <td>0</td>\n",
       "    </tr>\n",
       "    <tr>\n",
       "      <th>31588</th>\n",
       "      <td>1</td>\n",
       "      <td>31649</td>\n",
       "      <td>BURK_REHAB_1000</td>\n",
       "      <td>DESK SP MTL 48X30</td>\n",
       "      <td>2200</td>\n",
       "      <td>$123.00</td>\n",
       "      <td>$123.00</td>\n",
       "      <td>$123.00</td>\n",
       "      <td>$123.00</td>\n",
       "      <td>$0.00</td>\n",
       "      <td>$123.00</td>\n",
       "      <td>$1.00</td>\n",
       "      <td>$0.00</td>\n",
       "      <td>$123.00</td>\n",
       "      <td>$-123.00</td>\n",
       "      <td>0</td>\n",
       "    </tr>\n",
       "    <tr>\n",
       "      <th>31589</th>\n",
       "      <td>1</td>\n",
       "      <td>31650</td>\n",
       "      <td>BURK_REHAB_1001</td>\n",
       "      <td>DESK SP 45X30</td>\n",
       "      <td>2200</td>\n",
       "      <td>$77.00</td>\n",
       "      <td>$77.00</td>\n",
       "      <td>$77.00</td>\n",
       "      <td>$77.00</td>\n",
       "      <td>$0.00</td>\n",
       "      <td>$77.00</td>\n",
       "      <td>$1.00</td>\n",
       "      <td>$0.00</td>\n",
       "      <td>$77.00</td>\n",
       "      <td>$-77.00</td>\n",
       "      <td>0</td>\n",
       "    </tr>\n",
       "    <tr>\n",
       "      <th>...</th>\n",
       "      <td>...</td>\n",
       "      <td>...</td>\n",
       "      <td>...</td>\n",
       "      <td>...</td>\n",
       "      <td>...</td>\n",
       "      <td>...</td>\n",
       "      <td>...</td>\n",
       "      <td>...</td>\n",
       "      <td>...</td>\n",
       "      <td>...</td>\n",
       "      <td>...</td>\n",
       "      <td>...</td>\n",
       "      <td>...</td>\n",
       "      <td>...</td>\n",
       "      <td>...</td>\n",
       "      <td>...</td>\n",
       "    </tr>\n",
       "    <tr>\n",
       "      <th>75706</th>\n",
       "      <td>1</td>\n",
       "      <td>75767</td>\n",
       "      <td>BURK_REHAB_995</td>\n",
       "      <td>FILES 4DRWR LOCK</td>\n",
       "      <td>2200</td>\n",
       "      <td>$85.00</td>\n",
       "      <td>$85.00</td>\n",
       "      <td>$85.00</td>\n",
       "      <td>$85.00</td>\n",
       "      <td>$0.00</td>\n",
       "      <td>$85.00</td>\n",
       "      <td>$1.00</td>\n",
       "      <td>$0.00</td>\n",
       "      <td>$85.00</td>\n",
       "      <td>$-85.00</td>\n",
       "      <td>0</td>\n",
       "    </tr>\n",
       "    <tr>\n",
       "      <th>75707</th>\n",
       "      <td>1</td>\n",
       "      <td>75768</td>\n",
       "      <td>BURK_REHAB_996</td>\n",
       "      <td>FILES 4DRWR LOCK</td>\n",
       "      <td>2200</td>\n",
       "      <td>$85.00</td>\n",
       "      <td>$85.00</td>\n",
       "      <td>$85.00</td>\n",
       "      <td>$85.00</td>\n",
       "      <td>$0.00</td>\n",
       "      <td>$85.00</td>\n",
       "      <td>$1.00</td>\n",
       "      <td>$0.00</td>\n",
       "      <td>$85.00</td>\n",
       "      <td>$-85.00</td>\n",
       "      <td>0</td>\n",
       "    </tr>\n",
       "    <tr>\n",
       "      <th>75708</th>\n",
       "      <td>1</td>\n",
       "      <td>75769</td>\n",
       "      <td>BURK_REHAB_997</td>\n",
       "      <td>FILES 4DRWR LOCK</td>\n",
       "      <td>2200</td>\n",
       "      <td>$85.00</td>\n",
       "      <td>$85.00</td>\n",
       "      <td>$85.00</td>\n",
       "      <td>$85.00</td>\n",
       "      <td>$0.00</td>\n",
       "      <td>$85.00</td>\n",
       "      <td>$1.00</td>\n",
       "      <td>$0.00</td>\n",
       "      <td>$85.00</td>\n",
       "      <td>$-85.00</td>\n",
       "      <td>0</td>\n",
       "    </tr>\n",
       "    <tr>\n",
       "      <th>75709</th>\n",
       "      <td>1</td>\n",
       "      <td>75770</td>\n",
       "      <td>BURK_REHAB_998</td>\n",
       "      <td>CHAIR SIDE MTL</td>\n",
       "      <td>2200</td>\n",
       "      <td>$21.00</td>\n",
       "      <td>$21.00</td>\n",
       "      <td>$21.00</td>\n",
       "      <td>$21.00</td>\n",
       "      <td>$0.00</td>\n",
       "      <td>$21.00</td>\n",
       "      <td>$1.00</td>\n",
       "      <td>$0.00</td>\n",
       "      <td>$21.00</td>\n",
       "      <td>$-21.00</td>\n",
       "      <td>0</td>\n",
       "    </tr>\n",
       "    <tr>\n",
       "      <th>75710</th>\n",
       "      <td>1</td>\n",
       "      <td>75771</td>\n",
       "      <td>BURK_REHAB_999</td>\n",
       "      <td>CHAIR LOUNGE UPHOL</td>\n",
       "      <td>2200</td>\n",
       "      <td>$149.00</td>\n",
       "      <td>$149.00</td>\n",
       "      <td>$149.00</td>\n",
       "      <td>$149.00</td>\n",
       "      <td>$0.00</td>\n",
       "      <td>$149.00</td>\n",
       "      <td>$1.00</td>\n",
       "      <td>$0.00</td>\n",
       "      <td>$149.00</td>\n",
       "      <td>$-149.00</td>\n",
       "      <td>0</td>\n",
       "    </tr>\n",
       "  </tbody>\n",
       "</table>\n",
       "<p>44126 rows × 16 columns</p>\n",
       "</div>"
      ],
      "text/plain": [
       "       FinanceEnterpriseGroup  Asset       Reference1             Description Company  ItemTotalBaseCost  ItemTotalTransactionCost  TotalItemsBaseCost  PostingBookBasis  PostingBookBookValue  TotalAccumulatedDepreciation  DepreciationToAssetCost  AssetBookValue  PostingBookValue  RemainingDepreciation  LTDDepreciationExpense\n",
       "31585                       1  31646     BURK_REHAB_1  SCALE UPGRADES ADVANCE    2200          $2,795.65                 $2,795.65           $2,795.65         $2,795.65                 $0.00                     $2,795.65                    $1.00           $0.00         $2,795.65             $-2,795.65                       0\n",
       "31586                       1  31647    BURK_REHAB_10  CHAIR OPER SECRETARIAL    2200            $116.09                   $116.09             $116.09           $116.09                 $0.00                       $116.09                    $1.00           $0.00           $116.09               $-116.09                       0\n",
       "31587                       1  31648   BURK_REHAB_100       COMPUTER PERSONAL    2200          $1,964.57                 $1,964.57           $1,964.57         $1,964.57                 $0.00                     $1,964.57                    $1.00           $0.00         $1,964.57             $-1,964.57                       0\n",
       "31588                       1  31649  BURK_REHAB_1000       DESK SP MTL 48X30    2200            $123.00                   $123.00             $123.00           $123.00                 $0.00                       $123.00                    $1.00           $0.00           $123.00               $-123.00                       0\n",
       "31589                       1  31650  BURK_REHAB_1001           DESK SP 45X30    2200             $77.00                    $77.00              $77.00            $77.00                 $0.00                        $77.00                    $1.00           $0.00            $77.00                $-77.00                       0\n",
       "...                       ...    ...              ...                     ...     ...                ...                       ...                 ...               ...                   ...                           ...                      ...             ...               ...                    ...                     ...\n",
       "75706                       1  75767   BURK_REHAB_995        FILES 4DRWR LOCK    2200             $85.00                    $85.00              $85.00            $85.00                 $0.00                        $85.00                    $1.00           $0.00            $85.00                $-85.00                       0\n",
       "75707                       1  75768   BURK_REHAB_996        FILES 4DRWR LOCK    2200             $85.00                    $85.00              $85.00            $85.00                 $0.00                        $85.00                    $1.00           $0.00            $85.00                $-85.00                       0\n",
       "75708                       1  75769   BURK_REHAB_997        FILES 4DRWR LOCK    2200             $85.00                    $85.00              $85.00            $85.00                 $0.00                        $85.00                    $1.00           $0.00            $85.00                $-85.00                       0\n",
       "75709                       1  75770   BURK_REHAB_998          CHAIR SIDE MTL    2200             $21.00                    $21.00              $21.00            $21.00                 $0.00                        $21.00                    $1.00           $0.00            $21.00                $-21.00                       0\n",
       "75710                       1  75771   BURK_REHAB_999      CHAIR LOUNGE UPHOL    2200            $149.00                   $149.00             $149.00           $149.00                 $0.00                       $149.00                    $1.00           $0.00           $149.00               $-149.00                       0\n",
       "\n",
       "[44126 rows x 16 columns]"
      ]
     },
     "execution_count": 57,
     "metadata": {},
     "output_type": "execute_result"
    }
   ],
   "source": [
    "burke_rehab_group = burke_group_2200[burke_group_2200['Reference1'].str.contains('REHAB')]\n",
    "burke_rehab_group"
   ]
  },
  {
   "cell_type": "code",
   "execution_count": 58,
   "metadata": {},
   "outputs": [
    {
     "data": {
      "text/plain": [
       "PostingBookBasis               $150,101,007.32\n",
       "TotalAccumulatedDepreciation   $107,898,431.37\n",
       "PostingBookBookValue            $42,202,575.95\n",
       "dtype: float64"
      ]
     },
     "execution_count": 58,
     "metadata": {},
     "output_type": "execute_result"
    }
   ],
   "source": [
    "burke_rehab_group[['PostingBookBasis','TotalAccumulatedDepreciation','PostingBookBookValue']].sum()"
   ]
  },
  {
   "cell_type": "code",
   "execution_count": 59,
   "metadata": {},
   "outputs": [
    {
     "data": {
      "text/plain": [
       "Index(['FinanceEnterpriseGroup', 'AssetImport', 'Book', 'RunGroup', 'Active',\n",
       "       'Life', 'LifeRemaining', 'Basis', 'Method', 'InServiceDate',\n",
       "       'Convention', 'YearToDateDepreciation', 'LifeToDateDepreciation',\n",
       "       'InServiceDate_dt', 'aa_index', 'Asset Display Id', 'Asset Tag Number',\n",
       "       'Account', 'Asset Class', 'Quantity', 'Asset Description',\n",
       "       'Acquisition Date', 'Historical Cost', 'Life Months',\n",
       "       'Period Depreciation', 'Accumulated Depreciation', 'Net Book Value'],\n",
       "      dtype='object')"
      ]
     },
     "execution_count": 59,
     "metadata": {},
     "output_type": "execute_result"
    }
   ],
   "source": [
    "burke_source_asset_merge.columns"
   ]
  },
  {
   "cell_type": "code",
   "execution_count": 60,
   "metadata": {},
   "outputs": [
    {
     "data": {
      "text/plain": [
       "Basis                      $150,101,007.32\n",
       "Historical Cost            $150,101,007.32\n",
       "LifeToDateDepreciation     $107,898,431.37\n",
       "Accumulated Depreciation   $107,899,092.00\n",
       "Net Book Value              $42,202,856.00\n",
       "dtype: float64"
      ]
     },
     "execution_count": 60,
     "metadata": {},
     "output_type": "execute_result"
    }
   ],
   "source": [
    "burke_source_asset_merge[['Basis', 'Historical Cost', 'LifeToDateDepreciation', 'Accumulated Depreciation' , 'Net Book Value' ]].sum()"
   ]
  },
  {
   "cell_type": "code",
   "execution_count": 61,
   "metadata": {},
   "outputs": [],
   "source": [
    "# burke_rehab_group"
   ]
  },
  {
   "cell_type": "code",
   "execution_count": 61,
   "metadata": {},
   "outputs": [
    {
     "name": "stderr",
     "output_type": "stream",
     "text": [
      "<ipython-input-61-b57011b7c8c1>:2: SettingWithCopyWarning: \n",
      "A value is trying to be set on a copy of a slice from a DataFrame.\n",
      "Try using .loc[row_indexer,col_indexer] = value instead\n",
      "\n",
      "See the caveats in the documentation: https://pandas.pydata.org/pandas-docs/stable/user_guide/indexing.html#returning-a-view-versus-a-copy\n",
      "  burke_rehab_group['merge_index'] = burke_rehab_group['Reference1'].apply(lambda x: int(x.split('_')[2]))\n"
     ]
    }
   ],
   "source": [
    "# create a new index column called 'merge_index' to match the 'M_ID' column in the aa_load_merge file\n",
    "burke_rehab_group['merge_index'] = burke_rehab_group['Reference1'].apply(lambda x: int(x.split('_')[2]))"
   ]
  },
  {
   "cell_type": "code",
   "execution_count": 62,
   "metadata": {},
   "outputs": [],
   "source": [
    "burke_rehab_group = burke_rehab_group.set_index('merge_index',)"
   ]
  },
  {
   "cell_type": "code",
   "execution_count": 63,
   "metadata": {},
   "outputs": [],
   "source": [
    "burke_rehab_group = burke_rehab_group.sort_index()"
   ]
  },
  {
   "cell_type": "code",
   "execution_count": 64,
   "metadata": {},
   "outputs": [],
   "source": [
    "burke_rehab_group['cbiz_index'] = burke_rehab_group['Reference1'].apply(lambda x: int(x.split('_')[2]))"
   ]
  },
  {
   "cell_type": "code",
   "execution_count": 65,
   "metadata": {},
   "outputs": [],
   "source": [
    "# burke_source_asset_merge.info()"
   ]
  },
  {
   "cell_type": "code",
   "execution_count": 66,
   "metadata": {},
   "outputs": [],
   "source": [
    "# burke_source_asset_merge.head()"
   ]
  },
  {
   "cell_type": "code",
   "execution_count": 67,
   "metadata": {},
   "outputs": [],
   "source": [
    "burke_source_asset_merge = burke_source_asset_merge.set_index('Asset Display Id')"
   ]
  },
  {
   "cell_type": "code",
   "execution_count": 68,
   "metadata": {},
   "outputs": [
    {
     "data": {
      "text/html": [
       "<div>\n",
       "<style scoped>\n",
       "    .dataframe tbody tr th:only-of-type {\n",
       "        vertical-align: middle;\n",
       "    }\n",
       "\n",
       "    .dataframe tbody tr th {\n",
       "        vertical-align: top;\n",
       "    }\n",
       "\n",
       "    .dataframe thead th {\n",
       "        text-align: right;\n",
       "    }\n",
       "</style>\n",
       "<table border=\"1\" class=\"dataframe\">\n",
       "  <thead>\n",
       "    <tr style=\"text-align: right;\">\n",
       "      <th></th>\n",
       "      <th>FinanceEnterpriseGroup</th>\n",
       "      <th>AssetImport</th>\n",
       "      <th>Book</th>\n",
       "      <th>RunGroup</th>\n",
       "      <th>Active</th>\n",
       "      <th>Life</th>\n",
       "      <th>LifeRemaining</th>\n",
       "      <th>Basis</th>\n",
       "      <th>Method</th>\n",
       "      <th>InServiceDate</th>\n",
       "      <th>Convention</th>\n",
       "      <th>YearToDateDepreciation</th>\n",
       "      <th>LifeToDateDepreciation</th>\n",
       "      <th>InServiceDate_dt</th>\n",
       "      <th>aa_index</th>\n",
       "      <th>Asset Tag Number</th>\n",
       "      <th>Account</th>\n",
       "      <th>Asset Class</th>\n",
       "      <th>Quantity</th>\n",
       "      <th>Asset Description</th>\n",
       "      <th>Acquisition Date</th>\n",
       "      <th>Historical Cost</th>\n",
       "      <th>Life Months</th>\n",
       "      <th>Period Depreciation</th>\n",
       "      <th>Accumulated Depreciation</th>\n",
       "      <th>Net Book Value</th>\n",
       "    </tr>\n",
       "    <tr>\n",
       "      <th>Asset Display Id</th>\n",
       "      <th></th>\n",
       "      <th></th>\n",
       "      <th></th>\n",
       "      <th></th>\n",
       "      <th></th>\n",
       "      <th></th>\n",
       "      <th></th>\n",
       "      <th></th>\n",
       "      <th></th>\n",
       "      <th></th>\n",
       "      <th></th>\n",
       "      <th></th>\n",
       "      <th></th>\n",
       "      <th></th>\n",
       "      <th></th>\n",
       "      <th></th>\n",
       "      <th></th>\n",
       "      <th></th>\n",
       "      <th></th>\n",
       "      <th></th>\n",
       "      <th></th>\n",
       "      <th></th>\n",
       "      <th></th>\n",
       "      <th></th>\n",
       "      <th></th>\n",
       "      <th></th>\n",
       "    </tr>\n",
       "  </thead>\n",
       "  <tbody>\n",
       "    <tr>\n",
       "      <th>1</th>\n",
       "      <td>1</td>\n",
       "      <td>BURK_REHAB_1</td>\n",
       "      <td>GL</td>\n",
       "      <td>BURK_REHAB_ASSET</td>\n",
       "      <td>True</td>\n",
       "      <td>$120.00</td>\n",
       "      <td>0</td>\n",
       "      <td>$2,795.65</td>\n",
       "      <td>SL</td>\n",
       "      <td>19960701</td>\n",
       "      <td>HY</td>\n",
       "      <td>NaN</td>\n",
       "      <td>$2,795.65</td>\n",
       "      <td>1996-07-01</td>\n",
       "      <td>1</td>\n",
       "      <td>12141</td>\n",
       "      <td>MAJOR MOVABLE EQUIPMENT-NEW</td>\n",
       "      <td>MEDICAL EQUIPMENT</td>\n",
       "      <td>1</td>\n",
       "      <td>SCALE UPGRADES ADVANCE</td>\n",
       "      <td>7/1/1996</td>\n",
       "      <td>$2,795.65</td>\n",
       "      <td>$120.00</td>\n",
       "      <td>$0.00</td>\n",
       "      <td>$2,796.00</td>\n",
       "      <td>$0.00</td>\n",
       "    </tr>\n",
       "    <tr>\n",
       "      <th>2</th>\n",
       "      <td>1</td>\n",
       "      <td>BURK_REHAB_2</td>\n",
       "      <td>GL</td>\n",
       "      <td>BURK_REHAB_ASSET</td>\n",
       "      <td>True</td>\n",
       "      <td>$240.00</td>\n",
       "      <td>0</td>\n",
       "      <td>$514.65</td>\n",
       "      <td>SL</td>\n",
       "      <td>19960701</td>\n",
       "      <td>HY</td>\n",
       "      <td>NaN</td>\n",
       "      <td>$514.65</td>\n",
       "      <td>1996-07-01</td>\n",
       "      <td>2</td>\n",
       "      <td>12168</td>\n",
       "      <td>MAJOR MOVABLE EQUIPMENT-NEW</td>\n",
       "      <td>FURNITURE AND ACCESSORIES</td>\n",
       "      <td>1</td>\n",
       "      <td>BOOKCASE OPEN</td>\n",
       "      <td>7/1/1996</td>\n",
       "      <td>$514.65</td>\n",
       "      <td>$240.00</td>\n",
       "      <td>$0.00</td>\n",
       "      <td>$515.00</td>\n",
       "      <td>$0.00</td>\n",
       "    </tr>\n",
       "    <tr>\n",
       "      <th>3</th>\n",
       "      <td>1</td>\n",
       "      <td>BURK_REHAB_3</td>\n",
       "      <td>GL</td>\n",
       "      <td>BURK_REHAB_ASSET</td>\n",
       "      <td>True</td>\n",
       "      <td>$240.00</td>\n",
       "      <td>0</td>\n",
       "      <td>$514.65</td>\n",
       "      <td>SL</td>\n",
       "      <td>19960701</td>\n",
       "      <td>HY</td>\n",
       "      <td>NaN</td>\n",
       "      <td>$514.65</td>\n",
       "      <td>1996-07-01</td>\n",
       "      <td>3</td>\n",
       "      <td>12169</td>\n",
       "      <td>MAJOR MOVABLE EQUIPMENT-NEW</td>\n",
       "      <td>FURNITURE AND ACCESSORIES</td>\n",
       "      <td>1</td>\n",
       "      <td>BOOKCASE OPEN</td>\n",
       "      <td>7/1/1996</td>\n",
       "      <td>$514.65</td>\n",
       "      <td>$240.00</td>\n",
       "      <td>$0.00</td>\n",
       "      <td>$515.00</td>\n",
       "      <td>$0.00</td>\n",
       "    </tr>\n",
       "    <tr>\n",
       "      <th>4</th>\n",
       "      <td>1</td>\n",
       "      <td>BURK_REHAB_4</td>\n",
       "      <td>GL</td>\n",
       "      <td>BURK_REHAB_ASSET</td>\n",
       "      <td>True</td>\n",
       "      <td>$240.00</td>\n",
       "      <td>0</td>\n",
       "      <td>$893.00</td>\n",
       "      <td>SL</td>\n",
       "      <td>19960701</td>\n",
       "      <td>HY</td>\n",
       "      <td>NaN</td>\n",
       "      <td>$893.00</td>\n",
       "      <td>1996-07-01</td>\n",
       "      <td>4</td>\n",
       "      <td>12170</td>\n",
       "      <td>MAJOR MOVABLE EQUIPMENT-NEW</td>\n",
       "      <td>FURNITURE AND ACCESSORIES</td>\n",
       "      <td>1</td>\n",
       "      <td>DESK 72X36 SING PED</td>\n",
       "      <td>7/1/1996</td>\n",
       "      <td>$893.00</td>\n",
       "      <td>$240.00</td>\n",
       "      <td>$0.00</td>\n",
       "      <td>$893.00</td>\n",
       "      <td>$0.00</td>\n",
       "    </tr>\n",
       "    <tr>\n",
       "      <th>5</th>\n",
       "      <td>1</td>\n",
       "      <td>BURK_REHAB_5</td>\n",
       "      <td>GL</td>\n",
       "      <td>BURK_REHAB_ASSET</td>\n",
       "      <td>True</td>\n",
       "      <td>$240.00</td>\n",
       "      <td>0</td>\n",
       "      <td>$470.00</td>\n",
       "      <td>SL</td>\n",
       "      <td>19960701</td>\n",
       "      <td>HY</td>\n",
       "      <td>NaN</td>\n",
       "      <td>$470.00</td>\n",
       "      <td>1996-07-01</td>\n",
       "      <td>5</td>\n",
       "      <td>12171</td>\n",
       "      <td>MAJOR MOVABLE EQUIPMENT-NEW</td>\n",
       "      <td>FURNITURE AND ACCESSORIES</td>\n",
       "      <td>1</td>\n",
       "      <td>DESK RETURN 60X24</td>\n",
       "      <td>7/1/1996</td>\n",
       "      <td>$470.00</td>\n",
       "      <td>$240.00</td>\n",
       "      <td>$0.00</td>\n",
       "      <td>$470.00</td>\n",
       "      <td>$0.00</td>\n",
       "    </tr>\n",
       "    <tr>\n",
       "      <th>...</th>\n",
       "      <td>...</td>\n",
       "      <td>...</td>\n",
       "      <td>...</td>\n",
       "      <td>...</td>\n",
       "      <td>...</td>\n",
       "      <td>...</td>\n",
       "      <td>...</td>\n",
       "      <td>...</td>\n",
       "      <td>...</td>\n",
       "      <td>...</td>\n",
       "      <td>...</td>\n",
       "      <td>...</td>\n",
       "      <td>...</td>\n",
       "      <td>...</td>\n",
       "      <td>...</td>\n",
       "      <td>...</td>\n",
       "      <td>...</td>\n",
       "      <td>...</td>\n",
       "      <td>...</td>\n",
       "      <td>...</td>\n",
       "      <td>...</td>\n",
       "      <td>...</td>\n",
       "      <td>...</td>\n",
       "      <td>...</td>\n",
       "      <td>...</td>\n",
       "      <td>...</td>\n",
       "    </tr>\n",
       "    <tr>\n",
       "      <th>50460</th>\n",
       "      <td>1</td>\n",
       "      <td>BURK_REHAB_50460</td>\n",
       "      <td>GL</td>\n",
       "      <td>BURK_REHAB_ASSET</td>\n",
       "      <td>True</td>\n",
       "      <td>$180.00</td>\n",
       "      <td>167</td>\n",
       "      <td>$875.12</td>\n",
       "      <td>SL</td>\n",
       "      <td>20191201</td>\n",
       "      <td>HY</td>\n",
       "      <td>NaN</td>\n",
       "      <td>$87.51</td>\n",
       "      <td>2019-12-01</td>\n",
       "      <td>50460</td>\n",
       "      <td>18175</td>\n",
       "      <td>MAJOR MOVABLE EQUIPMENT-NEW</td>\n",
       "      <td>FURNITURE AND ACCESSORIES</td>\n",
       "      <td>1</td>\n",
       "      <td>TABLE END</td>\n",
       "      <td>12/1/2019</td>\n",
       "      <td>$875.12</td>\n",
       "      <td>$180.00</td>\n",
       "      <td>$58.00</td>\n",
       "      <td>$88.00</td>\n",
       "      <td>$788.00</td>\n",
       "    </tr>\n",
       "    <tr>\n",
       "      <th>50461</th>\n",
       "      <td>1</td>\n",
       "      <td>BURK_REHAB_50461</td>\n",
       "      <td>GL</td>\n",
       "      <td>BURK_REHAB_ASSET</td>\n",
       "      <td>True</td>\n",
       "      <td>$180.00</td>\n",
       "      <td>167</td>\n",
       "      <td>$875.12</td>\n",
       "      <td>SL</td>\n",
       "      <td>20191201</td>\n",
       "      <td>HY</td>\n",
       "      <td>NaN</td>\n",
       "      <td>$87.51</td>\n",
       "      <td>2019-12-01</td>\n",
       "      <td>50461</td>\n",
       "      <td>18176</td>\n",
       "      <td>MAJOR MOVABLE EQUIPMENT-NEW</td>\n",
       "      <td>FURNITURE AND ACCESSORIES</td>\n",
       "      <td>1</td>\n",
       "      <td>TABLE END</td>\n",
       "      <td>12/1/2019</td>\n",
       "      <td>$875.12</td>\n",
       "      <td>$180.00</td>\n",
       "      <td>$58.00</td>\n",
       "      <td>$88.00</td>\n",
       "      <td>$788.00</td>\n",
       "    </tr>\n",
       "    <tr>\n",
       "      <th>50462</th>\n",
       "      <td>1</td>\n",
       "      <td>BURK_REHAB_50462</td>\n",
       "      <td>GL</td>\n",
       "      <td>BURK_REHAB_ASSET</td>\n",
       "      <td>True</td>\n",
       "      <td>$180.00</td>\n",
       "      <td>167</td>\n",
       "      <td>$875.12</td>\n",
       "      <td>SL</td>\n",
       "      <td>20191201</td>\n",
       "      <td>HY</td>\n",
       "      <td>NaN</td>\n",
       "      <td>$87.51</td>\n",
       "      <td>2019-12-01</td>\n",
       "      <td>50462</td>\n",
       "      <td>18177</td>\n",
       "      <td>MAJOR MOVABLE EQUIPMENT-NEW</td>\n",
       "      <td>FURNITURE AND ACCESSORIES</td>\n",
       "      <td>1</td>\n",
       "      <td>TABLE END</td>\n",
       "      <td>12/1/2019</td>\n",
       "      <td>$875.12</td>\n",
       "      <td>$180.00</td>\n",
       "      <td>$58.00</td>\n",
       "      <td>$88.00</td>\n",
       "      <td>$788.00</td>\n",
       "    </tr>\n",
       "    <tr>\n",
       "      <th>50463</th>\n",
       "      <td>1</td>\n",
       "      <td>BURK_REHAB_50463</td>\n",
       "      <td>GL</td>\n",
       "      <td>BURK_REHAB_ASSET</td>\n",
       "      <td>True</td>\n",
       "      <td>$180.00</td>\n",
       "      <td>167</td>\n",
       "      <td>$875.12</td>\n",
       "      <td>SL</td>\n",
       "      <td>20191201</td>\n",
       "      <td>HY</td>\n",
       "      <td>NaN</td>\n",
       "      <td>$87.51</td>\n",
       "      <td>2019-12-01</td>\n",
       "      <td>50463</td>\n",
       "      <td>18178</td>\n",
       "      <td>MAJOR MOVABLE EQUIPMENT-NEW</td>\n",
       "      <td>FURNITURE AND ACCESSORIES</td>\n",
       "      <td>1</td>\n",
       "      <td>TABLE END</td>\n",
       "      <td>12/1/2019</td>\n",
       "      <td>$875.12</td>\n",
       "      <td>$180.00</td>\n",
       "      <td>$58.00</td>\n",
       "      <td>$88.00</td>\n",
       "      <td>$788.00</td>\n",
       "    </tr>\n",
       "    <tr>\n",
       "      <th>50464</th>\n",
       "      <td>1</td>\n",
       "      <td>BURK_REHAB_50464</td>\n",
       "      <td>GL</td>\n",
       "      <td>BURK_REHAB_ASSET</td>\n",
       "      <td>True</td>\n",
       "      <td>$180.00</td>\n",
       "      <td>167</td>\n",
       "      <td>$9,726.30</td>\n",
       "      <td>SL</td>\n",
       "      <td>20191201</td>\n",
       "      <td>HY</td>\n",
       "      <td>NaN</td>\n",
       "      <td>$972.63</td>\n",
       "      <td>2019-12-01</td>\n",
       "      <td>50464</td>\n",
       "      <td>20201007</td>\n",
       "      <td>MAJOR MOVABLE EQUIPMENT-NEW</td>\n",
       "      <td>FURNITURE AND ACCESSORIES</td>\n",
       "      <td>1</td>\n",
       "      <td>FURNITURE</td>\n",
       "      <td>12/1/2019</td>\n",
       "      <td>$9,726.30</td>\n",
       "      <td>$180.00</td>\n",
       "      <td>$648.00</td>\n",
       "      <td>$973.00</td>\n",
       "      <td>$8,754.00</td>\n",
       "    </tr>\n",
       "  </tbody>\n",
       "</table>\n",
       "<p>44126 rows × 26 columns</p>\n",
       "</div>"
      ],
      "text/plain": [
       "                  FinanceEnterpriseGroup       AssetImport Book          RunGroup  Active    Life  LifeRemaining     Basis Method InServiceDate Convention  YearToDateDepreciation  LifeToDateDepreciation InServiceDate_dt  aa_index Asset Tag Number                      Account                Asset Class  Quantity       Asset Description Acquisition Date  Historical Cost  Life Months  Period Depreciation  Accumulated Depreciation  Net Book Value\n",
       "Asset Display Id                                                                                                                                                                                                                                                                                                                                                                                                                                              \n",
       "1                                      1      BURK_REHAB_1   GL  BURK_REHAB_ASSET    True $120.00              0 $2,795.65     SL      19960701         HY                     NaN               $2,795.65       1996-07-01         1            12141  MAJOR MOVABLE EQUIPMENT-NEW          MEDICAL EQUIPMENT         1  SCALE UPGRADES ADVANCE         7/1/1996        $2,795.65      $120.00                $0.00                 $2,796.00           $0.00\n",
       "2                                      1      BURK_REHAB_2   GL  BURK_REHAB_ASSET    True $240.00              0   $514.65     SL      19960701         HY                     NaN                 $514.65       1996-07-01         2            12168  MAJOR MOVABLE EQUIPMENT-NEW  FURNITURE AND ACCESSORIES         1           BOOKCASE OPEN         7/1/1996          $514.65      $240.00                $0.00                   $515.00           $0.00\n",
       "3                                      1      BURK_REHAB_3   GL  BURK_REHAB_ASSET    True $240.00              0   $514.65     SL      19960701         HY                     NaN                 $514.65       1996-07-01         3            12169  MAJOR MOVABLE EQUIPMENT-NEW  FURNITURE AND ACCESSORIES         1           BOOKCASE OPEN         7/1/1996          $514.65      $240.00                $0.00                   $515.00           $0.00\n",
       "4                                      1      BURK_REHAB_4   GL  BURK_REHAB_ASSET    True $240.00              0   $893.00     SL      19960701         HY                     NaN                 $893.00       1996-07-01         4            12170  MAJOR MOVABLE EQUIPMENT-NEW  FURNITURE AND ACCESSORIES         1     DESK 72X36 SING PED         7/1/1996          $893.00      $240.00                $0.00                   $893.00           $0.00\n",
       "5                                      1      BURK_REHAB_5   GL  BURK_REHAB_ASSET    True $240.00              0   $470.00     SL      19960701         HY                     NaN                 $470.00       1996-07-01         5            12171  MAJOR MOVABLE EQUIPMENT-NEW  FURNITURE AND ACCESSORIES         1       DESK RETURN 60X24         7/1/1996          $470.00      $240.00                $0.00                   $470.00           $0.00\n",
       "...                                  ...               ...  ...               ...     ...     ...            ...       ...    ...           ...        ...                     ...                     ...              ...       ...              ...                          ...                        ...       ...                     ...              ...              ...          ...                  ...                       ...             ...\n",
       "50460                                  1  BURK_REHAB_50460   GL  BURK_REHAB_ASSET    True $180.00            167   $875.12     SL      20191201         HY                     NaN                  $87.51       2019-12-01     50460            18175  MAJOR MOVABLE EQUIPMENT-NEW  FURNITURE AND ACCESSORIES         1               TABLE END        12/1/2019          $875.12      $180.00               $58.00                    $88.00         $788.00\n",
       "50461                                  1  BURK_REHAB_50461   GL  BURK_REHAB_ASSET    True $180.00            167   $875.12     SL      20191201         HY                     NaN                  $87.51       2019-12-01     50461            18176  MAJOR MOVABLE EQUIPMENT-NEW  FURNITURE AND ACCESSORIES         1               TABLE END        12/1/2019          $875.12      $180.00               $58.00                    $88.00         $788.00\n",
       "50462                                  1  BURK_REHAB_50462   GL  BURK_REHAB_ASSET    True $180.00            167   $875.12     SL      20191201         HY                     NaN                  $87.51       2019-12-01     50462            18177  MAJOR MOVABLE EQUIPMENT-NEW  FURNITURE AND ACCESSORIES         1               TABLE END        12/1/2019          $875.12      $180.00               $58.00                    $88.00         $788.00\n",
       "50463                                  1  BURK_REHAB_50463   GL  BURK_REHAB_ASSET    True $180.00            167   $875.12     SL      20191201         HY                     NaN                  $87.51       2019-12-01     50463            18178  MAJOR MOVABLE EQUIPMENT-NEW  FURNITURE AND ACCESSORIES         1               TABLE END        12/1/2019          $875.12      $180.00               $58.00                    $88.00         $788.00\n",
       "50464                                  1  BURK_REHAB_50464   GL  BURK_REHAB_ASSET    True $180.00            167 $9,726.30     SL      20191201         HY                     NaN                 $972.63       2019-12-01     50464         20201007  MAJOR MOVABLE EQUIPMENT-NEW  FURNITURE AND ACCESSORIES         1               FURNITURE        12/1/2019        $9,726.30      $180.00              $648.00                   $973.00       $8,754.00\n",
       "\n",
       "[44126 rows x 26 columns]"
      ]
     },
     "execution_count": 68,
     "metadata": {},
     "output_type": "execute_result"
    }
   ],
   "source": [
    "burke_source_asset_merge.sort_index()"
   ]
  },
  {
   "cell_type": "code",
   "execution_count": 69,
   "metadata": {},
   "outputs": [],
   "source": [
    "# burke_rehab_group.info()"
   ]
  },
  {
   "cell_type": "code",
   "execution_count": 73,
   "metadata": {},
   "outputs": [
    {
     "name": "stdout",
     "output_type": "stream",
     "text": [
      "44126\n",
      "44126\n"
     ]
    }
   ],
   "source": [
    "print(burke_source_asset_merge.index.nunique())\n",
    "print(burke_rehab_group.index.nunique())"
   ]
  },
  {
   "cell_type": "code",
   "execution_count": 76,
   "metadata": {},
   "outputs": [
    {
     "name": "stdout",
     "output_type": "stream",
     "text": [
      "Int64Index([    1,     2,     3,     4,     5,     6,     7,     8,     9,\n",
      "               10,\n",
      "            ...\n",
      "            50455, 50456, 50457, 50458, 50459, 50460, 50461, 50462, 50463,\n",
      "            50464],\n",
      "           dtype='int64', name='merge_index', length=44126)\n",
      "Int64Index([1002,    1,   10,  100, 1000, 1001, 1003, 1004, 1006, 1007,\n",
      "            ...\n",
      "             990,  991,  992,  993,  994,  995,  996,  997,  998,  999],\n",
      "           dtype='int64', name='Asset Display Id', length=44126)\n"
     ]
    }
   ],
   "source": [
    "print(burke_rehab_group.index)\n",
    "print(burke_source_asset_merge.index)"
   ]
  },
  {
   "cell_type": "code",
   "execution_count": 77,
   "metadata": {},
   "outputs": [],
   "source": [
    "burke_source_infor_rehab_matched = burke_source_asset_merge[burke_source_asset_merge.index.isin(burke_rehab_group.index)]"
   ]
  },
  {
   "cell_type": "code",
   "execution_count": 78,
   "metadata": {},
   "outputs": [
    {
     "data": {
      "text/plain": [
       "(44126, 26)"
      ]
     },
     "execution_count": 78,
     "metadata": {},
     "output_type": "execute_result"
    }
   ],
   "source": [
    "burke_source_infor_rehab_matched.shape"
   ]
  },
  {
   "cell_type": "code",
   "execution_count": 79,
   "metadata": {},
   "outputs": [
    {
     "data": {
      "text/html": [
       "<div>\n",
       "<style scoped>\n",
       "    .dataframe tbody tr th:only-of-type {\n",
       "        vertical-align: middle;\n",
       "    }\n",
       "\n",
       "    .dataframe tbody tr th {\n",
       "        vertical-align: top;\n",
       "    }\n",
       "\n",
       "    .dataframe thead th {\n",
       "        text-align: right;\n",
       "    }\n",
       "</style>\n",
       "<table border=\"1\" class=\"dataframe\">\n",
       "  <thead>\n",
       "    <tr style=\"text-align: right;\">\n",
       "      <th></th>\n",
       "      <th>FinanceEnterpriseGroup</th>\n",
       "      <th>AssetImport</th>\n",
       "      <th>Book</th>\n",
       "      <th>RunGroup</th>\n",
       "      <th>Active</th>\n",
       "      <th>Life</th>\n",
       "      <th>LifeRemaining</th>\n",
       "      <th>Basis</th>\n",
       "      <th>Method</th>\n",
       "      <th>InServiceDate</th>\n",
       "      <th>Convention</th>\n",
       "      <th>YearToDateDepreciation</th>\n",
       "      <th>LifeToDateDepreciation</th>\n",
       "      <th>InServiceDate_dt</th>\n",
       "      <th>aa_index</th>\n",
       "      <th>Asset Tag Number</th>\n",
       "      <th>Account</th>\n",
       "      <th>Asset Class</th>\n",
       "      <th>Quantity</th>\n",
       "      <th>Asset Description</th>\n",
       "      <th>Acquisition Date</th>\n",
       "      <th>Historical Cost</th>\n",
       "      <th>Life Months</th>\n",
       "      <th>Period Depreciation</th>\n",
       "      <th>Accumulated Depreciation</th>\n",
       "      <th>Net Book Value</th>\n",
       "    </tr>\n",
       "    <tr>\n",
       "      <th>Asset Display Id</th>\n",
       "      <th></th>\n",
       "      <th></th>\n",
       "      <th></th>\n",
       "      <th></th>\n",
       "      <th></th>\n",
       "      <th></th>\n",
       "      <th></th>\n",
       "      <th></th>\n",
       "      <th></th>\n",
       "      <th></th>\n",
       "      <th></th>\n",
       "      <th></th>\n",
       "      <th></th>\n",
       "      <th></th>\n",
       "      <th></th>\n",
       "      <th></th>\n",
       "      <th></th>\n",
       "      <th></th>\n",
       "      <th></th>\n",
       "      <th></th>\n",
       "      <th></th>\n",
       "      <th></th>\n",
       "      <th></th>\n",
       "      <th></th>\n",
       "      <th></th>\n",
       "      <th></th>\n",
       "    </tr>\n",
       "  </thead>\n",
       "  <tbody>\n",
       "  </tbody>\n",
       "</table>\n",
       "</div>"
      ],
      "text/plain": [
       "Empty DataFrame\n",
       "Columns: [FinanceEnterpriseGroup, AssetImport, Book, RunGroup, Active, Life, LifeRemaining, Basis, Method, InServiceDate, Convention, YearToDateDepreciation, LifeToDateDepreciation, InServiceDate_dt, aa_index, Asset Tag Number, Account, Asset Class, Quantity, Asset Description, Acquisition Date, Historical Cost, Life Months, Period Depreciation, Accumulated Depreciation, Net Book Value]\n",
       "Index: []"
      ]
     },
     "execution_count": 79,
     "metadata": {},
     "output_type": "execute_result"
    }
   ],
   "source": [
    "missing_rehab_asset_register_records = burke_source_asset_merge[~burke_source_asset_merge.index.isin(burke_rehab_group.index)]\n",
    "missing_rehab_asset_register_records"
   ]
  },
  {
   "cell_type": "code",
   "execution_count": 80,
   "metadata": {},
   "outputs": [
    {
     "data": {
      "text/plain": [
       "150101007.32000002"
      ]
     },
     "execution_count": 80,
     "metadata": {},
     "output_type": "execute_result"
    }
   ],
   "source": [
    "asset_register_rehab_cost = burke_rehab_group['PostingBookBasis'].apply(lambda x: float(x)).sum()\n",
    "asset_register_rehab_cost"
   ]
  },
  {
   "cell_type": "code",
   "execution_count": 81,
   "metadata": {},
   "outputs": [],
   "source": [
    "# burke_source_infor_rehab_matched.columns"
   ]
  },
  {
   "cell_type": "code",
   "execution_count": 82,
   "metadata": {},
   "outputs": [
    {
     "data": {
      "text/plain": [
       "-2.9802322387695312e-08"
      ]
     },
     "execution_count": 82,
     "metadata": {},
     "output_type": "execute_result"
    }
   ],
   "source": [
    "cost_for_asset_register_records_with_errors_rehab = burke_source_infor_rehab_matched['Historical Cost'].sum() - burke_rehab_group['PostingBookBasis'].sum()\n",
    "cost_for_asset_register_records_with_errors_rehab"
   ]
  },
  {
   "cell_type": "code",
   "execution_count": 83,
   "metadata": {},
   "outputs": [
    {
     "data": {
      "text/plain": [
       "107899092.0"
      ]
     },
     "execution_count": 83,
     "metadata": {},
     "output_type": "execute_result"
    }
   ],
   "source": [
    "burke_source_infor_rehab_matched_acc_dep = burke_source_infor_rehab_matched['Accumulated Depreciation'].sum()\n",
    "burke_source_infor_rehab_matched_acc_dep"
   ]
  },
  {
   "cell_type": "code",
   "execution_count": 84,
   "metadata": {},
   "outputs": [
    {
     "data": {
      "text/plain": [
       "107898431.37"
      ]
     },
     "execution_count": 84,
     "metadata": {},
     "output_type": "execute_result"
    }
   ],
   "source": [
    "fsm_burke_asset_register_acc_dep = burke_rehab_group['TotalAccumulatedDepreciation'].sum()\n",
    "fsm_burke_asset_register_acc_dep"
   ]
  },
  {
   "cell_type": "code",
   "execution_count": 85,
   "metadata": {},
   "outputs": [
    {
     "data": {
      "text/plain": [
       "660.6299999952316"
      ]
     },
     "execution_count": 85,
     "metadata": {},
     "output_type": "execute_result"
    }
   ],
   "source": [
    "burke_source_infor_rehab_matched_acc_dep - fsm_burke_asset_register_acc_dep"
   ]
  },
  {
   "cell_type": "code",
   "execution_count": 82,
   "metadata": {},
   "outputs": [],
   "source": [
    "\n",
    "burke_source_asset_merge.to_csv(r'C:\\Users\\mikra\\OneDrive\\Documents\\Work\\conversion\\SIT3\\november_AX2\\fixed_assets\\burke\\output_2200\\sit3_2200_rehab_source_load_merge.csv')\n",
    "\n",
    "\n",
    "burke_rehab_group.to_csv(r'C:\\Users\\mikra\\OneDrive\\Documents\\Work\\conversion\\SIT3\\november_AX2\\fixed_assets\\burke\\output_2200\\sit3_2200_rehab_source_asset_register.csv')"
   ]
  },
  {
   "cell_type": "code",
   "execution_count": 83,
   "metadata": {},
   "outputs": [],
   "source": [
    "# burke_source_asset_merge.head()"
   ]
  },
  {
   "cell_type": "markdown",
   "metadata": {},
   "source": [
    "### Find 2400 records that exist in the fsm asset register but have incorrect cost values"
   ]
  },
  {
   "cell_type": "code",
   "execution_count": 86,
   "metadata": {},
   "outputs": [],
   "source": [
    "# burke_rehab_group.info()"
   ]
  },
  {
   "cell_type": "code",
   "execution_count": 87,
   "metadata": {},
   "outputs": [],
   "source": [
    "# burke_source_infor_rehab_matched.info()"
   ]
  },
  {
   "cell_type": "code",
   "execution_count": 88,
   "metadata": {},
   "outputs": [],
   "source": [
    "# slh_source_infor_2400_cost_diffs = burke_source_infor_rehab_matched['Historical Cost'].compare(burke_rehab_group['ItemTotalBaseCost'])\n",
    "# slh_source_infor_2400_cost_diffs.rename(columns={'self': 'load file', 'other': 'FSM'}, inplace=True)\n",
    "# slh_source_infor_2400_cost_diffs.rename_axis('Load ID', inplace=True)"
   ]
  },
  {
   "cell_type": "code",
   "execution_count": 89,
   "metadata": {},
   "outputs": [],
   "source": [
    "# burke_source_asset_merge.head()"
   ]
  },
  {
   "cell_type": "code",
   "execution_count": 90,
   "metadata": {},
   "outputs": [],
   "source": [
    "# burke_source_asset_merge.info()"
   ]
  },
  {
   "cell_type": "markdown",
   "metadata": {},
   "source": [
    "### Calculate Burke Depreciation"
   ]
  },
  {
   "cell_type": "code",
   "execution_count": 91,
   "metadata": {},
   "outputs": [],
   "source": [
    "fsm_depreciation = pd.read_csv(r\"C:\\Users\\mikra\\OneDrive\\Documents\\Work\\conversion\\SIT3\\november_AX2\\fixed_assets\\Depreciation By Asset.csv\",\n",
    "                              usecols=['Asset', 'CurrentPeriodDepreciation'])"
   ]
  },
  {
   "cell_type": "code",
   "execution_count": 92,
   "metadata": {},
   "outputs": [
    {
     "data": {
      "text/html": [
       "<div>\n",
       "<style scoped>\n",
       "    .dataframe tbody tr th:only-of-type {\n",
       "        vertical-align: middle;\n",
       "    }\n",
       "\n",
       "    .dataframe tbody tr th {\n",
       "        vertical-align: top;\n",
       "    }\n",
       "\n",
       "    .dataframe thead th {\n",
       "        text-align: right;\n",
       "    }\n",
       "</style>\n",
       "<table border=\"1\" class=\"dataframe\">\n",
       "  <thead>\n",
       "    <tr style=\"text-align: right;\">\n",
       "      <th></th>\n",
       "      <th>AssetImport</th>\n",
       "      <th>aa_index</th>\n",
       "      <th>Asset Description</th>\n",
       "      <th>Acquisition Date</th>\n",
       "      <th>Historical Cost</th>\n",
       "      <th>Accumulated Depreciation</th>\n",
       "      <th>Net Book Value</th>\n",
       "      <th>Net Book Value</th>\n",
       "      <th>Life</th>\n",
       "      <th>Life Months</th>\n",
       "      <th>LifeRemaining</th>\n",
       "      <th>Basis</th>\n",
       "      <th>InServiceDate_dt</th>\n",
       "      <th>Convention</th>\n",
       "      <th>Period Depreciation</th>\n",
       "      <th>LifeToDateDepreciation</th>\n",
       "    </tr>\n",
       "    <tr>\n",
       "      <th>Asset Display Id</th>\n",
       "      <th></th>\n",
       "      <th></th>\n",
       "      <th></th>\n",
       "      <th></th>\n",
       "      <th></th>\n",
       "      <th></th>\n",
       "      <th></th>\n",
       "      <th></th>\n",
       "      <th></th>\n",
       "      <th></th>\n",
       "      <th></th>\n",
       "      <th></th>\n",
       "      <th></th>\n",
       "      <th></th>\n",
       "      <th></th>\n",
       "      <th></th>\n",
       "    </tr>\n",
       "  </thead>\n",
       "  <tbody>\n",
       "    <tr>\n",
       "      <th>1</th>\n",
       "      <td>BURK_REHAB_1</td>\n",
       "      <td>1</td>\n",
       "      <td>SCALE UPGRADES ADVANCE</td>\n",
       "      <td>7/1/1996</td>\n",
       "      <td>$2,795.65</td>\n",
       "      <td>$2,796.00</td>\n",
       "      <td>$0.00</td>\n",
       "      <td>$0.00</td>\n",
       "      <td>$120.00</td>\n",
       "      <td>$120.00</td>\n",
       "      <td>0</td>\n",
       "      <td>$2,795.65</td>\n",
       "      <td>1996-07-01</td>\n",
       "      <td>HY</td>\n",
       "      <td>$0.00</td>\n",
       "      <td>$2,795.65</td>\n",
       "    </tr>\n",
       "    <tr>\n",
       "      <th>2</th>\n",
       "      <td>BURK_REHAB_2</td>\n",
       "      <td>2</td>\n",
       "      <td>BOOKCASE OPEN</td>\n",
       "      <td>7/1/1996</td>\n",
       "      <td>$514.65</td>\n",
       "      <td>$515.00</td>\n",
       "      <td>$0.00</td>\n",
       "      <td>$0.00</td>\n",
       "      <td>$240.00</td>\n",
       "      <td>$240.00</td>\n",
       "      <td>0</td>\n",
       "      <td>$514.65</td>\n",
       "      <td>1996-07-01</td>\n",
       "      <td>HY</td>\n",
       "      <td>$0.00</td>\n",
       "      <td>$514.65</td>\n",
       "    </tr>\n",
       "    <tr>\n",
       "      <th>3</th>\n",
       "      <td>BURK_REHAB_3</td>\n",
       "      <td>3</td>\n",
       "      <td>BOOKCASE OPEN</td>\n",
       "      <td>7/1/1996</td>\n",
       "      <td>$514.65</td>\n",
       "      <td>$515.00</td>\n",
       "      <td>$0.00</td>\n",
       "      <td>$0.00</td>\n",
       "      <td>$240.00</td>\n",
       "      <td>$240.00</td>\n",
       "      <td>0</td>\n",
       "      <td>$514.65</td>\n",
       "      <td>1996-07-01</td>\n",
       "      <td>HY</td>\n",
       "      <td>$0.00</td>\n",
       "      <td>$514.65</td>\n",
       "    </tr>\n",
       "    <tr>\n",
       "      <th>4</th>\n",
       "      <td>BURK_REHAB_4</td>\n",
       "      <td>4</td>\n",
       "      <td>DESK 72X36 SING PED</td>\n",
       "      <td>7/1/1996</td>\n",
       "      <td>$893.00</td>\n",
       "      <td>$893.00</td>\n",
       "      <td>$0.00</td>\n",
       "      <td>$0.00</td>\n",
       "      <td>$240.00</td>\n",
       "      <td>$240.00</td>\n",
       "      <td>0</td>\n",
       "      <td>$893.00</td>\n",
       "      <td>1996-07-01</td>\n",
       "      <td>HY</td>\n",
       "      <td>$0.00</td>\n",
       "      <td>$893.00</td>\n",
       "    </tr>\n",
       "    <tr>\n",
       "      <th>5</th>\n",
       "      <td>BURK_REHAB_5</td>\n",
       "      <td>5</td>\n",
       "      <td>DESK RETURN 60X24</td>\n",
       "      <td>7/1/1996</td>\n",
       "      <td>$470.00</td>\n",
       "      <td>$470.00</td>\n",
       "      <td>$0.00</td>\n",
       "      <td>$0.00</td>\n",
       "      <td>$240.00</td>\n",
       "      <td>$240.00</td>\n",
       "      <td>0</td>\n",
       "      <td>$470.00</td>\n",
       "      <td>1996-07-01</td>\n",
       "      <td>HY</td>\n",
       "      <td>$0.00</td>\n",
       "      <td>$470.00</td>\n",
       "    </tr>\n",
       "    <tr>\n",
       "      <th>...</th>\n",
       "      <td>...</td>\n",
       "      <td>...</td>\n",
       "      <td>...</td>\n",
       "      <td>...</td>\n",
       "      <td>...</td>\n",
       "      <td>...</td>\n",
       "      <td>...</td>\n",
       "      <td>...</td>\n",
       "      <td>...</td>\n",
       "      <td>...</td>\n",
       "      <td>...</td>\n",
       "      <td>...</td>\n",
       "      <td>...</td>\n",
       "      <td>...</td>\n",
       "      <td>...</td>\n",
       "      <td>...</td>\n",
       "    </tr>\n",
       "    <tr>\n",
       "      <th>50460</th>\n",
       "      <td>BURK_REHAB_50460</td>\n",
       "      <td>50460</td>\n",
       "      <td>TABLE END</td>\n",
       "      <td>12/1/2019</td>\n",
       "      <td>$875.12</td>\n",
       "      <td>$88.00</td>\n",
       "      <td>$788.00</td>\n",
       "      <td>$788.00</td>\n",
       "      <td>$180.00</td>\n",
       "      <td>$180.00</td>\n",
       "      <td>167</td>\n",
       "      <td>$875.12</td>\n",
       "      <td>2019-12-01</td>\n",
       "      <td>HY</td>\n",
       "      <td>$58.00</td>\n",
       "      <td>$87.51</td>\n",
       "    </tr>\n",
       "    <tr>\n",
       "      <th>50461</th>\n",
       "      <td>BURK_REHAB_50461</td>\n",
       "      <td>50461</td>\n",
       "      <td>TABLE END</td>\n",
       "      <td>12/1/2019</td>\n",
       "      <td>$875.12</td>\n",
       "      <td>$88.00</td>\n",
       "      <td>$788.00</td>\n",
       "      <td>$788.00</td>\n",
       "      <td>$180.00</td>\n",
       "      <td>$180.00</td>\n",
       "      <td>167</td>\n",
       "      <td>$875.12</td>\n",
       "      <td>2019-12-01</td>\n",
       "      <td>HY</td>\n",
       "      <td>$58.00</td>\n",
       "      <td>$87.51</td>\n",
       "    </tr>\n",
       "    <tr>\n",
       "      <th>50462</th>\n",
       "      <td>BURK_REHAB_50462</td>\n",
       "      <td>50462</td>\n",
       "      <td>TABLE END</td>\n",
       "      <td>12/1/2019</td>\n",
       "      <td>$875.12</td>\n",
       "      <td>$88.00</td>\n",
       "      <td>$788.00</td>\n",
       "      <td>$788.00</td>\n",
       "      <td>$180.00</td>\n",
       "      <td>$180.00</td>\n",
       "      <td>167</td>\n",
       "      <td>$875.12</td>\n",
       "      <td>2019-12-01</td>\n",
       "      <td>HY</td>\n",
       "      <td>$58.00</td>\n",
       "      <td>$87.51</td>\n",
       "    </tr>\n",
       "    <tr>\n",
       "      <th>50463</th>\n",
       "      <td>BURK_REHAB_50463</td>\n",
       "      <td>50463</td>\n",
       "      <td>TABLE END</td>\n",
       "      <td>12/1/2019</td>\n",
       "      <td>$875.12</td>\n",
       "      <td>$88.00</td>\n",
       "      <td>$788.00</td>\n",
       "      <td>$788.00</td>\n",
       "      <td>$180.00</td>\n",
       "      <td>$180.00</td>\n",
       "      <td>167</td>\n",
       "      <td>$875.12</td>\n",
       "      <td>2019-12-01</td>\n",
       "      <td>HY</td>\n",
       "      <td>$58.00</td>\n",
       "      <td>$87.51</td>\n",
       "    </tr>\n",
       "    <tr>\n",
       "      <th>50464</th>\n",
       "      <td>BURK_REHAB_50464</td>\n",
       "      <td>50464</td>\n",
       "      <td>FURNITURE</td>\n",
       "      <td>12/1/2019</td>\n",
       "      <td>$9,726.30</td>\n",
       "      <td>$973.00</td>\n",
       "      <td>$8,754.00</td>\n",
       "      <td>$8,754.00</td>\n",
       "      <td>$180.00</td>\n",
       "      <td>$180.00</td>\n",
       "      <td>167</td>\n",
       "      <td>$9,726.30</td>\n",
       "      <td>2019-12-01</td>\n",
       "      <td>HY</td>\n",
       "      <td>$648.00</td>\n",
       "      <td>$972.63</td>\n",
       "    </tr>\n",
       "  </tbody>\n",
       "</table>\n",
       "<p>44126 rows × 16 columns</p>\n",
       "</div>"
      ],
      "text/plain": [
       "                       AssetImport  aa_index       Asset Description Acquisition Date  Historical Cost  Accumulated Depreciation  Net Book Value  Net Book Value    Life  Life Months  LifeRemaining     Basis InServiceDate_dt Convention  Period Depreciation  LifeToDateDepreciation\n",
       "Asset Display Id                                                                                                                                                                                                                                                                       \n",
       "1                     BURK_REHAB_1         1  SCALE UPGRADES ADVANCE         7/1/1996        $2,795.65                 $2,796.00           $0.00           $0.00 $120.00      $120.00              0 $2,795.65       1996-07-01         HY                $0.00               $2,795.65\n",
       "2                     BURK_REHAB_2         2           BOOKCASE OPEN         7/1/1996          $514.65                   $515.00           $0.00           $0.00 $240.00      $240.00              0   $514.65       1996-07-01         HY                $0.00                 $514.65\n",
       "3                     BURK_REHAB_3         3           BOOKCASE OPEN         7/1/1996          $514.65                   $515.00           $0.00           $0.00 $240.00      $240.00              0   $514.65       1996-07-01         HY                $0.00                 $514.65\n",
       "4                     BURK_REHAB_4         4     DESK 72X36 SING PED         7/1/1996          $893.00                   $893.00           $0.00           $0.00 $240.00      $240.00              0   $893.00       1996-07-01         HY                $0.00                 $893.00\n",
       "5                     BURK_REHAB_5         5       DESK RETURN 60X24         7/1/1996          $470.00                   $470.00           $0.00           $0.00 $240.00      $240.00              0   $470.00       1996-07-01         HY                $0.00                 $470.00\n",
       "...                            ...       ...                     ...              ...              ...                       ...             ...             ...     ...          ...            ...       ...              ...        ...                  ...                     ...\n",
       "50460             BURK_REHAB_50460     50460               TABLE END        12/1/2019          $875.12                    $88.00         $788.00         $788.00 $180.00      $180.00            167   $875.12       2019-12-01         HY               $58.00                  $87.51\n",
       "50461             BURK_REHAB_50461     50461               TABLE END        12/1/2019          $875.12                    $88.00         $788.00         $788.00 $180.00      $180.00            167   $875.12       2019-12-01         HY               $58.00                  $87.51\n",
       "50462             BURK_REHAB_50462     50462               TABLE END        12/1/2019          $875.12                    $88.00         $788.00         $788.00 $180.00      $180.00            167   $875.12       2019-12-01         HY               $58.00                  $87.51\n",
       "50463             BURK_REHAB_50463     50463               TABLE END        12/1/2019          $875.12                    $88.00         $788.00         $788.00 $180.00      $180.00            167   $875.12       2019-12-01         HY               $58.00                  $87.51\n",
       "50464             BURK_REHAB_50464     50464               FURNITURE        12/1/2019        $9,726.30                   $973.00       $8,754.00       $8,754.00 $180.00      $180.00            167 $9,726.30       2019-12-01         HY              $648.00                 $972.63\n",
       "\n",
       "[44126 rows x 16 columns]"
      ]
     },
     "execution_count": 92,
     "metadata": {},
     "output_type": "execute_result"
    }
   ],
   "source": [
    "df_depreciation_calc_rehab_2200 = burke_source_asset_merge[[\n",
    "    'AssetImport', 'aa_index', 'Asset Description', 'Acquisition Date',\n",
    "    'Historical Cost',  'Accumulated Depreciation', 'Net Book Value', 'Net Book Value','Life', 'Life Months', 'LifeRemaining', 'Basis',\n",
    "    'InServiceDate_dt', 'Convention', 'Period Depreciation', 'LifeToDateDepreciation',\n",
    "    \n",
    "]]\n",
    "\n",
    "\n",
    "\n",
    "\n",
    "\n",
    "df_depreciation_calc_rehab_2200.sort_index()"
   ]
  },
  {
   "cell_type": "code",
   "execution_count": 93,
   "metadata": {},
   "outputs": [
    {
     "name": "stderr",
     "output_type": "stream",
     "text": [
      "<ipython-input-93-dba6928d35b3>:1: SettingWithCopyWarning: \n",
      "A value is trying to be set on a copy of a slice from a DataFrame.\n",
      "Try using .loc[row_indexer,col_indexer] = value instead\n",
      "\n",
      "See the caveats in the documentation: https://pandas.pydata.org/pandas-docs/stable/user_guide/indexing.html#returning-a-view-versus-a-copy\n",
      "  df_depreciation_calc_rehab_2200['Life'] = df_depreciation_calc_rehab_2200['Life'].astype('int32')\n"
     ]
    }
   ],
   "source": [
    "df_depreciation_calc_rehab_2200['Life'] = df_depreciation_calc_rehab_2200['Life'].astype('int32')"
   ]
  },
  {
   "cell_type": "code",
   "execution_count": 94,
   "metadata": {},
   "outputs": [],
   "source": [
    "# df_depreciation_calc_rehab_2200.info()"
   ]
  },
  {
   "cell_type": "code",
   "execution_count": 95,
   "metadata": {},
   "outputs": [
    {
     "name": "stderr",
     "output_type": "stream",
     "text": [
      "<ipython-input-95-b4ee39b90198>:1: SettingWithCopyWarning: \n",
      "A value is trying to be set on a copy of a slice from a DataFrame.\n",
      "Try using .loc[row_indexer,col_indexer] = value instead\n",
      "\n",
      "See the caveats in the documentation: https://pandas.pydata.org/pandas-docs/stable/user_guide/indexing.html#returning-a-view-versus-a-copy\n",
      "  df_depreciation_calc_rehab_2200['Life_years'] = df_depreciation_calc_rehab_2200['Life'] / 12\n"
     ]
    }
   ],
   "source": [
    "df_depreciation_calc_rehab_2200['Life_years'] = df_depreciation_calc_rehab_2200['Life'] / 12"
   ]
  },
  {
   "cell_type": "code",
   "execution_count": 96,
   "metadata": {},
   "outputs": [
    {
     "name": "stderr",
     "output_type": "stream",
     "text": [
      "<ipython-input-96-0271fd78be58>:1: SettingWithCopyWarning: \n",
      "A value is trying to be set on a copy of a slice from a DataFrame.\n",
      "Try using .loc[row_indexer,col_indexer] = value instead\n",
      "\n",
      "See the caveats in the documentation: https://pandas.pydata.org/pandas-docs/stable/user_guide/indexing.html#returning-a-view-versus-a-copy\n",
      "  df_depreciation_calc_rehab_2200['Life_years'] = df_depreciation_calc_rehab_2200['Life_years'].astype('int')\n"
     ]
    }
   ],
   "source": [
    "df_depreciation_calc_rehab_2200['Life_years'] = df_depreciation_calc_rehab_2200['Life_years'].astype('int')"
   ]
  },
  {
   "cell_type": "code",
   "execution_count": 97,
   "metadata": {},
   "outputs": [
    {
     "name": "stderr",
     "output_type": "stream",
     "text": [
      "<ipython-input-97-4abd5910e8b6>:1: SettingWithCopyWarning: \n",
      "A value is trying to be set on a copy of a slice from a DataFrame.\n",
      "Try using .loc[row_indexer,col_indexer] = value instead\n",
      "\n",
      "See the caveats in the documentation: https://pandas.pydata.org/pandas-docs/stable/user_guide/indexing.html#returning-a-view-versus-a-copy\n",
      "  df_depreciation_calc_rehab_2200['full_dep_yr'] =  df_depreciation_calc_rehab_2200['Life_years']\\\n"
     ]
    }
   ],
   "source": [
    "df_depreciation_calc_rehab_2200['full_dep_yr'] =  df_depreciation_calc_rehab_2200['Life_years']\\\n",
    ".apply(lambda x: dateutil.relativedelta.relativedelta(years=x))"
   ]
  },
  {
   "cell_type": "code",
   "execution_count": 98,
   "metadata": {},
   "outputs": [
    {
     "data": {
      "text/html": [
       "<div>\n",
       "<style scoped>\n",
       "    .dataframe tbody tr th:only-of-type {\n",
       "        vertical-align: middle;\n",
       "    }\n",
       "\n",
       "    .dataframe tbody tr th {\n",
       "        vertical-align: top;\n",
       "    }\n",
       "\n",
       "    .dataframe thead th {\n",
       "        text-align: right;\n",
       "    }\n",
       "</style>\n",
       "<table border=\"1\" class=\"dataframe\">\n",
       "  <thead>\n",
       "    <tr style=\"text-align: right;\">\n",
       "      <th></th>\n",
       "      <th>AssetImport</th>\n",
       "      <th>aa_index</th>\n",
       "      <th>Asset Description</th>\n",
       "      <th>Acquisition Date</th>\n",
       "      <th>Historical Cost</th>\n",
       "      <th>Accumulated Depreciation</th>\n",
       "      <th>Net Book Value</th>\n",
       "      <th>Net Book Value</th>\n",
       "      <th>Life</th>\n",
       "      <th>Life Months</th>\n",
       "      <th>LifeRemaining</th>\n",
       "      <th>Basis</th>\n",
       "      <th>InServiceDate_dt</th>\n",
       "      <th>Convention</th>\n",
       "      <th>Period Depreciation</th>\n",
       "      <th>LifeToDateDepreciation</th>\n",
       "      <th>Life_years</th>\n",
       "      <th>full_dep_yr</th>\n",
       "    </tr>\n",
       "    <tr>\n",
       "      <th>Asset Display Id</th>\n",
       "      <th></th>\n",
       "      <th></th>\n",
       "      <th></th>\n",
       "      <th></th>\n",
       "      <th></th>\n",
       "      <th></th>\n",
       "      <th></th>\n",
       "      <th></th>\n",
       "      <th></th>\n",
       "      <th></th>\n",
       "      <th></th>\n",
       "      <th></th>\n",
       "      <th></th>\n",
       "      <th></th>\n",
       "      <th></th>\n",
       "      <th></th>\n",
       "      <th></th>\n",
       "      <th></th>\n",
       "    </tr>\n",
       "  </thead>\n",
       "  <tbody>\n",
       "    <tr>\n",
       "      <th>1002</th>\n",
       "      <td>BURK_REHAB_1002</td>\n",
       "      <td>1002</td>\n",
       "      <td>CABINET STORAGE MTL</td>\n",
       "      <td>7/1/1962</td>\n",
       "      <td>$81.00</td>\n",
       "      <td>$81.00</td>\n",
       "      <td>$0.00</td>\n",
       "      <td>$0.00</td>\n",
       "      <td>240</td>\n",
       "      <td>$240.00</td>\n",
       "      <td>0</td>\n",
       "      <td>$81.00</td>\n",
       "      <td>1962-07-01</td>\n",
       "      <td>HY</td>\n",
       "      <td>$0.00</td>\n",
       "      <td>$81.00</td>\n",
       "      <td>20</td>\n",
       "      <td>relativedelta(years=+20)</td>\n",
       "    </tr>\n",
       "    <tr>\n",
       "      <th>1</th>\n",
       "      <td>BURK_REHAB_1</td>\n",
       "      <td>1</td>\n",
       "      <td>SCALE UPGRADES ADVANCE</td>\n",
       "      <td>7/1/1996</td>\n",
       "      <td>$2,795.65</td>\n",
       "      <td>$2,796.00</td>\n",
       "      <td>$0.00</td>\n",
       "      <td>$0.00</td>\n",
       "      <td>120</td>\n",
       "      <td>$120.00</td>\n",
       "      <td>0</td>\n",
       "      <td>$2,795.65</td>\n",
       "      <td>1996-07-01</td>\n",
       "      <td>HY</td>\n",
       "      <td>$0.00</td>\n",
       "      <td>$2,795.65</td>\n",
       "      <td>10</td>\n",
       "      <td>relativedelta(years=+10)</td>\n",
       "    </tr>\n",
       "    <tr>\n",
       "      <th>10</th>\n",
       "      <td>BURK_REHAB_10</td>\n",
       "      <td>10</td>\n",
       "      <td>CHAIR OPER SECRETARIAL</td>\n",
       "      <td>7/1/1996</td>\n",
       "      <td>$116.09</td>\n",
       "      <td>$116.00</td>\n",
       "      <td>$0.00</td>\n",
       "      <td>$0.00</td>\n",
       "      <td>180</td>\n",
       "      <td>$180.00</td>\n",
       "      <td>0</td>\n",
       "      <td>$116.09</td>\n",
       "      <td>1996-07-01</td>\n",
       "      <td>HY</td>\n",
       "      <td>$0.00</td>\n",
       "      <td>$116.09</td>\n",
       "      <td>15</td>\n",
       "      <td>relativedelta(years=+15)</td>\n",
       "    </tr>\n",
       "    <tr>\n",
       "      <th>100</th>\n",
       "      <td>BURK_REHAB_100</td>\n",
       "      <td>100</td>\n",
       "      <td>COMPUTER PERSONAL</td>\n",
       "      <td>7/1/1996</td>\n",
       "      <td>$1,964.57</td>\n",
       "      <td>$1,965.00</td>\n",
       "      <td>$0.00</td>\n",
       "      <td>$0.00</td>\n",
       "      <td>60</td>\n",
       "      <td>$60.00</td>\n",
       "      <td>0</td>\n",
       "      <td>$1,964.57</td>\n",
       "      <td>1996-07-01</td>\n",
       "      <td>HY</td>\n",
       "      <td>$0.00</td>\n",
       "      <td>$1,964.57</td>\n",
       "      <td>5</td>\n",
       "      <td>relativedelta(years=+5)</td>\n",
       "    </tr>\n",
       "    <tr>\n",
       "      <th>1000</th>\n",
       "      <td>BURK_REHAB_1000</td>\n",
       "      <td>1000</td>\n",
       "      <td>DESK SP MTL 48X30</td>\n",
       "      <td>7/1/1961</td>\n",
       "      <td>$123.00</td>\n",
       "      <td>$123.00</td>\n",
       "      <td>$0.00</td>\n",
       "      <td>$0.00</td>\n",
       "      <td>240</td>\n",
       "      <td>$240.00</td>\n",
       "      <td>0</td>\n",
       "      <td>$123.00</td>\n",
       "      <td>1961-07-01</td>\n",
       "      <td>HY</td>\n",
       "      <td>$0.00</td>\n",
       "      <td>$123.00</td>\n",
       "      <td>20</td>\n",
       "      <td>relativedelta(years=+20)</td>\n",
       "    </tr>\n",
       "  </tbody>\n",
       "</table>\n",
       "</div>"
      ],
      "text/plain": [
       "                      AssetImport  aa_index       Asset Description Acquisition Date  Historical Cost  Accumulated Depreciation  Net Book Value  Net Book Value  Life  Life Months  LifeRemaining     Basis InServiceDate_dt Convention  Period Depreciation  LifeToDateDepreciation  Life_years               full_dep_yr\n",
       "Asset Display Id                                                                                                                                                                                                                                                                                                          \n",
       "1002              BURK_REHAB_1002      1002     CABINET STORAGE MTL         7/1/1962           $81.00                    $81.00           $0.00           $0.00   240      $240.00              0    $81.00       1962-07-01         HY                $0.00                  $81.00          20  relativedelta(years=+20)\n",
       "1                    BURK_REHAB_1         1  SCALE UPGRADES ADVANCE         7/1/1996        $2,795.65                 $2,796.00           $0.00           $0.00   120      $120.00              0 $2,795.65       1996-07-01         HY                $0.00               $2,795.65          10  relativedelta(years=+10)\n",
       "10                  BURK_REHAB_10        10  CHAIR OPER SECRETARIAL         7/1/1996          $116.09                   $116.00           $0.00           $0.00   180      $180.00              0   $116.09       1996-07-01         HY                $0.00                 $116.09          15  relativedelta(years=+15)\n",
       "100                BURK_REHAB_100       100       COMPUTER PERSONAL         7/1/1996        $1,964.57                 $1,965.00           $0.00           $0.00    60       $60.00              0 $1,964.57       1996-07-01         HY                $0.00               $1,964.57           5   relativedelta(years=+5)\n",
       "1000              BURK_REHAB_1000      1000       DESK SP MTL 48X30         7/1/1961          $123.00                   $123.00           $0.00           $0.00   240      $240.00              0   $123.00       1961-07-01         HY                $0.00                 $123.00          20  relativedelta(years=+20)"
      ]
     },
     "execution_count": 98,
     "metadata": {},
     "output_type": "execute_result"
    }
   ],
   "source": [
    "df_depreciation_calc_rehab_2200.head()"
   ]
  },
  {
   "cell_type": "code",
   "execution_count": 99,
   "metadata": {},
   "outputs": [
    {
     "name": "stderr",
     "output_type": "stream",
     "text": [
      "C:\\Users\\mikra\\anaconda3\\lib\\site-packages\\pandas\\core\\arrays\\datetimelike.py:1108: PerformanceWarning: Adding/subtracting object-dtype array to DatetimeArray not vectorized\n",
      "  warnings.warn(\n",
      "<ipython-input-99-370300c20813>:1: SettingWithCopyWarning: \n",
      "A value is trying to be set on a copy of a slice from a DataFrame.\n",
      "Try using .loc[row_indexer,col_indexer] = value instead\n",
      "\n",
      "See the caveats in the documentation: https://pandas.pydata.org/pandas-docs/stable/user_guide/indexing.html#returning-a-view-versus-a-copy\n",
      "  df_depreciation_calc_rehab_2200['full_dep_yr_2'] = df_depreciation_calc_rehab_2200['InServiceDate_dt'] +\\\n"
     ]
    }
   ],
   "source": [
    "df_depreciation_calc_rehab_2200['full_dep_yr_2'] = df_depreciation_calc_rehab_2200['InServiceDate_dt'] +\\\n",
    "df_depreciation_calc_rehab_2200['full_dep_yr']"
   ]
  },
  {
   "cell_type": "code",
   "execution_count": 100,
   "metadata": {},
   "outputs": [],
   "source": [
    "balance_sheet_date = datetime(2020, 12, 31)\n",
    "balance_sheet_date_2021 = datetime(2021, 12, 31)"
   ]
  },
  {
   "cell_type": "code",
   "execution_count": 101,
   "metadata": {},
   "outputs": [
    {
     "data": {
      "text/plain": [
       "Index(['AssetImport', 'aa_index', 'Asset Description', 'Acquisition Date',\n",
       "       'Historical Cost', 'Accumulated Depreciation', 'Net Book Value',\n",
       "       'Net Book Value', 'Life', 'Life Months', 'LifeRemaining', 'Basis',\n",
       "       'InServiceDate_dt', 'Convention', 'Period Depreciation',\n",
       "       'LifeToDateDepreciation', 'Life_years', 'full_dep_yr', 'full_dep_yr_2'],\n",
       "      dtype='object')"
      ]
     },
     "execution_count": 101,
     "metadata": {},
     "output_type": "execute_result"
    }
   ],
   "source": [
    "df_depreciation_calc_rehab_2200.columns"
   ]
  },
  {
   "cell_type": "code",
   "execution_count": 102,
   "metadata": {},
   "outputs": [],
   "source": [
    "def dep_calc_2020(row):\n",
    "    \"\"\"\n",
    "    This function takes a dataframe row as a parameter and\n",
    "    calculates the straight line method depreciation using a half year convention.\n",
    "    It adds a column for the 2020 calculated depreciation to the dataframe\n",
    "    \"\"\"\n",
    "          \n",
    "    if row['Life_years'] < 1:\n",
    "        row['dep_exp_2020'] = 0\n",
    "        \n",
    "    elif row['InServiceDate_dt'].year == balance_sheet_date.year:\n",
    "       \n",
    "        row['dep_exp_2020'] = row['Historical Cost']\\\n",
    "        / row['Life_years'] * .5\n",
    "    \n",
    "    elif row['full_dep_yr_2'].year == balance_sheet_date.year:\n",
    "        row['dep_exp_2020'] = row['Historical Cost']\\\n",
    "        / row['Life_years'] * .5\n",
    "      \n",
    "    elif (row['full_dep_yr_2'].year > balance_sheet_date.year) &\\\n",
    "    (row['InServiceDate_dt'].year < balance_sheet_date.year):\n",
    "        \n",
    "        row['dep_exp_2020'] = row['Historical Cost'] / row['Life_years']\n",
    "         \n",
    "    else:\n",
    "        row['dep_exp_2020'] = 0\n",
    "    \n",
    "    return row"
   ]
  },
  {
   "cell_type": "code",
   "execution_count": 103,
   "metadata": {},
   "outputs": [],
   "source": [
    "def dep_calc_2021(row):\n",
    "    \n",
    "    \"\"\"\n",
    "    This function takes a dataframe row as a parameter and\n",
    "    calculates the straight line method depreciation using a half year convention.\n",
    "    It adds a column for the 2021 calculated depreciation to the dataframe\n",
    "    \"\"\"\n",
    "          \n",
    "          \n",
    "    if row['Life_years'] < 1:\n",
    "        row['dep_exp_2021'] = 0\n",
    "        \n",
    "    elif row['InServiceDate_dt'].year == balance_sheet_date_2021.year:\n",
    "       \n",
    "        row['dep_exp_2021'] = row['Historical Cost']\\\n",
    "        / row['Life_years'] * .5\n",
    "    \n",
    "    elif row['full_dep_yr_2'].year == balance_sheet_date_2021.year:\n",
    "        row['dep_exp_2021'] = row['Historical Cost']\\\n",
    "        / row['Life_years'] * .5\n",
    "      \n",
    "    elif (row['full_dep_yr_2'].year > balance_sheet_date_2021.year) &\\\n",
    "    (row['InServiceDate_dt'].year < balance_sheet_date_2021.year):\n",
    "        \n",
    "        row['dep_exp_2021'] = row['Historical Cost'] / row['Life_years']\n",
    "         \n",
    "    else:\n",
    "        row['dep_exp_2021'] = 0\n",
    "    \n",
    "    return row"
   ]
  },
  {
   "cell_type": "code",
   "execution_count": 104,
   "metadata": {},
   "outputs": [],
   "source": [
    "df_depreciation_calc_rehab_2200 = df_depreciation_calc_rehab_2200.apply(dep_calc_2020, axis=1)"
   ]
  },
  {
   "cell_type": "code",
   "execution_count": 105,
   "metadata": {},
   "outputs": [],
   "source": [
    "# df_depreciation_calc_rehab_2200.info()"
   ]
  },
  {
   "cell_type": "code",
   "execution_count": 106,
   "metadata": {},
   "outputs": [
    {
     "data": {
      "text/plain": [
       "Historical Cost            $150,101,007.32\n",
       "Period Depreciation          $4,445,144.00\n",
       "Accumulated Depreciation   $107,899,092.00\n",
       "Net Book Value              $42,202,856.00\n",
       "dtype: float64"
      ]
     },
     "execution_count": 106,
     "metadata": {},
     "output_type": "execute_result"
    }
   ],
   "source": [
    "burke_rehab_assets_source[['Historical Cost','Period Depreciation', 'Accumulated Depreciation',\n",
    "       'Net Book Value']].sum()"
   ]
  },
  {
   "cell_type": "code",
   "execution_count": 107,
   "metadata": {},
   "outputs": [
    {
     "data": {
      "text/plain": [
       "dep_exp_2020   $4,646,614.25\n",
       "dtype: float64"
      ]
     },
     "execution_count": 107,
     "metadata": {},
     "output_type": "execute_result"
    }
   ],
   "source": [
    "df_depreciation_calc_rehab_2200[['dep_exp_2020']].sum()"
   ]
  },
  {
   "cell_type": "code",
   "execution_count": 108,
   "metadata": {},
   "outputs": [],
   "source": [
    "df_depreciation_calc_rehab_2200 = df_depreciation_calc_rehab_2200.apply(dep_calc_2021, axis=1)"
   ]
  },
  {
   "cell_type": "code",
   "execution_count": 109,
   "metadata": {},
   "outputs": [
    {
     "data": {
      "text/plain": [
       "dep_exp_2021   $4,553,292.08\n",
       "dtype: float64"
      ]
     },
     "execution_count": 109,
     "metadata": {},
     "output_type": "execute_result"
    }
   ],
   "source": [
    "df_depreciation_calc_rehab_2200[['dep_exp_2021']].sum()"
   ]
  },
  {
   "cell_type": "code",
   "execution_count": 110,
   "metadata": {},
   "outputs": [],
   "source": [
    "df_depreciation_calc_rehab_2200['depr_ytd_oct'] = df_depreciation_calc_rehab_2200['dep_exp_2021'] * (10/12)"
   ]
  },
  {
   "cell_type": "code",
   "execution_count": 111,
   "metadata": {},
   "outputs": [
    {
     "data": {
      "text/plain": [
       "dep_exp_2021   $4,553,292.08\n",
       "depr_ytd_oct   $3,794,410.07\n",
       "dtype: float64"
      ]
     },
     "execution_count": 111,
     "metadata": {},
     "output_type": "execute_result"
    }
   ],
   "source": [
    "df_depreciation_calc_rehab_2200[['dep_exp_2021', 'depr_ytd_oct']].sum()"
   ]
  },
  {
   "cell_type": "code",
   "execution_count": 112,
   "metadata": {},
   "outputs": [
    {
     "data": {
      "text/plain": [
       "Index(['AssetImport', 'aa_index', 'Asset Description', 'Acquisition Date',\n",
       "       'Historical Cost', 'Accumulated Depreciation', 'Net Book Value',\n",
       "       'Net Book Value', 'Life', 'Life Months', 'LifeRemaining', 'Basis',\n",
       "       'InServiceDate_dt', 'Convention', 'Period Depreciation',\n",
       "       'LifeToDateDepreciation', 'Life_years', 'full_dep_yr', 'full_dep_yr_2',\n",
       "       'dep_exp_2020', 'dep_exp_2021', 'depr_ytd_oct'],\n",
       "      dtype='object')"
      ]
     },
     "execution_count": 112,
     "metadata": {},
     "output_type": "execute_result"
    }
   ],
   "source": [
    "df_depreciation_calc_rehab_2200.columns"
   ]
  },
  {
   "cell_type": "code",
   "execution_count": 113,
   "metadata": {},
   "outputs": [],
   "source": [
    "# df_depreciation_calc_rehab_2200.info()"
   ]
  },
  {
   "cell_type": "code",
   "execution_count": 114,
   "metadata": {},
   "outputs": [],
   "source": [
    "# burke_rehab_group.info()"
   ]
  },
  {
   "cell_type": "code",
   "execution_count": 115,
   "metadata": {},
   "outputs": [
    {
     "name": "stderr",
     "output_type": "stream",
     "text": [
      "<ipython-input-115-7c44ae5473e1>:3: SettingWithCopyWarning: \n",
      "A value is trying to be set on a copy of a slice from a DataFrame.\n",
      "Try using .loc[row_indexer,col_indexer] = value instead\n",
      "\n",
      "See the caveats in the documentation: https://pandas.pydata.org/pandas-docs/stable/user_guide/indexing.html#returning-a-view-versus-a-copy\n",
      "  fsm_asset_number_rehab_2200['FSM Asset'] = fsm_asset_number_rehab_2200['Asset'].astype('int')\n"
     ]
    }
   ],
   "source": [
    "\n",
    "fsm_asset_number_rehab_2200 = burke_rehab_group[['Asset', 'cbiz_index']]\n",
    "\n",
    "fsm_asset_number_rehab_2200['FSM Asset'] = fsm_asset_number_rehab_2200['Asset'].astype('int')\n",
    "# fsm_asset_number"
   ]
  },
  {
   "cell_type": "code",
   "execution_count": 116,
   "metadata": {},
   "outputs": [
    {
     "data": {
      "text/html": [
       "<div>\n",
       "<style scoped>\n",
       "    .dataframe tbody tr th:only-of-type {\n",
       "        vertical-align: middle;\n",
       "    }\n",
       "\n",
       "    .dataframe tbody tr th {\n",
       "        vertical-align: top;\n",
       "    }\n",
       "\n",
       "    .dataframe thead th {\n",
       "        text-align: right;\n",
       "    }\n",
       "</style>\n",
       "<table border=\"1\" class=\"dataframe\">\n",
       "  <thead>\n",
       "    <tr style=\"text-align: right;\">\n",
       "      <th></th>\n",
       "      <th>Asset</th>\n",
       "      <th>cbiz_index</th>\n",
       "      <th>FSM Asset</th>\n",
       "    </tr>\n",
       "    <tr>\n",
       "      <th>merge_index</th>\n",
       "      <th></th>\n",
       "      <th></th>\n",
       "      <th></th>\n",
       "    </tr>\n",
       "  </thead>\n",
       "  <tbody>\n",
       "    <tr>\n",
       "      <th>1</th>\n",
       "      <td>31646</td>\n",
       "      <td>1</td>\n",
       "      <td>31646</td>\n",
       "    </tr>\n",
       "    <tr>\n",
       "      <th>2</th>\n",
       "      <td>40244</td>\n",
       "      <td>2</td>\n",
       "      <td>40244</td>\n",
       "    </tr>\n",
       "    <tr>\n",
       "      <th>3</th>\n",
       "      <td>49383</td>\n",
       "      <td>3</td>\n",
       "      <td>49383</td>\n",
       "    </tr>\n",
       "    <tr>\n",
       "      <th>4</th>\n",
       "      <td>60311</td>\n",
       "      <td>4</td>\n",
       "      <td>60311</td>\n",
       "    </tr>\n",
       "    <tr>\n",
       "      <th>5</th>\n",
       "      <td>70624</td>\n",
       "      <td>5</td>\n",
       "      <td>70624</td>\n",
       "    </tr>\n",
       "    <tr>\n",
       "      <th>...</th>\n",
       "      <td>...</td>\n",
       "      <td>...</td>\n",
       "      <td>...</td>\n",
       "    </tr>\n",
       "    <tr>\n",
       "      <th>50460</th>\n",
       "      <td>71103</td>\n",
       "      <td>50460</td>\n",
       "      <td>71103</td>\n",
       "    </tr>\n",
       "    <tr>\n",
       "      <th>50461</th>\n",
       "      <td>71104</td>\n",
       "      <td>50461</td>\n",
       "      <td>71104</td>\n",
       "    </tr>\n",
       "    <tr>\n",
       "      <th>50462</th>\n",
       "      <td>71105</td>\n",
       "      <td>50462</td>\n",
       "      <td>71105</td>\n",
       "    </tr>\n",
       "    <tr>\n",
       "      <th>50463</th>\n",
       "      <td>71106</td>\n",
       "      <td>50463</td>\n",
       "      <td>71106</td>\n",
       "    </tr>\n",
       "    <tr>\n",
       "      <th>50464</th>\n",
       "      <td>71107</td>\n",
       "      <td>50464</td>\n",
       "      <td>71107</td>\n",
       "    </tr>\n",
       "  </tbody>\n",
       "</table>\n",
       "<p>44126 rows × 3 columns</p>\n",
       "</div>"
      ],
      "text/plain": [
       "             Asset  cbiz_index  FSM Asset\n",
       "merge_index                              \n",
       "1            31646           1      31646\n",
       "2            40244           2      40244\n",
       "3            49383           3      49383\n",
       "4            60311           4      60311\n",
       "5            70624           5      70624\n",
       "...            ...         ...        ...\n",
       "50460        71103       50460      71103\n",
       "50461        71104       50461      71104\n",
       "50462        71105       50462      71105\n",
       "50463        71106       50463      71106\n",
       "50464        71107       50464      71107\n",
       "\n",
       "[44126 rows x 3 columns]"
      ]
     },
     "execution_count": 116,
     "metadata": {},
     "output_type": "execute_result"
    }
   ],
   "source": [
    "fsm_asset_number_rehab_2200"
   ]
  },
  {
   "cell_type": "code",
   "execution_count": 117,
   "metadata": {},
   "outputs": [],
   "source": [
    "df_depreciation_calc_rehab_2200 = df_depreciation_calc_rehab_2200.merge(fsm_asset_number_rehab_2200, how='left',\n",
    "                                            left_on='aa_index', right_on=\"cbiz_index\")"
   ]
  },
  {
   "cell_type": "code",
   "execution_count": 118,
   "metadata": {},
   "outputs": [],
   "source": [
    "df_depreciation_calc_rehab_2200.set_index('aa_index', inplace=True)\n",
    "\n"
   ]
  },
  {
   "cell_type": "code",
   "execution_count": 119,
   "metadata": {},
   "outputs": [
    {
     "data": {
      "text/plain": [
       "Index(['AssetImport', 'Asset Description', 'Acquisition Date',\n",
       "       'Historical Cost', 'Accumulated Depreciation', 'Net Book Value',\n",
       "       'Net Book Value', 'Life', 'Life Months', 'LifeRemaining', 'Basis',\n",
       "       'InServiceDate_dt', 'Convention', 'Period Depreciation',\n",
       "       'LifeToDateDepreciation', 'Life_years', 'full_dep_yr', 'full_dep_yr_2',\n",
       "       'dep_exp_2020', 'dep_exp_2021', 'depr_ytd_oct', 'Asset', 'cbiz_index',\n",
       "       'FSM Asset'],\n",
       "      dtype='object')"
      ]
     },
     "execution_count": 119,
     "metadata": {},
     "output_type": "execute_result"
    }
   ],
   "source": [
    "df_depreciation_calc_rehab_2200 = df_depreciation_calc_rehab_2200.sort_index()\n",
    "df_depreciation_calc_rehab_2200.columns"
   ]
  },
  {
   "cell_type": "code",
   "execution_count": 120,
   "metadata": {},
   "outputs": [],
   "source": [
    "# df_depreciation_calc_rehab_2200.drop(['Asset', 'full_dep_yr' , 'cbiz_index'], axis=1, inplace=True)"
   ]
  },
  {
   "cell_type": "code",
   "execution_count": 121,
   "metadata": {},
   "outputs": [
    {
     "data": {
      "text/plain": [
       "Index(['AssetImport', 'Asset Description', 'Acquisition Date',\n",
       "       'Historical Cost', 'Accumulated Depreciation', 'Net Book Value',\n",
       "       'Net Book Value', 'Life', 'Life Months', 'LifeRemaining', 'Basis',\n",
       "       'InServiceDate_dt', 'Convention', 'Period Depreciation',\n",
       "       'LifeToDateDepreciation', 'Life_years', 'full_dep_yr', 'full_dep_yr_2',\n",
       "       'dep_exp_2020', 'dep_exp_2021', 'depr_ytd_oct', 'Asset', 'cbiz_index',\n",
       "       'FSM Asset'],\n",
       "      dtype='object')"
      ]
     },
     "execution_count": 121,
     "metadata": {},
     "output_type": "execute_result"
    }
   ],
   "source": [
    "df_depreciation_calc_rehab_2200.columns"
   ]
  },
  {
   "cell_type": "code",
   "execution_count": 122,
   "metadata": {},
   "outputs": [],
   "source": [
    "df_depreciation_calc_rehab_2200 = df_depreciation_calc_rehab_2200[['AssetImport', 'cbiz_index','FSM Asset', 'Asset Description', 'Acquisition Date',\n",
    "       'Historical Cost',  'Basis', 'Accumulated Depreciation', 'LifeToDateDepreciation',\n",
    "       'Net Book Value', 'Life Months','Life_years','full_dep_yr_2','Period Depreciation', 'dep_exp_2020', 'dep_exp_2021', 'depr_ytd_oct',   ]]\n",
    "\n",
    "df_depreciation_calc_rehab_2200 = df_depreciation_calc_rehab_2200.merge(fsm_depreciation, how='left',\n",
    "                                                           left_on='FSM Asset', right_on='Asset')\n",
    "\n",
    "df_depreciation_calc_rehab_2200 = df_depreciation_calc_rehab_2200[['AssetImport', 'cbiz_index','FSM Asset', 'Asset Description', 'Acquisition Date',\n",
    "       'Historical Cost',  'Basis', 'Accumulated Depreciation', 'LifeToDateDepreciation',\n",
    "       'Net Book Value', 'Life Months', 'Life_years','full_dep_yr_2','Period Depreciation', 'dep_exp_2020', 'dep_exp_2021', 'depr_ytd_oct','CurrentPeriodDepreciation',  ]]"
   ]
  },
  {
   "cell_type": "code",
   "execution_count": 144,
   "metadata": {},
   "outputs": [
    {
     "data": {
      "text/html": [
       "<div>\n",
       "<style scoped>\n",
       "    .dataframe tbody tr th:only-of-type {\n",
       "        vertical-align: middle;\n",
       "    }\n",
       "\n",
       "    .dataframe tbody tr th {\n",
       "        vertical-align: top;\n",
       "    }\n",
       "\n",
       "    .dataframe thead th {\n",
       "        text-align: right;\n",
       "    }\n",
       "</style>\n",
       "<table border=\"1\" class=\"dataframe\">\n",
       "  <thead>\n",
       "    <tr style=\"text-align: right;\">\n",
       "      <th></th>\n",
       "      <th>AssetImport</th>\n",
       "      <th>cbiz_index</th>\n",
       "      <th>FSM Asset</th>\n",
       "      <th>Asset Description</th>\n",
       "      <th>Acquisition Date</th>\n",
       "      <th>Historical Cost</th>\n",
       "      <th>Basis</th>\n",
       "      <th>Accumulated Depreciation</th>\n",
       "      <th>LifeToDateDepreciation</th>\n",
       "      <th>Net Book Value</th>\n",
       "      <th>Net Book Value</th>\n",
       "      <th>Life Months</th>\n",
       "      <th>Life_years</th>\n",
       "      <th>full_dep_yr_2</th>\n",
       "      <th>Period Depreciation</th>\n",
       "      <th>dep_exp_2020</th>\n",
       "      <th>dep_exp_2021</th>\n",
       "      <th>depr_ytd_oct</th>\n",
       "      <th>CurrentPeriodDepreciation</th>\n",
       "    </tr>\n",
       "  </thead>\n",
       "  <tbody>\n",
       "    <tr>\n",
       "      <th>0</th>\n",
       "      <td>BURK_REHAB_1</td>\n",
       "      <td>1</td>\n",
       "      <td>31646</td>\n",
       "      <td>SCALE UPGRADES ADVANCE</td>\n",
       "      <td>7/1/1996</td>\n",
       "      <td>$2,795.65</td>\n",
       "      <td>$2,795.65</td>\n",
       "      <td>$2,796.00</td>\n",
       "      <td>$2,795.65</td>\n",
       "      <td>$0.00</td>\n",
       "      <td>$0.00</td>\n",
       "      <td>$120.00</td>\n",
       "      <td>10</td>\n",
       "      <td>2006-07-01</td>\n",
       "      <td>$0.00</td>\n",
       "      <td>$0.00</td>\n",
       "      <td>$0.00</td>\n",
       "      <td>$0.00</td>\n",
       "      <td>$0.00</td>\n",
       "    </tr>\n",
       "    <tr>\n",
       "      <th>1</th>\n",
       "      <td>BURK_REHAB_2</td>\n",
       "      <td>2</td>\n",
       "      <td>40244</td>\n",
       "      <td>BOOKCASE OPEN</td>\n",
       "      <td>7/1/1996</td>\n",
       "      <td>$514.65</td>\n",
       "      <td>$514.65</td>\n",
       "      <td>$515.00</td>\n",
       "      <td>$514.65</td>\n",
       "      <td>$0.00</td>\n",
       "      <td>$0.00</td>\n",
       "      <td>$240.00</td>\n",
       "      <td>20</td>\n",
       "      <td>2016-07-01</td>\n",
       "      <td>$0.00</td>\n",
       "      <td>$0.00</td>\n",
       "      <td>$0.00</td>\n",
       "      <td>$0.00</td>\n",
       "      <td>$0.00</td>\n",
       "    </tr>\n",
       "    <tr>\n",
       "      <th>2</th>\n",
       "      <td>BURK_REHAB_3</td>\n",
       "      <td>3</td>\n",
       "      <td>49383</td>\n",
       "      <td>BOOKCASE OPEN</td>\n",
       "      <td>7/1/1996</td>\n",
       "      <td>$514.65</td>\n",
       "      <td>$514.65</td>\n",
       "      <td>$515.00</td>\n",
       "      <td>$514.65</td>\n",
       "      <td>$0.00</td>\n",
       "      <td>$0.00</td>\n",
       "      <td>$240.00</td>\n",
       "      <td>20</td>\n",
       "      <td>2016-07-01</td>\n",
       "      <td>$0.00</td>\n",
       "      <td>$0.00</td>\n",
       "      <td>$0.00</td>\n",
       "      <td>$0.00</td>\n",
       "      <td>$0.00</td>\n",
       "    </tr>\n",
       "    <tr>\n",
       "      <th>3</th>\n",
       "      <td>BURK_REHAB_4</td>\n",
       "      <td>4</td>\n",
       "      <td>60311</td>\n",
       "      <td>DESK 72X36 SING PED</td>\n",
       "      <td>7/1/1996</td>\n",
       "      <td>$893.00</td>\n",
       "      <td>$893.00</td>\n",
       "      <td>$893.00</td>\n",
       "      <td>$893.00</td>\n",
       "      <td>$0.00</td>\n",
       "      <td>$0.00</td>\n",
       "      <td>$240.00</td>\n",
       "      <td>20</td>\n",
       "      <td>2016-07-01</td>\n",
       "      <td>$0.00</td>\n",
       "      <td>$0.00</td>\n",
       "      <td>$0.00</td>\n",
       "      <td>$0.00</td>\n",
       "      <td>$0.00</td>\n",
       "    </tr>\n",
       "    <tr>\n",
       "      <th>4</th>\n",
       "      <td>BURK_REHAB_5</td>\n",
       "      <td>5</td>\n",
       "      <td>70624</td>\n",
       "      <td>DESK RETURN 60X24</td>\n",
       "      <td>7/1/1996</td>\n",
       "      <td>$470.00</td>\n",
       "      <td>$470.00</td>\n",
       "      <td>$470.00</td>\n",
       "      <td>$470.00</td>\n",
       "      <td>$0.00</td>\n",
       "      <td>$0.00</td>\n",
       "      <td>$240.00</td>\n",
       "      <td>20</td>\n",
       "      <td>2016-07-01</td>\n",
       "      <td>$0.00</td>\n",
       "      <td>$0.00</td>\n",
       "      <td>$0.00</td>\n",
       "      <td>$0.00</td>\n",
       "      <td>$0.00</td>\n",
       "    </tr>\n",
       "    <tr>\n",
       "      <th>...</th>\n",
       "      <td>...</td>\n",
       "      <td>...</td>\n",
       "      <td>...</td>\n",
       "      <td>...</td>\n",
       "      <td>...</td>\n",
       "      <td>...</td>\n",
       "      <td>...</td>\n",
       "      <td>...</td>\n",
       "      <td>...</td>\n",
       "      <td>...</td>\n",
       "      <td>...</td>\n",
       "      <td>...</td>\n",
       "      <td>...</td>\n",
       "      <td>...</td>\n",
       "      <td>...</td>\n",
       "      <td>...</td>\n",
       "      <td>...</td>\n",
       "      <td>...</td>\n",
       "      <td>...</td>\n",
       "    </tr>\n",
       "    <tr>\n",
       "      <th>44121</th>\n",
       "      <td>BURK_REHAB_50460</td>\n",
       "      <td>50460</td>\n",
       "      <td>71103</td>\n",
       "      <td>TABLE END</td>\n",
       "      <td>12/1/2019</td>\n",
       "      <td>$875.12</td>\n",
       "      <td>$875.12</td>\n",
       "      <td>$88.00</td>\n",
       "      <td>$87.51</td>\n",
       "      <td>$788.00</td>\n",
       "      <td>$788.00</td>\n",
       "      <td>$180.00</td>\n",
       "      <td>15</td>\n",
       "      <td>2034-12-01</td>\n",
       "      <td>$58.00</td>\n",
       "      <td>$58.34</td>\n",
       "      <td>$58.34</td>\n",
       "      <td>$48.62</td>\n",
       "      <td>$19.45</td>\n",
       "    </tr>\n",
       "    <tr>\n",
       "      <th>44122</th>\n",
       "      <td>BURK_REHAB_50461</td>\n",
       "      <td>50461</td>\n",
       "      <td>71104</td>\n",
       "      <td>TABLE END</td>\n",
       "      <td>12/1/2019</td>\n",
       "      <td>$875.12</td>\n",
       "      <td>$875.12</td>\n",
       "      <td>$88.00</td>\n",
       "      <td>$87.51</td>\n",
       "      <td>$788.00</td>\n",
       "      <td>$788.00</td>\n",
       "      <td>$180.00</td>\n",
       "      <td>15</td>\n",
       "      <td>2034-12-01</td>\n",
       "      <td>$58.00</td>\n",
       "      <td>$58.34</td>\n",
       "      <td>$58.34</td>\n",
       "      <td>$48.62</td>\n",
       "      <td>$19.45</td>\n",
       "    </tr>\n",
       "    <tr>\n",
       "      <th>44123</th>\n",
       "      <td>BURK_REHAB_50462</td>\n",
       "      <td>50462</td>\n",
       "      <td>71105</td>\n",
       "      <td>TABLE END</td>\n",
       "      <td>12/1/2019</td>\n",
       "      <td>$875.12</td>\n",
       "      <td>$875.12</td>\n",
       "      <td>$88.00</td>\n",
       "      <td>$87.51</td>\n",
       "      <td>$788.00</td>\n",
       "      <td>$788.00</td>\n",
       "      <td>$180.00</td>\n",
       "      <td>15</td>\n",
       "      <td>2034-12-01</td>\n",
       "      <td>$58.00</td>\n",
       "      <td>$58.34</td>\n",
       "      <td>$58.34</td>\n",
       "      <td>$48.62</td>\n",
       "      <td>$19.45</td>\n",
       "    </tr>\n",
       "    <tr>\n",
       "      <th>44124</th>\n",
       "      <td>BURK_REHAB_50463</td>\n",
       "      <td>50463</td>\n",
       "      <td>71106</td>\n",
       "      <td>TABLE END</td>\n",
       "      <td>12/1/2019</td>\n",
       "      <td>$875.12</td>\n",
       "      <td>$875.12</td>\n",
       "      <td>$88.00</td>\n",
       "      <td>$87.51</td>\n",
       "      <td>$788.00</td>\n",
       "      <td>$788.00</td>\n",
       "      <td>$180.00</td>\n",
       "      <td>15</td>\n",
       "      <td>2034-12-01</td>\n",
       "      <td>$58.00</td>\n",
       "      <td>$58.34</td>\n",
       "      <td>$58.34</td>\n",
       "      <td>$48.62</td>\n",
       "      <td>$19.45</td>\n",
       "    </tr>\n",
       "    <tr>\n",
       "      <th>44125</th>\n",
       "      <td>BURK_REHAB_50464</td>\n",
       "      <td>50464</td>\n",
       "      <td>71107</td>\n",
       "      <td>FURNITURE</td>\n",
       "      <td>12/1/2019</td>\n",
       "      <td>$9,726.30</td>\n",
       "      <td>$9,726.30</td>\n",
       "      <td>$973.00</td>\n",
       "      <td>$972.63</td>\n",
       "      <td>$8,754.00</td>\n",
       "      <td>$8,754.00</td>\n",
       "      <td>$180.00</td>\n",
       "      <td>15</td>\n",
       "      <td>2034-12-01</td>\n",
       "      <td>$648.00</td>\n",
       "      <td>$648.42</td>\n",
       "      <td>$648.42</td>\n",
       "      <td>$540.35</td>\n",
       "      <td>$216.14</td>\n",
       "    </tr>\n",
       "  </tbody>\n",
       "</table>\n",
       "<p>44126 rows × 19 columns</p>\n",
       "</div>"
      ],
      "text/plain": [
       "            AssetImport  cbiz_index  FSM Asset       Asset Description Acquisition Date  Historical Cost     Basis  Accumulated Depreciation  LifeToDateDepreciation  Net Book Value  Net Book Value  Life Months  Life_years full_dep_yr_2  Period Depreciation  dep_exp_2020  dep_exp_2021  depr_ytd_oct  CurrentPeriodDepreciation\n",
       "0          BURK_REHAB_1           1      31646  SCALE UPGRADES ADVANCE         7/1/1996        $2,795.65 $2,795.65                 $2,796.00               $2,795.65           $0.00           $0.00      $120.00          10    2006-07-01                $0.00         $0.00         $0.00         $0.00                      $0.00\n",
       "1          BURK_REHAB_2           2      40244           BOOKCASE OPEN         7/1/1996          $514.65   $514.65                   $515.00                 $514.65           $0.00           $0.00      $240.00          20    2016-07-01                $0.00         $0.00         $0.00         $0.00                      $0.00\n",
       "2          BURK_REHAB_3           3      49383           BOOKCASE OPEN         7/1/1996          $514.65   $514.65                   $515.00                 $514.65           $0.00           $0.00      $240.00          20    2016-07-01                $0.00         $0.00         $0.00         $0.00                      $0.00\n",
       "3          BURK_REHAB_4           4      60311     DESK 72X36 SING PED         7/1/1996          $893.00   $893.00                   $893.00                 $893.00           $0.00           $0.00      $240.00          20    2016-07-01                $0.00         $0.00         $0.00         $0.00                      $0.00\n",
       "4          BURK_REHAB_5           5      70624       DESK RETURN 60X24         7/1/1996          $470.00   $470.00                   $470.00                 $470.00           $0.00           $0.00      $240.00          20    2016-07-01                $0.00         $0.00         $0.00         $0.00                      $0.00\n",
       "...                 ...         ...        ...                     ...              ...              ...       ...                       ...                     ...             ...             ...          ...         ...           ...                  ...           ...           ...           ...                        ...\n",
       "44121  BURK_REHAB_50460       50460      71103               TABLE END        12/1/2019          $875.12   $875.12                    $88.00                  $87.51         $788.00         $788.00      $180.00          15    2034-12-01               $58.00        $58.34        $58.34        $48.62                     $19.45\n",
       "44122  BURK_REHAB_50461       50461      71104               TABLE END        12/1/2019          $875.12   $875.12                    $88.00                  $87.51         $788.00         $788.00      $180.00          15    2034-12-01               $58.00        $58.34        $58.34        $48.62                     $19.45\n",
       "44123  BURK_REHAB_50462       50462      71105               TABLE END        12/1/2019          $875.12   $875.12                    $88.00                  $87.51         $788.00         $788.00      $180.00          15    2034-12-01               $58.00        $58.34        $58.34        $48.62                     $19.45\n",
       "44124  BURK_REHAB_50463       50463      71106               TABLE END        12/1/2019          $875.12   $875.12                    $88.00                  $87.51         $788.00         $788.00      $180.00          15    2034-12-01               $58.00        $58.34        $58.34        $48.62                     $19.45\n",
       "44125  BURK_REHAB_50464       50464      71107               FURNITURE        12/1/2019        $9,726.30 $9,726.30                   $973.00                 $972.63       $8,754.00       $8,754.00      $180.00          15    2034-12-01              $648.00       $648.42       $648.42       $540.35                    $216.14\n",
       "\n",
       "[44126 rows x 19 columns]"
      ]
     },
     "execution_count": 144,
     "metadata": {},
     "output_type": "execute_result"
    }
   ],
   "source": [
    "df_depreciation_calc_rehab_2200"
   ]
  },
  {
   "cell_type": "code",
   "execution_count": 154,
   "metadata": {},
   "outputs": [],
   "source": [
    "burke_rehab_2020_depreciation_diffs = df_depreciation_calc_rehab_2200[df_depreciation_calc_rehab_2200['Period Depreciation'] != df_depreciation_calc_rehab_2200['dep_exp_2020']]"
   ]
  },
  {
   "cell_type": "code",
   "execution_count": 155,
   "metadata": {},
   "outputs": [
    {
     "data": {
      "text/plain": [
       "(6933, 19)"
      ]
     },
     "execution_count": 155,
     "metadata": {},
     "output_type": "execute_result"
    }
   ],
   "source": [
    "burke_rehab_2020_depreciation_diffs.shape"
   ]
  },
  {
   "cell_type": "code",
   "execution_count": 157,
   "metadata": {},
   "outputs": [
    {
     "data": {
      "text/plain": [
       "-201470.24513349496"
      ]
     },
     "execution_count": 157,
     "metadata": {},
     "output_type": "execute_result"
    }
   ],
   "source": [
    "burke_rehab_2020_depreciation_diffs['Period Depreciation'].sum() - burke_rehab_2020_depreciation_diffs['dep_exp_2020'].sum()"
   ]
  },
  {
   "cell_type": "code",
   "execution_count": 158,
   "metadata": {},
   "outputs": [
    {
     "data": {
      "text/plain": [
       "-201470.24513349496"
      ]
     },
     "execution_count": 158,
     "metadata": {},
     "output_type": "execute_result"
    }
   ],
   "source": [
    "burke_rehab_2020_depreciation_diffs['Period Depreciation'].sum() - burke_rehab_2020_depreciation_diffs['dep_exp_2020'].sum()"
   ]
  },
  {
   "cell_type": "code",
   "execution_count": 159,
   "metadata": {},
   "outputs": [],
   "source": [
    "df_depreciation_calc_rehab_2200.to_csv(r'C:\\Users\\mikra\\OneDrive\\Documents\\Work\\conversion\\SIT3\\november_AX2\\fixed_assets\\burke\\output_2200\\sit3_2200_rehab_depreciation.csv')"
   ]
  },
  {
   "cell_type": "code",
   "execution_count": 160,
   "metadata": {},
   "outputs": [],
   "source": [
    "burke_rehab_2020_depreciation_diffs.to_csv(r'C:\\Users\\mikra\\OneDrive\\Documents\\Work\\conversion\\SIT3\\november_AX2\\fixed_assets\\burke\\output_2200\\sit3_2200_rehab_depreciation_diffs.csv')"
   ]
  },
  {
   "cell_type": "code",
   "execution_count": null,
   "metadata": {},
   "outputs": [],
   "source": []
  }
 ],
 "metadata": {
  "kernelspec": {
   "display_name": "Python 3",
   "language": "python",
   "name": "python3"
  },
  "language_info": {
   "codemirror_mode": {
    "name": "ipython",
    "version": 3
   },
   "file_extension": ".py",
   "mimetype": "text/x-python",
   "name": "python",
   "nbconvert_exporter": "python",
   "pygments_lexer": "ipython3",
   "version": "3.8.5"
  }
 },
 "nbformat": 4,
 "nbformat_minor": 4
}

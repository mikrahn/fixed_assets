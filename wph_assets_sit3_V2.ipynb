{
 "cells": [
  {
   "cell_type": "code",
   "execution_count": 1,
   "metadata": {},
   "outputs": [],
   "source": [
    "import pandas as pd\n",
    "import numpy as np\n",
    "pd.set_option(\"display.expand_frame_repr\", False)\n",
    "pd.set_option(\"display.max_row\", 100)\n",
    "pd.set_option('display.max.columns', None)\n",
    "pd.set_option('display.precision', 2)\n",
    "pd.options.display.float_format = '${:,.2f}'.format\n",
    "from datetime import date, time, datetime, timedelta\n",
    "import dateutil\n",
    "from dateutil.relativedelta import relativedelta"
   ]
  },
  {
   "cell_type": "markdown",
   "metadata": {},
   "source": [
    "## Load and manipulation of files for use"
   ]
  },
  {
   "cell_type": "code",
   "execution_count": 12,
   "metadata": {},
   "outputs": [],
   "source": [
    "wp_aa_report = pd.read_csv(r\"C:\\Users\\mikra\\OneDrive\\Documents\\Work\\conversion\\SIT3\\november_AX2\\fixed_assets\\wph\\source_files_2021\\wph\\White Plains Hospital Center - SL - Draft 2 (3).csv\",\n",
    "                         \n",
    "                         usecols=['M_ID', 'M_Activ_Code', 'M_Acct', 'M_Dept', 'M_Bldg','M_Qty', 'M_Descr', 'M_Acq_Date',\n",
    "                         'M_Original_Cost', 'M_BIC', 'M_Src_Code', 'B_Life_Y', 'B_Depr_Period', 'B_Depr_Accum',\n",
    "                         'B_Depr_Proj_Provision', 'NBV'], )\n",
    "\n"
   ]
  },
  {
   "cell_type": "code",
   "execution_count": 13,
   "metadata": {},
   "outputs": [],
   "source": [
    "# convert string columns to float\n",
    "# wp_aa_report['M_Original_Cost'] = wp_aa_report['M_Original_Cost'].apply(lambda x: float(x.split()[0].replace(',', '')))\n",
    "wp_aa_report['B_Depr_Period'] = wp_aa_report['B_Depr_Period'].apply(lambda x: float(x.split()[0].replace(',', '')))\n",
    "wp_aa_report['B_Depr_Accum'] = wp_aa_report['B_Depr_Accum'].apply(lambda x: float(x.split()[0].replace(',', '')))\n",
    "wp_aa_report['B_Depr_Proj_Provision'] = wp_aa_report['B_Depr_Proj_Provision'].apply(lambda x: float(x.split()[0].replace(',', '')))\n",
    "wp_aa_report['NBV'] = wp_aa_report['NBV'].apply(lambda x: float(x.split()[0].replace(',', '')))\n",
    "\n",
    "# create a new column in ww_aa_report that converts the 'M_Acq_Date' column to datetime \n",
    "\n",
    "wp_aa_report['M_Acq_Date_dt'] = pd.to_datetime(wp_aa_report['M_Acq_Date'])"
   ]
  },
  {
   "cell_type": "code",
   "execution_count": 14,
   "metadata": {},
   "outputs": [
    {
     "name": "stdout",
     "output_type": "stream",
     "text": [
      "<class 'pandas.core.frame.DataFrame'>\n",
      "RangeIndex: 42669 entries, 0 to 42668\n",
      "Data columns (total 17 columns):\n",
      " #   Column                 Non-Null Count  Dtype         \n",
      "---  ------                 --------------  -----         \n",
      " 0   M_ID                   42669 non-null  int64         \n",
      " 1   M_Activ_Code           42669 non-null  object        \n",
      " 2   M_Acct                 42669 non-null  object        \n",
      " 3   M_Dept                 40360 non-null  object        \n",
      " 4   M_Bldg                 34087 non-null  object        \n",
      " 5   M_Qty                  42669 non-null  int64         \n",
      " 6   M_Descr                42669 non-null  object        \n",
      " 7   M_Acq_Date             42669 non-null  object        \n",
      " 8   M_Original_Cost        42669 non-null  float64       \n",
      " 9   M_BIC                  42669 non-null  int64         \n",
      " 10  M_Src_Code             42669 non-null  object        \n",
      " 11  B_Life_Y               42669 non-null  int64         \n",
      " 12  B_Depr_Period          42669 non-null  float64       \n",
      " 13  B_Depr_Accum           42669 non-null  float64       \n",
      " 14  B_Depr_Proj_Provision  42669 non-null  float64       \n",
      " 15  NBV                    42669 non-null  float64       \n",
      " 16  M_Acq_Date_dt          42669 non-null  datetime64[ns]\n",
      "dtypes: datetime64[ns](1), float64(5), int64(4), object(7)\n",
      "memory usage: 5.5+ MB\n"
     ]
    }
   ],
   "source": [
    "wp_aa_report.info()"
   ]
  },
  {
   "cell_type": "markdown",
   "metadata": {},
   "source": [
    "# Need 2021 fixed asset load files from data team"
   ]
  },
  {
   "cell_type": "code",
   "execution_count": 15,
   "metadata": {},
   "outputs": [],
   "source": [
    "# wp_tb = pd.read_csv(r'C:\\Users\\Mikra\\OneDrive\\Documents\\Work\\conversion\\august_2021\\Validation Dec 2020 INFOR Data.csv')\n",
    "         \n",
    "\n",
    "\n",
    "\n"
   ]
  },
  {
   "cell_type": "code",
   "execution_count": 135,
   "metadata": {},
   "outputs": [],
   "source": [
    "me_load_asset_item = pd.read_csv(r'C:\\Users\\mikra\\OneDrive\\Documents\\Work\\conversion\\SIT3\\november_AX2\\fixed_assets\\Entity_Asset_Item_Import.csv')"
   ]
  },
  {
   "cell_type": "code",
   "execution_count": 136,
   "metadata": {},
   "outputs": [],
   "source": [
    "me_load_asset_book = pd.read_csv(r'C:\\Users\\mikra\\OneDrive\\Documents\\Work\\conversion\\SIT3\\november_AX2\\fixed_assets\\Entity_Asset_Book_Import.csv',\n",
    "                                usecols=['FinanceEnterpriseGroup', 'AssetImport', 'Book', 'RunGroup', 'Active', 'Life',\n",
    "                                         'LifeRemaining', 'Basis', 'Method', 'InServiceDate', 'Convention',\n",
    "                                         'YearToDateDepreciation', 'LifeToDateDepreciation'])\n"
   ]
  },
  {
   "cell_type": "code",
   "execution_count": 137,
   "metadata": {},
   "outputs": [
    {
     "name": "stderr",
     "output_type": "stream",
     "text": [
      "C:\\Users\\mikra\\anaconda3\\lib\\site-packages\\IPython\\core\\interactiveshell.py:3165: DtypeWarning: Columns (12) have mixed types.Specify dtype option on import or set low_memory=False.\n",
      "  has_raised = await self.run_ast_nodes(code_ast.body, cell_name,\n"
     ]
    }
   ],
   "source": [
    "me_load_asset = pd.read_csv(r'C:\\Users\\mikra\\OneDrive\\Documents\\Work\\conversion\\SIT3\\november_AX2\\fixed_assets\\Entity_Asset_Import.csv')"
   ]
  },
  {
   "cell_type": "code",
   "execution_count": 138,
   "metadata": {},
   "outputs": [],
   "source": [
    "# me_load_asset.info()"
   ]
  },
  {
   "cell_type": "code",
   "execution_count": 139,
   "metadata": {},
   "outputs": [],
   "source": [
    "# wp_aa_report.info()"
   ]
  },
  {
   "cell_type": "code",
   "execution_count": 141,
   "metadata": {},
   "outputs": [],
   "source": [
    "# wp_aa_report.info()"
   ]
  },
  {
   "cell_type": "code",
   "execution_count": 142,
   "metadata": {},
   "outputs": [],
   "source": [
    "# me_load_asset_book.info()\n"
   ]
  },
  {
   "cell_type": "code",
   "execution_count": 143,
   "metadata": {},
   "outputs": [],
   "source": [
    "# convert the me_load_asset_book series elements from int to string prior to converting to datetime\n",
    "\n",
    "me_load_asset_book['InServiceDate'] = me_load_asset_book['InServiceDate'].astype(str)\n",
    "\n",
    "# create a new column in me_load_asset_book that contains the 'InServiceDate' elements to datetime objects\n",
    "me_load_asset_book['InServiceDate_dt'] = pd.to_datetime(me_load_asset_book['InServiceDate'])\n",
    "\n",
    "# convert 'Life' column to float dtype\n",
    "\n",
    "me_load_asset_book['Life'] = me_load_asset_book['Life'].astype(float)\n",
    "\n",
    "\n",
    "\n",
    "\n",
    "\n",
    "\n",
    "\n",
    "\n",
    "\n"
   ]
  },
  {
   "cell_type": "code",
   "execution_count": 144,
   "metadata": {},
   "outputs": [
    {
     "data": {
      "text/html": [
       "<div>\n",
       "<style scoped>\n",
       "    .dataframe tbody tr th:only-of-type {\n",
       "        vertical-align: middle;\n",
       "    }\n",
       "\n",
       "    .dataframe tbody tr th {\n",
       "        vertical-align: top;\n",
       "    }\n",
       "\n",
       "    .dataframe thead th {\n",
       "        text-align: right;\n",
       "    }\n",
       "</style>\n",
       "<table border=\"1\" class=\"dataframe\">\n",
       "  <thead>\n",
       "    <tr style=\"text-align: right;\">\n",
       "      <th></th>\n",
       "      <th>FinanceEnterpriseGroup</th>\n",
       "      <th>AssetImport</th>\n",
       "      <th>Book</th>\n",
       "      <th>RunGroup</th>\n",
       "      <th>Active</th>\n",
       "      <th>Life</th>\n",
       "      <th>LifeRemaining</th>\n",
       "      <th>Basis</th>\n",
       "      <th>Method</th>\n",
       "      <th>InServiceDate</th>\n",
       "      <th>Convention</th>\n",
       "      <th>YearToDateDepreciation</th>\n",
       "      <th>LifeToDateDepreciation</th>\n",
       "      <th>InServiceDate_dt</th>\n",
       "    </tr>\n",
       "  </thead>\n",
       "  <tbody>\n",
       "  </tbody>\n",
       "</table>\n",
       "</div>"
      ],
      "text/plain": [
       "Empty DataFrame\n",
       "Columns: [FinanceEnterpriseGroup, AssetImport, Book, RunGroup, Active, Life, LifeRemaining, Basis, Method, InServiceDate, Convention, YearToDateDepreciation, LifeToDateDepreciation, InServiceDate_dt]\n",
       "Index: []"
      ]
     },
     "execution_count": 144,
     "metadata": {},
     "output_type": "execute_result"
    }
   ],
   "source": [
    "me_load_missing = me_load_asset_book[me_load_asset_book['Life'].isna()]\n",
    "me_load_missing"
   ]
  },
  {
   "cell_type": "code",
   "execution_count": 145,
   "metadata": {},
   "outputs": [
    {
     "data": {
      "text/plain": [
       "array(['BURKE_COVID_ASSET', 'BURKE_FOUNDATION_ASSET', 'BURK_REHAB_ASSET',\n",
       "       'SLH_ASSET', 'WPH_ASSET', 'NYK_ASSET'], dtype=object)"
      ]
     },
     "execution_count": 145,
     "metadata": {},
     "output_type": "execute_result"
    }
   ],
   "source": [
    "me_load_asset_book['RunGroup'].unique()"
   ]
  },
  {
   "cell_type": "code",
   "execution_count": 146,
   "metadata": {},
   "outputs": [],
   "source": [
    "# create a new dataframe from the me_load_asset_book file / 'RunGroup column with only WPH Assets\n",
    "wph_asset_load = me_load_asset_book[me_load_asset_book['RunGroup'] == 'WPH_ASSET']\n"
   ]
  },
  {
   "cell_type": "code",
   "execution_count": 147,
   "metadata": {},
   "outputs": [
    {
     "data": {
      "text/plain": [
       "39489"
      ]
     },
     "execution_count": 147,
     "metadata": {},
     "output_type": "execute_result"
    }
   ],
   "source": [
    "# number of asset lines in aa report\n",
    "wp_aa_report['M_ID'].count()"
   ]
  },
  {
   "cell_type": "code",
   "execution_count": 149,
   "metadata": {},
   "outputs": [
    {
     "data": {
      "text/plain": [
       "39228"
      ]
     },
     "execution_count": 149,
     "metadata": {},
     "output_type": "execute_result"
    }
   ],
   "source": [
    "# number of wph asset lines in asset_book load file; aa report has more asset lines than load? we removed the 'zero' records\n",
    "wph_asset_load['AssetImport'].count()"
   ]
  },
  {
   "cell_type": "code",
   "execution_count": 150,
   "metadata": {},
   "outputs": [],
   "source": [
    "# wph_load_missing = wph_asset_load[me_load_asset_book['Life'].isna()]\n",
    "# wph_load_missing\n"
   ]
  },
  {
   "cell_type": "code",
   "execution_count": 151,
   "metadata": {
    "scrolled": true
   },
   "outputs": [
    {
     "name": "stderr",
     "output_type": "stream",
     "text": [
      "<ipython-input-151-dc7d8de8be13>:2: SettingWithCopyWarning: \n",
      "A value is trying to be set on a copy of a slice from a DataFrame.\n",
      "Try using .loc[row_indexer,col_indexer] = value instead\n",
      "\n",
      "See the caveats in the documentation: https://pandas.pydata.org/pandas-docs/stable/user_guide/indexing.html#returning-a-view-versus-a-copy\n",
      "  wph_asset_load['aa_index'] = wph_asset_load['AssetImport'].apply(lambda x: int(x.split('_')[1]))\n"
     ]
    }
   ],
   "source": [
    "# create a column with index that corresponds to M_ID in the wp_aa_report file from american appraisal\n",
    "wph_asset_load['aa_index'] = wph_asset_load['AssetImport'].apply(lambda x: int(x.split('_')[1]))"
   ]
  },
  {
   "cell_type": "code",
   "execution_count": 152,
   "metadata": {},
   "outputs": [],
   "source": [
    "# merge the wph_asset_load and wp_aa_report columns on the common index \n",
    "aa_load_merge = wph_asset_load.merge(wp_aa_report,how='inner',\n",
    "left_on=\"aa_index\", right_on='M_ID')"
   ]
  },
  {
   "cell_type": "code",
   "execution_count": 153,
   "metadata": {},
   "outputs": [],
   "source": [
    "# create the a dataframe of columns from the asset_load file to incorporate into the merged file\n",
    "wph_add_cols = me_load_asset[me_load_asset['RunGroup'] == 'WPH_ASSET']"
   ]
  },
  {
   "cell_type": "code",
   "execution_count": 154,
   "metadata": {},
   "outputs": [
    {
     "data": {
      "text/plain": [
       "Index(['UniqueID', 'FinanceEnterpriseGroup', 'AssetImport', 'RunGroup',\n",
       "       'RecordInError', 'ErrorMessage', 'Asset',\n",
       "       'AssetManagementInterfaceResult', 'Description', 'Classification',\n",
       "       'AssetLease.LeaseCompany', 'AssetLease.Lease', 'TagNumber',\n",
       "       'AssetGroup', 'AssetCategory', 'Reference2', 'Simulated',\n",
       "       'WorkInProcess', 'TaxExempt', 'Used', 'Company', 'Currency',\n",
       "       'AssetLocation', 'AssetDivision', 'AssetType.Type', 'AssetType.SubType',\n",
       "       'AssetAccountingUnit.Ledger', 'AssetAccountingUnit.ToAccountingEntity',\n",
       "       'AssetAccountingUnit.AccountingUnit', 'AssetAccountingUnit.Project',\n",
       "       'AssetAccountingUnit.FinanceDimension1',\n",
       "       'AssetAccountingUnit.FinanceDimension2',\n",
       "       'AssetAccountingUnit.FinanceDimension3',\n",
       "       'AssetAccountingUnit.FinanceDimension4',\n",
       "       'AssetAccountingUnit.FinanceDimension5',\n",
       "       'AssetAccountingUnit.FinanceDimension6',\n",
       "       'AssetAccountingUnit.FinanceDimension7',\n",
       "       'AssetAccountingUnit.FinanceDimension8',\n",
       "       'AssetAccountingUnit.FinanceDimension9',\n",
       "       'AssetAccountingUnit.FinanceDimension10',\n",
       "       'DepreciationExpenseProject.Project', 'AssetAccountingUnitGroup',\n",
       "       'AssetAccountGroup', 'IncludeInPhysicalInventory', 'AssetOwner'],\n",
       "      dtype='object')"
      ]
     },
     "execution_count": 154,
     "metadata": {},
     "output_type": "execute_result"
    }
   ],
   "source": [
    "wph_add_cols.columns"
   ]
  },
  {
   "cell_type": "code",
   "execution_count": 155,
   "metadata": {},
   "outputs": [
    {
     "data": {
      "text/plain": [
       "Index(['AssetType.Type', 'Reference2', 'AssetImport2'], dtype='object')"
      ]
     },
     "execution_count": 155,
     "metadata": {},
     "output_type": "execute_result"
    }
   ],
   "source": [
    "wph_add_cols = wph_add_cols[['AssetImport','AssetType.Type', 'Reference2', ]]\n",
    "wph_add_cols['AssetImport2'] = wph_add_cols['AssetImport']\n",
    "wph_add_cols.drop('AssetImport', axis=1, inplace=True)\n",
    "wph_add_cols.columns"
   ]
  },
  {
   "cell_type": "code",
   "execution_count": 156,
   "metadata": {},
   "outputs": [
    {
     "name": "stdout",
     "output_type": "stream",
     "text": [
      "<class 'pandas.core.frame.DataFrame'>\n",
      "Int64Index: 39228 entries, 163 to 94084\n",
      "Data columns (total 3 columns):\n",
      " #   Column          Non-Null Count  Dtype \n",
      "---  ------          --------------  ----- \n",
      " 0   AssetType.Type  39228 non-null  object\n",
      " 1   Reference2      39228 non-null  object\n",
      " 2   AssetImport2    39228 non-null  object\n",
      "dtypes: object(3)\n",
      "memory usage: 1.2+ MB\n"
     ]
    }
   ],
   "source": [
    "wph_add_cols.info()"
   ]
  },
  {
   "cell_type": "code",
   "execution_count": 157,
   "metadata": {},
   "outputs": [],
   "source": [
    "# merge the df with the new columns (wph_add_cols) into the existing merged file (aa_load_merge)\n",
    "aa_load_merge = aa_load_merge.merge(wph_add_cols,how='inner',\n",
    "left_on=\"AssetImport\", right_on='AssetImport2')"
   ]
  },
  {
   "cell_type": "code",
   "execution_count": 158,
   "metadata": {},
   "outputs": [
    {
     "data": {
      "text/plain": [
       "Index(['FinanceEnterpriseGroup', 'AssetImport', 'Book', 'RunGroup', 'Active',\n",
       "       'Life', 'LifeRemaining', 'Basis', 'Method', 'InServiceDate',\n",
       "       'Convention', 'YearToDateDepreciation', 'LifeToDateDepreciation',\n",
       "       'InServiceDate_dt', 'aa_index', 'M_ID', 'M_Activ_Code', 'M_Acct',\n",
       "       'M_Dept', 'M_Bldg', 'M_Qty', 'M_Descr', 'M_Acq_Date', 'M_Original_Cost',\n",
       "       'M_BIC', 'M_Src_Code', 'B_Life_Y', 'B_Depr_Period', 'B_Depr_Accum',\n",
       "       'B_Depr_Proj_Provision', 'NBV', 'M_Acq_Date_dt', 'AssetType.Type',\n",
       "       'Reference2', 'AssetImport2'],\n",
       "      dtype='object')"
      ]
     },
     "execution_count": 158,
     "metadata": {},
     "output_type": "execute_result"
    }
   ],
   "source": [
    "aa_load_merge.columns"
   ]
  },
  {
   "cell_type": "code",
   "execution_count": 159,
   "metadata": {},
   "outputs": [],
   "source": [
    "# reorder the columns of the new df\n",
    "aa_load_merge = aa_load_merge[['FinanceEnterpriseGroup', 'AssetImport', 'M_ID',\n",
    "       'AssetType.Type', 'Reference2', 'Life','LifeRemaining', 'Basis', 'Method', 'InServiceDate',\n",
    "        'InServiceDate_dt', 'Book', 'RunGroup',\n",
    "       'Active', 'Convention', 'YearToDateDepreciation',\n",
    "       'LifeToDateDepreciation',  'M_Activ_Code', 'M_Acct',\n",
    "       'M_Dept', 'M_Bldg', 'M_Qty', 'M_Descr', 'M_Acq_Date', 'M_Acq_Date_dt', 'M_Original_Cost',\n",
    "       'M_BIC', 'M_Src_Code', 'B_Life_Y', 'B_Depr_Period', 'B_Depr_Accum',\n",
    "       'B_Depr_Proj_Provision', 'NBV',]]"
   ]
  },
  {
   "cell_type": "code",
   "execution_count": 160,
   "metadata": {},
   "outputs": [],
   "source": [
    "# # split out the portion of the Reference2 column that corresponds to the AA report M_Acct types\n",
    "# # don't need this as M_Acct col from aa report is already in the merged file\n",
    "# merged_file_aa_acct_types = aa_load_merge['Reference2'].apply(lambda x: x.split(\"-\")).apply(lambda x: x[1])"
   ]
  },
  {
   "cell_type": "code",
   "execution_count": 161,
   "metadata": {},
   "outputs": [],
   "source": [
    "# merged_file_aa_acct_types.unique()"
   ]
  },
  {
   "cell_type": "code",
   "execution_count": 162,
   "metadata": {},
   "outputs": [
    {
     "name": "stdout",
     "output_type": "stream",
     "text": [
      "WPH Asset Book Basis: 792815616.04\n",
      "WPH AA cost: 792815616.04\n",
      "WPH AA NBV: 361856545.4\n",
      "WPH AA accumulated depreciation: 430959070.64\n",
      "WPH AA projected depreciation: 38795833.79\n"
     ]
    }
   ],
   "source": [
    "# aa report and load file cost numbers are the same in the merged file and the other numbers tie to AA report\n",
    "print(f\"WPH Asset Book Basis: {aa_load_merge['Basis'].sum()}\")\n",
    "print(f\"WPH AA cost: {aa_load_merge['M_Original_Cost'].sum()}\")\n",
    "print(f\"WPH AA NBV: {aa_load_merge['NBV'].sum()}\")\n",
    "print(f\"WPH AA accumulated depreciation: {aa_load_merge['B_Depr_Accum'].sum()}\")\n",
    "print(f\"WPH AA projected depreciation: {aa_load_merge['B_Depr_Proj_Provision'].sum()}\")"
   ]
  },
  {
   "cell_type": "code",
   "execution_count": 163,
   "metadata": {},
   "outputs": [],
   "source": [
    "# # examine the merged file head\n",
    "# aa_load_merge.head()"
   ]
  },
  {
   "cell_type": "code",
   "execution_count": 164,
   "metadata": {},
   "outputs": [],
   "source": [
    "# aa_load_merge.columns"
   ]
  },
  {
   "cell_type": "code",
   "execution_count": 165,
   "metadata": {},
   "outputs": [],
   "source": [
    "# # save to Excel format\n",
    "# aa_load_merge.to_csv(r'C:\\Users\\Michael\\OneDrive\\Documents\\Work\\conversion\\sep_2021_trn\\output_2600\\tst_wph_2600_sourc_load_merge.csv')\n",
    "# # "
   ]
  },
  {
   "cell_type": "markdown",
   "metadata": {},
   "source": [
    "### Analysis of Asset type groupings in merged file"
   ]
  },
  {
   "cell_type": "code",
   "execution_count": 166,
   "metadata": {},
   "outputs": [
    {
     "data": {
      "text/plain": [
       "M_Acct\n",
       "1N      $1,409,846.87\n",
       "1O      $1,199,602.81\n",
       "1OC     $1,044,979.00\n",
       "2N      $4,681,511.62\n",
       "2O        $526,443.38\n",
       "2OC     $1,804,204.09\n",
       "3N    $419,266,168.37\n",
       "3O     $19,740,286.08\n",
       "3OC    $21,572,126.42\n",
       "4N     $36,609,914.58\n",
       "4O     $14,017,888.08\n",
       "4OC    $22,810,894.33\n",
       "5N    $173,214,894.58\n",
       "5O     $17,017,983.70\n",
       "5OC     $4,153,899.19\n",
       "6N        $856,514.53\n",
       "6O         $49,365.33\n",
       "6OC        $12,000.00\n",
       "7N     $42,662,642.14\n",
       "7O      $3,479,904.00\n",
       "8N      $6,684,546.94\n",
       "Name: M_Original_Cost, dtype: float64"
      ]
     },
     "execution_count": 166,
     "metadata": {},
     "output_type": "execute_result"
    }
   ],
   "source": [
    "# ties to fixed asset cost totals by acct type in AA report Fixed asset accounting summary\n",
    "wph_acct_groups = wp_aa_report.groupby(\"M_Acct\")[\"M_Original_Cost\"].sum()#sum()\n",
    "wph_acct_groups"
   ]
  },
  {
   "cell_type": "code",
   "execution_count": 167,
   "metadata": {},
   "outputs": [
    {
     "data": {
      "text/plain": [
       "AssetType.Type\n",
       "BLDG        $460,014,089.68\n",
       "CAP_LSE      $46,142,546.14\n",
       "FBEQUIP      $58,797,914.36\n",
       "FIX_EQUIP    $15,205,273.82\n",
       "LAND          $3,654,428.68\n",
       "LHOLD_IMP     $6,684,546.94\n",
       "LND_IMP       $7,012,159.09\n",
       "MAJ_MOV     $195,304,657.33\n",
       "Name: M_Original_Cost, dtype: float64"
      ]
     },
     "execution_count": 167,
     "metadata": {},
     "output_type": "execute_result"
    }
   ],
   "source": [
    "merged_acct_MID_groupby = aa_load_merge.groupby(['AssetType.Type'])\n",
    "merged_acct_MID_groupby['M_Original_Cost'].sum()#sum()"
   ]
  },
  {
   "cell_type": "code",
   "execution_count": 169,
   "metadata": {},
   "outputs": [],
   "source": [
    "# merged_acct_MID_groupby.get_group('FIX_EQUIP')\n"
   ]
  },
  {
   "cell_type": "code",
   "execution_count": 170,
   "metadata": {},
   "outputs": [
    {
     "data": {
      "text/plain": [
       "361856545.40000105"
      ]
     },
     "execution_count": 170,
     "metadata": {},
     "output_type": "execute_result"
    }
   ],
   "source": [
    "merged_acct_MID_groupby['NBV'].sum().sum()"
   ]
  },
  {
   "cell_type": "code",
   "execution_count": 171,
   "metadata": {},
   "outputs": [],
   "source": [
    "# merged_acct_MID_groupby.groups"
   ]
  },
  {
   "cell_type": "code",
   "execution_count": 184,
   "metadata": {},
   "outputs": [
    {
     "data": {
      "text/plain": [
       "5.960464477539063e-08"
      ]
     },
     "execution_count": 184,
     "metadata": {},
     "output_type": "execute_result"
    }
   ],
   "source": [
    "# compare aa report accumulated depreciation and asset book load accumulated depreciation totals\n",
    "wp_aa_acc_dep - wph_asset_load_acc_dep"
   ]
  },
  {
   "cell_type": "code",
   "execution_count": 185,
   "metadata": {},
   "outputs": [
    {
     "data": {
      "text/plain": [
       "0.0"
      ]
     },
     "execution_count": 185,
     "metadata": {},
     "output_type": "execute_result"
    }
   ],
   "source": [
    "# compare aa nbv report and asset book load nbv totals\n",
    "wp_aa_nbv - wph_nbv"
   ]
  },
  {
   "cell_type": "markdown",
   "metadata": {},
   "source": [
    "### Comparison of WPH aa_load_merge with FSM asset register"
   ]
  },
  {
   "cell_type": "code",
   "execution_count": 186,
   "metadata": {},
   "outputs": [],
   "source": [
    "asset_download_all_entities = pd.read_csv(r'C:\\Users\\mikra\\OneDrive\\Documents\\Work\\conversion\\SIT3\\november_AX2\\fixed_assets\\Asset Download All Entities 113021.csv',)"
   ]
  },
  {
   "cell_type": "code",
   "execution_count": 187,
   "metadata": {},
   "outputs": [
    {
     "data": {
      "text/html": [
       "<div>\n",
       "<style scoped>\n",
       "    .dataframe tbody tr th:only-of-type {\n",
       "        vertical-align: middle;\n",
       "    }\n",
       "\n",
       "    .dataframe tbody tr th {\n",
       "        vertical-align: top;\n",
       "    }\n",
       "\n",
       "    .dataframe thead th {\n",
       "        text-align: right;\n",
       "    }\n",
       "</style>\n",
       "<table border=\"1\" class=\"dataframe\">\n",
       "  <thead>\n",
       "    <tr style=\"text-align: right;\">\n",
       "      <th></th>\n",
       "      <th>FinanceEnterpriseGroup</th>\n",
       "      <th>Asset</th>\n",
       "      <th>Reference1</th>\n",
       "      <th>Description</th>\n",
       "      <th>Company</th>\n",
       "      <th>ItemTotalBaseCost</th>\n",
       "      <th>ItemTotalTransactionCost</th>\n",
       "      <th>TotalItemsBaseCost</th>\n",
       "      <th>PostingBookBasis</th>\n",
       "      <th>PostingBookBookValue</th>\n",
       "      <th>TotalAccumulatedDepreciation</th>\n",
       "      <th>DepreciationToAssetCost</th>\n",
       "      <th>AssetBookValue</th>\n",
       "      <th>PostingBookValue</th>\n",
       "      <th>RemainingDepreciation</th>\n",
       "      <th>LTDDepreciationExpense</th>\n",
       "    </tr>\n",
       "  </thead>\n",
       "  <tbody>\n",
       "  </tbody>\n",
       "</table>\n",
       "</div>"
      ],
      "text/plain": [
       "Empty DataFrame\n",
       "Columns: [FinanceEnterpriseGroup, Asset, Reference1, Description, Company, ItemTotalBaseCost, ItemTotalTransactionCost, TotalItemsBaseCost, PostingBookBasis, PostingBookBookValue, TotalAccumulatedDepreciation, DepreciationToAssetCost, AssetBookValue, PostingBookValue, RemainingDepreciation, LTDDepreciationExpense]\n",
       "Index: []"
      ]
     },
     "execution_count": 187,
     "metadata": {},
     "output_type": "execute_result"
    }
   ],
   "source": [
    "# look for NaN values in the company column\n",
    "asset_download_all_entities[asset_download_all_entities['Company'].isna()]"
   ]
  },
  {
   "cell_type": "code",
   "execution_count": 188,
   "metadata": {},
   "outputs": [],
   "source": [
    "# replace 'NaN' in company column for a record\n",
    "# asset_download_all_entities.loc[126381, 'Company'] = ''"
   ]
  },
  {
   "cell_type": "code",
   "execution_count": 189,
   "metadata": {},
   "outputs": [],
   "source": [
    "# cast the company column as a string and strip out the excess digits\n",
    "asset_download_all_entities['Company'] = asset_download_all_entities['Company'].astype('str').apply(lambda x: x[:4])"
   ]
  },
  {
   "cell_type": "code",
   "execution_count": 190,
   "metadata": {},
   "outputs": [],
   "source": [
    "# group the FSM asset register by company\n",
    "fsm_asset_register_groupby_company = asset_download_all_entities.groupby('Company')"
   ]
  },
  {
   "cell_type": "code",
   "execution_count": 191,
   "metadata": {},
   "outputs": [
    {
     "data": {
      "text/plain": [
       "dict_keys(['2000', '2010', '2020', '2030', '2040', '2050', '2060', '2100', '2200', '2300', '2400', '2600', '3000', '3010', '3020', '3060', '3080', '3090'])"
      ]
     },
     "execution_count": 191,
     "metadata": {},
     "output_type": "execute_result"
    }
   ],
   "source": [
    "# look at the asset register company groups keys\n",
    "fsm_asset_register_groupby_company.groups.keys()"
   ]
  },
  {
   "cell_type": "markdown",
   "metadata": {},
   "source": [
    "### Find WPH 2600 records that are missing from the FSM asset register"
   ]
  },
  {
   "cell_type": "code",
   "execution_count": 192,
   "metadata": {},
   "outputs": [],
   "source": [
    "wph_group_2600 = fsm_asset_register_groupby_company.get_group('2600')"
   ]
  },
  {
   "cell_type": "code",
   "execution_count": 193,
   "metadata": {},
   "outputs": [
    {
     "data": {
      "text/plain": [
       "Index(['FinanceEnterpriseGroup', 'Asset', 'Reference1', 'Description',\n",
       "       'Company', 'ItemTotalBaseCost', 'ItemTotalTransactionCost',\n",
       "       'TotalItemsBaseCost', 'PostingBookBasis', 'PostingBookBookValue',\n",
       "       'TotalAccumulatedDepreciation', 'DepreciationToAssetCost',\n",
       "       'AssetBookValue', 'PostingBookValue', 'RemainingDepreciation',\n",
       "       'LTDDepreciationExpense'],\n",
       "      dtype='object')"
      ]
     },
     "execution_count": 193,
     "metadata": {},
     "output_type": "execute_result"
    }
   ],
   "source": [
    "wph_group_2600.columns"
   ]
  },
  {
   "cell_type": "code",
   "execution_count": 194,
   "metadata": {},
   "outputs": [
    {
     "data": {
      "text/html": [
       "<div>\n",
       "<style scoped>\n",
       "    .dataframe tbody tr th:only-of-type {\n",
       "        vertical-align: middle;\n",
       "    }\n",
       "\n",
       "    .dataframe tbody tr th {\n",
       "        vertical-align: top;\n",
       "    }\n",
       "\n",
       "    .dataframe thead th {\n",
       "        text-align: right;\n",
       "    }\n",
       "</style>\n",
       "<table border=\"1\" class=\"dataframe\">\n",
       "  <thead>\n",
       "    <tr style=\"text-align: right;\">\n",
       "      <th></th>\n",
       "      <th>FinanceEnterpriseGroup</th>\n",
       "      <th>Asset</th>\n",
       "      <th>Reference1</th>\n",
       "      <th>Description</th>\n",
       "      <th>Company</th>\n",
       "      <th>ItemTotalBaseCost</th>\n",
       "      <th>ItemTotalTransactionCost</th>\n",
       "      <th>TotalItemsBaseCost</th>\n",
       "      <th>PostingBookBasis</th>\n",
       "      <th>PostingBookBookValue</th>\n",
       "      <th>TotalAccumulatedDepreciation</th>\n",
       "      <th>DepreciationToAssetCost</th>\n",
       "      <th>AssetBookValue</th>\n",
       "      <th>PostingBookValue</th>\n",
       "      <th>RemainingDepreciation</th>\n",
       "      <th>LTDDepreciationExpense</th>\n",
       "    </tr>\n",
       "  </thead>\n",
       "  <tbody>\n",
       "    <tr>\n",
       "      <th>96190</th>\n",
       "      <td>1</td>\n",
       "      <td>96253</td>\n",
       "      <td>WPH_1</td>\n",
       "      <td>HOSPITAL SITE &amp; PARKING AREA</td>\n",
       "      <td>2600</td>\n",
       "      <td>$13,500.00</td>\n",
       "      <td>$13,500.00</td>\n",
       "      <td>$13,500.00</td>\n",
       "      <td>$13,500.00</td>\n",
       "      <td>$13,500.00</td>\n",
       "      <td>$0.00</td>\n",
       "      <td>$0.00</td>\n",
       "      <td>$13,500.00</td>\n",
       "      <td>$13,500.00</td>\n",
       "      <td>$0.00</td>\n",
       "      <td>0</td>\n",
       "    </tr>\n",
       "    <tr>\n",
       "      <th>96191</th>\n",
       "      <td>1</td>\n",
       "      <td>96254</td>\n",
       "      <td>WPH_10</td>\n",
       "      <td>207 LEXINGTON</td>\n",
       "      <td>2600</td>\n",
       "      <td>$80,000.00</td>\n",
       "      <td>$80,000.00</td>\n",
       "      <td>$80,000.00</td>\n",
       "      <td>$80,000.00</td>\n",
       "      <td>$80,000.00</td>\n",
       "      <td>$0.00</td>\n",
       "      <td>$0.00</td>\n",
       "      <td>$80,000.00</td>\n",
       "      <td>$80,000.00</td>\n",
       "      <td>$0.00</td>\n",
       "      <td>0</td>\n",
       "    </tr>\n",
       "    <tr>\n",
       "      <th>96192</th>\n",
       "      <td>1</td>\n",
       "      <td>96255</td>\n",
       "      <td>WPH_100</td>\n",
       "      <td>REMODELING</td>\n",
       "      <td>2600</td>\n",
       "      <td>$390.00</td>\n",
       "      <td>$390.00</td>\n",
       "      <td>$390.00</td>\n",
       "      <td>$390.00</td>\n",
       "      <td>$0.00</td>\n",
       "      <td>$390.00</td>\n",
       "      <td>$1.00</td>\n",
       "      <td>$0.00</td>\n",
       "      <td>$390.00</td>\n",
       "      <td>$-390.00</td>\n",
       "      <td>0</td>\n",
       "    </tr>\n",
       "    <tr>\n",
       "      <th>96193</th>\n",
       "      <td>1</td>\n",
       "      <td>96256</td>\n",
       "      <td>WPH_1000</td>\n",
       "      <td>POT RACK LIFTERS HTD IDEAL</td>\n",
       "      <td>2600</td>\n",
       "      <td>$525.00</td>\n",
       "      <td>$525.00</td>\n",
       "      <td>$525.00</td>\n",
       "      <td>$525.00</td>\n",
       "      <td>$0.00</td>\n",
       "      <td>$525.00</td>\n",
       "      <td>$1.00</td>\n",
       "      <td>$0.00</td>\n",
       "      <td>$525.00</td>\n",
       "      <td>$-525.00</td>\n",
       "      <td>0</td>\n",
       "    </tr>\n",
       "    <tr>\n",
       "      <th>96194</th>\n",
       "      <td>1</td>\n",
       "      <td>96257</td>\n",
       "      <td>WPH_10000</td>\n",
       "      <td>CHAIR EXEC 8071</td>\n",
       "      <td>2600</td>\n",
       "      <td>$839.85</td>\n",
       "      <td>$839.85</td>\n",
       "      <td>$839.85</td>\n",
       "      <td>$839.85</td>\n",
       "      <td>$0.00</td>\n",
       "      <td>$839.85</td>\n",
       "      <td>$1.00</td>\n",
       "      <td>$0.00</td>\n",
       "      <td>$839.85</td>\n",
       "      <td>$-839.85</td>\n",
       "      <td>0</td>\n",
       "    </tr>\n",
       "  </tbody>\n",
       "</table>\n",
       "</div>"
      ],
      "text/plain": [
       "       FinanceEnterpriseGroup  Asset Reference1                   Description Company  ItemTotalBaseCost  ItemTotalTransactionCost  TotalItemsBaseCost  PostingBookBasis  PostingBookBookValue  TotalAccumulatedDepreciation  DepreciationToAssetCost  AssetBookValue  PostingBookValue  RemainingDepreciation  LTDDepreciationExpense\n",
       "96190                       1  96253      WPH_1  HOSPITAL SITE & PARKING AREA    2600         $13,500.00                $13,500.00          $13,500.00        $13,500.00            $13,500.00                         $0.00                    $0.00      $13,500.00        $13,500.00                  $0.00                       0\n",
       "96191                       1  96254     WPH_10                 207 LEXINGTON    2600         $80,000.00                $80,000.00          $80,000.00        $80,000.00            $80,000.00                         $0.00                    $0.00      $80,000.00        $80,000.00                  $0.00                       0\n",
       "96192                       1  96255    WPH_100                    REMODELING    2600            $390.00                   $390.00             $390.00           $390.00                 $0.00                       $390.00                    $1.00           $0.00           $390.00               $-390.00                       0\n",
       "96193                       1  96256   WPH_1000    POT RACK LIFTERS HTD IDEAL    2600            $525.00                   $525.00             $525.00           $525.00                 $0.00                       $525.00                    $1.00           $0.00           $525.00               $-525.00                       0\n",
       "96194                       1  96257  WPH_10000               CHAIR EXEC 8071    2600            $839.85                   $839.85             $839.85           $839.85                 $0.00                       $839.85                    $1.00           $0.00           $839.85               $-839.85                       0"
      ]
     },
     "execution_count": 194,
     "metadata": {},
     "output_type": "execute_result"
    }
   ],
   "source": [
    "wph_group_2600.head()"
   ]
  },
  {
   "cell_type": "code",
   "execution_count": 195,
   "metadata": {},
   "outputs": [
    {
     "data": {
      "text/plain": [
       "Index(['FinanceEnterpriseGroup', 'AssetImport', 'M_ID', 'AssetType.Type',\n",
       "       'Reference2', 'Life', 'LifeRemaining', 'Basis', 'Method',\n",
       "       'InServiceDate', 'InServiceDate_dt', 'Book', 'RunGroup', 'Active',\n",
       "       'Convention', 'YearToDateDepreciation', 'LifeToDateDepreciation',\n",
       "       'M_Activ_Code', 'M_Acct', 'M_Dept', 'M_Bldg', 'M_Qty', 'M_Descr',\n",
       "       'M_Acq_Date', 'M_Acq_Date_dt', 'M_Original_Cost', 'M_BIC', 'M_Src_Code',\n",
       "       'B_Life_Y', 'B_Depr_Period', 'B_Depr_Accum', 'B_Depr_Proj_Provision',\n",
       "       'NBV'],\n",
       "      dtype='object')"
      ]
     },
     "execution_count": 195,
     "metadata": {},
     "output_type": "execute_result"
    }
   ],
   "source": [
    "aa_load_merge.columns"
   ]
  },
  {
   "cell_type": "code",
   "execution_count": 196,
   "metadata": {},
   "outputs": [],
   "source": [
    "# aa_load_merge.columns"
   ]
  },
  {
   "cell_type": "code",
   "execution_count": 197,
   "metadata": {},
   "outputs": [
    {
     "data": {
      "text/plain": [
       "M_Original_Cost          $792,815,616.04\n",
       "Basis                    $792,815,616.04\n",
       "LifeToDateDepreciation   $430,959,070.64\n",
       "NBV                      $361,856,545.40\n",
       "dtype: float64"
      ]
     },
     "execution_count": 197,
     "metadata": {},
     "output_type": "execute_result"
    }
   ],
   "source": [
    "aa_load_merge[['M_Original_Cost', 'Basis', 'LifeToDateDepreciation', 'NBV' ]].sum()"
   ]
  },
  {
   "cell_type": "code",
   "execution_count": 198,
   "metadata": {},
   "outputs": [
    {
     "name": "stderr",
     "output_type": "stream",
     "text": [
      "<ipython-input-198-f94a589c3c88>:2: SettingWithCopyWarning: \n",
      "A value is trying to be set on a copy of a slice from a DataFrame.\n",
      "Try using .loc[row_indexer,col_indexer] = value instead\n",
      "\n",
      "See the caveats in the documentation: https://pandas.pydata.org/pandas-docs/stable/user_guide/indexing.html#returning-a-view-versus-a-copy\n",
      "  wph_group_2600['merge_index'] = wph_group_2600['Reference1'].apply(lambda x: int(x.split('_')[1]))\n"
     ]
    }
   ],
   "source": [
    "# create a new index column called 'merge_index' to match the 'M_ID' column in the aa_load_merge file\n",
    "wph_group_2600['merge_index'] = wph_group_2600['Reference1'].apply(lambda x: int(x.split('_')[1]))"
   ]
  },
  {
   "cell_type": "code",
   "execution_count": 199,
   "metadata": {},
   "outputs": [
    {
     "name": "stdout",
     "output_type": "stream",
     "text": [
      "<class 'pandas.core.frame.DataFrame'>\n",
      "Int64Index: 39228 entries, 96190 to 135417\n",
      "Data columns (total 17 columns):\n",
      " #   Column                        Non-Null Count  Dtype  \n",
      "---  ------                        --------------  -----  \n",
      " 0   FinanceEnterpriseGroup        39228 non-null  int64  \n",
      " 1   Asset                         39228 non-null  int64  \n",
      " 2   Reference1                    39228 non-null  object \n",
      " 3   Description                   39228 non-null  object \n",
      " 4   Company                       39228 non-null  object \n",
      " 5   ItemTotalBaseCost             39228 non-null  float64\n",
      " 6   ItemTotalTransactionCost      39228 non-null  float64\n",
      " 7   TotalItemsBaseCost            39228 non-null  float64\n",
      " 8   PostingBookBasis              39228 non-null  float64\n",
      " 9   PostingBookBookValue          39228 non-null  float64\n",
      " 10  TotalAccumulatedDepreciation  39228 non-null  float64\n",
      " 11  DepreciationToAssetCost       39228 non-null  float64\n",
      " 12  AssetBookValue                39228 non-null  float64\n",
      " 13  PostingBookValue              39228 non-null  float64\n",
      " 14  RemainingDepreciation         39228 non-null  float64\n",
      " 15  LTDDepreciationExpense        39228 non-null  int64  \n",
      " 16  merge_index                   39228 non-null  int64  \n",
      "dtypes: float64(10), int64(4), object(3)\n",
      "memory usage: 5.4+ MB\n"
     ]
    }
   ],
   "source": [
    "wph_group_2600.info()"
   ]
  },
  {
   "cell_type": "code",
   "execution_count": 200,
   "metadata": {},
   "outputs": [],
   "source": [
    "wph_group_2600 = wph_group_2600.set_index('merge_index',)"
   ]
  },
  {
   "cell_type": "code",
   "execution_count": 201,
   "metadata": {},
   "outputs": [],
   "source": [
    "wph_group_2600 = wph_group_2600.sort_index()"
   ]
  },
  {
   "cell_type": "code",
   "execution_count": 202,
   "metadata": {},
   "outputs": [],
   "source": [
    "wph_group_2600['cbiz_index'] = wph_group_2600['Reference1'].apply(lambda x: int(x.split('_')[1]))"
   ]
  },
  {
   "cell_type": "code",
   "execution_count": 203,
   "metadata": {},
   "outputs": [
    {
     "data": {
      "text/plain": [
       "Index(['FinanceEnterpriseGroup', 'AssetImport', 'M_ID', 'AssetType.Type',\n",
       "       'Reference2', 'Life', 'LifeRemaining', 'Basis', 'Method',\n",
       "       'InServiceDate', 'InServiceDate_dt', 'Book', 'RunGroup', 'Active',\n",
       "       'Convention', 'YearToDateDepreciation', 'LifeToDateDepreciation',\n",
       "       'M_Activ_Code', 'M_Acct', 'M_Dept', 'M_Bldg', 'M_Qty', 'M_Descr',\n",
       "       'M_Acq_Date', 'M_Acq_Date_dt', 'M_Original_Cost', 'M_BIC', 'M_Src_Code',\n",
       "       'B_Life_Y', 'B_Depr_Period', 'B_Depr_Accum', 'B_Depr_Proj_Provision',\n",
       "       'NBV'],\n",
       "      dtype='object')"
      ]
     },
     "execution_count": 203,
     "metadata": {},
     "output_type": "execute_result"
    }
   ],
   "source": [
    "aa_load_merge.columns"
   ]
  },
  {
   "cell_type": "code",
   "execution_count": 204,
   "metadata": {},
   "outputs": [],
   "source": [
    "aa_load_merge = aa_load_merge.set_index('M_ID')"
   ]
  },
  {
   "cell_type": "code",
   "execution_count": 205,
   "metadata": {},
   "outputs": [],
   "source": [
    "aa_load_merge = aa_load_merge.sort_index()"
   ]
  },
  {
   "cell_type": "code",
   "execution_count": 206,
   "metadata": {},
   "outputs": [
    {
     "name": "stdout",
     "output_type": "stream",
     "text": [
      "39228\n",
      "39228\n"
     ]
    }
   ],
   "source": [
    "print(wph_group_2600.index.nunique())\n",
    "print(aa_load_merge.index.nunique())"
   ]
  },
  {
   "cell_type": "code",
   "execution_count": 208,
   "metadata": {},
   "outputs": [],
   "source": [
    "# wph_group_2600.head()"
   ]
  },
  {
   "cell_type": "code",
   "execution_count": null,
   "metadata": {},
   "outputs": [],
   "source": []
  },
  {
   "cell_type": "code",
   "execution_count": 209,
   "metadata": {},
   "outputs": [
    {
     "name": "stdout",
     "output_type": "stream",
     "text": [
      "Int64Index([    1,     2,     3,     4,     5,     6,     7,     8,     9,\n",
      "               10,\n",
      "            ...\n",
      "            40249, 40250, 40251, 40252, 40253, 40254, 40255, 40256, 40257,\n",
      "            40258],\n",
      "           dtype='int64', name='merge_index', length=39228)\n",
      "Int64Index([    1,     2,     3,     4,     5,     6,     7,     8,     9,\n",
      "               10,\n",
      "            ...\n",
      "            40249, 40250, 40251, 40252, 40253, 40254, 40255, 40256, 40257,\n",
      "            40258],\n",
      "           dtype='int64', name='M_ID', length=39228)\n"
     ]
    }
   ],
   "source": [
    "print(wph_group_2600.index)\n",
    "print(aa_load_merge.index)"
   ]
  },
  {
   "cell_type": "code",
   "execution_count": 210,
   "metadata": {},
   "outputs": [],
   "source": [
    "aa_infor_2600_matched = aa_load_merge[aa_load_merge.index.isin(wph_group_2600.index)]"
   ]
  },
  {
   "cell_type": "code",
   "execution_count": 211,
   "metadata": {},
   "outputs": [
    {
     "data": {
      "text/plain": [
       "(39228, 32)"
      ]
     },
     "execution_count": 211,
     "metadata": {},
     "output_type": "execute_result"
    }
   ],
   "source": [
    "aa_infor_2600_matched.shape"
   ]
  },
  {
   "cell_type": "code",
   "execution_count": 212,
   "metadata": {},
   "outputs": [],
   "source": [
    "missing_2600_asset_register_records = aa_load_merge[~aa_load_merge.index.isin(wph_group_2600.index)]"
   ]
  },
  {
   "cell_type": "code",
   "execution_count": 213,
   "metadata": {},
   "outputs": [
    {
     "data": {
      "text/plain": [
       "Index(['FinanceEnterpriseGroup', 'AssetImport', 'AssetType.Type', 'Reference2',\n",
       "       'Life', 'LifeRemaining', 'Basis', 'Method', 'InServiceDate',\n",
       "       'InServiceDate_dt', 'Book', 'RunGroup', 'Active', 'Convention',\n",
       "       'YearToDateDepreciation', 'LifeToDateDepreciation', 'M_Activ_Code',\n",
       "       'M_Acct', 'M_Dept', 'M_Bldg', 'M_Qty', 'M_Descr', 'M_Acq_Date',\n",
       "       'M_Acq_Date_dt', 'M_Original_Cost', 'M_BIC', 'M_Src_Code', 'B_Life_Y',\n",
       "       'B_Depr_Period', 'B_Depr_Accum', 'B_Depr_Proj_Provision', 'NBV'],\n",
       "      dtype='object')"
      ]
     },
     "execution_count": 213,
     "metadata": {},
     "output_type": "execute_result"
    }
   ],
   "source": [
    "missing_2600_asset_register_records.columns"
   ]
  },
  {
   "cell_type": "code",
   "execution_count": 214,
   "metadata": {},
   "outputs": [
    {
     "data": {
      "text/plain": [
       "M_Original_Cost   $0.00\n",
       "Basis             $0.00\n",
       "B_Depr_Accum      $0.00\n",
       "NBV               $0.00\n",
       "dtype: float64"
      ]
     },
     "execution_count": 214,
     "metadata": {},
     "output_type": "execute_result"
    }
   ],
   "source": [
    "missing_2600_asset_register_records[['M_Original_Cost', 'Basis', \n",
    "                                     'B_Depr_Accum', 'NBV',]].sum()"
   ]
  },
  {
   "cell_type": "code",
   "execution_count": 215,
   "metadata": {},
   "outputs": [
    {
     "data": {
      "text/plain": [
       "0.0"
      ]
     },
     "execution_count": 215,
     "metadata": {},
     "output_type": "execute_result"
    }
   ],
   "source": [
    "missing_2600_asset_register_records_cost = missing_2600_asset_register_records['M_Original_Cost'].sum()\n",
    "missing_2600_asset_register_records_cost"
   ]
  },
  {
   "cell_type": "code",
   "execution_count": 216,
   "metadata": {},
   "outputs": [
    {
     "name": "stdout",
     "output_type": "stream",
     "text": [
      "<class 'pandas.core.frame.DataFrame'>\n",
      "Int64Index: 39228 entries, 1 to 40258\n",
      "Data columns (total 17 columns):\n",
      " #   Column                        Non-Null Count  Dtype  \n",
      "---  ------                        --------------  -----  \n",
      " 0   FinanceEnterpriseGroup        39228 non-null  int64  \n",
      " 1   Asset                         39228 non-null  int64  \n",
      " 2   Reference1                    39228 non-null  object \n",
      " 3   Description                   39228 non-null  object \n",
      " 4   Company                       39228 non-null  object \n",
      " 5   ItemTotalBaseCost             39228 non-null  float64\n",
      " 6   ItemTotalTransactionCost      39228 non-null  float64\n",
      " 7   TotalItemsBaseCost            39228 non-null  float64\n",
      " 8   PostingBookBasis              39228 non-null  float64\n",
      " 9   PostingBookBookValue          39228 non-null  float64\n",
      " 10  TotalAccumulatedDepreciation  39228 non-null  float64\n",
      " 11  DepreciationToAssetCost       39228 non-null  float64\n",
      " 12  AssetBookValue                39228 non-null  float64\n",
      " 13  PostingBookValue              39228 non-null  float64\n",
      " 14  RemainingDepreciation         39228 non-null  float64\n",
      " 15  LTDDepreciationExpense        39228 non-null  int64  \n",
      " 16  cbiz_index                    39228 non-null  int64  \n",
      "dtypes: float64(10), int64(4), object(3)\n",
      "memory usage: 5.4+ MB\n"
     ]
    }
   ],
   "source": [
    "wph_group_2600.info()"
   ]
  },
  {
   "cell_type": "code",
   "execution_count": 217,
   "metadata": {},
   "outputs": [],
   "source": [
    "asset_register_2600_cost = wph_group_2600['PostingBookBasis'].apply(lambda x: float(x)).sum()"
   ]
  },
  {
   "cell_type": "code",
   "execution_count": 218,
   "metadata": {},
   "outputs": [
    {
     "data": {
      "text/plain": [
       "792815616.04"
      ]
     },
     "execution_count": 218,
     "metadata": {},
     "output_type": "execute_result"
    }
   ],
   "source": [
    "# sum the asset cost per the fsm 2600 asset register and the cost of the records missing from the asset register\n",
    "sum_asset_register_and_missing_records_cost = asset_register_2600_cost \n",
    "sum_asset_register_and_missing_records_cost"
   ]
  },
  {
   "cell_type": "code",
   "execution_count": 219,
   "metadata": {},
   "outputs": [
    {
     "data": {
      "text/plain": [
       "792815616.04"
      ]
     },
     "execution_count": 219,
     "metadata": {},
     "output_type": "execute_result"
    }
   ],
   "source": [
    "\n",
    "aa_infor_2600_matched['M_Original_Cost'].sum()"
   ]
  },
  {
   "cell_type": "code",
   "execution_count": 220,
   "metadata": {},
   "outputs": [
    {
     "data": {
      "text/plain": [
       "792815616.04"
      ]
     },
     "execution_count": 220,
     "metadata": {},
     "output_type": "execute_result"
    }
   ],
   "source": [
    "wph_group_2600['PostingBookBasis'].sum()"
   ]
  },
  {
   "cell_type": "code",
   "execution_count": 221,
   "metadata": {},
   "outputs": [
    {
     "data": {
      "text/plain": [
       "0.0"
      ]
     },
     "execution_count": 221,
     "metadata": {},
     "output_type": "execute_result"
    }
   ],
   "source": [
    "cost_for_asset_register_records_with_errors_2600 = aa_infor_2600_matched['M_Original_Cost'].sum() - wph_group_2600['PostingBookBasis'].sum()\n",
    "cost_for_asset_register_records_with_errors_2600"
   ]
  },
  {
   "cell_type": "code",
   "execution_count": 222,
   "metadata": {},
   "outputs": [
    {
     "data": {
      "text/plain": [
       "0.0"
      ]
     },
     "execution_count": 222,
     "metadata": {},
     "output_type": "execute_result"
    }
   ],
   "source": [
    "# \n",
    "cost_for_asset_register_records_with_errors_2600 = aa_infor_2600_matched['M_Original_Cost'].sum() - wph_group_2600['PostingBookBasis'].sum()\n",
    "cost_for_asset_register_records_with_errors_2600"
   ]
  },
  {
   "cell_type": "code",
   "execution_count": 223,
   "metadata": {},
   "outputs": [
    {
     "data": {
      "text/plain": [
       "792815616.04"
      ]
     },
     "execution_count": 223,
     "metadata": {},
     "output_type": "execute_result"
    }
   ],
   "source": [
    "# \n",
    "sum_asset_register_and_missing_records_cost + cost_for_asset_register_records_with_errors_2600"
   ]
  },
  {
   "cell_type": "code",
   "execution_count": 224,
   "metadata": {},
   "outputs": [
    {
     "data": {
      "text/plain": [
       "M_Original_Cost          $792,815,616.04\n",
       "Basis                    $792,815,616.04\n",
       "LifeToDateDepreciation   $430,959,070.64\n",
       "NBV                      $361,856,545.40\n",
       "dtype: float64"
      ]
     },
     "execution_count": 224,
     "metadata": {},
     "output_type": "execute_result"
    }
   ],
   "source": [
    "aa_load_merge[['M_Original_Cost', 'Basis', 'LifeToDateDepreciation', 'NBV' ]].sum()"
   ]
  },
  {
   "cell_type": "code",
   "execution_count": null,
   "metadata": {},
   "outputs": [],
   "source": []
  },
  {
   "cell_type": "code",
   "execution_count": 225,
   "metadata": {},
   "outputs": [],
   "source": [
    "aa_infor_matched_acc_dep = aa_infor_2600_matched['B_Depr_Accum'].sum()"
   ]
  },
  {
   "cell_type": "code",
   "execution_count": 226,
   "metadata": {},
   "outputs": [
    {
     "data": {
      "text/plain": [
       "430959070.64"
      ]
     },
     "execution_count": 226,
     "metadata": {},
     "output_type": "execute_result"
    }
   ],
   "source": [
    "fsm_wph_asset_register_acc_dep = wph_group_2600['TotalAccumulatedDepreciation'].sum()\n",
    "fsm_wph_asset_register_acc_dep"
   ]
  },
  {
   "cell_type": "code",
   "execution_count": 227,
   "metadata": {},
   "outputs": [
    {
     "data": {
      "text/plain": [
       "0.0"
      ]
     },
     "execution_count": 227,
     "metadata": {},
     "output_type": "execute_result"
    }
   ],
   "source": [
    "# difference in fsm asset register accumulated depreciation and the aa_infor merged file acc. dep.\n",
    "missing_recordes_2600_acc_dep = wph_group_2600['TotalAccumulatedDepreciation'].sum() - aa_infor_2600_matched['B_Depr_Accum'].sum()\n",
    "missing_recordes_2600_acc_dep"
   ]
  },
  {
   "cell_type": "code",
   "execution_count": 228,
   "metadata": {},
   "outputs": [
    {
     "data": {
      "text/plain": [
       "430959070.64"
      ]
     },
     "execution_count": 228,
     "metadata": {},
     "output_type": "execute_result"
    }
   ],
   "source": [
    "aa_infor_matched_acc_dep + missing_recordes_2600_acc_dep"
   ]
  },
  {
   "cell_type": "code",
   "execution_count": 229,
   "metadata": {},
   "outputs": [
    {
     "data": {
      "text/plain": [
       "0.0"
      ]
     },
     "execution_count": 229,
     "metadata": {},
     "output_type": "execute_result"
    }
   ],
   "source": [
    "aa_infor_matched_acc_dep + missing_recordes_2600_acc_dep - aa_load_merge['LifeToDateDepreciation'].sum()"
   ]
  },
  {
   "cell_type": "code",
   "execution_count": 230,
   "metadata": {},
   "outputs": [
    {
     "name": "stdout",
     "output_type": "stream",
     "text": [
      "<class 'pandas.core.frame.DataFrame'>\n",
      "Int64Index: 39228 entries, 1 to 40258\n",
      "Data columns (total 32 columns):\n",
      " #   Column                  Non-Null Count  Dtype         \n",
      "---  ------                  --------------  -----         \n",
      " 0   FinanceEnterpriseGroup  39228 non-null  int64         \n",
      " 1   AssetImport             39228 non-null  object        \n",
      " 2   AssetType.Type          39228 non-null  object        \n",
      " 3   Reference2              39228 non-null  object        \n",
      " 4   Life                    39228 non-null  float64       \n",
      " 5   LifeRemaining           39228 non-null  int64         \n",
      " 6   Basis                   39228 non-null  float64       \n",
      " 7   Method                  39196 non-null  object        \n",
      " 8   InServiceDate           39228 non-null  object        \n",
      " 9   InServiceDate_dt        39228 non-null  datetime64[ns]\n",
      " 10  Book                    39228 non-null  object        \n",
      " 11  RunGroup                39228 non-null  object        \n",
      " 12  Active                  39228 non-null  bool          \n",
      " 13  Convention              39228 non-null  object        \n",
      " 14  YearToDateDepreciation  0 non-null      float64       \n",
      " 15  LifeToDateDepreciation  39228 non-null  float64       \n",
      " 16  M_Activ_Code            39228 non-null  object        \n",
      " 17  M_Acct                  39228 non-null  object        \n",
      " 18  M_Dept                  36928 non-null  object        \n",
      " 19  M_Bldg                  32186 non-null  object        \n",
      " 20  M_Qty                   39228 non-null  int64         \n",
      " 21  M_Descr                 39228 non-null  object        \n",
      " 22  M_Acq_Date              39228 non-null  object        \n",
      " 23  M_Acq_Date_dt           39228 non-null  datetime64[ns]\n",
      " 24  M_Original_Cost         39228 non-null  float64       \n",
      " 25  M_BIC                   39228 non-null  int64         \n",
      " 26  M_Src_Code              39228 non-null  object        \n",
      " 27  B_Life_Y                39228 non-null  int64         \n",
      " 28  B_Depr_Period           39228 non-null  float64       \n",
      " 29  B_Depr_Accum            39228 non-null  float64       \n",
      " 30  B_Depr_Proj_Provision   39228 non-null  float64       \n",
      " 31  NBV                     39228 non-null  float64       \n",
      "dtypes: bool(1), datetime64[ns](2), float64(9), int64(5), object(15)\n",
      "memory usage: 9.6+ MB\n"
     ]
    }
   ],
   "source": [
    "aa_load_merge.info()"
   ]
  },
  {
   "cell_type": "code",
   "execution_count": 231,
   "metadata": {},
   "outputs": [],
   "source": [
    "\n",
    "aa_load_merge.to_csv(r'C:\\Users\\mikra\\OneDrive\\Documents\\Work\\conversion\\SIT3\\november_AX2\\fixed_assets\\wph\\output_2600\\sit3_wph_2600_sourc_load_merge.csv')\n",
    "\n",
    "\n",
    "wph_group_2600.to_csv(r'C:\\Users\\mikra\\OneDrive\\Documents\\Work\\conversion\\SIT3\\november_AX2\\fixed_assets\\wph\\output_2600\\sit3_wph_2600_asset_register.csv')"
   ]
  },
  {
   "cell_type": "markdown",
   "metadata": {},
   "source": [
    "### Find 2600 records that exist in the fsm asset register but have incorrect cost values"
   ]
  },
  {
   "cell_type": "code",
   "execution_count": 232,
   "metadata": {},
   "outputs": [],
   "source": [
    "aa_infor_2600_cost_diffs = aa_infor_2600_matched['M_Original_Cost'].compare(wph_group_2600['PostingBookBasis'])\n",
    "aa_infor_2600_cost_diffs.rename(columns={'self': 'load file', 'other': 'FSM'}, inplace=True)\n",
    "aa_infor_2600_cost_diffs.rename_axis('Load ID', inplace=True)"
   ]
  },
  {
   "cell_type": "code",
   "execution_count": 233,
   "metadata": {},
   "outputs": [
    {
     "data": {
      "text/plain": [
       "0.0"
      ]
     },
     "execution_count": 233,
     "metadata": {},
     "output_type": "execute_result"
    }
   ],
   "source": [
    "aa_infor_2600_cost_diffs['load file'].sum() - aa_infor_2600_cost_diffs['FSM'].sum()"
   ]
  },
  {
   "cell_type": "code",
   "execution_count": 234,
   "metadata": {},
   "outputs": [],
   "source": [
    "aa_infor_2600_cost_diffs = aa_infor_2600_cost_diffs[aa_infor_2600_cost_diffs['load file'] - aa_infor_2600_cost_diffs['FSM'] > 1]"
   ]
  },
  {
   "cell_type": "code",
   "execution_count": 235,
   "metadata": {},
   "outputs": [],
   "source": [
    "aa_infor_2600_cost_diffs.to_csv(r'C:\\Users\\mikra\\OneDrive\\Documents\\Work\\conversion\\SIT3\\november_AX2\\fixed_assets\\wph\\output_2600\\sit3_wph_2600_asset_cost_diffs.csv')"
   ]
  },
  {
   "cell_type": "markdown",
   "metadata": {},
   "source": [
    "### Calculate company 2600 depreciation expense for fiscal 2021 and compare to CBIZ projections"
   ]
  },
  {
   "cell_type": "code",
   "execution_count": 236,
   "metadata": {},
   "outputs": [],
   "source": [
    "fsm_depreciation = pd.read_csv(r\"C:\\Users\\mikra\\OneDrive\\Documents\\Work\\conversion\\SIT3\\november_AX2\\fixed_assets\\Depreciation By Asset.csv\",\n",
    "                              usecols=['Asset', 'CurrentPeriodDepreciation'])"
   ]
  },
  {
   "cell_type": "code",
   "execution_count": 237,
   "metadata": {},
   "outputs": [],
   "source": [
    "# aa_load_merge.head"
   ]
  },
  {
   "cell_type": "code",
   "execution_count": 238,
   "metadata": {},
   "outputs": [
    {
     "name": "stdout",
     "output_type": "stream",
     "text": [
      "<class 'pandas.core.frame.DataFrame'>\n",
      "Int64Index: 39228 entries, 1 to 40258\n",
      "Data columns (total 32 columns):\n",
      " #   Column                  Non-Null Count  Dtype         \n",
      "---  ------                  --------------  -----         \n",
      " 0   FinanceEnterpriseGroup  39228 non-null  int64         \n",
      " 1   AssetImport             39228 non-null  object        \n",
      " 2   AssetType.Type          39228 non-null  object        \n",
      " 3   Reference2              39228 non-null  object        \n",
      " 4   Life                    39228 non-null  float64       \n",
      " 5   LifeRemaining           39228 non-null  int64         \n",
      " 6   Basis                   39228 non-null  float64       \n",
      " 7   Method                  39196 non-null  object        \n",
      " 8   InServiceDate           39228 non-null  object        \n",
      " 9   InServiceDate_dt        39228 non-null  datetime64[ns]\n",
      " 10  Book                    39228 non-null  object        \n",
      " 11  RunGroup                39228 non-null  object        \n",
      " 12  Active                  39228 non-null  bool          \n",
      " 13  Convention              39228 non-null  object        \n",
      " 14  YearToDateDepreciation  0 non-null      float64       \n",
      " 15  LifeToDateDepreciation  39228 non-null  float64       \n",
      " 16  M_Activ_Code            39228 non-null  object        \n",
      " 17  M_Acct                  39228 non-null  object        \n",
      " 18  M_Dept                  36928 non-null  object        \n",
      " 19  M_Bldg                  32186 non-null  object        \n",
      " 20  M_Qty                   39228 non-null  int64         \n",
      " 21  M_Descr                 39228 non-null  object        \n",
      " 22  M_Acq_Date              39228 non-null  object        \n",
      " 23  M_Acq_Date_dt           39228 non-null  datetime64[ns]\n",
      " 24  M_Original_Cost         39228 non-null  float64       \n",
      " 25  M_BIC                   39228 non-null  int64         \n",
      " 26  M_Src_Code              39228 non-null  object        \n",
      " 27  B_Life_Y                39228 non-null  int64         \n",
      " 28  B_Depr_Period           39228 non-null  float64       \n",
      " 29  B_Depr_Accum            39228 non-null  float64       \n",
      " 30  B_Depr_Proj_Provision   39228 non-null  float64       \n",
      " 31  NBV                     39228 non-null  float64       \n",
      "dtypes: bool(1), datetime64[ns](2), float64(9), int64(5), object(15)\n",
      "memory usage: 9.6+ MB\n"
     ]
    }
   ],
   "source": [
    "aa_load_merge.info()"
   ]
  },
  {
   "cell_type": "code",
   "execution_count": 239,
   "metadata": {},
   "outputs": [],
   "source": [
    "df_depreciation_calc_2600 = aa_load_merge[[\n",
    "    'AssetImport',   'M_Descr', 'M_Acq_Date_dt',\n",
    "    'M_Original_Cost', 'B_Life_Y', 'B_Depr_Period',\n",
    "    'B_Depr_Accum', 'NBV', 'Life', 'LifeRemaining', 'Basis',\n",
    "    'InServiceDate_dt', 'Convention','LifeToDateDepreciation',\n",
    "    'B_Depr_Proj_Provision'\n",
    "]]"
   ]
  },
  {
   "cell_type": "code",
   "execution_count": 240,
   "metadata": {},
   "outputs": [
    {
     "data": {
      "text/html": [
       "<div>\n",
       "<style scoped>\n",
       "    .dataframe tbody tr th:only-of-type {\n",
       "        vertical-align: middle;\n",
       "    }\n",
       "\n",
       "    .dataframe tbody tr th {\n",
       "        vertical-align: top;\n",
       "    }\n",
       "\n",
       "    .dataframe thead th {\n",
       "        text-align: right;\n",
       "    }\n",
       "</style>\n",
       "<table border=\"1\" class=\"dataframe\">\n",
       "  <thead>\n",
       "    <tr style=\"text-align: right;\">\n",
       "      <th></th>\n",
       "      <th>AssetImport</th>\n",
       "      <th>M_Descr</th>\n",
       "      <th>M_Acq_Date_dt</th>\n",
       "      <th>M_Original_Cost</th>\n",
       "      <th>B_Life_Y</th>\n",
       "      <th>B_Depr_Period</th>\n",
       "      <th>B_Depr_Accum</th>\n",
       "      <th>NBV</th>\n",
       "      <th>Life</th>\n",
       "      <th>LifeRemaining</th>\n",
       "      <th>Basis</th>\n",
       "      <th>InServiceDate_dt</th>\n",
       "      <th>Convention</th>\n",
       "      <th>LifeToDateDepreciation</th>\n",
       "      <th>B_Depr_Proj_Provision</th>\n",
       "    </tr>\n",
       "    <tr>\n",
       "      <th>M_ID</th>\n",
       "      <th></th>\n",
       "      <th></th>\n",
       "      <th></th>\n",
       "      <th></th>\n",
       "      <th></th>\n",
       "      <th></th>\n",
       "      <th></th>\n",
       "      <th></th>\n",
       "      <th></th>\n",
       "      <th></th>\n",
       "      <th></th>\n",
       "      <th></th>\n",
       "      <th></th>\n",
       "      <th></th>\n",
       "      <th></th>\n",
       "    </tr>\n",
       "  </thead>\n",
       "  <tbody>\n",
       "    <tr>\n",
       "      <th>1</th>\n",
       "      <td>WPH_1</td>\n",
       "      <td>HOSPITAL SITE &amp; PARKING AREA</td>\n",
       "      <td>1904-12-01</td>\n",
       "      <td>$13,500.00</td>\n",
       "      <td>0</td>\n",
       "      <td>$0.00</td>\n",
       "      <td>$0.00</td>\n",
       "      <td>$13,500.00</td>\n",
       "      <td>$0.00</td>\n",
       "      <td>0</td>\n",
       "      <td>$13,500.00</td>\n",
       "      <td>1904-12-01</td>\n",
       "      <td>HY</td>\n",
       "      <td>$0.00</td>\n",
       "      <td>$0.00</td>\n",
       "    </tr>\n",
       "    <tr>\n",
       "      <th>2</th>\n",
       "      <td>WPH_2</td>\n",
       "      <td>NO 18 DAVIS AVE LAND</td>\n",
       "      <td>1929-12-01</td>\n",
       "      <td>$17,645.00</td>\n",
       "      <td>0</td>\n",
       "      <td>$0.00</td>\n",
       "      <td>$0.00</td>\n",
       "      <td>$17,645.00</td>\n",
       "      <td>$0.00</td>\n",
       "      <td>0</td>\n",
       "      <td>$17,645.00</td>\n",
       "      <td>1929-12-01</td>\n",
       "      <td>HY</td>\n",
       "      <td>$0.00</td>\n",
       "      <td>$0.00</td>\n",
       "    </tr>\n",
       "    <tr>\n",
       "      <th>3</th>\n",
       "      <td>WPH_3</td>\n",
       "      <td>NO 14 DAVIS AVE LAND</td>\n",
       "      <td>1929-12-01</td>\n",
       "      <td>$25,263.00</td>\n",
       "      <td>0</td>\n",
       "      <td>$0.00</td>\n",
       "      <td>$0.00</td>\n",
       "      <td>$25,263.00</td>\n",
       "      <td>$0.00</td>\n",
       "      <td>0</td>\n",
       "      <td>$25,263.00</td>\n",
       "      <td>1929-12-01</td>\n",
       "      <td>HY</td>\n",
       "      <td>$0.00</td>\n",
       "      <td>$0.00</td>\n",
       "    </tr>\n",
       "    <tr>\n",
       "      <th>4</th>\n",
       "      <td>WPH_4</td>\n",
       "      <td>NO 16 DAVIS AVE LAND</td>\n",
       "      <td>1946-12-01</td>\n",
       "      <td>$5,676.00</td>\n",
       "      <td>0</td>\n",
       "      <td>$0.00</td>\n",
       "      <td>$0.00</td>\n",
       "      <td>$5,676.00</td>\n",
       "      <td>$0.00</td>\n",
       "      <td>0</td>\n",
       "      <td>$5,676.00</td>\n",
       "      <td>1946-12-01</td>\n",
       "      <td>HY</td>\n",
       "      <td>$0.00</td>\n",
       "      <td>$0.00</td>\n",
       "    </tr>\n",
       "    <tr>\n",
       "      <th>5</th>\n",
       "      <td>WPH_5</td>\n",
       "      <td>NO 31 E POST ROAD LAND</td>\n",
       "      <td>1951-12-01</td>\n",
       "      <td>$25,000.00</td>\n",
       "      <td>0</td>\n",
       "      <td>$0.00</td>\n",
       "      <td>$0.00</td>\n",
       "      <td>$25,000.00</td>\n",
       "      <td>$0.00</td>\n",
       "      <td>0</td>\n",
       "      <td>$25,000.00</td>\n",
       "      <td>1951-12-01</td>\n",
       "      <td>HY</td>\n",
       "      <td>$0.00</td>\n",
       "      <td>$0.00</td>\n",
       "    </tr>\n",
       "  </tbody>\n",
       "</table>\n",
       "</div>"
      ],
      "text/plain": [
       "     AssetImport                       M_Descr M_Acq_Date_dt  M_Original_Cost  B_Life_Y  B_Depr_Period  B_Depr_Accum        NBV  Life  LifeRemaining      Basis InServiceDate_dt Convention  LifeToDateDepreciation  B_Depr_Proj_Provision\n",
       "M_ID                                                                                                                                                                                                                                      \n",
       "1          WPH_1  HOSPITAL SITE & PARKING AREA    1904-12-01       $13,500.00         0          $0.00         $0.00 $13,500.00 $0.00              0 $13,500.00       1904-12-01         HY                   $0.00                  $0.00\n",
       "2          WPH_2          NO 18 DAVIS AVE LAND    1929-12-01       $17,645.00         0          $0.00         $0.00 $17,645.00 $0.00              0 $17,645.00       1929-12-01         HY                   $0.00                  $0.00\n",
       "3          WPH_3          NO 14 DAVIS AVE LAND    1929-12-01       $25,263.00         0          $0.00         $0.00 $25,263.00 $0.00              0 $25,263.00       1929-12-01         HY                   $0.00                  $0.00\n",
       "4          WPH_4          NO 16 DAVIS AVE LAND    1946-12-01        $5,676.00         0          $0.00         $0.00  $5,676.00 $0.00              0  $5,676.00       1946-12-01         HY                   $0.00                  $0.00\n",
       "5          WPH_5        NO 31 E POST ROAD LAND    1951-12-01       $25,000.00         0          $0.00         $0.00 $25,000.00 $0.00              0 $25,000.00       1951-12-01         HY                   $0.00                  $0.00"
      ]
     },
     "execution_count": 240,
     "metadata": {},
     "output_type": "execute_result"
    }
   ],
   "source": [
    "df_depreciation_calc_2600.head()"
   ]
  },
  {
   "cell_type": "code",
   "execution_count": 241,
   "metadata": {},
   "outputs": [
    {
     "name": "stderr",
     "output_type": "stream",
     "text": [
      "<ipython-input-241-1a3b387ce9f8>:1: SettingWithCopyWarning: \n",
      "A value is trying to be set on a copy of a slice from a DataFrame.\n",
      "Try using .loc[row_indexer,col_indexer] = value instead\n",
      "\n",
      "See the caveats in the documentation: https://pandas.pydata.org/pandas-docs/stable/user_guide/indexing.html#returning-a-view-versus-a-copy\n",
      "  df_depreciation_calc_2600['full_dep_yr'] =  df_depreciation_calc_2600['B_Life_Y']\\\n"
     ]
    }
   ],
   "source": [
    "df_depreciation_calc_2600['full_dep_yr'] =  df_depreciation_calc_2600['B_Life_Y']\\\n",
    ".apply(lambda x: dateutil.relativedelta.relativedelta(years=x))"
   ]
  },
  {
   "cell_type": "code",
   "execution_count": 242,
   "metadata": {},
   "outputs": [
    {
     "name": "stderr",
     "output_type": "stream",
     "text": [
      "C:\\Users\\mikra\\anaconda3\\lib\\site-packages\\pandas\\core\\arrays\\datetimelike.py:1108: PerformanceWarning: Adding/subtracting object-dtype array to DatetimeArray not vectorized\n",
      "  warnings.warn(\n",
      "<ipython-input-242-3196da59878e>:1: SettingWithCopyWarning: \n",
      "A value is trying to be set on a copy of a slice from a DataFrame.\n",
      "Try using .loc[row_indexer,col_indexer] = value instead\n",
      "\n",
      "See the caveats in the documentation: https://pandas.pydata.org/pandas-docs/stable/user_guide/indexing.html#returning-a-view-versus-a-copy\n",
      "  df_depreciation_calc_2600['full_dep_yr_2'] = df_depreciation_calc_2600['M_Acq_Date_dt'] +\\\n"
     ]
    }
   ],
   "source": [
    "df_depreciation_calc_2600['full_dep_yr_2'] = df_depreciation_calc_2600['M_Acq_Date_dt'] +\\\n",
    "df_depreciation_calc_2600['full_dep_yr']"
   ]
  },
  {
   "cell_type": "code",
   "execution_count": 243,
   "metadata": {},
   "outputs": [],
   "source": [
    "balance_sheet_date = datetime(2020, 12, 31)\n",
    "balance_sheet_date_2021 = datetime(2021, 12, 31)"
   ]
  },
  {
   "cell_type": "code",
   "execution_count": 244,
   "metadata": {},
   "outputs": [],
   "source": [
    "def dep_calc_2020(row):\n",
    "    \"\"\"\n",
    "    This function takes a dataframe row as a parameter and\n",
    "    calculates the straight line method depreciation using a half year convention.\n",
    "    It adds a column for the 2020 calculated depreciation to the dataframe\n",
    "    \"\"\"\n",
    "          \n",
    "    if row['B_Life_Y'] < 1:\n",
    "        row['dep_exp_2020'] = 0\n",
    "        \n",
    "    elif row['M_Acq_Date_dt'].year == balance_sheet_date.year:\n",
    "       \n",
    "        row['dep_exp_2020'] = row['M_Original_Cost']\\\n",
    "        / row['B_Life_Y'] * .5\n",
    "    \n",
    "    elif row['full_dep_yr_2'].year == balance_sheet_date.year:\n",
    "        row['dep_exp_2020'] = row['M_Original_Cost']\\\n",
    "        / row['B_Life_Y'] * .5\n",
    "      \n",
    "    elif (row['full_dep_yr_2'].year > balance_sheet_date.year) &\\\n",
    "    (row['M_Acq_Date_dt'].year < balance_sheet_date.year):\n",
    "        \n",
    "        row['dep_exp_2020'] = row['M_Original_Cost'] / row['B_Life_Y']\n",
    "         \n",
    "    else:\n",
    "        row['dep_exp_2020'] = 0\n",
    "    \n",
    "    return row"
   ]
  },
  {
   "cell_type": "code",
   "execution_count": 245,
   "metadata": {},
   "outputs": [],
   "source": [
    "def dep_calc_2021(row):\n",
    "    \n",
    "    \"\"\"\n",
    "    This function takes a dataframe row as a parameter and\n",
    "    calculates the straight line method depreciation using a half year convention.\n",
    "    It adds a column for the 2021 calculated depreciation to the dataframe\n",
    "    \"\"\"\n",
    "          \n",
    "          \n",
    "    if row['B_Life_Y'] < 1:\n",
    "        row['dep_exp_2021'] = 0\n",
    "        \n",
    "    elif row['M_Acq_Date_dt'].year == balance_sheet_date_2021.year:\n",
    "       \n",
    "        row['dep_exp_2021'] = row['M_Original_Cost']\\\n",
    "        / row['B_Life_Y'] * .5\n",
    "    \n",
    "    elif row['full_dep_yr_2'].year == balance_sheet_date_2021.year:\n",
    "        row['dep_exp_2021'] = row['M_Original_Cost']\\\n",
    "        / row['B_Life_Y'] * .5\n",
    "      \n",
    "    elif (row['full_dep_yr_2'].year > balance_sheet_date_2021.year) &\\\n",
    "    (row['M_Acq_Date_dt'].year < balance_sheet_date_2021.year):\n",
    "        \n",
    "        row['dep_exp_2021'] = row['M_Original_Cost'] / row['B_Life_Y']\n",
    "         \n",
    "    else:\n",
    "        row['dep_exp_2021'] = 0\n",
    "    \n",
    "    return row"
   ]
  },
  {
   "cell_type": "code",
   "execution_count": 246,
   "metadata": {},
   "outputs": [],
   "source": [
    "df_depreciation_calc_2600 = df_depreciation_calc_2600.apply(dep_calc_2020, axis=1)"
   ]
  },
  {
   "cell_type": "code",
   "execution_count": 247,
   "metadata": {},
   "outputs": [
    {
     "data": {
      "text/html": [
       "<div>\n",
       "<style scoped>\n",
       "    .dataframe tbody tr th:only-of-type {\n",
       "        vertical-align: middle;\n",
       "    }\n",
       "\n",
       "    .dataframe tbody tr th {\n",
       "        vertical-align: top;\n",
       "    }\n",
       "\n",
       "    .dataframe thead th {\n",
       "        text-align: right;\n",
       "    }\n",
       "</style>\n",
       "<table border=\"1\" class=\"dataframe\">\n",
       "  <thead>\n",
       "    <tr style=\"text-align: right;\">\n",
       "      <th></th>\n",
       "      <th>AssetImport</th>\n",
       "      <th>M_Descr</th>\n",
       "      <th>M_Acq_Date_dt</th>\n",
       "      <th>M_Original_Cost</th>\n",
       "      <th>B_Life_Y</th>\n",
       "      <th>B_Depr_Period</th>\n",
       "      <th>B_Depr_Accum</th>\n",
       "      <th>NBV</th>\n",
       "      <th>Life</th>\n",
       "      <th>LifeRemaining</th>\n",
       "      <th>Basis</th>\n",
       "      <th>InServiceDate_dt</th>\n",
       "      <th>Convention</th>\n",
       "      <th>LifeToDateDepreciation</th>\n",
       "      <th>B_Depr_Proj_Provision</th>\n",
       "      <th>full_dep_yr</th>\n",
       "      <th>full_dep_yr_2</th>\n",
       "      <th>dep_exp_2020</th>\n",
       "    </tr>\n",
       "    <tr>\n",
       "      <th>M_ID</th>\n",
       "      <th></th>\n",
       "      <th></th>\n",
       "      <th></th>\n",
       "      <th></th>\n",
       "      <th></th>\n",
       "      <th></th>\n",
       "      <th></th>\n",
       "      <th></th>\n",
       "      <th></th>\n",
       "      <th></th>\n",
       "      <th></th>\n",
       "      <th></th>\n",
       "      <th></th>\n",
       "      <th></th>\n",
       "      <th></th>\n",
       "      <th></th>\n",
       "      <th></th>\n",
       "      <th></th>\n",
       "    </tr>\n",
       "  </thead>\n",
       "  <tbody>\n",
       "    <tr>\n",
       "      <th>1</th>\n",
       "      <td>WPH_1</td>\n",
       "      <td>HOSPITAL SITE &amp; PARKING AREA</td>\n",
       "      <td>1904-12-01</td>\n",
       "      <td>$13,500.00</td>\n",
       "      <td>0</td>\n",
       "      <td>$0.00</td>\n",
       "      <td>$0.00</td>\n",
       "      <td>$13,500.00</td>\n",
       "      <td>$0.00</td>\n",
       "      <td>0</td>\n",
       "      <td>$13,500.00</td>\n",
       "      <td>1904-12-01</td>\n",
       "      <td>HY</td>\n",
       "      <td>$0.00</td>\n",
       "      <td>$0.00</td>\n",
       "      <td>relativedelta()</td>\n",
       "      <td>1904-12-01</td>\n",
       "      <td>$0.00</td>\n",
       "    </tr>\n",
       "    <tr>\n",
       "      <th>2</th>\n",
       "      <td>WPH_2</td>\n",
       "      <td>NO 18 DAVIS AVE LAND</td>\n",
       "      <td>1929-12-01</td>\n",
       "      <td>$17,645.00</td>\n",
       "      <td>0</td>\n",
       "      <td>$0.00</td>\n",
       "      <td>$0.00</td>\n",
       "      <td>$17,645.00</td>\n",
       "      <td>$0.00</td>\n",
       "      <td>0</td>\n",
       "      <td>$17,645.00</td>\n",
       "      <td>1929-12-01</td>\n",
       "      <td>HY</td>\n",
       "      <td>$0.00</td>\n",
       "      <td>$0.00</td>\n",
       "      <td>relativedelta()</td>\n",
       "      <td>1929-12-01</td>\n",
       "      <td>$0.00</td>\n",
       "    </tr>\n",
       "    <tr>\n",
       "      <th>3</th>\n",
       "      <td>WPH_3</td>\n",
       "      <td>NO 14 DAVIS AVE LAND</td>\n",
       "      <td>1929-12-01</td>\n",
       "      <td>$25,263.00</td>\n",
       "      <td>0</td>\n",
       "      <td>$0.00</td>\n",
       "      <td>$0.00</td>\n",
       "      <td>$25,263.00</td>\n",
       "      <td>$0.00</td>\n",
       "      <td>0</td>\n",
       "      <td>$25,263.00</td>\n",
       "      <td>1929-12-01</td>\n",
       "      <td>HY</td>\n",
       "      <td>$0.00</td>\n",
       "      <td>$0.00</td>\n",
       "      <td>relativedelta()</td>\n",
       "      <td>1929-12-01</td>\n",
       "      <td>$0.00</td>\n",
       "    </tr>\n",
       "    <tr>\n",
       "      <th>4</th>\n",
       "      <td>WPH_4</td>\n",
       "      <td>NO 16 DAVIS AVE LAND</td>\n",
       "      <td>1946-12-01</td>\n",
       "      <td>$5,676.00</td>\n",
       "      <td>0</td>\n",
       "      <td>$0.00</td>\n",
       "      <td>$0.00</td>\n",
       "      <td>$5,676.00</td>\n",
       "      <td>$0.00</td>\n",
       "      <td>0</td>\n",
       "      <td>$5,676.00</td>\n",
       "      <td>1946-12-01</td>\n",
       "      <td>HY</td>\n",
       "      <td>$0.00</td>\n",
       "      <td>$0.00</td>\n",
       "      <td>relativedelta()</td>\n",
       "      <td>1946-12-01</td>\n",
       "      <td>$0.00</td>\n",
       "    </tr>\n",
       "    <tr>\n",
       "      <th>5</th>\n",
       "      <td>WPH_5</td>\n",
       "      <td>NO 31 E POST ROAD LAND</td>\n",
       "      <td>1951-12-01</td>\n",
       "      <td>$25,000.00</td>\n",
       "      <td>0</td>\n",
       "      <td>$0.00</td>\n",
       "      <td>$0.00</td>\n",
       "      <td>$25,000.00</td>\n",
       "      <td>$0.00</td>\n",
       "      <td>0</td>\n",
       "      <td>$25,000.00</td>\n",
       "      <td>1951-12-01</td>\n",
       "      <td>HY</td>\n",
       "      <td>$0.00</td>\n",
       "      <td>$0.00</td>\n",
       "      <td>relativedelta()</td>\n",
       "      <td>1951-12-01</td>\n",
       "      <td>$0.00</td>\n",
       "    </tr>\n",
       "  </tbody>\n",
       "</table>\n",
       "</div>"
      ],
      "text/plain": [
       "     AssetImport                       M_Descr M_Acq_Date_dt  M_Original_Cost  B_Life_Y  B_Depr_Period  B_Depr_Accum        NBV  Life  LifeRemaining      Basis InServiceDate_dt Convention  LifeToDateDepreciation  B_Depr_Proj_Provision      full_dep_yr full_dep_yr_2  dep_exp_2020\n",
       "M_ID                                                                                                                                                                                                                                                                                   \n",
       "1          WPH_1  HOSPITAL SITE & PARKING AREA    1904-12-01       $13,500.00         0          $0.00         $0.00 $13,500.00 $0.00              0 $13,500.00       1904-12-01         HY                   $0.00                  $0.00  relativedelta()    1904-12-01         $0.00\n",
       "2          WPH_2          NO 18 DAVIS AVE LAND    1929-12-01       $17,645.00         0          $0.00         $0.00 $17,645.00 $0.00              0 $17,645.00       1929-12-01         HY                   $0.00                  $0.00  relativedelta()    1929-12-01         $0.00\n",
       "3          WPH_3          NO 14 DAVIS AVE LAND    1929-12-01       $25,263.00         0          $0.00         $0.00 $25,263.00 $0.00              0 $25,263.00       1929-12-01         HY                   $0.00                  $0.00  relativedelta()    1929-12-01         $0.00\n",
       "4          WPH_4          NO 16 DAVIS AVE LAND    1946-12-01        $5,676.00         0          $0.00         $0.00  $5,676.00 $0.00              0  $5,676.00       1946-12-01         HY                   $0.00                  $0.00  relativedelta()    1946-12-01         $0.00\n",
       "5          WPH_5        NO 31 E POST ROAD LAND    1951-12-01       $25,000.00         0          $0.00         $0.00 $25,000.00 $0.00              0 $25,000.00       1951-12-01         HY                   $0.00                  $0.00  relativedelta()    1951-12-01         $0.00"
      ]
     },
     "execution_count": 247,
     "metadata": {},
     "output_type": "execute_result"
    }
   ],
   "source": [
    "df_depreciation_calc_2600.head()"
   ]
  },
  {
   "cell_type": "code",
   "execution_count": 248,
   "metadata": {},
   "outputs": [
    {
     "data": {
      "text/plain": [
       "B_Depr_Period   $38,986,533.59\n",
       "dep_exp_2020    $39,060,982.79\n",
       "dtype: float64"
      ]
     },
     "execution_count": 248,
     "metadata": {},
     "output_type": "execute_result"
    }
   ],
   "source": [
    "df_depreciation_calc_2600[['B_Depr_Period', 'dep_exp_2020']].sum()"
   ]
  },
  {
   "cell_type": "code",
   "execution_count": 249,
   "metadata": {},
   "outputs": [
    {
     "name": "stdout",
     "output_type": "stream",
     "text": [
      "<class 'pandas.core.frame.DataFrame'>\n",
      "Int64Index: 39228 entries, 1 to 40258\n",
      "Data columns (total 18 columns):\n",
      " #   Column                  Non-Null Count  Dtype         \n",
      "---  ------                  --------------  -----         \n",
      " 0   AssetImport             39228 non-null  object        \n",
      " 1   M_Descr                 39228 non-null  object        \n",
      " 2   M_Acq_Date_dt           39228 non-null  datetime64[ns]\n",
      " 3   M_Original_Cost         39228 non-null  float64       \n",
      " 4   B_Life_Y                39228 non-null  int64         \n",
      " 5   B_Depr_Period           39228 non-null  float64       \n",
      " 6   B_Depr_Accum            39228 non-null  float64       \n",
      " 7   NBV                     39228 non-null  float64       \n",
      " 8   Life                    39228 non-null  float64       \n",
      " 9   LifeRemaining           39228 non-null  int64         \n",
      " 10  Basis                   39228 non-null  float64       \n",
      " 11  InServiceDate_dt        39228 non-null  datetime64[ns]\n",
      " 12  Convention              39228 non-null  object        \n",
      " 13  LifeToDateDepreciation  39228 non-null  float64       \n",
      " 14  B_Depr_Proj_Provision   39228 non-null  float64       \n",
      " 15  full_dep_yr             39228 non-null  object        \n",
      " 16  full_dep_yr_2           39228 non-null  datetime64[ns]\n",
      " 17  dep_exp_2020            39228 non-null  float64       \n",
      "dtypes: datetime64[ns](3), float64(9), int64(2), object(4)\n",
      "memory usage: 5.7+ MB\n"
     ]
    }
   ],
   "source": [
    "df_depreciation_calc_2600.info()"
   ]
  },
  {
   "cell_type": "code",
   "execution_count": 250,
   "metadata": {},
   "outputs": [],
   "source": [
    "df_depreciation_calc_2600 = df_depreciation_calc_2600.apply(dep_calc_2021, axis=1)"
   ]
  },
  {
   "cell_type": "code",
   "execution_count": 251,
   "metadata": {},
   "outputs": [
    {
     "data": {
      "text/html": [
       "<div>\n",
       "<style scoped>\n",
       "    .dataframe tbody tr th:only-of-type {\n",
       "        vertical-align: middle;\n",
       "    }\n",
       "\n",
       "    .dataframe tbody tr th {\n",
       "        vertical-align: top;\n",
       "    }\n",
       "\n",
       "    .dataframe thead th {\n",
       "        text-align: right;\n",
       "    }\n",
       "</style>\n",
       "<table border=\"1\" class=\"dataframe\">\n",
       "  <thead>\n",
       "    <tr style=\"text-align: right;\">\n",
       "      <th></th>\n",
       "      <th>AssetImport</th>\n",
       "      <th>M_Descr</th>\n",
       "      <th>M_Acq_Date_dt</th>\n",
       "      <th>M_Original_Cost</th>\n",
       "      <th>B_Life_Y</th>\n",
       "      <th>B_Depr_Period</th>\n",
       "      <th>B_Depr_Accum</th>\n",
       "      <th>NBV</th>\n",
       "      <th>Life</th>\n",
       "      <th>LifeRemaining</th>\n",
       "      <th>Basis</th>\n",
       "      <th>InServiceDate_dt</th>\n",
       "      <th>Convention</th>\n",
       "      <th>LifeToDateDepreciation</th>\n",
       "      <th>B_Depr_Proj_Provision</th>\n",
       "      <th>full_dep_yr</th>\n",
       "      <th>full_dep_yr_2</th>\n",
       "      <th>dep_exp_2020</th>\n",
       "      <th>dep_exp_2021</th>\n",
       "    </tr>\n",
       "    <tr>\n",
       "      <th>M_ID</th>\n",
       "      <th></th>\n",
       "      <th></th>\n",
       "      <th></th>\n",
       "      <th></th>\n",
       "      <th></th>\n",
       "      <th></th>\n",
       "      <th></th>\n",
       "      <th></th>\n",
       "      <th></th>\n",
       "      <th></th>\n",
       "      <th></th>\n",
       "      <th></th>\n",
       "      <th></th>\n",
       "      <th></th>\n",
       "      <th></th>\n",
       "      <th></th>\n",
       "      <th></th>\n",
       "      <th></th>\n",
       "      <th></th>\n",
       "    </tr>\n",
       "  </thead>\n",
       "  <tbody>\n",
       "    <tr>\n",
       "      <th>1</th>\n",
       "      <td>WPH_1</td>\n",
       "      <td>HOSPITAL SITE &amp; PARKING AREA</td>\n",
       "      <td>1904-12-01</td>\n",
       "      <td>$13,500.00</td>\n",
       "      <td>0</td>\n",
       "      <td>$0.00</td>\n",
       "      <td>$0.00</td>\n",
       "      <td>$13,500.00</td>\n",
       "      <td>$0.00</td>\n",
       "      <td>0</td>\n",
       "      <td>$13,500.00</td>\n",
       "      <td>1904-12-01</td>\n",
       "      <td>HY</td>\n",
       "      <td>$0.00</td>\n",
       "      <td>$0.00</td>\n",
       "      <td>relativedelta()</td>\n",
       "      <td>1904-12-01</td>\n",
       "      <td>$0.00</td>\n",
       "      <td>$0.00</td>\n",
       "    </tr>\n",
       "    <tr>\n",
       "      <th>2</th>\n",
       "      <td>WPH_2</td>\n",
       "      <td>NO 18 DAVIS AVE LAND</td>\n",
       "      <td>1929-12-01</td>\n",
       "      <td>$17,645.00</td>\n",
       "      <td>0</td>\n",
       "      <td>$0.00</td>\n",
       "      <td>$0.00</td>\n",
       "      <td>$17,645.00</td>\n",
       "      <td>$0.00</td>\n",
       "      <td>0</td>\n",
       "      <td>$17,645.00</td>\n",
       "      <td>1929-12-01</td>\n",
       "      <td>HY</td>\n",
       "      <td>$0.00</td>\n",
       "      <td>$0.00</td>\n",
       "      <td>relativedelta()</td>\n",
       "      <td>1929-12-01</td>\n",
       "      <td>$0.00</td>\n",
       "      <td>$0.00</td>\n",
       "    </tr>\n",
       "    <tr>\n",
       "      <th>3</th>\n",
       "      <td>WPH_3</td>\n",
       "      <td>NO 14 DAVIS AVE LAND</td>\n",
       "      <td>1929-12-01</td>\n",
       "      <td>$25,263.00</td>\n",
       "      <td>0</td>\n",
       "      <td>$0.00</td>\n",
       "      <td>$0.00</td>\n",
       "      <td>$25,263.00</td>\n",
       "      <td>$0.00</td>\n",
       "      <td>0</td>\n",
       "      <td>$25,263.00</td>\n",
       "      <td>1929-12-01</td>\n",
       "      <td>HY</td>\n",
       "      <td>$0.00</td>\n",
       "      <td>$0.00</td>\n",
       "      <td>relativedelta()</td>\n",
       "      <td>1929-12-01</td>\n",
       "      <td>$0.00</td>\n",
       "      <td>$0.00</td>\n",
       "    </tr>\n",
       "    <tr>\n",
       "      <th>4</th>\n",
       "      <td>WPH_4</td>\n",
       "      <td>NO 16 DAVIS AVE LAND</td>\n",
       "      <td>1946-12-01</td>\n",
       "      <td>$5,676.00</td>\n",
       "      <td>0</td>\n",
       "      <td>$0.00</td>\n",
       "      <td>$0.00</td>\n",
       "      <td>$5,676.00</td>\n",
       "      <td>$0.00</td>\n",
       "      <td>0</td>\n",
       "      <td>$5,676.00</td>\n",
       "      <td>1946-12-01</td>\n",
       "      <td>HY</td>\n",
       "      <td>$0.00</td>\n",
       "      <td>$0.00</td>\n",
       "      <td>relativedelta()</td>\n",
       "      <td>1946-12-01</td>\n",
       "      <td>$0.00</td>\n",
       "      <td>$0.00</td>\n",
       "    </tr>\n",
       "    <tr>\n",
       "      <th>5</th>\n",
       "      <td>WPH_5</td>\n",
       "      <td>NO 31 E POST ROAD LAND</td>\n",
       "      <td>1951-12-01</td>\n",
       "      <td>$25,000.00</td>\n",
       "      <td>0</td>\n",
       "      <td>$0.00</td>\n",
       "      <td>$0.00</td>\n",
       "      <td>$25,000.00</td>\n",
       "      <td>$0.00</td>\n",
       "      <td>0</td>\n",
       "      <td>$25,000.00</td>\n",
       "      <td>1951-12-01</td>\n",
       "      <td>HY</td>\n",
       "      <td>$0.00</td>\n",
       "      <td>$0.00</td>\n",
       "      <td>relativedelta()</td>\n",
       "      <td>1951-12-01</td>\n",
       "      <td>$0.00</td>\n",
       "      <td>$0.00</td>\n",
       "    </tr>\n",
       "    <tr>\n",
       "      <th>...</th>\n",
       "      <td>...</td>\n",
       "      <td>...</td>\n",
       "      <td>...</td>\n",
       "      <td>...</td>\n",
       "      <td>...</td>\n",
       "      <td>...</td>\n",
       "      <td>...</td>\n",
       "      <td>...</td>\n",
       "      <td>...</td>\n",
       "      <td>...</td>\n",
       "      <td>...</td>\n",
       "      <td>...</td>\n",
       "      <td>...</td>\n",
       "      <td>...</td>\n",
       "      <td>...</td>\n",
       "      <td>...</td>\n",
       "      <td>...</td>\n",
       "      <td>...</td>\n",
       "      <td>...</td>\n",
       "    </tr>\n",
       "    <tr>\n",
       "      <th>40254</th>\n",
       "      <td>WPH_40254</td>\n",
       "      <td>WINDOWS OS 2008 UPGRADE</td>\n",
       "      <td>2019-06-30</td>\n",
       "      <td>$12,600.00</td>\n",
       "      <td>3</td>\n",
       "      <td>$2,100.00</td>\n",
       "      <td>$2,100.00</td>\n",
       "      <td>$10,500.00</td>\n",
       "      <td>$36.00</td>\n",
       "      <td>18</td>\n",
       "      <td>$12,600.00</td>\n",
       "      <td>2019-06-30</td>\n",
       "      <td>HY</td>\n",
       "      <td>$2,100.00</td>\n",
       "      <td>$4,200.00</td>\n",
       "      <td>relativedelta(years=+3)</td>\n",
       "      <td>2022-06-30</td>\n",
       "      <td>$4,200.00</td>\n",
       "      <td>$4,200.00</td>\n",
       "    </tr>\n",
       "    <tr>\n",
       "      <th>40255</th>\n",
       "      <td>WPH_40255</td>\n",
       "      <td>CHANGED REMOTE DEPLOY MGR TO ONSITE</td>\n",
       "      <td>2020-02-29</td>\n",
       "      <td>$24,531.50</td>\n",
       "      <td>3</td>\n",
       "      <td>$4,088.58</td>\n",
       "      <td>$4,088.58</td>\n",
       "      <td>$20,442.92</td>\n",
       "      <td>$36.00</td>\n",
       "      <td>26</td>\n",
       "      <td>$24,531.50</td>\n",
       "      <td>2020-02-29</td>\n",
       "      <td>HY</td>\n",
       "      <td>$4,088.58</td>\n",
       "      <td>$8,177.17</td>\n",
       "      <td>relativedelta(years=+3)</td>\n",
       "      <td>2023-02-28</td>\n",
       "      <td>$4,088.58</td>\n",
       "      <td>$8,177.17</td>\n",
       "    </tr>\n",
       "    <tr>\n",
       "      <th>40256</th>\n",
       "      <td>WPH_40256</td>\n",
       "      <td>HEALTHCARE TRUST WESTCHESTER - LEASEHOLD</td>\n",
       "      <td>2020-07-01</td>\n",
       "      <td>$788,000.00</td>\n",
       "      <td>15</td>\n",
       "      <td>$26,266.67</td>\n",
       "      <td>$26,266.67</td>\n",
       "      <td>$761,733.33</td>\n",
       "      <td>$180.00</td>\n",
       "      <td>174</td>\n",
       "      <td>$788,000.00</td>\n",
       "      <td>2020-07-01</td>\n",
       "      <td>HY</td>\n",
       "      <td>$26,266.67</td>\n",
       "      <td>$52,533.33</td>\n",
       "      <td>relativedelta(years=+15)</td>\n",
       "      <td>2035-07-01</td>\n",
       "      <td>$26,266.67</td>\n",
       "      <td>$52,533.33</td>\n",
       "    </tr>\n",
       "    <tr>\n",
       "      <th>40257</th>\n",
       "      <td>WPH_40257</td>\n",
       "      <td>244 WA AGREEMENT - LAND IMPROVEMENT</td>\n",
       "      <td>2020-03-31</td>\n",
       "      <td>$650,000.00</td>\n",
       "      <td>10</td>\n",
       "      <td>$32,500.00</td>\n",
       "      <td>$32,500.00</td>\n",
       "      <td>$617,500.00</td>\n",
       "      <td>$120.00</td>\n",
       "      <td>111</td>\n",
       "      <td>$650,000.00</td>\n",
       "      <td>2020-03-31</td>\n",
       "      <td>HY</td>\n",
       "      <td>$32,500.00</td>\n",
       "      <td>$65,000.00</td>\n",
       "      <td>relativedelta(years=+10)</td>\n",
       "      <td>2030-03-31</td>\n",
       "      <td>$32,500.00</td>\n",
       "      <td>$65,000.00</td>\n",
       "    </tr>\n",
       "    <tr>\n",
       "      <th>40258</th>\n",
       "      <td>WPH_40258</td>\n",
       "      <td>COVID EXPENSES</td>\n",
       "      <td>2020-03-01</td>\n",
       "      <td>$1,344.00</td>\n",
       "      <td>10</td>\n",
       "      <td>$67.20</td>\n",
       "      <td>$67.20</td>\n",
       "      <td>$1,276.80</td>\n",
       "      <td>$120.00</td>\n",
       "      <td>110</td>\n",
       "      <td>$1,344.00</td>\n",
       "      <td>2020-03-01</td>\n",
       "      <td>HY</td>\n",
       "      <td>$67.20</td>\n",
       "      <td>$134.40</td>\n",
       "      <td>relativedelta(years=+10)</td>\n",
       "      <td>2030-03-01</td>\n",
       "      <td>$67.20</td>\n",
       "      <td>$134.40</td>\n",
       "    </tr>\n",
       "  </tbody>\n",
       "</table>\n",
       "<p>39228 rows × 19 columns</p>\n",
       "</div>"
      ],
      "text/plain": [
       "      AssetImport                                   M_Descr M_Acq_Date_dt  M_Original_Cost  B_Life_Y  B_Depr_Period  B_Depr_Accum         NBV    Life  LifeRemaining       Basis InServiceDate_dt Convention  LifeToDateDepreciation  B_Depr_Proj_Provision               full_dep_yr full_dep_yr_2  dep_exp_2020  dep_exp_2021\n",
       "M_ID                                                                                                                                                                                                                                                                                                                           \n",
       "1           WPH_1              HOSPITAL SITE & PARKING AREA    1904-12-01       $13,500.00         0          $0.00         $0.00  $13,500.00   $0.00              0  $13,500.00       1904-12-01         HY                   $0.00                  $0.00           relativedelta()    1904-12-01         $0.00         $0.00\n",
       "2           WPH_2                      NO 18 DAVIS AVE LAND    1929-12-01       $17,645.00         0          $0.00         $0.00  $17,645.00   $0.00              0  $17,645.00       1929-12-01         HY                   $0.00                  $0.00           relativedelta()    1929-12-01         $0.00         $0.00\n",
       "3           WPH_3                      NO 14 DAVIS AVE LAND    1929-12-01       $25,263.00         0          $0.00         $0.00  $25,263.00   $0.00              0  $25,263.00       1929-12-01         HY                   $0.00                  $0.00           relativedelta()    1929-12-01         $0.00         $0.00\n",
       "4           WPH_4                      NO 16 DAVIS AVE LAND    1946-12-01        $5,676.00         0          $0.00         $0.00   $5,676.00   $0.00              0   $5,676.00       1946-12-01         HY                   $0.00                  $0.00           relativedelta()    1946-12-01         $0.00         $0.00\n",
       "5           WPH_5                    NO 31 E POST ROAD LAND    1951-12-01       $25,000.00         0          $0.00         $0.00  $25,000.00   $0.00              0  $25,000.00       1951-12-01         HY                   $0.00                  $0.00           relativedelta()    1951-12-01         $0.00         $0.00\n",
       "...           ...                                       ...           ...              ...       ...            ...           ...         ...     ...            ...         ...              ...        ...                     ...                    ...                       ...           ...           ...           ...\n",
       "40254   WPH_40254                   WINDOWS OS 2008 UPGRADE    2019-06-30       $12,600.00         3      $2,100.00     $2,100.00  $10,500.00  $36.00             18  $12,600.00       2019-06-30         HY               $2,100.00              $4,200.00   relativedelta(years=+3)    2022-06-30     $4,200.00     $4,200.00\n",
       "40255   WPH_40255       CHANGED REMOTE DEPLOY MGR TO ONSITE    2020-02-29       $24,531.50         3      $4,088.58     $4,088.58  $20,442.92  $36.00             26  $24,531.50       2020-02-29         HY               $4,088.58              $8,177.17   relativedelta(years=+3)    2023-02-28     $4,088.58     $8,177.17\n",
       "40256   WPH_40256  HEALTHCARE TRUST WESTCHESTER - LEASEHOLD    2020-07-01      $788,000.00        15     $26,266.67    $26,266.67 $761,733.33 $180.00            174 $788,000.00       2020-07-01         HY              $26,266.67             $52,533.33  relativedelta(years=+15)    2035-07-01    $26,266.67    $52,533.33\n",
       "40257   WPH_40257       244 WA AGREEMENT - LAND IMPROVEMENT    2020-03-31      $650,000.00        10     $32,500.00    $32,500.00 $617,500.00 $120.00            111 $650,000.00       2020-03-31         HY              $32,500.00             $65,000.00  relativedelta(years=+10)    2030-03-31    $32,500.00    $65,000.00\n",
       "40258   WPH_40258                            COVID EXPENSES    2020-03-01        $1,344.00        10         $67.20        $67.20   $1,276.80 $120.00            110   $1,344.00       2020-03-01         HY                  $67.20                $134.40  relativedelta(years=+10)    2030-03-01        $67.20       $134.40\n",
       "\n",
       "[39228 rows x 19 columns]"
      ]
     },
     "execution_count": 251,
     "metadata": {},
     "output_type": "execute_result"
    }
   ],
   "source": [
    "df_depreciation_calc_2600"
   ]
  },
  {
   "cell_type": "code",
   "execution_count": 252,
   "metadata": {},
   "outputs": [
    {
     "data": {
      "text/plain": [
       "B_Depr_Period           $38,986,533.59\n",
       "dep_exp_2020            $39,060,982.79\n",
       "dep_exp_2021            $38,587,525.59\n",
       "B_Depr_Proj_Provision   $38,795,833.79\n",
       "dtype: float64"
      ]
     },
     "execution_count": 252,
     "metadata": {},
     "output_type": "execute_result"
    }
   ],
   "source": [
    "df_depreciation_calc_2600[['B_Depr_Period', 'dep_exp_2020', 'dep_exp_2021', 'B_Depr_Proj_Provision']].sum()"
   ]
  },
  {
   "cell_type": "code",
   "execution_count": 253,
   "metadata": {},
   "outputs": [
    {
     "data": {
      "text/html": [
       "<div>\n",
       "<style scoped>\n",
       "    .dataframe tbody tr th:only-of-type {\n",
       "        vertical-align: middle;\n",
       "    }\n",
       "\n",
       "    .dataframe tbody tr th {\n",
       "        vertical-align: top;\n",
       "    }\n",
       "\n",
       "    .dataframe thead th {\n",
       "        text-align: right;\n",
       "    }\n",
       "</style>\n",
       "<table border=\"1\" class=\"dataframe\">\n",
       "  <thead>\n",
       "    <tr style=\"text-align: right;\">\n",
       "      <th></th>\n",
       "      <th>AssetImport</th>\n",
       "      <th>M_Descr</th>\n",
       "      <th>M_Acq_Date_dt</th>\n",
       "      <th>M_Original_Cost</th>\n",
       "      <th>B_Life_Y</th>\n",
       "      <th>B_Depr_Period</th>\n",
       "      <th>B_Depr_Accum</th>\n",
       "      <th>NBV</th>\n",
       "      <th>Life</th>\n",
       "      <th>LifeRemaining</th>\n",
       "      <th>Basis</th>\n",
       "      <th>InServiceDate_dt</th>\n",
       "      <th>Convention</th>\n",
       "      <th>LifeToDateDepreciation</th>\n",
       "      <th>B_Depr_Proj_Provision</th>\n",
       "      <th>full_dep_yr</th>\n",
       "      <th>full_dep_yr_2</th>\n",
       "      <th>dep_exp_2020</th>\n",
       "      <th>dep_exp_2021</th>\n",
       "    </tr>\n",
       "    <tr>\n",
       "      <th>M_ID</th>\n",
       "      <th></th>\n",
       "      <th></th>\n",
       "      <th></th>\n",
       "      <th></th>\n",
       "      <th></th>\n",
       "      <th></th>\n",
       "      <th></th>\n",
       "      <th></th>\n",
       "      <th></th>\n",
       "      <th></th>\n",
       "      <th></th>\n",
       "      <th></th>\n",
       "      <th></th>\n",
       "      <th></th>\n",
       "      <th></th>\n",
       "      <th></th>\n",
       "      <th></th>\n",
       "      <th></th>\n",
       "      <th></th>\n",
       "    </tr>\n",
       "  </thead>\n",
       "  <tbody>\n",
       "    <tr>\n",
       "      <th>11910</th>\n",
       "      <td>WPH_11910</td>\n",
       "      <td>BUILDING ADDITION/AUTOCLA</td>\n",
       "      <td>1992-01-01</td>\n",
       "      <td>$373,372.67</td>\n",
       "      <td>30</td>\n",
       "      <td>$12,463.62</td>\n",
       "      <td>$354,677.25</td>\n",
       "      <td>$18,695.42</td>\n",
       "      <td>$360.00</td>\n",
       "      <td>12</td>\n",
       "      <td>$373,372.67</td>\n",
       "      <td>1992-01-01</td>\n",
       "      <td>HY</td>\n",
       "      <td>$354,677.25</td>\n",
       "      <td>$12,463.61</td>\n",
       "      <td>relativedelta(years=+30)</td>\n",
       "      <td>2022-01-01</td>\n",
       "      <td>$12,445.76</td>\n",
       "      <td>$12,445.76</td>\n",
       "    </tr>\n",
       "    <tr>\n",
       "      <th>17097</th>\n",
       "      <td>WPH_17097</td>\n",
       "      <td>SEWER SYSTEM</td>\n",
       "      <td>1996-10-01</td>\n",
       "      <td>$220,015.00</td>\n",
       "      <td>25</td>\n",
       "      <td>$8,800.60</td>\n",
       "      <td>$213,414.55</td>\n",
       "      <td>$6,600.45</td>\n",
       "      <td>$300.00</td>\n",
       "      <td>9</td>\n",
       "      <td>$220,015.00</td>\n",
       "      <td>1996-10-01</td>\n",
       "      <td>HY</td>\n",
       "      <td>$213,414.55</td>\n",
       "      <td>$6,600.45</td>\n",
       "      <td>relativedelta(years=+25)</td>\n",
       "      <td>2021-10-01</td>\n",
       "      <td>$8,800.60</td>\n",
       "      <td>$4,400.30</td>\n",
       "    </tr>\n",
       "    <tr>\n",
       "      <th>17212</th>\n",
       "      <td>WPH_17212</td>\n",
       "      <td>SPRINKLER SYSTEM SALT ROOM</td>\n",
       "      <td>1996-01-01</td>\n",
       "      <td>$520.00</td>\n",
       "      <td>25</td>\n",
       "      <td>$20.80</td>\n",
       "      <td>$504.40</td>\n",
       "      <td>$15.60</td>\n",
       "      <td>$300.00</td>\n",
       "      <td>0</td>\n",
       "      <td>$520.00</td>\n",
       "      <td>1996-01-01</td>\n",
       "      <td>HY</td>\n",
       "      <td>$504.40</td>\n",
       "      <td>$15.60</td>\n",
       "      <td>relativedelta(years=+25)</td>\n",
       "      <td>2021-01-01</td>\n",
       "      <td>$20.80</td>\n",
       "      <td>$10.40</td>\n",
       "    </tr>\n",
       "    <tr>\n",
       "      <th>17221</th>\n",
       "      <td>WPH_17221</td>\n",
       "      <td>SPRINKLER SYSTEM PURCH OFFICE</td>\n",
       "      <td>1996-01-01</td>\n",
       "      <td>$2,106.00</td>\n",
       "      <td>25</td>\n",
       "      <td>$84.24</td>\n",
       "      <td>$2,042.82</td>\n",
       "      <td>$63.18</td>\n",
       "      <td>$300.00</td>\n",
       "      <td>0</td>\n",
       "      <td>$2,106.00</td>\n",
       "      <td>1996-01-01</td>\n",
       "      <td>HY</td>\n",
       "      <td>$2,042.82</td>\n",
       "      <td>$63.18</td>\n",
       "      <td>relativedelta(years=+25)</td>\n",
       "      <td>2021-01-01</td>\n",
       "      <td>$84.24</td>\n",
       "      <td>$42.12</td>\n",
       "    </tr>\n",
       "    <tr>\n",
       "      <th>17269</th>\n",
       "      <td>WPH_17269</td>\n",
       "      <td>SPRINKLER SYSTEM</td>\n",
       "      <td>1996-10-01</td>\n",
       "      <td>$566,408.89</td>\n",
       "      <td>25</td>\n",
       "      <td>$22,656.35</td>\n",
       "      <td>$549,416.62</td>\n",
       "      <td>$16,992.27</td>\n",
       "      <td>$300.00</td>\n",
       "      <td>9</td>\n",
       "      <td>$566,408.89</td>\n",
       "      <td>1996-10-01</td>\n",
       "      <td>HY</td>\n",
       "      <td>$549,416.62</td>\n",
       "      <td>$16,992.27</td>\n",
       "      <td>relativedelta(years=+25)</td>\n",
       "      <td>2021-10-01</td>\n",
       "      <td>$22,656.36</td>\n",
       "      <td>$11,328.18</td>\n",
       "    </tr>\n",
       "    <tr>\n",
       "      <th>...</th>\n",
       "      <td>...</td>\n",
       "      <td>...</td>\n",
       "      <td>...</td>\n",
       "      <td>...</td>\n",
       "      <td>...</td>\n",
       "      <td>...</td>\n",
       "      <td>...</td>\n",
       "      <td>...</td>\n",
       "      <td>...</td>\n",
       "      <td>...</td>\n",
       "      <td>...</td>\n",
       "      <td>...</td>\n",
       "      <td>...</td>\n",
       "      <td>...</td>\n",
       "      <td>...</td>\n",
       "      <td>...</td>\n",
       "      <td>...</td>\n",
       "      <td>...</td>\n",
       "      <td>...</td>\n",
       "    </tr>\n",
       "    <tr>\n",
       "      <th>34335</th>\n",
       "      <td>WPH_34335</td>\n",
       "      <td>KEYBOARDS FOR MEDICAL RECORDS</td>\n",
       "      <td>2016-08-01</td>\n",
       "      <td>$2,076.60</td>\n",
       "      <td>5</td>\n",
       "      <td>$415.32</td>\n",
       "      <td>$1,453.62</td>\n",
       "      <td>$622.98</td>\n",
       "      <td>$60.00</td>\n",
       "      <td>7</td>\n",
       "      <td>$2,076.60</td>\n",
       "      <td>2016-08-01</td>\n",
       "      <td>HY</td>\n",
       "      <td>$1,453.62</td>\n",
       "      <td>$415.32</td>\n",
       "      <td>relativedelta(years=+5)</td>\n",
       "      <td>2021-08-01</td>\n",
       "      <td>$415.32</td>\n",
       "      <td>$207.66</td>\n",
       "    </tr>\n",
       "    <tr>\n",
       "      <th>35678</th>\n",
       "      <td>WPH_35678</td>\n",
       "      <td>COMPUTER, PERSONA LAPTOP</td>\n",
       "      <td>2017-09-01</td>\n",
       "      <td>$1,574.24</td>\n",
       "      <td>3</td>\n",
       "      <td>$524.75</td>\n",
       "      <td>$1,311.87</td>\n",
       "      <td>$262.37</td>\n",
       "      <td>$36.00</td>\n",
       "      <td>0</td>\n",
       "      <td>$1,574.24</td>\n",
       "      <td>2017-09-01</td>\n",
       "      <td>HY</td>\n",
       "      <td>$1,311.87</td>\n",
       "      <td>$262.37</td>\n",
       "      <td>relativedelta(years=+3)</td>\n",
       "      <td>2020-09-01</td>\n",
       "      <td>$262.37</td>\n",
       "      <td>$0.00</td>\n",
       "    </tr>\n",
       "    <tr>\n",
       "      <th>37608</th>\n",
       "      <td>WPH_37608</td>\n",
       "      <td>INTERNET IMPLEMENTATION</td>\n",
       "      <td>2018-11-18</td>\n",
       "      <td>$6,545.00</td>\n",
       "      <td>3</td>\n",
       "      <td>$2,181.67</td>\n",
       "      <td>$3,272.50</td>\n",
       "      <td>$3,272.50</td>\n",
       "      <td>$36.00</td>\n",
       "      <td>11</td>\n",
       "      <td>$6,545.00</td>\n",
       "      <td>2018-11-18</td>\n",
       "      <td>HY</td>\n",
       "      <td>$3,272.50</td>\n",
       "      <td>$2,181.67</td>\n",
       "      <td>relativedelta(years=+3)</td>\n",
       "      <td>2021-11-18</td>\n",
       "      <td>$2,181.67</td>\n",
       "      <td>$1,090.83</td>\n",
       "    </tr>\n",
       "    <tr>\n",
       "      <th>37702</th>\n",
       "      <td>WPH_37702</td>\n",
       "      <td>SOFTWARE PLATFORM LICENSE COMPONENTS</td>\n",
       "      <td>2018-06-18</td>\n",
       "      <td>$74,563.50</td>\n",
       "      <td>3</td>\n",
       "      <td>$24,854.50</td>\n",
       "      <td>$37,281.75</td>\n",
       "      <td>$37,281.75</td>\n",
       "      <td>$36.00</td>\n",
       "      <td>6</td>\n",
       "      <td>$74,563.50</td>\n",
       "      <td>2018-06-18</td>\n",
       "      <td>HY</td>\n",
       "      <td>$37,281.75</td>\n",
       "      <td>$24,854.50</td>\n",
       "      <td>relativedelta(years=+3)</td>\n",
       "      <td>2021-06-18</td>\n",
       "      <td>$24,854.50</td>\n",
       "      <td>$12,427.25</td>\n",
       "    </tr>\n",
       "    <tr>\n",
       "      <th>37703</th>\n",
       "      <td>WPH_37703</td>\n",
       "      <td>SOFTWARE PLATFORM LICENSE COMPONENTS</td>\n",
       "      <td>2018-06-18</td>\n",
       "      <td>$97,493.62</td>\n",
       "      <td>3</td>\n",
       "      <td>$32,497.87</td>\n",
       "      <td>$48,746.81</td>\n",
       "      <td>$48,746.81</td>\n",
       "      <td>$36.00</td>\n",
       "      <td>6</td>\n",
       "      <td>$97,493.62</td>\n",
       "      <td>2018-06-18</td>\n",
       "      <td>HY</td>\n",
       "      <td>$48,746.81</td>\n",
       "      <td>$32,497.87</td>\n",
       "      <td>relativedelta(years=+3)</td>\n",
       "      <td>2021-06-18</td>\n",
       "      <td>$32,497.87</td>\n",
       "      <td>$16,248.94</td>\n",
       "    </tr>\n",
       "  </tbody>\n",
       "</table>\n",
       "<p>212 rows × 19 columns</p>\n",
       "</div>"
      ],
      "text/plain": [
       "      AssetImport                               M_Descr M_Acq_Date_dt  M_Original_Cost  B_Life_Y  B_Depr_Period  B_Depr_Accum        NBV    Life  LifeRemaining       Basis InServiceDate_dt Convention  LifeToDateDepreciation  B_Depr_Proj_Provision               full_dep_yr full_dep_yr_2  dep_exp_2020  dep_exp_2021\n",
       "M_ID                                                                                                                                                                                                                                                                                                                      \n",
       "11910   WPH_11910             BUILDING ADDITION/AUTOCLA    1992-01-01      $373,372.67        30     $12,463.62   $354,677.25 $18,695.42 $360.00             12 $373,372.67       1992-01-01         HY             $354,677.25             $12,463.61  relativedelta(years=+30)    2022-01-01    $12,445.76    $12,445.76\n",
       "17097   WPH_17097                          SEWER SYSTEM    1996-10-01      $220,015.00        25      $8,800.60   $213,414.55  $6,600.45 $300.00              9 $220,015.00       1996-10-01         HY             $213,414.55              $6,600.45  relativedelta(years=+25)    2021-10-01     $8,800.60     $4,400.30\n",
       "17212   WPH_17212            SPRINKLER SYSTEM SALT ROOM    1996-01-01          $520.00        25         $20.80       $504.40     $15.60 $300.00              0     $520.00       1996-01-01         HY                 $504.40                 $15.60  relativedelta(years=+25)    2021-01-01        $20.80        $10.40\n",
       "17221   WPH_17221         SPRINKLER SYSTEM PURCH OFFICE    1996-01-01        $2,106.00        25         $84.24     $2,042.82     $63.18 $300.00              0   $2,106.00       1996-01-01         HY               $2,042.82                 $63.18  relativedelta(years=+25)    2021-01-01        $84.24        $42.12\n",
       "17269   WPH_17269                      SPRINKLER SYSTEM    1996-10-01      $566,408.89        25     $22,656.35   $549,416.62 $16,992.27 $300.00              9 $566,408.89       1996-10-01         HY             $549,416.62             $16,992.27  relativedelta(years=+25)    2021-10-01    $22,656.36    $11,328.18\n",
       "...           ...                                   ...           ...              ...       ...            ...           ...        ...     ...            ...         ...              ...        ...                     ...                    ...                       ...           ...           ...           ...\n",
       "34335   WPH_34335         KEYBOARDS FOR MEDICAL RECORDS    2016-08-01        $2,076.60         5        $415.32     $1,453.62    $622.98  $60.00              7   $2,076.60       2016-08-01         HY               $1,453.62                $415.32   relativedelta(years=+5)    2021-08-01       $415.32       $207.66\n",
       "35678   WPH_35678              COMPUTER, PERSONA LAPTOP    2017-09-01        $1,574.24         3        $524.75     $1,311.87    $262.37  $36.00              0   $1,574.24       2017-09-01         HY               $1,311.87                $262.37   relativedelta(years=+3)    2020-09-01       $262.37         $0.00\n",
       "37608   WPH_37608               INTERNET IMPLEMENTATION    2018-11-18        $6,545.00         3      $2,181.67     $3,272.50  $3,272.50  $36.00             11   $6,545.00       2018-11-18         HY               $3,272.50              $2,181.67   relativedelta(years=+3)    2021-11-18     $2,181.67     $1,090.83\n",
       "37702   WPH_37702  SOFTWARE PLATFORM LICENSE COMPONENTS    2018-06-18       $74,563.50         3     $24,854.50    $37,281.75 $37,281.75  $36.00              6  $74,563.50       2018-06-18         HY              $37,281.75             $24,854.50   relativedelta(years=+3)    2021-06-18    $24,854.50    $12,427.25\n",
       "37703   WPH_37703  SOFTWARE PLATFORM LICENSE COMPONENTS    2018-06-18       $97,493.62         3     $32,497.87    $48,746.81 $48,746.81  $36.00              6  $97,493.62       2018-06-18         HY              $48,746.81             $32,497.87   relativedelta(years=+3)    2021-06-18    $32,497.87    $16,248.94\n",
       "\n",
       "[212 rows x 19 columns]"
      ]
     },
     "execution_count": 253,
     "metadata": {},
     "output_type": "execute_result"
    }
   ],
   "source": [
    "# filter the df for columns that have a different depreciation expense for 2020 and 2021\n",
    "# wph_2021_depr_diffs = df_depreciation_calc_2600[(df_depreciation_calc_2600['B_Depr_Proj_Provision']) != (df_depreciation_calc_2600['dep_exp_2021'])] \n",
    "\n",
    "wph_2021_depr_diffs = df_depreciation_calc_2600[(df_depreciation_calc_2600['B_Depr_Proj_Provision']) - (df_depreciation_calc_2600['dep_exp_2021']) > 1]\n",
    "wph_2021_depr_diffs"
   ]
  },
  {
   "cell_type": "code",
   "execution_count": 120,
   "metadata": {},
   "outputs": [],
   "source": [
    "df_depreciation_calc_2600['depr_ytd_oct'] = df_depreciation_calc_2600['dep_exp_2021'] * (10/12)"
   ]
  },
  {
   "cell_type": "code",
   "execution_count": 121,
   "metadata": {},
   "outputs": [
    {
     "data": {
      "text/plain": [
       "B_Depr_Period           $38,986,533.59\n",
       "dep_exp_2020            $39,060,982.79\n",
       "dep_exp_2021            $38,587,525.59\n",
       "B_Depr_Proj_Provision   $38,795,833.79\n",
       "depr_ytd_oct            $32,156,271.33\n",
       "dtype: float64"
      ]
     },
     "execution_count": 121,
     "metadata": {},
     "output_type": "execute_result"
    }
   ],
   "source": [
    "df_depreciation_calc_2600[['B_Depr_Period', 'dep_exp_2020', 'dep_exp_2021', 'B_Depr_Proj_Provision', 'depr_ytd_oct']].sum()"
   ]
  },
  {
   "cell_type": "code",
   "execution_count": 122,
   "metadata": {},
   "outputs": [],
   "source": [
    "fsm_asset_number_2600 = wph_group_2600[['Asset', 'cbiz_index']]"
   ]
  },
  {
   "cell_type": "code",
   "execution_count": 123,
   "metadata": {},
   "outputs": [],
   "source": [
    "df_depreciation_calc_2600['aa_index'] = df_depreciation_calc_2600['AssetImport'].apply(lambda x: int(x.split('_')[1]))"
   ]
  },
  {
   "cell_type": "code",
   "execution_count": 124,
   "metadata": {},
   "outputs": [
    {
     "data": {
      "text/plain": [
       "Index(['AssetImport', 'M_Descr', 'M_Acq_Date_dt', 'M_Original_Cost',\n",
       "       'B_Life_Y', 'B_Depr_Period', 'B_Depr_Accum', 'NBV', 'Life',\n",
       "       'LifeRemaining', 'Basis', 'InServiceDate_dt', 'Convention',\n",
       "       'LifeToDateDepreciation', 'B_Depr_Proj_Provision', 'full_dep_yr',\n",
       "       'full_dep_yr_2', 'dep_exp_2020', 'dep_exp_2021', 'depr_ytd_oct',\n",
       "       'aa_index'],\n",
       "      dtype='object')"
      ]
     },
     "execution_count": 124,
     "metadata": {},
     "output_type": "execute_result"
    }
   ],
   "source": [
    "df_depreciation_calc_2600.columns"
   ]
  },
  {
   "cell_type": "code",
   "execution_count": 125,
   "metadata": {},
   "outputs": [
    {
     "data": {
      "text/html": [
       "<div>\n",
       "<style scoped>\n",
       "    .dataframe tbody tr th:only-of-type {\n",
       "        vertical-align: middle;\n",
       "    }\n",
       "\n",
       "    .dataframe tbody tr th {\n",
       "        vertical-align: top;\n",
       "    }\n",
       "\n",
       "    .dataframe thead th {\n",
       "        text-align: right;\n",
       "    }\n",
       "</style>\n",
       "<table border=\"1\" class=\"dataframe\">\n",
       "  <thead>\n",
       "    <tr style=\"text-align: right;\">\n",
       "      <th></th>\n",
       "      <th>FinanceEnterpriseGroup</th>\n",
       "      <th>Asset</th>\n",
       "      <th>Reference1</th>\n",
       "      <th>Description</th>\n",
       "      <th>Company</th>\n",
       "      <th>ItemTotalBaseCost</th>\n",
       "      <th>ItemTotalTransactionCost</th>\n",
       "      <th>TotalItemsBaseCost</th>\n",
       "      <th>PostingBookBasis</th>\n",
       "      <th>PostingBookBookValue</th>\n",
       "      <th>TotalAccumulatedDepreciation</th>\n",
       "      <th>DepreciationToAssetCost</th>\n",
       "      <th>AssetBookValue</th>\n",
       "      <th>PostingBookValue</th>\n",
       "      <th>RemainingDepreciation</th>\n",
       "      <th>LTDDepreciationExpense</th>\n",
       "      <th>cbiz_index</th>\n",
       "    </tr>\n",
       "    <tr>\n",
       "      <th>merge_index</th>\n",
       "      <th></th>\n",
       "      <th></th>\n",
       "      <th></th>\n",
       "      <th></th>\n",
       "      <th></th>\n",
       "      <th></th>\n",
       "      <th></th>\n",
       "      <th></th>\n",
       "      <th></th>\n",
       "      <th></th>\n",
       "      <th></th>\n",
       "      <th></th>\n",
       "      <th></th>\n",
       "      <th></th>\n",
       "      <th></th>\n",
       "      <th></th>\n",
       "      <th></th>\n",
       "    </tr>\n",
       "  </thead>\n",
       "  <tbody>\n",
       "    <tr>\n",
       "      <th>1</th>\n",
       "      <td>1</td>\n",
       "      <td>96253</td>\n",
       "      <td>WPH_1</td>\n",
       "      <td>HOSPITAL SITE &amp; PARKING AREA</td>\n",
       "      <td>2600</td>\n",
       "      <td>$13,500.00</td>\n",
       "      <td>$13,500.00</td>\n",
       "      <td>$13,500.00</td>\n",
       "      <td>$13,500.00</td>\n",
       "      <td>$13,500.00</td>\n",
       "      <td>$0.00</td>\n",
       "      <td>$0.00</td>\n",
       "      <td>$13,500.00</td>\n",
       "      <td>$13,500.00</td>\n",
       "      <td>$0.00</td>\n",
       "      <td>0</td>\n",
       "      <td>1</td>\n",
       "    </tr>\n",
       "  </tbody>\n",
       "</table>\n",
       "</div>"
      ],
      "text/plain": [
       "             FinanceEnterpriseGroup  Asset Reference1                   Description Company  ItemTotalBaseCost  ItemTotalTransactionCost  TotalItemsBaseCost  PostingBookBasis  PostingBookBookValue  TotalAccumulatedDepreciation  DepreciationToAssetCost  AssetBookValue  PostingBookValue  RemainingDepreciation  LTDDepreciationExpense  cbiz_index\n",
       "merge_index                                                                                                                                                                                                                                                                                                                                             \n",
       "1                                 1  96253      WPH_1  HOSPITAL SITE & PARKING AREA    2600         $13,500.00                $13,500.00          $13,500.00        $13,500.00            $13,500.00                         $0.00                    $0.00      $13,500.00        $13,500.00                  $0.00                       0           1"
      ]
     },
     "execution_count": 125,
     "metadata": {},
     "output_type": "execute_result"
    }
   ],
   "source": [
    "wph_group_2600.head(1)"
   ]
  },
  {
   "cell_type": "code",
   "execution_count": 126,
   "metadata": {},
   "outputs": [
    {
     "data": {
      "text/plain": [
       "Index(['FinanceEnterpriseGroup', 'Asset', 'Reference1', 'Description',\n",
       "       'Company', 'ItemTotalBaseCost', 'ItemTotalTransactionCost',\n",
       "       'TotalItemsBaseCost', 'PostingBookBasis', 'PostingBookBookValue',\n",
       "       'TotalAccumulatedDepreciation', 'DepreciationToAssetCost',\n",
       "       'AssetBookValue', 'PostingBookValue', 'RemainingDepreciation',\n",
       "       'LTDDepreciationExpense', 'cbiz_index'],\n",
       "      dtype='object')"
      ]
     },
     "execution_count": 126,
     "metadata": {},
     "output_type": "execute_result"
    }
   ],
   "source": [
    "wph_group_2600.columns"
   ]
  },
  {
   "cell_type": "code",
   "execution_count": 127,
   "metadata": {},
   "outputs": [],
   "source": [
    "df_depreciation_calc_2600['aa_index'] = df_depreciation_calc_2600['aa_index'].astype('int')\n",
    "\n",
    "fsm_asset_number_2600 = wph_group_2600[['Asset', 'cbiz_index']]\n",
    "# fsm_asset_number\n",
    "\n",
    "df_depreciation_calc_2600 = df_depreciation_calc_2600.merge(fsm_asset_number_2600, how='left',\n",
    "                                            left_on='aa_index', right_on=\"cbiz_index\")\n",
    "\n",
    "df_depreciation_calc_2600['Asset'] = df_depreciation_calc_2600['Asset'].astype('int')"
   ]
  },
  {
   "cell_type": "code",
   "execution_count": 128,
   "metadata": {},
   "outputs": [
    {
     "data": {
      "text/plain": [
       "Index(['AssetImport', 'M_Descr', 'M_Acq_Date_dt', 'M_Original_Cost',\n",
       "       'B_Life_Y', 'B_Depr_Period', 'B_Depr_Accum', 'NBV', 'Life',\n",
       "       'LifeRemaining', 'Basis', 'InServiceDate_dt', 'Convention',\n",
       "       'LifeToDateDepreciation', 'B_Depr_Proj_Provision', 'full_dep_yr',\n",
       "       'full_dep_yr_2', 'dep_exp_2020', 'dep_exp_2021', 'depr_ytd_oct',\n",
       "       'aa_index', 'Asset', 'cbiz_index'],\n",
       "      dtype='object')"
      ]
     },
     "execution_count": 128,
     "metadata": {},
     "output_type": "execute_result"
    }
   ],
   "source": [
    "df_depreciation_calc_2600.columns"
   ]
  },
  {
   "cell_type": "code",
   "execution_count": 129,
   "metadata": {},
   "outputs": [],
   "source": [
    "df_depreciation_calc_2600 = df_depreciation_calc_2600[['AssetImport', 'Asset','M_Descr', 'M_Acq_Date_dt',\n",
    "       'M_Original_Cost',  'Basis', 'B_Depr_Period', 'B_Depr_Accum', 'LifeToDateDepreciation',\n",
    "       'NBV', 'Life','full_dep_yr_2', 'LifeRemaining', 'dep_exp_2020', 'dep_exp_2021', 'depr_ytd_oct',  ]]\n",
    "\n",
    "df_depreciation_calc_2600 = df_depreciation_calc_2600.merge(fsm_depreciation, how='left',\n",
    "                                                           left_on='Asset', right_on='Asset')\n",
    "\n",
    "df_depreciation_calc_2600 = df_depreciation_calc_2600[['AssetImport','Asset','M_Descr', 'M_Acq_Date_dt',\n",
    "       'M_Original_Cost',  'Basis', 'B_Depr_Period', 'B_Depr_Accum', 'LifeToDateDepreciation',\n",
    "       'NBV', 'Life','full_dep_yr_2', 'LifeRemaining', 'dep_exp_2020', 'dep_exp_2021', 'depr_ytd_oct', 'CurrentPeriodDepreciation'  ]]"
   ]
  },
  {
   "cell_type": "code",
   "execution_count": 130,
   "metadata": {},
   "outputs": [
    {
     "data": {
      "text/html": [
       "<div>\n",
       "<style scoped>\n",
       "    .dataframe tbody tr th:only-of-type {\n",
       "        vertical-align: middle;\n",
       "    }\n",
       "\n",
       "    .dataframe tbody tr th {\n",
       "        vertical-align: top;\n",
       "    }\n",
       "\n",
       "    .dataframe thead th {\n",
       "        text-align: right;\n",
       "    }\n",
       "</style>\n",
       "<table border=\"1\" class=\"dataframe\">\n",
       "  <thead>\n",
       "    <tr style=\"text-align: right;\">\n",
       "      <th></th>\n",
       "      <th>AssetImport</th>\n",
       "      <th>Asset</th>\n",
       "      <th>M_Descr</th>\n",
       "      <th>M_Acq_Date_dt</th>\n",
       "      <th>M_Original_Cost</th>\n",
       "      <th>Basis</th>\n",
       "      <th>B_Depr_Period</th>\n",
       "      <th>B_Depr_Accum</th>\n",
       "      <th>LifeToDateDepreciation</th>\n",
       "      <th>NBV</th>\n",
       "      <th>Life</th>\n",
       "      <th>full_dep_yr_2</th>\n",
       "      <th>LifeRemaining</th>\n",
       "      <th>dep_exp_2020</th>\n",
       "      <th>dep_exp_2021</th>\n",
       "      <th>depr_ytd_oct</th>\n",
       "      <th>CurrentPeriodDepreciation</th>\n",
       "    </tr>\n",
       "  </thead>\n",
       "  <tbody>\n",
       "    <tr>\n",
       "      <th>11664</th>\n",
       "      <td>WPH_11910</td>\n",
       "      <td>98329</td>\n",
       "      <td>BUILDING ADDITION/AUTOCLA</td>\n",
       "      <td>1992-01-01</td>\n",
       "      <td>$373,372.67</td>\n",
       "      <td>$373,372.67</td>\n",
       "      <td>$12,463.62</td>\n",
       "      <td>$354,677.25</td>\n",
       "      <td>$354,677.25</td>\n",
       "      <td>$18,695.42</td>\n",
       "      <td>$360.00</td>\n",
       "      <td>2022-01-01</td>\n",
       "      <td>12</td>\n",
       "      <td>$12,445.76</td>\n",
       "      <td>$12,445.76</td>\n",
       "      <td>$10,371.46</td>\n",
       "      <td>$4,154.54</td>\n",
       "    </tr>\n",
       "    <tr>\n",
       "      <th>16654</th>\n",
       "      <td>WPH_17150</td>\n",
       "      <td>103901</td>\n",
       "      <td>FLANZER PAVILION</td>\n",
       "      <td>1996-10-01</td>\n",
       "      <td>$9,083,053.14</td>\n",
       "      <td>$9,083,053.14</td>\n",
       "      <td>$227,076.33</td>\n",
       "      <td>$5,506,601.00</td>\n",
       "      <td>$5,506,601.00</td>\n",
       "      <td>$3,576,452.14</td>\n",
       "      <td>$480.00</td>\n",
       "      <td>2036-10-01</td>\n",
       "      <td>189</td>\n",
       "      <td>$227,076.33</td>\n",
       "      <td>$227,076.33</td>\n",
       "      <td>$189,230.27</td>\n",
       "      <td>$76,912.95</td>\n",
       "    </tr>\n",
       "    <tr>\n",
       "      <th>16655</th>\n",
       "      <td>WPH_17151</td>\n",
       "      <td>103902</td>\n",
       "      <td>ADDITIONAL COST FLANZER</td>\n",
       "      <td>1997-01-01</td>\n",
       "      <td>$1,065,443.96</td>\n",
       "      <td>$1,065,443.96</td>\n",
       "      <td>$27,319.08</td>\n",
       "      <td>$641,998.30</td>\n",
       "      <td>$641,998.30</td>\n",
       "      <td>$423,445.66</td>\n",
       "      <td>$468.00</td>\n",
       "      <td>2036-01-01</td>\n",
       "      <td>180</td>\n",
       "      <td>$27,319.08</td>\n",
       "      <td>$27,319.08</td>\n",
       "      <td>$22,765.90</td>\n",
       "      <td>$9,106.36</td>\n",
       "    </tr>\n",
       "    <tr>\n",
       "      <th>16692</th>\n",
       "      <td>WPH_17188</td>\n",
       "      <td>103942</td>\n",
       "      <td>LOADING/RECEIVING/LAUNDRY</td>\n",
       "      <td>1996-01-01</td>\n",
       "      <td>$512,420.00</td>\n",
       "      <td>$512,420.00</td>\n",
       "      <td>$12,810.50</td>\n",
       "      <td>$310,654.63</td>\n",
       "      <td>$310,654.63</td>\n",
       "      <td>$201,765.37</td>\n",
       "      <td>$480.00</td>\n",
       "      <td>2036-01-01</td>\n",
       "      <td>180</td>\n",
       "      <td>$12,810.50</td>\n",
       "      <td>$12,810.50</td>\n",
       "      <td>$10,675.42</td>\n",
       "      <td>$4,339.04</td>\n",
       "    </tr>\n",
       "    <tr>\n",
       "      <th>17573</th>\n",
       "      <td>WPH_18089</td>\n",
       "      <td>104923</td>\n",
       "      <td>STANDPIPE</td>\n",
       "      <td>1997-01-01</td>\n",
       "      <td>$110,021.69</td>\n",
       "      <td>$110,021.69</td>\n",
       "      <td>$4,400.86</td>\n",
       "      <td>$103,420.39</td>\n",
       "      <td>$103,420.39</td>\n",
       "      <td>$6,601.30</td>\n",
       "      <td>$300.00</td>\n",
       "      <td>2022-01-01</td>\n",
       "      <td>12</td>\n",
       "      <td>$4,400.87</td>\n",
       "      <td>$4,400.87</td>\n",
       "      <td>$3,667.39</td>\n",
       "      <td>$1,466.96</td>\n",
       "    </tr>\n",
       "    <tr>\n",
       "      <th>...</th>\n",
       "      <td>...</td>\n",
       "      <td>...</td>\n",
       "      <td>...</td>\n",
       "      <td>...</td>\n",
       "      <td>...</td>\n",
       "      <td>...</td>\n",
       "      <td>...</td>\n",
       "      <td>...</td>\n",
       "      <td>...</td>\n",
       "      <td>...</td>\n",
       "      <td>...</td>\n",
       "      <td>...</td>\n",
       "      <td>...</td>\n",
       "      <td>...</td>\n",
       "      <td>...</td>\n",
       "      <td>...</td>\n",
       "      <td>...</td>\n",
       "    </tr>\n",
       "    <tr>\n",
       "      <th>39222</th>\n",
       "      <td>WPH_40253</td>\n",
       "      <td>129032</td>\n",
       "      <td>WINDOWS OS 2008 UPGRADE</td>\n",
       "      <td>2019-06-30</td>\n",
       "      <td>$12,600.00</td>\n",
       "      <td>$12,600.00</td>\n",
       "      <td>$2,100.00</td>\n",
       "      <td>$2,100.00</td>\n",
       "      <td>$2,100.00</td>\n",
       "      <td>$10,500.00</td>\n",
       "      <td>$36.00</td>\n",
       "      <td>2022-06-30</td>\n",
       "      <td>18</td>\n",
       "      <td>$4,200.00</td>\n",
       "      <td>$4,200.00</td>\n",
       "      <td>$3,500.00</td>\n",
       "      <td>$2,333.33</td>\n",
       "    </tr>\n",
       "    <tr>\n",
       "      <th>39223</th>\n",
       "      <td>WPH_40254</td>\n",
       "      <td>129033</td>\n",
       "      <td>WINDOWS OS 2008 UPGRADE</td>\n",
       "      <td>2019-06-30</td>\n",
       "      <td>$12,600.00</td>\n",
       "      <td>$12,600.00</td>\n",
       "      <td>$2,100.00</td>\n",
       "      <td>$2,100.00</td>\n",
       "      <td>$2,100.00</td>\n",
       "      <td>$10,500.00</td>\n",
       "      <td>$36.00</td>\n",
       "      <td>2022-06-30</td>\n",
       "      <td>18</td>\n",
       "      <td>$4,200.00</td>\n",
       "      <td>$4,200.00</td>\n",
       "      <td>$3,500.00</td>\n",
       "      <td>$2,333.33</td>\n",
       "    </tr>\n",
       "    <tr>\n",
       "      <th>39224</th>\n",
       "      <td>WPH_40255</td>\n",
       "      <td>129034</td>\n",
       "      <td>CHANGED REMOTE DEPLOY MGR TO ONSITE</td>\n",
       "      <td>2020-02-29</td>\n",
       "      <td>$24,531.50</td>\n",
       "      <td>$24,531.50</td>\n",
       "      <td>$4,088.58</td>\n",
       "      <td>$4,088.58</td>\n",
       "      <td>$4,088.58</td>\n",
       "      <td>$20,442.92</td>\n",
       "      <td>$36.00</td>\n",
       "      <td>2023-02-28</td>\n",
       "      <td>26</td>\n",
       "      <td>$4,088.58</td>\n",
       "      <td>$8,177.17</td>\n",
       "      <td>$6,814.31</td>\n",
       "      <td>$2,725.72</td>\n",
       "    </tr>\n",
       "    <tr>\n",
       "      <th>39225</th>\n",
       "      <td>WPH_40256</td>\n",
       "      <td>129035</td>\n",
       "      <td>HEALTHCARE TRUST WESTCHESTER - LEASEHOLD</td>\n",
       "      <td>2020-07-01</td>\n",
       "      <td>$788,000.00</td>\n",
       "      <td>$788,000.00</td>\n",
       "      <td>$26,266.67</td>\n",
       "      <td>$26,266.67</td>\n",
       "      <td>$26,266.67</td>\n",
       "      <td>$761,733.33</td>\n",
       "      <td>$180.00</td>\n",
       "      <td>2035-07-01</td>\n",
       "      <td>174</td>\n",
       "      <td>$26,266.67</td>\n",
       "      <td>$52,533.33</td>\n",
       "      <td>$43,777.78</td>\n",
       "      <td>$17,511.11</td>\n",
       "    </tr>\n",
       "    <tr>\n",
       "      <th>39226</th>\n",
       "      <td>WPH_40257</td>\n",
       "      <td>129036</td>\n",
       "      <td>244 WA AGREEMENT - LAND IMPROVEMENT</td>\n",
       "      <td>2020-03-31</td>\n",
       "      <td>$650,000.00</td>\n",
       "      <td>$650,000.00</td>\n",
       "      <td>$32,500.00</td>\n",
       "      <td>$32,500.00</td>\n",
       "      <td>$32,500.00</td>\n",
       "      <td>$617,500.00</td>\n",
       "      <td>$120.00</td>\n",
       "      <td>2030-03-31</td>\n",
       "      <td>111</td>\n",
       "      <td>$32,500.00</td>\n",
       "      <td>$65,000.00</td>\n",
       "      <td>$54,166.67</td>\n",
       "      <td>$21,666.67</td>\n",
       "    </tr>\n",
       "  </tbody>\n",
       "</table>\n",
       "<p>2073 rows × 17 columns</p>\n",
       "</div>"
      ],
      "text/plain": [
       "      AssetImport   Asset                                   M_Descr M_Acq_Date_dt  M_Original_Cost         Basis  B_Depr_Period  B_Depr_Accum  LifeToDateDepreciation           NBV    Life full_dep_yr_2  LifeRemaining  dep_exp_2020  dep_exp_2021  depr_ytd_oct  CurrentPeriodDepreciation\n",
       "11664   WPH_11910   98329                 BUILDING ADDITION/AUTOCLA    1992-01-01      $373,372.67   $373,372.67     $12,463.62   $354,677.25             $354,677.25    $18,695.42 $360.00    2022-01-01             12    $12,445.76    $12,445.76    $10,371.46                  $4,154.54\n",
       "16654   WPH_17150  103901                          FLANZER PAVILION    1996-10-01    $9,083,053.14 $9,083,053.14    $227,076.33 $5,506,601.00           $5,506,601.00 $3,576,452.14 $480.00    2036-10-01            189   $227,076.33   $227,076.33   $189,230.27                 $76,912.95\n",
       "16655   WPH_17151  103902                   ADDITIONAL COST FLANZER    1997-01-01    $1,065,443.96 $1,065,443.96     $27,319.08   $641,998.30             $641,998.30   $423,445.66 $468.00    2036-01-01            180    $27,319.08    $27,319.08    $22,765.90                  $9,106.36\n",
       "16692   WPH_17188  103942                 LOADING/RECEIVING/LAUNDRY    1996-01-01      $512,420.00   $512,420.00     $12,810.50   $310,654.63             $310,654.63   $201,765.37 $480.00    2036-01-01            180    $12,810.50    $12,810.50    $10,675.42                  $4,339.04\n",
       "17573   WPH_18089  104923                                 STANDPIPE    1997-01-01      $110,021.69   $110,021.69      $4,400.86   $103,420.39             $103,420.39     $6,601.30 $300.00    2022-01-01             12     $4,400.87     $4,400.87     $3,667.39                  $1,466.96\n",
       "...           ...     ...                                       ...           ...              ...           ...            ...           ...                     ...           ...     ...           ...            ...           ...           ...           ...                        ...\n",
       "39222   WPH_40253  129032                   WINDOWS OS 2008 UPGRADE    2019-06-30       $12,600.00    $12,600.00      $2,100.00     $2,100.00               $2,100.00    $10,500.00  $36.00    2022-06-30             18     $4,200.00     $4,200.00     $3,500.00                  $2,333.33\n",
       "39223   WPH_40254  129033                   WINDOWS OS 2008 UPGRADE    2019-06-30       $12,600.00    $12,600.00      $2,100.00     $2,100.00               $2,100.00    $10,500.00  $36.00    2022-06-30             18     $4,200.00     $4,200.00     $3,500.00                  $2,333.33\n",
       "39224   WPH_40255  129034       CHANGED REMOTE DEPLOY MGR TO ONSITE    2020-02-29       $24,531.50    $24,531.50      $4,088.58     $4,088.58               $4,088.58    $20,442.92  $36.00    2023-02-28             26     $4,088.58     $8,177.17     $6,814.31                  $2,725.72\n",
       "39225   WPH_40256  129035  HEALTHCARE TRUST WESTCHESTER - LEASEHOLD    2020-07-01      $788,000.00   $788,000.00     $26,266.67    $26,266.67              $26,266.67   $761,733.33 $180.00    2035-07-01            174    $26,266.67    $52,533.33    $43,777.78                 $17,511.11\n",
       "39226   WPH_40257  129036       244 WA AGREEMENT - LAND IMPROVEMENT    2020-03-31      $650,000.00   $650,000.00     $32,500.00    $32,500.00              $32,500.00   $617,500.00 $120.00    2030-03-31            111    $32,500.00    $65,000.00    $54,166.67                 $21,666.67\n",
       "\n",
       "[2073 rows x 17 columns]"
      ]
     },
     "execution_count": 130,
     "metadata": {},
     "output_type": "execute_result"
    }
   ],
   "source": [
    "df_depreciation_calc_2600[df_depreciation_calc_2600['CurrentPeriodDepreciation']>1000]"
   ]
  },
  {
   "cell_type": "code",
   "execution_count": 131,
   "metadata": {},
   "outputs": [],
   "source": [
    "df_depreciation_calc_2600.to_csv(r'C:\\Users\\mikra\\OneDrive\\Documents\\Work\\conversion\\SIT3\\november_AX2\\fixed_assets\\wph\\output_2600\\sit3_wph_2600_depreciation.csv', index=False)"
   ]
  },
  {
   "cell_type": "code",
   "execution_count": null,
   "metadata": {},
   "outputs": [],
   "source": []
  }
 ],
 "metadata": {
  "kernelspec": {
   "display_name": "Python 3",
   "language": "python",
   "name": "python3"
  },
  "language_info": {
   "codemirror_mode": {
    "name": "ipython",
    "version": 3
   },
   "file_extension": ".py",
   "mimetype": "text/x-python",
   "name": "python",
   "nbconvert_exporter": "python",
   "pygments_lexer": "ipython3",
   "version": "3.8.8"
  }
 },
 "nbformat": 4,
 "nbformat_minor": 4
}
